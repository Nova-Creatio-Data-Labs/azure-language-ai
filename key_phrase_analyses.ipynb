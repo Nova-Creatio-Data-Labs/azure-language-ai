{
 "cells": [
  {
   "cell_type": "markdown",
   "metadata": {},
   "source": [
    "## Identify the Most Commonly Used Key Phrases \n",
    "After key phrases are identified in a book of the Bible using *bible_key_phrase_extractor.ipynb*, this file analyzes the key phrases outputs. \n",
    "\n",
    "I will now scan the entire list of key phrases to find what is most commonly used across the entire document. "
   ]
  },
  {
   "cell_type": "code",
   "execution_count": 1,
   "metadata": {},
   "outputs": [
    {
     "data": {
      "text/plain": [
       "<module 'ts_functions' from 'c:\\\\Users\\\\14154\\\\OneDrive\\\\Python\\\\_PROJECTS_WO_CLIENTS\\\\azure-language-ai\\\\ts_functions.py'>"
      ]
     },
     "execution_count": 1,
     "metadata": {},
     "output_type": "execute_result"
    }
   ],
   "source": [
    "import json\n",
    "\n",
    "import ts_functions as ts\n",
    "\n",
    "import importlib\n",
    "importlib.reload(ts)\n"
   ]
  },
  {
   "cell_type": "code",
   "execution_count": 55,
   "metadata": {},
   "outputs": [],
   "source": [
    "\n",
    "# Define a function to count the number of key phrases in a given text.\n",
    "# It reads one of the JSON files and then outputs a dictionary whose keys are the key phrases and whose values are the number of times that key phrase appears in the text.\n",
    "# Drop, is > -1, means it just takes the most common phrases.  For example, if drop = 10, it will only return the 10 most common phrases.\n",
    "def count_key_phrases(filename, drop = -1):\n",
    "    \n",
    "    # Read the JSON file using the JSON library at datasets/key_phrases_results/filename and store it in kp_dict\n",
    "    with open('datasets/key_phrases_results/' + filename) as f:\n",
    "        kp_dict = json.load(f)\n",
    "\n",
    "    \n",
    "    # First, combine all the values from key_phrases_output_dict into a single list.\n",
    "    # This is a list of lists.\n",
    "    # Then flatten this.\n",
    "    list_of_lists = list(kp_dict.values())\n",
    "    list_of_lists = [item for sublist in list_of_lists for item in sublist]\n",
    "\n",
    "    # Now count the total number of time each phrase appears in list_of_lists\n",
    "    key_phrase_counts = {i:list_of_lists.count(i) for i in list_of_lists}\n",
    "\n",
    "    # Then sort numerically from highest to lowest by the values.\n",
    "    key_phrase_counts = {k: v for k, v in sorted(key_phrase_counts.items(), key=lambda item: item[1], reverse = True)}\n",
    "\n",
    "    \n",
    "\n",
    "    if drop >-1:\n",
    "        # Select only the first drop elements of the dictionary\n",
    "        key_phrase_counts = dict(list(key_phrase_counts.items())[0:drop])\n",
    "\n",
    "    return key_phrase_counts\n",
    "\n",
    "\n",
    "# This functions compares two dictionaries (or lists) of key phrases and returns a list of the shared key phrases.\n",
    "# The input to this function must be int he format of the output of count_key_phrases.\n",
    "def shared_words(phrases_dict1,phrases_dict2):\n",
    "    \n",
    "    # If lists are passed, there's no change..\n",
    "    if type(phrases_dict1) == list:\n",
    "        list1 = phrases_dict1\n",
    "    if type(phrases_dict2) == list:\n",
    "        list2 = phrases_dict2\n",
    "        \n",
    "    # If dictionaries are paast, extract keys.\n",
    "    if type(phrases_dict1) == dict:\n",
    "        list1 = list(phrases_dict1.keys())\n",
    "    if type(phrases_dict2) == dict:\n",
    "        list2 = list(phrases_dict2.keys())\n",
    "\n",
    "    shared_words = []\n",
    "    for key_phrase in list1:\n",
    "        if key_phrase in list2:\n",
    "            shared_words.append(key_phrase) \n",
    "\n",
    "    return shared_words"
   ]
  },
  {
   "cell_type": "code",
   "execution_count": 56,
   "metadata": {},
   "outputs": [
    {
     "name": "stdout",
     "output_type": "stream",
     "text": [
      "There were 30 key phrases found in Isiah: {'earth': 33, 'Israel': 31, 'Lord': 30, 'people': 29, 'hosts': 28, 'glory': 28, 'God': 27, 'name': 27, 'face': 26, 'hand': 25, 'house': 23, 'heart': 23, 'Zion': 22, 'land': 21, 'eyes': 21, 'nations': 21, 'day': 21, 'Jerusalem': 20, 'judgment': 20, 'strength': 20, 'justice': 20, 'place': 19, 'mouth': 18, 'voice': 18, 'waters': 18, 'Judah': 17, 'sea': 17, 'iniquity': 16, 'The Lord': 16, 'praise': 16}\n",
      "There were 30 key phrases found in John: {'Jesus': 16, 'things': 15, 'world': 15, 'God': 14, 'Jews': 13, 'Lord': 12, 'disciples': 12, 'testimony': 11, 'Father': 11, 'name': 10, 'truth': 10, 'one': 9, 'place': 9, 'word': 9, 'glory': 8, 'Pharisees': 8, 'hour': 8, 'judgment': 8, 'Son': 8, 'man': 7, 'law': 7, 'Jerusalem': 7, 'Galilee': 7, 'will': 6, 'Moses': 6, 'Passover': 6, 'eternal life': 6, 'Amen': 6, 'works': 6, 'Christ': 6}\n",
      "There were 30 key phrases found in Matthew: {'Lord': 23, 'Jesus': 21, 'kingdom': 17, 'heaven': 16, 'God': 15, 'disciples': 14, 'way': 13, 'order': 12, 'scribes': 11, 'things': 10, 'name': 10, 'response': 10, 'Pharisees': 10, 'sea': 10, 'crowds': 10, 'earth': 10, 'house': 10, 'people': 9, 'time': 9, 'Galilee': 9, 'word': 9, 'faith': 9, 'Jerusalem': 8, 'city': 8, 'Son': 8, 'mouth': 8, 'heart': 8, 'Father': 8, 'hour': 8, 'wife': 7}\n",
      "There were 30 key phrases found in Matthew: {'God': 20, 'house': 16, 'Jesus': 15, 'things': 14, 'kingdom': 14, 'heaven': 13, 'city': 12, 'Jerusalem': 12, 'Lord': 12, 'disciples': 12, 'people': 10, 'response': 10, 'Pharisees': 10, 'word': 9, 'days': 9, 'name': 9, 'Galilee': 9, 'everyone': 9, 'way': 9, 'wife': 8, 'sight': 8, 'time': 8, 'order': 8, 'Son': 8, 'hands': 8, 'place': 8, 'life': 8, 'Judea': 7, 'temple': 7, 'power': 7}\n",
      "There were 30 key phrases found in Matthew: {'disciples': 12, 'God': 11, 'house': 11, 'Jesus': 11, 'kingdom': 10, 'scribes': 10, 'John': 9, 'James': 9, 'word': 9, 'Galilee': 8, 'name': 8, 'Peter': 8, 'Lord': 7, 'father': 7, 'mother': 7, 'way': 7, 'sea': 7, 'people': 7, 'authority': 6, 'things': 6, 'Pharisees': 6, 'order': 6, 'others': 6, 'everything': 6, 'response': 6, 'heaven': 6, 'Gospel': 5, 'sins': 5, 'Jerusalem': 5, 'Simon': 5}\n"
     ]
    }
   ],
   "source": [
    "Isaiah_key_phrase_count = count_key_phrases('OT-27_Isaiah_key_phrases.json',30)\n",
    "John_key_phrase_count = count_key_phrases('NT-04_John_key_phrases.json',30)\n",
    "Matthew_key_phrase_count = count_key_phrases('NT-01_Matthewkey_phrases.json',30)\n",
    "Lk_key_phrase_count = count_key_phrases('NT-03_Lukekey_phrases.json',30)\n",
    "Mk_key_phrase_count = count_key_phrases('NT-02_Mark.key_phrases.json',30)\n",
    "print(f\"There were {len(Isaiah_key_phrase_count)} key phrases found in Isiah: {Isaiah_key_phrase_count}\")\n",
    "print(f\"There were {len(John_key_phrase_count)} key phrases found in John: {John_key_phrase_count}\")\n",
    "print(f\"There were {len(Matthew_key_phrase_count)} key phrases found in Matthew: {Matthew_key_phrase_count}\")\n",
    "print(f\"There were {len(Lk_key_phrase_count)} key phrases found in Matthew: {Lk_key_phrase_count}\")\n",
    "print(f\"There were {len(Mk_key_phrase_count)} key phrases found in Matthew: {Mk_key_phrase_count}\")"
   ]
  },
  {
   "cell_type": "code",
   "execution_count": 59,
   "metadata": {},
   "outputs": [
    {
     "name": "stdout",
     "output_type": "stream",
     "text": [
      "['Lord', 'Jesus', 'God', 'disciples', 'things', 'name', 'Pharisees', 'Galilee', 'word', 'Jerusalem']\n"
     ]
    }
   ],
   "source": [
    "\n",
    "shared_gospels =  shared_words(Matthew_key_phrase_count,Mk_key_phrase_count)\n",
    "shared_gospels =  shared_words(shared_gospels,Lk_key_phrase_count)\n",
    "shared_gospels =  shared_words(shared_gospels,John_key_phrase_count)\n",
    "print(shared_gospels)"
   ]
  }
 ],
 "metadata": {
  "kernelspec": {
   "display_name": ".vev",
   "language": "python",
   "name": "python3"
  },
  "language_info": {
   "codemirror_mode": {
    "name": "ipython",
    "version": 3
   },
   "file_extension": ".py",
   "mimetype": "text/x-python",
   "name": "python",
   "nbconvert_exporter": "python",
   "pygments_lexer": "ipython3",
   "version": "3.9.13"
  }
 },
 "nbformat": 4,
 "nbformat_minor": 2
}
