{
 "cells": [
  {
   "cell_type": "markdown",
   "metadata": {},
   "source": [
    "## Identify the Key Phrases Most Often Shared between all Four Gospels\n",
    "My goal of this exercise will be to identify the key phrases shared by all the Gospels (Matthew, Mark, Luke, John),and then see how frequently they appear in each book. \n",
    "\n",
    "### Reading In Already-Identified Key Phrases from *bible_key_phrase_extractor.ipynb* Outputs\n",
    "The Jupyter notebook *bible_key_phrase_extractor.ipynb* contains the scripts to make the key phrase extraction using the MS Azure AI Language API. These scripts receive as input the filename of a Bible file (according to the Catholic Public Digitial Version https://bitbucket.org/sbruno/cpdv-json-encoder/src/master/), and then output JSON files into datasets/key_phrases_results summarizing the key phrases in each book, along with their frequency. \n",
    "\n",
    "In short, the key phrase identification work should already be done by the time you reach this Jupyter notebook; all you need to do is analyze the outputs. \n",
    "\n",
    "## Key Phrase Analyses\n",
    "The analyses begins here. First import libraries. "
   ]
  },
  {
   "cell_type": "code",
   "execution_count": 1,
   "metadata": {},
   "outputs": [],
   "source": [
    "# Import libraries\n",
    "\n",
    "import json\n",
    "import pandas as pd\n",
    "import plotly.express as px\n",
    "\n"
   ]
  },
  {
   "cell_type": "markdown",
   "metadata": {},
   "source": [
    "### Function Definitions\n",
    "Define functions to count the frequency of key phrases across an entire book. This assumes that you already have the key phrase extraction completed, with outputs saved into datasets/key_phrases_results\n",
    "\n"
   ]
  },
  {
   "cell_type": "code",
   "execution_count": 2,
   "metadata": {},
   "outputs": [],
   "source": [
    "# Define a function to count the number of key phrases in a given text.\n",
    "# It reads one of the JSON files in datasets/key_phrases_results and then outputs a dictionary whose keys are the key phrases and whose values are the number of times that key phrase appears in the text.\n",
    "# Drop, is > -1, means it just takes the most common phrases.  For example, if drop = 10, it will only return the 10 most common phrases.\n",
    "def count_key_phrases(filename, drop = -1):\n",
    "    \n",
    "    # Read the JSON file using the JSON library at datasets/key_phrases_results/filename and store it in kp_dict\n",
    "    \n",
    "    with open('datasets/key_phrases_results/' + filename) as f:\n",
    "        kp_dict = json.load(f)\n",
    "    \n",
    "    # First, combine all the values from key_phrases_output_dict into a single list.\n",
    "    # This is a list of lists.\n",
    "    # Then flatten this.\n",
    "    \n",
    "    list_of_lists = list(kp_dict.values())\n",
    "    list_of_lists = [item for sublist in list_of_lists for item in sublist]\n",
    "\n",
    "    # Now count the total number of time each phrase appears in list_of_lists\n",
    "    \n",
    "    key_phrase_counts = {i:list_of_lists.count(i) for i in list_of_lists}\n",
    "\n",
    "    # Then sort numerically from highest to lowest by the values.\n",
    "    \n",
    "    key_phrase_counts = {k: v for k, v in sorted(key_phrase_counts.items(), key=lambda item: item[1], reverse = True)}\n",
    "\n",
    "    # Select only the first drop elements of the dictionary\n",
    "    \n",
    "    if drop >-1:\n",
    "        key_phrase_counts = dict(list(key_phrase_counts.items())[0:drop])\n",
    "\n",
    "    return key_phrase_counts\n",
    "\n",
    "\n",
    "# This functions compares two dictionaries (or lists) of key phrases and returns a list of the shared key phrases.\n",
    "# The input to this function must be in either 1) the format of the output of count_key_phrases (a dictionary), or 2) a list containing key phrases.\n",
    "\n",
    "def shared_words(phrases_dict1,phrases_dict2):\n",
    "    \n",
    "    # If lists are passed, there's no change.\n",
    "\n",
    "    if type(phrases_dict1) == list:\n",
    "        list1 = phrases_dict1\n",
    "    if type(phrases_dict2) == list:\n",
    "        list2 = phrases_dict2\n",
    "        \n",
    "    # If dictionaries are passed, extract keys, which are the key phrases.\n",
    "        \n",
    "    if type(phrases_dict1) == dict:\n",
    "        list1 = list(phrases_dict1.keys())\n",
    "    if type(phrases_dict2) == dict:\n",
    "        list2 = list(phrases_dict2.keys())\n",
    "\n",
    "    # Build the mutual list by reviewing list 1 and only accepting entries which appear in list 2.\n",
    "        \n",
    "    shared_words = []\n",
    "    for key_phrase in list1:\n",
    "        if key_phrase in list2:\n",
    "            shared_words.append(key_phrase) \n",
    "\n",
    "    return shared_words"
   ]
  },
  {
   "cell_type": "code",
   "execution_count": 3,
   "metadata": {},
   "outputs": [
    {
     "name": "stdout",
     "output_type": "stream",
     "text": [
      "There were 551 key phrases found in John: {'Jesus': 16, 'things': 15, 'world': 15, 'God': 14, 'Jews': 13, 'Lord': 12, 'disciples': 12, 'testimony': 11, 'Father': 11, 'name': 10, 'truth': 10, 'one': 9, 'place': 9, 'word': 9, 'glory': 8, 'Pharisees': 8, 'hour': 8, 'judgment': 8, 'Son': 8, 'man': 7, 'law': 7, 'Jerusalem': 7, 'Galilee': 7, 'will': 6, 'Moses': 6, 'Passover': 6, 'eternal life': 6, 'Amen': 6, 'works': 6, 'Christ': 6, 'feast day': 6, 'eyes': 6, 'death': 6, 'Simon Peter': 5, 'darkness': 5, 'John': 5, 'voice': 5, 'way': 5, 'water': 5, 'signs': 5, 'temple': 5, 'house': 5, 'beginning': 4, 'men': 4, 'flesh': 4, 'sin': 4, 'heaven': 4, 'Philip': 4, 'Joseph': 4, 'mother': 4, 'something': 4, 'night': 4, 'Judea': 4, 'joy': 4, 'everything': 4, 'eternity': 4, 'Prophet': 4, 'spirit': 4, 'Sabbath': 4, 'high priests': 4, 'Scripture': 4, 'heart': 4, 'next day': 3, 'Holy Spirit': 3, 'Life': 3, 'desert': 3, 'Bethania': 3, 'reason': 3, 'Israel': 3, 'Rabbi': 3, 'Andrew': 3, 'brother': 3, 'city': 3, 'Cana': 3, 'woman': 3, 'brothers': 3, 'order': 3, 'land': 3, 'friend': 3, 'words': 3, 'food': 3, 'fruit': 3, 'great multitude': 3, 'crowd': 3, 'authority': 3, 'love': 3, 'attendants': 3, 'chest': 3, 'Spirit': 3, 'morning': 3, 'people': 3, 'earth': 3, 'life': 3, 'everyone': 3, 'day': 3, 'ground': 3, 'synagogue': 3, 'feet': 3, 'Thomas': 3, 'hands': 3, 'king': 3, 'prince': 3, 'kind': 3, 'Advocate': 3, 'prophet Isaiah': 2, 'Jesus Christ': 2, 'witness': 2, 'sons': 2, 'blood': 2, 'fullness': 2, 'bosom': 2, 'priests': 2, 'Jordan': 2, 'Teacher': 2, 'Messiah': 2, 'Bethsaida': 2, 'Nathanael': 2, 'servants': 2, 'Capernaum': 2, 'sheep': 2, 'Scriptures': 2, 'need': 2, 'Light': 2, 'hand': 2, 'two days': 2, 'sixth hour': 2, 'living water': 2, 'son': 2, 'fathers': 2, 'mountain': 2, 'work': 2, 'Others': 2, 'speech': 2, 'Hebrew': 2, 'dead': 2, 'resurrection': 2, 'evil': 2, 'last day': 2, 'Tiberias': 2, 'thanks': 2, 'brief time': 2, 'secret': 2, 'middle': 2, 'doctrine': 2, 'leaders': 2, 'Gentiles': 2, 'offspring': 2, 'town': 2, 'multitude': 2, 'stone': 2, 'light': 2, 'devil': 2, 'birth': 2, 'others': 2, 'someone': 2, 'Lazarus': 2, 'Mary': 2, 'sister': 2, 'Martha': 2, 'hair': 2, 'sake': 2, 'tomb': 2, 'Judas Iscariot': 2, 'table': 2, 'needy': 2, 'purse': 2, 'head': 2, 'servant': 2, 'bread': 2, 'rooster': 2, 'Judas': 2, 'praetorium': 2, 'Pilate': 2, 'case': 2, 'two others': 2, 'tunic': 2, 'tenth hour': 1, 'fig tree': 1, 'two disciples': 1, 'true Light': 1, 'Word': 1, 'Him': 1, 'power': 1, 'begotten': 1, 'grace': 1, 'Levites': 1, 'answer': 1, 'Elijah': 1, 'midst': 1, 'laces': 1, 'shoes': 1, 'Lamb': 1, 'dove': 1, 'sight': 1, 'translation': 1, 'Jonah': 1, 'Prophets': 1, 'Nazareth': 1, 'deceit': 1, 'six stone water jars': 1, 'purification ritual': 1, 'three measures': 1, 'chief steward': 1, 'many days': 1, 'little cords': 1, 'brass coins': 1, 'three days': 1, 'forty-six years': 1, 'third day': 1, 'good wine': 1, 'wedding': 1, 'two': 1, 'top': 1, 'feast': 1, 'sellers': 1, 'oxen': 1, 'doves': 1, 'moneychangers': 1, 'whip': 1, 'tables': 1, 'commerce': 1, 'Zeal': 1, 'body': 1, 'knowledge': 1, 'persons': 1, 'second time': 1, 'The Father': 1, 'earthly things': 1, 'heavenly things': 1, 'The Spirit': 1, 'begotten Son': 1, 'leader': 1, 'teacher': 1, 'kingdom': 1, 'Nicodemus': 1, 'womb': 1, 'serpent': 1, 'Aenon': 1, 'Salim': 1, 'For': 1, 'prison': 1, 'dispute': 1, 'purification': 1, 'bride': 1, 'groom': 1, 'measure': 1, 'wrath': 1, 'five husbands': 1, 'true worshippers': 1, 'four months': 1, 'water jar': 1, 'Samaritan woman': 1, 'father Jacob': 1, 'Samaria': 1, 'estate': 1, 'journey': 1, 'well': 1, 'Jew': 1, 'drink': 1, 'Samaritans': 1, 'gift': 1, 'request': 1, 'cattle': 1, 'fountain': 1, 'salvation': 1, 'harvest': 1, 'countryside': 1, 'wages': 1, 'labors': 1, 'Savior': 1, 'honor': 1, 'Galileans': 1, 'five porticos': 1, 'thirty-eight years': 1, 'long time': 1, 'shining light': 1, 'greater works': 1, 'greater testimony': 1, 'Pool': 1, 'Evidence': 1, 'Place': 1, 'Mercy': 1, 'lame': 1, 'movement': 1, 'times': 1, 'Angel': 1, 'motion': 1, 'infirmity': 1, 'invalid': 1, 'stretcher': 1, 'bed': 1, 'health': 1, 'grave': 1, 'good': 1, 'burning': 1, 'appearance': 1, 'five barley loaves': 1, 'Two hundred denarii': 1, 'other small boats': 1, 'other boats': 1, 'two fish': 1, 'twelve baskets': 1, 'great wind': 1, 'thirty stadia': 1, 'true bread': 1, 'living bread': 1, 'sea': 1, 'boy': 1, 'grass': 1, 'number': 1, 'evening': 1, 'twenty-five': 1, 'last great day': 1, 'public view': 1, 'The Pharisees': 1, 'One work': 1, 'Tabernacles': 1, 'murmuring': 1, 'fear': 1, 'letters': 1, 'injustice': 1, 'demon': 1, 'circumcision': 1, 'appearances': 1, 'rivers': 1, 'David': 1, 'Bethlehem': 1, 'dissension': 1, 'two men': 1, 'one father': 1, 'Mount': 1, 'Olives': 1, 'scribes': 1, 'adultery': 1, 'front': 1, 'finger': 1, 'judge': 1, 'treasury': 1, 'Beginning': 1, 'Abraham': 1, 'slave': 1, 'hold': 1, 'fornication': 1, 'desires': 1, 'murderer': 1, 'lie': 1, 'self': 1, 'liar': 1, 'Whic': 1, 'ancient times': 1, 'sinful man': 1, 'blind man': 1, 'One thing': 1, 'parents': 1, 'clay': 1, 'spittle': 1, 'pool': 1, 'Siloam': 1, 'bystanders': 1, 'beggar': 1, 'schism': 1, 'sinner': 1, 'wonder': 1, 'worshipper': 1, 'sins': 1, 'twelve hours': 1, 'four days': 1, 'fifteen stadia': 1, 'The Teacher': 1, 'loud voice': 1, 'winding bands': 1, 'separate cloth': 1, 'many signs': 1, 'fourth day': 1, 'same place': 1, 'sick man': 1, 'fellow disciples': 1, 'living God': 1, 'ointment': 1, 'sickness': 1, 'daylight': 1, 'nighttime': 1, 'sleep': 1, 'repose': 1, 'home': 1, 'weeping': 1, 'cave': 1, 'face': 1, 'council': 1, 'Romans': 1, 'three hundred denarii': 1, 'pure spikenard ointment': 1, 'twelve ounces': 1, 'palm trees': 1, 'An Angel': 1, 'great signs': 1, 'small donkey': 1, 'entire world': 1, 'great crowd': 1, 'dinner': 1, 'fragrance': 1, 'concern': 1, 'thief': 1, 'burial': 1, 'branches': 1, 'daughter': 1, 'Zion': 1, 'colt': 1, 'grain': 1, 'wheat': 1, 'minister': 1, 'soul': 1, 'thunder': 1, 'presence': 1, 'hearing': 1, 'arm': 1, 'shallow bowl': 1, 'Little sons': 1, 'new commandment': 1, 'end': 1, 'meal': 1, 'vestments': 1, 'towel': 1, 'example': 1, 'apostle': 1, 'heel': 1, 'morsel': 1, 'Satan': 1, 'delay': 1, 'brief': 1, 'many dwelling places': 1, 'same works': 1, 'greater things': 1, 'Truth': 1, 'commandments': 1, 'orphans': 1, 'Iscariot': 1, 'Peace': 1, 'length': 1, 'other person': 1, 'true vine': 1, 'greater love': 1, 'vinedresser': 1, 'branch': 1, 'fire': 1, 'precepts': 1, 'friends': 1, 'excuse': 1, 'cause': 1, 'excellent service': 1, 'many things': 1, 'synagogues': 1, 'sorrow': 1, 'justice': 1, 'child': 1, 'difficulties': 1, 'proverbs': 1, 'peace': 1, 'confidence': 1, 'true God': 1, 'perdition': 1, 'founding': 1, 'right ear': 1, 'one man': 1, 'other disciple': 1, 'woman servant': 1, 'Torrent': 1, 'Kidron': 1, 'garden': 1, 'cohort': 1, 'lanterns': 1, 'torches': 1, 'weapons': 1, 'Nazarene': 1, 'Malchus': 1, 'scabbard': 1, 'chalice': 1, 'tribune': 1, 'Annas': 1, 'Caiaphas': 1, 'counsel': 1, 'court': 1, 'entrance': 1, 'doorkeeper': 1, 'coals': 1, 'relative': 1, 'accusation': 1, 'evil-doer': 1, 'nation': 1, 'ministers': 1, 'Everyone': 1, 'custom': 1, 'Therefo': 1, 'purple garment': 1, 'greater sin': 1, 'preparation day': 1, 'four parts': 1, 'one part': 1, 'great day': 1, 'first one': 1, 'Mary Magdalene': 1, 'custody': 1, 'soldiers': 1, 'crown': 1, 'thorns': 1, 'response': 1, 'Caesar': 1, 'seat': 1, 'cross': 1, 'Skull': 1, 'side': 1, 'title': 1, 'NAZARENE': 1, 'Greek': 1, 'Latin': 1, 'garments': 1, 'lots': 1, 'vesture': 1, 'Cleophas': 1, 'disciple': 1, 'container': 1, 'vinegar': 1, 'sponge': 1, 'hyssop': 1, 'mouth': 1, 'bodies': 1, 'legs': 1, 'lance': 1, 'bone': 1, 'Arimathea': 1, 'two hundred cubits': 1, 'many other things': 1, 'right side': 1, 'burning coals': 1, 'third time': 1, 'other disciples': 1, 'same disciple': 1, 'large fish': 1, 'Sea': 1, 'Zebedee': 1, 'ship': 1, 'shore': 1, 'Children': 1, 'net': 1, 'boat': 1, 'Approach': 1, 'dine': 1, 'lambs': 1, 'supper': 1, 'saying': 1, 'books': 1}\n",
      "There were 1016 key phrases found in Matthew: {'Lord': 23, 'Jesus': 21, 'kingdom': 17, 'heaven': 16, 'God': 15, 'disciples': 14, 'way': 13, 'order': 12, 'scribes': 11, 'things': 10, 'name': 10, 'response': 10, 'Pharisees': 10, 'sea': 10, 'crowds': 10, 'earth': 10, 'house': 10, 'people': 9, 'time': 9, 'Galilee': 9, 'word': 9, 'faith': 9, 'Jerusalem': 8, 'city': 8, 'Son': 8, 'mouth': 8, 'heart': 8, 'Father': 8, 'hour': 8, 'wife': 7, 'priests': 7, 'death': 7, 'father': 7, 'world': 7, 'hold': 7, 'Peter': 7, 'Amen': 7, 'children': 7, 'son': 6, 'mother': 6, 'days': 6, 'leaders': 6, 'Israel': 6, 'prophets': 6, 'sons': 6, 'hand': 6, 'man': 6, 'hands': 6, 'John': 6, 'sake': 6, 'law': 6, 'head': 6, 'Teacher': 6, 'elders': 6, 'brothers': 5, 'sins': 5, 'Christ': 5, 'Judea': 5, 'land': 5, 'night': 5, 'desert': 5, 'bread': 5, 'temple': 5, 'synagogues': 5, 'mountain': 5, 'brother': 5, 'Hell': 5, 'woman': 5, 'sheep': 5, 'will': 5, 'day': 5, 'authority': 5, 'Moses': 5, 'boat': 5, 'one': 5, 'blood': 5, 'David': 5, 'demon': 5, 'Angels': 5, 'Holy Spirit': 4, 'Abraham': 4, 'Angel': 4, 'prophet': 4, 'region': 4, 'age': 4, 'voice': 4, 'life': 4, 'prophet Isaiah': 4, 'justice': 4, 'Capernaum': 4, 'Simon': 4, 'Gospel': 4, 'maladies': 4, 'right hand': 4, 'mercy': 4, 'evil': 4, 'men': 4, 'body': 4, 'field': 4, 'feet': 4, 'everyone': 4, 'words': 4, 'table': 4, 'evening': 4, 'daughter': 4, 'pity': 4, 'eyes': 4, 'face': 4, 'women': 4, 'soul': 4, 'fruit': 4, 'morning': 4, 'counsel': 4, 'Isaac': 3, 'Jacob': 3, 'Solomon': 3, 'east': 3, 'Jews': 3, 'place': 3, 'home': 3, 'parts': 3, 'food': 3, 'Jordan': 3, 'Sadducees': 3, 'vipers': 3, 'power': 3, 'water': 3, 'foot': 3, 'glory': 3, 'Satan': 3, 'Gentiles': 3, 'demons': 3, 'light': 3, 'gift': 3, 'something': 3, 'prison': 3, 'neighbor': 3, 'hatred': 3, 'heavenly Father': 3, 'towns': 3, 'eye': 3, 'birds': 3, 'air': 3, 'judgment': 3, 'stone': 3, 'thorns': 3, 'iniquity': 3, 'doctrine': 3, 'outer darkness': 3, 'great crowds': 3, 'testimony': 3, 'soldiers': 3, 'teeth': 3, 'sinners': 3, 'cities': 3, 'multitudes': 3, 'compassion': 3, 'shepherd': 3, 'works': 3, 'reed': 3, 'Baptist': 3, 'Elijah': 3, 'miracles': 3, 'rest': 3, 'three days': 3, 'nations': 3, 'sin': 3, 'abundance': 3, 'many things': 3, 'others': 3, 'sun': 3, 'reason': 3, 'servants': 3, 'family': 3, 'consummation': 3, 'king': 3, 'parable': 3, 'flesh': 3, 'garments': 3, 'someone': 3, 'majesty': 3, 'Mount': 3, 'Olives': 3, 'Judah': 2, 'Joseph': 2, 'Mary': 2, 'womb': 2, 'sleep': 2, 'great joy': 2, 'prophet Jeremiah': 2, 'ruler': 2, 'boy': 2, 'treasures': 2, 'gold': 2, 'John the Baptist': 2, 'beloved Son': 2, 'good fruit': 2, 'garment': 2, 'baptism': 2, 'Progeny': 2, 'repentance': 2, 'stones': 2, 'trees': 2, 'Spirit': 2, 'devil': 2, 'charge': 2, 'Nazareth': 2, 'darkness': 2, 'James': 2, 'Zebedee': 2, 'infirmity': 2, 'spirit': 2, 'persecution': 2, 'reward': 2, 'lamp': 2, 'sight': 2, 'council': 2, 'fires': 2, 'altar': 2, 'adultery': 2, 'bill': 2, 'divorce': 2, 'case': 2, 'fornication': 2, 'throne': 2, 'footstool': 2, 'tunic': 2, 'enemy': 2, 'attention': 2, 'trumpet': 2, 'hypocrites': 2, 'streets': 2, 'door': 2, 'temptation': 2, 'fasting': 2, 'clothing': 2, 'grass': 2, 'good things': 2, 'measure': 2, 'fire': 2, 'rock': 2, 'winds': 2, 'entire city': 2, 'leper': 2, 'servant': 2, 'roof': 2, 'west': 2, 'dead': 2, 'waves': 2, 'kind': 2, 'waters': 2, 'thoughts': 2, 'hearts': 2, 'need': 2, 'sacrifice': 2, 'groom': 2, 'hem': 2, 'girl': 2, 'news': 2, 'prince': 2, 'harvest': 2, 'tax collectors': 2, 'twelve disciples': 2, 'wind': 2, 'houses': 2, 'kings': 2, 'ears': 2, 'generation': 2, 'marketplace': 2, 'wine': 2, 'wisdom': 2, 'Tyre': 2, 'Sidon': 2, 'prudent': 2, 'yoke': 2, 'adulterous generation': 2, 'prophet Jonah': 2, 'Sabbath': 2, 'pit': 2, 'account': 2, 'sign': 2, 'mustard seed': 2, 'parables': 2, 'Isaiah': 2, 'joy': 2, 'grain': 2, 'branches': 2, 'leaven': 2, 'foundation': 2, 'wickedness': 2, 'five thousand men': 2, 'five loaves': 2, 'great multitude': 2, 'midst': 2, 'fragments': 2, 'fear': 2, 'four thousand men': 2, 'seven loaves': 2, 'blind': 2, 'lame': 2, 'thanks': 2, 'third day': 2, 'appearance': 2, 'Church': 2, 'obstacle': 2, 'cross': 2, 'census tax': 2, 'snow': 2, 'vision': 2, 'prayer': 2, 'eternal fire': 2, 'beginning': 2, 'camel': 2, 'resurrection': 2, 'fig tree': 2, 'two sons': 2, 'other servants': 2, 'vendors': 2, 'Bethania': 2, 'leaves': 2, 'meal': 2, 'Master': 2, 'dish': 2, 'vigil': 2, 'money': 2, 'left': 2, 'thirty pieces': 2, 'silver': 2, 'Judas': 2, 'procurator': 2, 'vestment': 2, 'fourteen generations': 1, 'And Abijah': 1, 'And Abiud': 1, 'And Zadok': 1, 'king David': 1, 'Jesus Christ': 1, 'book': 1, 'lineage': 1, 'Perez': 1, 'Zerah': 1, 'Tamar': 1, 'Hezron': 1, 'Ram': 1, 'Amminadab': 1, 'Nahshon': 1, 'Salmon': 1, 'Boaz': 1, 'Rahab': 1, 'Ruth': 1, 'Jesse': 1, 'Uriah': 1, 'Rehoboam': 1, 'Asa': 1, 'Jehoshaphat': 1, 'Uzziah': 1, 'Jotham': 1, 'Ahaz': 1, 'Hezekiah': 1, 'Manasseh': 1, 'Amos': 1, 'Josiah': 1, 'Jechoniah': 1, 'transmigration': 1, 'Babylon': 1, 'Shealtiel': 1, 'Zerubbabel': 1, 'Eliakim': 1, 'Azor': 1, 'Achim': 1, 'Eliud': 1, 'Eleazar': 1, 'Matthan': 1, 'husband': 1, 'procreation': 1, 'birth': 1, 'salvation': 1, 'virgin': 1, 'firstborn': 1, 'two years': 1, 'great weeping': 1, 'king Herod': 1, 'Bethlehem': 1, 'Magi': 1, 'star': 1, 'questions': 1, 'child': 1, 'gifts': 1, 'frankincense': 1, 'myrrh': 1, 'Egypt': 1, 'Ramah': 1, 'Rachel': 1, 'Archelaus': 1, 'leather belt': 1, 'wild honey': 1, 'entire region': 1, 'approaching wrath': 1, 'winnowing fan': 1, 'threshing floor': 1, 'same John': 1, 'unquenchable fire': 1, 'paths': 1, 'hair': 1, 'camels': 1, 'waist': 1, 'locusts': 1, 'axe': 1, 'root': 1, 'shoes': 1, 'wheat': 1, 'barn': 1, 'chaff': 1, 'dove': 1, 'forty days': 1, 'forty nights': 1, 'high mountain': 1, 'two brothers': 1, 'various sicknesses': 1, 'great crowd': 1, 'Ten Cities': 1, 'holy city': 1, 'great light': 1, 'tempter': 1, 'pinnacle': 1, 'angels': 1, 'kingdoms': 1, 'Zebulun': 1, 'Naphtali': 1, 'Land': 1, 'shadow': 1, 'net': 1, 'fishermen': 1, 'fishers': 1, 'ship': 1, 'reports': 1, 'Syria': 1, 'grasp': 1, 'torments': 1, 'paralytics': 1, 'two thousand steps': 1, 'one thousand steps': 1, 'good works': 1, 'one iota': 1, 'one dot': 1, 'last quarter': 1, 'great king': 1, 'one hair': 1, 'right cheek': 1, 'right eye': 1, 'Blessed': 1, 'meek': 1, 'peacemakers': 1, 'kinds': 1, 'salt': 1, 'basket': 1, 'ancients': 1, 'adversary': 1, 'judge': 1, 'officer': 1, 'members': 1, 'oaths': 1, 'tooth': 1, 'cloak': 1, 'left hand': 1, 'life-sustaining bread': 1, 'two masters': 1, 'greater value': 1, 'many words': 1, 'future day': 1, 'entire body': 1, 'one cubit': 1, 'alms': 1, 'secret': 1, 'corners': 1, 'room': 1, 'pagans': 1, 'excess': 1, 'needs': 1, 'debts': 1, 'debtors': 1, 'offenses': 1, 'faces': 1, 'rust': 1, 'moth': 1, 'thieves': 1, 'wealth': 1, 'barns': 1, 'stature': 1, 'lilies': 1, 'oven': 1, 'tomorrow': 1, 'many powerful deeds': 1, 'good gifts': 1, 'ravenous wolves': 1, 'evil fruit': 1, 'good tree': 1, 'evil tree': 1, 'wise man': 1, 'foolish man': 1, 'false prophets': 1, 'narrow gate': 1, 'splinter': 1, 'board': 1, 'Hypocrite': 1, 'dogs': 1, 'pearls': 1, 'swine': 1, 'Seek': 1, 'Knock': 1, 'fish': 1, 'snake': 1, 'perdition': 1, 'fruits': 1, 'grapes': 1, 'figs': 1, 'thistles': 1, 'workers': 1, 'rains': 1, 'floods': 1, 'sand': 1, 'ruin': 1, 'many swine feeding': 1, 'steep place': 1, 'great tempest': 1, 'great tranquility': 1, 'one scribe': 1, 'entire herd': 1, 'O Jesus': 1, 'leprosy': 1, 'priest': 1, 'centurion': 1, 'fever': 1, 'spirits': 1, 'infirmities': 1, 'diseases': 1, 'Foxes': 1, 'dens': 1, 'nests': 1, 'Gerasenes': 1, 'tombs': 1, 'shepherds': 1, 'many tax collectors': 1, 'two blind men': 1, 'tax office': 1, 'new cloth': 1, 'twelve years': 1, 'new wine': 1, 'old wineskins': 1, 'entire land': 1, 'tumultuous crowd': 1, 'old garment': 1, 'mute man': 1, 'paralytic': 1, 'bed': 1, 'Matthew': 1, 'physician': 1, 'patch': 1, 'fullness': 1, 'tear': 1, 'flow': 1, 'musicians': 1, 'illness': 1, 'laborers': 1, 'blind see': 1, 'lame walk': 1, 'soft garments': 1, 'lepers': 1, 'deaf': 1, 'offense': 1, 'violence': 1, 'companions': 1, 'music': 1, 'The': 1, 'friend': 1, 'Chorazin': 1, 'Bethsaida': 1, 'haircloth': 1, 'ashes': 1, 'Sodom': 1, 'little': 1, 'souls': 1, 'burden': 1, 'other one': 1, 'smoking wick': 1, 'three nights': 1, 'The Queen': 1, 'dry places': 1, 'good storehouse': 1, 'evil things': 1, 'evil storehouse': 1, 'ripe grain': 1, 'one sheep': 1, 'future age': 1, 'idle word': 1, 'unclean spirit': 1, 'strong man': 1, 'good man': 1, 'evil man': 1, 'Presence': 1, 'guilt': 1, 'withered': 1, 'health': 1, 'beloved': 1, 'victory': 1, 'Beelzebub': 1, 'judges': 1, 'belongings': 1, 'scatters': 1, 'blasphemy': 1, 'belly': 1, 'whale': 1, 'Nineveh': 1, 'preaching': 1, 'South': 1, 'ends': 1, 'one hundred fold': 1, 'a hundred fold': 1, 'fine wheat flour': 1, 'sixty fold': 1, 'thirty fold': 1, 'entire multitude': 1, 'rocky place': 1, 'three measures': 1, 'good soil': 1, 'good seeds': 1, 'shore': 1, 'sower': 1, 'road': 1, 'much': 1, 'depth': 1, 'roots': 1, 'mysteries': 1, 'prophecy': 1, 'side': 1, 'tribulation': 1, 'cares': 1, 'falseness': 1, 'riches': 1, 'weeds': 1, 'plants': 1, 'reapers': 1, 'bundles': 1, 'tree': 1, 'Ange': 1, 'two fish': 1, 'twelve baskets': 1, 'fourth watch': 1, 'For Herod': 1, 'Tetrarch': 1, 'work': 1, 'Herodias': 1, 'birthday': 1, 'oath': 1, 'platter': 1, 'sick': 1, 'remnants': 1, 'number': 1, 'apparition': 1, 'Genesaret': 1, 'seven full baskets': 1, 'evil thoughts': 1, 'false testimonies': 1, 'many others': 1, 'many loaves': 1, 'coastal region': 1, 'young dogs': 1, 'little fish': 1, 'enough bread': 1, 'tradition': 1, 'commandment': 1, 'Hypocrites': 1, 'lips': 1, 'vain': 1, 'doctrines': 1, 'plant': 1, 'understanding': 1, 'everything': 1, 'gut': 1, 'sewer': 1, 'murders': 1, 'adulteries': 1, 'fornications': 1, 'thefts': 1, 'blasphemies': 1, 'washing': 1, 'areas': 1, 'Canaan': 1, 'crumbs': 1, 'masters': 1, 'mute': 1, 'ground': 1, 'Magadan': 1, 'many containers': 1, 'many baskets': 1, 'Caesarea Philippi': 1, 'living God': 1, 'Simon Peter': 1, 'sky': 1, 'storm': 1, 'times': 1, 'Jeremiah': 1, 'gates': 1, 'keys': 1, 'damage': 1, 'exchange': 1, 'reign': 1, 'six days': 1, 'three tabernacles': 1, 'perverse generation': 1, 'first fish': 1, 'half shekel': 1, 'shining cloud': 1, 'lofty mountain': 1, 'multitude': 1, 'knees': 1, 'epileptic': 1, 'harm': 1, 'unbelieving': 1, 'unbelief': 1, 'tribute': 1, 'foreigners': 1, 'hook': 1, 'ten thousand talents': 1, 'one hundred sheep': 1, 'one hundred denarius': 1, 'great millstone': 1, 'three witnesses': 1, 'tax collector': 1, 'two hands': 1, 'two feet': 1, 'two eyes': 1, 'little child': 1, 'little ones': 1, 'fellow servants': 1, 'one eye': 1, 'entire debt': 1, 'neck': 1, 'depths': 1, 'Woe': 1, 'temptations': 1, 'mountains': 1, 'pagan': 1, 'patience': 1, 'torturers': 1, 'one flesh': 1, 'chaste persons': 1, 'false testimony': 1, 'many possessions': 1, 'twelve seats': 1, 'twelve tribes': 1, 'little children': 1, 'eternal life': 1, 'young man': 1, 'borders': 1, 'cause': 1, 'two': 1, 'wives': 1, 'hardness': 1, 'childhood': 1, 'treasure': 1, 'wealthy': 1, 'difficulty': 1, 'needle': 1, 'sisters': 1, 'money changers': 1, 'one word': 1, 'numerous crowd': 1, 'two disciples': 1, 'Bethphage': 1, 'town': 1, 'donkey': 1, 'colt': 1, 'Zion': 1, 'Hosanna': 1, 'tables': 1, 'chairs': 1, 'doves': 1, 'den': 1, 'robbers': 1, 'babes': 1, 'infants': 1, 'praise': 1, 'vineyard': 1, 'prostitutes': 1, 'hedge': 1, 'press': 1, 'tower': 1, 'farmers': 1, 'country estate': 1, 'seven brothers': 1, 'great commandment': 1, 'first commandment': 1, 'two commandments': 1, 'entire law': 1, 'The Lord': 1, 'wedding garment': 1, 'bulls': 1, 'fatlings': 1, 'business': 1, 'contempt': 1, 'armies': 1, 'murderers': 1, 'ways': 1, 'guests': 1, 'ministers': 1, 'weeping': 1, 'gnashing': 1, 'speech': 1, 'Herodians': 1, 'truth': 1, 'influence': 1, 'reputation': 1, 'Caesar': 1, 'coin': 1, 'denarius': 1, 'image': 1, 'inscription': 1, 'offspring': 1, 'Scriptures': 1, 'marriage': 1, 'living': 1, 'doctor': 1, 'mind': 1, 'greatest': 1, 'enemies': 1, 'unbearable burdens': 1, 'first places': 1, 'first chairs': 1, 'long prayers': 1, 'one convert': 1, 'blind guides': 1, 'whitewashed sepulchers': 1, 'greater judgment': 1, 'weightier things': 1, 'heavy': 1, 'shoulders': 1, 'finger': 1, 'phylacteries': 1, 'hems': 1, 'feasts': 1, 'greetings': 1, 'minister': 1, 'widows': 1, 'tithes': 1, 'mint': 1, 'dill': 1, 'cumin': 1, 'gnat': 1, 'cup': 1, 'inside': 1, 'avarice': 1, 'impurity': 1, 'bones': 1, 'filth': 1, 'hypocrisy': 1, 'monuments': 1, 'witnesses': 1, 'serpents': 1, 'wisemen': 1, 'just': 1, 'Abel': 1, 'Zechariah': 1, 'Barachiah': 1, 'hen': 1, 'wings': 1, 'many false prophets': 1, 'false Christs': 1, 'prophet Daniel': 1, 'holy place': 1, 'great signs': 1, 'inner rooms': 1, 'great power': 1, 'great voice': 1, 'four winds': 1, 'furthest limits': 1, 'two men': 1, 'Two women': 1, 'entire world': 1, 'great tribulation': 1, 'buildings': 1, 'advent': 1, 'battles': 1, 'rumors': 1, 'care': 1, 'end': 1, 'nation': 1, 'pestilences': 1, 'famines': 1, 'earthquakes': 1, 'places': 1, 'sorrows': 1, 'charity': 1, 'desolation': 1, 'flight': 1, 'winter': 1, 'present': 1, 'elect': 1, 'wonders': 1, 'error': 1, 'lightning': 1, 'eagles': 1, 'moon': 1, 'stars': 1, 'powers': 1, 'tribes': 1, 'clouds': 1, 'heights': 1, 'branch': 1, 'summer': 1, 'threshold': 1, 'Noah': 1, 'flood': 1, 'ark': 1, 'thief': 1, 'faithful': 1, 'prude': 1, 'very end': 1, 'long journey': 1, 'five talents': 1, 'long time': 1, 'faithful servant': 1, 'two talents': 1, 'lazy servant': 1, 'ten talents': 1, 'useless servant': 1, 'ten virgins': 1, 'remaining virgins': 1, 'five foolish': 1, 'hard man': 1, 'one talent': 1, 'lamps': 1, 'bride': 1, 'oil': 1, 'containers': 1, 'middle': 1, 'cry': 1, 'wedding': 1, 'goods': 1, 'ability': 1, 'accounts': 1, 'gladness': 1, 'bankers': 1, 'arrival': 1, 'interest': 1, 'seat': 1, 'goats': 1, 'right': 1, 'stranger': 1, 'two days': 1, 'high priest': 1, 'alabaster box': 1, 'great deal': 1, 'good deed': 1, 'new covenant': 1, 'rooster crows': 1, 'feast day': 1, 'first day': 1, 'precious ointment': 1, 'Unleavened Bread': 1, 'third time': 1, 'same words': 1, 'one hour': 1, 'Passover': 1, 'court': 1, 'deceitfulness': 1, 'tumult': 1, 'purpose': 1, 'waste': 1, 'burial': 1, 'memory': 1, 'opportunity': 1, 'chalice': 1, 'remission': 1, 'vine': 1, 'hymn': 1, 'flock': 1, 'garden': 1, 'notorious prisoner': 1, 'greater tumult': 1, 'entire cohort': 1, 'solemn day': 1, 'one prisoner': 1, 'scarlet cloak': 1, 'two robbers': 1, 'temple offerings': 1, 'burying place': 1, 'Pontius Pilate': 1, 'entire people': 1, 'conduct': 1, 'snare': 1, 'price': 1, 'potter': 1, 'sojourners': 1, 'Barabbas': 1, 'envy': 1, 'tribunal': 1, 'praetorium': 1, 'crown': 1, 'Cyrene': 1, 'Calvary': 1, 'gall': 1, 'lots': 1, 'accusation': 1, 'THE': 1, 'self': 1, 'Mary Magdalene': 1, 'other Mary': 1, 'great earthquake': 1, 'dead men': 1, 'abundant sum': 1, 'first Sabbath': 1, 'eleven disciples': 1, 'sepulcher': 1, 'guards': 1, 'tomb': 1}\n",
      "There were 1115 key phrases found in Luke: {'God': 20, 'house': 16, 'Jesus': 15, 'things': 14, 'kingdom': 14, 'heaven': 13, 'city': 12, 'Jerusalem': 12, 'Lord': 12, 'disciples': 12, 'people': 10, 'response': 10, 'Pharisees': 10, 'word': 9, 'days': 9, 'name': 9, 'Galilee': 9, 'everyone': 9, 'way': 9, 'wife': 8, 'sight': 8, 'time': 8, 'order': 8, 'Son': 8, 'hands': 8, 'place': 8, 'life': 8, 'Judea': 7, 'temple': 7, 'power': 7, 'law': 7, 'death': 7, 'eyes': 7, 'father': 7, 'John': 7, 'others': 7, 'table': 7, 'parable': 7, 'loud voice': 6, 'everything': 6, 'fear': 6, 'mother': 6, 'Israel': 6, 'Teacher': 6, 'bread': 6, 'glory': 6, 'midst': 6, 'authority': 6, 'faith': 6, 'scribes': 6, 'man': 6, 'friends': 6, 'feet': 6, 'hearts': 5, 'David': 5, 'end': 5, 'fruit': 5, 'world': 5, 'night': 5, 'Christ': 5, 'earth': 5, 'Moses': 5, 'light': 5, 'thoughts': 5, 'brother': 5, 'truth': 5, 'Simon': 5, 'priests': 5, 'Peter': 5, 'men': 5, 'crowds': 5, 'children': 5, 'entire multitude': 4, 'Herod': 4, 'custom': 4, 'hour': 4, 'prayer': 4, 'joy': 4, 'Joseph': 4, 'behold': 4, 'same hour': 4, 'Holy Spirit': 4, 'Nazareth': 4, 'family': 4, 'servant': 4, 'face': 4, 'wisdom': 4, 'journey': 4, 'tax collectors': 4, 'mountain': 4, 'sons': 4, 'water': 4, 'stone': 4, 'testimony': 4, 'woman': 4, 'Sabbaths': 4, 'land': 4, 'James': 4, 'town': 4, 'sinners': 4, 'words': 4, 'rest': 4, 'third day': 4, 'money': 4, 'prophets': 4, 'leaders': 4, 'spirit': 4, 'leader': 4, 'body': 4, 'Angels': 4, 'someone': 4, 'Gentiles': 4, 'distance': 4, 'womb': 3, 'Elijah': 3, 'Mary': 3, 'grace': 3, 'women': 3, 'kind': 3, 'Jacob': 3, 'Angel': 3, 'sign': 3, 'multitude': 3, 'peace': 3, 'parents': 3, 'salvation': 3, 'one': 3, 'widow': 3, 'relatives': 3, 'sins': 3, 'voice': 3, 'Abraham': 3, 'food': 3, 'soldiers': 3, 'shoes': 3, 'hand': 3, 'wheat': 3, 'temptation': 3, 'synagogues': 3, 'heart': 3, 'mouth': 3, 'none': 3, 'sun': 3, 'demons': 3, 'great crowds': 3, 'desert': 3, 'day': 3, 'hold': 3, 'comparison': 3, 'entire crowd': 3, 'ears': 3, 'synagogue': 3, 'middle': 3, 'Apostles': 3, 'diseases': 3, 'enemies': 3, 'return': 3, 'kings': 3, 'generation': 3, 'head': 3, 'long time': 3, 'candle': 3, 'brothers': 3, 'sea': 3, 'many things': 3, 'dead': 3, 'need': 3, 'cross': 3, 'Father': 3, 'Satan': 3, 'darkness': 3, 'wealthy man': 3, 'magistrates': 3, 'abundance': 3, 'field': 3, 'donkey': 3, 'goods': 3, 'pity': 3, 'thanks': 3, 'ground': 3, 'beginning': 2, 'king': 2, 'priest': 2, 'commandments': 2, 'child': 2, 'right': 2, 'Zechariah': 2, 'son': 2, 'wine': 2, 'fathers': 2, 'vision': 2, 'Judah': 2, 'infant': 2, 'feast day': 2, 'ruler': 2, 'room': 2, 'today': 2, 'Simeon': 2, 'consolation': 2, 'behalf': 2, 'resurrection': 2, 'soul': 2, 'daughter': 2, 'husband': 2, 'redemption': 2, 'Passover': 2, 'high priests': 2, 'prophet Isaiah': 2, 'entire region': 2, 'beloved Son': 2, 'Jordan': 2, 'baptism': 2, 'book': 2, 'valley': 2, 'flesh': 2, 'crowd': 2, 'stones': 2, 'trees': 2, 'prison': 2, 'Levi': 2, 'Isaac': 2, 'Noah': 2, 'great famine': 2, 'three years': 2, 'unclean spirits': 2, 'devil': 2, 'captives': 2, 'blind': 2, 'retribution': 2, 'hearing': 2, 'Capernaum': 2, 'Sidon': 2, 'edge': 2, 'deserted': 2, 'copious multitude': 2, 'tax collector': 2, 'great feast': 2, 'large crowd': 2, 'sinful man': 2, 'Simon Peter': 2, 'lake': 2, 'infirmities': 2, 'evil': 2, 'daylight': 2, 'coat': 2, 'pit': 2, 'evil spirits': 2, 'centurion': 2, 'elders': 2, 'Jews': 2, 'gate': 2, 'Baptist': 2, 'experts': 2, 'demon': 2, 'hair': 2, 'unclean spirit': 2, 'cities': 2, 'towns': 2, 'Joanna': 2, 'birds': 2, 'air': 2, 'patience': 2, 'bed': 2, 'lampstand': 2, 'care': 2, 'region': 2, 'villages': 2, 'two men': 2, 'twelve Apostles': 2, 'great crowd': 2, 'sake': 2, 'majesty': 2, 'cloud': 2, 'good things': 2, 'door': 2, 'finger': 2, 'breasts': 2, 'South': 2, 'judgment': 2, 'Solomon': 2, 'Pharisee': 2, 'many years': 2, 'leaven': 2, 'Hell': 2, 'stature': 2, 'treasure': 2, 'lord': 2, 'wedding': 2, 'servants': 2, 'fig tree': 2, 'mustard seed': 2, 'same day': 2, 'blood': 2, 'Pilate': 2, 'tower': 2, 'future': 2, 'ox': 2, 'adversaries': 2, 'grain': 2, 'streets': 2, 'dinner': 2, 'farm': 2, 'delegation': 2, 'estate': 2, 'citizens': 2, 'neck': 2, 'age': 2, 'adultery': 2, 'fire': 2, 'elect': 2, 'robbers': 2, 'sorrow': 2, 'Jericho': 2, 'garments': 2, 'Peace': 2, 'entire earth': 2, 'opportunity': 2, 'mountains': 2, 'countryside': 2, 'evening': 2, 'will': 2, 'The Holy Spirit': 1, 'orderly manner': 1, 'excellent Theophilus': 1, 'strong drink': 1, 'five months': 1, 'sixth month': 1, 'Most High': 1, 'old age': 1, 'hill country': 1, 'The Lord': 1, 'cousin Elizabeth': 1, 'Angel Gabriel': 1, 'Lord God': 1, 'narrative': 1, 'ministers': 1, 'truthfulness': 1, 'section': 1, 'Abijah': 1, 'daughters': 1, 'Aaron': 1, 'justifications': 1, 'blame': 1, 'years': 1, 'lot': 1, 'incense': 1, 'altar': 1, 'exultation': 1, 'nativity': 1, 'prudence': 1, 'completed': 1, 'signs': 1, 'office': 1, 'reproach': 1, 'virgin': 1, 'JESUS': 1, 'throne': 1, 'eternity': 1, 'handmaid': 1, 'greeting': 1, 'two young pigeons': 1, 'Caesar Augustus': 1, 'first enrollment': 1, 'firstborn son': 1, 'swaddling clothes': 1, 'same region': 1, 'great fear': 1, 'great joy': 1, 'celestial army': 1, 'good will': 1, 'many hearts': 1, 'eighty-fourth year': 1, 'seven years': 1, 'eight days': 1, 'O Lord': 1, 'decree': 1, 'Syria': 1, 'Quirinius': 1, 'espoused': 1, 'birth': 1, 'manger': 1, 'inn': 1, 'shepherds': 1, 'watch': 1, 'flock': 1, 'brightness': 1, 'Saviour': 1, 'Glory': 1, 'Bethlehem': 1, 'boy': 1, 'purification': 1, 'male': 1, 'sacrifice': 1, 'pair': 1, 'turtledoves': 1, 'answer': 1, 'arms': 1, 'revelation': 1, 'nations': 1, 'ruin': 1, 'prophetess': 1, 'Anna': 1, 'Phanuel': 1, 'tribe': 1, 'Asher': 1, 'virginity': 1, 'fasting': 1, 'fullness': 1, 'solemnity': 1, 'company': 1, 'acquaintances': 1, 'many other things': 1, 'fifteenth year': 1, 'Tiberius Caesar': 1, 'Pontius Pilate': 1, 'level ways': 1, 'approaching wrath': 1, 'good fruit': 1, 'two coats': 1, 'false accusations': 1, 'winnowing fan': 1, 'threshing floor': 1, 'corporal appearance': 1, 'Philip tetrarch': 1, 'Lysanias tetrarch': 1, 'rough paths': 1, 'unquenchable fire': 1, 'Herod tetrarch': 1, 'reign': 1, 'procurator': 1, 'Ituraea': 1, 'Trachonitis': 1, 'Abilene': 1, 'Annas': 1, 'Caiaphas': 1, 'wilderness': 1, 'repentance': 1, 'remission': 1, 'sermons': 1, 'hill': 1, 'progeny': 1, 'vipers': 1, 'fruits': 1, 'axe': 1, 'root': 1, 'crowed': 1, 'pay': 1, 'laces': 1, 'barn': 1, 'chaff': 1, 'Herodias': 1, 'evils': 1, 'dove': 1, 'Heli': 1, 'Matthat': 1, 'Melchi': 1, 'Jannai': 1, 'Mattathias': 1, 'Amos': 1, 'Nahum': 1, 'Esli': 1, 'Naggai': 1, 'Maath': 1, 'Semein': 1, 'Josech': 1, 'Joda': 1, 'Joanan': 1, 'Rhesa': 1, 'Zerubbabel': 1, 'Shealtiel': 1, 'Neri': 1, 'Addi': 1, 'Cosam': 1, 'Elmadam': 1, 'Er.': 1, 'Joshua': 1, 'Eliezer': 1, 'Jorim': 1, 'Jonam': 1, 'Eliakim': 1, 'Melea': 1, 'Menna': 1, 'Mattatha': 1, 'Nathan': 1, 'Jesse': 1, 'Obed': 1, 'Boaz': 1, 'Salmon': 1, 'Nahshon': 1, 'Amminadab': 1, 'Aram': 1, 'Hezron': 1, 'Perez': 1, 'Terah': 1, 'Nahor': 1, 'Serug': 1, 'Reu': 1, 'Peleg': 1, 'Eber': 1, 'Shelah': 1, 'Cainan': 1, 'Arphaxad': 1, 'Shem': 1, 'Lamech': 1, 'Methuselah': 1, 'Enoch': 1, 'Jared': 1, 'Mahalalel': 1, 'Enos': 1, 'Seth': 1, 'many great things': 1, 'many widows': 1, 'many lepers': 1, 'high mountain': 1, 'Angels charge': 1, 'acceptable year': 1, 'six months': 1, 'entire land': 1, 'Holy One': 1, 'various diseases': 1, 'prophet Elisha': 1, 'unclean demon': 1, 'severe fever': 1, 'forty days': 1, 'Sabbath day': 1, 'wildernes': 1, 'kingdoms': 1, 'moment': 1, 'parapet': 1, 'foot': 1, 'fame': 1, 'The': 1, 'contrite': 1, 'forgiveness': 1, 'minister': 1, 'scripture': 1, 'Physician': 1, 'country': 1, 'heavens': 1, 'Zarephath': 1, 'Naaman': 1, 'Syrian': 1, 'anger': 1, 'doctrine': 1, 'grip': 1, 'deep water': 1, 'customs office': 1, 'new garment': 1, 'old garment': 1, 'new wine': 1, 'other boat': 1, 'roof tiles': 1, 'new one': 1, 'old one': 1, 'old wineskins': 1, 'two boats': 1, 'Genesaret': 1, 'fishermen': 1, 'nets': 1, 'catch': 1, 'associates': 1, 'knees': 1, 'astonishment': 1, 'Zebedee': 1, 'leprosy': 1, 'offering': 1, 'cleansing': 1, 'doctors': 1, 'front': 1, 'blasphemies': 1, 'paralytic': 1, 'miracles': 1, 'maladies': 1, 'supplications': 1, 'groom': 1, 'patch': 1, 'second first Sabbath': 1, 'Judas Iscariot': 1, 'level place': 1, 'same things': 1, 'same measure': 1, 'grain field': 1, 'false prophets': 1, 'good measure': 1, 'right hand': 1, 'Presence': 1, 'accusation': 1, 'health': 1, 'madness': 1, 'Andrew': 1, 'Philip': 1, 'Bartholomew': 1, 'Matthew': 1, 'Thomas': 1, 'Alphaeus': 1, 'Jude': 1, 'traitor': 1, 'seacoast': 1, 'Tyre': 1, 'reward': 1, 'cheek': 1, 'tunic': 1, 'credit': 1, 'High': 1, 'lap': 1, 'teacher': 1, 'straw': 1, 'log': 1, 'entire surrounding region': 1, 'great faith': 1, 'abundant crowd': 1, 'dead youth': 1, 'blind see': 1, 'lame walk': 1, 'soft garments': 1, 'costly apparel': 1, 'alabaster container': 1, 'great prophet': 1, 'voracious man': 1, 'prophet John': 1, 'illness': 1, 'nation': 1, 'roof': 1, 'deceased': 1, 'person': 1, 'mercy': 1, 'coffin': 1, 'wounds': 1, 'lepers': 1, 'deaf': 1, 'offense': 1, 'messengers': 1, 'reed': 1, 'wind': 1, 'Behold': 1, 'finery': 1, 'counsel': 1, 'marketplace': 1, 'drinker': 1, 'ointment': 1, 'tears': 1, 'Most High God': 1, 'many other women': 1, 'many occasions': 1, 'plain sight': 1, 'little boat': 1, 'deserted places': 1, 'sane mind': 1, 'many demons': 1, 'many swine': 1, 'good soil': 1, 'seven demons': 1, 'numerous crowd': 1, 'noble heart': 1, 'raging water': 1, 'Chuza': 1, 'steward': 1, 'Susanna': 1, 'resources': 1, 'sower': 1, 'seed': 1, 'rock': 1, 'moisture': 1, 'thorns': 1, 'mystery': 1, 'roots': 1, 'testing': 1, 'concerns': 1, 'riches': 1, 'pleasures': 1, 'container': 1, 'crossing': 1, 'windstorm': 1, 'danger': 1, 'tranquility': 1, 'Gerasenes': 1, 'clothes': 1, 'sepulchers': 1, 'chains': 1, 'fetters': 1, 'abyss': 1, 'herd': 1, 'precipice': 1, 'legion': 1, 'five thousand men': 1, 'five loaves': 1, 'two tunics': 1, 'two fish': 1, 'twelve baskets': 1, 'The Christ': 1, 'holy Angels': 1, 'three tabernacles': 1, 'surrounding towns': 1, 'staff': 1, 'traveling': 1, 'bag': 1, 'dust': 1, 'tetrarch': 1, 'Bethsaida': 1, 'cures': 1, 'something': 1, 'groups': 1, 'fragments': 1, 'multitudes': 1, 'harm': 1, 'appearance': 1, 'countenance': 1, 'vestment': 1, 'departure': 1, 'sleep': 1, 'seven other spirits': 1, 'strong armed man': 1, 'three loaves': 1, 'continued insistence': 1, 'waterless places': 1, 'bushel basket': 1, 'shining lamp': 1, 'daily bread': 1, 'mute man': 1, 'stronger one': 1, 'entire body': 1, 'prophet Jonah': 1, 'wicked generation': 1, 'friend': 1, 'Seek': 1, 'Knock': 1, 'fish': 1, 'serpent': 1, 'egg': 1, 'scorpion': 1, 'goodness': 1, 'Beelzebub': 1, 'judges': 1, 'entrance': 1, 'weapons': 1, 'spoils': 1, 'scatters': 1, 'Ninevites': 1, 'queen': 1, 'ends': 1, 'Nineveh': 1, 'preaching': 1, 'eye': 1, 'part': 1, 'cup': 1, 'plate': 1, 'plunder': 1, 'two small coins': 1, 'five sparrows': 1, 'many sparrows': 1, 'fertile land': 1, 'one cubit': 1, 'little flock': 1, 'second watch': 1, 'third watch': 1, 'many goods': 1, 'bedrooms': 1, 'housetops': 1, 'hairs': 1, 'Everyone': 1, 'authorities': 1, 'inheritance': 1, 'judge': 1, 'arbitrator': 1, 'avarice': 1, 'crops': 1, 'barns': 1, 'larger': 1, 'clothing': 1, 'ravens': 1, 'storehouse': 1, 'lilies': 1, 'grass': 1, 'furnace': 1, 'high': 1, 'justice': 1, 'alms': 1, 'purses': 1, 'thief': 1, 'moth': 1, 'waists': 1, 'lamps': 1, 'fine wheat flour': 1, 'greater transgressors': 1, 'eighteen years': 1, 'six days': 1, 'great tree': 1, 'three measures': 1, 'narrow gate': 1, 'For Herod': 1, 'following day': 1, 'other Galileans': 1, 'sacrifices': 1, 'Siloam': 1, 'vineyard': 1, 'cultivator': 1, 'fertilizer': 1, 'infirmity': 1, 'result': 1, 'stall': 1, 'restraint': 1, 'figure': 1, 'garden': 1, 'branches': 1, 'presence': 1, 'workers': 1, 'iniquity': 1, 'gnashing': 1, 'teeth': 1, 'East': 1, 'West': 1, 'North': 1, 'healings': 1, 'tomorrow': 1, 'nest': 1, 'wings': 1, 'first seats': 1, 'wealthy neighbors': 1, 'five yoke': 1, 'first place': 1, 'last place': 1, 'lowest place': 1, 'Sabbath': 1, 'edema': 1, 'shame': 1, 'lunch': 1, 'repayment': 1, 'lame': 1, 'recompense': 1, 'excuses': 1, 'neighborhoods': 1, 'hedges': 1, 'sisters': 1, 'disciple': 1, 'costs': 1, 'means': 1, 'foundation': 1, 'war': 1, 'terms': 1, 'Salt': 1, 'flavor': 1, 'soil': 1, 'one sinner repenting': 1, 'one hundred sheep': 1, 'ten drachmas': 1, 'two sons': 1, 'many days': 1, 'long journey': 1, 'abundant bread': 1, 'best robe': 1, 'young goat': 1, 'loose women': 1, 'fatted calf': 1, 'younger son': 1, 'elder son': 1, 'one drachma': 1, 'distant region': 1, 'shoulders': 1, 'neighbors': 1, 'portion': 1, 'substance': 1, 'luxury': 1, 'swine': 1, 'belly': 1, 'scraps': 1, 'senses': 1, 'compassion': 1, 'ring': 1, 'feast': 1, 'music': 1, 'dancing': 1, 'commandment': 1, 'One hundred jars': 1, 'One hundred measures': 1, 'record books': 1, 'eternal tabernacles': 1, 'two lords': 1, 'one dot': 1, 'fine linen': 1, 'great chaos': 1, 'five brothers': 1, 'iniquitous mammon': 1, 'bad things': 1, 'iniquitous steward': 1, 'father Abraham': 1, 'account': 1, 'stewardship': 1, 'houses': 1, 'debtors': 1, 'oil': 1, 'invoice': 1, 'abomination': 1, 'violence': 1, 'purple': 1, 'beggar': 1, 'sores': 1, 'crumbs': 1, 'dogs': 1, 'bosom': 1, 'Lazarus': 1, 'tip': 1, 'tongue': 1, 'ten leprous men': 1, 'mulberry tree': 1, 'useless servants': 1, 'lightning flashes': 1, 'one bed': 1, 'one day': 1, 'scandals': 1, 'millstone': 1, 'little': 1, 'cattle': 1, 'Samaria': 1, 'Samaritan': 1, 'foreigner': 1, 'wives': 1, 'marriage': 1, 'ark': 1, 'flood': 1, 'Lot': 1, 'Sodom': 1, 'brimstone': 1, 'rooftop': 1, 'grindstone': 1, 'eagles': 1, 'Good teacher': 1, 'eternal life': 1, 'false testimony': 1, 'Two men': 1, 'little children': 1, 'One thing': 1, 'blind man': 1, 'unjust judge': 1, 'adversary': 1, 'vindication': 1, 'adulterers': 1, 'tithes': 1, 'chest': 1, 'sinner': 1, 'obstacle': 1, 'Amen': 1, 'No': 1, 'youth': 1, 'camel': 1, 'needle': 1, 'home': 1, 'praise': 1, 'sycamore tree': 1, 'ten pounds': 1, 'good servant': 1, 'ten cities': 1, 'five pounds': 1, 'five cities': 1, 'wicked servant': 1, 'powerful works': 1, 'one half': 1, 'one pound': 1, 'ten servants': 1, 'small matter': 1, 'Mount Olivet': 1, 'austere man': 1, 'colt standing': 1, 'Zacchaeus': 1, 'delay': 1, 'nobility': 1, 'business': 1, 'cloth': 1, 'bank': 1, 'interest': 1, 'bystanders': 1, 'Bethphage': 1, 'Bethania': 1, 'service': 1, 'owners': 1, 'descent': 1, 'side': 1, 'visitation': 1, 'two small brass coins': 1, 'excellent stones': 1, 'great earthquakes': 1, 'various places': 1, 'great wrath': 1, 'great power': 1, 'poor widow': 1, 'great signs': 1, 'great distress': 1, 'wealthy': 1, 'donations': 1, 'offertory': 1, 'pauper': 1, 'gifts': 1, 'battles': 1, 'seditions': 1, 'People': 1, 'pestilences': 1, 'famines': 1, 'terrors': 1, 'custody': 1, 'governors': 1, 'advance': 1, 'souls': 1, 'army': 1, 'desolation': 1, 'sword': 1, 'moon': 1, 'stars': 1, 'confusion': 1, 'roaring': 1, 'waves': 1, 'apprehension': 1, 'powers': 1, 'notice': 1, 'summer': 1, 'lineage': 1, 'self-indulgence': 1, 'inebriation': 1, 'cares': 1, 'snare': 1, 'morning': 1, 'Pascal lamb': 1, 'large cenacle': 1, 'new covenant': 1, 'twelve tribes': 1, 'two swords': 1, 'Unleavened Bread': 1, 'Feast': 1, 'Judas': 1, 'Iscariot': 1, 'agreement': 1, 'promise': 1, 'pitcher': 1, 'guestroom': 1, 'chalice': 1, 'vine': 1, 'commemoration': 1, 'meal': 1, 'betrayer': 1, 'contention': 1, 'server': 1, 'trials': 1, 'thrones': 1, 'rooster': 1, 'provisions': 1, 'Mount': 1, 'Olives': 1, 'throw': 1, 'agony': 1, 'sweat': 1, 'drops': 1, 'two other criminals': 1, 'many words': 1, 'white garment': 1, 'green wood': 1, 'same condemnation': 1, 'sixth hour': 1, 'ninth hour': 1, 'one person': 1, 'voices': 1, 'tribute': 1, 'Caesar': 1, 'case': 1, 'jurisdiction': 1, 'Barabbas': 1, 'sedition': 1, 'murder': 1, 'intensity': 1, 'petition': 1, 'Cyrene': 1, 'Daughters': 1, 'wombs': 1, 'hills': 1, 'left': 1, 'lots': 1, 'vinegar': 1, 'inscription': 1, 'letters': 1, 'Greek': 1, 'Latin': 1, 'Hebrew': 1, 'deeds': 1, 'Paradise': 1, 'veil': 1, 'first Sabbath': 1, 'first light': 1, 'aromatic spices': 1, 'sinful men': 1, 'linen cloths': 1, 'sixty stadia': 1, 'noble prophet': 1, 'roasted fish': 1, 'Mary Magdalene': 1, 'other women': 1, 'Lord Jesus': 1, 'tomb': 1, 'minds': 1, 'apparel': 1, 'faces': 1, 'living': 1, 'eleven': 1, 'delusion': 1, 'Emmaus': 1, 'Cleopas': 1, 'works': 1, 'Redeemer': 1, 'top': 1, 'daytime': 1, 'Prophets': 1, 'Scriptures': 1, 'breaking': 1, 'bones': 1, 'disbelief': 1, 'wonder': 1, 'piece': 1, 'honeycomb': 1, 'Psalms': 1}\n",
      "There were 724 key phrases found in Matthew: {'disciples': 12, 'God': 11, 'house': 11, 'Jesus': 11, 'kingdom': 10, 'scribes': 10, 'John': 9, 'James': 9, 'word': 9, 'Galilee': 8, 'name': 8, 'Peter': 8, 'Lord': 7, 'father': 7, 'mother': 7, 'way': 7, 'sea': 7, 'people': 7, 'authority': 6, 'things': 6, 'Pharisees': 6, 'order': 6, 'others': 6, 'everything': 6, 'response': 6, 'heaven': 6, 'Gospel': 5, 'sins': 5, 'Jerusalem': 5, 'Simon': 5, 'brother': 5, 'evening': 5, 'table': 5, 'great crowd': 5, 'hand': 5, 'Amen': 5, 'many things': 5, 'heart': 5, 'Holy Spirit': 4, 'Satan': 4, 'time': 4, 'boat': 4, 'synagogue': 4, 'sun': 4, 'pity': 4, 'Moses': 4, 'faith': 4, 'place': 4, 'Son': 4, 'Teacher': 4, 'one': 4, 'ears': 4, 'bread': 4, 'doctrine': 4, 'body': 4, 'Elijah': 4, 'leaders': 4, 'head': 4, 'elders': 4, 'death': 4, 'Christ': 4, 'temple': 4, 'morning': 4, 'unclean spirits': 3, 'loud voice': 3, 'Judea': 3, 'water': 3, 'Andrew': 3, 'hands': 3, 'Capernaum': 3, 'Sabbaths': 3, 'reason': 3, 'testimony': 3, 'hearts': 3, 'spirit': 3, 'earth': 3, 'Sabbath': 3, 'David': 3, 'priests': 3, 'great multitude': 3, 'hold': 3, 'parables': 3, 'end': 3, 'unclean spirit': 3, 'man': 3, 'city': 3, 'countryside': 3, 'feet': 3, 'daughter': 3, 'power': 3, 'fear': 3, 'something': 3, 'dead': 3, 'tomb': 3, 'crowd': 3, 'woman': 3, 'ground': 3, 'eyes': 3, 'soul': 3, 'Olives': 3, 'fruit': 3, 'stone': 3, 'little ways': 2, 'beloved Son': 2, 'many demons': 2, 'beginning': 2, 'baptism': 2, 'Jordan': 2, 'Nazareth': 2, 'Zebedee': 2, 'maladies': 2, 'door': 2, 'cities': 2, 'leper': 2, 'entire crowd': 2, 'days': 2, 'Alphaeus': 2, 'sinners': 2, 'Judas Iscariot': 2, 'middle': 2, 'evil': 2, 'life': 2, 'blindness': 2, 'counsel': 2, 'Herodians': 2, 'Tyre': 2, 'Sidon': 2, 'demons': 2, 'Philip': 2, 'thorns': 2, 'deception': 2, 'someone': 2, 'Ten Cities': 2, 'demon': 2, 'borders': 2, 'blood': 2, 'benefit': 2, 'garment': 2, 'truth': 2, 'tumult': 2, 'son': 2, 'Joseph': 2, 'unbelief': 2, 'Baptist': 2, 'work': 2, 'wife': 2, 'girl': 2, 'little': 2, 'sheep': 2, 'shepherd': 2, 'Jews': 2, 'parable': 2, 'sons': 2, 'children': 2, 'midst': 2, 'three days': 2, 'thanks': 2, 'sign': 2, 'village': 2, 'trees': 2, 'cross': 2, 'sake': 2, 'world': 2, 'glory': 2, 'Father': 2, 'voice': 2, 'manner': 2, 'prayer': 2, 'fig tree': 2, 'Bethania': 2, 'garments': 2, 'distance': 2, 'case': 2, 'right hand': 2, 'scripture': 2, 'Angels': 2, 'Israel': 2, 'Mount': 2, 'advance': 2, 'flesh': 2, 'night': 2, 'feast day': 2, 'Mary Magdalene': 2, 'Salome': 2, 'entrance': 2, 'prophet Isaiah': 1, 'leather belt': 1, 'wild honey': 1, 'forty nights': 1, 'wild animals': 1, 'various illnesses': 1, 'neighboring towns': 1, 'high priest': 1, 'forty days': 1, 'Holy One': 1, 'new doctrine': 1, 'entire region': 1, 'entire city': 1, 'deserted places': 1, 'Jesus Christ': 1, 'Angel': 1, 'face': 1, 'paths': 1, 'repentance': 1, 'remission': 1, 'river': 1, 'camel': 1, 'hair': 1, 'waist': 1, 'locusts': 1, 'shoes': 1, 'heavens': 1, 'dove': 1, 'shore': 1, 'Sea': 1, 'nets': 1, 'fishermen': 1, 'fishers': 1, 'fame': 1, 'law': 1, 'fever': 1, 'everyone': 1, 'leprosy': 1, 'cleansing': 1, 'direction': 1, 'high priest Abiathar': 1, 'many tax collectors': 1, 'four men': 1, 'customs office': 1, 'new cloth': 1, 'old garment': 1, 'new addition': 1, 'ripe grain': 1, 'new wine': 1, 'old wineskins': 1, 'room': 1, 'paralytic': 1, 'roof': 1, 'stretcher': 1, 'sight': 1, 'Levi': 1, 'need': 1, 'doctor': 1, 'wedding': 1, 'patch': 1, 'tear': 1, 'grains': 1, 'Presence': 1, 'The': 1, 'small boat': 1, 'eternal offense': 1, 'strong man': 1, 'withered': 1, 'good': 1, 'health': 1, 'anger': 1, 'Idumea': 1, 'wounds': 1, 'mountain': 1, 'twelve': 1, 'infirmities': 1, 'Boanerges': 1, 'Thunder': 1, 'Bartholomew': 1, 'Matthew': 1, 'Thomas': 1, 'Thaddeus': 1, 'Canaanite': 1, 'Beelzebub': 1, 'prince': 1, 'blasphemies': 1, 'forgiveness': 1, 'eternity': 1, 'will': 1, 'sister': 1, 'great wind storm': 1, 'great branches': 1, 'great tranquility': 1, 'great fear': 1, 'stony ground': 1, 'next tribulation': 1, 'worldly tasks': 1, 'other boats': 1, 'other things': 1, 'good soil': 1, 'limited time': 1, 'full grain': 1, 'mustard seed': 1, 'one boat': 1, 'bear fruit': 1, 'land': 1, 'sower': 1, 'birds': 1, 'air': 1, 'depth': 1, 'root': 1, 'mystery': 1, 'gladness': 1, 'persecution': 1, 'riches': 1, 'desires': 1, 'lamp': 1, 'basket': 1, 'bed': 1, 'secret': 1, 'measure': 1, 'plant': 1, 'sickle': 1, 'harvest': 1, 'seeds': 1, 'shadow': 1, 'day': 1, 'waves': 1, 'stern': 1, 'pillow': 1, 'Most High God': 1, 'great force': 1, 'sane mind': 1, 'twelve years': 1, 'several physicians': 1, 'Talitha koumi': 1, 'great astonishment': 1, 'dwelling place': 1, 'great herd': 1, 'Little girl': 1, 'young girl': 1, 'spirits': 1, 'strait': 1, 'region': 1, 'Gerasenes': 1, 'tombs': 1, 'chains': 1, 'shackles': 1, 'mountains': 1, 'Legion': 1, 'swine': 1, 'permission': 1, 'rulers': 1, 'flow': 1, 'source': 1, 'bleeding': 1, 'wound': 1, 'peace': 1, 'two hundred denarii': 1, 'two tunics': 1, 'two fish': 1, 'powerful deeds': 1, 'great offense': 1, 'traveling bag': 1, 'money belt': 1, 'holy man': 1, 'first rulers': 1, 'many hours': 1, 'green grass': 1, 'opportune time': 1, 'nearby villages': 1, 'For Herod': 1, 'same Herodias': 1, 'king Herod': 1, 'country': 1, 'wisdom': 1, 'carpenter': 1, 'Mary': 1, 'Jude': 1, 'sisters': 1, 'prophet': 1, 'honor': 1, 'kindred': 1, 'miracles': 1, 'twos': 1, 'journey': 1, 'staff': 1, 'sandals': 1, 'dust': 1, 'oil': 1, 'treachery': 1, 'just': 1, 'feast': 1, 'birthday': 1, 'tribunes': 1, 'haste': 1, 'platter': 1, 'oath': 1, 'executioner': 1, 'Apostles': 1, 'deserted': 1, 'foot': 1, 'towns': 1, 'provisions': 1, 'loaves': 1, 'Five': 1, 'groups': 1, 'divisions': 1, 'hundreds': 1, 'fifties': 1, 'many other similar things': 1, 'many other things': 1, 'bronze containers': 1, 'evil thoughts': 1, 'evil eye': 1, 'common hands': 1, 'unwashed hands': 1, 'young dogs': 1, 'tradition': 1, 'market': 1, 'washings': 1, 'cups': 1, 'pitchers': 1, 'beds': 1, 'Isaiah': 1, 'hypocrites': 1, 'lips': 1, 'vain': 1, 'doctrines': 1, 'precepts': 1, 'men': 1, 'Korban': 1, 'gift': 1, 'prudence': 1, 'outside': 1, 'gut': 1, 'sewer': 1, 'foods': 1, 'adulteries': 1, 'fornications': 1, 'murders': 1, 'thefts': 1, 'avarice': 1, 'wickedness': 1, 'deceitfulness': 1, 'homosexuality': 1, 'blasphemy': 1, 'self-exaltation': 1, 'foolishness': 1, 'evils': 1, 'area': 1, 'Gentile': 1, 'birth': 1, 'Syro-Phoenician': 1, 'fill': 1, 'crumbs': 1, 'fingers': 1, 'tongue': 1, 'Ephphatha': 1, 'deaf': 1, 'mute': 1, 'many loaves': 1, 'seven loaves': 1, 'small fish': 1, 'seven baskets': 1, 'many baskets': 1, 'Caesarea Philippi': 1, 'high priests': 1, 'holy Angels': 1, 'one loaf': 1, 'five loves': 1, 'blind man': 1, 'sinful generation': 1, 'enough bread': 1, 'compassion': 1, 'multitude': 1, 'home': 1, 'wilderness': 1, 'fragments': 1, 'parts': 1, 'Dalmanutha': 1, 'leaven': 1, 'Herod': 1, 'Bethsaida': 1, 'spit': 1, 'walking': 1, 'town': 1, 'prophets': 1, 'harm': 1, 'exchange': 1, 'adulterous': 1, 'six days': 1, 'three tabernacles': 1, 'unbelieving generation': 1, 'third day': 1, 'great millstone': 1, 'mute spirit': 1, 'lofty mountain': 1, 'vestments': 1, 'snow': 1, 'brilliance': 1, 'cloud': 1, 'teeth': 1, 'infancy': 1, 'fire': 1, 'boy': 1, 'tears': 1, 'kind': 1, 'fasting': 1, 'minister': 1, 'child': 1, 'virtue': 1, 'cup': 1, 'reward': 1, 'neck': 1, 'outer gate': 1, 'two ways': 1, 'leafy branches': 1, 'entire multitude': 1, 'true prophet': 1, 'evening hour': 1, 'one word': 1, 'mount': 1, 'colt': 1, 'meeting': 1, 'Blessed': 1, 'advent': 1, 'Hosanna': 1, 'leaves': 1, 'season': 1, 'figs': 1, 'sellers': 1, 'buyers': 1, 'tables': 1, 'moneychangers': 1, 'chairs': 1, 'vendors': 1, 'doves': 1, 'goods': 1, 'nations': 1, 'den': 1, 'robbers': 1, 'means': 1, 'admiration': 1, 'roots': 1, 'long journey': 1, 'very end': 1, 'seven brothers': 1, 'first commandment': 1, 'other commandment': 1, 'many others': 1, 'one son': 1, 'one God': 1, 'The Lord': 1, 'vineyard': 1, 'hedge': 1, 'pit': 1, 'tower': 1, 'farmers': 1, 'servant': 1, 'contempt': 1, 'settlers': 1, 'heir': 1, 'inheritance': 1, 'builders': 1, 'corner': 1, 'words': 1, 'appearance': 1, 'tribute': 1, 'Caesar': 1, 'skill': 1, 'denarius': 1, 'image': 1, 'inscription': 1, 'Sadducees': 1, 'resurrection': 1, 'up': 1, 'offspring': 1, 'marriage': 1, 'book': 1, 'bush': 1, 'Abraham': 1, 'Isaac': 1, 'Jacob': 1, 'living': 1, 'mind': 1, 'strength': 1, 'neighbor': 1, 'understanding': 1, 'self': 1, 'holocausts': 1, 'sacrifices': 1, 'answer': 1, 'enemies': 1, 'footstool': 1, 'fine stones': 1, 'fine structures': 1, 'great buildings': 1, 'various places': 1, 'false Christs': 1, 'false prophets': 1, 'great power': 1, 'four winds': 1, 'first light': 1, 'wars': 1, 'rumors': 1, 'nation': 1, 'earthquakes': 1, 'famines': 1, 'sorrows': 1, 'councils': 1, 'synagogues': 1, 'governors': 1, 'kings': 1, 'hour': 1, 'parents': 1, 'desolation': 1, 'reader': 1, 'rooftop': 1, 'field': 1, 'winter': 1, 'tribulations': 1, 'creation': 1, 'elect': 1, 'Behold': 1, 'wonders': 1, 'heed': 1, 'moon': 1, 'stars': 1, 'powers': 1, 'clouds': 1, 'limits': 1, 'branch': 1, 'foliage': 1, 'summer': 1, 'doors': 1, 'lineage': 1, 'sojourn': 1, 'servants': 1, 'doorkeeper': 1, 'three hundred denarii': 1, 'alabaster container': 1, 'precious spikenard': 1, 'good deed': 1, 'entire world': 1, 'The Teacher': 1, 'dining room': 1, 'large cenacle': 1, 'new covenant': 1, 'country estate': 1, 'same words': 1, 'Unleavened Bread': 1, 'first day': 1, 'opportune means': 1, 'third time': 1, 'one hour': 1, 'Passover': 1, 'ointment': 1, 'waste': 1, 'burial': 1, 'memory': 1, 'money': 1, 'pitcher': 1, 'owner': 1, 'dish': 1, 'chalice': 1, 'vine': 1, 'hymn': 1, 'rooster': 1, 'Gethsemani': 1, 'temptation': 1, 'rest': 1, 'noble council member': 1, 'fine linen cloth': 1, 'many other women': 1, 'entire council': 1, 'entire cohort': 1, 'third hour': 1, 'two robbers': 1, 'sixth hour': 1, 'entire earth': 1, 'ninth hour': 1, 'lamma sabacthani': 1, 'loud cry': 1, 'Preparation Day': 1, 'chief priests': 1, 'THE KING': 1, 'Pilate': 1, 'prisoners': 1, 'murder': 1, 'sedition': 1, 'envy': 1, 'Barabbas': 1, 'soldiers': 1, 'court': 1, 'praetorium': 1, 'purple': 1, 'crown': 1, 'reed': 1, 'passerby': 1, 'Cyrenian': 1, 'Alexander': 1, 'Rufus': 1, 'Calvary': 1, 'wine': 1, 'myrrh': 1, 'lots': 1, 'title': 1, 'right': 1, 'left': 1, 'iniquitous': 1, 'passersby': 1, 'darkness': 1, 'Eloi': 1, 'sponge': 1, 'vinegar': 1, 'veil': 1, 'top': 1, 'bottom': 1, 'centurion': 1, 'Arimathea': 1, 'sepulcher': 1, 'rock': 1, 'aromatic spices': 1, 'young man': 1, 'right side': 1, 'white robe': 1, 'Crucified One': 1, 'new languages': 1, 'first Sabbath': 1, 'seven demons': 1, 'accompanying signs': 1, 'Lord Jesus': 1, 'events': 1, 'likeness': 1, 'incredulity': 1, 'hardness': 1, 'creature': 1, 'serpents': 1}\n",
      "I found 159 key phrases that were shared by all four gospels: ['Lord', 'Jesus', 'kingdom', 'heaven', 'God', 'disciples', 'way', 'order', 'scribes', 'things', 'name', 'response', 'Pharisees', 'sea', 'earth', 'house', 'people', 'Galilee', 'word', 'Jerusalem', 'city', 'Son', 'heart', 'Father', 'hour', 'priests', 'death', 'world', 'hold', 'Amen', 'son', 'mother', 'leaders', 'Israel', 'sons', 'hand', 'man', 'hands', 'John', 'sake', 'law', 'head', 'Teacher', 'sins', 'Christ', 'Judea', 'land', 'night', 'bread', 'temple', 'synagogues', 'mountain', 'brother', 'woman', 'will', 'day', 'authority', 'Moses', 'one', 'blood', 'David', 'demon', 'Holy Spirit', 'Abraham', 'Angel', 'voice', 'life', 'prophet Isaiah', 'Capernaum', 'evil', 'men', 'body', 'feet', 'everyone', 'words', 'table', 'evening', 'daughter', 'eyes', 'face', 'soul', 'fruit', 'morning', 'counsel', 'Jews', 'place', 'home', 'Jordan', 'power', 'water', 'glory', 'Satan', 'something', 'stone', 'thorns', 'doctrine', 'testimony', 'soldiers', 'Elijah', 'many things', 'others', 'servants', 'flesh', 'garments', 'someone', 'Mount', 'Olives', 'Joseph', 'Mary', 'boy', 'Nazareth', 'darkness', 'Zebedee', 'spirit', 'sight', 'case', 'fire', 'servant', 'dead', 'kind', 'need', 'Sabbath', 'midst', 'fear', 'thanks', 'third day', 'appearance', 'cross', 'beginning', 'resurrection', 'fig tree', 'Bethania', 'birth', 'child', 'hair', 'shoes', 'dove', 'great crowd', 'bed', 'Bethsaida', 'health', 'two fish', 'everything', 'ground', 'multitude', 'town', 'truth', 'Caesar', 'minister', 'end', 'nation', 'middle', 'wedding', 'feast day', 'Passover', 'chalice', 'lots', 'Mary Magdalene', 'tomb']\n"
     ]
    }
   ],
   "source": [
    "# Now, execute these functions and extract all the key phrases from the Four Gospels. \n",
    "\n",
    "John_key_phrase_count = count_key_phrases('NT-04_John_key_phrases.json')\n",
    "Matthew_key_phrase_count = count_key_phrases('NT-01_Matthewkey_phrases.json')\n",
    "Lk_key_phrase_count = count_key_phrases('NT-03_Lukekey_phrases.json')\n",
    "Mk_key_phrase_count = count_key_phrases('NT-02_Mark.key_phrases.json')\n",
    "print(f\"There were {len(John_key_phrase_count)} key phrases found in John: {John_key_phrase_count}\")\n",
    "print(f\"There were {len(Matthew_key_phrase_count)} key phrases found in Matthew: {Matthew_key_phrase_count}\")\n",
    "print(f\"There were {len(Lk_key_phrase_count)} key phrases found in Luke: {Lk_key_phrase_count}\")\n",
    "print(f\"There were {len(Mk_key_phrase_count)} key phrases found in Matthew: {Mk_key_phrase_count}\")\n",
    "\n",
    "shared_gospels =  shared_words(Matthew_key_phrase_count,Mk_key_phrase_count)\n",
    "shared_gospels =  shared_words(shared_gospels,Lk_key_phrase_count)\n",
    "shared_gospels =  shared_words(shared_gospels,John_key_phrase_count)\n",
    "print(f\"I found {len(shared_gospels)} key phrases that were shared by all four gospels: {shared_gospels}\")"
   ]
  },
  {
   "cell_type": "code",
   "execution_count": 16,
   "metadata": {},
   "outputs": [
    {
     "name": "stdout",
     "output_type": "stream",
     "text": [
      "{'Jesus': 63, 'God': 60, 'Lord': 54, 'disciples': 50, 'things': 45, 'kingdom': 42, 'house': 42, 'heaven': 39, 'name': 37, 'word': 36, 'way': 34, 'Pharisees': 34, 'Galilee': 33, 'Jerusalem': 32, 'order': 29, 'people': 29, 'world': 29, 'scribes': 28, 'Son': 28, 'response': 27, 'John': 27, 'city': 26, 'Father': 24, 'death': 24, 'place': 24, 'mother': 23, 'man': 22, 'sea': 21, 'earth': 21, 'hour': 21, 'law': 21, 'temple': 21, 'one': 21, 'testimony': 21, 'heart': 20, 'hands': 20, 'Christ': 20, 'authority': 20, 'Moses': 20, 'eyes': 20, 'Jews': 20, 'Amen': 19, 'Judea': 19, 'glory': 19, 'Teacher': 18, 'brother': 18, 'table': 18, 'others': 18, 'truth': 18, 'priests': 17, 'Israel': 17, 'bread': 17, 'life': 17, 'everyone': 17, 'everything': 17, 'leaders': 16, 'hand': 16, 'night': 16, 'feet': 16, 'head': 15, 'woman': 15, 'Holy Spirit': 15, 'fruit': 15, 'water': 15, 'hold': 14, 'sons': 14, 'sins': 14, 'will': 14, 'David': 14, 'voice': 14, 'men': 14, 'power': 14, 'land': 13, 'body': 13, 'spirit': 13, 'son': 12, 'sake': 12, 'mountain': 12, 'day': 12, 'words': 12, 'evening': 12, 'morning': 12, 'stone': 12, 'many things': 12, 'Joseph': 12, 'sight': 12, 'fear': 12, 'blood': 11, 'Capernaum': 11, 'Satan': 11, 'something': 11, 'Elijah': 11, 'flesh': 11, 'someone': 11, 'darkness': 11, 'midst': 11, 'feast day': 11, 'synagogues': 10, 'demon': 10, 'evil': 10, 'daughter': 10, 'face': 10, 'soul': 10, 'doctrine': 10, 'dead': 10, 'Sabbath': 10, 'beginning': 10, 'ground': 10, 'end': 10, 'Passover': 10, 'Abraham': 9, 'Angel': 9, 'prophet Isaiah': 9, 'Jordan': 9, 'Nazareth': 9, 'servant': 9, 'kind': 9, 'thanks': 9, 'great crowd': 9, 'counsel': 8, 'soldiers': 8, 'servants': 8, 'garments': 8, 'Olives': 8, 'Mary': 8, 'need': 8, 'third day': 8, 'cross': 8, 'Bethania': 8, 'town': 8, 'middle': 8, 'thorns': 7, 'Mount': 7, 'case': 7, 'resurrection': 7, 'fig tree': 7, 'multitude': 7, 'tomb': 7, 'home': 6, 'Zebedee': 6, 'fire': 6, 'hair': 6, 'shoes': 6, 'boy': 5, 'appearance': 5, 'birth': 5, 'child': 5, 'bed': 5, 'Bethsaida': 5, 'wedding': 5, 'Mary Magdalene': 5, 'dove': 4, 'health': 4, 'two fish': 4, 'Caesar': 4, 'minister': 4, 'nation': 4, 'chalice': 4, 'lots': 4}\n"
     ]
    }
   ],
   "source": [
    "# In the first analyses, I will show which phrases are most commonly used across all four Gospels. \n",
    "\n",
    "kpe_totals_mat = dict()\n",
    "kpe_totals_all = dict()\n",
    "for key_phrase in shared_gospels:\n",
    "    \n",
    "    kpe_totals_all[key_phrase] = Matthew_key_phrase_count[key_phrase] + Mk_key_phrase_count[key_phrase] + Lk_key_phrase_count[key_phrase] + John_key_phrase_count[key_phrase]\n",
    "\n",
    "   \n",
    "# Then sort numerically from highest to lowest by the values.\n",
    "\n",
    "kpe_totals_all = {k: v for k, v in sorted(kpe_totals_all.items(), key=lambda item: item[1], reverse = True)}\n",
    "print(kpe_totals_all)"
   ]
  },
  {
   "cell_type": "code",
   "execution_count": 18,
   "metadata": {},
   "outputs": [
    {
     "name": "stdout",
     "output_type": "stream",
     "text": [
      "20\n"
     ]
    }
   ],
   "source": [
    "# Drop keys from Matthew_key_phrase_count that are not inside shared_gospels\n",
    "# But only take the 20 most commonly used key phrases.\n",
    "limiter = 20\n",
    "\n",
    "# Do this by selecting the 20 most first entries from kpe_totals_all\n",
    "filter_list = list(kpe_totals_all.keys())[0:20]\n",
    "\n",
    "Mt_shared_phrases = {k: v for k, v in Matthew_key_phrase_count.items() if k in filter_list}\n",
    "Mk_shared_phrases = {k: v for k, v in Mk_key_phrase_count.items() if k in filter_list}\n",
    "Lk_shared_phrases = {k: v for k, v in Lk_key_phrase_count.items() if k in filter_list}\n",
    "Jn_shared_phrases = {k: v for k, v in John_key_phrase_count.items() if k in filter_list}\n",
    "print(len(Jn_shared_phrases))\n"
   ]
  },
  {
   "cell_type": "code",
   "execution_count": 53,
   "metadata": {},
   "outputs": [
    {
     "name": "stdout",
     "output_type": "stream",
     "text": [
      "(20, 5)\n",
      "          Matthew KPE Count  Luke KPE Count  Mark KPE Count  John KPE Count  \\\n",
      "response                 10               6              10               1   \n",
      "scribes                  11              10               6               1   \n",
      "Son                       8               4               8               8   \n",
      "world                     7               2               5              15   \n",
      "order                    12               6               8               3   \n",
      "\n",
      "          Sum  \n",
      "response   27  \n",
      "scribes    28  \n",
      "Son        28  \n",
      "world      29  \n",
      "order      29  \n"
     ]
    }
   ],
   "source": [
    "\n",
    "# Then populate it with the key phrases and the counts from Matthew_key_phrase_count\n",
    "kpe_totals_df = pd.DataFrame.from_dict(Mt_shared_phrases, orient='index', columns = ['Matthew KPE Count'])\n",
    "\n",
    "# Append a column to kpe_totals_df - for the rest of the gospels. \n",
    "kpe_totals_df['Luke KPE Count'] = kpe_totals_df.index.map(Mk_shared_phrases)\n",
    "kpe_totals_df['Mark KPE Count'] = kpe_totals_df.index.map(Lk_shared_phrases)\n",
    "kpe_totals_df['John KPE Count'] = kpe_totals_df.index.map(Jn_shared_phrases)\n",
    "\n",
    "# Create a Sum column\n",
    "kpe_totals_df['Sum'] = kpe_totals_df.sum(axis=1)\n",
    "\n",
    "# Sort the dataframe by the sum column\n",
    "kpe_totals_df = kpe_totals_df.sort_values(by=['Sum'], ascending=True)\n",
    "\n",
    "# Print out the dimensions of the dataframe\n",
    "print(kpe_totals_df.shape)\n",
    "print(kpe_totals_df.head())\n",
    "    "
   ]
  },
  {
   "cell_type": "code",
   "execution_count": 61,
   "metadata": {},
   "outputs": [
    {
     "data": {
      "application/vnd.plotly.v1+json": {
       "config": {
        "plotlyServerURL": "https://plot.ly"
       },
       "data": [
        {
         "alignmentgroup": "True",
         "hovertemplate": "Gospel=Matthew<br>Key Phrase Count=%{text}<br>Key Phrase=%{y}<extra></extra>",
         "legendgroup": "Matthew",
         "marker": {
          "color": "#636efa",
          "pattern": {
           "shape": ""
          }
         },
         "name": "Matthew",
         "offsetgroup": "Matthew",
         "orientation": "h",
         "showlegend": true,
         "text": [
          10,
          11,
          8,
          7,
          12,
          9,
          8,
          9,
          13,
          10,
          9,
          10,
          16,
          17,
          10,
          10,
          14,
          23,
          15,
          21
         ],
         "textposition": "auto",
         "type": "bar",
         "x": [
          10,
          11,
          8,
          7,
          12,
          9,
          8,
          9,
          13,
          10,
          9,
          10,
          16,
          17,
          10,
          10,
          14,
          23,
          15,
          21
         ],
         "xaxis": "x",
         "y": [
          "response",
          "scribes",
          "Son",
          "world",
          "order",
          "people",
          "Jerusalem",
          "Galilee",
          "way",
          "Pharisees",
          "word",
          "name",
          "heaven",
          "kingdom",
          "house",
          "things",
          "disciples",
          "Lord",
          "God",
          "Jesus"
         ],
         "yaxis": "y"
        },
        {
         "alignmentgroup": "True",
         "hovertemplate": "Gospel=Luke<br>Key Phrase Count=%{text}<br>Key Phrase=%{y}<extra></extra>",
         "legendgroup": "Luke",
         "marker": {
          "color": "#EF553B",
          "pattern": {
           "shape": ""
          }
         },
         "name": "Luke",
         "offsetgroup": "Luke",
         "orientation": "h",
         "showlegend": true,
         "text": [
          6,
          10,
          4,
          2,
          6,
          7,
          5,
          8,
          7,
          6,
          9,
          8,
          6,
          10,
          11,
          6,
          12,
          7,
          11,
          11
         ],
         "textposition": "auto",
         "type": "bar",
         "x": [
          6,
          10,
          4,
          2,
          6,
          7,
          5,
          8,
          7,
          6,
          9,
          8,
          6,
          10,
          11,
          6,
          12,
          7,
          11,
          11
         ],
         "xaxis": "x",
         "y": [
          "response",
          "scribes",
          "Son",
          "world",
          "order",
          "people",
          "Jerusalem",
          "Galilee",
          "way",
          "Pharisees",
          "word",
          "name",
          "heaven",
          "kingdom",
          "house",
          "things",
          "disciples",
          "Lord",
          "God",
          "Jesus"
         ],
         "yaxis": "y"
        },
        {
         "alignmentgroup": "True",
         "hovertemplate": "Gospel=Mark<br>Key Phrase Count=%{text}<br>Key Phrase=%{y}<extra></extra>",
         "legendgroup": "Mark",
         "marker": {
          "color": "#00cc96",
          "pattern": {
           "shape": ""
          }
         },
         "name": "Mark",
         "offsetgroup": "Mark",
         "orientation": "h",
         "showlegend": true,
         "text": [
          10,
          6,
          8,
          5,
          8,
          10,
          12,
          9,
          9,
          10,
          9,
          9,
          13,
          14,
          16,
          14,
          12,
          12,
          20,
          15
         ],
         "textposition": "auto",
         "type": "bar",
         "x": [
          10,
          6,
          8,
          5,
          8,
          10,
          12,
          9,
          9,
          10,
          9,
          9,
          13,
          14,
          16,
          14,
          12,
          12,
          20,
          15
         ],
         "xaxis": "x",
         "y": [
          "response",
          "scribes",
          "Son",
          "world",
          "order",
          "people",
          "Jerusalem",
          "Galilee",
          "way",
          "Pharisees",
          "word",
          "name",
          "heaven",
          "kingdom",
          "house",
          "things",
          "disciples",
          "Lord",
          "God",
          "Jesus"
         ],
         "yaxis": "y"
        },
        {
         "alignmentgroup": "True",
         "hovertemplate": "Gospel=John<br>Key Phrase Count=%{text}<br>Key Phrase=%{y}<extra></extra>",
         "legendgroup": "John",
         "marker": {
          "color": "#ab63fa",
          "pattern": {
           "shape": ""
          }
         },
         "name": "John",
         "offsetgroup": "John",
         "orientation": "h",
         "showlegend": true,
         "text": [
          1,
          1,
          8,
          15,
          3,
          3,
          7,
          7,
          5,
          8,
          9,
          10,
          4,
          1,
          5,
          15,
          12,
          12,
          14,
          16
         ],
         "textposition": "auto",
         "type": "bar",
         "x": [
          1,
          1,
          8,
          15,
          3,
          3,
          7,
          7,
          5,
          8,
          9,
          10,
          4,
          1,
          5,
          15,
          12,
          12,
          14,
          16
         ],
         "xaxis": "x",
         "y": [
          "response",
          "scribes",
          "Son",
          "world",
          "order",
          "people",
          "Jerusalem",
          "Galilee",
          "way",
          "Pharisees",
          "word",
          "name",
          "heaven",
          "kingdom",
          "house",
          "things",
          "disciples",
          "Lord",
          "God",
          "Jesus"
         ],
         "yaxis": "y"
        }
       ],
       "layout": {
        "barmode": "relative",
        "height": 800,
        "legend": {
         "title": {
          "text": "Gospel"
         },
         "tracegroupgap": 0
        },
        "template": {
         "data": {
          "bar": [
           {
            "error_x": {
             "color": "#2a3f5f"
            },
            "error_y": {
             "color": "#2a3f5f"
            },
            "marker": {
             "line": {
              "color": "#E5ECF6",
              "width": 0.5
             },
             "pattern": {
              "fillmode": "overlay",
              "size": 10,
              "solidity": 0.2
             }
            },
            "type": "bar"
           }
          ],
          "barpolar": [
           {
            "marker": {
             "line": {
              "color": "#E5ECF6",
              "width": 0.5
             },
             "pattern": {
              "fillmode": "overlay",
              "size": 10,
              "solidity": 0.2
             }
            },
            "type": "barpolar"
           }
          ],
          "carpet": [
           {
            "aaxis": {
             "endlinecolor": "#2a3f5f",
             "gridcolor": "white",
             "linecolor": "white",
             "minorgridcolor": "white",
             "startlinecolor": "#2a3f5f"
            },
            "baxis": {
             "endlinecolor": "#2a3f5f",
             "gridcolor": "white",
             "linecolor": "white",
             "minorgridcolor": "white",
             "startlinecolor": "#2a3f5f"
            },
            "type": "carpet"
           }
          ],
          "choropleth": [
           {
            "colorbar": {
             "outlinewidth": 0,
             "ticks": ""
            },
            "type": "choropleth"
           }
          ],
          "contour": [
           {
            "colorbar": {
             "outlinewidth": 0,
             "ticks": ""
            },
            "colorscale": [
             [
              0,
              "#0d0887"
             ],
             [
              0.1111111111111111,
              "#46039f"
             ],
             [
              0.2222222222222222,
              "#7201a8"
             ],
             [
              0.3333333333333333,
              "#9c179e"
             ],
             [
              0.4444444444444444,
              "#bd3786"
             ],
             [
              0.5555555555555556,
              "#d8576b"
             ],
             [
              0.6666666666666666,
              "#ed7953"
             ],
             [
              0.7777777777777778,
              "#fb9f3a"
             ],
             [
              0.8888888888888888,
              "#fdca26"
             ],
             [
              1,
              "#f0f921"
             ]
            ],
            "type": "contour"
           }
          ],
          "contourcarpet": [
           {
            "colorbar": {
             "outlinewidth": 0,
             "ticks": ""
            },
            "type": "contourcarpet"
           }
          ],
          "heatmap": [
           {
            "colorbar": {
             "outlinewidth": 0,
             "ticks": ""
            },
            "colorscale": [
             [
              0,
              "#0d0887"
             ],
             [
              0.1111111111111111,
              "#46039f"
             ],
             [
              0.2222222222222222,
              "#7201a8"
             ],
             [
              0.3333333333333333,
              "#9c179e"
             ],
             [
              0.4444444444444444,
              "#bd3786"
             ],
             [
              0.5555555555555556,
              "#d8576b"
             ],
             [
              0.6666666666666666,
              "#ed7953"
             ],
             [
              0.7777777777777778,
              "#fb9f3a"
             ],
             [
              0.8888888888888888,
              "#fdca26"
             ],
             [
              1,
              "#f0f921"
             ]
            ],
            "type": "heatmap"
           }
          ],
          "heatmapgl": [
           {
            "colorbar": {
             "outlinewidth": 0,
             "ticks": ""
            },
            "colorscale": [
             [
              0,
              "#0d0887"
             ],
             [
              0.1111111111111111,
              "#46039f"
             ],
             [
              0.2222222222222222,
              "#7201a8"
             ],
             [
              0.3333333333333333,
              "#9c179e"
             ],
             [
              0.4444444444444444,
              "#bd3786"
             ],
             [
              0.5555555555555556,
              "#d8576b"
             ],
             [
              0.6666666666666666,
              "#ed7953"
             ],
             [
              0.7777777777777778,
              "#fb9f3a"
             ],
             [
              0.8888888888888888,
              "#fdca26"
             ],
             [
              1,
              "#f0f921"
             ]
            ],
            "type": "heatmapgl"
           }
          ],
          "histogram": [
           {
            "marker": {
             "pattern": {
              "fillmode": "overlay",
              "size": 10,
              "solidity": 0.2
             }
            },
            "type": "histogram"
           }
          ],
          "histogram2d": [
           {
            "colorbar": {
             "outlinewidth": 0,
             "ticks": ""
            },
            "colorscale": [
             [
              0,
              "#0d0887"
             ],
             [
              0.1111111111111111,
              "#46039f"
             ],
             [
              0.2222222222222222,
              "#7201a8"
             ],
             [
              0.3333333333333333,
              "#9c179e"
             ],
             [
              0.4444444444444444,
              "#bd3786"
             ],
             [
              0.5555555555555556,
              "#d8576b"
             ],
             [
              0.6666666666666666,
              "#ed7953"
             ],
             [
              0.7777777777777778,
              "#fb9f3a"
             ],
             [
              0.8888888888888888,
              "#fdca26"
             ],
             [
              1,
              "#f0f921"
             ]
            ],
            "type": "histogram2d"
           }
          ],
          "histogram2dcontour": [
           {
            "colorbar": {
             "outlinewidth": 0,
             "ticks": ""
            },
            "colorscale": [
             [
              0,
              "#0d0887"
             ],
             [
              0.1111111111111111,
              "#46039f"
             ],
             [
              0.2222222222222222,
              "#7201a8"
             ],
             [
              0.3333333333333333,
              "#9c179e"
             ],
             [
              0.4444444444444444,
              "#bd3786"
             ],
             [
              0.5555555555555556,
              "#d8576b"
             ],
             [
              0.6666666666666666,
              "#ed7953"
             ],
             [
              0.7777777777777778,
              "#fb9f3a"
             ],
             [
              0.8888888888888888,
              "#fdca26"
             ],
             [
              1,
              "#f0f921"
             ]
            ],
            "type": "histogram2dcontour"
           }
          ],
          "mesh3d": [
           {
            "colorbar": {
             "outlinewidth": 0,
             "ticks": ""
            },
            "type": "mesh3d"
           }
          ],
          "parcoords": [
           {
            "line": {
             "colorbar": {
              "outlinewidth": 0,
              "ticks": ""
             }
            },
            "type": "parcoords"
           }
          ],
          "pie": [
           {
            "automargin": true,
            "type": "pie"
           }
          ],
          "scatter": [
           {
            "fillpattern": {
             "fillmode": "overlay",
             "size": 10,
             "solidity": 0.2
            },
            "type": "scatter"
           }
          ],
          "scatter3d": [
           {
            "line": {
             "colorbar": {
              "outlinewidth": 0,
              "ticks": ""
             }
            },
            "marker": {
             "colorbar": {
              "outlinewidth": 0,
              "ticks": ""
             }
            },
            "type": "scatter3d"
           }
          ],
          "scattercarpet": [
           {
            "marker": {
             "colorbar": {
              "outlinewidth": 0,
              "ticks": ""
             }
            },
            "type": "scattercarpet"
           }
          ],
          "scattergeo": [
           {
            "marker": {
             "colorbar": {
              "outlinewidth": 0,
              "ticks": ""
             }
            },
            "type": "scattergeo"
           }
          ],
          "scattergl": [
           {
            "marker": {
             "colorbar": {
              "outlinewidth": 0,
              "ticks": ""
             }
            },
            "type": "scattergl"
           }
          ],
          "scattermapbox": [
           {
            "marker": {
             "colorbar": {
              "outlinewidth": 0,
              "ticks": ""
             }
            },
            "type": "scattermapbox"
           }
          ],
          "scatterpolar": [
           {
            "marker": {
             "colorbar": {
              "outlinewidth": 0,
              "ticks": ""
             }
            },
            "type": "scatterpolar"
           }
          ],
          "scatterpolargl": [
           {
            "marker": {
             "colorbar": {
              "outlinewidth": 0,
              "ticks": ""
             }
            },
            "type": "scatterpolargl"
           }
          ],
          "scatterternary": [
           {
            "marker": {
             "colorbar": {
              "outlinewidth": 0,
              "ticks": ""
             }
            },
            "type": "scatterternary"
           }
          ],
          "surface": [
           {
            "colorbar": {
             "outlinewidth": 0,
             "ticks": ""
            },
            "colorscale": [
             [
              0,
              "#0d0887"
             ],
             [
              0.1111111111111111,
              "#46039f"
             ],
             [
              0.2222222222222222,
              "#7201a8"
             ],
             [
              0.3333333333333333,
              "#9c179e"
             ],
             [
              0.4444444444444444,
              "#bd3786"
             ],
             [
              0.5555555555555556,
              "#d8576b"
             ],
             [
              0.6666666666666666,
              "#ed7953"
             ],
             [
              0.7777777777777778,
              "#fb9f3a"
             ],
             [
              0.8888888888888888,
              "#fdca26"
             ],
             [
              1,
              "#f0f921"
             ]
            ],
            "type": "surface"
           }
          ],
          "table": [
           {
            "cells": {
             "fill": {
              "color": "#EBF0F8"
             },
             "line": {
              "color": "white"
             }
            },
            "header": {
             "fill": {
              "color": "#C8D4E3"
             },
             "line": {
              "color": "white"
             }
            },
            "type": "table"
           }
          ]
         },
         "layout": {
          "annotationdefaults": {
           "arrowcolor": "#2a3f5f",
           "arrowhead": 0,
           "arrowwidth": 1
          },
          "autotypenumbers": "strict",
          "coloraxis": {
           "colorbar": {
            "outlinewidth": 0,
            "ticks": ""
           }
          },
          "colorscale": {
           "diverging": [
            [
             0,
             "#8e0152"
            ],
            [
             0.1,
             "#c51b7d"
            ],
            [
             0.2,
             "#de77ae"
            ],
            [
             0.3,
             "#f1b6da"
            ],
            [
             0.4,
             "#fde0ef"
            ],
            [
             0.5,
             "#f7f7f7"
            ],
            [
             0.6,
             "#e6f5d0"
            ],
            [
             0.7,
             "#b8e186"
            ],
            [
             0.8,
             "#7fbc41"
            ],
            [
             0.9,
             "#4d9221"
            ],
            [
             1,
             "#276419"
            ]
           ],
           "sequential": [
            [
             0,
             "#0d0887"
            ],
            [
             0.1111111111111111,
             "#46039f"
            ],
            [
             0.2222222222222222,
             "#7201a8"
            ],
            [
             0.3333333333333333,
             "#9c179e"
            ],
            [
             0.4444444444444444,
             "#bd3786"
            ],
            [
             0.5555555555555556,
             "#d8576b"
            ],
            [
             0.6666666666666666,
             "#ed7953"
            ],
            [
             0.7777777777777778,
             "#fb9f3a"
            ],
            [
             0.8888888888888888,
             "#fdca26"
            ],
            [
             1,
             "#f0f921"
            ]
           ],
           "sequentialminus": [
            [
             0,
             "#0d0887"
            ],
            [
             0.1111111111111111,
             "#46039f"
            ],
            [
             0.2222222222222222,
             "#7201a8"
            ],
            [
             0.3333333333333333,
             "#9c179e"
            ],
            [
             0.4444444444444444,
             "#bd3786"
            ],
            [
             0.5555555555555556,
             "#d8576b"
            ],
            [
             0.6666666666666666,
             "#ed7953"
            ],
            [
             0.7777777777777778,
             "#fb9f3a"
            ],
            [
             0.8888888888888888,
             "#fdca26"
            ],
            [
             1,
             "#f0f921"
            ]
           ]
          },
          "colorway": [
           "#636efa",
           "#EF553B",
           "#00cc96",
           "#ab63fa",
           "#FFA15A",
           "#19d3f3",
           "#FF6692",
           "#B6E880",
           "#FF97FF",
           "#FECB52"
          ],
          "font": {
           "color": "#2a3f5f"
          },
          "geo": {
           "bgcolor": "white",
           "lakecolor": "white",
           "landcolor": "#E5ECF6",
           "showlakes": true,
           "showland": true,
           "subunitcolor": "white"
          },
          "hoverlabel": {
           "align": "left"
          },
          "hovermode": "closest",
          "mapbox": {
           "style": "light"
          },
          "paper_bgcolor": "white",
          "plot_bgcolor": "#E5ECF6",
          "polar": {
           "angularaxis": {
            "gridcolor": "white",
            "linecolor": "white",
            "ticks": ""
           },
           "bgcolor": "#E5ECF6",
           "radialaxis": {
            "gridcolor": "white",
            "linecolor": "white",
            "ticks": ""
           }
          },
          "scene": {
           "xaxis": {
            "backgroundcolor": "#E5ECF6",
            "gridcolor": "white",
            "gridwidth": 2,
            "linecolor": "white",
            "showbackground": true,
            "ticks": "",
            "zerolinecolor": "white"
           },
           "yaxis": {
            "backgroundcolor": "#E5ECF6",
            "gridcolor": "white",
            "gridwidth": 2,
            "linecolor": "white",
            "showbackground": true,
            "ticks": "",
            "zerolinecolor": "white"
           },
           "zaxis": {
            "backgroundcolor": "#E5ECF6",
            "gridcolor": "white",
            "gridwidth": 2,
            "linecolor": "white",
            "showbackground": true,
            "ticks": "",
            "zerolinecolor": "white"
           }
          },
          "shapedefaults": {
           "line": {
            "color": "#2a3f5f"
           }
          },
          "ternary": {
           "aaxis": {
            "gridcolor": "white",
            "linecolor": "white",
            "ticks": ""
           },
           "baxis": {
            "gridcolor": "white",
            "linecolor": "white",
            "ticks": ""
           },
           "bgcolor": "#E5ECF6",
           "caxis": {
            "gridcolor": "white",
            "linecolor": "white",
            "ticks": ""
           }
          },
          "title": {
           "x": 0.05
          },
          "xaxis": {
           "automargin": true,
           "gridcolor": "white",
           "linecolor": "white",
           "ticks": "",
           "title": {
            "standoff": 15
           },
           "zerolinecolor": "white",
           "zerolinewidth": 2
          },
          "yaxis": {
           "automargin": true,
           "gridcolor": "white",
           "linecolor": "white",
           "ticks": "",
           "title": {
            "standoff": 15
           },
           "zerolinecolor": "white",
           "zerolinewidth": 2
          }
         }
        },
        "title": {
         "text": "Key Phrases in the New Testament Gospels"
        },
        "width": 1200,
        "xaxis": {
         "anchor": "y",
         "domain": [
          0,
          1
         ],
         "title": {
          "text": "Key Phrase Count"
         }
        },
        "yaxis": {
         "anchor": "x",
         "domain": [
          0,
          1
         ],
         "title": {
          "text": "Key Phrase"
         }
        }
       }
      }
     },
     "metadata": {},
     "output_type": "display_data"
    }
   ],
   "source": [
    "# To configure, see the documentation for plotly bar charts: https://plotly.com/python/horizontal-bar-charts/\n",
    "# And : https://plotly.com/python/reference/bar/\n",
    "\n",
    "# Crate a new dataframe the same as kpe_totals_df but dropping the Sum column\n",
    "\n",
    "df_disp = kpe_totals_df.drop(columns=['Sum']).copy(deep=True)\n",
    "df_disp.rename(columns={'Matthew KPE Count': 'Matthew', 'Luke KPE Count': 'Luke', 'Mark KPE Count': 'Mark', 'John KPE Count': 'John'}, inplace=True)\n",
    "\n",
    "\n",
    "import plotly.express as px\n",
    "df = kpe_totals_df\n",
    "fig = px.bar(df_disp, orientation='h',\n",
    "                labels={'value':'Key Phrase Count', 'index':'Key Phrase', 'variable':'Gospel'},\n",
    "                title='Key Phrases in the New Testament Gospels',\n",
    "                text='value',\n",
    "                height=800,\n",
    "                width=1200\n",
    "                )\n",
    "fig.show()"
   ]
  }
 ],
 "metadata": {
  "kernelspec": {
   "display_name": ".vev",
   "language": "python",
   "name": "python3"
  },
  "language_info": {
   "codemirror_mode": {
    "name": "ipython",
    "version": 3
   },
   "file_extension": ".py",
   "mimetype": "text/x-python",
   "name": "python",
   "nbconvert_exporter": "python",
   "pygments_lexer": "ipython3",
   "version": "3.9.13"
  }
 },
 "nbformat": 4,
 "nbformat_minor": 2
}
