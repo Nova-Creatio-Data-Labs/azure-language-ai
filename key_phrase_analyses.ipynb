{
 "cells": [
  {
   "cell_type": "markdown",
   "metadata": {},
   "source": [
    "## Identify the Key Phrases Most Often Shared between all Four Gospels\n",
    "My goal of this exercise will be to identify the key phrases shared by all the Gospels (Matthew, Mark, Luke, John),and then see how frequently they appear in each book. \n",
    "\n",
    "### Reading In Already-Identified Key Phrases from *bible_key_phrase_extractor.ipynb* Outputs\n",
    "The Jupyter notebook *bible_key_phrase_extractor.ipynb* contains the scripts to make the key phrase extraction using the MS Azure AI Language API. These scripts receive as input the filename of a Bible file (according to the Catholic Public Digitial Version https://bitbucket.org/sbruno/cpdv-json-encoder/src/master/), and then output JSON files into datasets/key_phrases_results summarizing the key phrases in each book, along with their frequency. \n",
    "\n",
    "In short, the key phrase identification work should already be done by the time you reach this Jupyter notebook; all you need to do is analyze the outputs. \n",
    "\n",
    "## Key Phrase Analyses\n",
    "The analyses begins here. First import libraries. "
   ]
  },
  {
   "cell_type": "code",
   "execution_count": 12,
   "metadata": {},
   "outputs": [],
   "source": [
    "# Import libraries\n",
    "\n",
    "import json\n",
    "import pandas as pd\n",
    "import plotly.express as px\n",
    "\n"
   ]
  },
  {
   "cell_type": "markdown",
   "metadata": {},
   "source": [
    "### Function Definitions\n",
    "Define functions to count the frequency of key phrases across an entire book. This assumes that you already have the key phrase extraction completed, with outputs saved into datasets/key_phrases_results\n",
    "\n"
   ]
  },
  {
   "cell_type": "code",
   "execution_count": 10,
   "metadata": {},
   "outputs": [],
   "source": [
    "# Define a function to count the number of key phrases in a given text.\n",
    "# It reads one of the JSON files in datasets/key_phrases_results and then outputs a dictionary whose keys are the key phrases and whose values are the number of times that key phrase appears in the text.\n",
    "# Drop, is > -1, means it just takes the most common phrases.  For example, if drop = 10, it will only return the 10 most common phrases.\n",
    "def count_key_phrases(filename, drop = -1):\n",
    "    \n",
    "    # Read the JSON file using the JSON library at datasets/key_phrases_results/filename and store it in kp_dict\n",
    "    \n",
    "    with open('datasets/key_phrases_results/' + filename) as f:\n",
    "        kp_dict = json.load(f)\n",
    "    \n",
    "    # First, combine all the values from key_phrases_output_dict into a single list.\n",
    "    # This is a list of lists.\n",
    "    # Then flatten this.\n",
    "    \n",
    "    list_of_lists = list(kp_dict.values())\n",
    "    list_of_lists = [item for sublist in list_of_lists for item in sublist]\n",
    "\n",
    "    # Now count the total number of time each phrase appears in list_of_lists\n",
    "    \n",
    "    key_phrase_counts = {i:list_of_lists.count(i) for i in list_of_lists}\n",
    "\n",
    "    # Then sort numerically from highest to lowest by the values.\n",
    "    \n",
    "    key_phrase_counts = {k: v for k, v in sorted(key_phrase_counts.items(), key=lambda item: item[1], reverse = True)}\n",
    "\n",
    "    # Select only the first drop elements of the dictionary\n",
    "    \n",
    "    if drop >-1:\n",
    "        key_phrase_counts = dict(list(key_phrase_counts.items())[0:drop])\n",
    "\n",
    "    return key_phrase_counts\n",
    "\n",
    "\n",
    "# This functions compares two dictionaries (or lists) of key phrases and returns a list of the shared key phrases.\n",
    "# The input to this function must be in either 1) the format of the output of count_key_phrases (a dictionary), or 2) a list containing key phrases.\n",
    "\n",
    "def shared_words(phrases_dict1,phrases_dict2):\n",
    "    \n",
    "    # If lists are passed, there's no change.\n",
    "\n",
    "    if type(phrases_dict1) == list:\n",
    "        list1 = phrases_dict1\n",
    "    if type(phrases_dict2) == list:\n",
    "        list2 = phrases_dict2\n",
    "        \n",
    "    # If dictionaries are passed, extract keys, which are the key phrases.\n",
    "        \n",
    "    if type(phrases_dict1) == dict:\n",
    "        list1 = list(phrases_dict1.keys())\n",
    "    if type(phrases_dict2) == dict:\n",
    "        list2 = list(phrases_dict2.keys())\n",
    "\n",
    "    # Build the mutual list by reviewing list 1 and only accepting entries which appear in list 2.\n",
    "        \n",
    "    shared_words = []\n",
    "    for key_phrase in list1:\n",
    "        if key_phrase in list2:\n",
    "            shared_words.append(key_phrase) \n",
    "\n",
    "    return shared_words"
   ]
  },
  {
   "cell_type": "code",
   "execution_count": 33,
   "metadata": {},
   "outputs": [
    {
     "name": "stdout",
     "output_type": "stream",
     "text": [
      "There were 551 key phrases found in John: {'Jesus': 16, 'things': 15, 'world': 15, 'God': 14, 'Jews': 13, 'Lord': 12, 'disciples': 12, 'testimony': 11, 'Father': 11, 'name': 10, 'truth': 10, 'one': 9, 'place': 9, 'word': 9, 'glory': 8, 'Pharisees': 8, 'hour': 8, 'judgment': 8, 'Son': 8, 'man': 7, 'law': 7, 'Jerusalem': 7, 'Galilee': 7, 'will': 6, 'Moses': 6, 'Passover': 6, 'eternal life': 6, 'Amen': 6, 'works': 6, 'Christ': 6, 'feast day': 6, 'eyes': 6, 'death': 6, 'Simon Peter': 5, 'darkness': 5, 'John': 5, 'voice': 5, 'way': 5, 'water': 5, 'signs': 5, 'temple': 5, 'house': 5, 'beginning': 4, 'men': 4, 'flesh': 4, 'sin': 4, 'heaven': 4, 'Philip': 4, 'Joseph': 4, 'mother': 4, 'something': 4, 'night': 4, 'Judea': 4, 'joy': 4, 'everything': 4, 'eternity': 4, 'Prophet': 4, 'spirit': 4, 'Sabbath': 4, 'high priests': 4, 'Scripture': 4, 'heart': 4, 'next day': 3, 'Holy Spirit': 3, 'Life': 3, 'desert': 3, 'Bethania': 3, 'reason': 3, 'Israel': 3, 'Rabbi': 3, 'Andrew': 3, 'brother': 3, 'city': 3, 'Cana': 3, 'woman': 3, 'brothers': 3, 'order': 3, 'land': 3, 'friend': 3, 'words': 3, 'food': 3, 'fruit': 3, 'great multitude': 3, 'crowd': 3, 'authority': 3, 'love': 3, 'attendants': 3, 'chest': 3, 'Spirit': 3, 'morning': 3, 'people': 3, 'earth': 3, 'life': 3, 'everyone': 3, 'day': 3, 'ground': 3, 'synagogue': 3, 'feet': 3, 'Thomas': 3, 'hands': 3, 'king': 3, 'prince': 3, 'kind': 3, 'Advocate': 3, 'prophet Isaiah': 2, 'Jesus Christ': 2, 'witness': 2, 'sons': 2, 'blood': 2, 'fullness': 2, 'bosom': 2, 'priests': 2, 'Jordan': 2, 'Teacher': 2, 'Messiah': 2, 'Bethsaida': 2, 'Nathanael': 2, 'servants': 2, 'Capernaum': 2, 'sheep': 2, 'Scriptures': 2, 'need': 2, 'Light': 2, 'hand': 2, 'two days': 2, 'sixth hour': 2, 'living water': 2, 'son': 2, 'fathers': 2, 'mountain': 2, 'work': 2, 'Others': 2, 'speech': 2, 'Hebrew': 2, 'dead': 2, 'resurrection': 2, 'evil': 2, 'last day': 2, 'Tiberias': 2, 'thanks': 2, 'brief time': 2, 'secret': 2, 'middle': 2, 'doctrine': 2, 'leaders': 2, 'Gentiles': 2, 'offspring': 2, 'town': 2, 'multitude': 2, 'stone': 2, 'light': 2, 'devil': 2, 'birth': 2, 'others': 2, 'someone': 2, 'Lazarus': 2, 'Mary': 2, 'sister': 2, 'Martha': 2, 'hair': 2, 'sake': 2, 'tomb': 2, 'Judas Iscariot': 2, 'table': 2, 'needy': 2, 'purse': 2, 'head': 2, 'servant': 2, 'bread': 2, 'rooster': 2, 'Judas': 2, 'praetorium': 2, 'Pilate': 2, 'case': 2, 'two others': 2, 'tunic': 2, 'tenth hour': 1, 'fig tree': 1, 'two disciples': 1, 'true Light': 1, 'Word': 1, 'Him': 1, 'power': 1, 'begotten': 1, 'grace': 1, 'Levites': 1, 'answer': 1, 'Elijah': 1, 'midst': 1, 'laces': 1, 'shoes': 1, 'Lamb': 1, 'dove': 1, 'sight': 1, 'translation': 1, 'Jonah': 1, 'Prophets': 1, 'Nazareth': 1, 'deceit': 1, 'six stone water jars': 1, 'purification ritual': 1, 'three measures': 1, 'chief steward': 1, 'many days': 1, 'little cords': 1, 'brass coins': 1, 'three days': 1, 'forty-six years': 1, 'third day': 1, 'good wine': 1, 'wedding': 1, 'two': 1, 'top': 1, 'feast': 1, 'sellers': 1, 'oxen': 1, 'doves': 1, 'moneychangers': 1, 'whip': 1, 'tables': 1, 'commerce': 1, 'Zeal': 1, 'body': 1, 'knowledge': 1, 'persons': 1, 'second time': 1, 'The Father': 1, 'earthly things': 1, 'heavenly things': 1, 'The Spirit': 1, 'begotten Son': 1, 'leader': 1, 'teacher': 1, 'kingdom': 1, 'Nicodemus': 1, 'womb': 1, 'serpent': 1, 'Aenon': 1, 'Salim': 1, 'For': 1, 'prison': 1, 'dispute': 1, 'purification': 1, 'bride': 1, 'groom': 1, 'measure': 1, 'wrath': 1, 'five husbands': 1, 'true worshippers': 1, 'four months': 1, 'water jar': 1, 'Samaritan woman': 1, 'father Jacob': 1, 'Samaria': 1, 'estate': 1, 'journey': 1, 'well': 1, 'Jew': 1, 'drink': 1, 'Samaritans': 1, 'gift': 1, 'request': 1, 'cattle': 1, 'fountain': 1, 'salvation': 1, 'harvest': 1, 'countryside': 1, 'wages': 1, 'labors': 1, 'Savior': 1, 'honor': 1, 'Galileans': 1, 'five porticos': 1, 'thirty-eight years': 1, 'long time': 1, 'shining light': 1, 'greater works': 1, 'greater testimony': 1, 'Pool': 1, 'Evidence': 1, 'Place': 1, 'Mercy': 1, 'lame': 1, 'movement': 1, 'times': 1, 'Angel': 1, 'motion': 1, 'infirmity': 1, 'invalid': 1, 'stretcher': 1, 'bed': 1, 'health': 1, 'grave': 1, 'good': 1, 'burning': 1, 'appearance': 1, 'five barley loaves': 1, 'Two hundred denarii': 1, 'other small boats': 1, 'other boats': 1, 'two fish': 1, 'twelve baskets': 1, 'great wind': 1, 'thirty stadia': 1, 'true bread': 1, 'living bread': 1, 'sea': 1, 'boy': 1, 'grass': 1, 'number': 1, 'evening': 1, 'twenty-five': 1, 'last great day': 1, 'public view': 1, 'The Pharisees': 1, 'One work': 1, 'Tabernacles': 1, 'murmuring': 1, 'fear': 1, 'letters': 1, 'injustice': 1, 'demon': 1, 'circumcision': 1, 'appearances': 1, 'rivers': 1, 'David': 1, 'Bethlehem': 1, 'dissension': 1, 'two men': 1, 'one father': 1, 'Mount': 1, 'Olives': 1, 'scribes': 1, 'adultery': 1, 'front': 1, 'finger': 1, 'judge': 1, 'treasury': 1, 'Beginning': 1, 'Abraham': 1, 'slave': 1, 'hold': 1, 'fornication': 1, 'desires': 1, 'murderer': 1, 'lie': 1, 'self': 1, 'liar': 1, 'Whic': 1, 'ancient times': 1, 'sinful man': 1, 'blind man': 1, 'One thing': 1, 'parents': 1, 'clay': 1, 'spittle': 1, 'pool': 1, 'Siloam': 1, 'bystanders': 1, 'beggar': 1, 'schism': 1, 'sinner': 1, 'wonder': 1, 'worshipper': 1, 'sins': 1, 'twelve hours': 1, 'four days': 1, 'fifteen stadia': 1, 'The Teacher': 1, 'loud voice': 1, 'winding bands': 1, 'separate cloth': 1, 'many signs': 1, 'fourth day': 1, 'same place': 1, 'sick man': 1, 'fellow disciples': 1, 'living God': 1, 'ointment': 1, 'sickness': 1, 'daylight': 1, 'nighttime': 1, 'sleep': 1, 'repose': 1, 'home': 1, 'weeping': 1, 'cave': 1, 'face': 1, 'council': 1, 'Romans': 1, 'three hundred denarii': 1, 'pure spikenard ointment': 1, 'twelve ounces': 1, 'palm trees': 1, 'An Angel': 1, 'great signs': 1, 'small donkey': 1, 'entire world': 1, 'great crowd': 1, 'dinner': 1, 'fragrance': 1, 'concern': 1, 'thief': 1, 'burial': 1, 'branches': 1, 'daughter': 1, 'Zion': 1, 'colt': 1, 'grain': 1, 'wheat': 1, 'minister': 1, 'soul': 1, 'thunder': 1, 'presence': 1, 'hearing': 1, 'arm': 1, 'shallow bowl': 1, 'Little sons': 1, 'new commandment': 1, 'end': 1, 'meal': 1, 'vestments': 1, 'towel': 1, 'example': 1, 'apostle': 1, 'heel': 1, 'morsel': 1, 'Satan': 1, 'delay': 1, 'brief': 1, 'many dwelling places': 1, 'same works': 1, 'greater things': 1, 'Truth': 1, 'commandments': 1, 'orphans': 1, 'Iscariot': 1, 'Peace': 1, 'length': 1, 'other person': 1, 'true vine': 1, 'greater love': 1, 'vinedresser': 1, 'branch': 1, 'fire': 1, 'precepts': 1, 'friends': 1, 'excuse': 1, 'cause': 1, 'excellent service': 1, 'many things': 1, 'synagogues': 1, 'sorrow': 1, 'justice': 1, 'child': 1, 'difficulties': 1, 'proverbs': 1, 'peace': 1, 'confidence': 1, 'true God': 1, 'perdition': 1, 'founding': 1, 'right ear': 1, 'one man': 1, 'other disciple': 1, 'woman servant': 1, 'Torrent': 1, 'Kidron': 1, 'garden': 1, 'cohort': 1, 'lanterns': 1, 'torches': 1, 'weapons': 1, 'Nazarene': 1, 'Malchus': 1, 'scabbard': 1, 'chalice': 1, 'tribune': 1, 'Annas': 1, 'Caiaphas': 1, 'counsel': 1, 'court': 1, 'entrance': 1, 'doorkeeper': 1, 'coals': 1, 'relative': 1, 'accusation': 1, 'evil-doer': 1, 'nation': 1, 'ministers': 1, 'Everyone': 1, 'custom': 1, 'Therefo': 1, 'purple garment': 1, 'greater sin': 1, 'preparation day': 1, 'four parts': 1, 'one part': 1, 'great day': 1, 'first one': 1, 'Mary Magdalene': 1, 'custody': 1, 'soldiers': 1, 'crown': 1, 'thorns': 1, 'response': 1, 'Caesar': 1, 'seat': 1, 'cross': 1, 'Skull': 1, 'side': 1, 'title': 1, 'NAZARENE': 1, 'Greek': 1, 'Latin': 1, 'garments': 1, 'lots': 1, 'vesture': 1, 'Cleophas': 1, 'disciple': 1, 'container': 1, 'vinegar': 1, 'sponge': 1, 'hyssop': 1, 'mouth': 1, 'bodies': 1, 'legs': 1, 'lance': 1, 'bone': 1, 'Arimathea': 1, 'two hundred cubits': 1, 'many other things': 1, 'right side': 1, 'burning coals': 1, 'third time': 1, 'other disciples': 1, 'same disciple': 1, 'large fish': 1, 'Sea': 1, 'Zebedee': 1, 'ship': 1, 'shore': 1, 'Children': 1, 'net': 1, 'boat': 1, 'Approach': 1, 'dine': 1, 'lambs': 1, 'supper': 1, 'saying': 1, 'books': 1}\n",
      "There were 1016 key phrases found in Matthew: {'Lord': 23, 'Jesus': 21, 'kingdom': 17, 'heaven': 16, 'God': 15, 'disciples': 14, 'way': 13, 'order': 12, 'scribes': 11, 'things': 10, 'name': 10, 'response': 10, 'Pharisees': 10, 'sea': 10, 'crowds': 10, 'earth': 10, 'house': 10, 'people': 9, 'time': 9, 'Galilee': 9, 'word': 9, 'faith': 9, 'Jerusalem': 8, 'city': 8, 'Son': 8, 'mouth': 8, 'heart': 8, 'Father': 8, 'hour': 8, 'wife': 7, 'priests': 7, 'death': 7, 'father': 7, 'world': 7, 'hold': 7, 'Peter': 7, 'Amen': 7, 'children': 7, 'son': 6, 'mother': 6, 'days': 6, 'leaders': 6, 'Israel': 6, 'prophets': 6, 'sons': 6, 'hand': 6, 'man': 6, 'hands': 6, 'John': 6, 'sake': 6, 'law': 6, 'head': 6, 'Teacher': 6, 'elders': 6, 'brothers': 5, 'sins': 5, 'Christ': 5, 'Judea': 5, 'land': 5, 'night': 5, 'desert': 5, 'bread': 5, 'temple': 5, 'synagogues': 5, 'mountain': 5, 'brother': 5, 'Hell': 5, 'woman': 5, 'sheep': 5, 'will': 5, 'day': 5, 'authority': 5, 'Moses': 5, 'boat': 5, 'one': 5, 'blood': 5, 'David': 5, 'demon': 5, 'Angels': 5, 'Holy Spirit': 4, 'Abraham': 4, 'Angel': 4, 'prophet': 4, 'region': 4, 'age': 4, 'voice': 4, 'life': 4, 'prophet Isaiah': 4, 'justice': 4, 'Capernaum': 4, 'Simon': 4, 'Gospel': 4, 'maladies': 4, 'right hand': 4, 'mercy': 4, 'evil': 4, 'men': 4, 'body': 4, 'field': 4, 'feet': 4, 'everyone': 4, 'words': 4, 'table': 4, 'evening': 4, 'daughter': 4, 'pity': 4, 'eyes': 4, 'face': 4, 'women': 4, 'soul': 4, 'fruit': 4, 'morning': 4, 'counsel': 4, 'Isaac': 3, 'Jacob': 3, 'Solomon': 3, 'east': 3, 'Jews': 3, 'place': 3, 'home': 3, 'parts': 3, 'food': 3, 'Jordan': 3, 'Sadducees': 3, 'vipers': 3, 'power': 3, 'water': 3, 'foot': 3, 'glory': 3, 'Satan': 3, 'Gentiles': 3, 'demons': 3, 'light': 3, 'gift': 3, 'something': 3, 'prison': 3, 'neighbor': 3, 'hatred': 3, 'heavenly Father': 3, 'towns': 3, 'eye': 3, 'birds': 3, 'air': 3, 'judgment': 3, 'stone': 3, 'thorns': 3, 'iniquity': 3, 'doctrine': 3, 'outer darkness': 3, 'great crowds': 3, 'testimony': 3, 'soldiers': 3, 'teeth': 3, 'sinners': 3, 'cities': 3, 'multitudes': 3, 'compassion': 3, 'shepherd': 3, 'works': 3, 'reed': 3, 'Baptist': 3, 'Elijah': 3, 'miracles': 3, 'rest': 3, 'three days': 3, 'nations': 3, 'sin': 3, 'abundance': 3, 'many things': 3, 'others': 3, 'sun': 3, 'reason': 3, 'servants': 3, 'family': 3, 'consummation': 3, 'king': 3, 'parable': 3, 'flesh': 3, 'garments': 3, 'someone': 3, 'majesty': 3, 'Mount': 3, 'Olives': 3, 'Judah': 2, 'Joseph': 2, 'Mary': 2, 'womb': 2, 'sleep': 2, 'great joy': 2, 'prophet Jeremiah': 2, 'ruler': 2, 'boy': 2, 'treasures': 2, 'gold': 2, 'John the Baptist': 2, 'beloved Son': 2, 'good fruit': 2, 'garment': 2, 'baptism': 2, 'Progeny': 2, 'repentance': 2, 'stones': 2, 'trees': 2, 'Spirit': 2, 'devil': 2, 'charge': 2, 'Nazareth': 2, 'darkness': 2, 'James': 2, 'Zebedee': 2, 'infirmity': 2, 'spirit': 2, 'persecution': 2, 'reward': 2, 'lamp': 2, 'sight': 2, 'council': 2, 'fires': 2, 'altar': 2, 'adultery': 2, 'bill': 2, 'divorce': 2, 'case': 2, 'fornication': 2, 'throne': 2, 'footstool': 2, 'tunic': 2, 'enemy': 2, 'attention': 2, 'trumpet': 2, 'hypocrites': 2, 'streets': 2, 'door': 2, 'temptation': 2, 'fasting': 2, 'clothing': 2, 'grass': 2, 'good things': 2, 'measure': 2, 'fire': 2, 'rock': 2, 'winds': 2, 'entire city': 2, 'leper': 2, 'servant': 2, 'roof': 2, 'west': 2, 'dead': 2, 'waves': 2, 'kind': 2, 'waters': 2, 'thoughts': 2, 'hearts': 2, 'need': 2, 'sacrifice': 2, 'groom': 2, 'hem': 2, 'girl': 2, 'news': 2, 'prince': 2, 'harvest': 2, 'tax collectors': 2, 'twelve disciples': 2, 'wind': 2, 'houses': 2, 'kings': 2, 'ears': 2, 'generation': 2, 'marketplace': 2, 'wine': 2, 'wisdom': 2, 'Tyre': 2, 'Sidon': 2, 'prudent': 2, 'yoke': 2, 'adulterous generation': 2, 'prophet Jonah': 2, 'Sabbath': 2, 'pit': 2, 'account': 2, 'sign': 2, 'mustard seed': 2, 'parables': 2, 'Isaiah': 2, 'joy': 2, 'grain': 2, 'branches': 2, 'leaven': 2, 'foundation': 2, 'wickedness': 2, 'five thousand men': 2, 'five loaves': 2, 'great multitude': 2, 'midst': 2, 'fragments': 2, 'fear': 2, 'four thousand men': 2, 'seven loaves': 2, 'blind': 2, 'lame': 2, 'thanks': 2, 'third day': 2, 'appearance': 2, 'Church': 2, 'obstacle': 2, 'cross': 2, 'census tax': 2, 'snow': 2, 'vision': 2, 'prayer': 2, 'eternal fire': 2, 'beginning': 2, 'camel': 2, 'resurrection': 2, 'fig tree': 2, 'two sons': 2, 'other servants': 2, 'vendors': 2, 'Bethania': 2, 'leaves': 2, 'meal': 2, 'Master': 2, 'dish': 2, 'vigil': 2, 'money': 2, 'left': 2, 'thirty pieces': 2, 'silver': 2, 'Judas': 2, 'procurator': 2, 'vestment': 2, 'fourteen generations': 1, 'And Abijah': 1, 'And Abiud': 1, 'And Zadok': 1, 'king David': 1, 'Jesus Christ': 1, 'book': 1, 'lineage': 1, 'Perez': 1, 'Zerah': 1, 'Tamar': 1, 'Hezron': 1, 'Ram': 1, 'Amminadab': 1, 'Nahshon': 1, 'Salmon': 1, 'Boaz': 1, 'Rahab': 1, 'Ruth': 1, 'Jesse': 1, 'Uriah': 1, 'Rehoboam': 1, 'Asa': 1, 'Jehoshaphat': 1, 'Uzziah': 1, 'Jotham': 1, 'Ahaz': 1, 'Hezekiah': 1, 'Manasseh': 1, 'Amos': 1, 'Josiah': 1, 'Jechoniah': 1, 'transmigration': 1, 'Babylon': 1, 'Shealtiel': 1, 'Zerubbabel': 1, 'Eliakim': 1, 'Azor': 1, 'Achim': 1, 'Eliud': 1, 'Eleazar': 1, 'Matthan': 1, 'husband': 1, 'procreation': 1, 'birth': 1, 'salvation': 1, 'virgin': 1, 'firstborn': 1, 'two years': 1, 'great weeping': 1, 'king Herod': 1, 'Bethlehem': 1, 'Magi': 1, 'star': 1, 'questions': 1, 'child': 1, 'gifts': 1, 'frankincense': 1, 'myrrh': 1, 'Egypt': 1, 'Ramah': 1, 'Rachel': 1, 'Archelaus': 1, 'leather belt': 1, 'wild honey': 1, 'entire region': 1, 'approaching wrath': 1, 'winnowing fan': 1, 'threshing floor': 1, 'same John': 1, 'unquenchable fire': 1, 'paths': 1, 'hair': 1, 'camels': 1, 'waist': 1, 'locusts': 1, 'axe': 1, 'root': 1, 'shoes': 1, 'wheat': 1, 'barn': 1, 'chaff': 1, 'dove': 1, 'forty days': 1, 'forty nights': 1, 'high mountain': 1, 'two brothers': 1, 'various sicknesses': 1, 'great crowd': 1, 'Ten Cities': 1, 'holy city': 1, 'great light': 1, 'tempter': 1, 'pinnacle': 1, 'angels': 1, 'kingdoms': 1, 'Zebulun': 1, 'Naphtali': 1, 'Land': 1, 'shadow': 1, 'net': 1, 'fishermen': 1, 'fishers': 1, 'ship': 1, 'reports': 1, 'Syria': 1, 'grasp': 1, 'torments': 1, 'paralytics': 1, 'two thousand steps': 1, 'one thousand steps': 1, 'good works': 1, 'one iota': 1, 'one dot': 1, 'last quarter': 1, 'great king': 1, 'one hair': 1, 'right cheek': 1, 'right eye': 1, 'Blessed': 1, 'meek': 1, 'peacemakers': 1, 'kinds': 1, 'salt': 1, 'basket': 1, 'ancients': 1, 'adversary': 1, 'judge': 1, 'officer': 1, 'members': 1, 'oaths': 1, 'tooth': 1, 'cloak': 1, 'left hand': 1, 'life-sustaining bread': 1, 'two masters': 1, 'greater value': 1, 'many words': 1, 'future day': 1, 'entire body': 1, 'one cubit': 1, 'alms': 1, 'secret': 1, 'corners': 1, 'room': 1, 'pagans': 1, 'excess': 1, 'needs': 1, 'debts': 1, 'debtors': 1, 'offenses': 1, 'faces': 1, 'rust': 1, 'moth': 1, 'thieves': 1, 'wealth': 1, 'barns': 1, 'stature': 1, 'lilies': 1, 'oven': 1, 'tomorrow': 1, 'many powerful deeds': 1, 'good gifts': 1, 'ravenous wolves': 1, 'evil fruit': 1, 'good tree': 1, 'evil tree': 1, 'wise man': 1, 'foolish man': 1, 'false prophets': 1, 'narrow gate': 1, 'splinter': 1, 'board': 1, 'Hypocrite': 1, 'dogs': 1, 'pearls': 1, 'swine': 1, 'Seek': 1, 'Knock': 1, 'fish': 1, 'snake': 1, 'perdition': 1, 'fruits': 1, 'grapes': 1, 'figs': 1, 'thistles': 1, 'workers': 1, 'rains': 1, 'floods': 1, 'sand': 1, 'ruin': 1, 'many swine feeding': 1, 'steep place': 1, 'great tempest': 1, 'great tranquility': 1, 'one scribe': 1, 'entire herd': 1, 'O Jesus': 1, 'leprosy': 1, 'priest': 1, 'centurion': 1, 'fever': 1, 'spirits': 1, 'infirmities': 1, 'diseases': 1, 'Foxes': 1, 'dens': 1, 'nests': 1, 'Gerasenes': 1, 'tombs': 1, 'shepherds': 1, 'many tax collectors': 1, 'two blind men': 1, 'tax office': 1, 'new cloth': 1, 'twelve years': 1, 'new wine': 1, 'old wineskins': 1, 'entire land': 1, 'tumultuous crowd': 1, 'old garment': 1, 'mute man': 1, 'paralytic': 1, 'bed': 1, 'Matthew': 1, 'physician': 1, 'patch': 1, 'fullness': 1, 'tear': 1, 'flow': 1, 'musicians': 1, 'illness': 1, 'laborers': 1, 'blind see': 1, 'lame walk': 1, 'soft garments': 1, 'lepers': 1, 'deaf': 1, 'offense': 1, 'violence': 1, 'companions': 1, 'music': 1, 'The': 1, 'friend': 1, 'Chorazin': 1, 'Bethsaida': 1, 'haircloth': 1, 'ashes': 1, 'Sodom': 1, 'little': 1, 'souls': 1, 'burden': 1, 'other one': 1, 'smoking wick': 1, 'three nights': 1, 'The Queen': 1, 'dry places': 1, 'good storehouse': 1, 'evil things': 1, 'evil storehouse': 1, 'ripe grain': 1, 'one sheep': 1, 'future age': 1, 'idle word': 1, 'unclean spirit': 1, 'strong man': 1, 'good man': 1, 'evil man': 1, 'Presence': 1, 'guilt': 1, 'withered': 1, 'health': 1, 'beloved': 1, 'victory': 1, 'Beelzebub': 1, 'judges': 1, 'belongings': 1, 'scatters': 1, 'blasphemy': 1, 'belly': 1, 'whale': 1, 'Nineveh': 1, 'preaching': 1, 'South': 1, 'ends': 1, 'one hundred fold': 1, 'a hundred fold': 1, 'fine wheat flour': 1, 'sixty fold': 1, 'thirty fold': 1, 'entire multitude': 1, 'rocky place': 1, 'three measures': 1, 'good soil': 1, 'good seeds': 1, 'shore': 1, 'sower': 1, 'road': 1, 'much': 1, 'depth': 1, 'roots': 1, 'mysteries': 1, 'prophecy': 1, 'side': 1, 'tribulation': 1, 'cares': 1, 'falseness': 1, 'riches': 1, 'weeds': 1, 'plants': 1, 'reapers': 1, 'bundles': 1, 'tree': 1, 'Ange': 1, 'two fish': 1, 'twelve baskets': 1, 'fourth watch': 1, 'For Herod': 1, 'Tetrarch': 1, 'work': 1, 'Herodias': 1, 'birthday': 1, 'oath': 1, 'platter': 1, 'sick': 1, 'remnants': 1, 'number': 1, 'apparition': 1, 'Genesaret': 1, 'seven full baskets': 1, 'evil thoughts': 1, 'false testimonies': 1, 'many others': 1, 'many loaves': 1, 'coastal region': 1, 'young dogs': 1, 'little fish': 1, 'enough bread': 1, 'tradition': 1, 'commandment': 1, 'Hypocrites': 1, 'lips': 1, 'vain': 1, 'doctrines': 1, 'plant': 1, 'understanding': 1, 'everything': 1, 'gut': 1, 'sewer': 1, 'murders': 1, 'adulteries': 1, 'fornications': 1, 'thefts': 1, 'blasphemies': 1, 'washing': 1, 'areas': 1, 'Canaan': 1, 'crumbs': 1, 'masters': 1, 'mute': 1, 'ground': 1, 'Magadan': 1, 'many containers': 1, 'many baskets': 1, 'Caesarea Philippi': 1, 'living God': 1, 'Simon Peter': 1, 'sky': 1, 'storm': 1, 'times': 1, 'Jeremiah': 1, 'gates': 1, 'keys': 1, 'damage': 1, 'exchange': 1, 'reign': 1, 'six days': 1, 'three tabernacles': 1, 'perverse generation': 1, 'first fish': 1, 'half shekel': 1, 'shining cloud': 1, 'lofty mountain': 1, 'multitude': 1, 'knees': 1, 'epileptic': 1, 'harm': 1, 'unbelieving': 1, 'unbelief': 1, 'tribute': 1, 'foreigners': 1, 'hook': 1, 'ten thousand talents': 1, 'one hundred sheep': 1, 'one hundred denarius': 1, 'great millstone': 1, 'three witnesses': 1, 'tax collector': 1, 'two hands': 1, 'two feet': 1, 'two eyes': 1, 'little child': 1, 'little ones': 1, 'fellow servants': 1, 'one eye': 1, 'entire debt': 1, 'neck': 1, 'depths': 1, 'Woe': 1, 'temptations': 1, 'mountains': 1, 'pagan': 1, 'patience': 1, 'torturers': 1, 'one flesh': 1, 'chaste persons': 1, 'false testimony': 1, 'many possessions': 1, 'twelve seats': 1, 'twelve tribes': 1, 'little children': 1, 'eternal life': 1, 'young man': 1, 'borders': 1, 'cause': 1, 'two': 1, 'wives': 1, 'hardness': 1, 'childhood': 1, 'treasure': 1, 'wealthy': 1, 'difficulty': 1, 'needle': 1, 'sisters': 1, 'money changers': 1, 'one word': 1, 'numerous crowd': 1, 'two disciples': 1, 'Bethphage': 1, 'town': 1, 'donkey': 1, 'colt': 1, 'Zion': 1, 'Hosanna': 1, 'tables': 1, 'chairs': 1, 'doves': 1, 'den': 1, 'robbers': 1, 'babes': 1, 'infants': 1, 'praise': 1, 'vineyard': 1, 'prostitutes': 1, 'hedge': 1, 'press': 1, 'tower': 1, 'farmers': 1, 'country estate': 1, 'seven brothers': 1, 'great commandment': 1, 'first commandment': 1, 'two commandments': 1, 'entire law': 1, 'The Lord': 1, 'wedding garment': 1, 'bulls': 1, 'fatlings': 1, 'business': 1, 'contempt': 1, 'armies': 1, 'murderers': 1, 'ways': 1, 'guests': 1, 'ministers': 1, 'weeping': 1, 'gnashing': 1, 'speech': 1, 'Herodians': 1, 'truth': 1, 'influence': 1, 'reputation': 1, 'Caesar': 1, 'coin': 1, 'denarius': 1, 'image': 1, 'inscription': 1, 'offspring': 1, 'Scriptures': 1, 'marriage': 1, 'living': 1, 'doctor': 1, 'mind': 1, 'greatest': 1, 'enemies': 1, 'unbearable burdens': 1, 'first places': 1, 'first chairs': 1, 'long prayers': 1, 'one convert': 1, 'blind guides': 1, 'whitewashed sepulchers': 1, 'greater judgment': 1, 'weightier things': 1, 'heavy': 1, 'shoulders': 1, 'finger': 1, 'phylacteries': 1, 'hems': 1, 'feasts': 1, 'greetings': 1, 'minister': 1, 'widows': 1, 'tithes': 1, 'mint': 1, 'dill': 1, 'cumin': 1, 'gnat': 1, 'cup': 1, 'inside': 1, 'avarice': 1, 'impurity': 1, 'bones': 1, 'filth': 1, 'hypocrisy': 1, 'monuments': 1, 'witnesses': 1, 'serpents': 1, 'wisemen': 1, 'just': 1, 'Abel': 1, 'Zechariah': 1, 'Barachiah': 1, 'hen': 1, 'wings': 1, 'many false prophets': 1, 'false Christs': 1, 'prophet Daniel': 1, 'holy place': 1, 'great signs': 1, 'inner rooms': 1, 'great power': 1, 'great voice': 1, 'four winds': 1, 'furthest limits': 1, 'two men': 1, 'Two women': 1, 'entire world': 1, 'great tribulation': 1, 'buildings': 1, 'advent': 1, 'battles': 1, 'rumors': 1, 'care': 1, 'end': 1, 'nation': 1, 'pestilences': 1, 'famines': 1, 'earthquakes': 1, 'places': 1, 'sorrows': 1, 'charity': 1, 'desolation': 1, 'flight': 1, 'winter': 1, 'present': 1, 'elect': 1, 'wonders': 1, 'error': 1, 'lightning': 1, 'eagles': 1, 'moon': 1, 'stars': 1, 'powers': 1, 'tribes': 1, 'clouds': 1, 'heights': 1, 'branch': 1, 'summer': 1, 'threshold': 1, 'Noah': 1, 'flood': 1, 'ark': 1, 'thief': 1, 'faithful': 1, 'prude': 1, 'very end': 1, 'long journey': 1, 'five talents': 1, 'long time': 1, 'faithful servant': 1, 'two talents': 1, 'lazy servant': 1, 'ten talents': 1, 'useless servant': 1, 'ten virgins': 1, 'remaining virgins': 1, 'five foolish': 1, 'hard man': 1, 'one talent': 1, 'lamps': 1, 'bride': 1, 'oil': 1, 'containers': 1, 'middle': 1, 'cry': 1, 'wedding': 1, 'goods': 1, 'ability': 1, 'accounts': 1, 'gladness': 1, 'bankers': 1, 'arrival': 1, 'interest': 1, 'seat': 1, 'goats': 1, 'right': 1, 'stranger': 1, 'two days': 1, 'high priest': 1, 'alabaster box': 1, 'great deal': 1, 'good deed': 1, 'new covenant': 1, 'rooster crows': 1, 'feast day': 1, 'first day': 1, 'precious ointment': 1, 'Unleavened Bread': 1, 'third time': 1, 'same words': 1, 'one hour': 1, 'Passover': 1, 'court': 1, 'deceitfulness': 1, 'tumult': 1, 'purpose': 1, 'waste': 1, 'burial': 1, 'memory': 1, 'opportunity': 1, 'chalice': 1, 'remission': 1, 'vine': 1, 'hymn': 1, 'flock': 1, 'garden': 1, 'notorious prisoner': 1, 'greater tumult': 1, 'entire cohort': 1, 'solemn day': 1, 'one prisoner': 1, 'scarlet cloak': 1, 'two robbers': 1, 'temple offerings': 1, 'burying place': 1, 'Pontius Pilate': 1, 'entire people': 1, 'conduct': 1, 'snare': 1, 'price': 1, 'potter': 1, 'sojourners': 1, 'Barabbas': 1, 'envy': 1, 'tribunal': 1, 'praetorium': 1, 'crown': 1, 'Cyrene': 1, 'Calvary': 1, 'gall': 1, 'lots': 1, 'accusation': 1, 'THE': 1, 'self': 1, 'Mary Magdalene': 1, 'other Mary': 1, 'great earthquake': 1, 'dead men': 1, 'abundant sum': 1, 'first Sabbath': 1, 'eleven disciples': 1, 'sepulcher': 1, 'guards': 1, 'tomb': 1}\n",
      "There were 1115 key phrases found in Luke: {'God': 20, 'house': 16, 'Jesus': 15, 'things': 14, 'kingdom': 14, 'heaven': 13, 'city': 12, 'Jerusalem': 12, 'Lord': 12, 'disciples': 12, 'people': 10, 'response': 10, 'Pharisees': 10, 'word': 9, 'days': 9, 'name': 9, 'Galilee': 9, 'everyone': 9, 'way': 9, 'wife': 8, 'sight': 8, 'time': 8, 'order': 8, 'Son': 8, 'hands': 8, 'place': 8, 'life': 8, 'Judea': 7, 'temple': 7, 'power': 7, 'law': 7, 'death': 7, 'eyes': 7, 'father': 7, 'John': 7, 'others': 7, 'table': 7, 'parable': 7, 'loud voice': 6, 'everything': 6, 'fear': 6, 'mother': 6, 'Israel': 6, 'Teacher': 6, 'bread': 6, 'glory': 6, 'midst': 6, 'authority': 6, 'faith': 6, 'scribes': 6, 'man': 6, 'friends': 6, 'feet': 6, 'hearts': 5, 'David': 5, 'end': 5, 'fruit': 5, 'world': 5, 'night': 5, 'Christ': 5, 'earth': 5, 'Moses': 5, 'light': 5, 'thoughts': 5, 'brother': 5, 'truth': 5, 'Simon': 5, 'priests': 5, 'Peter': 5, 'men': 5, 'crowds': 5, 'children': 5, 'entire multitude': 4, 'Herod': 4, 'custom': 4, 'hour': 4, 'prayer': 4, 'joy': 4, 'Joseph': 4, 'behold': 4, 'same hour': 4, 'Holy Spirit': 4, 'Nazareth': 4, 'family': 4, 'servant': 4, 'face': 4, 'wisdom': 4, 'journey': 4, 'tax collectors': 4, 'mountain': 4, 'sons': 4, 'water': 4, 'stone': 4, 'testimony': 4, 'woman': 4, 'Sabbaths': 4, 'land': 4, 'James': 4, 'town': 4, 'sinners': 4, 'words': 4, 'rest': 4, 'third day': 4, 'money': 4, 'prophets': 4, 'leaders': 4, 'spirit': 4, 'leader': 4, 'body': 4, 'Angels': 4, 'someone': 4, 'Gentiles': 4, 'distance': 4, 'womb': 3, 'Elijah': 3, 'Mary': 3, 'grace': 3, 'women': 3, 'kind': 3, 'Jacob': 3, 'Angel': 3, 'sign': 3, 'multitude': 3, 'peace': 3, 'parents': 3, 'salvation': 3, 'one': 3, 'widow': 3, 'relatives': 3, 'sins': 3, 'voice': 3, 'Abraham': 3, 'food': 3, 'soldiers': 3, 'shoes': 3, 'hand': 3, 'wheat': 3, 'temptation': 3, 'synagogues': 3, 'heart': 3, 'mouth': 3, 'none': 3, 'sun': 3, 'demons': 3, 'great crowds': 3, 'desert': 3, 'day': 3, 'hold': 3, 'comparison': 3, 'entire crowd': 3, 'ears': 3, 'synagogue': 3, 'middle': 3, 'Apostles': 3, 'diseases': 3, 'enemies': 3, 'return': 3, 'kings': 3, 'generation': 3, 'head': 3, 'long time': 3, 'candle': 3, 'brothers': 3, 'sea': 3, 'many things': 3, 'dead': 3, 'need': 3, 'cross': 3, 'Father': 3, 'Satan': 3, 'darkness': 3, 'wealthy man': 3, 'magistrates': 3, 'abundance': 3, 'field': 3, 'donkey': 3, 'goods': 3, 'pity': 3, 'thanks': 3, 'ground': 3, 'beginning': 2, 'king': 2, 'priest': 2, 'commandments': 2, 'child': 2, 'right': 2, 'Zechariah': 2, 'son': 2, 'wine': 2, 'fathers': 2, 'vision': 2, 'Judah': 2, 'infant': 2, 'feast day': 2, 'ruler': 2, 'room': 2, 'today': 2, 'Simeon': 2, 'consolation': 2, 'behalf': 2, 'resurrection': 2, 'soul': 2, 'daughter': 2, 'husband': 2, 'redemption': 2, 'Passover': 2, 'high priests': 2, 'prophet Isaiah': 2, 'entire region': 2, 'beloved Son': 2, 'Jordan': 2, 'baptism': 2, 'book': 2, 'valley': 2, 'flesh': 2, 'crowd': 2, 'stones': 2, 'trees': 2, 'prison': 2, 'Levi': 2, 'Isaac': 2, 'Noah': 2, 'great famine': 2, 'three years': 2, 'unclean spirits': 2, 'devil': 2, 'captives': 2, 'blind': 2, 'retribution': 2, 'hearing': 2, 'Capernaum': 2, 'Sidon': 2, 'edge': 2, 'deserted': 2, 'copious multitude': 2, 'tax collector': 2, 'great feast': 2, 'large crowd': 2, 'sinful man': 2, 'Simon Peter': 2, 'lake': 2, 'infirmities': 2, 'evil': 2, 'daylight': 2, 'coat': 2, 'pit': 2, 'evil spirits': 2, 'centurion': 2, 'elders': 2, 'Jews': 2, 'gate': 2, 'Baptist': 2, 'experts': 2, 'demon': 2, 'hair': 2, 'unclean spirit': 2, 'cities': 2, 'towns': 2, 'Joanna': 2, 'birds': 2, 'air': 2, 'patience': 2, 'bed': 2, 'lampstand': 2, 'care': 2, 'region': 2, 'villages': 2, 'two men': 2, 'twelve Apostles': 2, 'great crowd': 2, 'sake': 2, 'majesty': 2, 'cloud': 2, 'good things': 2, 'door': 2, 'finger': 2, 'breasts': 2, 'South': 2, 'judgment': 2, 'Solomon': 2, 'Pharisee': 2, 'many years': 2, 'leaven': 2, 'Hell': 2, 'stature': 2, 'treasure': 2, 'lord': 2, 'wedding': 2, 'servants': 2, 'fig tree': 2, 'mustard seed': 2, 'same day': 2, 'blood': 2, 'Pilate': 2, 'tower': 2, 'future': 2, 'ox': 2, 'adversaries': 2, 'grain': 2, 'streets': 2, 'dinner': 2, 'farm': 2, 'delegation': 2, 'estate': 2, 'citizens': 2, 'neck': 2, 'age': 2, 'adultery': 2, 'fire': 2, 'elect': 2, 'robbers': 2, 'sorrow': 2, 'Jericho': 2, 'garments': 2, 'Peace': 2, 'entire earth': 2, 'opportunity': 2, 'mountains': 2, 'countryside': 2, 'evening': 2, 'will': 2, 'The Holy Spirit': 1, 'orderly manner': 1, 'excellent Theophilus': 1, 'strong drink': 1, 'five months': 1, 'sixth month': 1, 'Most High': 1, 'old age': 1, 'hill country': 1, 'The Lord': 1, 'cousin Elizabeth': 1, 'Angel Gabriel': 1, 'Lord God': 1, 'narrative': 1, 'ministers': 1, 'truthfulness': 1, 'section': 1, 'Abijah': 1, 'daughters': 1, 'Aaron': 1, 'justifications': 1, 'blame': 1, 'years': 1, 'lot': 1, 'incense': 1, 'altar': 1, 'exultation': 1, 'nativity': 1, 'prudence': 1, 'completed': 1, 'signs': 1, 'office': 1, 'reproach': 1, 'virgin': 1, 'JESUS': 1, 'throne': 1, 'eternity': 1, 'handmaid': 1, 'greeting': 1, 'two young pigeons': 1, 'Caesar Augustus': 1, 'first enrollment': 1, 'firstborn son': 1, 'swaddling clothes': 1, 'same region': 1, 'great fear': 1, 'great joy': 1, 'celestial army': 1, 'good will': 1, 'many hearts': 1, 'eighty-fourth year': 1, 'seven years': 1, 'eight days': 1, 'O Lord': 1, 'decree': 1, 'Syria': 1, 'Quirinius': 1, 'espoused': 1, 'birth': 1, 'manger': 1, 'inn': 1, 'shepherds': 1, 'watch': 1, 'flock': 1, 'brightness': 1, 'Saviour': 1, 'Glory': 1, 'Bethlehem': 1, 'boy': 1, 'purification': 1, 'male': 1, 'sacrifice': 1, 'pair': 1, 'turtledoves': 1, 'answer': 1, 'arms': 1, 'revelation': 1, 'nations': 1, 'ruin': 1, 'prophetess': 1, 'Anna': 1, 'Phanuel': 1, 'tribe': 1, 'Asher': 1, 'virginity': 1, 'fasting': 1, 'fullness': 1, 'solemnity': 1, 'company': 1, 'acquaintances': 1, 'many other things': 1, 'fifteenth year': 1, 'Tiberius Caesar': 1, 'Pontius Pilate': 1, 'level ways': 1, 'approaching wrath': 1, 'good fruit': 1, 'two coats': 1, 'false accusations': 1, 'winnowing fan': 1, 'threshing floor': 1, 'corporal appearance': 1, 'Philip tetrarch': 1, 'Lysanias tetrarch': 1, 'rough paths': 1, 'unquenchable fire': 1, 'Herod tetrarch': 1, 'reign': 1, 'procurator': 1, 'Ituraea': 1, 'Trachonitis': 1, 'Abilene': 1, 'Annas': 1, 'Caiaphas': 1, 'wilderness': 1, 'repentance': 1, 'remission': 1, 'sermons': 1, 'hill': 1, 'progeny': 1, 'vipers': 1, 'fruits': 1, 'axe': 1, 'root': 1, 'crowed': 1, 'pay': 1, 'laces': 1, 'barn': 1, 'chaff': 1, 'Herodias': 1, 'evils': 1, 'dove': 1, 'Heli': 1, 'Matthat': 1, 'Melchi': 1, 'Jannai': 1, 'Mattathias': 1, 'Amos': 1, 'Nahum': 1, 'Esli': 1, 'Naggai': 1, 'Maath': 1, 'Semein': 1, 'Josech': 1, 'Joda': 1, 'Joanan': 1, 'Rhesa': 1, 'Zerubbabel': 1, 'Shealtiel': 1, 'Neri': 1, 'Addi': 1, 'Cosam': 1, 'Elmadam': 1, 'Er.': 1, 'Joshua': 1, 'Eliezer': 1, 'Jorim': 1, 'Jonam': 1, 'Eliakim': 1, 'Melea': 1, 'Menna': 1, 'Mattatha': 1, 'Nathan': 1, 'Jesse': 1, 'Obed': 1, 'Boaz': 1, 'Salmon': 1, 'Nahshon': 1, 'Amminadab': 1, 'Aram': 1, 'Hezron': 1, 'Perez': 1, 'Terah': 1, 'Nahor': 1, 'Serug': 1, 'Reu': 1, 'Peleg': 1, 'Eber': 1, 'Shelah': 1, 'Cainan': 1, 'Arphaxad': 1, 'Shem': 1, 'Lamech': 1, 'Methuselah': 1, 'Enoch': 1, 'Jared': 1, 'Mahalalel': 1, 'Enos': 1, 'Seth': 1, 'many great things': 1, 'many widows': 1, 'many lepers': 1, 'high mountain': 1, 'Angels charge': 1, 'acceptable year': 1, 'six months': 1, 'entire land': 1, 'Holy One': 1, 'various diseases': 1, 'prophet Elisha': 1, 'unclean demon': 1, 'severe fever': 1, 'forty days': 1, 'Sabbath day': 1, 'wildernes': 1, 'kingdoms': 1, 'moment': 1, 'parapet': 1, 'foot': 1, 'fame': 1, 'The': 1, 'contrite': 1, 'forgiveness': 1, 'minister': 1, 'scripture': 1, 'Physician': 1, 'country': 1, 'heavens': 1, 'Zarephath': 1, 'Naaman': 1, 'Syrian': 1, 'anger': 1, 'doctrine': 1, 'grip': 1, 'deep water': 1, 'customs office': 1, 'new garment': 1, 'old garment': 1, 'new wine': 1, 'other boat': 1, 'roof tiles': 1, 'new one': 1, 'old one': 1, 'old wineskins': 1, 'two boats': 1, 'Genesaret': 1, 'fishermen': 1, 'nets': 1, 'catch': 1, 'associates': 1, 'knees': 1, 'astonishment': 1, 'Zebedee': 1, 'leprosy': 1, 'offering': 1, 'cleansing': 1, 'doctors': 1, 'front': 1, 'blasphemies': 1, 'paralytic': 1, 'miracles': 1, 'maladies': 1, 'supplications': 1, 'groom': 1, 'patch': 1, 'second first Sabbath': 1, 'Judas Iscariot': 1, 'level place': 1, 'same things': 1, 'same measure': 1, 'grain field': 1, 'false prophets': 1, 'good measure': 1, 'right hand': 1, 'Presence': 1, 'accusation': 1, 'health': 1, 'madness': 1, 'Andrew': 1, 'Philip': 1, 'Bartholomew': 1, 'Matthew': 1, 'Thomas': 1, 'Alphaeus': 1, 'Jude': 1, 'traitor': 1, 'seacoast': 1, 'Tyre': 1, 'reward': 1, 'cheek': 1, 'tunic': 1, 'credit': 1, 'High': 1, 'lap': 1, 'teacher': 1, 'straw': 1, 'log': 1, 'entire surrounding region': 1, 'great faith': 1, 'abundant crowd': 1, 'dead youth': 1, 'blind see': 1, 'lame walk': 1, 'soft garments': 1, 'costly apparel': 1, 'alabaster container': 1, 'great prophet': 1, 'voracious man': 1, 'prophet John': 1, 'illness': 1, 'nation': 1, 'roof': 1, 'deceased': 1, 'person': 1, 'mercy': 1, 'coffin': 1, 'wounds': 1, 'lepers': 1, 'deaf': 1, 'offense': 1, 'messengers': 1, 'reed': 1, 'wind': 1, 'Behold': 1, 'finery': 1, 'counsel': 1, 'marketplace': 1, 'drinker': 1, 'ointment': 1, 'tears': 1, 'Most High God': 1, 'many other women': 1, 'many occasions': 1, 'plain sight': 1, 'little boat': 1, 'deserted places': 1, 'sane mind': 1, 'many demons': 1, 'many swine': 1, 'good soil': 1, 'seven demons': 1, 'numerous crowd': 1, 'noble heart': 1, 'raging water': 1, 'Chuza': 1, 'steward': 1, 'Susanna': 1, 'resources': 1, 'sower': 1, 'seed': 1, 'rock': 1, 'moisture': 1, 'thorns': 1, 'mystery': 1, 'roots': 1, 'testing': 1, 'concerns': 1, 'riches': 1, 'pleasures': 1, 'container': 1, 'crossing': 1, 'windstorm': 1, 'danger': 1, 'tranquility': 1, 'Gerasenes': 1, 'clothes': 1, 'sepulchers': 1, 'chains': 1, 'fetters': 1, 'abyss': 1, 'herd': 1, 'precipice': 1, 'legion': 1, 'five thousand men': 1, 'five loaves': 1, 'two tunics': 1, 'two fish': 1, 'twelve baskets': 1, 'The Christ': 1, 'holy Angels': 1, 'three tabernacles': 1, 'surrounding towns': 1, 'staff': 1, 'traveling': 1, 'bag': 1, 'dust': 1, 'tetrarch': 1, 'Bethsaida': 1, 'cures': 1, 'something': 1, 'groups': 1, 'fragments': 1, 'multitudes': 1, 'harm': 1, 'appearance': 1, 'countenance': 1, 'vestment': 1, 'departure': 1, 'sleep': 1, 'seven other spirits': 1, 'strong armed man': 1, 'three loaves': 1, 'continued insistence': 1, 'waterless places': 1, 'bushel basket': 1, 'shining lamp': 1, 'daily bread': 1, 'mute man': 1, 'stronger one': 1, 'entire body': 1, 'prophet Jonah': 1, 'wicked generation': 1, 'friend': 1, 'Seek': 1, 'Knock': 1, 'fish': 1, 'serpent': 1, 'egg': 1, 'scorpion': 1, 'goodness': 1, 'Beelzebub': 1, 'judges': 1, 'entrance': 1, 'weapons': 1, 'spoils': 1, 'scatters': 1, 'Ninevites': 1, 'queen': 1, 'ends': 1, 'Nineveh': 1, 'preaching': 1, 'eye': 1, 'part': 1, 'cup': 1, 'plate': 1, 'plunder': 1, 'two small coins': 1, 'five sparrows': 1, 'many sparrows': 1, 'fertile land': 1, 'one cubit': 1, 'little flock': 1, 'second watch': 1, 'third watch': 1, 'many goods': 1, 'bedrooms': 1, 'housetops': 1, 'hairs': 1, 'Everyone': 1, 'authorities': 1, 'inheritance': 1, 'judge': 1, 'arbitrator': 1, 'avarice': 1, 'crops': 1, 'barns': 1, 'larger': 1, 'clothing': 1, 'ravens': 1, 'storehouse': 1, 'lilies': 1, 'grass': 1, 'furnace': 1, 'high': 1, 'justice': 1, 'alms': 1, 'purses': 1, 'thief': 1, 'moth': 1, 'waists': 1, 'lamps': 1, 'fine wheat flour': 1, 'greater transgressors': 1, 'eighteen years': 1, 'six days': 1, 'great tree': 1, 'three measures': 1, 'narrow gate': 1, 'For Herod': 1, 'following day': 1, 'other Galileans': 1, 'sacrifices': 1, 'Siloam': 1, 'vineyard': 1, 'cultivator': 1, 'fertilizer': 1, 'infirmity': 1, 'result': 1, 'stall': 1, 'restraint': 1, 'figure': 1, 'garden': 1, 'branches': 1, 'presence': 1, 'workers': 1, 'iniquity': 1, 'gnashing': 1, 'teeth': 1, 'East': 1, 'West': 1, 'North': 1, 'healings': 1, 'tomorrow': 1, 'nest': 1, 'wings': 1, 'first seats': 1, 'wealthy neighbors': 1, 'five yoke': 1, 'first place': 1, 'last place': 1, 'lowest place': 1, 'Sabbath': 1, 'edema': 1, 'shame': 1, 'lunch': 1, 'repayment': 1, 'lame': 1, 'recompense': 1, 'excuses': 1, 'neighborhoods': 1, 'hedges': 1, 'sisters': 1, 'disciple': 1, 'costs': 1, 'means': 1, 'foundation': 1, 'war': 1, 'terms': 1, 'Salt': 1, 'flavor': 1, 'soil': 1, 'one sinner repenting': 1, 'one hundred sheep': 1, 'ten drachmas': 1, 'two sons': 1, 'many days': 1, 'long journey': 1, 'abundant bread': 1, 'best robe': 1, 'young goat': 1, 'loose women': 1, 'fatted calf': 1, 'younger son': 1, 'elder son': 1, 'one drachma': 1, 'distant region': 1, 'shoulders': 1, 'neighbors': 1, 'portion': 1, 'substance': 1, 'luxury': 1, 'swine': 1, 'belly': 1, 'scraps': 1, 'senses': 1, 'compassion': 1, 'ring': 1, 'feast': 1, 'music': 1, 'dancing': 1, 'commandment': 1, 'One hundred jars': 1, 'One hundred measures': 1, 'record books': 1, 'eternal tabernacles': 1, 'two lords': 1, 'one dot': 1, 'fine linen': 1, 'great chaos': 1, 'five brothers': 1, 'iniquitous mammon': 1, 'bad things': 1, 'iniquitous steward': 1, 'father Abraham': 1, 'account': 1, 'stewardship': 1, 'houses': 1, 'debtors': 1, 'oil': 1, 'invoice': 1, 'abomination': 1, 'violence': 1, 'purple': 1, 'beggar': 1, 'sores': 1, 'crumbs': 1, 'dogs': 1, 'bosom': 1, 'Lazarus': 1, 'tip': 1, 'tongue': 1, 'ten leprous men': 1, 'mulberry tree': 1, 'useless servants': 1, 'lightning flashes': 1, 'one bed': 1, 'one day': 1, 'scandals': 1, 'millstone': 1, 'little': 1, 'cattle': 1, 'Samaria': 1, 'Samaritan': 1, 'foreigner': 1, 'wives': 1, 'marriage': 1, 'ark': 1, 'flood': 1, 'Lot': 1, 'Sodom': 1, 'brimstone': 1, 'rooftop': 1, 'grindstone': 1, 'eagles': 1, 'Good teacher': 1, 'eternal life': 1, 'false testimony': 1, 'Two men': 1, 'little children': 1, 'One thing': 1, 'blind man': 1, 'unjust judge': 1, 'adversary': 1, 'vindication': 1, 'adulterers': 1, 'tithes': 1, 'chest': 1, 'sinner': 1, 'obstacle': 1, 'Amen': 1, 'No': 1, 'youth': 1, 'camel': 1, 'needle': 1, 'home': 1, 'praise': 1, 'sycamore tree': 1, 'ten pounds': 1, 'good servant': 1, 'ten cities': 1, 'five pounds': 1, 'five cities': 1, 'wicked servant': 1, 'powerful works': 1, 'one half': 1, 'one pound': 1, 'ten servants': 1, 'small matter': 1, 'Mount Olivet': 1, 'austere man': 1, 'colt standing': 1, 'Zacchaeus': 1, 'delay': 1, 'nobility': 1, 'business': 1, 'cloth': 1, 'bank': 1, 'interest': 1, 'bystanders': 1, 'Bethphage': 1, 'Bethania': 1, 'service': 1, 'owners': 1, 'descent': 1, 'side': 1, 'visitation': 1, 'two small brass coins': 1, 'excellent stones': 1, 'great earthquakes': 1, 'various places': 1, 'great wrath': 1, 'great power': 1, 'poor widow': 1, 'great signs': 1, 'great distress': 1, 'wealthy': 1, 'donations': 1, 'offertory': 1, 'pauper': 1, 'gifts': 1, 'battles': 1, 'seditions': 1, 'People': 1, 'pestilences': 1, 'famines': 1, 'terrors': 1, 'custody': 1, 'governors': 1, 'advance': 1, 'souls': 1, 'army': 1, 'desolation': 1, 'sword': 1, 'moon': 1, 'stars': 1, 'confusion': 1, 'roaring': 1, 'waves': 1, 'apprehension': 1, 'powers': 1, 'notice': 1, 'summer': 1, 'lineage': 1, 'self-indulgence': 1, 'inebriation': 1, 'cares': 1, 'snare': 1, 'morning': 1, 'Pascal lamb': 1, 'large cenacle': 1, 'new covenant': 1, 'twelve tribes': 1, 'two swords': 1, 'Unleavened Bread': 1, 'Feast': 1, 'Judas': 1, 'Iscariot': 1, 'agreement': 1, 'promise': 1, 'pitcher': 1, 'guestroom': 1, 'chalice': 1, 'vine': 1, 'commemoration': 1, 'meal': 1, 'betrayer': 1, 'contention': 1, 'server': 1, 'trials': 1, 'thrones': 1, 'rooster': 1, 'provisions': 1, 'Mount': 1, 'Olives': 1, 'throw': 1, 'agony': 1, 'sweat': 1, 'drops': 1, 'two other criminals': 1, 'many words': 1, 'white garment': 1, 'green wood': 1, 'same condemnation': 1, 'sixth hour': 1, 'ninth hour': 1, 'one person': 1, 'voices': 1, 'tribute': 1, 'Caesar': 1, 'case': 1, 'jurisdiction': 1, 'Barabbas': 1, 'sedition': 1, 'murder': 1, 'intensity': 1, 'petition': 1, 'Cyrene': 1, 'Daughters': 1, 'wombs': 1, 'hills': 1, 'left': 1, 'lots': 1, 'vinegar': 1, 'inscription': 1, 'letters': 1, 'Greek': 1, 'Latin': 1, 'Hebrew': 1, 'deeds': 1, 'Paradise': 1, 'veil': 1, 'first Sabbath': 1, 'first light': 1, 'aromatic spices': 1, 'sinful men': 1, 'linen cloths': 1, 'sixty stadia': 1, 'noble prophet': 1, 'roasted fish': 1, 'Mary Magdalene': 1, 'other women': 1, 'Lord Jesus': 1, 'tomb': 1, 'minds': 1, 'apparel': 1, 'faces': 1, 'living': 1, 'eleven': 1, 'delusion': 1, 'Emmaus': 1, 'Cleopas': 1, 'works': 1, 'Redeemer': 1, 'top': 1, 'daytime': 1, 'Prophets': 1, 'Scriptures': 1, 'breaking': 1, 'bones': 1, 'disbelief': 1, 'wonder': 1, 'piece': 1, 'honeycomb': 1, 'Psalms': 1}\n",
      "There were 724 key phrases found in Matthew: {'disciples': 12, 'God': 11, 'house': 11, 'Jesus': 11, 'kingdom': 10, 'scribes': 10, 'John': 9, 'James': 9, 'word': 9, 'Galilee': 8, 'name': 8, 'Peter': 8, 'Lord': 7, 'father': 7, 'mother': 7, 'way': 7, 'sea': 7, 'people': 7, 'authority': 6, 'things': 6, 'Pharisees': 6, 'order': 6, 'others': 6, 'everything': 6, 'response': 6, 'heaven': 6, 'Gospel': 5, 'sins': 5, 'Jerusalem': 5, 'Simon': 5, 'brother': 5, 'evening': 5, 'table': 5, 'great crowd': 5, 'hand': 5, 'Amen': 5, 'many things': 5, 'heart': 5, 'Holy Spirit': 4, 'Satan': 4, 'time': 4, 'boat': 4, 'synagogue': 4, 'sun': 4, 'pity': 4, 'Moses': 4, 'faith': 4, 'place': 4, 'Son': 4, 'Teacher': 4, 'one': 4, 'ears': 4, 'bread': 4, 'doctrine': 4, 'body': 4, 'Elijah': 4, 'leaders': 4, 'head': 4, 'elders': 4, 'death': 4, 'Christ': 4, 'temple': 4, 'morning': 4, 'unclean spirits': 3, 'loud voice': 3, 'Judea': 3, 'water': 3, 'Andrew': 3, 'hands': 3, 'Capernaum': 3, 'Sabbaths': 3, 'reason': 3, 'testimony': 3, 'hearts': 3, 'spirit': 3, 'earth': 3, 'Sabbath': 3, 'David': 3, 'priests': 3, 'great multitude': 3, 'hold': 3, 'parables': 3, 'end': 3, 'unclean spirit': 3, 'man': 3, 'city': 3, 'countryside': 3, 'feet': 3, 'daughter': 3, 'power': 3, 'fear': 3, 'something': 3, 'dead': 3, 'tomb': 3, 'crowd': 3, 'woman': 3, 'ground': 3, 'eyes': 3, 'soul': 3, 'Olives': 3, 'fruit': 3, 'stone': 3, 'little ways': 2, 'beloved Son': 2, 'many demons': 2, 'beginning': 2, 'baptism': 2, 'Jordan': 2, 'Nazareth': 2, 'Zebedee': 2, 'maladies': 2, 'door': 2, 'cities': 2, 'leper': 2, 'entire crowd': 2, 'days': 2, 'Alphaeus': 2, 'sinners': 2, 'Judas Iscariot': 2, 'middle': 2, 'evil': 2, 'life': 2, 'blindness': 2, 'counsel': 2, 'Herodians': 2, 'Tyre': 2, 'Sidon': 2, 'demons': 2, 'Philip': 2, 'thorns': 2, 'deception': 2, 'someone': 2, 'Ten Cities': 2, 'demon': 2, 'borders': 2, 'blood': 2, 'benefit': 2, 'garment': 2, 'truth': 2, 'tumult': 2, 'son': 2, 'Joseph': 2, 'unbelief': 2, 'Baptist': 2, 'work': 2, 'wife': 2, 'girl': 2, 'little': 2, 'sheep': 2, 'shepherd': 2, 'Jews': 2, 'parable': 2, 'sons': 2, 'children': 2, 'midst': 2, 'three days': 2, 'thanks': 2, 'sign': 2, 'village': 2, 'trees': 2, 'cross': 2, 'sake': 2, 'world': 2, 'glory': 2, 'Father': 2, 'voice': 2, 'manner': 2, 'prayer': 2, 'fig tree': 2, 'Bethania': 2, 'garments': 2, 'distance': 2, 'case': 2, 'right hand': 2, 'scripture': 2, 'Angels': 2, 'Israel': 2, 'Mount': 2, 'advance': 2, 'flesh': 2, 'night': 2, 'feast day': 2, 'Mary Magdalene': 2, 'Salome': 2, 'entrance': 2, 'prophet Isaiah': 1, 'leather belt': 1, 'wild honey': 1, 'forty nights': 1, 'wild animals': 1, 'various illnesses': 1, 'neighboring towns': 1, 'high priest': 1, 'forty days': 1, 'Holy One': 1, 'new doctrine': 1, 'entire region': 1, 'entire city': 1, 'deserted places': 1, 'Jesus Christ': 1, 'Angel': 1, 'face': 1, 'paths': 1, 'repentance': 1, 'remission': 1, 'river': 1, 'camel': 1, 'hair': 1, 'waist': 1, 'locusts': 1, 'shoes': 1, 'heavens': 1, 'dove': 1, 'shore': 1, 'Sea': 1, 'nets': 1, 'fishermen': 1, 'fishers': 1, 'fame': 1, 'law': 1, 'fever': 1, 'everyone': 1, 'leprosy': 1, 'cleansing': 1, 'direction': 1, 'high priest Abiathar': 1, 'many tax collectors': 1, 'four men': 1, 'customs office': 1, 'new cloth': 1, 'old garment': 1, 'new addition': 1, 'ripe grain': 1, 'new wine': 1, 'old wineskins': 1, 'room': 1, 'paralytic': 1, 'roof': 1, 'stretcher': 1, 'sight': 1, 'Levi': 1, 'need': 1, 'doctor': 1, 'wedding': 1, 'patch': 1, 'tear': 1, 'grains': 1, 'Presence': 1, 'The': 1, 'small boat': 1, 'eternal offense': 1, 'strong man': 1, 'withered': 1, 'good': 1, 'health': 1, 'anger': 1, 'Idumea': 1, 'wounds': 1, 'mountain': 1, 'twelve': 1, 'infirmities': 1, 'Boanerges': 1, 'Thunder': 1, 'Bartholomew': 1, 'Matthew': 1, 'Thomas': 1, 'Thaddeus': 1, 'Canaanite': 1, 'Beelzebub': 1, 'prince': 1, 'blasphemies': 1, 'forgiveness': 1, 'eternity': 1, 'will': 1, 'sister': 1, 'great wind storm': 1, 'great branches': 1, 'great tranquility': 1, 'great fear': 1, 'stony ground': 1, 'next tribulation': 1, 'worldly tasks': 1, 'other boats': 1, 'other things': 1, 'good soil': 1, 'limited time': 1, 'full grain': 1, 'mustard seed': 1, 'one boat': 1, 'bear fruit': 1, 'land': 1, 'sower': 1, 'birds': 1, 'air': 1, 'depth': 1, 'root': 1, 'mystery': 1, 'gladness': 1, 'persecution': 1, 'riches': 1, 'desires': 1, 'lamp': 1, 'basket': 1, 'bed': 1, 'secret': 1, 'measure': 1, 'plant': 1, 'sickle': 1, 'harvest': 1, 'seeds': 1, 'shadow': 1, 'day': 1, 'waves': 1, 'stern': 1, 'pillow': 1, 'Most High God': 1, 'great force': 1, 'sane mind': 1, 'twelve years': 1, 'several physicians': 1, 'Talitha koumi': 1, 'great astonishment': 1, 'dwelling place': 1, 'great herd': 1, 'Little girl': 1, 'young girl': 1, 'spirits': 1, 'strait': 1, 'region': 1, 'Gerasenes': 1, 'tombs': 1, 'chains': 1, 'shackles': 1, 'mountains': 1, 'Legion': 1, 'swine': 1, 'permission': 1, 'rulers': 1, 'flow': 1, 'source': 1, 'bleeding': 1, 'wound': 1, 'peace': 1, 'two hundred denarii': 1, 'two tunics': 1, 'two fish': 1, 'powerful deeds': 1, 'great offense': 1, 'traveling bag': 1, 'money belt': 1, 'holy man': 1, 'first rulers': 1, 'many hours': 1, 'green grass': 1, 'opportune time': 1, 'nearby villages': 1, 'For Herod': 1, 'same Herodias': 1, 'king Herod': 1, 'country': 1, 'wisdom': 1, 'carpenter': 1, 'Mary': 1, 'Jude': 1, 'sisters': 1, 'prophet': 1, 'honor': 1, 'kindred': 1, 'miracles': 1, 'twos': 1, 'journey': 1, 'staff': 1, 'sandals': 1, 'dust': 1, 'oil': 1, 'treachery': 1, 'just': 1, 'feast': 1, 'birthday': 1, 'tribunes': 1, 'haste': 1, 'platter': 1, 'oath': 1, 'executioner': 1, 'Apostles': 1, 'deserted': 1, 'foot': 1, 'towns': 1, 'provisions': 1, 'loaves': 1, 'Five': 1, 'groups': 1, 'divisions': 1, 'hundreds': 1, 'fifties': 1, 'many other similar things': 1, 'many other things': 1, 'bronze containers': 1, 'evil thoughts': 1, 'evil eye': 1, 'common hands': 1, 'unwashed hands': 1, 'young dogs': 1, 'tradition': 1, 'market': 1, 'washings': 1, 'cups': 1, 'pitchers': 1, 'beds': 1, 'Isaiah': 1, 'hypocrites': 1, 'lips': 1, 'vain': 1, 'doctrines': 1, 'precepts': 1, 'men': 1, 'Korban': 1, 'gift': 1, 'prudence': 1, 'outside': 1, 'gut': 1, 'sewer': 1, 'foods': 1, 'adulteries': 1, 'fornications': 1, 'murders': 1, 'thefts': 1, 'avarice': 1, 'wickedness': 1, 'deceitfulness': 1, 'homosexuality': 1, 'blasphemy': 1, 'self-exaltation': 1, 'foolishness': 1, 'evils': 1, 'area': 1, 'Gentile': 1, 'birth': 1, 'Syro-Phoenician': 1, 'fill': 1, 'crumbs': 1, 'fingers': 1, 'tongue': 1, 'Ephphatha': 1, 'deaf': 1, 'mute': 1, 'many loaves': 1, 'seven loaves': 1, 'small fish': 1, 'seven baskets': 1, 'many baskets': 1, 'Caesarea Philippi': 1, 'high priests': 1, 'holy Angels': 1, 'one loaf': 1, 'five loves': 1, 'blind man': 1, 'sinful generation': 1, 'enough bread': 1, 'compassion': 1, 'multitude': 1, 'home': 1, 'wilderness': 1, 'fragments': 1, 'parts': 1, 'Dalmanutha': 1, 'leaven': 1, 'Herod': 1, 'Bethsaida': 1, 'spit': 1, 'walking': 1, 'town': 1, 'prophets': 1, 'harm': 1, 'exchange': 1, 'adulterous': 1, 'six days': 1, 'three tabernacles': 1, 'unbelieving generation': 1, 'third day': 1, 'great millstone': 1, 'mute spirit': 1, 'lofty mountain': 1, 'vestments': 1, 'snow': 1, 'brilliance': 1, 'cloud': 1, 'teeth': 1, 'infancy': 1, 'fire': 1, 'boy': 1, 'tears': 1, 'kind': 1, 'fasting': 1, 'minister': 1, 'child': 1, 'virtue': 1, 'cup': 1, 'reward': 1, 'neck': 1, 'outer gate': 1, 'two ways': 1, 'leafy branches': 1, 'entire multitude': 1, 'true prophet': 1, 'evening hour': 1, 'one word': 1, 'mount': 1, 'colt': 1, 'meeting': 1, 'Blessed': 1, 'advent': 1, 'Hosanna': 1, 'leaves': 1, 'season': 1, 'figs': 1, 'sellers': 1, 'buyers': 1, 'tables': 1, 'moneychangers': 1, 'chairs': 1, 'vendors': 1, 'doves': 1, 'goods': 1, 'nations': 1, 'den': 1, 'robbers': 1, 'means': 1, 'admiration': 1, 'roots': 1, 'long journey': 1, 'very end': 1, 'seven brothers': 1, 'first commandment': 1, 'other commandment': 1, 'many others': 1, 'one son': 1, 'one God': 1, 'The Lord': 1, 'vineyard': 1, 'hedge': 1, 'pit': 1, 'tower': 1, 'farmers': 1, 'servant': 1, 'contempt': 1, 'settlers': 1, 'heir': 1, 'inheritance': 1, 'builders': 1, 'corner': 1, 'words': 1, 'appearance': 1, 'tribute': 1, 'Caesar': 1, 'skill': 1, 'denarius': 1, 'image': 1, 'inscription': 1, 'Sadducees': 1, 'resurrection': 1, 'up': 1, 'offspring': 1, 'marriage': 1, 'book': 1, 'bush': 1, 'Abraham': 1, 'Isaac': 1, 'Jacob': 1, 'living': 1, 'mind': 1, 'strength': 1, 'neighbor': 1, 'understanding': 1, 'self': 1, 'holocausts': 1, 'sacrifices': 1, 'answer': 1, 'enemies': 1, 'footstool': 1, 'fine stones': 1, 'fine structures': 1, 'great buildings': 1, 'various places': 1, 'false Christs': 1, 'false prophets': 1, 'great power': 1, 'four winds': 1, 'first light': 1, 'wars': 1, 'rumors': 1, 'nation': 1, 'earthquakes': 1, 'famines': 1, 'sorrows': 1, 'councils': 1, 'synagogues': 1, 'governors': 1, 'kings': 1, 'hour': 1, 'parents': 1, 'desolation': 1, 'reader': 1, 'rooftop': 1, 'field': 1, 'winter': 1, 'tribulations': 1, 'creation': 1, 'elect': 1, 'Behold': 1, 'wonders': 1, 'heed': 1, 'moon': 1, 'stars': 1, 'powers': 1, 'clouds': 1, 'limits': 1, 'branch': 1, 'foliage': 1, 'summer': 1, 'doors': 1, 'lineage': 1, 'sojourn': 1, 'servants': 1, 'doorkeeper': 1, 'three hundred denarii': 1, 'alabaster container': 1, 'precious spikenard': 1, 'good deed': 1, 'entire world': 1, 'The Teacher': 1, 'dining room': 1, 'large cenacle': 1, 'new covenant': 1, 'country estate': 1, 'same words': 1, 'Unleavened Bread': 1, 'first day': 1, 'opportune means': 1, 'third time': 1, 'one hour': 1, 'Passover': 1, 'ointment': 1, 'waste': 1, 'burial': 1, 'memory': 1, 'money': 1, 'pitcher': 1, 'owner': 1, 'dish': 1, 'chalice': 1, 'vine': 1, 'hymn': 1, 'rooster': 1, 'Gethsemani': 1, 'temptation': 1, 'rest': 1, 'noble council member': 1, 'fine linen cloth': 1, 'many other women': 1, 'entire council': 1, 'entire cohort': 1, 'third hour': 1, 'two robbers': 1, 'sixth hour': 1, 'entire earth': 1, 'ninth hour': 1, 'lamma sabacthani': 1, 'loud cry': 1, 'Preparation Day': 1, 'chief priests': 1, 'THE KING': 1, 'Pilate': 1, 'prisoners': 1, 'murder': 1, 'sedition': 1, 'envy': 1, 'Barabbas': 1, 'soldiers': 1, 'court': 1, 'praetorium': 1, 'purple': 1, 'crown': 1, 'reed': 1, 'passerby': 1, 'Cyrenian': 1, 'Alexander': 1, 'Rufus': 1, 'Calvary': 1, 'wine': 1, 'myrrh': 1, 'lots': 1, 'title': 1, 'right': 1, 'left': 1, 'iniquitous': 1, 'passersby': 1, 'darkness': 1, 'Eloi': 1, 'sponge': 1, 'vinegar': 1, 'veil': 1, 'top': 1, 'bottom': 1, 'centurion': 1, 'Arimathea': 1, 'sepulcher': 1, 'rock': 1, 'aromatic spices': 1, 'young man': 1, 'right side': 1, 'white robe': 1, 'Crucified One': 1, 'new languages': 1, 'first Sabbath': 1, 'seven demons': 1, 'accompanying signs': 1, 'Lord Jesus': 1, 'events': 1, 'likeness': 1, 'incredulity': 1, 'hardness': 1, 'creature': 1, 'serpents': 1}\n",
      "I found 159 key phrases that were shared by all four gospels: ['Lord', 'Jesus', 'kingdom', 'heaven', 'God', 'disciples', 'way', 'order', 'scribes', 'things', 'name', 'response', 'Pharisees', 'sea', 'earth', 'house', 'people', 'Galilee', 'word', 'Jerusalem', 'city', 'Son', 'heart', 'Father', 'hour', 'priests', 'death', 'world', 'hold', 'Amen', 'son', 'mother', 'leaders', 'Israel', 'sons', 'hand', 'man', 'hands', 'John', 'sake', 'law', 'head', 'Teacher', 'sins', 'Christ', 'Judea', 'land', 'night', 'bread', 'temple', 'synagogues', 'mountain', 'brother', 'woman', 'will', 'day', 'authority', 'Moses', 'one', 'blood', 'David', 'demon', 'Holy Spirit', 'Abraham', 'Angel', 'voice', 'life', 'prophet Isaiah', 'Capernaum', 'evil', 'men', 'body', 'feet', 'everyone', 'words', 'table', 'evening', 'daughter', 'eyes', 'face', 'soul', 'fruit', 'morning', 'counsel', 'Jews', 'place', 'home', 'Jordan', 'power', 'water', 'glory', 'Satan', 'something', 'stone', 'thorns', 'doctrine', 'testimony', 'soldiers', 'Elijah', 'many things', 'others', 'servants', 'flesh', 'garments', 'someone', 'Mount', 'Olives', 'Joseph', 'Mary', 'boy', 'Nazareth', 'darkness', 'Zebedee', 'spirit', 'sight', 'case', 'fire', 'servant', 'dead', 'kind', 'need', 'Sabbath', 'midst', 'fear', 'thanks', 'third day', 'appearance', 'cross', 'beginning', 'resurrection', 'fig tree', 'Bethania', 'birth', 'child', 'hair', 'shoes', 'dove', 'great crowd', 'bed', 'Bethsaida', 'health', 'two fish', 'everything', 'ground', 'multitude', 'town', 'truth', 'Caesar', 'minister', 'end', 'nation', 'middle', 'wedding', 'feast day', 'Passover', 'chalice', 'lots', 'Mary Magdalene', 'tomb']\n"
     ]
    }
   ],
   "source": [
    "# Now, execute these functions and extract all the key phrases from the Four Gospels. \n",
    "\n",
    "John_key_phrase_count = count_key_phrases('NT-04_John_key_phrases.json')\n",
    "Matthew_key_phrase_count = count_key_phrases('NT-01_Matthewkey_phrases.json')\n",
    "Lk_key_phrase_count = count_key_phrases('NT-03_Lukekey_phrases.json')\n",
    "Mk_key_phrase_count = count_key_phrases('NT-02_Mark.key_phrases.json')\n",
    "print(f\"There were {len(John_key_phrase_count)} key phrases found in John: {John_key_phrase_count}\")\n",
    "print(f\"There were {len(Matthew_key_phrase_count)} key phrases found in Matthew: {Matthew_key_phrase_count}\")\n",
    "print(f\"There were {len(Lk_key_phrase_count)} key phrases found in Luke: {Lk_key_phrase_count}\")\n",
    "print(f\"There were {len(Mk_key_phrase_count)} key phrases found in Matthew: {Mk_key_phrase_count}\")\n",
    "\n",
    "shared_gospels =  shared_words(Matthew_key_phrase_count,Mk_key_phrase_count)\n",
    "shared_gospels =  shared_words(shared_gospels,Lk_key_phrase_count)\n",
    "shared_gospels =  shared_words(shared_gospels,John_key_phrase_count)\n",
    "print(f\"I found {len(shared_gospels)} key phrases that were shared by all four gospels: {shared_gospels}\")"
   ]
  },
  {
   "cell_type": "code",
   "execution_count": 44,
   "metadata": {},
   "outputs": [
    {
     "name": "stdout",
     "output_type": "stream",
     "text": [
      "{'Jesus': 63, 'God': 60, 'Lord': 54, 'disciples': 50, 'things': 45, 'kingdom': 42, 'house': 42, 'heaven': 39, 'name': 37, 'word': 36, 'way': 34, 'Pharisees': 34, 'Galilee': 33, 'Jerusalem': 32, 'order': 29, 'people': 29, 'world': 29, 'scribes': 28, 'Son': 28, 'response': 27, 'John': 27, 'city': 26, 'Father': 24, 'death': 24, 'place': 24, 'mother': 23, 'man': 22, 'sea': 21, 'earth': 21, 'hour': 21, 'law': 21, 'temple': 21, 'one': 21, 'testimony': 21, 'heart': 20, 'hands': 20, 'Christ': 20, 'authority': 20, 'Moses': 20, 'eyes': 20, 'Jews': 20, 'Amen': 19, 'Judea': 19, 'glory': 19, 'Teacher': 18, 'brother': 18, 'table': 18, 'others': 18, 'truth': 18, 'priests': 17, 'Israel': 17, 'bread': 17, 'life': 17, 'everyone': 17, 'everything': 17, 'leaders': 16, 'hand': 16, 'night': 16, 'feet': 16, 'head': 15, 'woman': 15, 'Holy Spirit': 15, 'fruit': 15, 'water': 15, 'hold': 14, 'sons': 14, 'sins': 14, 'will': 14, 'David': 14, 'voice': 14, 'men': 14, 'power': 14, 'land': 13, 'body': 13, 'spirit': 13, 'son': 12, 'sake': 12, 'mountain': 12, 'day': 12, 'words': 12, 'evening': 12, 'morning': 12, 'stone': 12, 'many things': 12, 'Joseph': 12, 'sight': 12, 'fear': 12, 'blood': 11, 'Capernaum': 11, 'Satan': 11, 'something': 11, 'Elijah': 11, 'flesh': 11, 'someone': 11, 'darkness': 11, 'midst': 11, 'feast day': 11, 'synagogues': 10, 'demon': 10, 'evil': 10, 'daughter': 10, 'face': 10, 'soul': 10, 'doctrine': 10, 'dead': 10, 'Sabbath': 10, 'beginning': 10, 'ground': 10, 'end': 10, 'Passover': 10, 'Abraham': 9, 'Angel': 9, 'prophet Isaiah': 9, 'Jordan': 9, 'Nazareth': 9, 'servant': 9, 'kind': 9, 'thanks': 9, 'great crowd': 9, 'counsel': 8, 'soldiers': 8, 'servants': 8, 'garments': 8, 'Olives': 8, 'Mary': 8, 'need': 8, 'third day': 8, 'cross': 8, 'Bethania': 8, 'town': 8, 'middle': 8, 'thorns': 7, 'Mount': 7, 'case': 7, 'resurrection': 7, 'fig tree': 7, 'multitude': 7, 'tomb': 7, 'home': 6, 'Zebedee': 6, 'fire': 6, 'hair': 6, 'shoes': 6, 'boy': 5, 'appearance': 5, 'birth': 5, 'child': 5, 'bed': 5, 'Bethsaida': 5, 'wedding': 5, 'Mary Magdalene': 5, 'dove': 4, 'health': 4, 'two fish': 4, 'Caesar': 4, 'minister': 4, 'nation': 4, 'chalice': 4, 'lots': 4}\n"
     ]
    }
   ],
   "source": [
    "# In the first analyses, I will show which phrases are most commonly used across all four Gospels. \n",
    "\n",
    "kpe_totals_mat = dict()\n",
    "kpe_totals_all = dict()\n",
    "for key_phrase in shared_gospels:\n",
    "    \n",
    "    kpe_totals_all[key_phrase] = Matthew_key_phrase_count[key_phrase] + Mk_key_phrase_count[key_phrase] + Lk_key_phrase_count[key_phrase] + John_key_phrase_count[key_phrase]\n",
    "\n",
    "   \n",
    "# Then sort numerically from highest to lowest by the values.\n",
    "\n",
    "kpe_totals_all = {k: v for k, v in sorted(kpe_totals_all.items(), key=lambda item: item[1], reverse = True)}\n",
    "print(kpe_totals_all)"
   ]
  },
  {
   "cell_type": "code",
   "execution_count": 47,
   "metadata": {},
   "outputs": [
    {
     "name": "stdout",
     "output_type": "stream",
     "text": [
      "(4, 1016)\n"
     ]
    }
   ],
   "source": [
    "# Empty out kpe_totals_df\n",
    "kpe_totals_df = pd.DataFrame()\n",
    "\n",
    "# TODO: You need to drop the keys from each phrase count dictioanry that do not appear in the shared gospels list. \n",
    "\n",
    "# Then populate it with the key phrases and the counts from Matthew_key_phrase_count\n",
    "kpe_totals_df = pd.DataFrame.from_dict(Matthew_key_phrase_count, orient='index', columns = ['Matthew KPE Count'])\n",
    "\n",
    "# Append a column to kpe_totals_df that is Lk_key_phrase_count\n",
    "kpe_totals_df['Luke KPE Count'] = kpe_totals_df.index.map(Lk_key_phrase_count)\n",
    "kpe_totals_df['Mark KPE Count'] = kpe_totals_df.index.map(Mk_key_phrase_count)\n",
    "kpe_totals_df['John KPE Count'] = kpe_totals_df.index.map(John_key_phrase_count)\n",
    "\n",
    "# Transpose the dataframe\n",
    "kpe_totals_df = kpe_totals_df.transpose()\n",
    "\n",
    "# Print out the dimensions of the dataframe\n",
    "print(kpe_totals_df.shape)\n",
    "#print(kpe_totals_df.head())\n",
    "    \n",
    "\n"
   ]
  },
  {
   "cell_type": "code",
   "execution_count": 43,
   "metadata": {},
   "outputs": [
    {
     "data": {
      "application/vnd.plotly.v1+json": {
       "config": {
        "plotlyServerURL": "https://plot.ly"
       },
       "data": [
        {
         "alignmentgroup": "True",
         "hovertemplate": "variable=Lord<br>value=%{x}<br>index=%{y}<extra></extra>",
         "legendgroup": "Lord",
         "marker": {
          "color": "#636efa",
          "pattern": {
           "shape": ""
          }
         },
         "name": "Lord",
         "offsetgroup": "Lord",
         "orientation": "h",
         "showlegend": true,
         "textposition": "auto",
         "type": "bar",
         "x": [
          23,
          12,
          7,
          12
         ],
         "xaxis": "x",
         "y": [
          "Matthew KPE Count",
          "Luke KPE Count",
          "Mark KPE Count",
          "John KPE Count"
         ],
         "yaxis": "y"
        },
        {
         "alignmentgroup": "True",
         "hovertemplate": "variable=Jesus<br>value=%{x}<br>index=%{y}<extra></extra>",
         "legendgroup": "Jesus",
         "marker": {
          "color": "#EF553B",
          "pattern": {
           "shape": ""
          }
         },
         "name": "Jesus",
         "offsetgroup": "Jesus",
         "orientation": "h",
         "showlegend": true,
         "textposition": "auto",
         "type": "bar",
         "x": [
          21,
          15,
          11,
          16
         ],
         "xaxis": "x",
         "y": [
          "Matthew KPE Count",
          "Luke KPE Count",
          "Mark KPE Count",
          "John KPE Count"
         ],
         "yaxis": "y"
        },
        {
         "alignmentgroup": "True",
         "hovertemplate": "variable=kingdom<br>value=%{x}<br>index=%{y}<extra></extra>",
         "legendgroup": "kingdom",
         "marker": {
          "color": "#00cc96",
          "pattern": {
           "shape": ""
          }
         },
         "name": "kingdom",
         "offsetgroup": "kingdom",
         "orientation": "h",
         "showlegend": true,
         "textposition": "auto",
         "type": "bar",
         "x": [
          17,
          14,
          10,
          1
         ],
         "xaxis": "x",
         "y": [
          "Matthew KPE Count",
          "Luke KPE Count",
          "Mark KPE Count",
          "John KPE Count"
         ],
         "yaxis": "y"
        },
        {
         "alignmentgroup": "True",
         "hovertemplate": "variable=heaven<br>value=%{x}<br>index=%{y}<extra></extra>",
         "legendgroup": "heaven",
         "marker": {
          "color": "#ab63fa",
          "pattern": {
           "shape": ""
          }
         },
         "name": "heaven",
         "offsetgroup": "heaven",
         "orientation": "h",
         "showlegend": true,
         "textposition": "auto",
         "type": "bar",
         "x": [
          16,
          13,
          6,
          4
         ],
         "xaxis": "x",
         "y": [
          "Matthew KPE Count",
          "Luke KPE Count",
          "Mark KPE Count",
          "John KPE Count"
         ],
         "yaxis": "y"
        },
        {
         "alignmentgroup": "True",
         "hovertemplate": "variable=God<br>value=%{x}<br>index=%{y}<extra></extra>",
         "legendgroup": "God",
         "marker": {
          "color": "#FFA15A",
          "pattern": {
           "shape": ""
          }
         },
         "name": "God",
         "offsetgroup": "God",
         "orientation": "h",
         "showlegend": true,
         "textposition": "auto",
         "type": "bar",
         "x": [
          15,
          20,
          11,
          14
         ],
         "xaxis": "x",
         "y": [
          "Matthew KPE Count",
          "Luke KPE Count",
          "Mark KPE Count",
          "John KPE Count"
         ],
         "yaxis": "y"
        },
        {
         "alignmentgroup": "True",
         "hovertemplate": "variable=disciples<br>value=%{x}<br>index=%{y}<extra></extra>",
         "legendgroup": "disciples",
         "marker": {
          "color": "#19d3f3",
          "pattern": {
           "shape": ""
          }
         },
         "name": "disciples",
         "offsetgroup": "disciples",
         "orientation": "h",
         "showlegend": true,
         "textposition": "auto",
         "type": "bar",
         "x": [
          14,
          12,
          12,
          12
         ],
         "xaxis": "x",
         "y": [
          "Matthew KPE Count",
          "Luke KPE Count",
          "Mark KPE Count",
          "John KPE Count"
         ],
         "yaxis": "y"
        },
        {
         "alignmentgroup": "True",
         "hovertemplate": "variable=way<br>value=%{x}<br>index=%{y}<extra></extra>",
         "legendgroup": "way",
         "marker": {
          "color": "#FF6692",
          "pattern": {
           "shape": ""
          }
         },
         "name": "way",
         "offsetgroup": "way",
         "orientation": "h",
         "showlegend": true,
         "textposition": "auto",
         "type": "bar",
         "x": [
          13,
          9,
          7,
          5
         ],
         "xaxis": "x",
         "y": [
          "Matthew KPE Count",
          "Luke KPE Count",
          "Mark KPE Count",
          "John KPE Count"
         ],
         "yaxis": "y"
        },
        {
         "alignmentgroup": "True",
         "hovertemplate": "variable=order<br>value=%{x}<br>index=%{y}<extra></extra>",
         "legendgroup": "order",
         "marker": {
          "color": "#B6E880",
          "pattern": {
           "shape": ""
          }
         },
         "name": "order",
         "offsetgroup": "order",
         "orientation": "h",
         "showlegend": true,
         "textposition": "auto",
         "type": "bar",
         "x": [
          12,
          8,
          6,
          3
         ],
         "xaxis": "x",
         "y": [
          "Matthew KPE Count",
          "Luke KPE Count",
          "Mark KPE Count",
          "John KPE Count"
         ],
         "yaxis": "y"
        },
        {
         "alignmentgroup": "True",
         "hovertemplate": "variable=scribes<br>value=%{x}<br>index=%{y}<extra></extra>",
         "legendgroup": "scribes",
         "marker": {
          "color": "#FF97FF",
          "pattern": {
           "shape": ""
          }
         },
         "name": "scribes",
         "offsetgroup": "scribes",
         "orientation": "h",
         "showlegend": true,
         "textposition": "auto",
         "type": "bar",
         "x": [
          11,
          6,
          10,
          1
         ],
         "xaxis": "x",
         "y": [
          "Matthew KPE Count",
          "Luke KPE Count",
          "Mark KPE Count",
          "John KPE Count"
         ],
         "yaxis": "y"
        },
        {
         "alignmentgroup": "True",
         "hovertemplate": "variable=things<br>value=%{x}<br>index=%{y}<extra></extra>",
         "legendgroup": "things",
         "marker": {
          "color": "#FECB52",
          "pattern": {
           "shape": ""
          }
         },
         "name": "things",
         "offsetgroup": "things",
         "orientation": "h",
         "showlegend": true,
         "textposition": "auto",
         "type": "bar",
         "x": [
          10,
          14,
          6,
          15
         ],
         "xaxis": "x",
         "y": [
          "Matthew KPE Count",
          "Luke KPE Count",
          "Mark KPE Count",
          "John KPE Count"
         ],
         "yaxis": "y"
        },
        {
         "alignmentgroup": "True",
         "hovertemplate": "variable=name<br>value=%{x}<br>index=%{y}<extra></extra>",
         "legendgroup": "name",
         "marker": {
          "color": "#636efa",
          "pattern": {
           "shape": ""
          }
         },
         "name": "name",
         "offsetgroup": "name",
         "orientation": "h",
         "showlegend": true,
         "textposition": "auto",
         "type": "bar",
         "x": [
          10,
          9,
          8,
          10
         ],
         "xaxis": "x",
         "y": [
          "Matthew KPE Count",
          "Luke KPE Count",
          "Mark KPE Count",
          "John KPE Count"
         ],
         "yaxis": "y"
        },
        {
         "alignmentgroup": "True",
         "hovertemplate": "variable=response<br>value=%{x}<br>index=%{y}<extra></extra>",
         "legendgroup": "response",
         "marker": {
          "color": "#EF553B",
          "pattern": {
           "shape": ""
          }
         },
         "name": "response",
         "offsetgroup": "response",
         "orientation": "h",
         "showlegend": true,
         "textposition": "auto",
         "type": "bar",
         "x": [
          10,
          10,
          6,
          1
         ],
         "xaxis": "x",
         "y": [
          "Matthew KPE Count",
          "Luke KPE Count",
          "Mark KPE Count",
          "John KPE Count"
         ],
         "yaxis": "y"
        },
        {
         "alignmentgroup": "True",
         "hovertemplate": "variable=Pharisees<br>value=%{x}<br>index=%{y}<extra></extra>",
         "legendgroup": "Pharisees",
         "marker": {
          "color": "#00cc96",
          "pattern": {
           "shape": ""
          }
         },
         "name": "Pharisees",
         "offsetgroup": "Pharisees",
         "orientation": "h",
         "showlegend": true,
         "textposition": "auto",
         "type": "bar",
         "x": [
          10,
          10,
          6,
          8
         ],
         "xaxis": "x",
         "y": [
          "Matthew KPE Count",
          "Luke KPE Count",
          "Mark KPE Count",
          "John KPE Count"
         ],
         "yaxis": "y"
        },
        {
         "alignmentgroup": "True",
         "hovertemplate": "variable=sea<br>value=%{x}<br>index=%{y}<extra></extra>",
         "legendgroup": "sea",
         "marker": {
          "color": "#ab63fa",
          "pattern": {
           "shape": ""
          }
         },
         "name": "sea",
         "offsetgroup": "sea",
         "orientation": "h",
         "showlegend": true,
         "textposition": "auto",
         "type": "bar",
         "x": [
          10,
          3,
          7,
          1
         ],
         "xaxis": "x",
         "y": [
          "Matthew KPE Count",
          "Luke KPE Count",
          "Mark KPE Count",
          "John KPE Count"
         ],
         "yaxis": "y"
        },
        {
         "alignmentgroup": "True",
         "hovertemplate": "variable=crowds<br>value=%{x}<br>index=%{y}<extra></extra>",
         "legendgroup": "crowds",
         "marker": {
          "color": "#FFA15A",
          "pattern": {
           "shape": ""
          }
         },
         "name": "crowds",
         "offsetgroup": "crowds",
         "orientation": "h",
         "showlegend": true,
         "textposition": "auto",
         "type": "bar",
         "x": [
          10,
          5,
          null,
          null
         ],
         "xaxis": "x",
         "y": [
          "Matthew KPE Count",
          "Luke KPE Count",
          "Mark KPE Count",
          "John KPE Count"
         ],
         "yaxis": "y"
        },
        {
         "alignmentgroup": "True",
         "hovertemplate": "variable=earth<br>value=%{x}<br>index=%{y}<extra></extra>",
         "legendgroup": "earth",
         "marker": {
          "color": "#19d3f3",
          "pattern": {
           "shape": ""
          }
         },
         "name": "earth",
         "offsetgroup": "earth",
         "orientation": "h",
         "showlegend": true,
         "textposition": "auto",
         "type": "bar",
         "x": [
          10,
          5,
          3,
          3
         ],
         "xaxis": "x",
         "y": [
          "Matthew KPE Count",
          "Luke KPE Count",
          "Mark KPE Count",
          "John KPE Count"
         ],
         "yaxis": "y"
        },
        {
         "alignmentgroup": "True",
         "hovertemplate": "variable=house<br>value=%{x}<br>index=%{y}<extra></extra>",
         "legendgroup": "house",
         "marker": {
          "color": "#FF6692",
          "pattern": {
           "shape": ""
          }
         },
         "name": "house",
         "offsetgroup": "house",
         "orientation": "h",
         "showlegend": true,
         "textposition": "auto",
         "type": "bar",
         "x": [
          10,
          16,
          11,
          5
         ],
         "xaxis": "x",
         "y": [
          "Matthew KPE Count",
          "Luke KPE Count",
          "Mark KPE Count",
          "John KPE Count"
         ],
         "yaxis": "y"
        },
        {
         "alignmentgroup": "True",
         "hovertemplate": "variable=people<br>value=%{x}<br>index=%{y}<extra></extra>",
         "legendgroup": "people",
         "marker": {
          "color": "#B6E880",
          "pattern": {
           "shape": ""
          }
         },
         "name": "people",
         "offsetgroup": "people",
         "orientation": "h",
         "showlegend": true,
         "textposition": "auto",
         "type": "bar",
         "x": [
          9,
          10,
          7,
          3
         ],
         "xaxis": "x",
         "y": [
          "Matthew KPE Count",
          "Luke KPE Count",
          "Mark KPE Count",
          "John KPE Count"
         ],
         "yaxis": "y"
        },
        {
         "alignmentgroup": "True",
         "hovertemplate": "variable=time<br>value=%{x}<br>index=%{y}<extra></extra>",
         "legendgroup": "time",
         "marker": {
          "color": "#FF97FF",
          "pattern": {
           "shape": ""
          }
         },
         "name": "time",
         "offsetgroup": "time",
         "orientation": "h",
         "showlegend": true,
         "textposition": "auto",
         "type": "bar",
         "x": [
          9,
          8,
          4,
          null
         ],
         "xaxis": "x",
         "y": [
          "Matthew KPE Count",
          "Luke KPE Count",
          "Mark KPE Count",
          "John KPE Count"
         ],
         "yaxis": "y"
        },
        {
         "alignmentgroup": "True",
         "hovertemplate": "variable=Galilee<br>value=%{x}<br>index=%{y}<extra></extra>",
         "legendgroup": "Galilee",
         "marker": {
          "color": "#FECB52",
          "pattern": {
           "shape": ""
          }
         },
         "name": "Galilee",
         "offsetgroup": "Galilee",
         "orientation": "h",
         "showlegend": true,
         "textposition": "auto",
         "type": "bar",
         "x": [
          9,
          9,
          8,
          7
         ],
         "xaxis": "x",
         "y": [
          "Matthew KPE Count",
          "Luke KPE Count",
          "Mark KPE Count",
          "John KPE Count"
         ],
         "yaxis": "y"
        },
        {
         "alignmentgroup": "True",
         "hovertemplate": "variable=word<br>value=%{x}<br>index=%{y}<extra></extra>",
         "legendgroup": "word",
         "marker": {
          "color": "#636efa",
          "pattern": {
           "shape": ""
          }
         },
         "name": "word",
         "offsetgroup": "word",
         "orientation": "h",
         "showlegend": true,
         "textposition": "auto",
         "type": "bar",
         "x": [
          9,
          9,
          9,
          9
         ],
         "xaxis": "x",
         "y": [
          "Matthew KPE Count",
          "Luke KPE Count",
          "Mark KPE Count",
          "John KPE Count"
         ],
         "yaxis": "y"
        },
        {
         "alignmentgroup": "True",
         "hovertemplate": "variable=faith<br>value=%{x}<br>index=%{y}<extra></extra>",
         "legendgroup": "faith",
         "marker": {
          "color": "#EF553B",
          "pattern": {
           "shape": ""
          }
         },
         "name": "faith",
         "offsetgroup": "faith",
         "orientation": "h",
         "showlegend": true,
         "textposition": "auto",
         "type": "bar",
         "x": [
          9,
          6,
          4,
          null
         ],
         "xaxis": "x",
         "y": [
          "Matthew KPE Count",
          "Luke KPE Count",
          "Mark KPE Count",
          "John KPE Count"
         ],
         "yaxis": "y"
        },
        {
         "alignmentgroup": "True",
         "hovertemplate": "variable=Jerusalem<br>value=%{x}<br>index=%{y}<extra></extra>",
         "legendgroup": "Jerusalem",
         "marker": {
          "color": "#00cc96",
          "pattern": {
           "shape": ""
          }
         },
         "name": "Jerusalem",
         "offsetgroup": "Jerusalem",
         "orientation": "h",
         "showlegend": true,
         "textposition": "auto",
         "type": "bar",
         "x": [
          8,
          12,
          5,
          7
         ],
         "xaxis": "x",
         "y": [
          "Matthew KPE Count",
          "Luke KPE Count",
          "Mark KPE Count",
          "John KPE Count"
         ],
         "yaxis": "y"
        },
        {
         "alignmentgroup": "True",
         "hovertemplate": "variable=city<br>value=%{x}<br>index=%{y}<extra></extra>",
         "legendgroup": "city",
         "marker": {
          "color": "#ab63fa",
          "pattern": {
           "shape": ""
          }
         },
         "name": "city",
         "offsetgroup": "city",
         "orientation": "h",
         "showlegend": true,
         "textposition": "auto",
         "type": "bar",
         "x": [
          8,
          12,
          3,
          3
         ],
         "xaxis": "x",
         "y": [
          "Matthew KPE Count",
          "Luke KPE Count",
          "Mark KPE Count",
          "John KPE Count"
         ],
         "yaxis": "y"
        },
        {
         "alignmentgroup": "True",
         "hovertemplate": "variable=Son<br>value=%{x}<br>index=%{y}<extra></extra>",
         "legendgroup": "Son",
         "marker": {
          "color": "#FFA15A",
          "pattern": {
           "shape": ""
          }
         },
         "name": "Son",
         "offsetgroup": "Son",
         "orientation": "h",
         "showlegend": true,
         "textposition": "auto",
         "type": "bar",
         "x": [
          8,
          8,
          4,
          8
         ],
         "xaxis": "x",
         "y": [
          "Matthew KPE Count",
          "Luke KPE Count",
          "Mark KPE Count",
          "John KPE Count"
         ],
         "yaxis": "y"
        },
        {
         "alignmentgroup": "True",
         "hovertemplate": "variable=mouth<br>value=%{x}<br>index=%{y}<extra></extra>",
         "legendgroup": "mouth",
         "marker": {
          "color": "#19d3f3",
          "pattern": {
           "shape": ""
          }
         },
         "name": "mouth",
         "offsetgroup": "mouth",
         "orientation": "h",
         "showlegend": true,
         "textposition": "auto",
         "type": "bar",
         "x": [
          8,
          3,
          null,
          1
         ],
         "xaxis": "x",
         "y": [
          "Matthew KPE Count",
          "Luke KPE Count",
          "Mark KPE Count",
          "John KPE Count"
         ],
         "yaxis": "y"
        },
        {
         "alignmentgroup": "True",
         "hovertemplate": "variable=heart<br>value=%{x}<br>index=%{y}<extra></extra>",
         "legendgroup": "heart",
         "marker": {
          "color": "#FF6692",
          "pattern": {
           "shape": ""
          }
         },
         "name": "heart",
         "offsetgroup": "heart",
         "orientation": "h",
         "showlegend": true,
         "textposition": "auto",
         "type": "bar",
         "x": [
          8,
          3,
          5,
          4
         ],
         "xaxis": "x",
         "y": [
          "Matthew KPE Count",
          "Luke KPE Count",
          "Mark KPE Count",
          "John KPE Count"
         ],
         "yaxis": "y"
        },
        {
         "alignmentgroup": "True",
         "hovertemplate": "variable=Father<br>value=%{x}<br>index=%{y}<extra></extra>",
         "legendgroup": "Father",
         "marker": {
          "color": "#B6E880",
          "pattern": {
           "shape": ""
          }
         },
         "name": "Father",
         "offsetgroup": "Father",
         "orientation": "h",
         "showlegend": true,
         "textposition": "auto",
         "type": "bar",
         "x": [
          8,
          3,
          2,
          11
         ],
         "xaxis": "x",
         "y": [
          "Matthew KPE Count",
          "Luke KPE Count",
          "Mark KPE Count",
          "John KPE Count"
         ],
         "yaxis": "y"
        },
        {
         "alignmentgroup": "True",
         "hovertemplate": "variable=hour<br>value=%{x}<br>index=%{y}<extra></extra>",
         "legendgroup": "hour",
         "marker": {
          "color": "#FF97FF",
          "pattern": {
           "shape": ""
          }
         },
         "name": "hour",
         "offsetgroup": "hour",
         "orientation": "h",
         "showlegend": true,
         "textposition": "auto",
         "type": "bar",
         "x": [
          8,
          4,
          1,
          8
         ],
         "xaxis": "x",
         "y": [
          "Matthew KPE Count",
          "Luke KPE Count",
          "Mark KPE Count",
          "John KPE Count"
         ],
         "yaxis": "y"
        },
        {
         "alignmentgroup": "True",
         "hovertemplate": "variable=wife<br>value=%{x}<br>index=%{y}<extra></extra>",
         "legendgroup": "wife",
         "marker": {
          "color": "#FECB52",
          "pattern": {
           "shape": ""
          }
         },
         "name": "wife",
         "offsetgroup": "wife",
         "orientation": "h",
         "showlegend": true,
         "textposition": "auto",
         "type": "bar",
         "x": [
          7,
          8,
          2,
          null
         ],
         "xaxis": "x",
         "y": [
          "Matthew KPE Count",
          "Luke KPE Count",
          "Mark KPE Count",
          "John KPE Count"
         ],
         "yaxis": "y"
        },
        {
         "alignmentgroup": "True",
         "hovertemplate": "variable=priests<br>value=%{x}<br>index=%{y}<extra></extra>",
         "legendgroup": "priests",
         "marker": {
          "color": "#636efa",
          "pattern": {
           "shape": ""
          }
         },
         "name": "priests",
         "offsetgroup": "priests",
         "orientation": "h",
         "showlegend": true,
         "textposition": "auto",
         "type": "bar",
         "x": [
          7,
          5,
          3,
          2
         ],
         "xaxis": "x",
         "y": [
          "Matthew KPE Count",
          "Luke KPE Count",
          "Mark KPE Count",
          "John KPE Count"
         ],
         "yaxis": "y"
        },
        {
         "alignmentgroup": "True",
         "hovertemplate": "variable=death<br>value=%{x}<br>index=%{y}<extra></extra>",
         "legendgroup": "death",
         "marker": {
          "color": "#EF553B",
          "pattern": {
           "shape": ""
          }
         },
         "name": "death",
         "offsetgroup": "death",
         "orientation": "h",
         "showlegend": true,
         "textposition": "auto",
         "type": "bar",
         "x": [
          7,
          7,
          4,
          6
         ],
         "xaxis": "x",
         "y": [
          "Matthew KPE Count",
          "Luke KPE Count",
          "Mark KPE Count",
          "John KPE Count"
         ],
         "yaxis": "y"
        },
        {
         "alignmentgroup": "True",
         "hovertemplate": "variable=father<br>value=%{x}<br>index=%{y}<extra></extra>",
         "legendgroup": "father",
         "marker": {
          "color": "#00cc96",
          "pattern": {
           "shape": ""
          }
         },
         "name": "father",
         "offsetgroup": "father",
         "orientation": "h",
         "showlegend": true,
         "textposition": "auto",
         "type": "bar",
         "x": [
          7,
          7,
          7,
          null
         ],
         "xaxis": "x",
         "y": [
          "Matthew KPE Count",
          "Luke KPE Count",
          "Mark KPE Count",
          "John KPE Count"
         ],
         "yaxis": "y"
        },
        {
         "alignmentgroup": "True",
         "hovertemplate": "variable=world<br>value=%{x}<br>index=%{y}<extra></extra>",
         "legendgroup": "world",
         "marker": {
          "color": "#ab63fa",
          "pattern": {
           "shape": ""
          }
         },
         "name": "world",
         "offsetgroup": "world",
         "orientation": "h",
         "showlegend": true,
         "textposition": "auto",
         "type": "bar",
         "x": [
          7,
          5,
          2,
          15
         ],
         "xaxis": "x",
         "y": [
          "Matthew KPE Count",
          "Luke KPE Count",
          "Mark KPE Count",
          "John KPE Count"
         ],
         "yaxis": "y"
        },
        {
         "alignmentgroup": "True",
         "hovertemplate": "variable=hold<br>value=%{x}<br>index=%{y}<extra></extra>",
         "legendgroup": "hold",
         "marker": {
          "color": "#FFA15A",
          "pattern": {
           "shape": ""
          }
         },
         "name": "hold",
         "offsetgroup": "hold",
         "orientation": "h",
         "showlegend": true,
         "textposition": "auto",
         "type": "bar",
         "x": [
          7,
          3,
          3,
          1
         ],
         "xaxis": "x",
         "y": [
          "Matthew KPE Count",
          "Luke KPE Count",
          "Mark KPE Count",
          "John KPE Count"
         ],
         "yaxis": "y"
        },
        {
         "alignmentgroup": "True",
         "hovertemplate": "variable=Peter<br>value=%{x}<br>index=%{y}<extra></extra>",
         "legendgroup": "Peter",
         "marker": {
          "color": "#19d3f3",
          "pattern": {
           "shape": ""
          }
         },
         "name": "Peter",
         "offsetgroup": "Peter",
         "orientation": "h",
         "showlegend": true,
         "textposition": "auto",
         "type": "bar",
         "x": [
          7,
          5,
          8,
          null
         ],
         "xaxis": "x",
         "y": [
          "Matthew KPE Count",
          "Luke KPE Count",
          "Mark KPE Count",
          "John KPE Count"
         ],
         "yaxis": "y"
        },
        {
         "alignmentgroup": "True",
         "hovertemplate": "variable=Amen<br>value=%{x}<br>index=%{y}<extra></extra>",
         "legendgroup": "Amen",
         "marker": {
          "color": "#FF6692",
          "pattern": {
           "shape": ""
          }
         },
         "name": "Amen",
         "offsetgroup": "Amen",
         "orientation": "h",
         "showlegend": true,
         "textposition": "auto",
         "type": "bar",
         "x": [
          7,
          1,
          5,
          6
         ],
         "xaxis": "x",
         "y": [
          "Matthew KPE Count",
          "Luke KPE Count",
          "Mark KPE Count",
          "John KPE Count"
         ],
         "yaxis": "y"
        },
        {
         "alignmentgroup": "True",
         "hovertemplate": "variable=children<br>value=%{x}<br>index=%{y}<extra></extra>",
         "legendgroup": "children",
         "marker": {
          "color": "#B6E880",
          "pattern": {
           "shape": ""
          }
         },
         "name": "children",
         "offsetgroup": "children",
         "orientation": "h",
         "showlegend": true,
         "textposition": "auto",
         "type": "bar",
         "x": [
          7,
          5,
          2,
          null
         ],
         "xaxis": "x",
         "y": [
          "Matthew KPE Count",
          "Luke KPE Count",
          "Mark KPE Count",
          "John KPE Count"
         ],
         "yaxis": "y"
        },
        {
         "alignmentgroup": "True",
         "hovertemplate": "variable=son<br>value=%{x}<br>index=%{y}<extra></extra>",
         "legendgroup": "son",
         "marker": {
          "color": "#FF97FF",
          "pattern": {
           "shape": ""
          }
         },
         "name": "son",
         "offsetgroup": "son",
         "orientation": "h",
         "showlegend": true,
         "textposition": "auto",
         "type": "bar",
         "x": [
          6,
          2,
          2,
          2
         ],
         "xaxis": "x",
         "y": [
          "Matthew KPE Count",
          "Luke KPE Count",
          "Mark KPE Count",
          "John KPE Count"
         ],
         "yaxis": "y"
        },
        {
         "alignmentgroup": "True",
         "hovertemplate": "variable=mother<br>value=%{x}<br>index=%{y}<extra></extra>",
         "legendgroup": "mother",
         "marker": {
          "color": "#FECB52",
          "pattern": {
           "shape": ""
          }
         },
         "name": "mother",
         "offsetgroup": "mother",
         "orientation": "h",
         "showlegend": true,
         "textposition": "auto",
         "type": "bar",
         "x": [
          6,
          6,
          7,
          4
         ],
         "xaxis": "x",
         "y": [
          "Matthew KPE Count",
          "Luke KPE Count",
          "Mark KPE Count",
          "John KPE Count"
         ],
         "yaxis": "y"
        },
        {
         "alignmentgroup": "True",
         "hovertemplate": "variable=days<br>value=%{x}<br>index=%{y}<extra></extra>",
         "legendgroup": "days",
         "marker": {
          "color": "#636efa",
          "pattern": {
           "shape": ""
          }
         },
         "name": "days",
         "offsetgroup": "days",
         "orientation": "h",
         "showlegend": true,
         "textposition": "auto",
         "type": "bar",
         "x": [
          6,
          9,
          2,
          null
         ],
         "xaxis": "x",
         "y": [
          "Matthew KPE Count",
          "Luke KPE Count",
          "Mark KPE Count",
          "John KPE Count"
         ],
         "yaxis": "y"
        },
        {
         "alignmentgroup": "True",
         "hovertemplate": "variable=leaders<br>value=%{x}<br>index=%{y}<extra></extra>",
         "legendgroup": "leaders",
         "marker": {
          "color": "#EF553B",
          "pattern": {
           "shape": ""
          }
         },
         "name": "leaders",
         "offsetgroup": "leaders",
         "orientation": "h",
         "showlegend": true,
         "textposition": "auto",
         "type": "bar",
         "x": [
          6,
          4,
          4,
          2
         ],
         "xaxis": "x",
         "y": [
          "Matthew KPE Count",
          "Luke KPE Count",
          "Mark KPE Count",
          "John KPE Count"
         ],
         "yaxis": "y"
        },
        {
         "alignmentgroup": "True",
         "hovertemplate": "variable=Israel<br>value=%{x}<br>index=%{y}<extra></extra>",
         "legendgroup": "Israel",
         "marker": {
          "color": "#00cc96",
          "pattern": {
           "shape": ""
          }
         },
         "name": "Israel",
         "offsetgroup": "Israel",
         "orientation": "h",
         "showlegend": true,
         "textposition": "auto",
         "type": "bar",
         "x": [
          6,
          6,
          2,
          3
         ],
         "xaxis": "x",
         "y": [
          "Matthew KPE Count",
          "Luke KPE Count",
          "Mark KPE Count",
          "John KPE Count"
         ],
         "yaxis": "y"
        },
        {
         "alignmentgroup": "True",
         "hovertemplate": "variable=prophets<br>value=%{x}<br>index=%{y}<extra></extra>",
         "legendgroup": "prophets",
         "marker": {
          "color": "#ab63fa",
          "pattern": {
           "shape": ""
          }
         },
         "name": "prophets",
         "offsetgroup": "prophets",
         "orientation": "h",
         "showlegend": true,
         "textposition": "auto",
         "type": "bar",
         "x": [
          6,
          4,
          1,
          null
         ],
         "xaxis": "x",
         "y": [
          "Matthew KPE Count",
          "Luke KPE Count",
          "Mark KPE Count",
          "John KPE Count"
         ],
         "yaxis": "y"
        },
        {
         "alignmentgroup": "True",
         "hovertemplate": "variable=sons<br>value=%{x}<br>index=%{y}<extra></extra>",
         "legendgroup": "sons",
         "marker": {
          "color": "#FFA15A",
          "pattern": {
           "shape": ""
          }
         },
         "name": "sons",
         "offsetgroup": "sons",
         "orientation": "h",
         "showlegend": true,
         "textposition": "auto",
         "type": "bar",
         "x": [
          6,
          4,
          2,
          2
         ],
         "xaxis": "x",
         "y": [
          "Matthew KPE Count",
          "Luke KPE Count",
          "Mark KPE Count",
          "John KPE Count"
         ],
         "yaxis": "y"
        },
        {
         "alignmentgroup": "True",
         "hovertemplate": "variable=hand<br>value=%{x}<br>index=%{y}<extra></extra>",
         "legendgroup": "hand",
         "marker": {
          "color": "#19d3f3",
          "pattern": {
           "shape": ""
          }
         },
         "name": "hand",
         "offsetgroup": "hand",
         "orientation": "h",
         "showlegend": true,
         "textposition": "auto",
         "type": "bar",
         "x": [
          6,
          3,
          5,
          2
         ],
         "xaxis": "x",
         "y": [
          "Matthew KPE Count",
          "Luke KPE Count",
          "Mark KPE Count",
          "John KPE Count"
         ],
         "yaxis": "y"
        },
        {
         "alignmentgroup": "True",
         "hovertemplate": "variable=man<br>value=%{x}<br>index=%{y}<extra></extra>",
         "legendgroup": "man",
         "marker": {
          "color": "#FF6692",
          "pattern": {
           "shape": ""
          }
         },
         "name": "man",
         "offsetgroup": "man",
         "orientation": "h",
         "showlegend": true,
         "textposition": "auto",
         "type": "bar",
         "x": [
          6,
          6,
          3,
          7
         ],
         "xaxis": "x",
         "y": [
          "Matthew KPE Count",
          "Luke KPE Count",
          "Mark KPE Count",
          "John KPE Count"
         ],
         "yaxis": "y"
        },
        {
         "alignmentgroup": "True",
         "hovertemplate": "variable=hands<br>value=%{x}<br>index=%{y}<extra></extra>",
         "legendgroup": "hands",
         "marker": {
          "color": "#B6E880",
          "pattern": {
           "shape": ""
          }
         },
         "name": "hands",
         "offsetgroup": "hands",
         "orientation": "h",
         "showlegend": true,
         "textposition": "auto",
         "type": "bar",
         "x": [
          6,
          8,
          3,
          3
         ],
         "xaxis": "x",
         "y": [
          "Matthew KPE Count",
          "Luke KPE Count",
          "Mark KPE Count",
          "John KPE Count"
         ],
         "yaxis": "y"
        },
        {
         "alignmentgroup": "True",
         "hovertemplate": "variable=John<br>value=%{x}<br>index=%{y}<extra></extra>",
         "legendgroup": "John",
         "marker": {
          "color": "#FF97FF",
          "pattern": {
           "shape": ""
          }
         },
         "name": "John",
         "offsetgroup": "John",
         "orientation": "h",
         "showlegend": true,
         "textposition": "auto",
         "type": "bar",
         "x": [
          6,
          7,
          9,
          5
         ],
         "xaxis": "x",
         "y": [
          "Matthew KPE Count",
          "Luke KPE Count",
          "Mark KPE Count",
          "John KPE Count"
         ],
         "yaxis": "y"
        },
        {
         "alignmentgroup": "True",
         "hovertemplate": "variable=sake<br>value=%{x}<br>index=%{y}<extra></extra>",
         "legendgroup": "sake",
         "marker": {
          "color": "#FECB52",
          "pattern": {
           "shape": ""
          }
         },
         "name": "sake",
         "offsetgroup": "sake",
         "orientation": "h",
         "showlegend": true,
         "textposition": "auto",
         "type": "bar",
         "x": [
          6,
          2,
          2,
          2
         ],
         "xaxis": "x",
         "y": [
          "Matthew KPE Count",
          "Luke KPE Count",
          "Mark KPE Count",
          "John KPE Count"
         ],
         "yaxis": "y"
        },
        {
         "alignmentgroup": "True",
         "hovertemplate": "variable=law<br>value=%{x}<br>index=%{y}<extra></extra>",
         "legendgroup": "law",
         "marker": {
          "color": "#636efa",
          "pattern": {
           "shape": ""
          }
         },
         "name": "law",
         "offsetgroup": "law",
         "orientation": "h",
         "showlegend": true,
         "textposition": "auto",
         "type": "bar",
         "x": [
          6,
          7,
          1,
          7
         ],
         "xaxis": "x",
         "y": [
          "Matthew KPE Count",
          "Luke KPE Count",
          "Mark KPE Count",
          "John KPE Count"
         ],
         "yaxis": "y"
        },
        {
         "alignmentgroup": "True",
         "hovertemplate": "variable=head<br>value=%{x}<br>index=%{y}<extra></extra>",
         "legendgroup": "head",
         "marker": {
          "color": "#EF553B",
          "pattern": {
           "shape": ""
          }
         },
         "name": "head",
         "offsetgroup": "head",
         "orientation": "h",
         "showlegend": true,
         "textposition": "auto",
         "type": "bar",
         "x": [
          6,
          3,
          4,
          2
         ],
         "xaxis": "x",
         "y": [
          "Matthew KPE Count",
          "Luke KPE Count",
          "Mark KPE Count",
          "John KPE Count"
         ],
         "yaxis": "y"
        },
        {
         "alignmentgroup": "True",
         "hovertemplate": "variable=Teacher<br>value=%{x}<br>index=%{y}<extra></extra>",
         "legendgroup": "Teacher",
         "marker": {
          "color": "#00cc96",
          "pattern": {
           "shape": ""
          }
         },
         "name": "Teacher",
         "offsetgroup": "Teacher",
         "orientation": "h",
         "showlegend": true,
         "textposition": "auto",
         "type": "bar",
         "x": [
          6,
          6,
          4,
          2
         ],
         "xaxis": "x",
         "y": [
          "Matthew KPE Count",
          "Luke KPE Count",
          "Mark KPE Count",
          "John KPE Count"
         ],
         "yaxis": "y"
        },
        {
         "alignmentgroup": "True",
         "hovertemplate": "variable=elders<br>value=%{x}<br>index=%{y}<extra></extra>",
         "legendgroup": "elders",
         "marker": {
          "color": "#ab63fa",
          "pattern": {
           "shape": ""
          }
         },
         "name": "elders",
         "offsetgroup": "elders",
         "orientation": "h",
         "showlegend": true,
         "textposition": "auto",
         "type": "bar",
         "x": [
          6,
          2,
          4,
          null
         ],
         "xaxis": "x",
         "y": [
          "Matthew KPE Count",
          "Luke KPE Count",
          "Mark KPE Count",
          "John KPE Count"
         ],
         "yaxis": "y"
        },
        {
         "alignmentgroup": "True",
         "hovertemplate": "variable=brothers<br>value=%{x}<br>index=%{y}<extra></extra>",
         "legendgroup": "brothers",
         "marker": {
          "color": "#FFA15A",
          "pattern": {
           "shape": ""
          }
         },
         "name": "brothers",
         "offsetgroup": "brothers",
         "orientation": "h",
         "showlegend": true,
         "textposition": "auto",
         "type": "bar",
         "x": [
          5,
          3,
          null,
          3
         ],
         "xaxis": "x",
         "y": [
          "Matthew KPE Count",
          "Luke KPE Count",
          "Mark KPE Count",
          "John KPE Count"
         ],
         "yaxis": "y"
        },
        {
         "alignmentgroup": "True",
         "hovertemplate": "variable=sins<br>value=%{x}<br>index=%{y}<extra></extra>",
         "legendgroup": "sins",
         "marker": {
          "color": "#19d3f3",
          "pattern": {
           "shape": ""
          }
         },
         "name": "sins",
         "offsetgroup": "sins",
         "orientation": "h",
         "showlegend": true,
         "textposition": "auto",
         "type": "bar",
         "x": [
          5,
          3,
          5,
          1
         ],
         "xaxis": "x",
         "y": [
          "Matthew KPE Count",
          "Luke KPE Count",
          "Mark KPE Count",
          "John KPE Count"
         ],
         "yaxis": "y"
        },
        {
         "alignmentgroup": "True",
         "hovertemplate": "variable=Christ<br>value=%{x}<br>index=%{y}<extra></extra>",
         "legendgroup": "Christ",
         "marker": {
          "color": "#FF6692",
          "pattern": {
           "shape": ""
          }
         },
         "name": "Christ",
         "offsetgroup": "Christ",
         "orientation": "h",
         "showlegend": true,
         "textposition": "auto",
         "type": "bar",
         "x": [
          5,
          5,
          4,
          6
         ],
         "xaxis": "x",
         "y": [
          "Matthew KPE Count",
          "Luke KPE Count",
          "Mark KPE Count",
          "John KPE Count"
         ],
         "yaxis": "y"
        },
        {
         "alignmentgroup": "True",
         "hovertemplate": "variable=Judea<br>value=%{x}<br>index=%{y}<extra></extra>",
         "legendgroup": "Judea",
         "marker": {
          "color": "#B6E880",
          "pattern": {
           "shape": ""
          }
         },
         "name": "Judea",
         "offsetgroup": "Judea",
         "orientation": "h",
         "showlegend": true,
         "textposition": "auto",
         "type": "bar",
         "x": [
          5,
          7,
          3,
          4
         ],
         "xaxis": "x",
         "y": [
          "Matthew KPE Count",
          "Luke KPE Count",
          "Mark KPE Count",
          "John KPE Count"
         ],
         "yaxis": "y"
        },
        {
         "alignmentgroup": "True",
         "hovertemplate": "variable=land<br>value=%{x}<br>index=%{y}<extra></extra>",
         "legendgroup": "land",
         "marker": {
          "color": "#FF97FF",
          "pattern": {
           "shape": ""
          }
         },
         "name": "land",
         "offsetgroup": "land",
         "orientation": "h",
         "showlegend": true,
         "textposition": "auto",
         "type": "bar",
         "x": [
          5,
          4,
          1,
          3
         ],
         "xaxis": "x",
         "y": [
          "Matthew KPE Count",
          "Luke KPE Count",
          "Mark KPE Count",
          "John KPE Count"
         ],
         "yaxis": "y"
        },
        {
         "alignmentgroup": "True",
         "hovertemplate": "variable=night<br>value=%{x}<br>index=%{y}<extra></extra>",
         "legendgroup": "night",
         "marker": {
          "color": "#FECB52",
          "pattern": {
           "shape": ""
          }
         },
         "name": "night",
         "offsetgroup": "night",
         "orientation": "h",
         "showlegend": true,
         "textposition": "auto",
         "type": "bar",
         "x": [
          5,
          5,
          2,
          4
         ],
         "xaxis": "x",
         "y": [
          "Matthew KPE Count",
          "Luke KPE Count",
          "Mark KPE Count",
          "John KPE Count"
         ],
         "yaxis": "y"
        },
        {
         "alignmentgroup": "True",
         "hovertemplate": "variable=desert<br>value=%{x}<br>index=%{y}<extra></extra>",
         "legendgroup": "desert",
         "marker": {
          "color": "#636efa",
          "pattern": {
           "shape": ""
          }
         },
         "name": "desert",
         "offsetgroup": "desert",
         "orientation": "h",
         "showlegend": true,
         "textposition": "auto",
         "type": "bar",
         "x": [
          5,
          3,
          null,
          3
         ],
         "xaxis": "x",
         "y": [
          "Matthew KPE Count",
          "Luke KPE Count",
          "Mark KPE Count",
          "John KPE Count"
         ],
         "yaxis": "y"
        },
        {
         "alignmentgroup": "True",
         "hovertemplate": "variable=bread<br>value=%{x}<br>index=%{y}<extra></extra>",
         "legendgroup": "bread",
         "marker": {
          "color": "#EF553B",
          "pattern": {
           "shape": ""
          }
         },
         "name": "bread",
         "offsetgroup": "bread",
         "orientation": "h",
         "showlegend": true,
         "textposition": "auto",
         "type": "bar",
         "x": [
          5,
          6,
          4,
          2
         ],
         "xaxis": "x",
         "y": [
          "Matthew KPE Count",
          "Luke KPE Count",
          "Mark KPE Count",
          "John KPE Count"
         ],
         "yaxis": "y"
        },
        {
         "alignmentgroup": "True",
         "hovertemplate": "variable=temple<br>value=%{x}<br>index=%{y}<extra></extra>",
         "legendgroup": "temple",
         "marker": {
          "color": "#00cc96",
          "pattern": {
           "shape": ""
          }
         },
         "name": "temple",
         "offsetgroup": "temple",
         "orientation": "h",
         "showlegend": true,
         "textposition": "auto",
         "type": "bar",
         "x": [
          5,
          7,
          4,
          5
         ],
         "xaxis": "x",
         "y": [
          "Matthew KPE Count",
          "Luke KPE Count",
          "Mark KPE Count",
          "John KPE Count"
         ],
         "yaxis": "y"
        },
        {
         "alignmentgroup": "True",
         "hovertemplate": "variable=synagogues<br>value=%{x}<br>index=%{y}<extra></extra>",
         "legendgroup": "synagogues",
         "marker": {
          "color": "#ab63fa",
          "pattern": {
           "shape": ""
          }
         },
         "name": "synagogues",
         "offsetgroup": "synagogues",
         "orientation": "h",
         "showlegend": true,
         "textposition": "auto",
         "type": "bar",
         "x": [
          5,
          3,
          1,
          1
         ],
         "xaxis": "x",
         "y": [
          "Matthew KPE Count",
          "Luke KPE Count",
          "Mark KPE Count",
          "John KPE Count"
         ],
         "yaxis": "y"
        },
        {
         "alignmentgroup": "True",
         "hovertemplate": "variable=mountain<br>value=%{x}<br>index=%{y}<extra></extra>",
         "legendgroup": "mountain",
         "marker": {
          "color": "#FFA15A",
          "pattern": {
           "shape": ""
          }
         },
         "name": "mountain",
         "offsetgroup": "mountain",
         "orientation": "h",
         "showlegend": true,
         "textposition": "auto",
         "type": "bar",
         "x": [
          5,
          4,
          1,
          2
         ],
         "xaxis": "x",
         "y": [
          "Matthew KPE Count",
          "Luke KPE Count",
          "Mark KPE Count",
          "John KPE Count"
         ],
         "yaxis": "y"
        },
        {
         "alignmentgroup": "True",
         "hovertemplate": "variable=brother<br>value=%{x}<br>index=%{y}<extra></extra>",
         "legendgroup": "brother",
         "marker": {
          "color": "#19d3f3",
          "pattern": {
           "shape": ""
          }
         },
         "name": "brother",
         "offsetgroup": "brother",
         "orientation": "h",
         "showlegend": true,
         "textposition": "auto",
         "type": "bar",
         "x": [
          5,
          5,
          5,
          3
         ],
         "xaxis": "x",
         "y": [
          "Matthew KPE Count",
          "Luke KPE Count",
          "Mark KPE Count",
          "John KPE Count"
         ],
         "yaxis": "y"
        },
        {
         "alignmentgroup": "True",
         "hovertemplate": "variable=Hell<br>value=%{x}<br>index=%{y}<extra></extra>",
         "legendgroup": "Hell",
         "marker": {
          "color": "#FF6692",
          "pattern": {
           "shape": ""
          }
         },
         "name": "Hell",
         "offsetgroup": "Hell",
         "orientation": "h",
         "showlegend": true,
         "textposition": "auto",
         "type": "bar",
         "x": [
          5,
          2,
          null,
          null
         ],
         "xaxis": "x",
         "y": [
          "Matthew KPE Count",
          "Luke KPE Count",
          "Mark KPE Count",
          "John KPE Count"
         ],
         "yaxis": "y"
        },
        {
         "alignmentgroup": "True",
         "hovertemplate": "variable=woman<br>value=%{x}<br>index=%{y}<extra></extra>",
         "legendgroup": "woman",
         "marker": {
          "color": "#B6E880",
          "pattern": {
           "shape": ""
          }
         },
         "name": "woman",
         "offsetgroup": "woman",
         "orientation": "h",
         "showlegend": true,
         "textposition": "auto",
         "type": "bar",
         "x": [
          5,
          4,
          3,
          3
         ],
         "xaxis": "x",
         "y": [
          "Matthew KPE Count",
          "Luke KPE Count",
          "Mark KPE Count",
          "John KPE Count"
         ],
         "yaxis": "y"
        },
        {
         "alignmentgroup": "True",
         "hovertemplate": "variable=sheep<br>value=%{x}<br>index=%{y}<extra></extra>",
         "legendgroup": "sheep",
         "marker": {
          "color": "#FF97FF",
          "pattern": {
           "shape": ""
          }
         },
         "name": "sheep",
         "offsetgroup": "sheep",
         "orientation": "h",
         "showlegend": true,
         "textposition": "auto",
         "type": "bar",
         "x": [
          5,
          null,
          2,
          2
         ],
         "xaxis": "x",
         "y": [
          "Matthew KPE Count",
          "Luke KPE Count",
          "Mark KPE Count",
          "John KPE Count"
         ],
         "yaxis": "y"
        },
        {
         "alignmentgroup": "True",
         "hovertemplate": "variable=will<br>value=%{x}<br>index=%{y}<extra></extra>",
         "legendgroup": "will",
         "marker": {
          "color": "#FECB52",
          "pattern": {
           "shape": ""
          }
         },
         "name": "will",
         "offsetgroup": "will",
         "orientation": "h",
         "showlegend": true,
         "textposition": "auto",
         "type": "bar",
         "x": [
          5,
          2,
          1,
          6
         ],
         "xaxis": "x",
         "y": [
          "Matthew KPE Count",
          "Luke KPE Count",
          "Mark KPE Count",
          "John KPE Count"
         ],
         "yaxis": "y"
        },
        {
         "alignmentgroup": "True",
         "hovertemplate": "variable=day<br>value=%{x}<br>index=%{y}<extra></extra>",
         "legendgroup": "day",
         "marker": {
          "color": "#636efa",
          "pattern": {
           "shape": ""
          }
         },
         "name": "day",
         "offsetgroup": "day",
         "orientation": "h",
         "showlegend": true,
         "textposition": "auto",
         "type": "bar",
         "x": [
          5,
          3,
          1,
          3
         ],
         "xaxis": "x",
         "y": [
          "Matthew KPE Count",
          "Luke KPE Count",
          "Mark KPE Count",
          "John KPE Count"
         ],
         "yaxis": "y"
        },
        {
         "alignmentgroup": "True",
         "hovertemplate": "variable=authority<br>value=%{x}<br>index=%{y}<extra></extra>",
         "legendgroup": "authority",
         "marker": {
          "color": "#EF553B",
          "pattern": {
           "shape": ""
          }
         },
         "name": "authority",
         "offsetgroup": "authority",
         "orientation": "h",
         "showlegend": true,
         "textposition": "auto",
         "type": "bar",
         "x": [
          5,
          6,
          6,
          3
         ],
         "xaxis": "x",
         "y": [
          "Matthew KPE Count",
          "Luke KPE Count",
          "Mark KPE Count",
          "John KPE Count"
         ],
         "yaxis": "y"
        },
        {
         "alignmentgroup": "True",
         "hovertemplate": "variable=Moses<br>value=%{x}<br>index=%{y}<extra></extra>",
         "legendgroup": "Moses",
         "marker": {
          "color": "#00cc96",
          "pattern": {
           "shape": ""
          }
         },
         "name": "Moses",
         "offsetgroup": "Moses",
         "orientation": "h",
         "showlegend": true,
         "textposition": "auto",
         "type": "bar",
         "x": [
          5,
          5,
          4,
          6
         ],
         "xaxis": "x",
         "y": [
          "Matthew KPE Count",
          "Luke KPE Count",
          "Mark KPE Count",
          "John KPE Count"
         ],
         "yaxis": "y"
        },
        {
         "alignmentgroup": "True",
         "hovertemplate": "variable=boat<br>value=%{x}<br>index=%{y}<extra></extra>",
         "legendgroup": "boat",
         "marker": {
          "color": "#ab63fa",
          "pattern": {
           "shape": ""
          }
         },
         "name": "boat",
         "offsetgroup": "boat",
         "orientation": "h",
         "showlegend": true,
         "textposition": "auto",
         "type": "bar",
         "x": [
          5,
          null,
          4,
          1
         ],
         "xaxis": "x",
         "y": [
          "Matthew KPE Count",
          "Luke KPE Count",
          "Mark KPE Count",
          "John KPE Count"
         ],
         "yaxis": "y"
        },
        {
         "alignmentgroup": "True",
         "hovertemplate": "variable=one<br>value=%{x}<br>index=%{y}<extra></extra>",
         "legendgroup": "one",
         "marker": {
          "color": "#FFA15A",
          "pattern": {
           "shape": ""
          }
         },
         "name": "one",
         "offsetgroup": "one",
         "orientation": "h",
         "showlegend": true,
         "textposition": "auto",
         "type": "bar",
         "x": [
          5,
          3,
          4,
          9
         ],
         "xaxis": "x",
         "y": [
          "Matthew KPE Count",
          "Luke KPE Count",
          "Mark KPE Count",
          "John KPE Count"
         ],
         "yaxis": "y"
        },
        {
         "alignmentgroup": "True",
         "hovertemplate": "variable=blood<br>value=%{x}<br>index=%{y}<extra></extra>",
         "legendgroup": "blood",
         "marker": {
          "color": "#19d3f3",
          "pattern": {
           "shape": ""
          }
         },
         "name": "blood",
         "offsetgroup": "blood",
         "orientation": "h",
         "showlegend": true,
         "textposition": "auto",
         "type": "bar",
         "x": [
          5,
          2,
          2,
          2
         ],
         "xaxis": "x",
         "y": [
          "Matthew KPE Count",
          "Luke KPE Count",
          "Mark KPE Count",
          "John KPE Count"
         ],
         "yaxis": "y"
        },
        {
         "alignmentgroup": "True",
         "hovertemplate": "variable=David<br>value=%{x}<br>index=%{y}<extra></extra>",
         "legendgroup": "David",
         "marker": {
          "color": "#FF6692",
          "pattern": {
           "shape": ""
          }
         },
         "name": "David",
         "offsetgroup": "David",
         "orientation": "h",
         "showlegend": true,
         "textposition": "auto",
         "type": "bar",
         "x": [
          5,
          5,
          3,
          1
         ],
         "xaxis": "x",
         "y": [
          "Matthew KPE Count",
          "Luke KPE Count",
          "Mark KPE Count",
          "John KPE Count"
         ],
         "yaxis": "y"
        },
        {
         "alignmentgroup": "True",
         "hovertemplate": "variable=demon<br>value=%{x}<br>index=%{y}<extra></extra>",
         "legendgroup": "demon",
         "marker": {
          "color": "#B6E880",
          "pattern": {
           "shape": ""
          }
         },
         "name": "demon",
         "offsetgroup": "demon",
         "orientation": "h",
         "showlegend": true,
         "textposition": "auto",
         "type": "bar",
         "x": [
          5,
          2,
          2,
          1
         ],
         "xaxis": "x",
         "y": [
          "Matthew KPE Count",
          "Luke KPE Count",
          "Mark KPE Count",
          "John KPE Count"
         ],
         "yaxis": "y"
        },
        {
         "alignmentgroup": "True",
         "hovertemplate": "variable=Angels<br>value=%{x}<br>index=%{y}<extra></extra>",
         "legendgroup": "Angels",
         "marker": {
          "color": "#FF97FF",
          "pattern": {
           "shape": ""
          }
         },
         "name": "Angels",
         "offsetgroup": "Angels",
         "orientation": "h",
         "showlegend": true,
         "textposition": "auto",
         "type": "bar",
         "x": [
          5,
          4,
          2,
          null
         ],
         "xaxis": "x",
         "y": [
          "Matthew KPE Count",
          "Luke KPE Count",
          "Mark KPE Count",
          "John KPE Count"
         ],
         "yaxis": "y"
        },
        {
         "alignmentgroup": "True",
         "hovertemplate": "variable=Holy Spirit<br>value=%{x}<br>index=%{y}<extra></extra>",
         "legendgroup": "Holy Spirit",
         "marker": {
          "color": "#FECB52",
          "pattern": {
           "shape": ""
          }
         },
         "name": "Holy Spirit",
         "offsetgroup": "Holy Spirit",
         "orientation": "h",
         "showlegend": true,
         "textposition": "auto",
         "type": "bar",
         "x": [
          4,
          4,
          4,
          3
         ],
         "xaxis": "x",
         "y": [
          "Matthew KPE Count",
          "Luke KPE Count",
          "Mark KPE Count",
          "John KPE Count"
         ],
         "yaxis": "y"
        },
        {
         "alignmentgroup": "True",
         "hovertemplate": "variable=Abraham<br>value=%{x}<br>index=%{y}<extra></extra>",
         "legendgroup": "Abraham",
         "marker": {
          "color": "#636efa",
          "pattern": {
           "shape": ""
          }
         },
         "name": "Abraham",
         "offsetgroup": "Abraham",
         "orientation": "h",
         "showlegend": true,
         "textposition": "auto",
         "type": "bar",
         "x": [
          4,
          3,
          1,
          1
         ],
         "xaxis": "x",
         "y": [
          "Matthew KPE Count",
          "Luke KPE Count",
          "Mark KPE Count",
          "John KPE Count"
         ],
         "yaxis": "y"
        },
        {
         "alignmentgroup": "True",
         "hovertemplate": "variable=Angel<br>value=%{x}<br>index=%{y}<extra></extra>",
         "legendgroup": "Angel",
         "marker": {
          "color": "#EF553B",
          "pattern": {
           "shape": ""
          }
         },
         "name": "Angel",
         "offsetgroup": "Angel",
         "orientation": "h",
         "showlegend": true,
         "textposition": "auto",
         "type": "bar",
         "x": [
          4,
          3,
          1,
          1
         ],
         "xaxis": "x",
         "y": [
          "Matthew KPE Count",
          "Luke KPE Count",
          "Mark KPE Count",
          "John KPE Count"
         ],
         "yaxis": "y"
        },
        {
         "alignmentgroup": "True",
         "hovertemplate": "variable=prophet<br>value=%{x}<br>index=%{y}<extra></extra>",
         "legendgroup": "prophet",
         "marker": {
          "color": "#00cc96",
          "pattern": {
           "shape": ""
          }
         },
         "name": "prophet",
         "offsetgroup": "prophet",
         "orientation": "h",
         "showlegend": true,
         "textposition": "auto",
         "type": "bar",
         "x": [
          4,
          null,
          1,
          null
         ],
         "xaxis": "x",
         "y": [
          "Matthew KPE Count",
          "Luke KPE Count",
          "Mark KPE Count",
          "John KPE Count"
         ],
         "yaxis": "y"
        },
        {
         "alignmentgroup": "True",
         "hovertemplate": "variable=region<br>value=%{x}<br>index=%{y}<extra></extra>",
         "legendgroup": "region",
         "marker": {
          "color": "#ab63fa",
          "pattern": {
           "shape": ""
          }
         },
         "name": "region",
         "offsetgroup": "region",
         "orientation": "h",
         "showlegend": true,
         "textposition": "auto",
         "type": "bar",
         "x": [
          4,
          2,
          1,
          null
         ],
         "xaxis": "x",
         "y": [
          "Matthew KPE Count",
          "Luke KPE Count",
          "Mark KPE Count",
          "John KPE Count"
         ],
         "yaxis": "y"
        },
        {
         "alignmentgroup": "True",
         "hovertemplate": "variable=age<br>value=%{x}<br>index=%{y}<extra></extra>",
         "legendgroup": "age",
         "marker": {
          "color": "#FFA15A",
          "pattern": {
           "shape": ""
          }
         },
         "name": "age",
         "offsetgroup": "age",
         "orientation": "h",
         "showlegend": true,
         "textposition": "auto",
         "type": "bar",
         "x": [
          4,
          2,
          null,
          null
         ],
         "xaxis": "x",
         "y": [
          "Matthew KPE Count",
          "Luke KPE Count",
          "Mark KPE Count",
          "John KPE Count"
         ],
         "yaxis": "y"
        },
        {
         "alignmentgroup": "True",
         "hovertemplate": "variable=voice<br>value=%{x}<br>index=%{y}<extra></extra>",
         "legendgroup": "voice",
         "marker": {
          "color": "#19d3f3",
          "pattern": {
           "shape": ""
          }
         },
         "name": "voice",
         "offsetgroup": "voice",
         "orientation": "h",
         "showlegend": true,
         "textposition": "auto",
         "type": "bar",
         "x": [
          4,
          3,
          2,
          5
         ],
         "xaxis": "x",
         "y": [
          "Matthew KPE Count",
          "Luke KPE Count",
          "Mark KPE Count",
          "John KPE Count"
         ],
         "yaxis": "y"
        },
        {
         "alignmentgroup": "True",
         "hovertemplate": "variable=life<br>value=%{x}<br>index=%{y}<extra></extra>",
         "legendgroup": "life",
         "marker": {
          "color": "#FF6692",
          "pattern": {
           "shape": ""
          }
         },
         "name": "life",
         "offsetgroup": "life",
         "orientation": "h",
         "showlegend": true,
         "textposition": "auto",
         "type": "bar",
         "x": [
          4,
          8,
          2,
          3
         ],
         "xaxis": "x",
         "y": [
          "Matthew KPE Count",
          "Luke KPE Count",
          "Mark KPE Count",
          "John KPE Count"
         ],
         "yaxis": "y"
        },
        {
         "alignmentgroup": "True",
         "hovertemplate": "variable=prophet Isaiah<br>value=%{x}<br>index=%{y}<extra></extra>",
         "legendgroup": "prophet Isaiah",
         "marker": {
          "color": "#B6E880",
          "pattern": {
           "shape": ""
          }
         },
         "name": "prophet Isaiah",
         "offsetgroup": "prophet Isaiah",
         "orientation": "h",
         "showlegend": true,
         "textposition": "auto",
         "type": "bar",
         "x": [
          4,
          2,
          1,
          2
         ],
         "xaxis": "x",
         "y": [
          "Matthew KPE Count",
          "Luke KPE Count",
          "Mark KPE Count",
          "John KPE Count"
         ],
         "yaxis": "y"
        },
        {
         "alignmentgroup": "True",
         "hovertemplate": "variable=justice<br>value=%{x}<br>index=%{y}<extra></extra>",
         "legendgroup": "justice",
         "marker": {
          "color": "#FF97FF",
          "pattern": {
           "shape": ""
          }
         },
         "name": "justice",
         "offsetgroup": "justice",
         "orientation": "h",
         "showlegend": true,
         "textposition": "auto",
         "type": "bar",
         "x": [
          4,
          1,
          null,
          1
         ],
         "xaxis": "x",
         "y": [
          "Matthew KPE Count",
          "Luke KPE Count",
          "Mark KPE Count",
          "John KPE Count"
         ],
         "yaxis": "y"
        },
        {
         "alignmentgroup": "True",
         "hovertemplate": "variable=Capernaum<br>value=%{x}<br>index=%{y}<extra></extra>",
         "legendgroup": "Capernaum",
         "marker": {
          "color": "#FECB52",
          "pattern": {
           "shape": ""
          }
         },
         "name": "Capernaum",
         "offsetgroup": "Capernaum",
         "orientation": "h",
         "showlegend": true,
         "textposition": "auto",
         "type": "bar",
         "x": [
          4,
          2,
          3,
          2
         ],
         "xaxis": "x",
         "y": [
          "Matthew KPE Count",
          "Luke KPE Count",
          "Mark KPE Count",
          "John KPE Count"
         ],
         "yaxis": "y"
        },
        {
         "alignmentgroup": "True",
         "hovertemplate": "variable=Simon<br>value=%{x}<br>index=%{y}<extra></extra>",
         "legendgroup": "Simon",
         "marker": {
          "color": "#636efa",
          "pattern": {
           "shape": ""
          }
         },
         "name": "Simon",
         "offsetgroup": "Simon",
         "orientation": "h",
         "showlegend": true,
         "textposition": "auto",
         "type": "bar",
         "x": [
          4,
          5,
          5,
          null
         ],
         "xaxis": "x",
         "y": [
          "Matthew KPE Count",
          "Luke KPE Count",
          "Mark KPE Count",
          "John KPE Count"
         ],
         "yaxis": "y"
        },
        {
         "alignmentgroup": "True",
         "hovertemplate": "variable=Gospel<br>value=%{x}<br>index=%{y}<extra></extra>",
         "legendgroup": "Gospel",
         "marker": {
          "color": "#EF553B",
          "pattern": {
           "shape": ""
          }
         },
         "name": "Gospel",
         "offsetgroup": "Gospel",
         "orientation": "h",
         "showlegend": true,
         "textposition": "auto",
         "type": "bar",
         "x": [
          4,
          null,
          5,
          null
         ],
         "xaxis": "x",
         "y": [
          "Matthew KPE Count",
          "Luke KPE Count",
          "Mark KPE Count",
          "John KPE Count"
         ],
         "yaxis": "y"
        },
        {
         "alignmentgroup": "True",
         "hovertemplate": "variable=maladies<br>value=%{x}<br>index=%{y}<extra></extra>",
         "legendgroup": "maladies",
         "marker": {
          "color": "#00cc96",
          "pattern": {
           "shape": ""
          }
         },
         "name": "maladies",
         "offsetgroup": "maladies",
         "orientation": "h",
         "showlegend": true,
         "textposition": "auto",
         "type": "bar",
         "x": [
          4,
          1,
          2,
          null
         ],
         "xaxis": "x",
         "y": [
          "Matthew KPE Count",
          "Luke KPE Count",
          "Mark KPE Count",
          "John KPE Count"
         ],
         "yaxis": "y"
        },
        {
         "alignmentgroup": "True",
         "hovertemplate": "variable=right hand<br>value=%{x}<br>index=%{y}<extra></extra>",
         "legendgroup": "right hand",
         "marker": {
          "color": "#ab63fa",
          "pattern": {
           "shape": ""
          }
         },
         "name": "right hand",
         "offsetgroup": "right hand",
         "orientation": "h",
         "showlegend": true,
         "textposition": "auto",
         "type": "bar",
         "x": [
          4,
          1,
          2,
          null
         ],
         "xaxis": "x",
         "y": [
          "Matthew KPE Count",
          "Luke KPE Count",
          "Mark KPE Count",
          "John KPE Count"
         ],
         "yaxis": "y"
        },
        {
         "alignmentgroup": "True",
         "hovertemplate": "variable=mercy<br>value=%{x}<br>index=%{y}<extra></extra>",
         "legendgroup": "mercy",
         "marker": {
          "color": "#FFA15A",
          "pattern": {
           "shape": ""
          }
         },
         "name": "mercy",
         "offsetgroup": "mercy",
         "orientation": "h",
         "showlegend": true,
         "textposition": "auto",
         "type": "bar",
         "x": [
          4,
          1,
          null,
          null
         ],
         "xaxis": "x",
         "y": [
          "Matthew KPE Count",
          "Luke KPE Count",
          "Mark KPE Count",
          "John KPE Count"
         ],
         "yaxis": "y"
        },
        {
         "alignmentgroup": "True",
         "hovertemplate": "variable=evil<br>value=%{x}<br>index=%{y}<extra></extra>",
         "legendgroup": "evil",
         "marker": {
          "color": "#19d3f3",
          "pattern": {
           "shape": ""
          }
         },
         "name": "evil",
         "offsetgroup": "evil",
         "orientation": "h",
         "showlegend": true,
         "textposition": "auto",
         "type": "bar",
         "x": [
          4,
          2,
          2,
          2
         ],
         "xaxis": "x",
         "y": [
          "Matthew KPE Count",
          "Luke KPE Count",
          "Mark KPE Count",
          "John KPE Count"
         ],
         "yaxis": "y"
        },
        {
         "alignmentgroup": "True",
         "hovertemplate": "variable=men<br>value=%{x}<br>index=%{y}<extra></extra>",
         "legendgroup": "men",
         "marker": {
          "color": "#FF6692",
          "pattern": {
           "shape": ""
          }
         },
         "name": "men",
         "offsetgroup": "men",
         "orientation": "h",
         "showlegend": true,
         "textposition": "auto",
         "type": "bar",
         "x": [
          4,
          5,
          1,
          4
         ],
         "xaxis": "x",
         "y": [
          "Matthew KPE Count",
          "Luke KPE Count",
          "Mark KPE Count",
          "John KPE Count"
         ],
         "yaxis": "y"
        },
        {
         "alignmentgroup": "True",
         "hovertemplate": "variable=body<br>value=%{x}<br>index=%{y}<extra></extra>",
         "legendgroup": "body",
         "marker": {
          "color": "#B6E880",
          "pattern": {
           "shape": ""
          }
         },
         "name": "body",
         "offsetgroup": "body",
         "orientation": "h",
         "showlegend": true,
         "textposition": "auto",
         "type": "bar",
         "x": [
          4,
          4,
          4,
          1
         ],
         "xaxis": "x",
         "y": [
          "Matthew KPE Count",
          "Luke KPE Count",
          "Mark KPE Count",
          "John KPE Count"
         ],
         "yaxis": "y"
        },
        {
         "alignmentgroup": "True",
         "hovertemplate": "variable=field<br>value=%{x}<br>index=%{y}<extra></extra>",
         "legendgroup": "field",
         "marker": {
          "color": "#FF97FF",
          "pattern": {
           "shape": ""
          }
         },
         "name": "field",
         "offsetgroup": "field",
         "orientation": "h",
         "showlegend": true,
         "textposition": "auto",
         "type": "bar",
         "x": [
          4,
          3,
          1,
          null
         ],
         "xaxis": "x",
         "y": [
          "Matthew KPE Count",
          "Luke KPE Count",
          "Mark KPE Count",
          "John KPE Count"
         ],
         "yaxis": "y"
        },
        {
         "alignmentgroup": "True",
         "hovertemplate": "variable=feet<br>value=%{x}<br>index=%{y}<extra></extra>",
         "legendgroup": "feet",
         "marker": {
          "color": "#FECB52",
          "pattern": {
           "shape": ""
          }
         },
         "name": "feet",
         "offsetgroup": "feet",
         "orientation": "h",
         "showlegend": true,
         "textposition": "auto",
         "type": "bar",
         "x": [
          4,
          6,
          3,
          3
         ],
         "xaxis": "x",
         "y": [
          "Matthew KPE Count",
          "Luke KPE Count",
          "Mark KPE Count",
          "John KPE Count"
         ],
         "yaxis": "y"
        },
        {
         "alignmentgroup": "True",
         "hovertemplate": "variable=everyone<br>value=%{x}<br>index=%{y}<extra></extra>",
         "legendgroup": "everyone",
         "marker": {
          "color": "#636efa",
          "pattern": {
           "shape": ""
          }
         },
         "name": "everyone",
         "offsetgroup": "everyone",
         "orientation": "h",
         "showlegend": true,
         "textposition": "auto",
         "type": "bar",
         "x": [
          4,
          9,
          1,
          3
         ],
         "xaxis": "x",
         "y": [
          "Matthew KPE Count",
          "Luke KPE Count",
          "Mark KPE Count",
          "John KPE Count"
         ],
         "yaxis": "y"
        },
        {
         "alignmentgroup": "True",
         "hovertemplate": "variable=words<br>value=%{x}<br>index=%{y}<extra></extra>",
         "legendgroup": "words",
         "marker": {
          "color": "#EF553B",
          "pattern": {
           "shape": ""
          }
         },
         "name": "words",
         "offsetgroup": "words",
         "orientation": "h",
         "showlegend": true,
         "textposition": "auto",
         "type": "bar",
         "x": [
          4,
          4,
          1,
          3
         ],
         "xaxis": "x",
         "y": [
          "Matthew KPE Count",
          "Luke KPE Count",
          "Mark KPE Count",
          "John KPE Count"
         ],
         "yaxis": "y"
        },
        {
         "alignmentgroup": "True",
         "hovertemplate": "variable=table<br>value=%{x}<br>index=%{y}<extra></extra>",
         "legendgroup": "table",
         "marker": {
          "color": "#00cc96",
          "pattern": {
           "shape": ""
          }
         },
         "name": "table",
         "offsetgroup": "table",
         "orientation": "h",
         "showlegend": true,
         "textposition": "auto",
         "type": "bar",
         "x": [
          4,
          7,
          5,
          2
         ],
         "xaxis": "x",
         "y": [
          "Matthew KPE Count",
          "Luke KPE Count",
          "Mark KPE Count",
          "John KPE Count"
         ],
         "yaxis": "y"
        },
        {
         "alignmentgroup": "True",
         "hovertemplate": "variable=evening<br>value=%{x}<br>index=%{y}<extra></extra>",
         "legendgroup": "evening",
         "marker": {
          "color": "#ab63fa",
          "pattern": {
           "shape": ""
          }
         },
         "name": "evening",
         "offsetgroup": "evening",
         "orientation": "h",
         "showlegend": true,
         "textposition": "auto",
         "type": "bar",
         "x": [
          4,
          2,
          5,
          1
         ],
         "xaxis": "x",
         "y": [
          "Matthew KPE Count",
          "Luke KPE Count",
          "Mark KPE Count",
          "John KPE Count"
         ],
         "yaxis": "y"
        },
        {
         "alignmentgroup": "True",
         "hovertemplate": "variable=daughter<br>value=%{x}<br>index=%{y}<extra></extra>",
         "legendgroup": "daughter",
         "marker": {
          "color": "#FFA15A",
          "pattern": {
           "shape": ""
          }
         },
         "name": "daughter",
         "offsetgroup": "daughter",
         "orientation": "h",
         "showlegend": true,
         "textposition": "auto",
         "type": "bar",
         "x": [
          4,
          2,
          3,
          1
         ],
         "xaxis": "x",
         "y": [
          "Matthew KPE Count",
          "Luke KPE Count",
          "Mark KPE Count",
          "John KPE Count"
         ],
         "yaxis": "y"
        },
        {
         "alignmentgroup": "True",
         "hovertemplate": "variable=pity<br>value=%{x}<br>index=%{y}<extra></extra>",
         "legendgroup": "pity",
         "marker": {
          "color": "#19d3f3",
          "pattern": {
           "shape": ""
          }
         },
         "name": "pity",
         "offsetgroup": "pity",
         "orientation": "h",
         "showlegend": true,
         "textposition": "auto",
         "type": "bar",
         "x": [
          4,
          3,
          4,
          null
         ],
         "xaxis": "x",
         "y": [
          "Matthew KPE Count",
          "Luke KPE Count",
          "Mark KPE Count",
          "John KPE Count"
         ],
         "yaxis": "y"
        },
        {
         "alignmentgroup": "True",
         "hovertemplate": "variable=eyes<br>value=%{x}<br>index=%{y}<extra></extra>",
         "legendgroup": "eyes",
         "marker": {
          "color": "#FF6692",
          "pattern": {
           "shape": ""
          }
         },
         "name": "eyes",
         "offsetgroup": "eyes",
         "orientation": "h",
         "showlegend": true,
         "textposition": "auto",
         "type": "bar",
         "x": [
          4,
          7,
          3,
          6
         ],
         "xaxis": "x",
         "y": [
          "Matthew KPE Count",
          "Luke KPE Count",
          "Mark KPE Count",
          "John KPE Count"
         ],
         "yaxis": "y"
        },
        {
         "alignmentgroup": "True",
         "hovertemplate": "variable=face<br>value=%{x}<br>index=%{y}<extra></extra>",
         "legendgroup": "face",
         "marker": {
          "color": "#B6E880",
          "pattern": {
           "shape": ""
          }
         },
         "name": "face",
         "offsetgroup": "face",
         "orientation": "h",
         "showlegend": true,
         "textposition": "auto",
         "type": "bar",
         "x": [
          4,
          4,
          1,
          1
         ],
         "xaxis": "x",
         "y": [
          "Matthew KPE Count",
          "Luke KPE Count",
          "Mark KPE Count",
          "John KPE Count"
         ],
         "yaxis": "y"
        },
        {
         "alignmentgroup": "True",
         "hovertemplate": "variable=women<br>value=%{x}<br>index=%{y}<extra></extra>",
         "legendgroup": "women",
         "marker": {
          "color": "#FF97FF",
          "pattern": {
           "shape": ""
          }
         },
         "name": "women",
         "offsetgroup": "women",
         "orientation": "h",
         "showlegend": true,
         "textposition": "auto",
         "type": "bar",
         "x": [
          4,
          3,
          null,
          null
         ],
         "xaxis": "x",
         "y": [
          "Matthew KPE Count",
          "Luke KPE Count",
          "Mark KPE Count",
          "John KPE Count"
         ],
         "yaxis": "y"
        },
        {
         "alignmentgroup": "True",
         "hovertemplate": "variable=soul<br>value=%{x}<br>index=%{y}<extra></extra>",
         "legendgroup": "soul",
         "marker": {
          "color": "#FECB52",
          "pattern": {
           "shape": ""
          }
         },
         "name": "soul",
         "offsetgroup": "soul",
         "orientation": "h",
         "showlegend": true,
         "textposition": "auto",
         "type": "bar",
         "x": [
          4,
          2,
          3,
          1
         ],
         "xaxis": "x",
         "y": [
          "Matthew KPE Count",
          "Luke KPE Count",
          "Mark KPE Count",
          "John KPE Count"
         ],
         "yaxis": "y"
        },
        {
         "alignmentgroup": "True",
         "hovertemplate": "variable=fruit<br>value=%{x}<br>index=%{y}<extra></extra>",
         "legendgroup": "fruit",
         "marker": {
          "color": "#636efa",
          "pattern": {
           "shape": ""
          }
         },
         "name": "fruit",
         "offsetgroup": "fruit",
         "orientation": "h",
         "showlegend": true,
         "textposition": "auto",
         "type": "bar",
         "x": [
          4,
          5,
          3,
          3
         ],
         "xaxis": "x",
         "y": [
          "Matthew KPE Count",
          "Luke KPE Count",
          "Mark KPE Count",
          "John KPE Count"
         ],
         "yaxis": "y"
        },
        {
         "alignmentgroup": "True",
         "hovertemplate": "variable=morning<br>value=%{x}<br>index=%{y}<extra></extra>",
         "legendgroup": "morning",
         "marker": {
          "color": "#EF553B",
          "pattern": {
           "shape": ""
          }
         },
         "name": "morning",
         "offsetgroup": "morning",
         "orientation": "h",
         "showlegend": true,
         "textposition": "auto",
         "type": "bar",
         "x": [
          4,
          1,
          4,
          3
         ],
         "xaxis": "x",
         "y": [
          "Matthew KPE Count",
          "Luke KPE Count",
          "Mark KPE Count",
          "John KPE Count"
         ],
         "yaxis": "y"
        },
        {
         "alignmentgroup": "True",
         "hovertemplate": "variable=counsel<br>value=%{x}<br>index=%{y}<extra></extra>",
         "legendgroup": "counsel",
         "marker": {
          "color": "#00cc96",
          "pattern": {
           "shape": ""
          }
         },
         "name": "counsel",
         "offsetgroup": "counsel",
         "orientation": "h",
         "showlegend": true,
         "textposition": "auto",
         "type": "bar",
         "x": [
          4,
          1,
          2,
          1
         ],
         "xaxis": "x",
         "y": [
          "Matthew KPE Count",
          "Luke KPE Count",
          "Mark KPE Count",
          "John KPE Count"
         ],
         "yaxis": "y"
        },
        {
         "alignmentgroup": "True",
         "hovertemplate": "variable=Isaac<br>value=%{x}<br>index=%{y}<extra></extra>",
         "legendgroup": "Isaac",
         "marker": {
          "color": "#ab63fa",
          "pattern": {
           "shape": ""
          }
         },
         "name": "Isaac",
         "offsetgroup": "Isaac",
         "orientation": "h",
         "showlegend": true,
         "textposition": "auto",
         "type": "bar",
         "x": [
          3,
          2,
          1,
          null
         ],
         "xaxis": "x",
         "y": [
          "Matthew KPE Count",
          "Luke KPE Count",
          "Mark KPE Count",
          "John KPE Count"
         ],
         "yaxis": "y"
        },
        {
         "alignmentgroup": "True",
         "hovertemplate": "variable=Jacob<br>value=%{x}<br>index=%{y}<extra></extra>",
         "legendgroup": "Jacob",
         "marker": {
          "color": "#FFA15A",
          "pattern": {
           "shape": ""
          }
         },
         "name": "Jacob",
         "offsetgroup": "Jacob",
         "orientation": "h",
         "showlegend": true,
         "textposition": "auto",
         "type": "bar",
         "x": [
          3,
          3,
          1,
          null
         ],
         "xaxis": "x",
         "y": [
          "Matthew KPE Count",
          "Luke KPE Count",
          "Mark KPE Count",
          "John KPE Count"
         ],
         "yaxis": "y"
        },
        {
         "alignmentgroup": "True",
         "hovertemplate": "variable=Solomon<br>value=%{x}<br>index=%{y}<extra></extra>",
         "legendgroup": "Solomon",
         "marker": {
          "color": "#19d3f3",
          "pattern": {
           "shape": ""
          }
         },
         "name": "Solomon",
         "offsetgroup": "Solomon",
         "orientation": "h",
         "showlegend": true,
         "textposition": "auto",
         "type": "bar",
         "x": [
          3,
          2,
          null,
          null
         ],
         "xaxis": "x",
         "y": [
          "Matthew KPE Count",
          "Luke KPE Count",
          "Mark KPE Count",
          "John KPE Count"
         ],
         "yaxis": "y"
        },
        {
         "alignmentgroup": "True",
         "hovertemplate": "variable=east<br>value=%{x}<br>index=%{y}<extra></extra>",
         "legendgroup": "east",
         "marker": {
          "color": "#FF6692",
          "pattern": {
           "shape": ""
          }
         },
         "name": "east",
         "offsetgroup": "east",
         "orientation": "h",
         "showlegend": true,
         "textposition": "auto",
         "type": "bar",
         "x": [
          3,
          null,
          null,
          null
         ],
         "xaxis": "x",
         "y": [
          "Matthew KPE Count",
          "Luke KPE Count",
          "Mark KPE Count",
          "John KPE Count"
         ],
         "yaxis": "y"
        },
        {
         "alignmentgroup": "True",
         "hovertemplate": "variable=Jews<br>value=%{x}<br>index=%{y}<extra></extra>",
         "legendgroup": "Jews",
         "marker": {
          "color": "#B6E880",
          "pattern": {
           "shape": ""
          }
         },
         "name": "Jews",
         "offsetgroup": "Jews",
         "orientation": "h",
         "showlegend": true,
         "textposition": "auto",
         "type": "bar",
         "x": [
          3,
          2,
          2,
          13
         ],
         "xaxis": "x",
         "y": [
          "Matthew KPE Count",
          "Luke KPE Count",
          "Mark KPE Count",
          "John KPE Count"
         ],
         "yaxis": "y"
        },
        {
         "alignmentgroup": "True",
         "hovertemplate": "variable=place<br>value=%{x}<br>index=%{y}<extra></extra>",
         "legendgroup": "place",
         "marker": {
          "color": "#FF97FF",
          "pattern": {
           "shape": ""
          }
         },
         "name": "place",
         "offsetgroup": "place",
         "orientation": "h",
         "showlegend": true,
         "textposition": "auto",
         "type": "bar",
         "x": [
          3,
          8,
          4,
          9
         ],
         "xaxis": "x",
         "y": [
          "Matthew KPE Count",
          "Luke KPE Count",
          "Mark KPE Count",
          "John KPE Count"
         ],
         "yaxis": "y"
        },
        {
         "alignmentgroup": "True",
         "hovertemplate": "variable=home<br>value=%{x}<br>index=%{y}<extra></extra>",
         "legendgroup": "home",
         "marker": {
          "color": "#FECB52",
          "pattern": {
           "shape": ""
          }
         },
         "name": "home",
         "offsetgroup": "home",
         "orientation": "h",
         "showlegend": true,
         "textposition": "auto",
         "type": "bar",
         "x": [
          3,
          1,
          1,
          1
         ],
         "xaxis": "x",
         "y": [
          "Matthew KPE Count",
          "Luke KPE Count",
          "Mark KPE Count",
          "John KPE Count"
         ],
         "yaxis": "y"
        },
        {
         "alignmentgroup": "True",
         "hovertemplate": "variable=parts<br>value=%{x}<br>index=%{y}<extra></extra>",
         "legendgroup": "parts",
         "marker": {
          "color": "#636efa",
          "pattern": {
           "shape": ""
          }
         },
         "name": "parts",
         "offsetgroup": "parts",
         "orientation": "h",
         "showlegend": true,
         "textposition": "auto",
         "type": "bar",
         "x": [
          3,
          null,
          1,
          null
         ],
         "xaxis": "x",
         "y": [
          "Matthew KPE Count",
          "Luke KPE Count",
          "Mark KPE Count",
          "John KPE Count"
         ],
         "yaxis": "y"
        },
        {
         "alignmentgroup": "True",
         "hovertemplate": "variable=food<br>value=%{x}<br>index=%{y}<extra></extra>",
         "legendgroup": "food",
         "marker": {
          "color": "#EF553B",
          "pattern": {
           "shape": ""
          }
         },
         "name": "food",
         "offsetgroup": "food",
         "orientation": "h",
         "showlegend": true,
         "textposition": "auto",
         "type": "bar",
         "x": [
          3,
          3,
          null,
          3
         ],
         "xaxis": "x",
         "y": [
          "Matthew KPE Count",
          "Luke KPE Count",
          "Mark KPE Count",
          "John KPE Count"
         ],
         "yaxis": "y"
        },
        {
         "alignmentgroup": "True",
         "hovertemplate": "variable=Jordan<br>value=%{x}<br>index=%{y}<extra></extra>",
         "legendgroup": "Jordan",
         "marker": {
          "color": "#00cc96",
          "pattern": {
           "shape": ""
          }
         },
         "name": "Jordan",
         "offsetgroup": "Jordan",
         "orientation": "h",
         "showlegend": true,
         "textposition": "auto",
         "type": "bar",
         "x": [
          3,
          2,
          2,
          2
         ],
         "xaxis": "x",
         "y": [
          "Matthew KPE Count",
          "Luke KPE Count",
          "Mark KPE Count",
          "John KPE Count"
         ],
         "yaxis": "y"
        },
        {
         "alignmentgroup": "True",
         "hovertemplate": "variable=Sadducees<br>value=%{x}<br>index=%{y}<extra></extra>",
         "legendgroup": "Sadducees",
         "marker": {
          "color": "#ab63fa",
          "pattern": {
           "shape": ""
          }
         },
         "name": "Sadducees",
         "offsetgroup": "Sadducees",
         "orientation": "h",
         "showlegend": true,
         "textposition": "auto",
         "type": "bar",
         "x": [
          3,
          null,
          1,
          null
         ],
         "xaxis": "x",
         "y": [
          "Matthew KPE Count",
          "Luke KPE Count",
          "Mark KPE Count",
          "John KPE Count"
         ],
         "yaxis": "y"
        },
        {
         "alignmentgroup": "True",
         "hovertemplate": "variable=vipers<br>value=%{x}<br>index=%{y}<extra></extra>",
         "legendgroup": "vipers",
         "marker": {
          "color": "#FFA15A",
          "pattern": {
           "shape": ""
          }
         },
         "name": "vipers",
         "offsetgroup": "vipers",
         "orientation": "h",
         "showlegend": true,
         "textposition": "auto",
         "type": "bar",
         "x": [
          3,
          1,
          null,
          null
         ],
         "xaxis": "x",
         "y": [
          "Matthew KPE Count",
          "Luke KPE Count",
          "Mark KPE Count",
          "John KPE Count"
         ],
         "yaxis": "y"
        },
        {
         "alignmentgroup": "True",
         "hovertemplate": "variable=power<br>value=%{x}<br>index=%{y}<extra></extra>",
         "legendgroup": "power",
         "marker": {
          "color": "#19d3f3",
          "pattern": {
           "shape": ""
          }
         },
         "name": "power",
         "offsetgroup": "power",
         "orientation": "h",
         "showlegend": true,
         "textposition": "auto",
         "type": "bar",
         "x": [
          3,
          7,
          3,
          1
         ],
         "xaxis": "x",
         "y": [
          "Matthew KPE Count",
          "Luke KPE Count",
          "Mark KPE Count",
          "John KPE Count"
         ],
         "yaxis": "y"
        },
        {
         "alignmentgroup": "True",
         "hovertemplate": "variable=water<br>value=%{x}<br>index=%{y}<extra></extra>",
         "legendgroup": "water",
         "marker": {
          "color": "#FF6692",
          "pattern": {
           "shape": ""
          }
         },
         "name": "water",
         "offsetgroup": "water",
         "orientation": "h",
         "showlegend": true,
         "textposition": "auto",
         "type": "bar",
         "x": [
          3,
          4,
          3,
          5
         ],
         "xaxis": "x",
         "y": [
          "Matthew KPE Count",
          "Luke KPE Count",
          "Mark KPE Count",
          "John KPE Count"
         ],
         "yaxis": "y"
        },
        {
         "alignmentgroup": "True",
         "hovertemplate": "variable=foot<br>value=%{x}<br>index=%{y}<extra></extra>",
         "legendgroup": "foot",
         "marker": {
          "color": "#B6E880",
          "pattern": {
           "shape": ""
          }
         },
         "name": "foot",
         "offsetgroup": "foot",
         "orientation": "h",
         "showlegend": true,
         "textposition": "auto",
         "type": "bar",
         "x": [
          3,
          1,
          1,
          null
         ],
         "xaxis": "x",
         "y": [
          "Matthew KPE Count",
          "Luke KPE Count",
          "Mark KPE Count",
          "John KPE Count"
         ],
         "yaxis": "y"
        },
        {
         "alignmentgroup": "True",
         "hovertemplate": "variable=glory<br>value=%{x}<br>index=%{y}<extra></extra>",
         "legendgroup": "glory",
         "marker": {
          "color": "#FF97FF",
          "pattern": {
           "shape": ""
          }
         },
         "name": "glory",
         "offsetgroup": "glory",
         "orientation": "h",
         "showlegend": true,
         "textposition": "auto",
         "type": "bar",
         "x": [
          3,
          6,
          2,
          8
         ],
         "xaxis": "x",
         "y": [
          "Matthew KPE Count",
          "Luke KPE Count",
          "Mark KPE Count",
          "John KPE Count"
         ],
         "yaxis": "y"
        },
        {
         "alignmentgroup": "True",
         "hovertemplate": "variable=Satan<br>value=%{x}<br>index=%{y}<extra></extra>",
         "legendgroup": "Satan",
         "marker": {
          "color": "#FECB52",
          "pattern": {
           "shape": ""
          }
         },
         "name": "Satan",
         "offsetgroup": "Satan",
         "orientation": "h",
         "showlegend": true,
         "textposition": "auto",
         "type": "bar",
         "x": [
          3,
          3,
          4,
          1
         ],
         "xaxis": "x",
         "y": [
          "Matthew KPE Count",
          "Luke KPE Count",
          "Mark KPE Count",
          "John KPE Count"
         ],
         "yaxis": "y"
        },
        {
         "alignmentgroup": "True",
         "hovertemplate": "variable=Gentiles<br>value=%{x}<br>index=%{y}<extra></extra>",
         "legendgroup": "Gentiles",
         "marker": {
          "color": "#636efa",
          "pattern": {
           "shape": ""
          }
         },
         "name": "Gentiles",
         "offsetgroup": "Gentiles",
         "orientation": "h",
         "showlegend": true,
         "textposition": "auto",
         "type": "bar",
         "x": [
          3,
          4,
          null,
          2
         ],
         "xaxis": "x",
         "y": [
          "Matthew KPE Count",
          "Luke KPE Count",
          "Mark KPE Count",
          "John KPE Count"
         ],
         "yaxis": "y"
        },
        {
         "alignmentgroup": "True",
         "hovertemplate": "variable=demons<br>value=%{x}<br>index=%{y}<extra></extra>",
         "legendgroup": "demons",
         "marker": {
          "color": "#EF553B",
          "pattern": {
           "shape": ""
          }
         },
         "name": "demons",
         "offsetgroup": "demons",
         "orientation": "h",
         "showlegend": true,
         "textposition": "auto",
         "type": "bar",
         "x": [
          3,
          3,
          2,
          null
         ],
         "xaxis": "x",
         "y": [
          "Matthew KPE Count",
          "Luke KPE Count",
          "Mark KPE Count",
          "John KPE Count"
         ],
         "yaxis": "y"
        },
        {
         "alignmentgroup": "True",
         "hovertemplate": "variable=light<br>value=%{x}<br>index=%{y}<extra></extra>",
         "legendgroup": "light",
         "marker": {
          "color": "#00cc96",
          "pattern": {
           "shape": ""
          }
         },
         "name": "light",
         "offsetgroup": "light",
         "orientation": "h",
         "showlegend": true,
         "textposition": "auto",
         "type": "bar",
         "x": [
          3,
          5,
          null,
          2
         ],
         "xaxis": "x",
         "y": [
          "Matthew KPE Count",
          "Luke KPE Count",
          "Mark KPE Count",
          "John KPE Count"
         ],
         "yaxis": "y"
        },
        {
         "alignmentgroup": "True",
         "hovertemplate": "variable=gift<br>value=%{x}<br>index=%{y}<extra></extra>",
         "legendgroup": "gift",
         "marker": {
          "color": "#ab63fa",
          "pattern": {
           "shape": ""
          }
         },
         "name": "gift",
         "offsetgroup": "gift",
         "orientation": "h",
         "showlegend": true,
         "textposition": "auto",
         "type": "bar",
         "x": [
          3,
          null,
          1,
          1
         ],
         "xaxis": "x",
         "y": [
          "Matthew KPE Count",
          "Luke KPE Count",
          "Mark KPE Count",
          "John KPE Count"
         ],
         "yaxis": "y"
        },
        {
         "alignmentgroup": "True",
         "hovertemplate": "variable=something<br>value=%{x}<br>index=%{y}<extra></extra>",
         "legendgroup": "something",
         "marker": {
          "color": "#FFA15A",
          "pattern": {
           "shape": ""
          }
         },
         "name": "something",
         "offsetgroup": "something",
         "orientation": "h",
         "showlegend": true,
         "textposition": "auto",
         "type": "bar",
         "x": [
          3,
          1,
          3,
          4
         ],
         "xaxis": "x",
         "y": [
          "Matthew KPE Count",
          "Luke KPE Count",
          "Mark KPE Count",
          "John KPE Count"
         ],
         "yaxis": "y"
        },
        {
         "alignmentgroup": "True",
         "hovertemplate": "variable=prison<br>value=%{x}<br>index=%{y}<extra></extra>",
         "legendgroup": "prison",
         "marker": {
          "color": "#19d3f3",
          "pattern": {
           "shape": ""
          }
         },
         "name": "prison",
         "offsetgroup": "prison",
         "orientation": "h",
         "showlegend": true,
         "textposition": "auto",
         "type": "bar",
         "x": [
          3,
          2,
          null,
          1
         ],
         "xaxis": "x",
         "y": [
          "Matthew KPE Count",
          "Luke KPE Count",
          "Mark KPE Count",
          "John KPE Count"
         ],
         "yaxis": "y"
        },
        {
         "alignmentgroup": "True",
         "hovertemplate": "variable=neighbor<br>value=%{x}<br>index=%{y}<extra></extra>",
         "legendgroup": "neighbor",
         "marker": {
          "color": "#FF6692",
          "pattern": {
           "shape": ""
          }
         },
         "name": "neighbor",
         "offsetgroup": "neighbor",
         "orientation": "h",
         "showlegend": true,
         "textposition": "auto",
         "type": "bar",
         "x": [
          3,
          null,
          1,
          null
         ],
         "xaxis": "x",
         "y": [
          "Matthew KPE Count",
          "Luke KPE Count",
          "Mark KPE Count",
          "John KPE Count"
         ],
         "yaxis": "y"
        },
        {
         "alignmentgroup": "True",
         "hovertemplate": "variable=hatred<br>value=%{x}<br>index=%{y}<extra></extra>",
         "legendgroup": "hatred",
         "marker": {
          "color": "#B6E880",
          "pattern": {
           "shape": ""
          }
         },
         "name": "hatred",
         "offsetgroup": "hatred",
         "orientation": "h",
         "showlegend": true,
         "textposition": "auto",
         "type": "bar",
         "x": [
          3,
          null,
          null,
          null
         ],
         "xaxis": "x",
         "y": [
          "Matthew KPE Count",
          "Luke KPE Count",
          "Mark KPE Count",
          "John KPE Count"
         ],
         "yaxis": "y"
        },
        {
         "alignmentgroup": "True",
         "hovertemplate": "variable=heavenly Father<br>value=%{x}<br>index=%{y}<extra></extra>",
         "legendgroup": "heavenly Father",
         "marker": {
          "color": "#FF97FF",
          "pattern": {
           "shape": ""
          }
         },
         "name": "heavenly Father",
         "offsetgroup": "heavenly Father",
         "orientation": "h",
         "showlegend": true,
         "textposition": "auto",
         "type": "bar",
         "x": [
          3,
          null,
          null,
          null
         ],
         "xaxis": "x",
         "y": [
          "Matthew KPE Count",
          "Luke KPE Count",
          "Mark KPE Count",
          "John KPE Count"
         ],
         "yaxis": "y"
        },
        {
         "alignmentgroup": "True",
         "hovertemplate": "variable=towns<br>value=%{x}<br>index=%{y}<extra></extra>",
         "legendgroup": "towns",
         "marker": {
          "color": "#FECB52",
          "pattern": {
           "shape": ""
          }
         },
         "name": "towns",
         "offsetgroup": "towns",
         "orientation": "h",
         "showlegend": true,
         "textposition": "auto",
         "type": "bar",
         "x": [
          3,
          2,
          1,
          null
         ],
         "xaxis": "x",
         "y": [
          "Matthew KPE Count",
          "Luke KPE Count",
          "Mark KPE Count",
          "John KPE Count"
         ],
         "yaxis": "y"
        },
        {
         "alignmentgroup": "True",
         "hovertemplate": "variable=eye<br>value=%{x}<br>index=%{y}<extra></extra>",
         "legendgroup": "eye",
         "marker": {
          "color": "#636efa",
          "pattern": {
           "shape": ""
          }
         },
         "name": "eye",
         "offsetgroup": "eye",
         "orientation": "h",
         "showlegend": true,
         "textposition": "auto",
         "type": "bar",
         "x": [
          3,
          1,
          null,
          null
         ],
         "xaxis": "x",
         "y": [
          "Matthew KPE Count",
          "Luke KPE Count",
          "Mark KPE Count",
          "John KPE Count"
         ],
         "yaxis": "y"
        },
        {
         "alignmentgroup": "True",
         "hovertemplate": "variable=birds<br>value=%{x}<br>index=%{y}<extra></extra>",
         "legendgroup": "birds",
         "marker": {
          "color": "#EF553B",
          "pattern": {
           "shape": ""
          }
         },
         "name": "birds",
         "offsetgroup": "birds",
         "orientation": "h",
         "showlegend": true,
         "textposition": "auto",
         "type": "bar",
         "x": [
          3,
          2,
          1,
          null
         ],
         "xaxis": "x",
         "y": [
          "Matthew KPE Count",
          "Luke KPE Count",
          "Mark KPE Count",
          "John KPE Count"
         ],
         "yaxis": "y"
        },
        {
         "alignmentgroup": "True",
         "hovertemplate": "variable=air<br>value=%{x}<br>index=%{y}<extra></extra>",
         "legendgroup": "air",
         "marker": {
          "color": "#00cc96",
          "pattern": {
           "shape": ""
          }
         },
         "name": "air",
         "offsetgroup": "air",
         "orientation": "h",
         "showlegend": true,
         "textposition": "auto",
         "type": "bar",
         "x": [
          3,
          2,
          1,
          null
         ],
         "xaxis": "x",
         "y": [
          "Matthew KPE Count",
          "Luke KPE Count",
          "Mark KPE Count",
          "John KPE Count"
         ],
         "yaxis": "y"
        },
        {
         "alignmentgroup": "True",
         "hovertemplate": "variable=judgment<br>value=%{x}<br>index=%{y}<extra></extra>",
         "legendgroup": "judgment",
         "marker": {
          "color": "#ab63fa",
          "pattern": {
           "shape": ""
          }
         },
         "name": "judgment",
         "offsetgroup": "judgment",
         "orientation": "h",
         "showlegend": true,
         "textposition": "auto",
         "type": "bar",
         "x": [
          3,
          2,
          null,
          8
         ],
         "xaxis": "x",
         "y": [
          "Matthew KPE Count",
          "Luke KPE Count",
          "Mark KPE Count",
          "John KPE Count"
         ],
         "yaxis": "y"
        },
        {
         "alignmentgroup": "True",
         "hovertemplate": "variable=stone<br>value=%{x}<br>index=%{y}<extra></extra>",
         "legendgroup": "stone",
         "marker": {
          "color": "#FFA15A",
          "pattern": {
           "shape": ""
          }
         },
         "name": "stone",
         "offsetgroup": "stone",
         "orientation": "h",
         "showlegend": true,
         "textposition": "auto",
         "type": "bar",
         "x": [
          3,
          4,
          3,
          2
         ],
         "xaxis": "x",
         "y": [
          "Matthew KPE Count",
          "Luke KPE Count",
          "Mark KPE Count",
          "John KPE Count"
         ],
         "yaxis": "y"
        },
        {
         "alignmentgroup": "True",
         "hovertemplate": "variable=thorns<br>value=%{x}<br>index=%{y}<extra></extra>",
         "legendgroup": "thorns",
         "marker": {
          "color": "#19d3f3",
          "pattern": {
           "shape": ""
          }
         },
         "name": "thorns",
         "offsetgroup": "thorns",
         "orientation": "h",
         "showlegend": true,
         "textposition": "auto",
         "type": "bar",
         "x": [
          3,
          1,
          2,
          1
         ],
         "xaxis": "x",
         "y": [
          "Matthew KPE Count",
          "Luke KPE Count",
          "Mark KPE Count",
          "John KPE Count"
         ],
         "yaxis": "y"
        },
        {
         "alignmentgroup": "True",
         "hovertemplate": "variable=iniquity<br>value=%{x}<br>index=%{y}<extra></extra>",
         "legendgroup": "iniquity",
         "marker": {
          "color": "#FF6692",
          "pattern": {
           "shape": ""
          }
         },
         "name": "iniquity",
         "offsetgroup": "iniquity",
         "orientation": "h",
         "showlegend": true,
         "textposition": "auto",
         "type": "bar",
         "x": [
          3,
          1,
          null,
          null
         ],
         "xaxis": "x",
         "y": [
          "Matthew KPE Count",
          "Luke KPE Count",
          "Mark KPE Count",
          "John KPE Count"
         ],
         "yaxis": "y"
        },
        {
         "alignmentgroup": "True",
         "hovertemplate": "variable=doctrine<br>value=%{x}<br>index=%{y}<extra></extra>",
         "legendgroup": "doctrine",
         "marker": {
          "color": "#B6E880",
          "pattern": {
           "shape": ""
          }
         },
         "name": "doctrine",
         "offsetgroup": "doctrine",
         "orientation": "h",
         "showlegend": true,
         "textposition": "auto",
         "type": "bar",
         "x": [
          3,
          1,
          4,
          2
         ],
         "xaxis": "x",
         "y": [
          "Matthew KPE Count",
          "Luke KPE Count",
          "Mark KPE Count",
          "John KPE Count"
         ],
         "yaxis": "y"
        },
        {
         "alignmentgroup": "True",
         "hovertemplate": "variable=outer darkness<br>value=%{x}<br>index=%{y}<extra></extra>",
         "legendgroup": "outer darkness",
         "marker": {
          "color": "#FF97FF",
          "pattern": {
           "shape": ""
          }
         },
         "name": "outer darkness",
         "offsetgroup": "outer darkness",
         "orientation": "h",
         "showlegend": true,
         "textposition": "auto",
         "type": "bar",
         "x": [
          3,
          null,
          null,
          null
         ],
         "xaxis": "x",
         "y": [
          "Matthew KPE Count",
          "Luke KPE Count",
          "Mark KPE Count",
          "John KPE Count"
         ],
         "yaxis": "y"
        },
        {
         "alignmentgroup": "True",
         "hovertemplate": "variable=great crowds<br>value=%{x}<br>index=%{y}<extra></extra>",
         "legendgroup": "great crowds",
         "marker": {
          "color": "#FECB52",
          "pattern": {
           "shape": ""
          }
         },
         "name": "great crowds",
         "offsetgroup": "great crowds",
         "orientation": "h",
         "showlegend": true,
         "textposition": "auto",
         "type": "bar",
         "x": [
          3,
          3,
          null,
          null
         ],
         "xaxis": "x",
         "y": [
          "Matthew KPE Count",
          "Luke KPE Count",
          "Mark KPE Count",
          "John KPE Count"
         ],
         "yaxis": "y"
        },
        {
         "alignmentgroup": "True",
         "hovertemplate": "variable=testimony<br>value=%{x}<br>index=%{y}<extra></extra>",
         "legendgroup": "testimony",
         "marker": {
          "color": "#636efa",
          "pattern": {
           "shape": ""
          }
         },
         "name": "testimony",
         "offsetgroup": "testimony",
         "orientation": "h",
         "showlegend": true,
         "textposition": "auto",
         "type": "bar",
         "x": [
          3,
          4,
          3,
          11
         ],
         "xaxis": "x",
         "y": [
          "Matthew KPE Count",
          "Luke KPE Count",
          "Mark KPE Count",
          "John KPE Count"
         ],
         "yaxis": "y"
        },
        {
         "alignmentgroup": "True",
         "hovertemplate": "variable=soldiers<br>value=%{x}<br>index=%{y}<extra></extra>",
         "legendgroup": "soldiers",
         "marker": {
          "color": "#EF553B",
          "pattern": {
           "shape": ""
          }
         },
         "name": "soldiers",
         "offsetgroup": "soldiers",
         "orientation": "h",
         "showlegend": true,
         "textposition": "auto",
         "type": "bar",
         "x": [
          3,
          3,
          1,
          1
         ],
         "xaxis": "x",
         "y": [
          "Matthew KPE Count",
          "Luke KPE Count",
          "Mark KPE Count",
          "John KPE Count"
         ],
         "yaxis": "y"
        },
        {
         "alignmentgroup": "True",
         "hovertemplate": "variable=teeth<br>value=%{x}<br>index=%{y}<extra></extra>",
         "legendgroup": "teeth",
         "marker": {
          "color": "#00cc96",
          "pattern": {
           "shape": ""
          }
         },
         "name": "teeth",
         "offsetgroup": "teeth",
         "orientation": "h",
         "showlegend": true,
         "textposition": "auto",
         "type": "bar",
         "x": [
          3,
          1,
          1,
          null
         ],
         "xaxis": "x",
         "y": [
          "Matthew KPE Count",
          "Luke KPE Count",
          "Mark KPE Count",
          "John KPE Count"
         ],
         "yaxis": "y"
        },
        {
         "alignmentgroup": "True",
         "hovertemplate": "variable=sinners<br>value=%{x}<br>index=%{y}<extra></extra>",
         "legendgroup": "sinners",
         "marker": {
          "color": "#ab63fa",
          "pattern": {
           "shape": ""
          }
         },
         "name": "sinners",
         "offsetgroup": "sinners",
         "orientation": "h",
         "showlegend": true,
         "textposition": "auto",
         "type": "bar",
         "x": [
          3,
          4,
          2,
          null
         ],
         "xaxis": "x",
         "y": [
          "Matthew KPE Count",
          "Luke KPE Count",
          "Mark KPE Count",
          "John KPE Count"
         ],
         "yaxis": "y"
        },
        {
         "alignmentgroup": "True",
         "hovertemplate": "variable=cities<br>value=%{x}<br>index=%{y}<extra></extra>",
         "legendgroup": "cities",
         "marker": {
          "color": "#FFA15A",
          "pattern": {
           "shape": ""
          }
         },
         "name": "cities",
         "offsetgroup": "cities",
         "orientation": "h",
         "showlegend": true,
         "textposition": "auto",
         "type": "bar",
         "x": [
          3,
          2,
          2,
          null
         ],
         "xaxis": "x",
         "y": [
          "Matthew KPE Count",
          "Luke KPE Count",
          "Mark KPE Count",
          "John KPE Count"
         ],
         "yaxis": "y"
        },
        {
         "alignmentgroup": "True",
         "hovertemplate": "variable=multitudes<br>value=%{x}<br>index=%{y}<extra></extra>",
         "legendgroup": "multitudes",
         "marker": {
          "color": "#19d3f3",
          "pattern": {
           "shape": ""
          }
         },
         "name": "multitudes",
         "offsetgroup": "multitudes",
         "orientation": "h",
         "showlegend": true,
         "textposition": "auto",
         "type": "bar",
         "x": [
          3,
          1,
          null,
          null
         ],
         "xaxis": "x",
         "y": [
          "Matthew KPE Count",
          "Luke KPE Count",
          "Mark KPE Count",
          "John KPE Count"
         ],
         "yaxis": "y"
        },
        {
         "alignmentgroup": "True",
         "hovertemplate": "variable=compassion<br>value=%{x}<br>index=%{y}<extra></extra>",
         "legendgroup": "compassion",
         "marker": {
          "color": "#FF6692",
          "pattern": {
           "shape": ""
          }
         },
         "name": "compassion",
         "offsetgroup": "compassion",
         "orientation": "h",
         "showlegend": true,
         "textposition": "auto",
         "type": "bar",
         "x": [
          3,
          1,
          1,
          null
         ],
         "xaxis": "x",
         "y": [
          "Matthew KPE Count",
          "Luke KPE Count",
          "Mark KPE Count",
          "John KPE Count"
         ],
         "yaxis": "y"
        },
        {
         "alignmentgroup": "True",
         "hovertemplate": "variable=shepherd<br>value=%{x}<br>index=%{y}<extra></extra>",
         "legendgroup": "shepherd",
         "marker": {
          "color": "#B6E880",
          "pattern": {
           "shape": ""
          }
         },
         "name": "shepherd",
         "offsetgroup": "shepherd",
         "orientation": "h",
         "showlegend": true,
         "textposition": "auto",
         "type": "bar",
         "x": [
          3,
          null,
          2,
          null
         ],
         "xaxis": "x",
         "y": [
          "Matthew KPE Count",
          "Luke KPE Count",
          "Mark KPE Count",
          "John KPE Count"
         ],
         "yaxis": "y"
        },
        {
         "alignmentgroup": "True",
         "hovertemplate": "variable=works<br>value=%{x}<br>index=%{y}<extra></extra>",
         "legendgroup": "works",
         "marker": {
          "color": "#FF97FF",
          "pattern": {
           "shape": ""
          }
         },
         "name": "works",
         "offsetgroup": "works",
         "orientation": "h",
         "showlegend": true,
         "textposition": "auto",
         "type": "bar",
         "x": [
          3,
          1,
          null,
          6
         ],
         "xaxis": "x",
         "y": [
          "Matthew KPE Count",
          "Luke KPE Count",
          "Mark KPE Count",
          "John KPE Count"
         ],
         "yaxis": "y"
        },
        {
         "alignmentgroup": "True",
         "hovertemplate": "variable=reed<br>value=%{x}<br>index=%{y}<extra></extra>",
         "legendgroup": "reed",
         "marker": {
          "color": "#FECB52",
          "pattern": {
           "shape": ""
          }
         },
         "name": "reed",
         "offsetgroup": "reed",
         "orientation": "h",
         "showlegend": true,
         "textposition": "auto",
         "type": "bar",
         "x": [
          3,
          1,
          1,
          null
         ],
         "xaxis": "x",
         "y": [
          "Matthew KPE Count",
          "Luke KPE Count",
          "Mark KPE Count",
          "John KPE Count"
         ],
         "yaxis": "y"
        },
        {
         "alignmentgroup": "True",
         "hovertemplate": "variable=Baptist<br>value=%{x}<br>index=%{y}<extra></extra>",
         "legendgroup": "Baptist",
         "marker": {
          "color": "#636efa",
          "pattern": {
           "shape": ""
          }
         },
         "name": "Baptist",
         "offsetgroup": "Baptist",
         "orientation": "h",
         "showlegend": true,
         "textposition": "auto",
         "type": "bar",
         "x": [
          3,
          2,
          2,
          null
         ],
         "xaxis": "x",
         "y": [
          "Matthew KPE Count",
          "Luke KPE Count",
          "Mark KPE Count",
          "John KPE Count"
         ],
         "yaxis": "y"
        },
        {
         "alignmentgroup": "True",
         "hovertemplate": "variable=Elijah<br>value=%{x}<br>index=%{y}<extra></extra>",
         "legendgroup": "Elijah",
         "marker": {
          "color": "#EF553B",
          "pattern": {
           "shape": ""
          }
         },
         "name": "Elijah",
         "offsetgroup": "Elijah",
         "orientation": "h",
         "showlegend": true,
         "textposition": "auto",
         "type": "bar",
         "x": [
          3,
          3,
          4,
          1
         ],
         "xaxis": "x",
         "y": [
          "Matthew KPE Count",
          "Luke KPE Count",
          "Mark KPE Count",
          "John KPE Count"
         ],
         "yaxis": "y"
        },
        {
         "alignmentgroup": "True",
         "hovertemplate": "variable=miracles<br>value=%{x}<br>index=%{y}<extra></extra>",
         "legendgroup": "miracles",
         "marker": {
          "color": "#00cc96",
          "pattern": {
           "shape": ""
          }
         },
         "name": "miracles",
         "offsetgroup": "miracles",
         "orientation": "h",
         "showlegend": true,
         "textposition": "auto",
         "type": "bar",
         "x": [
          3,
          1,
          1,
          null
         ],
         "xaxis": "x",
         "y": [
          "Matthew KPE Count",
          "Luke KPE Count",
          "Mark KPE Count",
          "John KPE Count"
         ],
         "yaxis": "y"
        },
        {
         "alignmentgroup": "True",
         "hovertemplate": "variable=rest<br>value=%{x}<br>index=%{y}<extra></extra>",
         "legendgroup": "rest",
         "marker": {
          "color": "#ab63fa",
          "pattern": {
           "shape": ""
          }
         },
         "name": "rest",
         "offsetgroup": "rest",
         "orientation": "h",
         "showlegend": true,
         "textposition": "auto",
         "type": "bar",
         "x": [
          3,
          4,
          1,
          null
         ],
         "xaxis": "x",
         "y": [
          "Matthew KPE Count",
          "Luke KPE Count",
          "Mark KPE Count",
          "John KPE Count"
         ],
         "yaxis": "y"
        },
        {
         "alignmentgroup": "True",
         "hovertemplate": "variable=three days<br>value=%{x}<br>index=%{y}<extra></extra>",
         "legendgroup": "three days",
         "marker": {
          "color": "#FFA15A",
          "pattern": {
           "shape": ""
          }
         },
         "name": "three days",
         "offsetgroup": "three days",
         "orientation": "h",
         "showlegend": true,
         "textposition": "auto",
         "type": "bar",
         "x": [
          3,
          null,
          2,
          1
         ],
         "xaxis": "x",
         "y": [
          "Matthew KPE Count",
          "Luke KPE Count",
          "Mark KPE Count",
          "John KPE Count"
         ],
         "yaxis": "y"
        },
        {
         "alignmentgroup": "True",
         "hovertemplate": "variable=nations<br>value=%{x}<br>index=%{y}<extra></extra>",
         "legendgroup": "nations",
         "marker": {
          "color": "#19d3f3",
          "pattern": {
           "shape": ""
          }
         },
         "name": "nations",
         "offsetgroup": "nations",
         "orientation": "h",
         "showlegend": true,
         "textposition": "auto",
         "type": "bar",
         "x": [
          3,
          1,
          1,
          null
         ],
         "xaxis": "x",
         "y": [
          "Matthew KPE Count",
          "Luke KPE Count",
          "Mark KPE Count",
          "John KPE Count"
         ],
         "yaxis": "y"
        },
        {
         "alignmentgroup": "True",
         "hovertemplate": "variable=sin<br>value=%{x}<br>index=%{y}<extra></extra>",
         "legendgroup": "sin",
         "marker": {
          "color": "#FF6692",
          "pattern": {
           "shape": ""
          }
         },
         "name": "sin",
         "offsetgroup": "sin",
         "orientation": "h",
         "showlegend": true,
         "textposition": "auto",
         "type": "bar",
         "x": [
          3,
          null,
          null,
          4
         ],
         "xaxis": "x",
         "y": [
          "Matthew KPE Count",
          "Luke KPE Count",
          "Mark KPE Count",
          "John KPE Count"
         ],
         "yaxis": "y"
        },
        {
         "alignmentgroup": "True",
         "hovertemplate": "variable=abundance<br>value=%{x}<br>index=%{y}<extra></extra>",
         "legendgroup": "abundance",
         "marker": {
          "color": "#B6E880",
          "pattern": {
           "shape": ""
          }
         },
         "name": "abundance",
         "offsetgroup": "abundance",
         "orientation": "h",
         "showlegend": true,
         "textposition": "auto",
         "type": "bar",
         "x": [
          3,
          3,
          null,
          null
         ],
         "xaxis": "x",
         "y": [
          "Matthew KPE Count",
          "Luke KPE Count",
          "Mark KPE Count",
          "John KPE Count"
         ],
         "yaxis": "y"
        },
        {
         "alignmentgroup": "True",
         "hovertemplate": "variable=many things<br>value=%{x}<br>index=%{y}<extra></extra>",
         "legendgroup": "many things",
         "marker": {
          "color": "#FF97FF",
          "pattern": {
           "shape": ""
          }
         },
         "name": "many things",
         "offsetgroup": "many things",
         "orientation": "h",
         "showlegend": true,
         "textposition": "auto",
         "type": "bar",
         "x": [
          3,
          3,
          5,
          1
         ],
         "xaxis": "x",
         "y": [
          "Matthew KPE Count",
          "Luke KPE Count",
          "Mark KPE Count",
          "John KPE Count"
         ],
         "yaxis": "y"
        },
        {
         "alignmentgroup": "True",
         "hovertemplate": "variable=others<br>value=%{x}<br>index=%{y}<extra></extra>",
         "legendgroup": "others",
         "marker": {
          "color": "#FECB52",
          "pattern": {
           "shape": ""
          }
         },
         "name": "others",
         "offsetgroup": "others",
         "orientation": "h",
         "showlegend": true,
         "textposition": "auto",
         "type": "bar",
         "x": [
          3,
          7,
          6,
          2
         ],
         "xaxis": "x",
         "y": [
          "Matthew KPE Count",
          "Luke KPE Count",
          "Mark KPE Count",
          "John KPE Count"
         ],
         "yaxis": "y"
        },
        {
         "alignmentgroup": "True",
         "hovertemplate": "variable=sun<br>value=%{x}<br>index=%{y}<extra></extra>",
         "legendgroup": "sun",
         "marker": {
          "color": "#636efa",
          "pattern": {
           "shape": ""
          }
         },
         "name": "sun",
         "offsetgroup": "sun",
         "orientation": "h",
         "showlegend": true,
         "textposition": "auto",
         "type": "bar",
         "x": [
          3,
          3,
          4,
          null
         ],
         "xaxis": "x",
         "y": [
          "Matthew KPE Count",
          "Luke KPE Count",
          "Mark KPE Count",
          "John KPE Count"
         ],
         "yaxis": "y"
        },
        {
         "alignmentgroup": "True",
         "hovertemplate": "variable=reason<br>value=%{x}<br>index=%{y}<extra></extra>",
         "legendgroup": "reason",
         "marker": {
          "color": "#EF553B",
          "pattern": {
           "shape": ""
          }
         },
         "name": "reason",
         "offsetgroup": "reason",
         "orientation": "h",
         "showlegend": true,
         "textposition": "auto",
         "type": "bar",
         "x": [
          3,
          null,
          3,
          3
         ],
         "xaxis": "x",
         "y": [
          "Matthew KPE Count",
          "Luke KPE Count",
          "Mark KPE Count",
          "John KPE Count"
         ],
         "yaxis": "y"
        },
        {
         "alignmentgroup": "True",
         "hovertemplate": "variable=servants<br>value=%{x}<br>index=%{y}<extra></extra>",
         "legendgroup": "servants",
         "marker": {
          "color": "#00cc96",
          "pattern": {
           "shape": ""
          }
         },
         "name": "servants",
         "offsetgroup": "servants",
         "orientation": "h",
         "showlegend": true,
         "textposition": "auto",
         "type": "bar",
         "x": [
          3,
          2,
          1,
          2
         ],
         "xaxis": "x",
         "y": [
          "Matthew KPE Count",
          "Luke KPE Count",
          "Mark KPE Count",
          "John KPE Count"
         ],
         "yaxis": "y"
        },
        {
         "alignmentgroup": "True",
         "hovertemplate": "variable=family<br>value=%{x}<br>index=%{y}<extra></extra>",
         "legendgroup": "family",
         "marker": {
          "color": "#ab63fa",
          "pattern": {
           "shape": ""
          }
         },
         "name": "family",
         "offsetgroup": "family",
         "orientation": "h",
         "showlegend": true,
         "textposition": "auto",
         "type": "bar",
         "x": [
          3,
          4,
          null,
          null
         ],
         "xaxis": "x",
         "y": [
          "Matthew KPE Count",
          "Luke KPE Count",
          "Mark KPE Count",
          "John KPE Count"
         ],
         "yaxis": "y"
        },
        {
         "alignmentgroup": "True",
         "hovertemplate": "variable=consummation<br>value=%{x}<br>index=%{y}<extra></extra>",
         "legendgroup": "consummation",
         "marker": {
          "color": "#FFA15A",
          "pattern": {
           "shape": ""
          }
         },
         "name": "consummation",
         "offsetgroup": "consummation",
         "orientation": "h",
         "showlegend": true,
         "textposition": "auto",
         "type": "bar",
         "x": [
          3,
          null,
          null,
          null
         ],
         "xaxis": "x",
         "y": [
          "Matthew KPE Count",
          "Luke KPE Count",
          "Mark KPE Count",
          "John KPE Count"
         ],
         "yaxis": "y"
        },
        {
         "alignmentgroup": "True",
         "hovertemplate": "variable=king<br>value=%{x}<br>index=%{y}<extra></extra>",
         "legendgroup": "king",
         "marker": {
          "color": "#19d3f3",
          "pattern": {
           "shape": ""
          }
         },
         "name": "king",
         "offsetgroup": "king",
         "orientation": "h",
         "showlegend": true,
         "textposition": "auto",
         "type": "bar",
         "x": [
          3,
          2,
          null,
          3
         ],
         "xaxis": "x",
         "y": [
          "Matthew KPE Count",
          "Luke KPE Count",
          "Mark KPE Count",
          "John KPE Count"
         ],
         "yaxis": "y"
        },
        {
         "alignmentgroup": "True",
         "hovertemplate": "variable=parable<br>value=%{x}<br>index=%{y}<extra></extra>",
         "legendgroup": "parable",
         "marker": {
          "color": "#FF6692",
          "pattern": {
           "shape": ""
          }
         },
         "name": "parable",
         "offsetgroup": "parable",
         "orientation": "h",
         "showlegend": true,
         "textposition": "auto",
         "type": "bar",
         "x": [
          3,
          7,
          2,
          null
         ],
         "xaxis": "x",
         "y": [
          "Matthew KPE Count",
          "Luke KPE Count",
          "Mark KPE Count",
          "John KPE Count"
         ],
         "yaxis": "y"
        },
        {
         "alignmentgroup": "True",
         "hovertemplate": "variable=flesh<br>value=%{x}<br>index=%{y}<extra></extra>",
         "legendgroup": "flesh",
         "marker": {
          "color": "#B6E880",
          "pattern": {
           "shape": ""
          }
         },
         "name": "flesh",
         "offsetgroup": "flesh",
         "orientation": "h",
         "showlegend": true,
         "textposition": "auto",
         "type": "bar",
         "x": [
          3,
          2,
          2,
          4
         ],
         "xaxis": "x",
         "y": [
          "Matthew KPE Count",
          "Luke KPE Count",
          "Mark KPE Count",
          "John KPE Count"
         ],
         "yaxis": "y"
        },
        {
         "alignmentgroup": "True",
         "hovertemplate": "variable=garments<br>value=%{x}<br>index=%{y}<extra></extra>",
         "legendgroup": "garments",
         "marker": {
          "color": "#FF97FF",
          "pattern": {
           "shape": ""
          }
         },
         "name": "garments",
         "offsetgroup": "garments",
         "orientation": "h",
         "showlegend": true,
         "textposition": "auto",
         "type": "bar",
         "x": [
          3,
          2,
          2,
          1
         ],
         "xaxis": "x",
         "y": [
          "Matthew KPE Count",
          "Luke KPE Count",
          "Mark KPE Count",
          "John KPE Count"
         ],
         "yaxis": "y"
        },
        {
         "alignmentgroup": "True",
         "hovertemplate": "variable=someone<br>value=%{x}<br>index=%{y}<extra></extra>",
         "legendgroup": "someone",
         "marker": {
          "color": "#FECB52",
          "pattern": {
           "shape": ""
          }
         },
         "name": "someone",
         "offsetgroup": "someone",
         "orientation": "h",
         "showlegend": true,
         "textposition": "auto",
         "type": "bar",
         "x": [
          3,
          4,
          2,
          2
         ],
         "xaxis": "x",
         "y": [
          "Matthew KPE Count",
          "Luke KPE Count",
          "Mark KPE Count",
          "John KPE Count"
         ],
         "yaxis": "y"
        },
        {
         "alignmentgroup": "True",
         "hovertemplate": "variable=majesty<br>value=%{x}<br>index=%{y}<extra></extra>",
         "legendgroup": "majesty",
         "marker": {
          "color": "#636efa",
          "pattern": {
           "shape": ""
          }
         },
         "name": "majesty",
         "offsetgroup": "majesty",
         "orientation": "h",
         "showlegend": true,
         "textposition": "auto",
         "type": "bar",
         "x": [
          3,
          2,
          null,
          null
         ],
         "xaxis": "x",
         "y": [
          "Matthew KPE Count",
          "Luke KPE Count",
          "Mark KPE Count",
          "John KPE Count"
         ],
         "yaxis": "y"
        },
        {
         "alignmentgroup": "True",
         "hovertemplate": "variable=Mount<br>value=%{x}<br>index=%{y}<extra></extra>",
         "legendgroup": "Mount",
         "marker": {
          "color": "#EF553B",
          "pattern": {
           "shape": ""
          }
         },
         "name": "Mount",
         "offsetgroup": "Mount",
         "orientation": "h",
         "showlegend": true,
         "textposition": "auto",
         "type": "bar",
         "x": [
          3,
          1,
          2,
          1
         ],
         "xaxis": "x",
         "y": [
          "Matthew KPE Count",
          "Luke KPE Count",
          "Mark KPE Count",
          "John KPE Count"
         ],
         "yaxis": "y"
        },
        {
         "alignmentgroup": "True",
         "hovertemplate": "variable=Olives<br>value=%{x}<br>index=%{y}<extra></extra>",
         "legendgroup": "Olives",
         "marker": {
          "color": "#00cc96",
          "pattern": {
           "shape": ""
          }
         },
         "name": "Olives",
         "offsetgroup": "Olives",
         "orientation": "h",
         "showlegend": true,
         "textposition": "auto",
         "type": "bar",
         "x": [
          3,
          1,
          3,
          1
         ],
         "xaxis": "x",
         "y": [
          "Matthew KPE Count",
          "Luke KPE Count",
          "Mark KPE Count",
          "John KPE Count"
         ],
         "yaxis": "y"
        },
        {
         "alignmentgroup": "True",
         "hovertemplate": "variable=Judah<br>value=%{x}<br>index=%{y}<extra></extra>",
         "legendgroup": "Judah",
         "marker": {
          "color": "#ab63fa",
          "pattern": {
           "shape": ""
          }
         },
         "name": "Judah",
         "offsetgroup": "Judah",
         "orientation": "h",
         "showlegend": true,
         "textposition": "auto",
         "type": "bar",
         "x": [
          2,
          2,
          null,
          null
         ],
         "xaxis": "x",
         "y": [
          "Matthew KPE Count",
          "Luke KPE Count",
          "Mark KPE Count",
          "John KPE Count"
         ],
         "yaxis": "y"
        },
        {
         "alignmentgroup": "True",
         "hovertemplate": "variable=Joseph<br>value=%{x}<br>index=%{y}<extra></extra>",
         "legendgroup": "Joseph",
         "marker": {
          "color": "#FFA15A",
          "pattern": {
           "shape": ""
          }
         },
         "name": "Joseph",
         "offsetgroup": "Joseph",
         "orientation": "h",
         "showlegend": true,
         "textposition": "auto",
         "type": "bar",
         "x": [
          2,
          4,
          2,
          4
         ],
         "xaxis": "x",
         "y": [
          "Matthew KPE Count",
          "Luke KPE Count",
          "Mark KPE Count",
          "John KPE Count"
         ],
         "yaxis": "y"
        },
        {
         "alignmentgroup": "True",
         "hovertemplate": "variable=Mary<br>value=%{x}<br>index=%{y}<extra></extra>",
         "legendgroup": "Mary",
         "marker": {
          "color": "#19d3f3",
          "pattern": {
           "shape": ""
          }
         },
         "name": "Mary",
         "offsetgroup": "Mary",
         "orientation": "h",
         "showlegend": true,
         "textposition": "auto",
         "type": "bar",
         "x": [
          2,
          3,
          1,
          2
         ],
         "xaxis": "x",
         "y": [
          "Matthew KPE Count",
          "Luke KPE Count",
          "Mark KPE Count",
          "John KPE Count"
         ],
         "yaxis": "y"
        },
        {
         "alignmentgroup": "True",
         "hovertemplate": "variable=womb<br>value=%{x}<br>index=%{y}<extra></extra>",
         "legendgroup": "womb",
         "marker": {
          "color": "#FF6692",
          "pattern": {
           "shape": ""
          }
         },
         "name": "womb",
         "offsetgroup": "womb",
         "orientation": "h",
         "showlegend": true,
         "textposition": "auto",
         "type": "bar",
         "x": [
          2,
          3,
          null,
          1
         ],
         "xaxis": "x",
         "y": [
          "Matthew KPE Count",
          "Luke KPE Count",
          "Mark KPE Count",
          "John KPE Count"
         ],
         "yaxis": "y"
        },
        {
         "alignmentgroup": "True",
         "hovertemplate": "variable=sleep<br>value=%{x}<br>index=%{y}<extra></extra>",
         "legendgroup": "sleep",
         "marker": {
          "color": "#B6E880",
          "pattern": {
           "shape": ""
          }
         },
         "name": "sleep",
         "offsetgroup": "sleep",
         "orientation": "h",
         "showlegend": true,
         "textposition": "auto",
         "type": "bar",
         "x": [
          2,
          1,
          null,
          1
         ],
         "xaxis": "x",
         "y": [
          "Matthew KPE Count",
          "Luke KPE Count",
          "Mark KPE Count",
          "John KPE Count"
         ],
         "yaxis": "y"
        },
        {
         "alignmentgroup": "True",
         "hovertemplate": "variable=great joy<br>value=%{x}<br>index=%{y}<extra></extra>",
         "legendgroup": "great joy",
         "marker": {
          "color": "#FF97FF",
          "pattern": {
           "shape": ""
          }
         },
         "name": "great joy",
         "offsetgroup": "great joy",
         "orientation": "h",
         "showlegend": true,
         "textposition": "auto",
         "type": "bar",
         "x": [
          2,
          1,
          null,
          null
         ],
         "xaxis": "x",
         "y": [
          "Matthew KPE Count",
          "Luke KPE Count",
          "Mark KPE Count",
          "John KPE Count"
         ],
         "yaxis": "y"
        },
        {
         "alignmentgroup": "True",
         "hovertemplate": "variable=prophet Jeremiah<br>value=%{x}<br>index=%{y}<extra></extra>",
         "legendgroup": "prophet Jeremiah",
         "marker": {
          "color": "#FECB52",
          "pattern": {
           "shape": ""
          }
         },
         "name": "prophet Jeremiah",
         "offsetgroup": "prophet Jeremiah",
         "orientation": "h",
         "showlegend": true,
         "textposition": "auto",
         "type": "bar",
         "x": [
          2,
          null,
          null,
          null
         ],
         "xaxis": "x",
         "y": [
          "Matthew KPE Count",
          "Luke KPE Count",
          "Mark KPE Count",
          "John KPE Count"
         ],
         "yaxis": "y"
        },
        {
         "alignmentgroup": "True",
         "hovertemplate": "variable=ruler<br>value=%{x}<br>index=%{y}<extra></extra>",
         "legendgroup": "ruler",
         "marker": {
          "color": "#636efa",
          "pattern": {
           "shape": ""
          }
         },
         "name": "ruler",
         "offsetgroup": "ruler",
         "orientation": "h",
         "showlegend": true,
         "textposition": "auto",
         "type": "bar",
         "x": [
          2,
          2,
          null,
          null
         ],
         "xaxis": "x",
         "y": [
          "Matthew KPE Count",
          "Luke KPE Count",
          "Mark KPE Count",
          "John KPE Count"
         ],
         "yaxis": "y"
        },
        {
         "alignmentgroup": "True",
         "hovertemplate": "variable=boy<br>value=%{x}<br>index=%{y}<extra></extra>",
         "legendgroup": "boy",
         "marker": {
          "color": "#EF553B",
          "pattern": {
           "shape": ""
          }
         },
         "name": "boy",
         "offsetgroup": "boy",
         "orientation": "h",
         "showlegend": true,
         "textposition": "auto",
         "type": "bar",
         "x": [
          2,
          1,
          1,
          1
         ],
         "xaxis": "x",
         "y": [
          "Matthew KPE Count",
          "Luke KPE Count",
          "Mark KPE Count",
          "John KPE Count"
         ],
         "yaxis": "y"
        },
        {
         "alignmentgroup": "True",
         "hovertemplate": "variable=treasures<br>value=%{x}<br>index=%{y}<extra></extra>",
         "legendgroup": "treasures",
         "marker": {
          "color": "#00cc96",
          "pattern": {
           "shape": ""
          }
         },
         "name": "treasures",
         "offsetgroup": "treasures",
         "orientation": "h",
         "showlegend": true,
         "textposition": "auto",
         "type": "bar",
         "x": [
          2,
          null,
          null,
          null
         ],
         "xaxis": "x",
         "y": [
          "Matthew KPE Count",
          "Luke KPE Count",
          "Mark KPE Count",
          "John KPE Count"
         ],
         "yaxis": "y"
        },
        {
         "alignmentgroup": "True",
         "hovertemplate": "variable=gold<br>value=%{x}<br>index=%{y}<extra></extra>",
         "legendgroup": "gold",
         "marker": {
          "color": "#ab63fa",
          "pattern": {
           "shape": ""
          }
         },
         "name": "gold",
         "offsetgroup": "gold",
         "orientation": "h",
         "showlegend": true,
         "textposition": "auto",
         "type": "bar",
         "x": [
          2,
          null,
          null,
          null
         ],
         "xaxis": "x",
         "y": [
          "Matthew KPE Count",
          "Luke KPE Count",
          "Mark KPE Count",
          "John KPE Count"
         ],
         "yaxis": "y"
        },
        {
         "alignmentgroup": "True",
         "hovertemplate": "variable=John the Baptist<br>value=%{x}<br>index=%{y}<extra></extra>",
         "legendgroup": "John the Baptist",
         "marker": {
          "color": "#FFA15A",
          "pattern": {
           "shape": ""
          }
         },
         "name": "John the Baptist",
         "offsetgroup": "John the Baptist",
         "orientation": "h",
         "showlegend": true,
         "textposition": "auto",
         "type": "bar",
         "x": [
          2,
          null,
          null,
          null
         ],
         "xaxis": "x",
         "y": [
          "Matthew KPE Count",
          "Luke KPE Count",
          "Mark KPE Count",
          "John KPE Count"
         ],
         "yaxis": "y"
        },
        {
         "alignmentgroup": "True",
         "hovertemplate": "variable=beloved Son<br>value=%{x}<br>index=%{y}<extra></extra>",
         "legendgroup": "beloved Son",
         "marker": {
          "color": "#19d3f3",
          "pattern": {
           "shape": ""
          }
         },
         "name": "beloved Son",
         "offsetgroup": "beloved Son",
         "orientation": "h",
         "showlegend": true,
         "textposition": "auto",
         "type": "bar",
         "x": [
          2,
          2,
          2,
          null
         ],
         "xaxis": "x",
         "y": [
          "Matthew KPE Count",
          "Luke KPE Count",
          "Mark KPE Count",
          "John KPE Count"
         ],
         "yaxis": "y"
        },
        {
         "alignmentgroup": "True",
         "hovertemplate": "variable=good fruit<br>value=%{x}<br>index=%{y}<extra></extra>",
         "legendgroup": "good fruit",
         "marker": {
          "color": "#FF6692",
          "pattern": {
           "shape": ""
          }
         },
         "name": "good fruit",
         "offsetgroup": "good fruit",
         "orientation": "h",
         "showlegend": true,
         "textposition": "auto",
         "type": "bar",
         "x": [
          2,
          1,
          null,
          null
         ],
         "xaxis": "x",
         "y": [
          "Matthew KPE Count",
          "Luke KPE Count",
          "Mark KPE Count",
          "John KPE Count"
         ],
         "yaxis": "y"
        },
        {
         "alignmentgroup": "True",
         "hovertemplate": "variable=garment<br>value=%{x}<br>index=%{y}<extra></extra>",
         "legendgroup": "garment",
         "marker": {
          "color": "#B6E880",
          "pattern": {
           "shape": ""
          }
         },
         "name": "garment",
         "offsetgroup": "garment",
         "orientation": "h",
         "showlegend": true,
         "textposition": "auto",
         "type": "bar",
         "x": [
          2,
          null,
          2,
          null
         ],
         "xaxis": "x",
         "y": [
          "Matthew KPE Count",
          "Luke KPE Count",
          "Mark KPE Count",
          "John KPE Count"
         ],
         "yaxis": "y"
        },
        {
         "alignmentgroup": "True",
         "hovertemplate": "variable=baptism<br>value=%{x}<br>index=%{y}<extra></extra>",
         "legendgroup": "baptism",
         "marker": {
          "color": "#FF97FF",
          "pattern": {
           "shape": ""
          }
         },
         "name": "baptism",
         "offsetgroup": "baptism",
         "orientation": "h",
         "showlegend": true,
         "textposition": "auto",
         "type": "bar",
         "x": [
          2,
          2,
          2,
          null
         ],
         "xaxis": "x",
         "y": [
          "Matthew KPE Count",
          "Luke KPE Count",
          "Mark KPE Count",
          "John KPE Count"
         ],
         "yaxis": "y"
        },
        {
         "alignmentgroup": "True",
         "hovertemplate": "variable=Progeny<br>value=%{x}<br>index=%{y}<extra></extra>",
         "legendgroup": "Progeny",
         "marker": {
          "color": "#FECB52",
          "pattern": {
           "shape": ""
          }
         },
         "name": "Progeny",
         "offsetgroup": "Progeny",
         "orientation": "h",
         "showlegend": true,
         "textposition": "auto",
         "type": "bar",
         "x": [
          2,
          null,
          null,
          null
         ],
         "xaxis": "x",
         "y": [
          "Matthew KPE Count",
          "Luke KPE Count",
          "Mark KPE Count",
          "John KPE Count"
         ],
         "yaxis": "y"
        },
        {
         "alignmentgroup": "True",
         "hovertemplate": "variable=repentance<br>value=%{x}<br>index=%{y}<extra></extra>",
         "legendgroup": "repentance",
         "marker": {
          "color": "#636efa",
          "pattern": {
           "shape": ""
          }
         },
         "name": "repentance",
         "offsetgroup": "repentance",
         "orientation": "h",
         "showlegend": true,
         "textposition": "auto",
         "type": "bar",
         "x": [
          2,
          1,
          1,
          null
         ],
         "xaxis": "x",
         "y": [
          "Matthew KPE Count",
          "Luke KPE Count",
          "Mark KPE Count",
          "John KPE Count"
         ],
         "yaxis": "y"
        },
        {
         "alignmentgroup": "True",
         "hovertemplate": "variable=stones<br>value=%{x}<br>index=%{y}<extra></extra>",
         "legendgroup": "stones",
         "marker": {
          "color": "#EF553B",
          "pattern": {
           "shape": ""
          }
         },
         "name": "stones",
         "offsetgroup": "stones",
         "orientation": "h",
         "showlegend": true,
         "textposition": "auto",
         "type": "bar",
         "x": [
          2,
          2,
          null,
          null
         ],
         "xaxis": "x",
         "y": [
          "Matthew KPE Count",
          "Luke KPE Count",
          "Mark KPE Count",
          "John KPE Count"
         ],
         "yaxis": "y"
        },
        {
         "alignmentgroup": "True",
         "hovertemplate": "variable=trees<br>value=%{x}<br>index=%{y}<extra></extra>",
         "legendgroup": "trees",
         "marker": {
          "color": "#00cc96",
          "pattern": {
           "shape": ""
          }
         },
         "name": "trees",
         "offsetgroup": "trees",
         "orientation": "h",
         "showlegend": true,
         "textposition": "auto",
         "type": "bar",
         "x": [
          2,
          2,
          2,
          null
         ],
         "xaxis": "x",
         "y": [
          "Matthew KPE Count",
          "Luke KPE Count",
          "Mark KPE Count",
          "John KPE Count"
         ],
         "yaxis": "y"
        },
        {
         "alignmentgroup": "True",
         "hovertemplate": "variable=Spirit<br>value=%{x}<br>index=%{y}<extra></extra>",
         "legendgroup": "Spirit",
         "marker": {
          "color": "#ab63fa",
          "pattern": {
           "shape": ""
          }
         },
         "name": "Spirit",
         "offsetgroup": "Spirit",
         "orientation": "h",
         "showlegend": true,
         "textposition": "auto",
         "type": "bar",
         "x": [
          2,
          null,
          null,
          3
         ],
         "xaxis": "x",
         "y": [
          "Matthew KPE Count",
          "Luke KPE Count",
          "Mark KPE Count",
          "John KPE Count"
         ],
         "yaxis": "y"
        },
        {
         "alignmentgroup": "True",
         "hovertemplate": "variable=devil<br>value=%{x}<br>index=%{y}<extra></extra>",
         "legendgroup": "devil",
         "marker": {
          "color": "#FFA15A",
          "pattern": {
           "shape": ""
          }
         },
         "name": "devil",
         "offsetgroup": "devil",
         "orientation": "h",
         "showlegend": true,
         "textposition": "auto",
         "type": "bar",
         "x": [
          2,
          2,
          null,
          2
         ],
         "xaxis": "x",
         "y": [
          "Matthew KPE Count",
          "Luke KPE Count",
          "Mark KPE Count",
          "John KPE Count"
         ],
         "yaxis": "y"
        },
        {
         "alignmentgroup": "True",
         "hovertemplate": "variable=charge<br>value=%{x}<br>index=%{y}<extra></extra>",
         "legendgroup": "charge",
         "marker": {
          "color": "#19d3f3",
          "pattern": {
           "shape": ""
          }
         },
         "name": "charge",
         "offsetgroup": "charge",
         "orientation": "h",
         "showlegend": true,
         "textposition": "auto",
         "type": "bar",
         "x": [
          2,
          null,
          null,
          null
         ],
         "xaxis": "x",
         "y": [
          "Matthew KPE Count",
          "Luke KPE Count",
          "Mark KPE Count",
          "John KPE Count"
         ],
         "yaxis": "y"
        },
        {
         "alignmentgroup": "True",
         "hovertemplate": "variable=Nazareth<br>value=%{x}<br>index=%{y}<extra></extra>",
         "legendgroup": "Nazareth",
         "marker": {
          "color": "#FF6692",
          "pattern": {
           "shape": ""
          }
         },
         "name": "Nazareth",
         "offsetgroup": "Nazareth",
         "orientation": "h",
         "showlegend": true,
         "textposition": "auto",
         "type": "bar",
         "x": [
          2,
          4,
          2,
          1
         ],
         "xaxis": "x",
         "y": [
          "Matthew KPE Count",
          "Luke KPE Count",
          "Mark KPE Count",
          "John KPE Count"
         ],
         "yaxis": "y"
        },
        {
         "alignmentgroup": "True",
         "hovertemplate": "variable=darkness<br>value=%{x}<br>index=%{y}<extra></extra>",
         "legendgroup": "darkness",
         "marker": {
          "color": "#B6E880",
          "pattern": {
           "shape": ""
          }
         },
         "name": "darkness",
         "offsetgroup": "darkness",
         "orientation": "h",
         "showlegend": true,
         "textposition": "auto",
         "type": "bar",
         "x": [
          2,
          3,
          1,
          5
         ],
         "xaxis": "x",
         "y": [
          "Matthew KPE Count",
          "Luke KPE Count",
          "Mark KPE Count",
          "John KPE Count"
         ],
         "yaxis": "y"
        },
        {
         "alignmentgroup": "True",
         "hovertemplate": "variable=James<br>value=%{x}<br>index=%{y}<extra></extra>",
         "legendgroup": "James",
         "marker": {
          "color": "#FF97FF",
          "pattern": {
           "shape": ""
          }
         },
         "name": "James",
         "offsetgroup": "James",
         "orientation": "h",
         "showlegend": true,
         "textposition": "auto",
         "type": "bar",
         "x": [
          2,
          4,
          9,
          null
         ],
         "xaxis": "x",
         "y": [
          "Matthew KPE Count",
          "Luke KPE Count",
          "Mark KPE Count",
          "John KPE Count"
         ],
         "yaxis": "y"
        },
        {
         "alignmentgroup": "True",
         "hovertemplate": "variable=Zebedee<br>value=%{x}<br>index=%{y}<extra></extra>",
         "legendgroup": "Zebedee",
         "marker": {
          "color": "#FECB52",
          "pattern": {
           "shape": ""
          }
         },
         "name": "Zebedee",
         "offsetgroup": "Zebedee",
         "orientation": "h",
         "showlegend": true,
         "textposition": "auto",
         "type": "bar",
         "x": [
          2,
          1,
          2,
          1
         ],
         "xaxis": "x",
         "y": [
          "Matthew KPE Count",
          "Luke KPE Count",
          "Mark KPE Count",
          "John KPE Count"
         ],
         "yaxis": "y"
        },
        {
         "alignmentgroup": "True",
         "hovertemplate": "variable=infirmity<br>value=%{x}<br>index=%{y}<extra></extra>",
         "legendgroup": "infirmity",
         "marker": {
          "color": "#636efa",
          "pattern": {
           "shape": ""
          }
         },
         "name": "infirmity",
         "offsetgroup": "infirmity",
         "orientation": "h",
         "showlegend": true,
         "textposition": "auto",
         "type": "bar",
         "x": [
          2,
          1,
          null,
          1
         ],
         "xaxis": "x",
         "y": [
          "Matthew KPE Count",
          "Luke KPE Count",
          "Mark KPE Count",
          "John KPE Count"
         ],
         "yaxis": "y"
        },
        {
         "alignmentgroup": "True",
         "hovertemplate": "variable=spirit<br>value=%{x}<br>index=%{y}<extra></extra>",
         "legendgroup": "spirit",
         "marker": {
          "color": "#EF553B",
          "pattern": {
           "shape": ""
          }
         },
         "name": "spirit",
         "offsetgroup": "spirit",
         "orientation": "h",
         "showlegend": true,
         "textposition": "auto",
         "type": "bar",
         "x": [
          2,
          4,
          3,
          4
         ],
         "xaxis": "x",
         "y": [
          "Matthew KPE Count",
          "Luke KPE Count",
          "Mark KPE Count",
          "John KPE Count"
         ],
         "yaxis": "y"
        },
        {
         "alignmentgroup": "True",
         "hovertemplate": "variable=persecution<br>value=%{x}<br>index=%{y}<extra></extra>",
         "legendgroup": "persecution",
         "marker": {
          "color": "#00cc96",
          "pattern": {
           "shape": ""
          }
         },
         "name": "persecution",
         "offsetgroup": "persecution",
         "orientation": "h",
         "showlegend": true,
         "textposition": "auto",
         "type": "bar",
         "x": [
          2,
          null,
          1,
          null
         ],
         "xaxis": "x",
         "y": [
          "Matthew KPE Count",
          "Luke KPE Count",
          "Mark KPE Count",
          "John KPE Count"
         ],
         "yaxis": "y"
        },
        {
         "alignmentgroup": "True",
         "hovertemplate": "variable=reward<br>value=%{x}<br>index=%{y}<extra></extra>",
         "legendgroup": "reward",
         "marker": {
          "color": "#ab63fa",
          "pattern": {
           "shape": ""
          }
         },
         "name": "reward",
         "offsetgroup": "reward",
         "orientation": "h",
         "showlegend": true,
         "textposition": "auto",
         "type": "bar",
         "x": [
          2,
          1,
          1,
          null
         ],
         "xaxis": "x",
         "y": [
          "Matthew KPE Count",
          "Luke KPE Count",
          "Mark KPE Count",
          "John KPE Count"
         ],
         "yaxis": "y"
        },
        {
         "alignmentgroup": "True",
         "hovertemplate": "variable=lamp<br>value=%{x}<br>index=%{y}<extra></extra>",
         "legendgroup": "lamp",
         "marker": {
          "color": "#FFA15A",
          "pattern": {
           "shape": ""
          }
         },
         "name": "lamp",
         "offsetgroup": "lamp",
         "orientation": "h",
         "showlegend": true,
         "textposition": "auto",
         "type": "bar",
         "x": [
          2,
          null,
          1,
          null
         ],
         "xaxis": "x",
         "y": [
          "Matthew KPE Count",
          "Luke KPE Count",
          "Mark KPE Count",
          "John KPE Count"
         ],
         "yaxis": "y"
        },
        {
         "alignmentgroup": "True",
         "hovertemplate": "variable=sight<br>value=%{x}<br>index=%{y}<extra></extra>",
         "legendgroup": "sight",
         "marker": {
          "color": "#19d3f3",
          "pattern": {
           "shape": ""
          }
         },
         "name": "sight",
         "offsetgroup": "sight",
         "orientation": "h",
         "showlegend": true,
         "textposition": "auto",
         "type": "bar",
         "x": [
          2,
          8,
          1,
          1
         ],
         "xaxis": "x",
         "y": [
          "Matthew KPE Count",
          "Luke KPE Count",
          "Mark KPE Count",
          "John KPE Count"
         ],
         "yaxis": "y"
        },
        {
         "alignmentgroup": "True",
         "hovertemplate": "variable=council<br>value=%{x}<br>index=%{y}<extra></extra>",
         "legendgroup": "council",
         "marker": {
          "color": "#FF6692",
          "pattern": {
           "shape": ""
          }
         },
         "name": "council",
         "offsetgroup": "council",
         "orientation": "h",
         "showlegend": true,
         "textposition": "auto",
         "type": "bar",
         "x": [
          2,
          null,
          null,
          1
         ],
         "xaxis": "x",
         "y": [
          "Matthew KPE Count",
          "Luke KPE Count",
          "Mark KPE Count",
          "John KPE Count"
         ],
         "yaxis": "y"
        },
        {
         "alignmentgroup": "True",
         "hovertemplate": "variable=fires<br>value=%{x}<br>index=%{y}<extra></extra>",
         "legendgroup": "fires",
         "marker": {
          "color": "#B6E880",
          "pattern": {
           "shape": ""
          }
         },
         "name": "fires",
         "offsetgroup": "fires",
         "orientation": "h",
         "showlegend": true,
         "textposition": "auto",
         "type": "bar",
         "x": [
          2,
          null,
          null,
          null
         ],
         "xaxis": "x",
         "y": [
          "Matthew KPE Count",
          "Luke KPE Count",
          "Mark KPE Count",
          "John KPE Count"
         ],
         "yaxis": "y"
        },
        {
         "alignmentgroup": "True",
         "hovertemplate": "variable=altar<br>value=%{x}<br>index=%{y}<extra></extra>",
         "legendgroup": "altar",
         "marker": {
          "color": "#FF97FF",
          "pattern": {
           "shape": ""
          }
         },
         "name": "altar",
         "offsetgroup": "altar",
         "orientation": "h",
         "showlegend": true,
         "textposition": "auto",
         "type": "bar",
         "x": [
          2,
          1,
          null,
          null
         ],
         "xaxis": "x",
         "y": [
          "Matthew KPE Count",
          "Luke KPE Count",
          "Mark KPE Count",
          "John KPE Count"
         ],
         "yaxis": "y"
        },
        {
         "alignmentgroup": "True",
         "hovertemplate": "variable=adultery<br>value=%{x}<br>index=%{y}<extra></extra>",
         "legendgroup": "adultery",
         "marker": {
          "color": "#FECB52",
          "pattern": {
           "shape": ""
          }
         },
         "name": "adultery",
         "offsetgroup": "adultery",
         "orientation": "h",
         "showlegend": true,
         "textposition": "auto",
         "type": "bar",
         "x": [
          2,
          2,
          null,
          1
         ],
         "xaxis": "x",
         "y": [
          "Matthew KPE Count",
          "Luke KPE Count",
          "Mark KPE Count",
          "John KPE Count"
         ],
         "yaxis": "y"
        },
        {
         "alignmentgroup": "True",
         "hovertemplate": "variable=bill<br>value=%{x}<br>index=%{y}<extra></extra>",
         "legendgroup": "bill",
         "marker": {
          "color": "#636efa",
          "pattern": {
           "shape": ""
          }
         },
         "name": "bill",
         "offsetgroup": "bill",
         "orientation": "h",
         "showlegend": true,
         "textposition": "auto",
         "type": "bar",
         "x": [
          2,
          null,
          null,
          null
         ],
         "xaxis": "x",
         "y": [
          "Matthew KPE Count",
          "Luke KPE Count",
          "Mark KPE Count",
          "John KPE Count"
         ],
         "yaxis": "y"
        },
        {
         "alignmentgroup": "True",
         "hovertemplate": "variable=divorce<br>value=%{x}<br>index=%{y}<extra></extra>",
         "legendgroup": "divorce",
         "marker": {
          "color": "#EF553B",
          "pattern": {
           "shape": ""
          }
         },
         "name": "divorce",
         "offsetgroup": "divorce",
         "orientation": "h",
         "showlegend": true,
         "textposition": "auto",
         "type": "bar",
         "x": [
          2,
          null,
          null,
          null
         ],
         "xaxis": "x",
         "y": [
          "Matthew KPE Count",
          "Luke KPE Count",
          "Mark KPE Count",
          "John KPE Count"
         ],
         "yaxis": "y"
        },
        {
         "alignmentgroup": "True",
         "hovertemplate": "variable=case<br>value=%{x}<br>index=%{y}<extra></extra>",
         "legendgroup": "case",
         "marker": {
          "color": "#00cc96",
          "pattern": {
           "shape": ""
          }
         },
         "name": "case",
         "offsetgroup": "case",
         "orientation": "h",
         "showlegend": true,
         "textposition": "auto",
         "type": "bar",
         "x": [
          2,
          1,
          2,
          2
         ],
         "xaxis": "x",
         "y": [
          "Matthew KPE Count",
          "Luke KPE Count",
          "Mark KPE Count",
          "John KPE Count"
         ],
         "yaxis": "y"
        },
        {
         "alignmentgroup": "True",
         "hovertemplate": "variable=fornication<br>value=%{x}<br>index=%{y}<extra></extra>",
         "legendgroup": "fornication",
         "marker": {
          "color": "#ab63fa",
          "pattern": {
           "shape": ""
          }
         },
         "name": "fornication",
         "offsetgroup": "fornication",
         "orientation": "h",
         "showlegend": true,
         "textposition": "auto",
         "type": "bar",
         "x": [
          2,
          null,
          null,
          1
         ],
         "xaxis": "x",
         "y": [
          "Matthew KPE Count",
          "Luke KPE Count",
          "Mark KPE Count",
          "John KPE Count"
         ],
         "yaxis": "y"
        },
        {
         "alignmentgroup": "True",
         "hovertemplate": "variable=throne<br>value=%{x}<br>index=%{y}<extra></extra>",
         "legendgroup": "throne",
         "marker": {
          "color": "#FFA15A",
          "pattern": {
           "shape": ""
          }
         },
         "name": "throne",
         "offsetgroup": "throne",
         "orientation": "h",
         "showlegend": true,
         "textposition": "auto",
         "type": "bar",
         "x": [
          2,
          1,
          null,
          null
         ],
         "xaxis": "x",
         "y": [
          "Matthew KPE Count",
          "Luke KPE Count",
          "Mark KPE Count",
          "John KPE Count"
         ],
         "yaxis": "y"
        },
        {
         "alignmentgroup": "True",
         "hovertemplate": "variable=footstool<br>value=%{x}<br>index=%{y}<extra></extra>",
         "legendgroup": "footstool",
         "marker": {
          "color": "#19d3f3",
          "pattern": {
           "shape": ""
          }
         },
         "name": "footstool",
         "offsetgroup": "footstool",
         "orientation": "h",
         "showlegend": true,
         "textposition": "auto",
         "type": "bar",
         "x": [
          2,
          null,
          1,
          null
         ],
         "xaxis": "x",
         "y": [
          "Matthew KPE Count",
          "Luke KPE Count",
          "Mark KPE Count",
          "John KPE Count"
         ],
         "yaxis": "y"
        },
        {
         "alignmentgroup": "True",
         "hovertemplate": "variable=tunic<br>value=%{x}<br>index=%{y}<extra></extra>",
         "legendgroup": "tunic",
         "marker": {
          "color": "#FF6692",
          "pattern": {
           "shape": ""
          }
         },
         "name": "tunic",
         "offsetgroup": "tunic",
         "orientation": "h",
         "showlegend": true,
         "textposition": "auto",
         "type": "bar",
         "x": [
          2,
          1,
          null,
          2
         ],
         "xaxis": "x",
         "y": [
          "Matthew KPE Count",
          "Luke KPE Count",
          "Mark KPE Count",
          "John KPE Count"
         ],
         "yaxis": "y"
        },
        {
         "alignmentgroup": "True",
         "hovertemplate": "variable=enemy<br>value=%{x}<br>index=%{y}<extra></extra>",
         "legendgroup": "enemy",
         "marker": {
          "color": "#B6E880",
          "pattern": {
           "shape": ""
          }
         },
         "name": "enemy",
         "offsetgroup": "enemy",
         "orientation": "h",
         "showlegend": true,
         "textposition": "auto",
         "type": "bar",
         "x": [
          2,
          null,
          null,
          null
         ],
         "xaxis": "x",
         "y": [
          "Matthew KPE Count",
          "Luke KPE Count",
          "Mark KPE Count",
          "John KPE Count"
         ],
         "yaxis": "y"
        },
        {
         "alignmentgroup": "True",
         "hovertemplate": "variable=attention<br>value=%{x}<br>index=%{y}<extra></extra>",
         "legendgroup": "attention",
         "marker": {
          "color": "#FF97FF",
          "pattern": {
           "shape": ""
          }
         },
         "name": "attention",
         "offsetgroup": "attention",
         "orientation": "h",
         "showlegend": true,
         "textposition": "auto",
         "type": "bar",
         "x": [
          2,
          null,
          null,
          null
         ],
         "xaxis": "x",
         "y": [
          "Matthew KPE Count",
          "Luke KPE Count",
          "Mark KPE Count",
          "John KPE Count"
         ],
         "yaxis": "y"
        },
        {
         "alignmentgroup": "True",
         "hovertemplate": "variable=trumpet<br>value=%{x}<br>index=%{y}<extra></extra>",
         "legendgroup": "trumpet",
         "marker": {
          "color": "#FECB52",
          "pattern": {
           "shape": ""
          }
         },
         "name": "trumpet",
         "offsetgroup": "trumpet",
         "orientation": "h",
         "showlegend": true,
         "textposition": "auto",
         "type": "bar",
         "x": [
          2,
          null,
          null,
          null
         ],
         "xaxis": "x",
         "y": [
          "Matthew KPE Count",
          "Luke KPE Count",
          "Mark KPE Count",
          "John KPE Count"
         ],
         "yaxis": "y"
        },
        {
         "alignmentgroup": "True",
         "hovertemplate": "variable=hypocrites<br>value=%{x}<br>index=%{y}<extra></extra>",
         "legendgroup": "hypocrites",
         "marker": {
          "color": "#636efa",
          "pattern": {
           "shape": ""
          }
         },
         "name": "hypocrites",
         "offsetgroup": "hypocrites",
         "orientation": "h",
         "showlegend": true,
         "textposition": "auto",
         "type": "bar",
         "x": [
          2,
          null,
          1,
          null
         ],
         "xaxis": "x",
         "y": [
          "Matthew KPE Count",
          "Luke KPE Count",
          "Mark KPE Count",
          "John KPE Count"
         ],
         "yaxis": "y"
        },
        {
         "alignmentgroup": "True",
         "hovertemplate": "variable=streets<br>value=%{x}<br>index=%{y}<extra></extra>",
         "legendgroup": "streets",
         "marker": {
          "color": "#EF553B",
          "pattern": {
           "shape": ""
          }
         },
         "name": "streets",
         "offsetgroup": "streets",
         "orientation": "h",
         "showlegend": true,
         "textposition": "auto",
         "type": "bar",
         "x": [
          2,
          2,
          null,
          null
         ],
         "xaxis": "x",
         "y": [
          "Matthew KPE Count",
          "Luke KPE Count",
          "Mark KPE Count",
          "John KPE Count"
         ],
         "yaxis": "y"
        },
        {
         "alignmentgroup": "True",
         "hovertemplate": "variable=door<br>value=%{x}<br>index=%{y}<extra></extra>",
         "legendgroup": "door",
         "marker": {
          "color": "#00cc96",
          "pattern": {
           "shape": ""
          }
         },
         "name": "door",
         "offsetgroup": "door",
         "orientation": "h",
         "showlegend": true,
         "textposition": "auto",
         "type": "bar",
         "x": [
          2,
          2,
          2,
          null
         ],
         "xaxis": "x",
         "y": [
          "Matthew KPE Count",
          "Luke KPE Count",
          "Mark KPE Count",
          "John KPE Count"
         ],
         "yaxis": "y"
        },
        {
         "alignmentgroup": "True",
         "hovertemplate": "variable=temptation<br>value=%{x}<br>index=%{y}<extra></extra>",
         "legendgroup": "temptation",
         "marker": {
          "color": "#ab63fa",
          "pattern": {
           "shape": ""
          }
         },
         "name": "temptation",
         "offsetgroup": "temptation",
         "orientation": "h",
         "showlegend": true,
         "textposition": "auto",
         "type": "bar",
         "x": [
          2,
          3,
          1,
          null
         ],
         "xaxis": "x",
         "y": [
          "Matthew KPE Count",
          "Luke KPE Count",
          "Mark KPE Count",
          "John KPE Count"
         ],
         "yaxis": "y"
        },
        {
         "alignmentgroup": "True",
         "hovertemplate": "variable=fasting<br>value=%{x}<br>index=%{y}<extra></extra>",
         "legendgroup": "fasting",
         "marker": {
          "color": "#FFA15A",
          "pattern": {
           "shape": ""
          }
         },
         "name": "fasting",
         "offsetgroup": "fasting",
         "orientation": "h",
         "showlegend": true,
         "textposition": "auto",
         "type": "bar",
         "x": [
          2,
          1,
          1,
          null
         ],
         "xaxis": "x",
         "y": [
          "Matthew KPE Count",
          "Luke KPE Count",
          "Mark KPE Count",
          "John KPE Count"
         ],
         "yaxis": "y"
        },
        {
         "alignmentgroup": "True",
         "hovertemplate": "variable=clothing<br>value=%{x}<br>index=%{y}<extra></extra>",
         "legendgroup": "clothing",
         "marker": {
          "color": "#19d3f3",
          "pattern": {
           "shape": ""
          }
         },
         "name": "clothing",
         "offsetgroup": "clothing",
         "orientation": "h",
         "showlegend": true,
         "textposition": "auto",
         "type": "bar",
         "x": [
          2,
          1,
          null,
          null
         ],
         "xaxis": "x",
         "y": [
          "Matthew KPE Count",
          "Luke KPE Count",
          "Mark KPE Count",
          "John KPE Count"
         ],
         "yaxis": "y"
        },
        {
         "alignmentgroup": "True",
         "hovertemplate": "variable=grass<br>value=%{x}<br>index=%{y}<extra></extra>",
         "legendgroup": "grass",
         "marker": {
          "color": "#FF6692",
          "pattern": {
           "shape": ""
          }
         },
         "name": "grass",
         "offsetgroup": "grass",
         "orientation": "h",
         "showlegend": true,
         "textposition": "auto",
         "type": "bar",
         "x": [
          2,
          1,
          null,
          1
         ],
         "xaxis": "x",
         "y": [
          "Matthew KPE Count",
          "Luke KPE Count",
          "Mark KPE Count",
          "John KPE Count"
         ],
         "yaxis": "y"
        },
        {
         "alignmentgroup": "True",
         "hovertemplate": "variable=good things<br>value=%{x}<br>index=%{y}<extra></extra>",
         "legendgroup": "good things",
         "marker": {
          "color": "#B6E880",
          "pattern": {
           "shape": ""
          }
         },
         "name": "good things",
         "offsetgroup": "good things",
         "orientation": "h",
         "showlegend": true,
         "textposition": "auto",
         "type": "bar",
         "x": [
          2,
          2,
          null,
          null
         ],
         "xaxis": "x",
         "y": [
          "Matthew KPE Count",
          "Luke KPE Count",
          "Mark KPE Count",
          "John KPE Count"
         ],
         "yaxis": "y"
        },
        {
         "alignmentgroup": "True",
         "hovertemplate": "variable=measure<br>value=%{x}<br>index=%{y}<extra></extra>",
         "legendgroup": "measure",
         "marker": {
          "color": "#FF97FF",
          "pattern": {
           "shape": ""
          }
         },
         "name": "measure",
         "offsetgroup": "measure",
         "orientation": "h",
         "showlegend": true,
         "textposition": "auto",
         "type": "bar",
         "x": [
          2,
          null,
          1,
          1
         ],
         "xaxis": "x",
         "y": [
          "Matthew KPE Count",
          "Luke KPE Count",
          "Mark KPE Count",
          "John KPE Count"
         ],
         "yaxis": "y"
        },
        {
         "alignmentgroup": "True",
         "hovertemplate": "variable=fire<br>value=%{x}<br>index=%{y}<extra></extra>",
         "legendgroup": "fire",
         "marker": {
          "color": "#FECB52",
          "pattern": {
           "shape": ""
          }
         },
         "name": "fire",
         "offsetgroup": "fire",
         "orientation": "h",
         "showlegend": true,
         "textposition": "auto",
         "type": "bar",
         "x": [
          2,
          2,
          1,
          1
         ],
         "xaxis": "x",
         "y": [
          "Matthew KPE Count",
          "Luke KPE Count",
          "Mark KPE Count",
          "John KPE Count"
         ],
         "yaxis": "y"
        },
        {
         "alignmentgroup": "True",
         "hovertemplate": "variable=rock<br>value=%{x}<br>index=%{y}<extra></extra>",
         "legendgroup": "rock",
         "marker": {
          "color": "#636efa",
          "pattern": {
           "shape": ""
          }
         },
         "name": "rock",
         "offsetgroup": "rock",
         "orientation": "h",
         "showlegend": true,
         "textposition": "auto",
         "type": "bar",
         "x": [
          2,
          1,
          1,
          null
         ],
         "xaxis": "x",
         "y": [
          "Matthew KPE Count",
          "Luke KPE Count",
          "Mark KPE Count",
          "John KPE Count"
         ],
         "yaxis": "y"
        },
        {
         "alignmentgroup": "True",
         "hovertemplate": "variable=winds<br>value=%{x}<br>index=%{y}<extra></extra>",
         "legendgroup": "winds",
         "marker": {
          "color": "#EF553B",
          "pattern": {
           "shape": ""
          }
         },
         "name": "winds",
         "offsetgroup": "winds",
         "orientation": "h",
         "showlegend": true,
         "textposition": "auto",
         "type": "bar",
         "x": [
          2,
          null,
          null,
          null
         ],
         "xaxis": "x",
         "y": [
          "Matthew KPE Count",
          "Luke KPE Count",
          "Mark KPE Count",
          "John KPE Count"
         ],
         "yaxis": "y"
        },
        {
         "alignmentgroup": "True",
         "hovertemplate": "variable=entire city<br>value=%{x}<br>index=%{y}<extra></extra>",
         "legendgroup": "entire city",
         "marker": {
          "color": "#00cc96",
          "pattern": {
           "shape": ""
          }
         },
         "name": "entire city",
         "offsetgroup": "entire city",
         "orientation": "h",
         "showlegend": true,
         "textposition": "auto",
         "type": "bar",
         "x": [
          2,
          null,
          1,
          null
         ],
         "xaxis": "x",
         "y": [
          "Matthew KPE Count",
          "Luke KPE Count",
          "Mark KPE Count",
          "John KPE Count"
         ],
         "yaxis": "y"
        },
        {
         "alignmentgroup": "True",
         "hovertemplate": "variable=leper<br>value=%{x}<br>index=%{y}<extra></extra>",
         "legendgroup": "leper",
         "marker": {
          "color": "#ab63fa",
          "pattern": {
           "shape": ""
          }
         },
         "name": "leper",
         "offsetgroup": "leper",
         "orientation": "h",
         "showlegend": true,
         "textposition": "auto",
         "type": "bar",
         "x": [
          2,
          null,
          2,
          null
         ],
         "xaxis": "x",
         "y": [
          "Matthew KPE Count",
          "Luke KPE Count",
          "Mark KPE Count",
          "John KPE Count"
         ],
         "yaxis": "y"
        },
        {
         "alignmentgroup": "True",
         "hovertemplate": "variable=servant<br>value=%{x}<br>index=%{y}<extra></extra>",
         "legendgroup": "servant",
         "marker": {
          "color": "#FFA15A",
          "pattern": {
           "shape": ""
          }
         },
         "name": "servant",
         "offsetgroup": "servant",
         "orientation": "h",
         "showlegend": true,
         "textposition": "auto",
         "type": "bar",
         "x": [
          2,
          4,
          1,
          2
         ],
         "xaxis": "x",
         "y": [
          "Matthew KPE Count",
          "Luke KPE Count",
          "Mark KPE Count",
          "John KPE Count"
         ],
         "yaxis": "y"
        },
        {
         "alignmentgroup": "True",
         "hovertemplate": "variable=roof<br>value=%{x}<br>index=%{y}<extra></extra>",
         "legendgroup": "roof",
         "marker": {
          "color": "#19d3f3",
          "pattern": {
           "shape": ""
          }
         },
         "name": "roof",
         "offsetgroup": "roof",
         "orientation": "h",
         "showlegend": true,
         "textposition": "auto",
         "type": "bar",
         "x": [
          2,
          1,
          1,
          null
         ],
         "xaxis": "x",
         "y": [
          "Matthew KPE Count",
          "Luke KPE Count",
          "Mark KPE Count",
          "John KPE Count"
         ],
         "yaxis": "y"
        },
        {
         "alignmentgroup": "True",
         "hovertemplate": "variable=west<br>value=%{x}<br>index=%{y}<extra></extra>",
         "legendgroup": "west",
         "marker": {
          "color": "#FF6692",
          "pattern": {
           "shape": ""
          }
         },
         "name": "west",
         "offsetgroup": "west",
         "orientation": "h",
         "showlegend": true,
         "textposition": "auto",
         "type": "bar",
         "x": [
          2,
          null,
          null,
          null
         ],
         "xaxis": "x",
         "y": [
          "Matthew KPE Count",
          "Luke KPE Count",
          "Mark KPE Count",
          "John KPE Count"
         ],
         "yaxis": "y"
        },
        {
         "alignmentgroup": "True",
         "hovertemplate": "variable=dead<br>value=%{x}<br>index=%{y}<extra></extra>",
         "legendgroup": "dead",
         "marker": {
          "color": "#B6E880",
          "pattern": {
           "shape": ""
          }
         },
         "name": "dead",
         "offsetgroup": "dead",
         "orientation": "h",
         "showlegend": true,
         "textposition": "auto",
         "type": "bar",
         "x": [
          2,
          3,
          3,
          2
         ],
         "xaxis": "x",
         "y": [
          "Matthew KPE Count",
          "Luke KPE Count",
          "Mark KPE Count",
          "John KPE Count"
         ],
         "yaxis": "y"
        },
        {
         "alignmentgroup": "True",
         "hovertemplate": "variable=waves<br>value=%{x}<br>index=%{y}<extra></extra>",
         "legendgroup": "waves",
         "marker": {
          "color": "#FF97FF",
          "pattern": {
           "shape": ""
          }
         },
         "name": "waves",
         "offsetgroup": "waves",
         "orientation": "h",
         "showlegend": true,
         "textposition": "auto",
         "type": "bar",
         "x": [
          2,
          1,
          1,
          null
         ],
         "xaxis": "x",
         "y": [
          "Matthew KPE Count",
          "Luke KPE Count",
          "Mark KPE Count",
          "John KPE Count"
         ],
         "yaxis": "y"
        },
        {
         "alignmentgroup": "True",
         "hovertemplate": "variable=kind<br>value=%{x}<br>index=%{y}<extra></extra>",
         "legendgroup": "kind",
         "marker": {
          "color": "#FECB52",
          "pattern": {
           "shape": ""
          }
         },
         "name": "kind",
         "offsetgroup": "kind",
         "orientation": "h",
         "showlegend": true,
         "textposition": "auto",
         "type": "bar",
         "x": [
          2,
          3,
          1,
          3
         ],
         "xaxis": "x",
         "y": [
          "Matthew KPE Count",
          "Luke KPE Count",
          "Mark KPE Count",
          "John KPE Count"
         ],
         "yaxis": "y"
        },
        {
         "alignmentgroup": "True",
         "hovertemplate": "variable=waters<br>value=%{x}<br>index=%{y}<extra></extra>",
         "legendgroup": "waters",
         "marker": {
          "color": "#636efa",
          "pattern": {
           "shape": ""
          }
         },
         "name": "waters",
         "offsetgroup": "waters",
         "orientation": "h",
         "showlegend": true,
         "textposition": "auto",
         "type": "bar",
         "x": [
          2,
          null,
          null,
          null
         ],
         "xaxis": "x",
         "y": [
          "Matthew KPE Count",
          "Luke KPE Count",
          "Mark KPE Count",
          "John KPE Count"
         ],
         "yaxis": "y"
        },
        {
         "alignmentgroup": "True",
         "hovertemplate": "variable=thoughts<br>value=%{x}<br>index=%{y}<extra></extra>",
         "legendgroup": "thoughts",
         "marker": {
          "color": "#EF553B",
          "pattern": {
           "shape": ""
          }
         },
         "name": "thoughts",
         "offsetgroup": "thoughts",
         "orientation": "h",
         "showlegend": true,
         "textposition": "auto",
         "type": "bar",
         "x": [
          2,
          5,
          null,
          null
         ],
         "xaxis": "x",
         "y": [
          "Matthew KPE Count",
          "Luke KPE Count",
          "Mark KPE Count",
          "John KPE Count"
         ],
         "yaxis": "y"
        },
        {
         "alignmentgroup": "True",
         "hovertemplate": "variable=hearts<br>value=%{x}<br>index=%{y}<extra></extra>",
         "legendgroup": "hearts",
         "marker": {
          "color": "#00cc96",
          "pattern": {
           "shape": ""
          }
         },
         "name": "hearts",
         "offsetgroup": "hearts",
         "orientation": "h",
         "showlegend": true,
         "textposition": "auto",
         "type": "bar",
         "x": [
          2,
          5,
          3,
          null
         ],
         "xaxis": "x",
         "y": [
          "Matthew KPE Count",
          "Luke KPE Count",
          "Mark KPE Count",
          "John KPE Count"
         ],
         "yaxis": "y"
        },
        {
         "alignmentgroup": "True",
         "hovertemplate": "variable=need<br>value=%{x}<br>index=%{y}<extra></extra>",
         "legendgroup": "need",
         "marker": {
          "color": "#ab63fa",
          "pattern": {
           "shape": ""
          }
         },
         "name": "need",
         "offsetgroup": "need",
         "orientation": "h",
         "showlegend": true,
         "textposition": "auto",
         "type": "bar",
         "x": [
          2,
          3,
          1,
          2
         ],
         "xaxis": "x",
         "y": [
          "Matthew KPE Count",
          "Luke KPE Count",
          "Mark KPE Count",
          "John KPE Count"
         ],
         "yaxis": "y"
        },
        {
         "alignmentgroup": "True",
         "hovertemplate": "variable=sacrifice<br>value=%{x}<br>index=%{y}<extra></extra>",
         "legendgroup": "sacrifice",
         "marker": {
          "color": "#FFA15A",
          "pattern": {
           "shape": ""
          }
         },
         "name": "sacrifice",
         "offsetgroup": "sacrifice",
         "orientation": "h",
         "showlegend": true,
         "textposition": "auto",
         "type": "bar",
         "x": [
          2,
          1,
          null,
          null
         ],
         "xaxis": "x",
         "y": [
          "Matthew KPE Count",
          "Luke KPE Count",
          "Mark KPE Count",
          "John KPE Count"
         ],
         "yaxis": "y"
        },
        {
         "alignmentgroup": "True",
         "hovertemplate": "variable=groom<br>value=%{x}<br>index=%{y}<extra></extra>",
         "legendgroup": "groom",
         "marker": {
          "color": "#19d3f3",
          "pattern": {
           "shape": ""
          }
         },
         "name": "groom",
         "offsetgroup": "groom",
         "orientation": "h",
         "showlegend": true,
         "textposition": "auto",
         "type": "bar",
         "x": [
          2,
          1,
          null,
          1
         ],
         "xaxis": "x",
         "y": [
          "Matthew KPE Count",
          "Luke KPE Count",
          "Mark KPE Count",
          "John KPE Count"
         ],
         "yaxis": "y"
        },
        {
         "alignmentgroup": "True",
         "hovertemplate": "variable=hem<br>value=%{x}<br>index=%{y}<extra></extra>",
         "legendgroup": "hem",
         "marker": {
          "color": "#FF6692",
          "pattern": {
           "shape": ""
          }
         },
         "name": "hem",
         "offsetgroup": "hem",
         "orientation": "h",
         "showlegend": true,
         "textposition": "auto",
         "type": "bar",
         "x": [
          2,
          null,
          null,
          null
         ],
         "xaxis": "x",
         "y": [
          "Matthew KPE Count",
          "Luke KPE Count",
          "Mark KPE Count",
          "John KPE Count"
         ],
         "yaxis": "y"
        },
        {
         "alignmentgroup": "True",
         "hovertemplate": "variable=girl<br>value=%{x}<br>index=%{y}<extra></extra>",
         "legendgroup": "girl",
         "marker": {
          "color": "#B6E880",
          "pattern": {
           "shape": ""
          }
         },
         "name": "girl",
         "offsetgroup": "girl",
         "orientation": "h",
         "showlegend": true,
         "textposition": "auto",
         "type": "bar",
         "x": [
          2,
          null,
          2,
          null
         ],
         "xaxis": "x",
         "y": [
          "Matthew KPE Count",
          "Luke KPE Count",
          "Mark KPE Count",
          "John KPE Count"
         ],
         "yaxis": "y"
        },
        {
         "alignmentgroup": "True",
         "hovertemplate": "variable=news<br>value=%{x}<br>index=%{y}<extra></extra>",
         "legendgroup": "news",
         "marker": {
          "color": "#FF97FF",
          "pattern": {
           "shape": ""
          }
         },
         "name": "news",
         "offsetgroup": "news",
         "orientation": "h",
         "showlegend": true,
         "textposition": "auto",
         "type": "bar",
         "x": [
          2,
          null,
          null,
          null
         ],
         "xaxis": "x",
         "y": [
          "Matthew KPE Count",
          "Luke KPE Count",
          "Mark KPE Count",
          "John KPE Count"
         ],
         "yaxis": "y"
        },
        {
         "alignmentgroup": "True",
         "hovertemplate": "variable=prince<br>value=%{x}<br>index=%{y}<extra></extra>",
         "legendgroup": "prince",
         "marker": {
          "color": "#FECB52",
          "pattern": {
           "shape": ""
          }
         },
         "name": "prince",
         "offsetgroup": "prince",
         "orientation": "h",
         "showlegend": true,
         "textposition": "auto",
         "type": "bar",
         "x": [
          2,
          null,
          1,
          3
         ],
         "xaxis": "x",
         "y": [
          "Matthew KPE Count",
          "Luke KPE Count",
          "Mark KPE Count",
          "John KPE Count"
         ],
         "yaxis": "y"
        },
        {
         "alignmentgroup": "True",
         "hovertemplate": "variable=harvest<br>value=%{x}<br>index=%{y}<extra></extra>",
         "legendgroup": "harvest",
         "marker": {
          "color": "#636efa",
          "pattern": {
           "shape": ""
          }
         },
         "name": "harvest",
         "offsetgroup": "harvest",
         "orientation": "h",
         "showlegend": true,
         "textposition": "auto",
         "type": "bar",
         "x": [
          2,
          null,
          1,
          1
         ],
         "xaxis": "x",
         "y": [
          "Matthew KPE Count",
          "Luke KPE Count",
          "Mark KPE Count",
          "John KPE Count"
         ],
         "yaxis": "y"
        },
        {
         "alignmentgroup": "True",
         "hovertemplate": "variable=tax collectors<br>value=%{x}<br>index=%{y}<extra></extra>",
         "legendgroup": "tax collectors",
         "marker": {
          "color": "#EF553B",
          "pattern": {
           "shape": ""
          }
         },
         "name": "tax collectors",
         "offsetgroup": "tax collectors",
         "orientation": "h",
         "showlegend": true,
         "textposition": "auto",
         "type": "bar",
         "x": [
          2,
          4,
          null,
          null
         ],
         "xaxis": "x",
         "y": [
          "Matthew KPE Count",
          "Luke KPE Count",
          "Mark KPE Count",
          "John KPE Count"
         ],
         "yaxis": "y"
        },
        {
         "alignmentgroup": "True",
         "hovertemplate": "variable=twelve disciples<br>value=%{x}<br>index=%{y}<extra></extra>",
         "legendgroup": "twelve disciples",
         "marker": {
          "color": "#00cc96",
          "pattern": {
           "shape": ""
          }
         },
         "name": "twelve disciples",
         "offsetgroup": "twelve disciples",
         "orientation": "h",
         "showlegend": true,
         "textposition": "auto",
         "type": "bar",
         "x": [
          2,
          null,
          null,
          null
         ],
         "xaxis": "x",
         "y": [
          "Matthew KPE Count",
          "Luke KPE Count",
          "Mark KPE Count",
          "John KPE Count"
         ],
         "yaxis": "y"
        },
        {
         "alignmentgroup": "True",
         "hovertemplate": "variable=wind<br>value=%{x}<br>index=%{y}<extra></extra>",
         "legendgroup": "wind",
         "marker": {
          "color": "#ab63fa",
          "pattern": {
           "shape": ""
          }
         },
         "name": "wind",
         "offsetgroup": "wind",
         "orientation": "h",
         "showlegend": true,
         "textposition": "auto",
         "type": "bar",
         "x": [
          2,
          1,
          null,
          null
         ],
         "xaxis": "x",
         "y": [
          "Matthew KPE Count",
          "Luke KPE Count",
          "Mark KPE Count",
          "John KPE Count"
         ],
         "yaxis": "y"
        },
        {
         "alignmentgroup": "True",
         "hovertemplate": "variable=houses<br>value=%{x}<br>index=%{y}<extra></extra>",
         "legendgroup": "houses",
         "marker": {
          "color": "#FFA15A",
          "pattern": {
           "shape": ""
          }
         },
         "name": "houses",
         "offsetgroup": "houses",
         "orientation": "h",
         "showlegend": true,
         "textposition": "auto",
         "type": "bar",
         "x": [
          2,
          1,
          null,
          null
         ],
         "xaxis": "x",
         "y": [
          "Matthew KPE Count",
          "Luke KPE Count",
          "Mark KPE Count",
          "John KPE Count"
         ],
         "yaxis": "y"
        },
        {
         "alignmentgroup": "True",
         "hovertemplate": "variable=kings<br>value=%{x}<br>index=%{y}<extra></extra>",
         "legendgroup": "kings",
         "marker": {
          "color": "#19d3f3",
          "pattern": {
           "shape": ""
          }
         },
         "name": "kings",
         "offsetgroup": "kings",
         "orientation": "h",
         "showlegend": true,
         "textposition": "auto",
         "type": "bar",
         "x": [
          2,
          3,
          1,
          null
         ],
         "xaxis": "x",
         "y": [
          "Matthew KPE Count",
          "Luke KPE Count",
          "Mark KPE Count",
          "John KPE Count"
         ],
         "yaxis": "y"
        },
        {
         "alignmentgroup": "True",
         "hovertemplate": "variable=ears<br>value=%{x}<br>index=%{y}<extra></extra>",
         "legendgroup": "ears",
         "marker": {
          "color": "#FF6692",
          "pattern": {
           "shape": ""
          }
         },
         "name": "ears",
         "offsetgroup": "ears",
         "orientation": "h",
         "showlegend": true,
         "textposition": "auto",
         "type": "bar",
         "x": [
          2,
          3,
          4,
          null
         ],
         "xaxis": "x",
         "y": [
          "Matthew KPE Count",
          "Luke KPE Count",
          "Mark KPE Count",
          "John KPE Count"
         ],
         "yaxis": "y"
        },
        {
         "alignmentgroup": "True",
         "hovertemplate": "variable=generation<br>value=%{x}<br>index=%{y}<extra></extra>",
         "legendgroup": "generation",
         "marker": {
          "color": "#B6E880",
          "pattern": {
           "shape": ""
          }
         },
         "name": "generation",
         "offsetgroup": "generation",
         "orientation": "h",
         "showlegend": true,
         "textposition": "auto",
         "type": "bar",
         "x": [
          2,
          3,
          null,
          null
         ],
         "xaxis": "x",
         "y": [
          "Matthew KPE Count",
          "Luke KPE Count",
          "Mark KPE Count",
          "John KPE Count"
         ],
         "yaxis": "y"
        },
        {
         "alignmentgroup": "True",
         "hovertemplate": "variable=marketplace<br>value=%{x}<br>index=%{y}<extra></extra>",
         "legendgroup": "marketplace",
         "marker": {
          "color": "#FF97FF",
          "pattern": {
           "shape": ""
          }
         },
         "name": "marketplace",
         "offsetgroup": "marketplace",
         "orientation": "h",
         "showlegend": true,
         "textposition": "auto",
         "type": "bar",
         "x": [
          2,
          1,
          null,
          null
         ],
         "xaxis": "x",
         "y": [
          "Matthew KPE Count",
          "Luke KPE Count",
          "Mark KPE Count",
          "John KPE Count"
         ],
         "yaxis": "y"
        },
        {
         "alignmentgroup": "True",
         "hovertemplate": "variable=wine<br>value=%{x}<br>index=%{y}<extra></extra>",
         "legendgroup": "wine",
         "marker": {
          "color": "#FECB52",
          "pattern": {
           "shape": ""
          }
         },
         "name": "wine",
         "offsetgroup": "wine",
         "orientation": "h",
         "showlegend": true,
         "textposition": "auto",
         "type": "bar",
         "x": [
          2,
          2,
          1,
          null
         ],
         "xaxis": "x",
         "y": [
          "Matthew KPE Count",
          "Luke KPE Count",
          "Mark KPE Count",
          "John KPE Count"
         ],
         "yaxis": "y"
        },
        {
         "alignmentgroup": "True",
         "hovertemplate": "variable=wisdom<br>value=%{x}<br>index=%{y}<extra></extra>",
         "legendgroup": "wisdom",
         "marker": {
          "color": "#636efa",
          "pattern": {
           "shape": ""
          }
         },
         "name": "wisdom",
         "offsetgroup": "wisdom",
         "orientation": "h",
         "showlegend": true,
         "textposition": "auto",
         "type": "bar",
         "x": [
          2,
          4,
          1,
          null
         ],
         "xaxis": "x",
         "y": [
          "Matthew KPE Count",
          "Luke KPE Count",
          "Mark KPE Count",
          "John KPE Count"
         ],
         "yaxis": "y"
        },
        {
         "alignmentgroup": "True",
         "hovertemplate": "variable=Tyre<br>value=%{x}<br>index=%{y}<extra></extra>",
         "legendgroup": "Tyre",
         "marker": {
          "color": "#EF553B",
          "pattern": {
           "shape": ""
          }
         },
         "name": "Tyre",
         "offsetgroup": "Tyre",
         "orientation": "h",
         "showlegend": true,
         "textposition": "auto",
         "type": "bar",
         "x": [
          2,
          1,
          2,
          null
         ],
         "xaxis": "x",
         "y": [
          "Matthew KPE Count",
          "Luke KPE Count",
          "Mark KPE Count",
          "John KPE Count"
         ],
         "yaxis": "y"
        },
        {
         "alignmentgroup": "True",
         "hovertemplate": "variable=Sidon<br>value=%{x}<br>index=%{y}<extra></extra>",
         "legendgroup": "Sidon",
         "marker": {
          "color": "#00cc96",
          "pattern": {
           "shape": ""
          }
         },
         "name": "Sidon",
         "offsetgroup": "Sidon",
         "orientation": "h",
         "showlegend": true,
         "textposition": "auto",
         "type": "bar",
         "x": [
          2,
          2,
          2,
          null
         ],
         "xaxis": "x",
         "y": [
          "Matthew KPE Count",
          "Luke KPE Count",
          "Mark KPE Count",
          "John KPE Count"
         ],
         "yaxis": "y"
        },
        {
         "alignmentgroup": "True",
         "hovertemplate": "variable=prudent<br>value=%{x}<br>index=%{y}<extra></extra>",
         "legendgroup": "prudent",
         "marker": {
          "color": "#ab63fa",
          "pattern": {
           "shape": ""
          }
         },
         "name": "prudent",
         "offsetgroup": "prudent",
         "orientation": "h",
         "showlegend": true,
         "textposition": "auto",
         "type": "bar",
         "x": [
          2,
          null,
          null,
          null
         ],
         "xaxis": "x",
         "y": [
          "Matthew KPE Count",
          "Luke KPE Count",
          "Mark KPE Count",
          "John KPE Count"
         ],
         "yaxis": "y"
        },
        {
         "alignmentgroup": "True",
         "hovertemplate": "variable=yoke<br>value=%{x}<br>index=%{y}<extra></extra>",
         "legendgroup": "yoke",
         "marker": {
          "color": "#FFA15A",
          "pattern": {
           "shape": ""
          }
         },
         "name": "yoke",
         "offsetgroup": "yoke",
         "orientation": "h",
         "showlegend": true,
         "textposition": "auto",
         "type": "bar",
         "x": [
          2,
          null,
          null,
          null
         ],
         "xaxis": "x",
         "y": [
          "Matthew KPE Count",
          "Luke KPE Count",
          "Mark KPE Count",
          "John KPE Count"
         ],
         "yaxis": "y"
        },
        {
         "alignmentgroup": "True",
         "hovertemplate": "variable=adulterous generation<br>value=%{x}<br>index=%{y}<extra></extra>",
         "legendgroup": "adulterous generation",
         "marker": {
          "color": "#19d3f3",
          "pattern": {
           "shape": ""
          }
         },
         "name": "adulterous generation",
         "offsetgroup": "adulterous generation",
         "orientation": "h",
         "showlegend": true,
         "textposition": "auto",
         "type": "bar",
         "x": [
          2,
          null,
          null,
          null
         ],
         "xaxis": "x",
         "y": [
          "Matthew KPE Count",
          "Luke KPE Count",
          "Mark KPE Count",
          "John KPE Count"
         ],
         "yaxis": "y"
        },
        {
         "alignmentgroup": "True",
         "hovertemplate": "variable=prophet Jonah<br>value=%{x}<br>index=%{y}<extra></extra>",
         "legendgroup": "prophet Jonah",
         "marker": {
          "color": "#FF6692",
          "pattern": {
           "shape": ""
          }
         },
         "name": "prophet Jonah",
         "offsetgroup": "prophet Jonah",
         "orientation": "h",
         "showlegend": true,
         "textposition": "auto",
         "type": "bar",
         "x": [
          2,
          1,
          null,
          null
         ],
         "xaxis": "x",
         "y": [
          "Matthew KPE Count",
          "Luke KPE Count",
          "Mark KPE Count",
          "John KPE Count"
         ],
         "yaxis": "y"
        },
        {
         "alignmentgroup": "True",
         "hovertemplate": "variable=Sabbath<br>value=%{x}<br>index=%{y}<extra></extra>",
         "legendgroup": "Sabbath",
         "marker": {
          "color": "#B6E880",
          "pattern": {
           "shape": ""
          }
         },
         "name": "Sabbath",
         "offsetgroup": "Sabbath",
         "orientation": "h",
         "showlegend": true,
         "textposition": "auto",
         "type": "bar",
         "x": [
          2,
          1,
          3,
          4
         ],
         "xaxis": "x",
         "y": [
          "Matthew KPE Count",
          "Luke KPE Count",
          "Mark KPE Count",
          "John KPE Count"
         ],
         "yaxis": "y"
        },
        {
         "alignmentgroup": "True",
         "hovertemplate": "variable=pit<br>value=%{x}<br>index=%{y}<extra></extra>",
         "legendgroup": "pit",
         "marker": {
          "color": "#FF97FF",
          "pattern": {
           "shape": ""
          }
         },
         "name": "pit",
         "offsetgroup": "pit",
         "orientation": "h",
         "showlegend": true,
         "textposition": "auto",
         "type": "bar",
         "x": [
          2,
          2,
          1,
          null
         ],
         "xaxis": "x",
         "y": [
          "Matthew KPE Count",
          "Luke KPE Count",
          "Mark KPE Count",
          "John KPE Count"
         ],
         "yaxis": "y"
        },
        {
         "alignmentgroup": "True",
         "hovertemplate": "variable=account<br>value=%{x}<br>index=%{y}<extra></extra>",
         "legendgroup": "account",
         "marker": {
          "color": "#FECB52",
          "pattern": {
           "shape": ""
          }
         },
         "name": "account",
         "offsetgroup": "account",
         "orientation": "h",
         "showlegend": true,
         "textposition": "auto",
         "type": "bar",
         "x": [
          2,
          1,
          null,
          null
         ],
         "xaxis": "x",
         "y": [
          "Matthew KPE Count",
          "Luke KPE Count",
          "Mark KPE Count",
          "John KPE Count"
         ],
         "yaxis": "y"
        },
        {
         "alignmentgroup": "True",
         "hovertemplate": "variable=sign<br>value=%{x}<br>index=%{y}<extra></extra>",
         "legendgroup": "sign",
         "marker": {
          "color": "#636efa",
          "pattern": {
           "shape": ""
          }
         },
         "name": "sign",
         "offsetgroup": "sign",
         "orientation": "h",
         "showlegend": true,
         "textposition": "auto",
         "type": "bar",
         "x": [
          2,
          3,
          2,
          null
         ],
         "xaxis": "x",
         "y": [
          "Matthew KPE Count",
          "Luke KPE Count",
          "Mark KPE Count",
          "John KPE Count"
         ],
         "yaxis": "y"
        },
        {
         "alignmentgroup": "True",
         "hovertemplate": "variable=mustard seed<br>value=%{x}<br>index=%{y}<extra></extra>",
         "legendgroup": "mustard seed",
         "marker": {
          "color": "#EF553B",
          "pattern": {
           "shape": ""
          }
         },
         "name": "mustard seed",
         "offsetgroup": "mustard seed",
         "orientation": "h",
         "showlegend": true,
         "textposition": "auto",
         "type": "bar",
         "x": [
          2,
          2,
          1,
          null
         ],
         "xaxis": "x",
         "y": [
          "Matthew KPE Count",
          "Luke KPE Count",
          "Mark KPE Count",
          "John KPE Count"
         ],
         "yaxis": "y"
        },
        {
         "alignmentgroup": "True",
         "hovertemplate": "variable=parables<br>value=%{x}<br>index=%{y}<extra></extra>",
         "legendgroup": "parables",
         "marker": {
          "color": "#00cc96",
          "pattern": {
           "shape": ""
          }
         },
         "name": "parables",
         "offsetgroup": "parables",
         "orientation": "h",
         "showlegend": true,
         "textposition": "auto",
         "type": "bar",
         "x": [
          2,
          null,
          3,
          null
         ],
         "xaxis": "x",
         "y": [
          "Matthew KPE Count",
          "Luke KPE Count",
          "Mark KPE Count",
          "John KPE Count"
         ],
         "yaxis": "y"
        },
        {
         "alignmentgroup": "True",
         "hovertemplate": "variable=Isaiah<br>value=%{x}<br>index=%{y}<extra></extra>",
         "legendgroup": "Isaiah",
         "marker": {
          "color": "#ab63fa",
          "pattern": {
           "shape": ""
          }
         },
         "name": "Isaiah",
         "offsetgroup": "Isaiah",
         "orientation": "h",
         "showlegend": true,
         "textposition": "auto",
         "type": "bar",
         "x": [
          2,
          null,
          1,
          null
         ],
         "xaxis": "x",
         "y": [
          "Matthew KPE Count",
          "Luke KPE Count",
          "Mark KPE Count",
          "John KPE Count"
         ],
         "yaxis": "y"
        },
        {
         "alignmentgroup": "True",
         "hovertemplate": "variable=joy<br>value=%{x}<br>index=%{y}<extra></extra>",
         "legendgroup": "joy",
         "marker": {
          "color": "#FFA15A",
          "pattern": {
           "shape": ""
          }
         },
         "name": "joy",
         "offsetgroup": "joy",
         "orientation": "h",
         "showlegend": true,
         "textposition": "auto",
         "type": "bar",
         "x": [
          2,
          4,
          null,
          4
         ],
         "xaxis": "x",
         "y": [
          "Matthew KPE Count",
          "Luke KPE Count",
          "Mark KPE Count",
          "John KPE Count"
         ],
         "yaxis": "y"
        },
        {
         "alignmentgroup": "True",
         "hovertemplate": "variable=grain<br>value=%{x}<br>index=%{y}<extra></extra>",
         "legendgroup": "grain",
         "marker": {
          "color": "#19d3f3",
          "pattern": {
           "shape": ""
          }
         },
         "name": "grain",
         "offsetgroup": "grain",
         "orientation": "h",
         "showlegend": true,
         "textposition": "auto",
         "type": "bar",
         "x": [
          2,
          2,
          null,
          1
         ],
         "xaxis": "x",
         "y": [
          "Matthew KPE Count",
          "Luke KPE Count",
          "Mark KPE Count",
          "John KPE Count"
         ],
         "yaxis": "y"
        },
        {
         "alignmentgroup": "True",
         "hovertemplate": "variable=branches<br>value=%{x}<br>index=%{y}<extra></extra>",
         "legendgroup": "branches",
         "marker": {
          "color": "#FF6692",
          "pattern": {
           "shape": ""
          }
         },
         "name": "branches",
         "offsetgroup": "branches",
         "orientation": "h",
         "showlegend": true,
         "textposition": "auto",
         "type": "bar",
         "x": [
          2,
          1,
          null,
          1
         ],
         "xaxis": "x",
         "y": [
          "Matthew KPE Count",
          "Luke KPE Count",
          "Mark KPE Count",
          "John KPE Count"
         ],
         "yaxis": "y"
        },
        {
         "alignmentgroup": "True",
         "hovertemplate": "variable=leaven<br>value=%{x}<br>index=%{y}<extra></extra>",
         "legendgroup": "leaven",
         "marker": {
          "color": "#B6E880",
          "pattern": {
           "shape": ""
          }
         },
         "name": "leaven",
         "offsetgroup": "leaven",
         "orientation": "h",
         "showlegend": true,
         "textposition": "auto",
         "type": "bar",
         "x": [
          2,
          2,
          1,
          null
         ],
         "xaxis": "x",
         "y": [
          "Matthew KPE Count",
          "Luke KPE Count",
          "Mark KPE Count",
          "John KPE Count"
         ],
         "yaxis": "y"
        },
        {
         "alignmentgroup": "True",
         "hovertemplate": "variable=foundation<br>value=%{x}<br>index=%{y}<extra></extra>",
         "legendgroup": "foundation",
         "marker": {
          "color": "#FF97FF",
          "pattern": {
           "shape": ""
          }
         },
         "name": "foundation",
         "offsetgroup": "foundation",
         "orientation": "h",
         "showlegend": true,
         "textposition": "auto",
         "type": "bar",
         "x": [
          2,
          1,
          null,
          null
         ],
         "xaxis": "x",
         "y": [
          "Matthew KPE Count",
          "Luke KPE Count",
          "Mark KPE Count",
          "John KPE Count"
         ],
         "yaxis": "y"
        },
        {
         "alignmentgroup": "True",
         "hovertemplate": "variable=wickedness<br>value=%{x}<br>index=%{y}<extra></extra>",
         "legendgroup": "wickedness",
         "marker": {
          "color": "#FECB52",
          "pattern": {
           "shape": ""
          }
         },
         "name": "wickedness",
         "offsetgroup": "wickedness",
         "orientation": "h",
         "showlegend": true,
         "textposition": "auto",
         "type": "bar",
         "x": [
          2,
          null,
          1,
          null
         ],
         "xaxis": "x",
         "y": [
          "Matthew KPE Count",
          "Luke KPE Count",
          "Mark KPE Count",
          "John KPE Count"
         ],
         "yaxis": "y"
        },
        {
         "alignmentgroup": "True",
         "hovertemplate": "variable=five thousand men<br>value=%{x}<br>index=%{y}<extra></extra>",
         "legendgroup": "five thousand men",
         "marker": {
          "color": "#636efa",
          "pattern": {
           "shape": ""
          }
         },
         "name": "five thousand men",
         "offsetgroup": "five thousand men",
         "orientation": "h",
         "showlegend": true,
         "textposition": "auto",
         "type": "bar",
         "x": [
          2,
          1,
          null,
          null
         ],
         "xaxis": "x",
         "y": [
          "Matthew KPE Count",
          "Luke KPE Count",
          "Mark KPE Count",
          "John KPE Count"
         ],
         "yaxis": "y"
        },
        {
         "alignmentgroup": "True",
         "hovertemplate": "variable=five loaves<br>value=%{x}<br>index=%{y}<extra></extra>",
         "legendgroup": "five loaves",
         "marker": {
          "color": "#EF553B",
          "pattern": {
           "shape": ""
          }
         },
         "name": "five loaves",
         "offsetgroup": "five loaves",
         "orientation": "h",
         "showlegend": true,
         "textposition": "auto",
         "type": "bar",
         "x": [
          2,
          1,
          null,
          null
         ],
         "xaxis": "x",
         "y": [
          "Matthew KPE Count",
          "Luke KPE Count",
          "Mark KPE Count",
          "John KPE Count"
         ],
         "yaxis": "y"
        },
        {
         "alignmentgroup": "True",
         "hovertemplate": "variable=great multitude<br>value=%{x}<br>index=%{y}<extra></extra>",
         "legendgroup": "great multitude",
         "marker": {
          "color": "#00cc96",
          "pattern": {
           "shape": ""
          }
         },
         "name": "great multitude",
         "offsetgroup": "great multitude",
         "orientation": "h",
         "showlegend": true,
         "textposition": "auto",
         "type": "bar",
         "x": [
          2,
          null,
          3,
          3
         ],
         "xaxis": "x",
         "y": [
          "Matthew KPE Count",
          "Luke KPE Count",
          "Mark KPE Count",
          "John KPE Count"
         ],
         "yaxis": "y"
        },
        {
         "alignmentgroup": "True",
         "hovertemplate": "variable=midst<br>value=%{x}<br>index=%{y}<extra></extra>",
         "legendgroup": "midst",
         "marker": {
          "color": "#ab63fa",
          "pattern": {
           "shape": ""
          }
         },
         "name": "midst",
         "offsetgroup": "midst",
         "orientation": "h",
         "showlegend": true,
         "textposition": "auto",
         "type": "bar",
         "x": [
          2,
          6,
          2,
          1
         ],
         "xaxis": "x",
         "y": [
          "Matthew KPE Count",
          "Luke KPE Count",
          "Mark KPE Count",
          "John KPE Count"
         ],
         "yaxis": "y"
        },
        {
         "alignmentgroup": "True",
         "hovertemplate": "variable=fragments<br>value=%{x}<br>index=%{y}<extra></extra>",
         "legendgroup": "fragments",
         "marker": {
          "color": "#FFA15A",
          "pattern": {
           "shape": ""
          }
         },
         "name": "fragments",
         "offsetgroup": "fragments",
         "orientation": "h",
         "showlegend": true,
         "textposition": "auto",
         "type": "bar",
         "x": [
          2,
          1,
          1,
          null
         ],
         "xaxis": "x",
         "y": [
          "Matthew KPE Count",
          "Luke KPE Count",
          "Mark KPE Count",
          "John KPE Count"
         ],
         "yaxis": "y"
        },
        {
         "alignmentgroup": "True",
         "hovertemplate": "variable=fear<br>value=%{x}<br>index=%{y}<extra></extra>",
         "legendgroup": "fear",
         "marker": {
          "color": "#19d3f3",
          "pattern": {
           "shape": ""
          }
         },
         "name": "fear",
         "offsetgroup": "fear",
         "orientation": "h",
         "showlegend": true,
         "textposition": "auto",
         "type": "bar",
         "x": [
          2,
          6,
          3,
          1
         ],
         "xaxis": "x",
         "y": [
          "Matthew KPE Count",
          "Luke KPE Count",
          "Mark KPE Count",
          "John KPE Count"
         ],
         "yaxis": "y"
        },
        {
         "alignmentgroup": "True",
         "hovertemplate": "variable=four thousand men<br>value=%{x}<br>index=%{y}<extra></extra>",
         "legendgroup": "four thousand men",
         "marker": {
          "color": "#FF6692",
          "pattern": {
           "shape": ""
          }
         },
         "name": "four thousand men",
         "offsetgroup": "four thousand men",
         "orientation": "h",
         "showlegend": true,
         "textposition": "auto",
         "type": "bar",
         "x": [
          2,
          null,
          null,
          null
         ],
         "xaxis": "x",
         "y": [
          "Matthew KPE Count",
          "Luke KPE Count",
          "Mark KPE Count",
          "John KPE Count"
         ],
         "yaxis": "y"
        },
        {
         "alignmentgroup": "True",
         "hovertemplate": "variable=seven loaves<br>value=%{x}<br>index=%{y}<extra></extra>",
         "legendgroup": "seven loaves",
         "marker": {
          "color": "#B6E880",
          "pattern": {
           "shape": ""
          }
         },
         "name": "seven loaves",
         "offsetgroup": "seven loaves",
         "orientation": "h",
         "showlegend": true,
         "textposition": "auto",
         "type": "bar",
         "x": [
          2,
          null,
          1,
          null
         ],
         "xaxis": "x",
         "y": [
          "Matthew KPE Count",
          "Luke KPE Count",
          "Mark KPE Count",
          "John KPE Count"
         ],
         "yaxis": "y"
        },
        {
         "alignmentgroup": "True",
         "hovertemplate": "variable=blind<br>value=%{x}<br>index=%{y}<extra></extra>",
         "legendgroup": "blind",
         "marker": {
          "color": "#FF97FF",
          "pattern": {
           "shape": ""
          }
         },
         "name": "blind",
         "offsetgroup": "blind",
         "orientation": "h",
         "showlegend": true,
         "textposition": "auto",
         "type": "bar",
         "x": [
          2,
          2,
          null,
          null
         ],
         "xaxis": "x",
         "y": [
          "Matthew KPE Count",
          "Luke KPE Count",
          "Mark KPE Count",
          "John KPE Count"
         ],
         "yaxis": "y"
        },
        {
         "alignmentgroup": "True",
         "hovertemplate": "variable=lame<br>value=%{x}<br>index=%{y}<extra></extra>",
         "legendgroup": "lame",
         "marker": {
          "color": "#FECB52",
          "pattern": {
           "shape": ""
          }
         },
         "name": "lame",
         "offsetgroup": "lame",
         "orientation": "h",
         "showlegend": true,
         "textposition": "auto",
         "type": "bar",
         "x": [
          2,
          1,
          null,
          1
         ],
         "xaxis": "x",
         "y": [
          "Matthew KPE Count",
          "Luke KPE Count",
          "Mark KPE Count",
          "John KPE Count"
         ],
         "yaxis": "y"
        },
        {
         "alignmentgroup": "True",
         "hovertemplate": "variable=thanks<br>value=%{x}<br>index=%{y}<extra></extra>",
         "legendgroup": "thanks",
         "marker": {
          "color": "#636efa",
          "pattern": {
           "shape": ""
          }
         },
         "name": "thanks",
         "offsetgroup": "thanks",
         "orientation": "h",
         "showlegend": true,
         "textposition": "auto",
         "type": "bar",
         "x": [
          2,
          3,
          2,
          2
         ],
         "xaxis": "x",
         "y": [
          "Matthew KPE Count",
          "Luke KPE Count",
          "Mark KPE Count",
          "John KPE Count"
         ],
         "yaxis": "y"
        },
        {
         "alignmentgroup": "True",
         "hovertemplate": "variable=third day<br>value=%{x}<br>index=%{y}<extra></extra>",
         "legendgroup": "third day",
         "marker": {
          "color": "#EF553B",
          "pattern": {
           "shape": ""
          }
         },
         "name": "third day",
         "offsetgroup": "third day",
         "orientation": "h",
         "showlegend": true,
         "textposition": "auto",
         "type": "bar",
         "x": [
          2,
          4,
          1,
          1
         ],
         "xaxis": "x",
         "y": [
          "Matthew KPE Count",
          "Luke KPE Count",
          "Mark KPE Count",
          "John KPE Count"
         ],
         "yaxis": "y"
        },
        {
         "alignmentgroup": "True",
         "hovertemplate": "variable=appearance<br>value=%{x}<br>index=%{y}<extra></extra>",
         "legendgroup": "appearance",
         "marker": {
          "color": "#00cc96",
          "pattern": {
           "shape": ""
          }
         },
         "name": "appearance",
         "offsetgroup": "appearance",
         "orientation": "h",
         "showlegend": true,
         "textposition": "auto",
         "type": "bar",
         "x": [
          2,
          1,
          1,
          1
         ],
         "xaxis": "x",
         "y": [
          "Matthew KPE Count",
          "Luke KPE Count",
          "Mark KPE Count",
          "John KPE Count"
         ],
         "yaxis": "y"
        },
        {
         "alignmentgroup": "True",
         "hovertemplate": "variable=Church<br>value=%{x}<br>index=%{y}<extra></extra>",
         "legendgroup": "Church",
         "marker": {
          "color": "#ab63fa",
          "pattern": {
           "shape": ""
          }
         },
         "name": "Church",
         "offsetgroup": "Church",
         "orientation": "h",
         "showlegend": true,
         "textposition": "auto",
         "type": "bar",
         "x": [
          2,
          null,
          null,
          null
         ],
         "xaxis": "x",
         "y": [
          "Matthew KPE Count",
          "Luke KPE Count",
          "Mark KPE Count",
          "John KPE Count"
         ],
         "yaxis": "y"
        },
        {
         "alignmentgroup": "True",
         "hovertemplate": "variable=obstacle<br>value=%{x}<br>index=%{y}<extra></extra>",
         "legendgroup": "obstacle",
         "marker": {
          "color": "#FFA15A",
          "pattern": {
           "shape": ""
          }
         },
         "name": "obstacle",
         "offsetgroup": "obstacle",
         "orientation": "h",
         "showlegend": true,
         "textposition": "auto",
         "type": "bar",
         "x": [
          2,
          1,
          null,
          null
         ],
         "xaxis": "x",
         "y": [
          "Matthew KPE Count",
          "Luke KPE Count",
          "Mark KPE Count",
          "John KPE Count"
         ],
         "yaxis": "y"
        },
        {
         "alignmentgroup": "True",
         "hovertemplate": "variable=cross<br>value=%{x}<br>index=%{y}<extra></extra>",
         "legendgroup": "cross",
         "marker": {
          "color": "#19d3f3",
          "pattern": {
           "shape": ""
          }
         },
         "name": "cross",
         "offsetgroup": "cross",
         "orientation": "h",
         "showlegend": true,
         "textposition": "auto",
         "type": "bar",
         "x": [
          2,
          3,
          2,
          1
         ],
         "xaxis": "x",
         "y": [
          "Matthew KPE Count",
          "Luke KPE Count",
          "Mark KPE Count",
          "John KPE Count"
         ],
         "yaxis": "y"
        },
        {
         "alignmentgroup": "True",
         "hovertemplate": "variable=census tax<br>value=%{x}<br>index=%{y}<extra></extra>",
         "legendgroup": "census tax",
         "marker": {
          "color": "#FF6692",
          "pattern": {
           "shape": ""
          }
         },
         "name": "census tax",
         "offsetgroup": "census tax",
         "orientation": "h",
         "showlegend": true,
         "textposition": "auto",
         "type": "bar",
         "x": [
          2,
          null,
          null,
          null
         ],
         "xaxis": "x",
         "y": [
          "Matthew KPE Count",
          "Luke KPE Count",
          "Mark KPE Count",
          "John KPE Count"
         ],
         "yaxis": "y"
        },
        {
         "alignmentgroup": "True",
         "hovertemplate": "variable=snow<br>value=%{x}<br>index=%{y}<extra></extra>",
         "legendgroup": "snow",
         "marker": {
          "color": "#B6E880",
          "pattern": {
           "shape": ""
          }
         },
         "name": "snow",
         "offsetgroup": "snow",
         "orientation": "h",
         "showlegend": true,
         "textposition": "auto",
         "type": "bar",
         "x": [
          2,
          null,
          1,
          null
         ],
         "xaxis": "x",
         "y": [
          "Matthew KPE Count",
          "Luke KPE Count",
          "Mark KPE Count",
          "John KPE Count"
         ],
         "yaxis": "y"
        },
        {
         "alignmentgroup": "True",
         "hovertemplate": "variable=vision<br>value=%{x}<br>index=%{y}<extra></extra>",
         "legendgroup": "vision",
         "marker": {
          "color": "#FF97FF",
          "pattern": {
           "shape": ""
          }
         },
         "name": "vision",
         "offsetgroup": "vision",
         "orientation": "h",
         "showlegend": true,
         "textposition": "auto",
         "type": "bar",
         "x": [
          2,
          2,
          null,
          null
         ],
         "xaxis": "x",
         "y": [
          "Matthew KPE Count",
          "Luke KPE Count",
          "Mark KPE Count",
          "John KPE Count"
         ],
         "yaxis": "y"
        },
        {
         "alignmentgroup": "True",
         "hovertemplate": "variable=prayer<br>value=%{x}<br>index=%{y}<extra></extra>",
         "legendgroup": "prayer",
         "marker": {
          "color": "#FECB52",
          "pattern": {
           "shape": ""
          }
         },
         "name": "prayer",
         "offsetgroup": "prayer",
         "orientation": "h",
         "showlegend": true,
         "textposition": "auto",
         "type": "bar",
         "x": [
          2,
          4,
          2,
          null
         ],
         "xaxis": "x",
         "y": [
          "Matthew KPE Count",
          "Luke KPE Count",
          "Mark KPE Count",
          "John KPE Count"
         ],
         "yaxis": "y"
        },
        {
         "alignmentgroup": "True",
         "hovertemplate": "variable=eternal fire<br>value=%{x}<br>index=%{y}<extra></extra>",
         "legendgroup": "eternal fire",
         "marker": {
          "color": "#636efa",
          "pattern": {
           "shape": ""
          }
         },
         "name": "eternal fire",
         "offsetgroup": "eternal fire",
         "orientation": "h",
         "showlegend": true,
         "textposition": "auto",
         "type": "bar",
         "x": [
          2,
          null,
          null,
          null
         ],
         "xaxis": "x",
         "y": [
          "Matthew KPE Count",
          "Luke KPE Count",
          "Mark KPE Count",
          "John KPE Count"
         ],
         "yaxis": "y"
        },
        {
         "alignmentgroup": "True",
         "hovertemplate": "variable=beginning<br>value=%{x}<br>index=%{y}<extra></extra>",
         "legendgroup": "beginning",
         "marker": {
          "color": "#EF553B",
          "pattern": {
           "shape": ""
          }
         },
         "name": "beginning",
         "offsetgroup": "beginning",
         "orientation": "h",
         "showlegend": true,
         "textposition": "auto",
         "type": "bar",
         "x": [
          2,
          2,
          2,
          4
         ],
         "xaxis": "x",
         "y": [
          "Matthew KPE Count",
          "Luke KPE Count",
          "Mark KPE Count",
          "John KPE Count"
         ],
         "yaxis": "y"
        },
        {
         "alignmentgroup": "True",
         "hovertemplate": "variable=camel<br>value=%{x}<br>index=%{y}<extra></extra>",
         "legendgroup": "camel",
         "marker": {
          "color": "#00cc96",
          "pattern": {
           "shape": ""
          }
         },
         "name": "camel",
         "offsetgroup": "camel",
         "orientation": "h",
         "showlegend": true,
         "textposition": "auto",
         "type": "bar",
         "x": [
          2,
          1,
          1,
          null
         ],
         "xaxis": "x",
         "y": [
          "Matthew KPE Count",
          "Luke KPE Count",
          "Mark KPE Count",
          "John KPE Count"
         ],
         "yaxis": "y"
        },
        {
         "alignmentgroup": "True",
         "hovertemplate": "variable=resurrection<br>value=%{x}<br>index=%{y}<extra></extra>",
         "legendgroup": "resurrection",
         "marker": {
          "color": "#ab63fa",
          "pattern": {
           "shape": ""
          }
         },
         "name": "resurrection",
         "offsetgroup": "resurrection",
         "orientation": "h",
         "showlegend": true,
         "textposition": "auto",
         "type": "bar",
         "x": [
          2,
          2,
          1,
          2
         ],
         "xaxis": "x",
         "y": [
          "Matthew KPE Count",
          "Luke KPE Count",
          "Mark KPE Count",
          "John KPE Count"
         ],
         "yaxis": "y"
        },
        {
         "alignmentgroup": "True",
         "hovertemplate": "variable=fig tree<br>value=%{x}<br>index=%{y}<extra></extra>",
         "legendgroup": "fig tree",
         "marker": {
          "color": "#FFA15A",
          "pattern": {
           "shape": ""
          }
         },
         "name": "fig tree",
         "offsetgroup": "fig tree",
         "orientation": "h",
         "showlegend": true,
         "textposition": "auto",
         "type": "bar",
         "x": [
          2,
          2,
          2,
          1
         ],
         "xaxis": "x",
         "y": [
          "Matthew KPE Count",
          "Luke KPE Count",
          "Mark KPE Count",
          "John KPE Count"
         ],
         "yaxis": "y"
        },
        {
         "alignmentgroup": "True",
         "hovertemplate": "variable=two sons<br>value=%{x}<br>index=%{y}<extra></extra>",
         "legendgroup": "two sons",
         "marker": {
          "color": "#19d3f3",
          "pattern": {
           "shape": ""
          }
         },
         "name": "two sons",
         "offsetgroup": "two sons",
         "orientation": "h",
         "showlegend": true,
         "textposition": "auto",
         "type": "bar",
         "x": [
          2,
          1,
          null,
          null
         ],
         "xaxis": "x",
         "y": [
          "Matthew KPE Count",
          "Luke KPE Count",
          "Mark KPE Count",
          "John KPE Count"
         ],
         "yaxis": "y"
        },
        {
         "alignmentgroup": "True",
         "hovertemplate": "variable=other servants<br>value=%{x}<br>index=%{y}<extra></extra>",
         "legendgroup": "other servants",
         "marker": {
          "color": "#FF6692",
          "pattern": {
           "shape": ""
          }
         },
         "name": "other servants",
         "offsetgroup": "other servants",
         "orientation": "h",
         "showlegend": true,
         "textposition": "auto",
         "type": "bar",
         "x": [
          2,
          null,
          null,
          null
         ],
         "xaxis": "x",
         "y": [
          "Matthew KPE Count",
          "Luke KPE Count",
          "Mark KPE Count",
          "John KPE Count"
         ],
         "yaxis": "y"
        },
        {
         "alignmentgroup": "True",
         "hovertemplate": "variable=vendors<br>value=%{x}<br>index=%{y}<extra></extra>",
         "legendgroup": "vendors",
         "marker": {
          "color": "#B6E880",
          "pattern": {
           "shape": ""
          }
         },
         "name": "vendors",
         "offsetgroup": "vendors",
         "orientation": "h",
         "showlegend": true,
         "textposition": "auto",
         "type": "bar",
         "x": [
          2,
          null,
          1,
          null
         ],
         "xaxis": "x",
         "y": [
          "Matthew KPE Count",
          "Luke KPE Count",
          "Mark KPE Count",
          "John KPE Count"
         ],
         "yaxis": "y"
        },
        {
         "alignmentgroup": "True",
         "hovertemplate": "variable=Bethania<br>value=%{x}<br>index=%{y}<extra></extra>",
         "legendgroup": "Bethania",
         "marker": {
          "color": "#FF97FF",
          "pattern": {
           "shape": ""
          }
         },
         "name": "Bethania",
         "offsetgroup": "Bethania",
         "orientation": "h",
         "showlegend": true,
         "textposition": "auto",
         "type": "bar",
         "x": [
          2,
          1,
          2,
          3
         ],
         "xaxis": "x",
         "y": [
          "Matthew KPE Count",
          "Luke KPE Count",
          "Mark KPE Count",
          "John KPE Count"
         ],
         "yaxis": "y"
        },
        {
         "alignmentgroup": "True",
         "hovertemplate": "variable=leaves<br>value=%{x}<br>index=%{y}<extra></extra>",
         "legendgroup": "leaves",
         "marker": {
          "color": "#FECB52",
          "pattern": {
           "shape": ""
          }
         },
         "name": "leaves",
         "offsetgroup": "leaves",
         "orientation": "h",
         "showlegend": true,
         "textposition": "auto",
         "type": "bar",
         "x": [
          2,
          null,
          1,
          null
         ],
         "xaxis": "x",
         "y": [
          "Matthew KPE Count",
          "Luke KPE Count",
          "Mark KPE Count",
          "John KPE Count"
         ],
         "yaxis": "y"
        },
        {
         "alignmentgroup": "True",
         "hovertemplate": "variable=meal<br>value=%{x}<br>index=%{y}<extra></extra>",
         "legendgroup": "meal",
         "marker": {
          "color": "#636efa",
          "pattern": {
           "shape": ""
          }
         },
         "name": "meal",
         "offsetgroup": "meal",
         "orientation": "h",
         "showlegend": true,
         "textposition": "auto",
         "type": "bar",
         "x": [
          2,
          1,
          null,
          1
         ],
         "xaxis": "x",
         "y": [
          "Matthew KPE Count",
          "Luke KPE Count",
          "Mark KPE Count",
          "John KPE Count"
         ],
         "yaxis": "y"
        },
        {
         "alignmentgroup": "True",
         "hovertemplate": "variable=Master<br>value=%{x}<br>index=%{y}<extra></extra>",
         "legendgroup": "Master",
         "marker": {
          "color": "#EF553B",
          "pattern": {
           "shape": ""
          }
         },
         "name": "Master",
         "offsetgroup": "Master",
         "orientation": "h",
         "showlegend": true,
         "textposition": "auto",
         "type": "bar",
         "x": [
          2,
          null,
          null,
          null
         ],
         "xaxis": "x",
         "y": [
          "Matthew KPE Count",
          "Luke KPE Count",
          "Mark KPE Count",
          "John KPE Count"
         ],
         "yaxis": "y"
        },
        {
         "alignmentgroup": "True",
         "hovertemplate": "variable=dish<br>value=%{x}<br>index=%{y}<extra></extra>",
         "legendgroup": "dish",
         "marker": {
          "color": "#00cc96",
          "pattern": {
           "shape": ""
          }
         },
         "name": "dish",
         "offsetgroup": "dish",
         "orientation": "h",
         "showlegend": true,
         "textposition": "auto",
         "type": "bar",
         "x": [
          2,
          null,
          1,
          null
         ],
         "xaxis": "x",
         "y": [
          "Matthew KPE Count",
          "Luke KPE Count",
          "Mark KPE Count",
          "John KPE Count"
         ],
         "yaxis": "y"
        },
        {
         "alignmentgroup": "True",
         "hovertemplate": "variable=vigil<br>value=%{x}<br>index=%{y}<extra></extra>",
         "legendgroup": "vigil",
         "marker": {
          "color": "#ab63fa",
          "pattern": {
           "shape": ""
          }
         },
         "name": "vigil",
         "offsetgroup": "vigil",
         "orientation": "h",
         "showlegend": true,
         "textposition": "auto",
         "type": "bar",
         "x": [
          2,
          null,
          null,
          null
         ],
         "xaxis": "x",
         "y": [
          "Matthew KPE Count",
          "Luke KPE Count",
          "Mark KPE Count",
          "John KPE Count"
         ],
         "yaxis": "y"
        },
        {
         "alignmentgroup": "True",
         "hovertemplate": "variable=money<br>value=%{x}<br>index=%{y}<extra></extra>",
         "legendgroup": "money",
         "marker": {
          "color": "#FFA15A",
          "pattern": {
           "shape": ""
          }
         },
         "name": "money",
         "offsetgroup": "money",
         "orientation": "h",
         "showlegend": true,
         "textposition": "auto",
         "type": "bar",
         "x": [
          2,
          4,
          1,
          null
         ],
         "xaxis": "x",
         "y": [
          "Matthew KPE Count",
          "Luke KPE Count",
          "Mark KPE Count",
          "John KPE Count"
         ],
         "yaxis": "y"
        },
        {
         "alignmentgroup": "True",
         "hovertemplate": "variable=left<br>value=%{x}<br>index=%{y}<extra></extra>",
         "legendgroup": "left",
         "marker": {
          "color": "#19d3f3",
          "pattern": {
           "shape": ""
          }
         },
         "name": "left",
         "offsetgroup": "left",
         "orientation": "h",
         "showlegend": true,
         "textposition": "auto",
         "type": "bar",
         "x": [
          2,
          1,
          1,
          null
         ],
         "xaxis": "x",
         "y": [
          "Matthew KPE Count",
          "Luke KPE Count",
          "Mark KPE Count",
          "John KPE Count"
         ],
         "yaxis": "y"
        },
        {
         "alignmentgroup": "True",
         "hovertemplate": "variable=thirty pieces<br>value=%{x}<br>index=%{y}<extra></extra>",
         "legendgroup": "thirty pieces",
         "marker": {
          "color": "#FF6692",
          "pattern": {
           "shape": ""
          }
         },
         "name": "thirty pieces",
         "offsetgroup": "thirty pieces",
         "orientation": "h",
         "showlegend": true,
         "textposition": "auto",
         "type": "bar",
         "x": [
          2,
          null,
          null,
          null
         ],
         "xaxis": "x",
         "y": [
          "Matthew KPE Count",
          "Luke KPE Count",
          "Mark KPE Count",
          "John KPE Count"
         ],
         "yaxis": "y"
        },
        {
         "alignmentgroup": "True",
         "hovertemplate": "variable=silver<br>value=%{x}<br>index=%{y}<extra></extra>",
         "legendgroup": "silver",
         "marker": {
          "color": "#B6E880",
          "pattern": {
           "shape": ""
          }
         },
         "name": "silver",
         "offsetgroup": "silver",
         "orientation": "h",
         "showlegend": true,
         "textposition": "auto",
         "type": "bar",
         "x": [
          2,
          null,
          null,
          null
         ],
         "xaxis": "x",
         "y": [
          "Matthew KPE Count",
          "Luke KPE Count",
          "Mark KPE Count",
          "John KPE Count"
         ],
         "yaxis": "y"
        },
        {
         "alignmentgroup": "True",
         "hovertemplate": "variable=Judas<br>value=%{x}<br>index=%{y}<extra></extra>",
         "legendgroup": "Judas",
         "marker": {
          "color": "#FF97FF",
          "pattern": {
           "shape": ""
          }
         },
         "name": "Judas",
         "offsetgroup": "Judas",
         "orientation": "h",
         "showlegend": true,
         "textposition": "auto",
         "type": "bar",
         "x": [
          2,
          1,
          null,
          2
         ],
         "xaxis": "x",
         "y": [
          "Matthew KPE Count",
          "Luke KPE Count",
          "Mark KPE Count",
          "John KPE Count"
         ],
         "yaxis": "y"
        },
        {
         "alignmentgroup": "True",
         "hovertemplate": "variable=procurator<br>value=%{x}<br>index=%{y}<extra></extra>",
         "legendgroup": "procurator",
         "marker": {
          "color": "#FECB52",
          "pattern": {
           "shape": ""
          }
         },
         "name": "procurator",
         "offsetgroup": "procurator",
         "orientation": "h",
         "showlegend": true,
         "textposition": "auto",
         "type": "bar",
         "x": [
          2,
          1,
          null,
          null
         ],
         "xaxis": "x",
         "y": [
          "Matthew KPE Count",
          "Luke KPE Count",
          "Mark KPE Count",
          "John KPE Count"
         ],
         "yaxis": "y"
        },
        {
         "alignmentgroup": "True",
         "hovertemplate": "variable=vestment<br>value=%{x}<br>index=%{y}<extra></extra>",
         "legendgroup": "vestment",
         "marker": {
          "color": "#636efa",
          "pattern": {
           "shape": ""
          }
         },
         "name": "vestment",
         "offsetgroup": "vestment",
         "orientation": "h",
         "showlegend": true,
         "textposition": "auto",
         "type": "bar",
         "x": [
          2,
          1,
          null,
          null
         ],
         "xaxis": "x",
         "y": [
          "Matthew KPE Count",
          "Luke KPE Count",
          "Mark KPE Count",
          "John KPE Count"
         ],
         "yaxis": "y"
        },
        {
         "alignmentgroup": "True",
         "hovertemplate": "variable=fourteen generations<br>value=%{x}<br>index=%{y}<extra></extra>",
         "legendgroup": "fourteen generations",
         "marker": {
          "color": "#EF553B",
          "pattern": {
           "shape": ""
          }
         },
         "name": "fourteen generations",
         "offsetgroup": "fourteen generations",
         "orientation": "h",
         "showlegend": true,
         "textposition": "auto",
         "type": "bar",
         "x": [
          1,
          null,
          null,
          null
         ],
         "xaxis": "x",
         "y": [
          "Matthew KPE Count",
          "Luke KPE Count",
          "Mark KPE Count",
          "John KPE Count"
         ],
         "yaxis": "y"
        },
        {
         "alignmentgroup": "True",
         "hovertemplate": "variable=And Abijah<br>value=%{x}<br>index=%{y}<extra></extra>",
         "legendgroup": "And Abijah",
         "marker": {
          "color": "#00cc96",
          "pattern": {
           "shape": ""
          }
         },
         "name": "And Abijah",
         "offsetgroup": "And Abijah",
         "orientation": "h",
         "showlegend": true,
         "textposition": "auto",
         "type": "bar",
         "x": [
          1,
          null,
          null,
          null
         ],
         "xaxis": "x",
         "y": [
          "Matthew KPE Count",
          "Luke KPE Count",
          "Mark KPE Count",
          "John KPE Count"
         ],
         "yaxis": "y"
        },
        {
         "alignmentgroup": "True",
         "hovertemplate": "variable=And Abiud<br>value=%{x}<br>index=%{y}<extra></extra>",
         "legendgroup": "And Abiud",
         "marker": {
          "color": "#ab63fa",
          "pattern": {
           "shape": ""
          }
         },
         "name": "And Abiud",
         "offsetgroup": "And Abiud",
         "orientation": "h",
         "showlegend": true,
         "textposition": "auto",
         "type": "bar",
         "x": [
          1,
          null,
          null,
          null
         ],
         "xaxis": "x",
         "y": [
          "Matthew KPE Count",
          "Luke KPE Count",
          "Mark KPE Count",
          "John KPE Count"
         ],
         "yaxis": "y"
        },
        {
         "alignmentgroup": "True",
         "hovertemplate": "variable=And Zadok<br>value=%{x}<br>index=%{y}<extra></extra>",
         "legendgroup": "And Zadok",
         "marker": {
          "color": "#FFA15A",
          "pattern": {
           "shape": ""
          }
         },
         "name": "And Zadok",
         "offsetgroup": "And Zadok",
         "orientation": "h",
         "showlegend": true,
         "textposition": "auto",
         "type": "bar",
         "x": [
          1,
          null,
          null,
          null
         ],
         "xaxis": "x",
         "y": [
          "Matthew KPE Count",
          "Luke KPE Count",
          "Mark KPE Count",
          "John KPE Count"
         ],
         "yaxis": "y"
        },
        {
         "alignmentgroup": "True",
         "hovertemplate": "variable=king David<br>value=%{x}<br>index=%{y}<extra></extra>",
         "legendgroup": "king David",
         "marker": {
          "color": "#19d3f3",
          "pattern": {
           "shape": ""
          }
         },
         "name": "king David",
         "offsetgroup": "king David",
         "orientation": "h",
         "showlegend": true,
         "textposition": "auto",
         "type": "bar",
         "x": [
          1,
          null,
          null,
          null
         ],
         "xaxis": "x",
         "y": [
          "Matthew KPE Count",
          "Luke KPE Count",
          "Mark KPE Count",
          "John KPE Count"
         ],
         "yaxis": "y"
        },
        {
         "alignmentgroup": "True",
         "hovertemplate": "variable=Jesus Christ<br>value=%{x}<br>index=%{y}<extra></extra>",
         "legendgroup": "Jesus Christ",
         "marker": {
          "color": "#FF6692",
          "pattern": {
           "shape": ""
          }
         },
         "name": "Jesus Christ",
         "offsetgroup": "Jesus Christ",
         "orientation": "h",
         "showlegend": true,
         "textposition": "auto",
         "type": "bar",
         "x": [
          1,
          null,
          1,
          2
         ],
         "xaxis": "x",
         "y": [
          "Matthew KPE Count",
          "Luke KPE Count",
          "Mark KPE Count",
          "John KPE Count"
         ],
         "yaxis": "y"
        },
        {
         "alignmentgroup": "True",
         "hovertemplate": "variable=book<br>value=%{x}<br>index=%{y}<extra></extra>",
         "legendgroup": "book",
         "marker": {
          "color": "#B6E880",
          "pattern": {
           "shape": ""
          }
         },
         "name": "book",
         "offsetgroup": "book",
         "orientation": "h",
         "showlegend": true,
         "textposition": "auto",
         "type": "bar",
         "x": [
          1,
          2,
          1,
          null
         ],
         "xaxis": "x",
         "y": [
          "Matthew KPE Count",
          "Luke KPE Count",
          "Mark KPE Count",
          "John KPE Count"
         ],
         "yaxis": "y"
        },
        {
         "alignmentgroup": "True",
         "hovertemplate": "variable=lineage<br>value=%{x}<br>index=%{y}<extra></extra>",
         "legendgroup": "lineage",
         "marker": {
          "color": "#FF97FF",
          "pattern": {
           "shape": ""
          }
         },
         "name": "lineage",
         "offsetgroup": "lineage",
         "orientation": "h",
         "showlegend": true,
         "textposition": "auto",
         "type": "bar",
         "x": [
          1,
          1,
          1,
          null
         ],
         "xaxis": "x",
         "y": [
          "Matthew KPE Count",
          "Luke KPE Count",
          "Mark KPE Count",
          "John KPE Count"
         ],
         "yaxis": "y"
        },
        {
         "alignmentgroup": "True",
         "hovertemplate": "variable=Perez<br>value=%{x}<br>index=%{y}<extra></extra>",
         "legendgroup": "Perez",
         "marker": {
          "color": "#FECB52",
          "pattern": {
           "shape": ""
          }
         },
         "name": "Perez",
         "offsetgroup": "Perez",
         "orientation": "h",
         "showlegend": true,
         "textposition": "auto",
         "type": "bar",
         "x": [
          1,
          1,
          null,
          null
         ],
         "xaxis": "x",
         "y": [
          "Matthew KPE Count",
          "Luke KPE Count",
          "Mark KPE Count",
          "John KPE Count"
         ],
         "yaxis": "y"
        },
        {
         "alignmentgroup": "True",
         "hovertemplate": "variable=Zerah<br>value=%{x}<br>index=%{y}<extra></extra>",
         "legendgroup": "Zerah",
         "marker": {
          "color": "#636efa",
          "pattern": {
           "shape": ""
          }
         },
         "name": "Zerah",
         "offsetgroup": "Zerah",
         "orientation": "h",
         "showlegend": true,
         "textposition": "auto",
         "type": "bar",
         "x": [
          1,
          null,
          null,
          null
         ],
         "xaxis": "x",
         "y": [
          "Matthew KPE Count",
          "Luke KPE Count",
          "Mark KPE Count",
          "John KPE Count"
         ],
         "yaxis": "y"
        },
        {
         "alignmentgroup": "True",
         "hovertemplate": "variable=Tamar<br>value=%{x}<br>index=%{y}<extra></extra>",
         "legendgroup": "Tamar",
         "marker": {
          "color": "#EF553B",
          "pattern": {
           "shape": ""
          }
         },
         "name": "Tamar",
         "offsetgroup": "Tamar",
         "orientation": "h",
         "showlegend": true,
         "textposition": "auto",
         "type": "bar",
         "x": [
          1,
          null,
          null,
          null
         ],
         "xaxis": "x",
         "y": [
          "Matthew KPE Count",
          "Luke KPE Count",
          "Mark KPE Count",
          "John KPE Count"
         ],
         "yaxis": "y"
        },
        {
         "alignmentgroup": "True",
         "hovertemplate": "variable=Hezron<br>value=%{x}<br>index=%{y}<extra></extra>",
         "legendgroup": "Hezron",
         "marker": {
          "color": "#00cc96",
          "pattern": {
           "shape": ""
          }
         },
         "name": "Hezron",
         "offsetgroup": "Hezron",
         "orientation": "h",
         "showlegend": true,
         "textposition": "auto",
         "type": "bar",
         "x": [
          1,
          1,
          null,
          null
         ],
         "xaxis": "x",
         "y": [
          "Matthew KPE Count",
          "Luke KPE Count",
          "Mark KPE Count",
          "John KPE Count"
         ],
         "yaxis": "y"
        },
        {
         "alignmentgroup": "True",
         "hovertemplate": "variable=Ram<br>value=%{x}<br>index=%{y}<extra></extra>",
         "legendgroup": "Ram",
         "marker": {
          "color": "#ab63fa",
          "pattern": {
           "shape": ""
          }
         },
         "name": "Ram",
         "offsetgroup": "Ram",
         "orientation": "h",
         "showlegend": true,
         "textposition": "auto",
         "type": "bar",
         "x": [
          1,
          null,
          null,
          null
         ],
         "xaxis": "x",
         "y": [
          "Matthew KPE Count",
          "Luke KPE Count",
          "Mark KPE Count",
          "John KPE Count"
         ],
         "yaxis": "y"
        },
        {
         "alignmentgroup": "True",
         "hovertemplate": "variable=Amminadab<br>value=%{x}<br>index=%{y}<extra></extra>",
         "legendgroup": "Amminadab",
         "marker": {
          "color": "#FFA15A",
          "pattern": {
           "shape": ""
          }
         },
         "name": "Amminadab",
         "offsetgroup": "Amminadab",
         "orientation": "h",
         "showlegend": true,
         "textposition": "auto",
         "type": "bar",
         "x": [
          1,
          1,
          null,
          null
         ],
         "xaxis": "x",
         "y": [
          "Matthew KPE Count",
          "Luke KPE Count",
          "Mark KPE Count",
          "John KPE Count"
         ],
         "yaxis": "y"
        },
        {
         "alignmentgroup": "True",
         "hovertemplate": "variable=Nahshon<br>value=%{x}<br>index=%{y}<extra></extra>",
         "legendgroup": "Nahshon",
         "marker": {
          "color": "#19d3f3",
          "pattern": {
           "shape": ""
          }
         },
         "name": "Nahshon",
         "offsetgroup": "Nahshon",
         "orientation": "h",
         "showlegend": true,
         "textposition": "auto",
         "type": "bar",
         "x": [
          1,
          1,
          null,
          null
         ],
         "xaxis": "x",
         "y": [
          "Matthew KPE Count",
          "Luke KPE Count",
          "Mark KPE Count",
          "John KPE Count"
         ],
         "yaxis": "y"
        },
        {
         "alignmentgroup": "True",
         "hovertemplate": "variable=Salmon<br>value=%{x}<br>index=%{y}<extra></extra>",
         "legendgroup": "Salmon",
         "marker": {
          "color": "#FF6692",
          "pattern": {
           "shape": ""
          }
         },
         "name": "Salmon",
         "offsetgroup": "Salmon",
         "orientation": "h",
         "showlegend": true,
         "textposition": "auto",
         "type": "bar",
         "x": [
          1,
          1,
          null,
          null
         ],
         "xaxis": "x",
         "y": [
          "Matthew KPE Count",
          "Luke KPE Count",
          "Mark KPE Count",
          "John KPE Count"
         ],
         "yaxis": "y"
        },
        {
         "alignmentgroup": "True",
         "hovertemplate": "variable=Boaz<br>value=%{x}<br>index=%{y}<extra></extra>",
         "legendgroup": "Boaz",
         "marker": {
          "color": "#B6E880",
          "pattern": {
           "shape": ""
          }
         },
         "name": "Boaz",
         "offsetgroup": "Boaz",
         "orientation": "h",
         "showlegend": true,
         "textposition": "auto",
         "type": "bar",
         "x": [
          1,
          1,
          null,
          null
         ],
         "xaxis": "x",
         "y": [
          "Matthew KPE Count",
          "Luke KPE Count",
          "Mark KPE Count",
          "John KPE Count"
         ],
         "yaxis": "y"
        },
        {
         "alignmentgroup": "True",
         "hovertemplate": "variable=Rahab<br>value=%{x}<br>index=%{y}<extra></extra>",
         "legendgroup": "Rahab",
         "marker": {
          "color": "#FF97FF",
          "pattern": {
           "shape": ""
          }
         },
         "name": "Rahab",
         "offsetgroup": "Rahab",
         "orientation": "h",
         "showlegend": true,
         "textposition": "auto",
         "type": "bar",
         "x": [
          1,
          null,
          null,
          null
         ],
         "xaxis": "x",
         "y": [
          "Matthew KPE Count",
          "Luke KPE Count",
          "Mark KPE Count",
          "John KPE Count"
         ],
         "yaxis": "y"
        },
        {
         "alignmentgroup": "True",
         "hovertemplate": "variable=Ruth<br>value=%{x}<br>index=%{y}<extra></extra>",
         "legendgroup": "Ruth",
         "marker": {
          "color": "#FECB52",
          "pattern": {
           "shape": ""
          }
         },
         "name": "Ruth",
         "offsetgroup": "Ruth",
         "orientation": "h",
         "showlegend": true,
         "textposition": "auto",
         "type": "bar",
         "x": [
          1,
          null,
          null,
          null
         ],
         "xaxis": "x",
         "y": [
          "Matthew KPE Count",
          "Luke KPE Count",
          "Mark KPE Count",
          "John KPE Count"
         ],
         "yaxis": "y"
        },
        {
         "alignmentgroup": "True",
         "hovertemplate": "variable=Jesse<br>value=%{x}<br>index=%{y}<extra></extra>",
         "legendgroup": "Jesse",
         "marker": {
          "color": "#636efa",
          "pattern": {
           "shape": ""
          }
         },
         "name": "Jesse",
         "offsetgroup": "Jesse",
         "orientation": "h",
         "showlegend": true,
         "textposition": "auto",
         "type": "bar",
         "x": [
          1,
          1,
          null,
          null
         ],
         "xaxis": "x",
         "y": [
          "Matthew KPE Count",
          "Luke KPE Count",
          "Mark KPE Count",
          "John KPE Count"
         ],
         "yaxis": "y"
        },
        {
         "alignmentgroup": "True",
         "hovertemplate": "variable=Uriah<br>value=%{x}<br>index=%{y}<extra></extra>",
         "legendgroup": "Uriah",
         "marker": {
          "color": "#EF553B",
          "pattern": {
           "shape": ""
          }
         },
         "name": "Uriah",
         "offsetgroup": "Uriah",
         "orientation": "h",
         "showlegend": true,
         "textposition": "auto",
         "type": "bar",
         "x": [
          1,
          null,
          null,
          null
         ],
         "xaxis": "x",
         "y": [
          "Matthew KPE Count",
          "Luke KPE Count",
          "Mark KPE Count",
          "John KPE Count"
         ],
         "yaxis": "y"
        },
        {
         "alignmentgroup": "True",
         "hovertemplate": "variable=Rehoboam<br>value=%{x}<br>index=%{y}<extra></extra>",
         "legendgroup": "Rehoboam",
         "marker": {
          "color": "#00cc96",
          "pattern": {
           "shape": ""
          }
         },
         "name": "Rehoboam",
         "offsetgroup": "Rehoboam",
         "orientation": "h",
         "showlegend": true,
         "textposition": "auto",
         "type": "bar",
         "x": [
          1,
          null,
          null,
          null
         ],
         "xaxis": "x",
         "y": [
          "Matthew KPE Count",
          "Luke KPE Count",
          "Mark KPE Count",
          "John KPE Count"
         ],
         "yaxis": "y"
        },
        {
         "alignmentgroup": "True",
         "hovertemplate": "variable=Asa<br>value=%{x}<br>index=%{y}<extra></extra>",
         "legendgroup": "Asa",
         "marker": {
          "color": "#ab63fa",
          "pattern": {
           "shape": ""
          }
         },
         "name": "Asa",
         "offsetgroup": "Asa",
         "orientation": "h",
         "showlegend": true,
         "textposition": "auto",
         "type": "bar",
         "x": [
          1,
          null,
          null,
          null
         ],
         "xaxis": "x",
         "y": [
          "Matthew KPE Count",
          "Luke KPE Count",
          "Mark KPE Count",
          "John KPE Count"
         ],
         "yaxis": "y"
        },
        {
         "alignmentgroup": "True",
         "hovertemplate": "variable=Jehoshaphat<br>value=%{x}<br>index=%{y}<extra></extra>",
         "legendgroup": "Jehoshaphat",
         "marker": {
          "color": "#FFA15A",
          "pattern": {
           "shape": ""
          }
         },
         "name": "Jehoshaphat",
         "offsetgroup": "Jehoshaphat",
         "orientation": "h",
         "showlegend": true,
         "textposition": "auto",
         "type": "bar",
         "x": [
          1,
          null,
          null,
          null
         ],
         "xaxis": "x",
         "y": [
          "Matthew KPE Count",
          "Luke KPE Count",
          "Mark KPE Count",
          "John KPE Count"
         ],
         "yaxis": "y"
        },
        {
         "alignmentgroup": "True",
         "hovertemplate": "variable=Uzziah<br>value=%{x}<br>index=%{y}<extra></extra>",
         "legendgroup": "Uzziah",
         "marker": {
          "color": "#19d3f3",
          "pattern": {
           "shape": ""
          }
         },
         "name": "Uzziah",
         "offsetgroup": "Uzziah",
         "orientation": "h",
         "showlegend": true,
         "textposition": "auto",
         "type": "bar",
         "x": [
          1,
          null,
          null,
          null
         ],
         "xaxis": "x",
         "y": [
          "Matthew KPE Count",
          "Luke KPE Count",
          "Mark KPE Count",
          "John KPE Count"
         ],
         "yaxis": "y"
        },
        {
         "alignmentgroup": "True",
         "hovertemplate": "variable=Jotham<br>value=%{x}<br>index=%{y}<extra></extra>",
         "legendgroup": "Jotham",
         "marker": {
          "color": "#FF6692",
          "pattern": {
           "shape": ""
          }
         },
         "name": "Jotham",
         "offsetgroup": "Jotham",
         "orientation": "h",
         "showlegend": true,
         "textposition": "auto",
         "type": "bar",
         "x": [
          1,
          null,
          null,
          null
         ],
         "xaxis": "x",
         "y": [
          "Matthew KPE Count",
          "Luke KPE Count",
          "Mark KPE Count",
          "John KPE Count"
         ],
         "yaxis": "y"
        },
        {
         "alignmentgroup": "True",
         "hovertemplate": "variable=Ahaz<br>value=%{x}<br>index=%{y}<extra></extra>",
         "legendgroup": "Ahaz",
         "marker": {
          "color": "#B6E880",
          "pattern": {
           "shape": ""
          }
         },
         "name": "Ahaz",
         "offsetgroup": "Ahaz",
         "orientation": "h",
         "showlegend": true,
         "textposition": "auto",
         "type": "bar",
         "x": [
          1,
          null,
          null,
          null
         ],
         "xaxis": "x",
         "y": [
          "Matthew KPE Count",
          "Luke KPE Count",
          "Mark KPE Count",
          "John KPE Count"
         ],
         "yaxis": "y"
        },
        {
         "alignmentgroup": "True",
         "hovertemplate": "variable=Hezekiah<br>value=%{x}<br>index=%{y}<extra></extra>",
         "legendgroup": "Hezekiah",
         "marker": {
          "color": "#FF97FF",
          "pattern": {
           "shape": ""
          }
         },
         "name": "Hezekiah",
         "offsetgroup": "Hezekiah",
         "orientation": "h",
         "showlegend": true,
         "textposition": "auto",
         "type": "bar",
         "x": [
          1,
          null,
          null,
          null
         ],
         "xaxis": "x",
         "y": [
          "Matthew KPE Count",
          "Luke KPE Count",
          "Mark KPE Count",
          "John KPE Count"
         ],
         "yaxis": "y"
        },
        {
         "alignmentgroup": "True",
         "hovertemplate": "variable=Manasseh<br>value=%{x}<br>index=%{y}<extra></extra>",
         "legendgroup": "Manasseh",
         "marker": {
          "color": "#FECB52",
          "pattern": {
           "shape": ""
          }
         },
         "name": "Manasseh",
         "offsetgroup": "Manasseh",
         "orientation": "h",
         "showlegend": true,
         "textposition": "auto",
         "type": "bar",
         "x": [
          1,
          null,
          null,
          null
         ],
         "xaxis": "x",
         "y": [
          "Matthew KPE Count",
          "Luke KPE Count",
          "Mark KPE Count",
          "John KPE Count"
         ],
         "yaxis": "y"
        },
        {
         "alignmentgroup": "True",
         "hovertemplate": "variable=Amos<br>value=%{x}<br>index=%{y}<extra></extra>",
         "legendgroup": "Amos",
         "marker": {
          "color": "#636efa",
          "pattern": {
           "shape": ""
          }
         },
         "name": "Amos",
         "offsetgroup": "Amos",
         "orientation": "h",
         "showlegend": true,
         "textposition": "auto",
         "type": "bar",
         "x": [
          1,
          1,
          null,
          null
         ],
         "xaxis": "x",
         "y": [
          "Matthew KPE Count",
          "Luke KPE Count",
          "Mark KPE Count",
          "John KPE Count"
         ],
         "yaxis": "y"
        },
        {
         "alignmentgroup": "True",
         "hovertemplate": "variable=Josiah<br>value=%{x}<br>index=%{y}<extra></extra>",
         "legendgroup": "Josiah",
         "marker": {
          "color": "#EF553B",
          "pattern": {
           "shape": ""
          }
         },
         "name": "Josiah",
         "offsetgroup": "Josiah",
         "orientation": "h",
         "showlegend": true,
         "textposition": "auto",
         "type": "bar",
         "x": [
          1,
          null,
          null,
          null
         ],
         "xaxis": "x",
         "y": [
          "Matthew KPE Count",
          "Luke KPE Count",
          "Mark KPE Count",
          "John KPE Count"
         ],
         "yaxis": "y"
        },
        {
         "alignmentgroup": "True",
         "hovertemplate": "variable=Jechoniah<br>value=%{x}<br>index=%{y}<extra></extra>",
         "legendgroup": "Jechoniah",
         "marker": {
          "color": "#00cc96",
          "pattern": {
           "shape": ""
          }
         },
         "name": "Jechoniah",
         "offsetgroup": "Jechoniah",
         "orientation": "h",
         "showlegend": true,
         "textposition": "auto",
         "type": "bar",
         "x": [
          1,
          null,
          null,
          null
         ],
         "xaxis": "x",
         "y": [
          "Matthew KPE Count",
          "Luke KPE Count",
          "Mark KPE Count",
          "John KPE Count"
         ],
         "yaxis": "y"
        },
        {
         "alignmentgroup": "True",
         "hovertemplate": "variable=transmigration<br>value=%{x}<br>index=%{y}<extra></extra>",
         "legendgroup": "transmigration",
         "marker": {
          "color": "#ab63fa",
          "pattern": {
           "shape": ""
          }
         },
         "name": "transmigration",
         "offsetgroup": "transmigration",
         "orientation": "h",
         "showlegend": true,
         "textposition": "auto",
         "type": "bar",
         "x": [
          1,
          null,
          null,
          null
         ],
         "xaxis": "x",
         "y": [
          "Matthew KPE Count",
          "Luke KPE Count",
          "Mark KPE Count",
          "John KPE Count"
         ],
         "yaxis": "y"
        },
        {
         "alignmentgroup": "True",
         "hovertemplate": "variable=Babylon<br>value=%{x}<br>index=%{y}<extra></extra>",
         "legendgroup": "Babylon",
         "marker": {
          "color": "#FFA15A",
          "pattern": {
           "shape": ""
          }
         },
         "name": "Babylon",
         "offsetgroup": "Babylon",
         "orientation": "h",
         "showlegend": true,
         "textposition": "auto",
         "type": "bar",
         "x": [
          1,
          null,
          null,
          null
         ],
         "xaxis": "x",
         "y": [
          "Matthew KPE Count",
          "Luke KPE Count",
          "Mark KPE Count",
          "John KPE Count"
         ],
         "yaxis": "y"
        },
        {
         "alignmentgroup": "True",
         "hovertemplate": "variable=Shealtiel<br>value=%{x}<br>index=%{y}<extra></extra>",
         "legendgroup": "Shealtiel",
         "marker": {
          "color": "#19d3f3",
          "pattern": {
           "shape": ""
          }
         },
         "name": "Shealtiel",
         "offsetgroup": "Shealtiel",
         "orientation": "h",
         "showlegend": true,
         "textposition": "auto",
         "type": "bar",
         "x": [
          1,
          1,
          null,
          null
         ],
         "xaxis": "x",
         "y": [
          "Matthew KPE Count",
          "Luke KPE Count",
          "Mark KPE Count",
          "John KPE Count"
         ],
         "yaxis": "y"
        },
        {
         "alignmentgroup": "True",
         "hovertemplate": "variable=Zerubbabel<br>value=%{x}<br>index=%{y}<extra></extra>",
         "legendgroup": "Zerubbabel",
         "marker": {
          "color": "#FF6692",
          "pattern": {
           "shape": ""
          }
         },
         "name": "Zerubbabel",
         "offsetgroup": "Zerubbabel",
         "orientation": "h",
         "showlegend": true,
         "textposition": "auto",
         "type": "bar",
         "x": [
          1,
          1,
          null,
          null
         ],
         "xaxis": "x",
         "y": [
          "Matthew KPE Count",
          "Luke KPE Count",
          "Mark KPE Count",
          "John KPE Count"
         ],
         "yaxis": "y"
        },
        {
         "alignmentgroup": "True",
         "hovertemplate": "variable=Eliakim<br>value=%{x}<br>index=%{y}<extra></extra>",
         "legendgroup": "Eliakim",
         "marker": {
          "color": "#B6E880",
          "pattern": {
           "shape": ""
          }
         },
         "name": "Eliakim",
         "offsetgroup": "Eliakim",
         "orientation": "h",
         "showlegend": true,
         "textposition": "auto",
         "type": "bar",
         "x": [
          1,
          1,
          null,
          null
         ],
         "xaxis": "x",
         "y": [
          "Matthew KPE Count",
          "Luke KPE Count",
          "Mark KPE Count",
          "John KPE Count"
         ],
         "yaxis": "y"
        },
        {
         "alignmentgroup": "True",
         "hovertemplate": "variable=Azor<br>value=%{x}<br>index=%{y}<extra></extra>",
         "legendgroup": "Azor",
         "marker": {
          "color": "#FF97FF",
          "pattern": {
           "shape": ""
          }
         },
         "name": "Azor",
         "offsetgroup": "Azor",
         "orientation": "h",
         "showlegend": true,
         "textposition": "auto",
         "type": "bar",
         "x": [
          1,
          null,
          null,
          null
         ],
         "xaxis": "x",
         "y": [
          "Matthew KPE Count",
          "Luke KPE Count",
          "Mark KPE Count",
          "John KPE Count"
         ],
         "yaxis": "y"
        },
        {
         "alignmentgroup": "True",
         "hovertemplate": "variable=Achim<br>value=%{x}<br>index=%{y}<extra></extra>",
         "legendgroup": "Achim",
         "marker": {
          "color": "#FECB52",
          "pattern": {
           "shape": ""
          }
         },
         "name": "Achim",
         "offsetgroup": "Achim",
         "orientation": "h",
         "showlegend": true,
         "textposition": "auto",
         "type": "bar",
         "x": [
          1,
          null,
          null,
          null
         ],
         "xaxis": "x",
         "y": [
          "Matthew KPE Count",
          "Luke KPE Count",
          "Mark KPE Count",
          "John KPE Count"
         ],
         "yaxis": "y"
        },
        {
         "alignmentgroup": "True",
         "hovertemplate": "variable=Eliud<br>value=%{x}<br>index=%{y}<extra></extra>",
         "legendgroup": "Eliud",
         "marker": {
          "color": "#636efa",
          "pattern": {
           "shape": ""
          }
         },
         "name": "Eliud",
         "offsetgroup": "Eliud",
         "orientation": "h",
         "showlegend": true,
         "textposition": "auto",
         "type": "bar",
         "x": [
          1,
          null,
          null,
          null
         ],
         "xaxis": "x",
         "y": [
          "Matthew KPE Count",
          "Luke KPE Count",
          "Mark KPE Count",
          "John KPE Count"
         ],
         "yaxis": "y"
        },
        {
         "alignmentgroup": "True",
         "hovertemplate": "variable=Eleazar<br>value=%{x}<br>index=%{y}<extra></extra>",
         "legendgroup": "Eleazar",
         "marker": {
          "color": "#EF553B",
          "pattern": {
           "shape": ""
          }
         },
         "name": "Eleazar",
         "offsetgroup": "Eleazar",
         "orientation": "h",
         "showlegend": true,
         "textposition": "auto",
         "type": "bar",
         "x": [
          1,
          null,
          null,
          null
         ],
         "xaxis": "x",
         "y": [
          "Matthew KPE Count",
          "Luke KPE Count",
          "Mark KPE Count",
          "John KPE Count"
         ],
         "yaxis": "y"
        },
        {
         "alignmentgroup": "True",
         "hovertemplate": "variable=Matthan<br>value=%{x}<br>index=%{y}<extra></extra>",
         "legendgroup": "Matthan",
         "marker": {
          "color": "#00cc96",
          "pattern": {
           "shape": ""
          }
         },
         "name": "Matthan",
         "offsetgroup": "Matthan",
         "orientation": "h",
         "showlegend": true,
         "textposition": "auto",
         "type": "bar",
         "x": [
          1,
          null,
          null,
          null
         ],
         "xaxis": "x",
         "y": [
          "Matthew KPE Count",
          "Luke KPE Count",
          "Mark KPE Count",
          "John KPE Count"
         ],
         "yaxis": "y"
        },
        {
         "alignmentgroup": "True",
         "hovertemplate": "variable=husband<br>value=%{x}<br>index=%{y}<extra></extra>",
         "legendgroup": "husband",
         "marker": {
          "color": "#ab63fa",
          "pattern": {
           "shape": ""
          }
         },
         "name": "husband",
         "offsetgroup": "husband",
         "orientation": "h",
         "showlegend": true,
         "textposition": "auto",
         "type": "bar",
         "x": [
          1,
          2,
          null,
          null
         ],
         "xaxis": "x",
         "y": [
          "Matthew KPE Count",
          "Luke KPE Count",
          "Mark KPE Count",
          "John KPE Count"
         ],
         "yaxis": "y"
        },
        {
         "alignmentgroup": "True",
         "hovertemplate": "variable=procreation<br>value=%{x}<br>index=%{y}<extra></extra>",
         "legendgroup": "procreation",
         "marker": {
          "color": "#FFA15A",
          "pattern": {
           "shape": ""
          }
         },
         "name": "procreation",
         "offsetgroup": "procreation",
         "orientation": "h",
         "showlegend": true,
         "textposition": "auto",
         "type": "bar",
         "x": [
          1,
          null,
          null,
          null
         ],
         "xaxis": "x",
         "y": [
          "Matthew KPE Count",
          "Luke KPE Count",
          "Mark KPE Count",
          "John KPE Count"
         ],
         "yaxis": "y"
        },
        {
         "alignmentgroup": "True",
         "hovertemplate": "variable=birth<br>value=%{x}<br>index=%{y}<extra></extra>",
         "legendgroup": "birth",
         "marker": {
          "color": "#19d3f3",
          "pattern": {
           "shape": ""
          }
         },
         "name": "birth",
         "offsetgroup": "birth",
         "orientation": "h",
         "showlegend": true,
         "textposition": "auto",
         "type": "bar",
         "x": [
          1,
          1,
          1,
          2
         ],
         "xaxis": "x",
         "y": [
          "Matthew KPE Count",
          "Luke KPE Count",
          "Mark KPE Count",
          "John KPE Count"
         ],
         "yaxis": "y"
        },
        {
         "alignmentgroup": "True",
         "hovertemplate": "variable=salvation<br>value=%{x}<br>index=%{y}<extra></extra>",
         "legendgroup": "salvation",
         "marker": {
          "color": "#FF6692",
          "pattern": {
           "shape": ""
          }
         },
         "name": "salvation",
         "offsetgroup": "salvation",
         "orientation": "h",
         "showlegend": true,
         "textposition": "auto",
         "type": "bar",
         "x": [
          1,
          3,
          null,
          1
         ],
         "xaxis": "x",
         "y": [
          "Matthew KPE Count",
          "Luke KPE Count",
          "Mark KPE Count",
          "John KPE Count"
         ],
         "yaxis": "y"
        },
        {
         "alignmentgroup": "True",
         "hovertemplate": "variable=virgin<br>value=%{x}<br>index=%{y}<extra></extra>",
         "legendgroup": "virgin",
         "marker": {
          "color": "#B6E880",
          "pattern": {
           "shape": ""
          }
         },
         "name": "virgin",
         "offsetgroup": "virgin",
         "orientation": "h",
         "showlegend": true,
         "textposition": "auto",
         "type": "bar",
         "x": [
          1,
          1,
          null,
          null
         ],
         "xaxis": "x",
         "y": [
          "Matthew KPE Count",
          "Luke KPE Count",
          "Mark KPE Count",
          "John KPE Count"
         ],
         "yaxis": "y"
        },
        {
         "alignmentgroup": "True",
         "hovertemplate": "variable=firstborn<br>value=%{x}<br>index=%{y}<extra></extra>",
         "legendgroup": "firstborn",
         "marker": {
          "color": "#FF97FF",
          "pattern": {
           "shape": ""
          }
         },
         "name": "firstborn",
         "offsetgroup": "firstborn",
         "orientation": "h",
         "showlegend": true,
         "textposition": "auto",
         "type": "bar",
         "x": [
          1,
          null,
          null,
          null
         ],
         "xaxis": "x",
         "y": [
          "Matthew KPE Count",
          "Luke KPE Count",
          "Mark KPE Count",
          "John KPE Count"
         ],
         "yaxis": "y"
        },
        {
         "alignmentgroup": "True",
         "hovertemplate": "variable=two years<br>value=%{x}<br>index=%{y}<extra></extra>",
         "legendgroup": "two years",
         "marker": {
          "color": "#FECB52",
          "pattern": {
           "shape": ""
          }
         },
         "name": "two years",
         "offsetgroup": "two years",
         "orientation": "h",
         "showlegend": true,
         "textposition": "auto",
         "type": "bar",
         "x": [
          1,
          null,
          null,
          null
         ],
         "xaxis": "x",
         "y": [
          "Matthew KPE Count",
          "Luke KPE Count",
          "Mark KPE Count",
          "John KPE Count"
         ],
         "yaxis": "y"
        },
        {
         "alignmentgroup": "True",
         "hovertemplate": "variable=great weeping<br>value=%{x}<br>index=%{y}<extra></extra>",
         "legendgroup": "great weeping",
         "marker": {
          "color": "#636efa",
          "pattern": {
           "shape": ""
          }
         },
         "name": "great weeping",
         "offsetgroup": "great weeping",
         "orientation": "h",
         "showlegend": true,
         "textposition": "auto",
         "type": "bar",
         "x": [
          1,
          null,
          null,
          null
         ],
         "xaxis": "x",
         "y": [
          "Matthew KPE Count",
          "Luke KPE Count",
          "Mark KPE Count",
          "John KPE Count"
         ],
         "yaxis": "y"
        },
        {
         "alignmentgroup": "True",
         "hovertemplate": "variable=king Herod<br>value=%{x}<br>index=%{y}<extra></extra>",
         "legendgroup": "king Herod",
         "marker": {
          "color": "#EF553B",
          "pattern": {
           "shape": ""
          }
         },
         "name": "king Herod",
         "offsetgroup": "king Herod",
         "orientation": "h",
         "showlegend": true,
         "textposition": "auto",
         "type": "bar",
         "x": [
          1,
          null,
          1,
          null
         ],
         "xaxis": "x",
         "y": [
          "Matthew KPE Count",
          "Luke KPE Count",
          "Mark KPE Count",
          "John KPE Count"
         ],
         "yaxis": "y"
        },
        {
         "alignmentgroup": "True",
         "hovertemplate": "variable=Bethlehem<br>value=%{x}<br>index=%{y}<extra></extra>",
         "legendgroup": "Bethlehem",
         "marker": {
          "color": "#00cc96",
          "pattern": {
           "shape": ""
          }
         },
         "name": "Bethlehem",
         "offsetgroup": "Bethlehem",
         "orientation": "h",
         "showlegend": true,
         "textposition": "auto",
         "type": "bar",
         "x": [
          1,
          1,
          null,
          1
         ],
         "xaxis": "x",
         "y": [
          "Matthew KPE Count",
          "Luke KPE Count",
          "Mark KPE Count",
          "John KPE Count"
         ],
         "yaxis": "y"
        },
        {
         "alignmentgroup": "True",
         "hovertemplate": "variable=Magi<br>value=%{x}<br>index=%{y}<extra></extra>",
         "legendgroup": "Magi",
         "marker": {
          "color": "#ab63fa",
          "pattern": {
           "shape": ""
          }
         },
         "name": "Magi",
         "offsetgroup": "Magi",
         "orientation": "h",
         "showlegend": true,
         "textposition": "auto",
         "type": "bar",
         "x": [
          1,
          null,
          null,
          null
         ],
         "xaxis": "x",
         "y": [
          "Matthew KPE Count",
          "Luke KPE Count",
          "Mark KPE Count",
          "John KPE Count"
         ],
         "yaxis": "y"
        },
        {
         "alignmentgroup": "True",
         "hovertemplate": "variable=star<br>value=%{x}<br>index=%{y}<extra></extra>",
         "legendgroup": "star",
         "marker": {
          "color": "#FFA15A",
          "pattern": {
           "shape": ""
          }
         },
         "name": "star",
         "offsetgroup": "star",
         "orientation": "h",
         "showlegend": true,
         "textposition": "auto",
         "type": "bar",
         "x": [
          1,
          null,
          null,
          null
         ],
         "xaxis": "x",
         "y": [
          "Matthew KPE Count",
          "Luke KPE Count",
          "Mark KPE Count",
          "John KPE Count"
         ],
         "yaxis": "y"
        },
        {
         "alignmentgroup": "True",
         "hovertemplate": "variable=questions<br>value=%{x}<br>index=%{y}<extra></extra>",
         "legendgroup": "questions",
         "marker": {
          "color": "#19d3f3",
          "pattern": {
           "shape": ""
          }
         },
         "name": "questions",
         "offsetgroup": "questions",
         "orientation": "h",
         "showlegend": true,
         "textposition": "auto",
         "type": "bar",
         "x": [
          1,
          null,
          null,
          null
         ],
         "xaxis": "x",
         "y": [
          "Matthew KPE Count",
          "Luke KPE Count",
          "Mark KPE Count",
          "John KPE Count"
         ],
         "yaxis": "y"
        },
        {
         "alignmentgroup": "True",
         "hovertemplate": "variable=child<br>value=%{x}<br>index=%{y}<extra></extra>",
         "legendgroup": "child",
         "marker": {
          "color": "#FF6692",
          "pattern": {
           "shape": ""
          }
         },
         "name": "child",
         "offsetgroup": "child",
         "orientation": "h",
         "showlegend": true,
         "textposition": "auto",
         "type": "bar",
         "x": [
          1,
          2,
          1,
          1
         ],
         "xaxis": "x",
         "y": [
          "Matthew KPE Count",
          "Luke KPE Count",
          "Mark KPE Count",
          "John KPE Count"
         ],
         "yaxis": "y"
        },
        {
         "alignmentgroup": "True",
         "hovertemplate": "variable=gifts<br>value=%{x}<br>index=%{y}<extra></extra>",
         "legendgroup": "gifts",
         "marker": {
          "color": "#B6E880",
          "pattern": {
           "shape": ""
          }
         },
         "name": "gifts",
         "offsetgroup": "gifts",
         "orientation": "h",
         "showlegend": true,
         "textposition": "auto",
         "type": "bar",
         "x": [
          1,
          1,
          null,
          null
         ],
         "xaxis": "x",
         "y": [
          "Matthew KPE Count",
          "Luke KPE Count",
          "Mark KPE Count",
          "John KPE Count"
         ],
         "yaxis": "y"
        },
        {
         "alignmentgroup": "True",
         "hovertemplate": "variable=frankincense<br>value=%{x}<br>index=%{y}<extra></extra>",
         "legendgroup": "frankincense",
         "marker": {
          "color": "#FF97FF",
          "pattern": {
           "shape": ""
          }
         },
         "name": "frankincense",
         "offsetgroup": "frankincense",
         "orientation": "h",
         "showlegend": true,
         "textposition": "auto",
         "type": "bar",
         "x": [
          1,
          null,
          null,
          null
         ],
         "xaxis": "x",
         "y": [
          "Matthew KPE Count",
          "Luke KPE Count",
          "Mark KPE Count",
          "John KPE Count"
         ],
         "yaxis": "y"
        },
        {
         "alignmentgroup": "True",
         "hovertemplate": "variable=myrrh<br>value=%{x}<br>index=%{y}<extra></extra>",
         "legendgroup": "myrrh",
         "marker": {
          "color": "#FECB52",
          "pattern": {
           "shape": ""
          }
         },
         "name": "myrrh",
         "offsetgroup": "myrrh",
         "orientation": "h",
         "showlegend": true,
         "textposition": "auto",
         "type": "bar",
         "x": [
          1,
          null,
          1,
          null
         ],
         "xaxis": "x",
         "y": [
          "Matthew KPE Count",
          "Luke KPE Count",
          "Mark KPE Count",
          "John KPE Count"
         ],
         "yaxis": "y"
        },
        {
         "alignmentgroup": "True",
         "hovertemplate": "variable=Egypt<br>value=%{x}<br>index=%{y}<extra></extra>",
         "legendgroup": "Egypt",
         "marker": {
          "color": "#636efa",
          "pattern": {
           "shape": ""
          }
         },
         "name": "Egypt",
         "offsetgroup": "Egypt",
         "orientation": "h",
         "showlegend": true,
         "textposition": "auto",
         "type": "bar",
         "x": [
          1,
          null,
          null,
          null
         ],
         "xaxis": "x",
         "y": [
          "Matthew KPE Count",
          "Luke KPE Count",
          "Mark KPE Count",
          "John KPE Count"
         ],
         "yaxis": "y"
        },
        {
         "alignmentgroup": "True",
         "hovertemplate": "variable=Ramah<br>value=%{x}<br>index=%{y}<extra></extra>",
         "legendgroup": "Ramah",
         "marker": {
          "color": "#EF553B",
          "pattern": {
           "shape": ""
          }
         },
         "name": "Ramah",
         "offsetgroup": "Ramah",
         "orientation": "h",
         "showlegend": true,
         "textposition": "auto",
         "type": "bar",
         "x": [
          1,
          null,
          null,
          null
         ],
         "xaxis": "x",
         "y": [
          "Matthew KPE Count",
          "Luke KPE Count",
          "Mark KPE Count",
          "John KPE Count"
         ],
         "yaxis": "y"
        },
        {
         "alignmentgroup": "True",
         "hovertemplate": "variable=Rachel<br>value=%{x}<br>index=%{y}<extra></extra>",
         "legendgroup": "Rachel",
         "marker": {
          "color": "#00cc96",
          "pattern": {
           "shape": ""
          }
         },
         "name": "Rachel",
         "offsetgroup": "Rachel",
         "orientation": "h",
         "showlegend": true,
         "textposition": "auto",
         "type": "bar",
         "x": [
          1,
          null,
          null,
          null
         ],
         "xaxis": "x",
         "y": [
          "Matthew KPE Count",
          "Luke KPE Count",
          "Mark KPE Count",
          "John KPE Count"
         ],
         "yaxis": "y"
        },
        {
         "alignmentgroup": "True",
         "hovertemplate": "variable=Archelaus<br>value=%{x}<br>index=%{y}<extra></extra>",
         "legendgroup": "Archelaus",
         "marker": {
          "color": "#ab63fa",
          "pattern": {
           "shape": ""
          }
         },
         "name": "Archelaus",
         "offsetgroup": "Archelaus",
         "orientation": "h",
         "showlegend": true,
         "textposition": "auto",
         "type": "bar",
         "x": [
          1,
          null,
          null,
          null
         ],
         "xaxis": "x",
         "y": [
          "Matthew KPE Count",
          "Luke KPE Count",
          "Mark KPE Count",
          "John KPE Count"
         ],
         "yaxis": "y"
        },
        {
         "alignmentgroup": "True",
         "hovertemplate": "variable=leather belt<br>value=%{x}<br>index=%{y}<extra></extra>",
         "legendgroup": "leather belt",
         "marker": {
          "color": "#FFA15A",
          "pattern": {
           "shape": ""
          }
         },
         "name": "leather belt",
         "offsetgroup": "leather belt",
         "orientation": "h",
         "showlegend": true,
         "textposition": "auto",
         "type": "bar",
         "x": [
          1,
          null,
          1,
          null
         ],
         "xaxis": "x",
         "y": [
          "Matthew KPE Count",
          "Luke KPE Count",
          "Mark KPE Count",
          "John KPE Count"
         ],
         "yaxis": "y"
        },
        {
         "alignmentgroup": "True",
         "hovertemplate": "variable=wild honey<br>value=%{x}<br>index=%{y}<extra></extra>",
         "legendgroup": "wild honey",
         "marker": {
          "color": "#19d3f3",
          "pattern": {
           "shape": ""
          }
         },
         "name": "wild honey",
         "offsetgroup": "wild honey",
         "orientation": "h",
         "showlegend": true,
         "textposition": "auto",
         "type": "bar",
         "x": [
          1,
          null,
          1,
          null
         ],
         "xaxis": "x",
         "y": [
          "Matthew KPE Count",
          "Luke KPE Count",
          "Mark KPE Count",
          "John KPE Count"
         ],
         "yaxis": "y"
        },
        {
         "alignmentgroup": "True",
         "hovertemplate": "variable=entire region<br>value=%{x}<br>index=%{y}<extra></extra>",
         "legendgroup": "entire region",
         "marker": {
          "color": "#FF6692",
          "pattern": {
           "shape": ""
          }
         },
         "name": "entire region",
         "offsetgroup": "entire region",
         "orientation": "h",
         "showlegend": true,
         "textposition": "auto",
         "type": "bar",
         "x": [
          1,
          2,
          1,
          null
         ],
         "xaxis": "x",
         "y": [
          "Matthew KPE Count",
          "Luke KPE Count",
          "Mark KPE Count",
          "John KPE Count"
         ],
         "yaxis": "y"
        },
        {
         "alignmentgroup": "True",
         "hovertemplate": "variable=approaching wrath<br>value=%{x}<br>index=%{y}<extra></extra>",
         "legendgroup": "approaching wrath",
         "marker": {
          "color": "#B6E880",
          "pattern": {
           "shape": ""
          }
         },
         "name": "approaching wrath",
         "offsetgroup": "approaching wrath",
         "orientation": "h",
         "showlegend": true,
         "textposition": "auto",
         "type": "bar",
         "x": [
          1,
          1,
          null,
          null
         ],
         "xaxis": "x",
         "y": [
          "Matthew KPE Count",
          "Luke KPE Count",
          "Mark KPE Count",
          "John KPE Count"
         ],
         "yaxis": "y"
        },
        {
         "alignmentgroup": "True",
         "hovertemplate": "variable=winnowing fan<br>value=%{x}<br>index=%{y}<extra></extra>",
         "legendgroup": "winnowing fan",
         "marker": {
          "color": "#FF97FF",
          "pattern": {
           "shape": ""
          }
         },
         "name": "winnowing fan",
         "offsetgroup": "winnowing fan",
         "orientation": "h",
         "showlegend": true,
         "textposition": "auto",
         "type": "bar",
         "x": [
          1,
          1,
          null,
          null
         ],
         "xaxis": "x",
         "y": [
          "Matthew KPE Count",
          "Luke KPE Count",
          "Mark KPE Count",
          "John KPE Count"
         ],
         "yaxis": "y"
        },
        {
         "alignmentgroup": "True",
         "hovertemplate": "variable=threshing floor<br>value=%{x}<br>index=%{y}<extra></extra>",
         "legendgroup": "threshing floor",
         "marker": {
          "color": "#FECB52",
          "pattern": {
           "shape": ""
          }
         },
         "name": "threshing floor",
         "offsetgroup": "threshing floor",
         "orientation": "h",
         "showlegend": true,
         "textposition": "auto",
         "type": "bar",
         "x": [
          1,
          1,
          null,
          null
         ],
         "xaxis": "x",
         "y": [
          "Matthew KPE Count",
          "Luke KPE Count",
          "Mark KPE Count",
          "John KPE Count"
         ],
         "yaxis": "y"
        },
        {
         "alignmentgroup": "True",
         "hovertemplate": "variable=same John<br>value=%{x}<br>index=%{y}<extra></extra>",
         "legendgroup": "same John",
         "marker": {
          "color": "#636efa",
          "pattern": {
           "shape": ""
          }
         },
         "name": "same John",
         "offsetgroup": "same John",
         "orientation": "h",
         "showlegend": true,
         "textposition": "auto",
         "type": "bar",
         "x": [
          1,
          null,
          null,
          null
         ],
         "xaxis": "x",
         "y": [
          "Matthew KPE Count",
          "Luke KPE Count",
          "Mark KPE Count",
          "John KPE Count"
         ],
         "yaxis": "y"
        },
        {
         "alignmentgroup": "True",
         "hovertemplate": "variable=unquenchable fire<br>value=%{x}<br>index=%{y}<extra></extra>",
         "legendgroup": "unquenchable fire",
         "marker": {
          "color": "#EF553B",
          "pattern": {
           "shape": ""
          }
         },
         "name": "unquenchable fire",
         "offsetgroup": "unquenchable fire",
         "orientation": "h",
         "showlegend": true,
         "textposition": "auto",
         "type": "bar",
         "x": [
          1,
          1,
          null,
          null
         ],
         "xaxis": "x",
         "y": [
          "Matthew KPE Count",
          "Luke KPE Count",
          "Mark KPE Count",
          "John KPE Count"
         ],
         "yaxis": "y"
        },
        {
         "alignmentgroup": "True",
         "hovertemplate": "variable=paths<br>value=%{x}<br>index=%{y}<extra></extra>",
         "legendgroup": "paths",
         "marker": {
          "color": "#00cc96",
          "pattern": {
           "shape": ""
          }
         },
         "name": "paths",
         "offsetgroup": "paths",
         "orientation": "h",
         "showlegend": true,
         "textposition": "auto",
         "type": "bar",
         "x": [
          1,
          null,
          1,
          null
         ],
         "xaxis": "x",
         "y": [
          "Matthew KPE Count",
          "Luke KPE Count",
          "Mark KPE Count",
          "John KPE Count"
         ],
         "yaxis": "y"
        },
        {
         "alignmentgroup": "True",
         "hovertemplate": "variable=hair<br>value=%{x}<br>index=%{y}<extra></extra>",
         "legendgroup": "hair",
         "marker": {
          "color": "#ab63fa",
          "pattern": {
           "shape": ""
          }
         },
         "name": "hair",
         "offsetgroup": "hair",
         "orientation": "h",
         "showlegend": true,
         "textposition": "auto",
         "type": "bar",
         "x": [
          1,
          2,
          1,
          2
         ],
         "xaxis": "x",
         "y": [
          "Matthew KPE Count",
          "Luke KPE Count",
          "Mark KPE Count",
          "John KPE Count"
         ],
         "yaxis": "y"
        },
        {
         "alignmentgroup": "True",
         "hovertemplate": "variable=camels<br>value=%{x}<br>index=%{y}<extra></extra>",
         "legendgroup": "camels",
         "marker": {
          "color": "#FFA15A",
          "pattern": {
           "shape": ""
          }
         },
         "name": "camels",
         "offsetgroup": "camels",
         "orientation": "h",
         "showlegend": true,
         "textposition": "auto",
         "type": "bar",
         "x": [
          1,
          null,
          null,
          null
         ],
         "xaxis": "x",
         "y": [
          "Matthew KPE Count",
          "Luke KPE Count",
          "Mark KPE Count",
          "John KPE Count"
         ],
         "yaxis": "y"
        },
        {
         "alignmentgroup": "True",
         "hovertemplate": "variable=waist<br>value=%{x}<br>index=%{y}<extra></extra>",
         "legendgroup": "waist",
         "marker": {
          "color": "#19d3f3",
          "pattern": {
           "shape": ""
          }
         },
         "name": "waist",
         "offsetgroup": "waist",
         "orientation": "h",
         "showlegend": true,
         "textposition": "auto",
         "type": "bar",
         "x": [
          1,
          null,
          1,
          null
         ],
         "xaxis": "x",
         "y": [
          "Matthew KPE Count",
          "Luke KPE Count",
          "Mark KPE Count",
          "John KPE Count"
         ],
         "yaxis": "y"
        },
        {
         "alignmentgroup": "True",
         "hovertemplate": "variable=locusts<br>value=%{x}<br>index=%{y}<extra></extra>",
         "legendgroup": "locusts",
         "marker": {
          "color": "#FF6692",
          "pattern": {
           "shape": ""
          }
         },
         "name": "locusts",
         "offsetgroup": "locusts",
         "orientation": "h",
         "showlegend": true,
         "textposition": "auto",
         "type": "bar",
         "x": [
          1,
          null,
          1,
          null
         ],
         "xaxis": "x",
         "y": [
          "Matthew KPE Count",
          "Luke KPE Count",
          "Mark KPE Count",
          "John KPE Count"
         ],
         "yaxis": "y"
        },
        {
         "alignmentgroup": "True",
         "hovertemplate": "variable=axe<br>value=%{x}<br>index=%{y}<extra></extra>",
         "legendgroup": "axe",
         "marker": {
          "color": "#B6E880",
          "pattern": {
           "shape": ""
          }
         },
         "name": "axe",
         "offsetgroup": "axe",
         "orientation": "h",
         "showlegend": true,
         "textposition": "auto",
         "type": "bar",
         "x": [
          1,
          1,
          null,
          null
         ],
         "xaxis": "x",
         "y": [
          "Matthew KPE Count",
          "Luke KPE Count",
          "Mark KPE Count",
          "John KPE Count"
         ],
         "yaxis": "y"
        },
        {
         "alignmentgroup": "True",
         "hovertemplate": "variable=root<br>value=%{x}<br>index=%{y}<extra></extra>",
         "legendgroup": "root",
         "marker": {
          "color": "#FF97FF",
          "pattern": {
           "shape": ""
          }
         },
         "name": "root",
         "offsetgroup": "root",
         "orientation": "h",
         "showlegend": true,
         "textposition": "auto",
         "type": "bar",
         "x": [
          1,
          1,
          1,
          null
         ],
         "xaxis": "x",
         "y": [
          "Matthew KPE Count",
          "Luke KPE Count",
          "Mark KPE Count",
          "John KPE Count"
         ],
         "yaxis": "y"
        },
        {
         "alignmentgroup": "True",
         "hovertemplate": "variable=shoes<br>value=%{x}<br>index=%{y}<extra></extra>",
         "legendgroup": "shoes",
         "marker": {
          "color": "#FECB52",
          "pattern": {
           "shape": ""
          }
         },
         "name": "shoes",
         "offsetgroup": "shoes",
         "orientation": "h",
         "showlegend": true,
         "textposition": "auto",
         "type": "bar",
         "x": [
          1,
          3,
          1,
          1
         ],
         "xaxis": "x",
         "y": [
          "Matthew KPE Count",
          "Luke KPE Count",
          "Mark KPE Count",
          "John KPE Count"
         ],
         "yaxis": "y"
        },
        {
         "alignmentgroup": "True",
         "hovertemplate": "variable=wheat<br>value=%{x}<br>index=%{y}<extra></extra>",
         "legendgroup": "wheat",
         "marker": {
          "color": "#636efa",
          "pattern": {
           "shape": ""
          }
         },
         "name": "wheat",
         "offsetgroup": "wheat",
         "orientation": "h",
         "showlegend": true,
         "textposition": "auto",
         "type": "bar",
         "x": [
          1,
          3,
          null,
          1
         ],
         "xaxis": "x",
         "y": [
          "Matthew KPE Count",
          "Luke KPE Count",
          "Mark KPE Count",
          "John KPE Count"
         ],
         "yaxis": "y"
        },
        {
         "alignmentgroup": "True",
         "hovertemplate": "variable=barn<br>value=%{x}<br>index=%{y}<extra></extra>",
         "legendgroup": "barn",
         "marker": {
          "color": "#EF553B",
          "pattern": {
           "shape": ""
          }
         },
         "name": "barn",
         "offsetgroup": "barn",
         "orientation": "h",
         "showlegend": true,
         "textposition": "auto",
         "type": "bar",
         "x": [
          1,
          1,
          null,
          null
         ],
         "xaxis": "x",
         "y": [
          "Matthew KPE Count",
          "Luke KPE Count",
          "Mark KPE Count",
          "John KPE Count"
         ],
         "yaxis": "y"
        },
        {
         "alignmentgroup": "True",
         "hovertemplate": "variable=chaff<br>value=%{x}<br>index=%{y}<extra></extra>",
         "legendgroup": "chaff",
         "marker": {
          "color": "#00cc96",
          "pattern": {
           "shape": ""
          }
         },
         "name": "chaff",
         "offsetgroup": "chaff",
         "orientation": "h",
         "showlegend": true,
         "textposition": "auto",
         "type": "bar",
         "x": [
          1,
          1,
          null,
          null
         ],
         "xaxis": "x",
         "y": [
          "Matthew KPE Count",
          "Luke KPE Count",
          "Mark KPE Count",
          "John KPE Count"
         ],
         "yaxis": "y"
        },
        {
         "alignmentgroup": "True",
         "hovertemplate": "variable=dove<br>value=%{x}<br>index=%{y}<extra></extra>",
         "legendgroup": "dove",
         "marker": {
          "color": "#ab63fa",
          "pattern": {
           "shape": ""
          }
         },
         "name": "dove",
         "offsetgroup": "dove",
         "orientation": "h",
         "showlegend": true,
         "textposition": "auto",
         "type": "bar",
         "x": [
          1,
          1,
          1,
          1
         ],
         "xaxis": "x",
         "y": [
          "Matthew KPE Count",
          "Luke KPE Count",
          "Mark KPE Count",
          "John KPE Count"
         ],
         "yaxis": "y"
        },
        {
         "alignmentgroup": "True",
         "hovertemplate": "variable=forty days<br>value=%{x}<br>index=%{y}<extra></extra>",
         "legendgroup": "forty days",
         "marker": {
          "color": "#FFA15A",
          "pattern": {
           "shape": ""
          }
         },
         "name": "forty days",
         "offsetgroup": "forty days",
         "orientation": "h",
         "showlegend": true,
         "textposition": "auto",
         "type": "bar",
         "x": [
          1,
          1,
          1,
          null
         ],
         "xaxis": "x",
         "y": [
          "Matthew KPE Count",
          "Luke KPE Count",
          "Mark KPE Count",
          "John KPE Count"
         ],
         "yaxis": "y"
        },
        {
         "alignmentgroup": "True",
         "hovertemplate": "variable=forty nights<br>value=%{x}<br>index=%{y}<extra></extra>",
         "legendgroup": "forty nights",
         "marker": {
          "color": "#19d3f3",
          "pattern": {
           "shape": ""
          }
         },
         "name": "forty nights",
         "offsetgroup": "forty nights",
         "orientation": "h",
         "showlegend": true,
         "textposition": "auto",
         "type": "bar",
         "x": [
          1,
          null,
          1,
          null
         ],
         "xaxis": "x",
         "y": [
          "Matthew KPE Count",
          "Luke KPE Count",
          "Mark KPE Count",
          "John KPE Count"
         ],
         "yaxis": "y"
        },
        {
         "alignmentgroup": "True",
         "hovertemplate": "variable=high mountain<br>value=%{x}<br>index=%{y}<extra></extra>",
         "legendgroup": "high mountain",
         "marker": {
          "color": "#FF6692",
          "pattern": {
           "shape": ""
          }
         },
         "name": "high mountain",
         "offsetgroup": "high mountain",
         "orientation": "h",
         "showlegend": true,
         "textposition": "auto",
         "type": "bar",
         "x": [
          1,
          1,
          null,
          null
         ],
         "xaxis": "x",
         "y": [
          "Matthew KPE Count",
          "Luke KPE Count",
          "Mark KPE Count",
          "John KPE Count"
         ],
         "yaxis": "y"
        },
        {
         "alignmentgroup": "True",
         "hovertemplate": "variable=two brothers<br>value=%{x}<br>index=%{y}<extra></extra>",
         "legendgroup": "two brothers",
         "marker": {
          "color": "#B6E880",
          "pattern": {
           "shape": ""
          }
         },
         "name": "two brothers",
         "offsetgroup": "two brothers",
         "orientation": "h",
         "showlegend": true,
         "textposition": "auto",
         "type": "bar",
         "x": [
          1,
          null,
          null,
          null
         ],
         "xaxis": "x",
         "y": [
          "Matthew KPE Count",
          "Luke KPE Count",
          "Mark KPE Count",
          "John KPE Count"
         ],
         "yaxis": "y"
        },
        {
         "alignmentgroup": "True",
         "hovertemplate": "variable=various sicknesses<br>value=%{x}<br>index=%{y}<extra></extra>",
         "legendgroup": "various sicknesses",
         "marker": {
          "color": "#FF97FF",
          "pattern": {
           "shape": ""
          }
         },
         "name": "various sicknesses",
         "offsetgroup": "various sicknesses",
         "orientation": "h",
         "showlegend": true,
         "textposition": "auto",
         "type": "bar",
         "x": [
          1,
          null,
          null,
          null
         ],
         "xaxis": "x",
         "y": [
          "Matthew KPE Count",
          "Luke KPE Count",
          "Mark KPE Count",
          "John KPE Count"
         ],
         "yaxis": "y"
        },
        {
         "alignmentgroup": "True",
         "hovertemplate": "variable=great crowd<br>value=%{x}<br>index=%{y}<extra></extra>",
         "legendgroup": "great crowd",
         "marker": {
          "color": "#FECB52",
          "pattern": {
           "shape": ""
          }
         },
         "name": "great crowd",
         "offsetgroup": "great crowd",
         "orientation": "h",
         "showlegend": true,
         "textposition": "auto",
         "type": "bar",
         "x": [
          1,
          2,
          5,
          1
         ],
         "xaxis": "x",
         "y": [
          "Matthew KPE Count",
          "Luke KPE Count",
          "Mark KPE Count",
          "John KPE Count"
         ],
         "yaxis": "y"
        },
        {
         "alignmentgroup": "True",
         "hovertemplate": "variable=Ten Cities<br>value=%{x}<br>index=%{y}<extra></extra>",
         "legendgroup": "Ten Cities",
         "marker": {
          "color": "#636efa",
          "pattern": {
           "shape": ""
          }
         },
         "name": "Ten Cities",
         "offsetgroup": "Ten Cities",
         "orientation": "h",
         "showlegend": true,
         "textposition": "auto",
         "type": "bar",
         "x": [
          1,
          null,
          2,
          null
         ],
         "xaxis": "x",
         "y": [
          "Matthew KPE Count",
          "Luke KPE Count",
          "Mark KPE Count",
          "John KPE Count"
         ],
         "yaxis": "y"
        },
        {
         "alignmentgroup": "True",
         "hovertemplate": "variable=holy city<br>value=%{x}<br>index=%{y}<extra></extra>",
         "legendgroup": "holy city",
         "marker": {
          "color": "#EF553B",
          "pattern": {
           "shape": ""
          }
         },
         "name": "holy city",
         "offsetgroup": "holy city",
         "orientation": "h",
         "showlegend": true,
         "textposition": "auto",
         "type": "bar",
         "x": [
          1,
          null,
          null,
          null
         ],
         "xaxis": "x",
         "y": [
          "Matthew KPE Count",
          "Luke KPE Count",
          "Mark KPE Count",
          "John KPE Count"
         ],
         "yaxis": "y"
        },
        {
         "alignmentgroup": "True",
         "hovertemplate": "variable=great light<br>value=%{x}<br>index=%{y}<extra></extra>",
         "legendgroup": "great light",
         "marker": {
          "color": "#00cc96",
          "pattern": {
           "shape": ""
          }
         },
         "name": "great light",
         "offsetgroup": "great light",
         "orientation": "h",
         "showlegend": true,
         "textposition": "auto",
         "type": "bar",
         "x": [
          1,
          null,
          null,
          null
         ],
         "xaxis": "x",
         "y": [
          "Matthew KPE Count",
          "Luke KPE Count",
          "Mark KPE Count",
          "John KPE Count"
         ],
         "yaxis": "y"
        },
        {
         "alignmentgroup": "True",
         "hovertemplate": "variable=tempter<br>value=%{x}<br>index=%{y}<extra></extra>",
         "legendgroup": "tempter",
         "marker": {
          "color": "#ab63fa",
          "pattern": {
           "shape": ""
          }
         },
         "name": "tempter",
         "offsetgroup": "tempter",
         "orientation": "h",
         "showlegend": true,
         "textposition": "auto",
         "type": "bar",
         "x": [
          1,
          null,
          null,
          null
         ],
         "xaxis": "x",
         "y": [
          "Matthew KPE Count",
          "Luke KPE Count",
          "Mark KPE Count",
          "John KPE Count"
         ],
         "yaxis": "y"
        },
        {
         "alignmentgroup": "True",
         "hovertemplate": "variable=pinnacle<br>value=%{x}<br>index=%{y}<extra></extra>",
         "legendgroup": "pinnacle",
         "marker": {
          "color": "#FFA15A",
          "pattern": {
           "shape": ""
          }
         },
         "name": "pinnacle",
         "offsetgroup": "pinnacle",
         "orientation": "h",
         "showlegend": true,
         "textposition": "auto",
         "type": "bar",
         "x": [
          1,
          null,
          null,
          null
         ],
         "xaxis": "x",
         "y": [
          "Matthew KPE Count",
          "Luke KPE Count",
          "Mark KPE Count",
          "John KPE Count"
         ],
         "yaxis": "y"
        },
        {
         "alignmentgroup": "True",
         "hovertemplate": "variable=angels<br>value=%{x}<br>index=%{y}<extra></extra>",
         "legendgroup": "angels",
         "marker": {
          "color": "#19d3f3",
          "pattern": {
           "shape": ""
          }
         },
         "name": "angels",
         "offsetgroup": "angels",
         "orientation": "h",
         "showlegend": true,
         "textposition": "auto",
         "type": "bar",
         "x": [
          1,
          null,
          null,
          null
         ],
         "xaxis": "x",
         "y": [
          "Matthew KPE Count",
          "Luke KPE Count",
          "Mark KPE Count",
          "John KPE Count"
         ],
         "yaxis": "y"
        },
        {
         "alignmentgroup": "True",
         "hovertemplate": "variable=kingdoms<br>value=%{x}<br>index=%{y}<extra></extra>",
         "legendgroup": "kingdoms",
         "marker": {
          "color": "#FF6692",
          "pattern": {
           "shape": ""
          }
         },
         "name": "kingdoms",
         "offsetgroup": "kingdoms",
         "orientation": "h",
         "showlegend": true,
         "textposition": "auto",
         "type": "bar",
         "x": [
          1,
          1,
          null,
          null
         ],
         "xaxis": "x",
         "y": [
          "Matthew KPE Count",
          "Luke KPE Count",
          "Mark KPE Count",
          "John KPE Count"
         ],
         "yaxis": "y"
        },
        {
         "alignmentgroup": "True",
         "hovertemplate": "variable=Zebulun<br>value=%{x}<br>index=%{y}<extra></extra>",
         "legendgroup": "Zebulun",
         "marker": {
          "color": "#B6E880",
          "pattern": {
           "shape": ""
          }
         },
         "name": "Zebulun",
         "offsetgroup": "Zebulun",
         "orientation": "h",
         "showlegend": true,
         "textposition": "auto",
         "type": "bar",
         "x": [
          1,
          null,
          null,
          null
         ],
         "xaxis": "x",
         "y": [
          "Matthew KPE Count",
          "Luke KPE Count",
          "Mark KPE Count",
          "John KPE Count"
         ],
         "yaxis": "y"
        },
        {
         "alignmentgroup": "True",
         "hovertemplate": "variable=Naphtali<br>value=%{x}<br>index=%{y}<extra></extra>",
         "legendgroup": "Naphtali",
         "marker": {
          "color": "#FF97FF",
          "pattern": {
           "shape": ""
          }
         },
         "name": "Naphtali",
         "offsetgroup": "Naphtali",
         "orientation": "h",
         "showlegend": true,
         "textposition": "auto",
         "type": "bar",
         "x": [
          1,
          null,
          null,
          null
         ],
         "xaxis": "x",
         "y": [
          "Matthew KPE Count",
          "Luke KPE Count",
          "Mark KPE Count",
          "John KPE Count"
         ],
         "yaxis": "y"
        },
        {
         "alignmentgroup": "True",
         "hovertemplate": "variable=Land<br>value=%{x}<br>index=%{y}<extra></extra>",
         "legendgroup": "Land",
         "marker": {
          "color": "#FECB52",
          "pattern": {
           "shape": ""
          }
         },
         "name": "Land",
         "offsetgroup": "Land",
         "orientation": "h",
         "showlegend": true,
         "textposition": "auto",
         "type": "bar",
         "x": [
          1,
          null,
          null,
          null
         ],
         "xaxis": "x",
         "y": [
          "Matthew KPE Count",
          "Luke KPE Count",
          "Mark KPE Count",
          "John KPE Count"
         ],
         "yaxis": "y"
        },
        {
         "alignmentgroup": "True",
         "hovertemplate": "variable=shadow<br>value=%{x}<br>index=%{y}<extra></extra>",
         "legendgroup": "shadow",
         "marker": {
          "color": "#636efa",
          "pattern": {
           "shape": ""
          }
         },
         "name": "shadow",
         "offsetgroup": "shadow",
         "orientation": "h",
         "showlegend": true,
         "textposition": "auto",
         "type": "bar",
         "x": [
          1,
          null,
          1,
          null
         ],
         "xaxis": "x",
         "y": [
          "Matthew KPE Count",
          "Luke KPE Count",
          "Mark KPE Count",
          "John KPE Count"
         ],
         "yaxis": "y"
        },
        {
         "alignmentgroup": "True",
         "hovertemplate": "variable=net<br>value=%{x}<br>index=%{y}<extra></extra>",
         "legendgroup": "net",
         "marker": {
          "color": "#EF553B",
          "pattern": {
           "shape": ""
          }
         },
         "name": "net",
         "offsetgroup": "net",
         "orientation": "h",
         "showlegend": true,
         "textposition": "auto",
         "type": "bar",
         "x": [
          1,
          null,
          null,
          1
         ],
         "xaxis": "x",
         "y": [
          "Matthew KPE Count",
          "Luke KPE Count",
          "Mark KPE Count",
          "John KPE Count"
         ],
         "yaxis": "y"
        },
        {
         "alignmentgroup": "True",
         "hovertemplate": "variable=fishermen<br>value=%{x}<br>index=%{y}<extra></extra>",
         "legendgroup": "fishermen",
         "marker": {
          "color": "#00cc96",
          "pattern": {
           "shape": ""
          }
         },
         "name": "fishermen",
         "offsetgroup": "fishermen",
         "orientation": "h",
         "showlegend": true,
         "textposition": "auto",
         "type": "bar",
         "x": [
          1,
          1,
          1,
          null
         ],
         "xaxis": "x",
         "y": [
          "Matthew KPE Count",
          "Luke KPE Count",
          "Mark KPE Count",
          "John KPE Count"
         ],
         "yaxis": "y"
        },
        {
         "alignmentgroup": "True",
         "hovertemplate": "variable=fishers<br>value=%{x}<br>index=%{y}<extra></extra>",
         "legendgroup": "fishers",
         "marker": {
          "color": "#ab63fa",
          "pattern": {
           "shape": ""
          }
         },
         "name": "fishers",
         "offsetgroup": "fishers",
         "orientation": "h",
         "showlegend": true,
         "textposition": "auto",
         "type": "bar",
         "x": [
          1,
          null,
          1,
          null
         ],
         "xaxis": "x",
         "y": [
          "Matthew KPE Count",
          "Luke KPE Count",
          "Mark KPE Count",
          "John KPE Count"
         ],
         "yaxis": "y"
        },
        {
         "alignmentgroup": "True",
         "hovertemplate": "variable=ship<br>value=%{x}<br>index=%{y}<extra></extra>",
         "legendgroup": "ship",
         "marker": {
          "color": "#FFA15A",
          "pattern": {
           "shape": ""
          }
         },
         "name": "ship",
         "offsetgroup": "ship",
         "orientation": "h",
         "showlegend": true,
         "textposition": "auto",
         "type": "bar",
         "x": [
          1,
          null,
          null,
          1
         ],
         "xaxis": "x",
         "y": [
          "Matthew KPE Count",
          "Luke KPE Count",
          "Mark KPE Count",
          "John KPE Count"
         ],
         "yaxis": "y"
        },
        {
         "alignmentgroup": "True",
         "hovertemplate": "variable=reports<br>value=%{x}<br>index=%{y}<extra></extra>",
         "legendgroup": "reports",
         "marker": {
          "color": "#19d3f3",
          "pattern": {
           "shape": ""
          }
         },
         "name": "reports",
         "offsetgroup": "reports",
         "orientation": "h",
         "showlegend": true,
         "textposition": "auto",
         "type": "bar",
         "x": [
          1,
          null,
          null,
          null
         ],
         "xaxis": "x",
         "y": [
          "Matthew KPE Count",
          "Luke KPE Count",
          "Mark KPE Count",
          "John KPE Count"
         ],
         "yaxis": "y"
        },
        {
         "alignmentgroup": "True",
         "hovertemplate": "variable=Syria<br>value=%{x}<br>index=%{y}<extra></extra>",
         "legendgroup": "Syria",
         "marker": {
          "color": "#FF6692",
          "pattern": {
           "shape": ""
          }
         },
         "name": "Syria",
         "offsetgroup": "Syria",
         "orientation": "h",
         "showlegend": true,
         "textposition": "auto",
         "type": "bar",
         "x": [
          1,
          1,
          null,
          null
         ],
         "xaxis": "x",
         "y": [
          "Matthew KPE Count",
          "Luke KPE Count",
          "Mark KPE Count",
          "John KPE Count"
         ],
         "yaxis": "y"
        },
        {
         "alignmentgroup": "True",
         "hovertemplate": "variable=grasp<br>value=%{x}<br>index=%{y}<extra></extra>",
         "legendgroup": "grasp",
         "marker": {
          "color": "#B6E880",
          "pattern": {
           "shape": ""
          }
         },
         "name": "grasp",
         "offsetgroup": "grasp",
         "orientation": "h",
         "showlegend": true,
         "textposition": "auto",
         "type": "bar",
         "x": [
          1,
          null,
          null,
          null
         ],
         "xaxis": "x",
         "y": [
          "Matthew KPE Count",
          "Luke KPE Count",
          "Mark KPE Count",
          "John KPE Count"
         ],
         "yaxis": "y"
        },
        {
         "alignmentgroup": "True",
         "hovertemplate": "variable=torments<br>value=%{x}<br>index=%{y}<extra></extra>",
         "legendgroup": "torments",
         "marker": {
          "color": "#FF97FF",
          "pattern": {
           "shape": ""
          }
         },
         "name": "torments",
         "offsetgroup": "torments",
         "orientation": "h",
         "showlegend": true,
         "textposition": "auto",
         "type": "bar",
         "x": [
          1,
          null,
          null,
          null
         ],
         "xaxis": "x",
         "y": [
          "Matthew KPE Count",
          "Luke KPE Count",
          "Mark KPE Count",
          "John KPE Count"
         ],
         "yaxis": "y"
        },
        {
         "alignmentgroup": "True",
         "hovertemplate": "variable=paralytics<br>value=%{x}<br>index=%{y}<extra></extra>",
         "legendgroup": "paralytics",
         "marker": {
          "color": "#FECB52",
          "pattern": {
           "shape": ""
          }
         },
         "name": "paralytics",
         "offsetgroup": "paralytics",
         "orientation": "h",
         "showlegend": true,
         "textposition": "auto",
         "type": "bar",
         "x": [
          1,
          null,
          null,
          null
         ],
         "xaxis": "x",
         "y": [
          "Matthew KPE Count",
          "Luke KPE Count",
          "Mark KPE Count",
          "John KPE Count"
         ],
         "yaxis": "y"
        },
        {
         "alignmentgroup": "True",
         "hovertemplate": "variable=two thousand steps<br>value=%{x}<br>index=%{y}<extra></extra>",
         "legendgroup": "two thousand steps",
         "marker": {
          "color": "#636efa",
          "pattern": {
           "shape": ""
          }
         },
         "name": "two thousand steps",
         "offsetgroup": "two thousand steps",
         "orientation": "h",
         "showlegend": true,
         "textposition": "auto",
         "type": "bar",
         "x": [
          1,
          null,
          null,
          null
         ],
         "xaxis": "x",
         "y": [
          "Matthew KPE Count",
          "Luke KPE Count",
          "Mark KPE Count",
          "John KPE Count"
         ],
         "yaxis": "y"
        },
        {
         "alignmentgroup": "True",
         "hovertemplate": "variable=one thousand steps<br>value=%{x}<br>index=%{y}<extra></extra>",
         "legendgroup": "one thousand steps",
         "marker": {
          "color": "#EF553B",
          "pattern": {
           "shape": ""
          }
         },
         "name": "one thousand steps",
         "offsetgroup": "one thousand steps",
         "orientation": "h",
         "showlegend": true,
         "textposition": "auto",
         "type": "bar",
         "x": [
          1,
          null,
          null,
          null
         ],
         "xaxis": "x",
         "y": [
          "Matthew KPE Count",
          "Luke KPE Count",
          "Mark KPE Count",
          "John KPE Count"
         ],
         "yaxis": "y"
        },
        {
         "alignmentgroup": "True",
         "hovertemplate": "variable=good works<br>value=%{x}<br>index=%{y}<extra></extra>",
         "legendgroup": "good works",
         "marker": {
          "color": "#00cc96",
          "pattern": {
           "shape": ""
          }
         },
         "name": "good works",
         "offsetgroup": "good works",
         "orientation": "h",
         "showlegend": true,
         "textposition": "auto",
         "type": "bar",
         "x": [
          1,
          null,
          null,
          null
         ],
         "xaxis": "x",
         "y": [
          "Matthew KPE Count",
          "Luke KPE Count",
          "Mark KPE Count",
          "John KPE Count"
         ],
         "yaxis": "y"
        },
        {
         "alignmentgroup": "True",
         "hovertemplate": "variable=one iota<br>value=%{x}<br>index=%{y}<extra></extra>",
         "legendgroup": "one iota",
         "marker": {
          "color": "#ab63fa",
          "pattern": {
           "shape": ""
          }
         },
         "name": "one iota",
         "offsetgroup": "one iota",
         "orientation": "h",
         "showlegend": true,
         "textposition": "auto",
         "type": "bar",
         "x": [
          1,
          null,
          null,
          null
         ],
         "xaxis": "x",
         "y": [
          "Matthew KPE Count",
          "Luke KPE Count",
          "Mark KPE Count",
          "John KPE Count"
         ],
         "yaxis": "y"
        },
        {
         "alignmentgroup": "True",
         "hovertemplate": "variable=one dot<br>value=%{x}<br>index=%{y}<extra></extra>",
         "legendgroup": "one dot",
         "marker": {
          "color": "#FFA15A",
          "pattern": {
           "shape": ""
          }
         },
         "name": "one dot",
         "offsetgroup": "one dot",
         "orientation": "h",
         "showlegend": true,
         "textposition": "auto",
         "type": "bar",
         "x": [
          1,
          1,
          null,
          null
         ],
         "xaxis": "x",
         "y": [
          "Matthew KPE Count",
          "Luke KPE Count",
          "Mark KPE Count",
          "John KPE Count"
         ],
         "yaxis": "y"
        },
        {
         "alignmentgroup": "True",
         "hovertemplate": "variable=last quarter<br>value=%{x}<br>index=%{y}<extra></extra>",
         "legendgroup": "last quarter",
         "marker": {
          "color": "#19d3f3",
          "pattern": {
           "shape": ""
          }
         },
         "name": "last quarter",
         "offsetgroup": "last quarter",
         "orientation": "h",
         "showlegend": true,
         "textposition": "auto",
         "type": "bar",
         "x": [
          1,
          null,
          null,
          null
         ],
         "xaxis": "x",
         "y": [
          "Matthew KPE Count",
          "Luke KPE Count",
          "Mark KPE Count",
          "John KPE Count"
         ],
         "yaxis": "y"
        },
        {
         "alignmentgroup": "True",
         "hovertemplate": "variable=great king<br>value=%{x}<br>index=%{y}<extra></extra>",
         "legendgroup": "great king",
         "marker": {
          "color": "#FF6692",
          "pattern": {
           "shape": ""
          }
         },
         "name": "great king",
         "offsetgroup": "great king",
         "orientation": "h",
         "showlegend": true,
         "textposition": "auto",
         "type": "bar",
         "x": [
          1,
          null,
          null,
          null
         ],
         "xaxis": "x",
         "y": [
          "Matthew KPE Count",
          "Luke KPE Count",
          "Mark KPE Count",
          "John KPE Count"
         ],
         "yaxis": "y"
        },
        {
         "alignmentgroup": "True",
         "hovertemplate": "variable=one hair<br>value=%{x}<br>index=%{y}<extra></extra>",
         "legendgroup": "one hair",
         "marker": {
          "color": "#B6E880",
          "pattern": {
           "shape": ""
          }
         },
         "name": "one hair",
         "offsetgroup": "one hair",
         "orientation": "h",
         "showlegend": true,
         "textposition": "auto",
         "type": "bar",
         "x": [
          1,
          null,
          null,
          null
         ],
         "xaxis": "x",
         "y": [
          "Matthew KPE Count",
          "Luke KPE Count",
          "Mark KPE Count",
          "John KPE Count"
         ],
         "yaxis": "y"
        },
        {
         "alignmentgroup": "True",
         "hovertemplate": "variable=right cheek<br>value=%{x}<br>index=%{y}<extra></extra>",
         "legendgroup": "right cheek",
         "marker": {
          "color": "#FF97FF",
          "pattern": {
           "shape": ""
          }
         },
         "name": "right cheek",
         "offsetgroup": "right cheek",
         "orientation": "h",
         "showlegend": true,
         "textposition": "auto",
         "type": "bar",
         "x": [
          1,
          null,
          null,
          null
         ],
         "xaxis": "x",
         "y": [
          "Matthew KPE Count",
          "Luke KPE Count",
          "Mark KPE Count",
          "John KPE Count"
         ],
         "yaxis": "y"
        },
        {
         "alignmentgroup": "True",
         "hovertemplate": "variable=right eye<br>value=%{x}<br>index=%{y}<extra></extra>",
         "legendgroup": "right eye",
         "marker": {
          "color": "#FECB52",
          "pattern": {
           "shape": ""
          }
         },
         "name": "right eye",
         "offsetgroup": "right eye",
         "orientation": "h",
         "showlegend": true,
         "textposition": "auto",
         "type": "bar",
         "x": [
          1,
          null,
          null,
          null
         ],
         "xaxis": "x",
         "y": [
          "Matthew KPE Count",
          "Luke KPE Count",
          "Mark KPE Count",
          "John KPE Count"
         ],
         "yaxis": "y"
        },
        {
         "alignmentgroup": "True",
         "hovertemplate": "variable=Blessed<br>value=%{x}<br>index=%{y}<extra></extra>",
         "legendgroup": "Blessed",
         "marker": {
          "color": "#636efa",
          "pattern": {
           "shape": ""
          }
         },
         "name": "Blessed",
         "offsetgroup": "Blessed",
         "orientation": "h",
         "showlegend": true,
         "textposition": "auto",
         "type": "bar",
         "x": [
          1,
          null,
          1,
          null
         ],
         "xaxis": "x",
         "y": [
          "Matthew KPE Count",
          "Luke KPE Count",
          "Mark KPE Count",
          "John KPE Count"
         ],
         "yaxis": "y"
        },
        {
         "alignmentgroup": "True",
         "hovertemplate": "variable=meek<br>value=%{x}<br>index=%{y}<extra></extra>",
         "legendgroup": "meek",
         "marker": {
          "color": "#EF553B",
          "pattern": {
           "shape": ""
          }
         },
         "name": "meek",
         "offsetgroup": "meek",
         "orientation": "h",
         "showlegend": true,
         "textposition": "auto",
         "type": "bar",
         "x": [
          1,
          null,
          null,
          null
         ],
         "xaxis": "x",
         "y": [
          "Matthew KPE Count",
          "Luke KPE Count",
          "Mark KPE Count",
          "John KPE Count"
         ],
         "yaxis": "y"
        },
        {
         "alignmentgroup": "True",
         "hovertemplate": "variable=peacemakers<br>value=%{x}<br>index=%{y}<extra></extra>",
         "legendgroup": "peacemakers",
         "marker": {
          "color": "#00cc96",
          "pattern": {
           "shape": ""
          }
         },
         "name": "peacemakers",
         "offsetgroup": "peacemakers",
         "orientation": "h",
         "showlegend": true,
         "textposition": "auto",
         "type": "bar",
         "x": [
          1,
          null,
          null,
          null
         ],
         "xaxis": "x",
         "y": [
          "Matthew KPE Count",
          "Luke KPE Count",
          "Mark KPE Count",
          "John KPE Count"
         ],
         "yaxis": "y"
        },
        {
         "alignmentgroup": "True",
         "hovertemplate": "variable=kinds<br>value=%{x}<br>index=%{y}<extra></extra>",
         "legendgroup": "kinds",
         "marker": {
          "color": "#ab63fa",
          "pattern": {
           "shape": ""
          }
         },
         "name": "kinds",
         "offsetgroup": "kinds",
         "orientation": "h",
         "showlegend": true,
         "textposition": "auto",
         "type": "bar",
         "x": [
          1,
          null,
          null,
          null
         ],
         "xaxis": "x",
         "y": [
          "Matthew KPE Count",
          "Luke KPE Count",
          "Mark KPE Count",
          "John KPE Count"
         ],
         "yaxis": "y"
        },
        {
         "alignmentgroup": "True",
         "hovertemplate": "variable=salt<br>value=%{x}<br>index=%{y}<extra></extra>",
         "legendgroup": "salt",
         "marker": {
          "color": "#FFA15A",
          "pattern": {
           "shape": ""
          }
         },
         "name": "salt",
         "offsetgroup": "salt",
         "orientation": "h",
         "showlegend": true,
         "textposition": "auto",
         "type": "bar",
         "x": [
          1,
          null,
          null,
          null
         ],
         "xaxis": "x",
         "y": [
          "Matthew KPE Count",
          "Luke KPE Count",
          "Mark KPE Count",
          "John KPE Count"
         ],
         "yaxis": "y"
        },
        {
         "alignmentgroup": "True",
         "hovertemplate": "variable=basket<br>value=%{x}<br>index=%{y}<extra></extra>",
         "legendgroup": "basket",
         "marker": {
          "color": "#19d3f3",
          "pattern": {
           "shape": ""
          }
         },
         "name": "basket",
         "offsetgroup": "basket",
         "orientation": "h",
         "showlegend": true,
         "textposition": "auto",
         "type": "bar",
         "x": [
          1,
          null,
          1,
          null
         ],
         "xaxis": "x",
         "y": [
          "Matthew KPE Count",
          "Luke KPE Count",
          "Mark KPE Count",
          "John KPE Count"
         ],
         "yaxis": "y"
        },
        {
         "alignmentgroup": "True",
         "hovertemplate": "variable=ancients<br>value=%{x}<br>index=%{y}<extra></extra>",
         "legendgroup": "ancients",
         "marker": {
          "color": "#FF6692",
          "pattern": {
           "shape": ""
          }
         },
         "name": "ancients",
         "offsetgroup": "ancients",
         "orientation": "h",
         "showlegend": true,
         "textposition": "auto",
         "type": "bar",
         "x": [
          1,
          null,
          null,
          null
         ],
         "xaxis": "x",
         "y": [
          "Matthew KPE Count",
          "Luke KPE Count",
          "Mark KPE Count",
          "John KPE Count"
         ],
         "yaxis": "y"
        },
        {
         "alignmentgroup": "True",
         "hovertemplate": "variable=adversary<br>value=%{x}<br>index=%{y}<extra></extra>",
         "legendgroup": "adversary",
         "marker": {
          "color": "#B6E880",
          "pattern": {
           "shape": ""
          }
         },
         "name": "adversary",
         "offsetgroup": "adversary",
         "orientation": "h",
         "showlegend": true,
         "textposition": "auto",
         "type": "bar",
         "x": [
          1,
          1,
          null,
          null
         ],
         "xaxis": "x",
         "y": [
          "Matthew KPE Count",
          "Luke KPE Count",
          "Mark KPE Count",
          "John KPE Count"
         ],
         "yaxis": "y"
        },
        {
         "alignmentgroup": "True",
         "hovertemplate": "variable=judge<br>value=%{x}<br>index=%{y}<extra></extra>",
         "legendgroup": "judge",
         "marker": {
          "color": "#FF97FF",
          "pattern": {
           "shape": ""
          }
         },
         "name": "judge",
         "offsetgroup": "judge",
         "orientation": "h",
         "showlegend": true,
         "textposition": "auto",
         "type": "bar",
         "x": [
          1,
          1,
          null,
          1
         ],
         "xaxis": "x",
         "y": [
          "Matthew KPE Count",
          "Luke KPE Count",
          "Mark KPE Count",
          "John KPE Count"
         ],
         "yaxis": "y"
        },
        {
         "alignmentgroup": "True",
         "hovertemplate": "variable=officer<br>value=%{x}<br>index=%{y}<extra></extra>",
         "legendgroup": "officer",
         "marker": {
          "color": "#FECB52",
          "pattern": {
           "shape": ""
          }
         },
         "name": "officer",
         "offsetgroup": "officer",
         "orientation": "h",
         "showlegend": true,
         "textposition": "auto",
         "type": "bar",
         "x": [
          1,
          null,
          null,
          null
         ],
         "xaxis": "x",
         "y": [
          "Matthew KPE Count",
          "Luke KPE Count",
          "Mark KPE Count",
          "John KPE Count"
         ],
         "yaxis": "y"
        },
        {
         "alignmentgroup": "True",
         "hovertemplate": "variable=members<br>value=%{x}<br>index=%{y}<extra></extra>",
         "legendgroup": "members",
         "marker": {
          "color": "#636efa",
          "pattern": {
           "shape": ""
          }
         },
         "name": "members",
         "offsetgroup": "members",
         "orientation": "h",
         "showlegend": true,
         "textposition": "auto",
         "type": "bar",
         "x": [
          1,
          null,
          null,
          null
         ],
         "xaxis": "x",
         "y": [
          "Matthew KPE Count",
          "Luke KPE Count",
          "Mark KPE Count",
          "John KPE Count"
         ],
         "yaxis": "y"
        },
        {
         "alignmentgroup": "True",
         "hovertemplate": "variable=oaths<br>value=%{x}<br>index=%{y}<extra></extra>",
         "legendgroup": "oaths",
         "marker": {
          "color": "#EF553B",
          "pattern": {
           "shape": ""
          }
         },
         "name": "oaths",
         "offsetgroup": "oaths",
         "orientation": "h",
         "showlegend": true,
         "textposition": "auto",
         "type": "bar",
         "x": [
          1,
          null,
          null,
          null
         ],
         "xaxis": "x",
         "y": [
          "Matthew KPE Count",
          "Luke KPE Count",
          "Mark KPE Count",
          "John KPE Count"
         ],
         "yaxis": "y"
        },
        {
         "alignmentgroup": "True",
         "hovertemplate": "variable=tooth<br>value=%{x}<br>index=%{y}<extra></extra>",
         "legendgroup": "tooth",
         "marker": {
          "color": "#00cc96",
          "pattern": {
           "shape": ""
          }
         },
         "name": "tooth",
         "offsetgroup": "tooth",
         "orientation": "h",
         "showlegend": true,
         "textposition": "auto",
         "type": "bar",
         "x": [
          1,
          null,
          null,
          null
         ],
         "xaxis": "x",
         "y": [
          "Matthew KPE Count",
          "Luke KPE Count",
          "Mark KPE Count",
          "John KPE Count"
         ],
         "yaxis": "y"
        },
        {
         "alignmentgroup": "True",
         "hovertemplate": "variable=cloak<br>value=%{x}<br>index=%{y}<extra></extra>",
         "legendgroup": "cloak",
         "marker": {
          "color": "#ab63fa",
          "pattern": {
           "shape": ""
          }
         },
         "name": "cloak",
         "offsetgroup": "cloak",
         "orientation": "h",
         "showlegend": true,
         "textposition": "auto",
         "type": "bar",
         "x": [
          1,
          null,
          null,
          null
         ],
         "xaxis": "x",
         "y": [
          "Matthew KPE Count",
          "Luke KPE Count",
          "Mark KPE Count",
          "John KPE Count"
         ],
         "yaxis": "y"
        },
        {
         "alignmentgroup": "True",
         "hovertemplate": "variable=left hand<br>value=%{x}<br>index=%{y}<extra></extra>",
         "legendgroup": "left hand",
         "marker": {
          "color": "#FFA15A",
          "pattern": {
           "shape": ""
          }
         },
         "name": "left hand",
         "offsetgroup": "left hand",
         "orientation": "h",
         "showlegend": true,
         "textposition": "auto",
         "type": "bar",
         "x": [
          1,
          null,
          null,
          null
         ],
         "xaxis": "x",
         "y": [
          "Matthew KPE Count",
          "Luke KPE Count",
          "Mark KPE Count",
          "John KPE Count"
         ],
         "yaxis": "y"
        },
        {
         "alignmentgroup": "True",
         "hovertemplate": "variable=life-sustaining bread<br>value=%{x}<br>index=%{y}<extra></extra>",
         "legendgroup": "life-sustaining bread",
         "marker": {
          "color": "#19d3f3",
          "pattern": {
           "shape": ""
          }
         },
         "name": "life-sustaining bread",
         "offsetgroup": "life-sustaining bread",
         "orientation": "h",
         "showlegend": true,
         "textposition": "auto",
         "type": "bar",
         "x": [
          1,
          null,
          null,
          null
         ],
         "xaxis": "x",
         "y": [
          "Matthew KPE Count",
          "Luke KPE Count",
          "Mark KPE Count",
          "John KPE Count"
         ],
         "yaxis": "y"
        },
        {
         "alignmentgroup": "True",
         "hovertemplate": "variable=two masters<br>value=%{x}<br>index=%{y}<extra></extra>",
         "legendgroup": "two masters",
         "marker": {
          "color": "#FF6692",
          "pattern": {
           "shape": ""
          }
         },
         "name": "two masters",
         "offsetgroup": "two masters",
         "orientation": "h",
         "showlegend": true,
         "textposition": "auto",
         "type": "bar",
         "x": [
          1,
          null,
          null,
          null
         ],
         "xaxis": "x",
         "y": [
          "Matthew KPE Count",
          "Luke KPE Count",
          "Mark KPE Count",
          "John KPE Count"
         ],
         "yaxis": "y"
        },
        {
         "alignmentgroup": "True",
         "hovertemplate": "variable=greater value<br>value=%{x}<br>index=%{y}<extra></extra>",
         "legendgroup": "greater value",
         "marker": {
          "color": "#B6E880",
          "pattern": {
           "shape": ""
          }
         },
         "name": "greater value",
         "offsetgroup": "greater value",
         "orientation": "h",
         "showlegend": true,
         "textposition": "auto",
         "type": "bar",
         "x": [
          1,
          null,
          null,
          null
         ],
         "xaxis": "x",
         "y": [
          "Matthew KPE Count",
          "Luke KPE Count",
          "Mark KPE Count",
          "John KPE Count"
         ],
         "yaxis": "y"
        },
        {
         "alignmentgroup": "True",
         "hovertemplate": "variable=many words<br>value=%{x}<br>index=%{y}<extra></extra>",
         "legendgroup": "many words",
         "marker": {
          "color": "#FF97FF",
          "pattern": {
           "shape": ""
          }
         },
         "name": "many words",
         "offsetgroup": "many words",
         "orientation": "h",
         "showlegend": true,
         "textposition": "auto",
         "type": "bar",
         "x": [
          1,
          1,
          null,
          null
         ],
         "xaxis": "x",
         "y": [
          "Matthew KPE Count",
          "Luke KPE Count",
          "Mark KPE Count",
          "John KPE Count"
         ],
         "yaxis": "y"
        },
        {
         "alignmentgroup": "True",
         "hovertemplate": "variable=future day<br>value=%{x}<br>index=%{y}<extra></extra>",
         "legendgroup": "future day",
         "marker": {
          "color": "#FECB52",
          "pattern": {
           "shape": ""
          }
         },
         "name": "future day",
         "offsetgroup": "future day",
         "orientation": "h",
         "showlegend": true,
         "textposition": "auto",
         "type": "bar",
         "x": [
          1,
          null,
          null,
          null
         ],
         "xaxis": "x",
         "y": [
          "Matthew KPE Count",
          "Luke KPE Count",
          "Mark KPE Count",
          "John KPE Count"
         ],
         "yaxis": "y"
        },
        {
         "alignmentgroup": "True",
         "hovertemplate": "variable=entire body<br>value=%{x}<br>index=%{y}<extra></extra>",
         "legendgroup": "entire body",
         "marker": {
          "color": "#636efa",
          "pattern": {
           "shape": ""
          }
         },
         "name": "entire body",
         "offsetgroup": "entire body",
         "orientation": "h",
         "showlegend": true,
         "textposition": "auto",
         "type": "bar",
         "x": [
          1,
          1,
          null,
          null
         ],
         "xaxis": "x",
         "y": [
          "Matthew KPE Count",
          "Luke KPE Count",
          "Mark KPE Count",
          "John KPE Count"
         ],
         "yaxis": "y"
        },
        {
         "alignmentgroup": "True",
         "hovertemplate": "variable=one cubit<br>value=%{x}<br>index=%{y}<extra></extra>",
         "legendgroup": "one cubit",
         "marker": {
          "color": "#EF553B",
          "pattern": {
           "shape": ""
          }
         },
         "name": "one cubit",
         "offsetgroup": "one cubit",
         "orientation": "h",
         "showlegend": true,
         "textposition": "auto",
         "type": "bar",
         "x": [
          1,
          1,
          null,
          null
         ],
         "xaxis": "x",
         "y": [
          "Matthew KPE Count",
          "Luke KPE Count",
          "Mark KPE Count",
          "John KPE Count"
         ],
         "yaxis": "y"
        },
        {
         "alignmentgroup": "True",
         "hovertemplate": "variable=alms<br>value=%{x}<br>index=%{y}<extra></extra>",
         "legendgroup": "alms",
         "marker": {
          "color": "#00cc96",
          "pattern": {
           "shape": ""
          }
         },
         "name": "alms",
         "offsetgroup": "alms",
         "orientation": "h",
         "showlegend": true,
         "textposition": "auto",
         "type": "bar",
         "x": [
          1,
          1,
          null,
          null
         ],
         "xaxis": "x",
         "y": [
          "Matthew KPE Count",
          "Luke KPE Count",
          "Mark KPE Count",
          "John KPE Count"
         ],
         "yaxis": "y"
        },
        {
         "alignmentgroup": "True",
         "hovertemplate": "variable=secret<br>value=%{x}<br>index=%{y}<extra></extra>",
         "legendgroup": "secret",
         "marker": {
          "color": "#ab63fa",
          "pattern": {
           "shape": ""
          }
         },
         "name": "secret",
         "offsetgroup": "secret",
         "orientation": "h",
         "showlegend": true,
         "textposition": "auto",
         "type": "bar",
         "x": [
          1,
          null,
          1,
          2
         ],
         "xaxis": "x",
         "y": [
          "Matthew KPE Count",
          "Luke KPE Count",
          "Mark KPE Count",
          "John KPE Count"
         ],
         "yaxis": "y"
        },
        {
         "alignmentgroup": "True",
         "hovertemplate": "variable=corners<br>value=%{x}<br>index=%{y}<extra></extra>",
         "legendgroup": "corners",
         "marker": {
          "color": "#FFA15A",
          "pattern": {
           "shape": ""
          }
         },
         "name": "corners",
         "offsetgroup": "corners",
         "orientation": "h",
         "showlegend": true,
         "textposition": "auto",
         "type": "bar",
         "x": [
          1,
          null,
          null,
          null
         ],
         "xaxis": "x",
         "y": [
          "Matthew KPE Count",
          "Luke KPE Count",
          "Mark KPE Count",
          "John KPE Count"
         ],
         "yaxis": "y"
        },
        {
         "alignmentgroup": "True",
         "hovertemplate": "variable=room<br>value=%{x}<br>index=%{y}<extra></extra>",
         "legendgroup": "room",
         "marker": {
          "color": "#19d3f3",
          "pattern": {
           "shape": ""
          }
         },
         "name": "room",
         "offsetgroup": "room",
         "orientation": "h",
         "showlegend": true,
         "textposition": "auto",
         "type": "bar",
         "x": [
          1,
          2,
          1,
          null
         ],
         "xaxis": "x",
         "y": [
          "Matthew KPE Count",
          "Luke KPE Count",
          "Mark KPE Count",
          "John KPE Count"
         ],
         "yaxis": "y"
        },
        {
         "alignmentgroup": "True",
         "hovertemplate": "variable=pagans<br>value=%{x}<br>index=%{y}<extra></extra>",
         "legendgroup": "pagans",
         "marker": {
          "color": "#FF6692",
          "pattern": {
           "shape": ""
          }
         },
         "name": "pagans",
         "offsetgroup": "pagans",
         "orientation": "h",
         "showlegend": true,
         "textposition": "auto",
         "type": "bar",
         "x": [
          1,
          null,
          null,
          null
         ],
         "xaxis": "x",
         "y": [
          "Matthew KPE Count",
          "Luke KPE Count",
          "Mark KPE Count",
          "John KPE Count"
         ],
         "yaxis": "y"
        },
        {
         "alignmentgroup": "True",
         "hovertemplate": "variable=excess<br>value=%{x}<br>index=%{y}<extra></extra>",
         "legendgroup": "excess",
         "marker": {
          "color": "#B6E880",
          "pattern": {
           "shape": ""
          }
         },
         "name": "excess",
         "offsetgroup": "excess",
         "orientation": "h",
         "showlegend": true,
         "textposition": "auto",
         "type": "bar",
         "x": [
          1,
          null,
          null,
          null
         ],
         "xaxis": "x",
         "y": [
          "Matthew KPE Count",
          "Luke KPE Count",
          "Mark KPE Count",
          "John KPE Count"
         ],
         "yaxis": "y"
        },
        {
         "alignmentgroup": "True",
         "hovertemplate": "variable=needs<br>value=%{x}<br>index=%{y}<extra></extra>",
         "legendgroup": "needs",
         "marker": {
          "color": "#FF97FF",
          "pattern": {
           "shape": ""
          }
         },
         "name": "needs",
         "offsetgroup": "needs",
         "orientation": "h",
         "showlegend": true,
         "textposition": "auto",
         "type": "bar",
         "x": [
          1,
          null,
          null,
          null
         ],
         "xaxis": "x",
         "y": [
          "Matthew KPE Count",
          "Luke KPE Count",
          "Mark KPE Count",
          "John KPE Count"
         ],
         "yaxis": "y"
        },
        {
         "alignmentgroup": "True",
         "hovertemplate": "variable=debts<br>value=%{x}<br>index=%{y}<extra></extra>",
         "legendgroup": "debts",
         "marker": {
          "color": "#FECB52",
          "pattern": {
           "shape": ""
          }
         },
         "name": "debts",
         "offsetgroup": "debts",
         "orientation": "h",
         "showlegend": true,
         "textposition": "auto",
         "type": "bar",
         "x": [
          1,
          null,
          null,
          null
         ],
         "xaxis": "x",
         "y": [
          "Matthew KPE Count",
          "Luke KPE Count",
          "Mark KPE Count",
          "John KPE Count"
         ],
         "yaxis": "y"
        },
        {
         "alignmentgroup": "True",
         "hovertemplate": "variable=debtors<br>value=%{x}<br>index=%{y}<extra></extra>",
         "legendgroup": "debtors",
         "marker": {
          "color": "#636efa",
          "pattern": {
           "shape": ""
          }
         },
         "name": "debtors",
         "offsetgroup": "debtors",
         "orientation": "h",
         "showlegend": true,
         "textposition": "auto",
         "type": "bar",
         "x": [
          1,
          1,
          null,
          null
         ],
         "xaxis": "x",
         "y": [
          "Matthew KPE Count",
          "Luke KPE Count",
          "Mark KPE Count",
          "John KPE Count"
         ],
         "yaxis": "y"
        },
        {
         "alignmentgroup": "True",
         "hovertemplate": "variable=offenses<br>value=%{x}<br>index=%{y}<extra></extra>",
         "legendgroup": "offenses",
         "marker": {
          "color": "#EF553B",
          "pattern": {
           "shape": ""
          }
         },
         "name": "offenses",
         "offsetgroup": "offenses",
         "orientation": "h",
         "showlegend": true,
         "textposition": "auto",
         "type": "bar",
         "x": [
          1,
          null,
          null,
          null
         ],
         "xaxis": "x",
         "y": [
          "Matthew KPE Count",
          "Luke KPE Count",
          "Mark KPE Count",
          "John KPE Count"
         ],
         "yaxis": "y"
        },
        {
         "alignmentgroup": "True",
         "hovertemplate": "variable=faces<br>value=%{x}<br>index=%{y}<extra></extra>",
         "legendgroup": "faces",
         "marker": {
          "color": "#00cc96",
          "pattern": {
           "shape": ""
          }
         },
         "name": "faces",
         "offsetgroup": "faces",
         "orientation": "h",
         "showlegend": true,
         "textposition": "auto",
         "type": "bar",
         "x": [
          1,
          1,
          null,
          null
         ],
         "xaxis": "x",
         "y": [
          "Matthew KPE Count",
          "Luke KPE Count",
          "Mark KPE Count",
          "John KPE Count"
         ],
         "yaxis": "y"
        },
        {
         "alignmentgroup": "True",
         "hovertemplate": "variable=rust<br>value=%{x}<br>index=%{y}<extra></extra>",
         "legendgroup": "rust",
         "marker": {
          "color": "#ab63fa",
          "pattern": {
           "shape": ""
          }
         },
         "name": "rust",
         "offsetgroup": "rust",
         "orientation": "h",
         "showlegend": true,
         "textposition": "auto",
         "type": "bar",
         "x": [
          1,
          null,
          null,
          null
         ],
         "xaxis": "x",
         "y": [
          "Matthew KPE Count",
          "Luke KPE Count",
          "Mark KPE Count",
          "John KPE Count"
         ],
         "yaxis": "y"
        },
        {
         "alignmentgroup": "True",
         "hovertemplate": "variable=moth<br>value=%{x}<br>index=%{y}<extra></extra>",
         "legendgroup": "moth",
         "marker": {
          "color": "#FFA15A",
          "pattern": {
           "shape": ""
          }
         },
         "name": "moth",
         "offsetgroup": "moth",
         "orientation": "h",
         "showlegend": true,
         "textposition": "auto",
         "type": "bar",
         "x": [
          1,
          1,
          null,
          null
         ],
         "xaxis": "x",
         "y": [
          "Matthew KPE Count",
          "Luke KPE Count",
          "Mark KPE Count",
          "John KPE Count"
         ],
         "yaxis": "y"
        },
        {
         "alignmentgroup": "True",
         "hovertemplate": "variable=thieves<br>value=%{x}<br>index=%{y}<extra></extra>",
         "legendgroup": "thieves",
         "marker": {
          "color": "#19d3f3",
          "pattern": {
           "shape": ""
          }
         },
         "name": "thieves",
         "offsetgroup": "thieves",
         "orientation": "h",
         "showlegend": true,
         "textposition": "auto",
         "type": "bar",
         "x": [
          1,
          null,
          null,
          null
         ],
         "xaxis": "x",
         "y": [
          "Matthew KPE Count",
          "Luke KPE Count",
          "Mark KPE Count",
          "John KPE Count"
         ],
         "yaxis": "y"
        },
        {
         "alignmentgroup": "True",
         "hovertemplate": "variable=wealth<br>value=%{x}<br>index=%{y}<extra></extra>",
         "legendgroup": "wealth",
         "marker": {
          "color": "#FF6692",
          "pattern": {
           "shape": ""
          }
         },
         "name": "wealth",
         "offsetgroup": "wealth",
         "orientation": "h",
         "showlegend": true,
         "textposition": "auto",
         "type": "bar",
         "x": [
          1,
          null,
          null,
          null
         ],
         "xaxis": "x",
         "y": [
          "Matthew KPE Count",
          "Luke KPE Count",
          "Mark KPE Count",
          "John KPE Count"
         ],
         "yaxis": "y"
        },
        {
         "alignmentgroup": "True",
         "hovertemplate": "variable=barns<br>value=%{x}<br>index=%{y}<extra></extra>",
         "legendgroup": "barns",
         "marker": {
          "color": "#B6E880",
          "pattern": {
           "shape": ""
          }
         },
         "name": "barns",
         "offsetgroup": "barns",
         "orientation": "h",
         "showlegend": true,
         "textposition": "auto",
         "type": "bar",
         "x": [
          1,
          1,
          null,
          null
         ],
         "xaxis": "x",
         "y": [
          "Matthew KPE Count",
          "Luke KPE Count",
          "Mark KPE Count",
          "John KPE Count"
         ],
         "yaxis": "y"
        },
        {
         "alignmentgroup": "True",
         "hovertemplate": "variable=stature<br>value=%{x}<br>index=%{y}<extra></extra>",
         "legendgroup": "stature",
         "marker": {
          "color": "#FF97FF",
          "pattern": {
           "shape": ""
          }
         },
         "name": "stature",
         "offsetgroup": "stature",
         "orientation": "h",
         "showlegend": true,
         "textposition": "auto",
         "type": "bar",
         "x": [
          1,
          2,
          null,
          null
         ],
         "xaxis": "x",
         "y": [
          "Matthew KPE Count",
          "Luke KPE Count",
          "Mark KPE Count",
          "John KPE Count"
         ],
         "yaxis": "y"
        },
        {
         "alignmentgroup": "True",
         "hovertemplate": "variable=lilies<br>value=%{x}<br>index=%{y}<extra></extra>",
         "legendgroup": "lilies",
         "marker": {
          "color": "#FECB52",
          "pattern": {
           "shape": ""
          }
         },
         "name": "lilies",
         "offsetgroup": "lilies",
         "orientation": "h",
         "showlegend": true,
         "textposition": "auto",
         "type": "bar",
         "x": [
          1,
          1,
          null,
          null
         ],
         "xaxis": "x",
         "y": [
          "Matthew KPE Count",
          "Luke KPE Count",
          "Mark KPE Count",
          "John KPE Count"
         ],
         "yaxis": "y"
        },
        {
         "alignmentgroup": "True",
         "hovertemplate": "variable=oven<br>value=%{x}<br>index=%{y}<extra></extra>",
         "legendgroup": "oven",
         "marker": {
          "color": "#636efa",
          "pattern": {
           "shape": ""
          }
         },
         "name": "oven",
         "offsetgroup": "oven",
         "orientation": "h",
         "showlegend": true,
         "textposition": "auto",
         "type": "bar",
         "x": [
          1,
          null,
          null,
          null
         ],
         "xaxis": "x",
         "y": [
          "Matthew KPE Count",
          "Luke KPE Count",
          "Mark KPE Count",
          "John KPE Count"
         ],
         "yaxis": "y"
        },
        {
         "alignmentgroup": "True",
         "hovertemplate": "variable=tomorrow<br>value=%{x}<br>index=%{y}<extra></extra>",
         "legendgroup": "tomorrow",
         "marker": {
          "color": "#EF553B",
          "pattern": {
           "shape": ""
          }
         },
         "name": "tomorrow",
         "offsetgroup": "tomorrow",
         "orientation": "h",
         "showlegend": true,
         "textposition": "auto",
         "type": "bar",
         "x": [
          1,
          1,
          null,
          null
         ],
         "xaxis": "x",
         "y": [
          "Matthew KPE Count",
          "Luke KPE Count",
          "Mark KPE Count",
          "John KPE Count"
         ],
         "yaxis": "y"
        },
        {
         "alignmentgroup": "True",
         "hovertemplate": "variable=many powerful deeds<br>value=%{x}<br>index=%{y}<extra></extra>",
         "legendgroup": "many powerful deeds",
         "marker": {
          "color": "#00cc96",
          "pattern": {
           "shape": ""
          }
         },
         "name": "many powerful deeds",
         "offsetgroup": "many powerful deeds",
         "orientation": "h",
         "showlegend": true,
         "textposition": "auto",
         "type": "bar",
         "x": [
          1,
          null,
          null,
          null
         ],
         "xaxis": "x",
         "y": [
          "Matthew KPE Count",
          "Luke KPE Count",
          "Mark KPE Count",
          "John KPE Count"
         ],
         "yaxis": "y"
        },
        {
         "alignmentgroup": "True",
         "hovertemplate": "variable=good gifts<br>value=%{x}<br>index=%{y}<extra></extra>",
         "legendgroup": "good gifts",
         "marker": {
          "color": "#ab63fa",
          "pattern": {
           "shape": ""
          }
         },
         "name": "good gifts",
         "offsetgroup": "good gifts",
         "orientation": "h",
         "showlegend": true,
         "textposition": "auto",
         "type": "bar",
         "x": [
          1,
          null,
          null,
          null
         ],
         "xaxis": "x",
         "y": [
          "Matthew KPE Count",
          "Luke KPE Count",
          "Mark KPE Count",
          "John KPE Count"
         ],
         "yaxis": "y"
        },
        {
         "alignmentgroup": "True",
         "hovertemplate": "variable=ravenous wolves<br>value=%{x}<br>index=%{y}<extra></extra>",
         "legendgroup": "ravenous wolves",
         "marker": {
          "color": "#FFA15A",
          "pattern": {
           "shape": ""
          }
         },
         "name": "ravenous wolves",
         "offsetgroup": "ravenous wolves",
         "orientation": "h",
         "showlegend": true,
         "textposition": "auto",
         "type": "bar",
         "x": [
          1,
          null,
          null,
          null
         ],
         "xaxis": "x",
         "y": [
          "Matthew KPE Count",
          "Luke KPE Count",
          "Mark KPE Count",
          "John KPE Count"
         ],
         "yaxis": "y"
        },
        {
         "alignmentgroup": "True",
         "hovertemplate": "variable=evil fruit<br>value=%{x}<br>index=%{y}<extra></extra>",
         "legendgroup": "evil fruit",
         "marker": {
          "color": "#19d3f3",
          "pattern": {
           "shape": ""
          }
         },
         "name": "evil fruit",
         "offsetgroup": "evil fruit",
         "orientation": "h",
         "showlegend": true,
         "textposition": "auto",
         "type": "bar",
         "x": [
          1,
          null,
          null,
          null
         ],
         "xaxis": "x",
         "y": [
          "Matthew KPE Count",
          "Luke KPE Count",
          "Mark KPE Count",
          "John KPE Count"
         ],
         "yaxis": "y"
        },
        {
         "alignmentgroup": "True",
         "hovertemplate": "variable=good tree<br>value=%{x}<br>index=%{y}<extra></extra>",
         "legendgroup": "good tree",
         "marker": {
          "color": "#FF6692",
          "pattern": {
           "shape": ""
          }
         },
         "name": "good tree",
         "offsetgroup": "good tree",
         "orientation": "h",
         "showlegend": true,
         "textposition": "auto",
         "type": "bar",
         "x": [
          1,
          null,
          null,
          null
         ],
         "xaxis": "x",
         "y": [
          "Matthew KPE Count",
          "Luke KPE Count",
          "Mark KPE Count",
          "John KPE Count"
         ],
         "yaxis": "y"
        },
        {
         "alignmentgroup": "True",
         "hovertemplate": "variable=evil tree<br>value=%{x}<br>index=%{y}<extra></extra>",
         "legendgroup": "evil tree",
         "marker": {
          "color": "#B6E880",
          "pattern": {
           "shape": ""
          }
         },
         "name": "evil tree",
         "offsetgroup": "evil tree",
         "orientation": "h",
         "showlegend": true,
         "textposition": "auto",
         "type": "bar",
         "x": [
          1,
          null,
          null,
          null
         ],
         "xaxis": "x",
         "y": [
          "Matthew KPE Count",
          "Luke KPE Count",
          "Mark KPE Count",
          "John KPE Count"
         ],
         "yaxis": "y"
        },
        {
         "alignmentgroup": "True",
         "hovertemplate": "variable=wise man<br>value=%{x}<br>index=%{y}<extra></extra>",
         "legendgroup": "wise man",
         "marker": {
          "color": "#FF97FF",
          "pattern": {
           "shape": ""
          }
         },
         "name": "wise man",
         "offsetgroup": "wise man",
         "orientation": "h",
         "showlegend": true,
         "textposition": "auto",
         "type": "bar",
         "x": [
          1,
          null,
          null,
          null
         ],
         "xaxis": "x",
         "y": [
          "Matthew KPE Count",
          "Luke KPE Count",
          "Mark KPE Count",
          "John KPE Count"
         ],
         "yaxis": "y"
        },
        {
         "alignmentgroup": "True",
         "hovertemplate": "variable=foolish man<br>value=%{x}<br>index=%{y}<extra></extra>",
         "legendgroup": "foolish man",
         "marker": {
          "color": "#FECB52",
          "pattern": {
           "shape": ""
          }
         },
         "name": "foolish man",
         "offsetgroup": "foolish man",
         "orientation": "h",
         "showlegend": true,
         "textposition": "auto",
         "type": "bar",
         "x": [
          1,
          null,
          null,
          null
         ],
         "xaxis": "x",
         "y": [
          "Matthew KPE Count",
          "Luke KPE Count",
          "Mark KPE Count",
          "John KPE Count"
         ],
         "yaxis": "y"
        },
        {
         "alignmentgroup": "True",
         "hovertemplate": "variable=false prophets<br>value=%{x}<br>index=%{y}<extra></extra>",
         "legendgroup": "false prophets",
         "marker": {
          "color": "#636efa",
          "pattern": {
           "shape": ""
          }
         },
         "name": "false prophets",
         "offsetgroup": "false prophets",
         "orientation": "h",
         "showlegend": true,
         "textposition": "auto",
         "type": "bar",
         "x": [
          1,
          1,
          1,
          null
         ],
         "xaxis": "x",
         "y": [
          "Matthew KPE Count",
          "Luke KPE Count",
          "Mark KPE Count",
          "John KPE Count"
         ],
         "yaxis": "y"
        },
        {
         "alignmentgroup": "True",
         "hovertemplate": "variable=narrow gate<br>value=%{x}<br>index=%{y}<extra></extra>",
         "legendgroup": "narrow gate",
         "marker": {
          "color": "#EF553B",
          "pattern": {
           "shape": ""
          }
         },
         "name": "narrow gate",
         "offsetgroup": "narrow gate",
         "orientation": "h",
         "showlegend": true,
         "textposition": "auto",
         "type": "bar",
         "x": [
          1,
          1,
          null,
          null
         ],
         "xaxis": "x",
         "y": [
          "Matthew KPE Count",
          "Luke KPE Count",
          "Mark KPE Count",
          "John KPE Count"
         ],
         "yaxis": "y"
        },
        {
         "alignmentgroup": "True",
         "hovertemplate": "variable=splinter<br>value=%{x}<br>index=%{y}<extra></extra>",
         "legendgroup": "splinter",
         "marker": {
          "color": "#00cc96",
          "pattern": {
           "shape": ""
          }
         },
         "name": "splinter",
         "offsetgroup": "splinter",
         "orientation": "h",
         "showlegend": true,
         "textposition": "auto",
         "type": "bar",
         "x": [
          1,
          null,
          null,
          null
         ],
         "xaxis": "x",
         "y": [
          "Matthew KPE Count",
          "Luke KPE Count",
          "Mark KPE Count",
          "John KPE Count"
         ],
         "yaxis": "y"
        },
        {
         "alignmentgroup": "True",
         "hovertemplate": "variable=board<br>value=%{x}<br>index=%{y}<extra></extra>",
         "legendgroup": "board",
         "marker": {
          "color": "#ab63fa",
          "pattern": {
           "shape": ""
          }
         },
         "name": "board",
         "offsetgroup": "board",
         "orientation": "h",
         "showlegend": true,
         "textposition": "auto",
         "type": "bar",
         "x": [
          1,
          null,
          null,
          null
         ],
         "xaxis": "x",
         "y": [
          "Matthew KPE Count",
          "Luke KPE Count",
          "Mark KPE Count",
          "John KPE Count"
         ],
         "yaxis": "y"
        },
        {
         "alignmentgroup": "True",
         "hovertemplate": "variable=Hypocrite<br>value=%{x}<br>index=%{y}<extra></extra>",
         "legendgroup": "Hypocrite",
         "marker": {
          "color": "#FFA15A",
          "pattern": {
           "shape": ""
          }
         },
         "name": "Hypocrite",
         "offsetgroup": "Hypocrite",
         "orientation": "h",
         "showlegend": true,
         "textposition": "auto",
         "type": "bar",
         "x": [
          1,
          null,
          null,
          null
         ],
         "xaxis": "x",
         "y": [
          "Matthew KPE Count",
          "Luke KPE Count",
          "Mark KPE Count",
          "John KPE Count"
         ],
         "yaxis": "y"
        },
        {
         "alignmentgroup": "True",
         "hovertemplate": "variable=dogs<br>value=%{x}<br>index=%{y}<extra></extra>",
         "legendgroup": "dogs",
         "marker": {
          "color": "#19d3f3",
          "pattern": {
           "shape": ""
          }
         },
         "name": "dogs",
         "offsetgroup": "dogs",
         "orientation": "h",
         "showlegend": true,
         "textposition": "auto",
         "type": "bar",
         "x": [
          1,
          1,
          null,
          null
         ],
         "xaxis": "x",
         "y": [
          "Matthew KPE Count",
          "Luke KPE Count",
          "Mark KPE Count",
          "John KPE Count"
         ],
         "yaxis": "y"
        },
        {
         "alignmentgroup": "True",
         "hovertemplate": "variable=pearls<br>value=%{x}<br>index=%{y}<extra></extra>",
         "legendgroup": "pearls",
         "marker": {
          "color": "#FF6692",
          "pattern": {
           "shape": ""
          }
         },
         "name": "pearls",
         "offsetgroup": "pearls",
         "orientation": "h",
         "showlegend": true,
         "textposition": "auto",
         "type": "bar",
         "x": [
          1,
          null,
          null,
          null
         ],
         "xaxis": "x",
         "y": [
          "Matthew KPE Count",
          "Luke KPE Count",
          "Mark KPE Count",
          "John KPE Count"
         ],
         "yaxis": "y"
        },
        {
         "alignmentgroup": "True",
         "hovertemplate": "variable=swine<br>value=%{x}<br>index=%{y}<extra></extra>",
         "legendgroup": "swine",
         "marker": {
          "color": "#B6E880",
          "pattern": {
           "shape": ""
          }
         },
         "name": "swine",
         "offsetgroup": "swine",
         "orientation": "h",
         "showlegend": true,
         "textposition": "auto",
         "type": "bar",
         "x": [
          1,
          1,
          1,
          null
         ],
         "xaxis": "x",
         "y": [
          "Matthew KPE Count",
          "Luke KPE Count",
          "Mark KPE Count",
          "John KPE Count"
         ],
         "yaxis": "y"
        },
        {
         "alignmentgroup": "True",
         "hovertemplate": "variable=Seek<br>value=%{x}<br>index=%{y}<extra></extra>",
         "legendgroup": "Seek",
         "marker": {
          "color": "#FF97FF",
          "pattern": {
           "shape": ""
          }
         },
         "name": "Seek",
         "offsetgroup": "Seek",
         "orientation": "h",
         "showlegend": true,
         "textposition": "auto",
         "type": "bar",
         "x": [
          1,
          1,
          null,
          null
         ],
         "xaxis": "x",
         "y": [
          "Matthew KPE Count",
          "Luke KPE Count",
          "Mark KPE Count",
          "John KPE Count"
         ],
         "yaxis": "y"
        },
        {
         "alignmentgroup": "True",
         "hovertemplate": "variable=Knock<br>value=%{x}<br>index=%{y}<extra></extra>",
         "legendgroup": "Knock",
         "marker": {
          "color": "#FECB52",
          "pattern": {
           "shape": ""
          }
         },
         "name": "Knock",
         "offsetgroup": "Knock",
         "orientation": "h",
         "showlegend": true,
         "textposition": "auto",
         "type": "bar",
         "x": [
          1,
          1,
          null,
          null
         ],
         "xaxis": "x",
         "y": [
          "Matthew KPE Count",
          "Luke KPE Count",
          "Mark KPE Count",
          "John KPE Count"
         ],
         "yaxis": "y"
        },
        {
         "alignmentgroup": "True",
         "hovertemplate": "variable=fish<br>value=%{x}<br>index=%{y}<extra></extra>",
         "legendgroup": "fish",
         "marker": {
          "color": "#636efa",
          "pattern": {
           "shape": ""
          }
         },
         "name": "fish",
         "offsetgroup": "fish",
         "orientation": "h",
         "showlegend": true,
         "textposition": "auto",
         "type": "bar",
         "x": [
          1,
          1,
          null,
          null
         ],
         "xaxis": "x",
         "y": [
          "Matthew KPE Count",
          "Luke KPE Count",
          "Mark KPE Count",
          "John KPE Count"
         ],
         "yaxis": "y"
        },
        {
         "alignmentgroup": "True",
         "hovertemplate": "variable=snake<br>value=%{x}<br>index=%{y}<extra></extra>",
         "legendgroup": "snake",
         "marker": {
          "color": "#EF553B",
          "pattern": {
           "shape": ""
          }
         },
         "name": "snake",
         "offsetgroup": "snake",
         "orientation": "h",
         "showlegend": true,
         "textposition": "auto",
         "type": "bar",
         "x": [
          1,
          null,
          null,
          null
         ],
         "xaxis": "x",
         "y": [
          "Matthew KPE Count",
          "Luke KPE Count",
          "Mark KPE Count",
          "John KPE Count"
         ],
         "yaxis": "y"
        },
        {
         "alignmentgroup": "True",
         "hovertemplate": "variable=perdition<br>value=%{x}<br>index=%{y}<extra></extra>",
         "legendgroup": "perdition",
         "marker": {
          "color": "#00cc96",
          "pattern": {
           "shape": ""
          }
         },
         "name": "perdition",
         "offsetgroup": "perdition",
         "orientation": "h",
         "showlegend": true,
         "textposition": "auto",
         "type": "bar",
         "x": [
          1,
          null,
          null,
          1
         ],
         "xaxis": "x",
         "y": [
          "Matthew KPE Count",
          "Luke KPE Count",
          "Mark KPE Count",
          "John KPE Count"
         ],
         "yaxis": "y"
        },
        {
         "alignmentgroup": "True",
         "hovertemplate": "variable=fruits<br>value=%{x}<br>index=%{y}<extra></extra>",
         "legendgroup": "fruits",
         "marker": {
          "color": "#ab63fa",
          "pattern": {
           "shape": ""
          }
         },
         "name": "fruits",
         "offsetgroup": "fruits",
         "orientation": "h",
         "showlegend": true,
         "textposition": "auto",
         "type": "bar",
         "x": [
          1,
          1,
          null,
          null
         ],
         "xaxis": "x",
         "y": [
          "Matthew KPE Count",
          "Luke KPE Count",
          "Mark KPE Count",
          "John KPE Count"
         ],
         "yaxis": "y"
        },
        {
         "alignmentgroup": "True",
         "hovertemplate": "variable=grapes<br>value=%{x}<br>index=%{y}<extra></extra>",
         "legendgroup": "grapes",
         "marker": {
          "color": "#FFA15A",
          "pattern": {
           "shape": ""
          }
         },
         "name": "grapes",
         "offsetgroup": "grapes",
         "orientation": "h",
         "showlegend": true,
         "textposition": "auto",
         "type": "bar",
         "x": [
          1,
          null,
          null,
          null
         ],
         "xaxis": "x",
         "y": [
          "Matthew KPE Count",
          "Luke KPE Count",
          "Mark KPE Count",
          "John KPE Count"
         ],
         "yaxis": "y"
        },
        {
         "alignmentgroup": "True",
         "hovertemplate": "variable=figs<br>value=%{x}<br>index=%{y}<extra></extra>",
         "legendgroup": "figs",
         "marker": {
          "color": "#19d3f3",
          "pattern": {
           "shape": ""
          }
         },
         "name": "figs",
         "offsetgroup": "figs",
         "orientation": "h",
         "showlegend": true,
         "textposition": "auto",
         "type": "bar",
         "x": [
          1,
          null,
          1,
          null
         ],
         "xaxis": "x",
         "y": [
          "Matthew KPE Count",
          "Luke KPE Count",
          "Mark KPE Count",
          "John KPE Count"
         ],
         "yaxis": "y"
        },
        {
         "alignmentgroup": "True",
         "hovertemplate": "variable=thistles<br>value=%{x}<br>index=%{y}<extra></extra>",
         "legendgroup": "thistles",
         "marker": {
          "color": "#FF6692",
          "pattern": {
           "shape": ""
          }
         },
         "name": "thistles",
         "offsetgroup": "thistles",
         "orientation": "h",
         "showlegend": true,
         "textposition": "auto",
         "type": "bar",
         "x": [
          1,
          null,
          null,
          null
         ],
         "xaxis": "x",
         "y": [
          "Matthew KPE Count",
          "Luke KPE Count",
          "Mark KPE Count",
          "John KPE Count"
         ],
         "yaxis": "y"
        },
        {
         "alignmentgroup": "True",
         "hovertemplate": "variable=workers<br>value=%{x}<br>index=%{y}<extra></extra>",
         "legendgroup": "workers",
         "marker": {
          "color": "#B6E880",
          "pattern": {
           "shape": ""
          }
         },
         "name": "workers",
         "offsetgroup": "workers",
         "orientation": "h",
         "showlegend": true,
         "textposition": "auto",
         "type": "bar",
         "x": [
          1,
          1,
          null,
          null
         ],
         "xaxis": "x",
         "y": [
          "Matthew KPE Count",
          "Luke KPE Count",
          "Mark KPE Count",
          "John KPE Count"
         ],
         "yaxis": "y"
        },
        {
         "alignmentgroup": "True",
         "hovertemplate": "variable=rains<br>value=%{x}<br>index=%{y}<extra></extra>",
         "legendgroup": "rains",
         "marker": {
          "color": "#FF97FF",
          "pattern": {
           "shape": ""
          }
         },
         "name": "rains",
         "offsetgroup": "rains",
         "orientation": "h",
         "showlegend": true,
         "textposition": "auto",
         "type": "bar",
         "x": [
          1,
          null,
          null,
          null
         ],
         "xaxis": "x",
         "y": [
          "Matthew KPE Count",
          "Luke KPE Count",
          "Mark KPE Count",
          "John KPE Count"
         ],
         "yaxis": "y"
        },
        {
         "alignmentgroup": "True",
         "hovertemplate": "variable=floods<br>value=%{x}<br>index=%{y}<extra></extra>",
         "legendgroup": "floods",
         "marker": {
          "color": "#FECB52",
          "pattern": {
           "shape": ""
          }
         },
         "name": "floods",
         "offsetgroup": "floods",
         "orientation": "h",
         "showlegend": true,
         "textposition": "auto",
         "type": "bar",
         "x": [
          1,
          null,
          null,
          null
         ],
         "xaxis": "x",
         "y": [
          "Matthew KPE Count",
          "Luke KPE Count",
          "Mark KPE Count",
          "John KPE Count"
         ],
         "yaxis": "y"
        },
        {
         "alignmentgroup": "True",
         "hovertemplate": "variable=sand<br>value=%{x}<br>index=%{y}<extra></extra>",
         "legendgroup": "sand",
         "marker": {
          "color": "#636efa",
          "pattern": {
           "shape": ""
          }
         },
         "name": "sand",
         "offsetgroup": "sand",
         "orientation": "h",
         "showlegend": true,
         "textposition": "auto",
         "type": "bar",
         "x": [
          1,
          null,
          null,
          null
         ],
         "xaxis": "x",
         "y": [
          "Matthew KPE Count",
          "Luke KPE Count",
          "Mark KPE Count",
          "John KPE Count"
         ],
         "yaxis": "y"
        },
        {
         "alignmentgroup": "True",
         "hovertemplate": "variable=ruin<br>value=%{x}<br>index=%{y}<extra></extra>",
         "legendgroup": "ruin",
         "marker": {
          "color": "#EF553B",
          "pattern": {
           "shape": ""
          }
         },
         "name": "ruin",
         "offsetgroup": "ruin",
         "orientation": "h",
         "showlegend": true,
         "textposition": "auto",
         "type": "bar",
         "x": [
          1,
          1,
          null,
          null
         ],
         "xaxis": "x",
         "y": [
          "Matthew KPE Count",
          "Luke KPE Count",
          "Mark KPE Count",
          "John KPE Count"
         ],
         "yaxis": "y"
        },
        {
         "alignmentgroup": "True",
         "hovertemplate": "variable=many swine feeding<br>value=%{x}<br>index=%{y}<extra></extra>",
         "legendgroup": "many swine feeding",
         "marker": {
          "color": "#00cc96",
          "pattern": {
           "shape": ""
          }
         },
         "name": "many swine feeding",
         "offsetgroup": "many swine feeding",
         "orientation": "h",
         "showlegend": true,
         "textposition": "auto",
         "type": "bar",
         "x": [
          1,
          null,
          null,
          null
         ],
         "xaxis": "x",
         "y": [
          "Matthew KPE Count",
          "Luke KPE Count",
          "Mark KPE Count",
          "John KPE Count"
         ],
         "yaxis": "y"
        },
        {
         "alignmentgroup": "True",
         "hovertemplate": "variable=steep place<br>value=%{x}<br>index=%{y}<extra></extra>",
         "legendgroup": "steep place",
         "marker": {
          "color": "#ab63fa",
          "pattern": {
           "shape": ""
          }
         },
         "name": "steep place",
         "offsetgroup": "steep place",
         "orientation": "h",
         "showlegend": true,
         "textposition": "auto",
         "type": "bar",
         "x": [
          1,
          null,
          null,
          null
         ],
         "xaxis": "x",
         "y": [
          "Matthew KPE Count",
          "Luke KPE Count",
          "Mark KPE Count",
          "John KPE Count"
         ],
         "yaxis": "y"
        },
        {
         "alignmentgroup": "True",
         "hovertemplate": "variable=great tempest<br>value=%{x}<br>index=%{y}<extra></extra>",
         "legendgroup": "great tempest",
         "marker": {
          "color": "#FFA15A",
          "pattern": {
           "shape": ""
          }
         },
         "name": "great tempest",
         "offsetgroup": "great tempest",
         "orientation": "h",
         "showlegend": true,
         "textposition": "auto",
         "type": "bar",
         "x": [
          1,
          null,
          null,
          null
         ],
         "xaxis": "x",
         "y": [
          "Matthew KPE Count",
          "Luke KPE Count",
          "Mark KPE Count",
          "John KPE Count"
         ],
         "yaxis": "y"
        },
        {
         "alignmentgroup": "True",
         "hovertemplate": "variable=great tranquility<br>value=%{x}<br>index=%{y}<extra></extra>",
         "legendgroup": "great tranquility",
         "marker": {
          "color": "#19d3f3",
          "pattern": {
           "shape": ""
          }
         },
         "name": "great tranquility",
         "offsetgroup": "great tranquility",
         "orientation": "h",
         "showlegend": true,
         "textposition": "auto",
         "type": "bar",
         "x": [
          1,
          null,
          1,
          null
         ],
         "xaxis": "x",
         "y": [
          "Matthew KPE Count",
          "Luke KPE Count",
          "Mark KPE Count",
          "John KPE Count"
         ],
         "yaxis": "y"
        },
        {
         "alignmentgroup": "True",
         "hovertemplate": "variable=one scribe<br>value=%{x}<br>index=%{y}<extra></extra>",
         "legendgroup": "one scribe",
         "marker": {
          "color": "#FF6692",
          "pattern": {
           "shape": ""
          }
         },
         "name": "one scribe",
         "offsetgroup": "one scribe",
         "orientation": "h",
         "showlegend": true,
         "textposition": "auto",
         "type": "bar",
         "x": [
          1,
          null,
          null,
          null
         ],
         "xaxis": "x",
         "y": [
          "Matthew KPE Count",
          "Luke KPE Count",
          "Mark KPE Count",
          "John KPE Count"
         ],
         "yaxis": "y"
        },
        {
         "alignmentgroup": "True",
         "hovertemplate": "variable=entire herd<br>value=%{x}<br>index=%{y}<extra></extra>",
         "legendgroup": "entire herd",
         "marker": {
          "color": "#B6E880",
          "pattern": {
           "shape": ""
          }
         },
         "name": "entire herd",
         "offsetgroup": "entire herd",
         "orientation": "h",
         "showlegend": true,
         "textposition": "auto",
         "type": "bar",
         "x": [
          1,
          null,
          null,
          null
         ],
         "xaxis": "x",
         "y": [
          "Matthew KPE Count",
          "Luke KPE Count",
          "Mark KPE Count",
          "John KPE Count"
         ],
         "yaxis": "y"
        },
        {
         "alignmentgroup": "True",
         "hovertemplate": "variable=O Jesus<br>value=%{x}<br>index=%{y}<extra></extra>",
         "legendgroup": "O Jesus",
         "marker": {
          "color": "#FF97FF",
          "pattern": {
           "shape": ""
          }
         },
         "name": "O Jesus",
         "offsetgroup": "O Jesus",
         "orientation": "h",
         "showlegend": true,
         "textposition": "auto",
         "type": "bar",
         "x": [
          1,
          null,
          null,
          null
         ],
         "xaxis": "x",
         "y": [
          "Matthew KPE Count",
          "Luke KPE Count",
          "Mark KPE Count",
          "John KPE Count"
         ],
         "yaxis": "y"
        },
        {
         "alignmentgroup": "True",
         "hovertemplate": "variable=leprosy<br>value=%{x}<br>index=%{y}<extra></extra>",
         "legendgroup": "leprosy",
         "marker": {
          "color": "#FECB52",
          "pattern": {
           "shape": ""
          }
         },
         "name": "leprosy",
         "offsetgroup": "leprosy",
         "orientation": "h",
         "showlegend": true,
         "textposition": "auto",
         "type": "bar",
         "x": [
          1,
          1,
          1,
          null
         ],
         "xaxis": "x",
         "y": [
          "Matthew KPE Count",
          "Luke KPE Count",
          "Mark KPE Count",
          "John KPE Count"
         ],
         "yaxis": "y"
        },
        {
         "alignmentgroup": "True",
         "hovertemplate": "variable=priest<br>value=%{x}<br>index=%{y}<extra></extra>",
         "legendgroup": "priest",
         "marker": {
          "color": "#636efa",
          "pattern": {
           "shape": ""
          }
         },
         "name": "priest",
         "offsetgroup": "priest",
         "orientation": "h",
         "showlegend": true,
         "textposition": "auto",
         "type": "bar",
         "x": [
          1,
          2,
          null,
          null
         ],
         "xaxis": "x",
         "y": [
          "Matthew KPE Count",
          "Luke KPE Count",
          "Mark KPE Count",
          "John KPE Count"
         ],
         "yaxis": "y"
        },
        {
         "alignmentgroup": "True",
         "hovertemplate": "variable=centurion<br>value=%{x}<br>index=%{y}<extra></extra>",
         "legendgroup": "centurion",
         "marker": {
          "color": "#EF553B",
          "pattern": {
           "shape": ""
          }
         },
         "name": "centurion",
         "offsetgroup": "centurion",
         "orientation": "h",
         "showlegend": true,
         "textposition": "auto",
         "type": "bar",
         "x": [
          1,
          2,
          1,
          null
         ],
         "xaxis": "x",
         "y": [
          "Matthew KPE Count",
          "Luke KPE Count",
          "Mark KPE Count",
          "John KPE Count"
         ],
         "yaxis": "y"
        },
        {
         "alignmentgroup": "True",
         "hovertemplate": "variable=fever<br>value=%{x}<br>index=%{y}<extra></extra>",
         "legendgroup": "fever",
         "marker": {
          "color": "#00cc96",
          "pattern": {
           "shape": ""
          }
         },
         "name": "fever",
         "offsetgroup": "fever",
         "orientation": "h",
         "showlegend": true,
         "textposition": "auto",
         "type": "bar",
         "x": [
          1,
          null,
          1,
          null
         ],
         "xaxis": "x",
         "y": [
          "Matthew KPE Count",
          "Luke KPE Count",
          "Mark KPE Count",
          "John KPE Count"
         ],
         "yaxis": "y"
        },
        {
         "alignmentgroup": "True",
         "hovertemplate": "variable=spirits<br>value=%{x}<br>index=%{y}<extra></extra>",
         "legendgroup": "spirits",
         "marker": {
          "color": "#ab63fa",
          "pattern": {
           "shape": ""
          }
         },
         "name": "spirits",
         "offsetgroup": "spirits",
         "orientation": "h",
         "showlegend": true,
         "textposition": "auto",
         "type": "bar",
         "x": [
          1,
          null,
          1,
          null
         ],
         "xaxis": "x",
         "y": [
          "Matthew KPE Count",
          "Luke KPE Count",
          "Mark KPE Count",
          "John KPE Count"
         ],
         "yaxis": "y"
        },
        {
         "alignmentgroup": "True",
         "hovertemplate": "variable=infirmities<br>value=%{x}<br>index=%{y}<extra></extra>",
         "legendgroup": "infirmities",
         "marker": {
          "color": "#FFA15A",
          "pattern": {
           "shape": ""
          }
         },
         "name": "infirmities",
         "offsetgroup": "infirmities",
         "orientation": "h",
         "showlegend": true,
         "textposition": "auto",
         "type": "bar",
         "x": [
          1,
          2,
          1,
          null
         ],
         "xaxis": "x",
         "y": [
          "Matthew KPE Count",
          "Luke KPE Count",
          "Mark KPE Count",
          "John KPE Count"
         ],
         "yaxis": "y"
        },
        {
         "alignmentgroup": "True",
         "hovertemplate": "variable=diseases<br>value=%{x}<br>index=%{y}<extra></extra>",
         "legendgroup": "diseases",
         "marker": {
          "color": "#19d3f3",
          "pattern": {
           "shape": ""
          }
         },
         "name": "diseases",
         "offsetgroup": "diseases",
         "orientation": "h",
         "showlegend": true,
         "textposition": "auto",
         "type": "bar",
         "x": [
          1,
          3,
          null,
          null
         ],
         "xaxis": "x",
         "y": [
          "Matthew KPE Count",
          "Luke KPE Count",
          "Mark KPE Count",
          "John KPE Count"
         ],
         "yaxis": "y"
        },
        {
         "alignmentgroup": "True",
         "hovertemplate": "variable=Foxes<br>value=%{x}<br>index=%{y}<extra></extra>",
         "legendgroup": "Foxes",
         "marker": {
          "color": "#FF6692",
          "pattern": {
           "shape": ""
          }
         },
         "name": "Foxes",
         "offsetgroup": "Foxes",
         "orientation": "h",
         "showlegend": true,
         "textposition": "auto",
         "type": "bar",
         "x": [
          1,
          null,
          null,
          null
         ],
         "xaxis": "x",
         "y": [
          "Matthew KPE Count",
          "Luke KPE Count",
          "Mark KPE Count",
          "John KPE Count"
         ],
         "yaxis": "y"
        },
        {
         "alignmentgroup": "True",
         "hovertemplate": "variable=dens<br>value=%{x}<br>index=%{y}<extra></extra>",
         "legendgroup": "dens",
         "marker": {
          "color": "#B6E880",
          "pattern": {
           "shape": ""
          }
         },
         "name": "dens",
         "offsetgroup": "dens",
         "orientation": "h",
         "showlegend": true,
         "textposition": "auto",
         "type": "bar",
         "x": [
          1,
          null,
          null,
          null
         ],
         "xaxis": "x",
         "y": [
          "Matthew KPE Count",
          "Luke KPE Count",
          "Mark KPE Count",
          "John KPE Count"
         ],
         "yaxis": "y"
        },
        {
         "alignmentgroup": "True",
         "hovertemplate": "variable=nests<br>value=%{x}<br>index=%{y}<extra></extra>",
         "legendgroup": "nests",
         "marker": {
          "color": "#FF97FF",
          "pattern": {
           "shape": ""
          }
         },
         "name": "nests",
         "offsetgroup": "nests",
         "orientation": "h",
         "showlegend": true,
         "textposition": "auto",
         "type": "bar",
         "x": [
          1,
          null,
          null,
          null
         ],
         "xaxis": "x",
         "y": [
          "Matthew KPE Count",
          "Luke KPE Count",
          "Mark KPE Count",
          "John KPE Count"
         ],
         "yaxis": "y"
        },
        {
         "alignmentgroup": "True",
         "hovertemplate": "variable=Gerasenes<br>value=%{x}<br>index=%{y}<extra></extra>",
         "legendgroup": "Gerasenes",
         "marker": {
          "color": "#FECB52",
          "pattern": {
           "shape": ""
          }
         },
         "name": "Gerasenes",
         "offsetgroup": "Gerasenes",
         "orientation": "h",
         "showlegend": true,
         "textposition": "auto",
         "type": "bar",
         "x": [
          1,
          1,
          1,
          null
         ],
         "xaxis": "x",
         "y": [
          "Matthew KPE Count",
          "Luke KPE Count",
          "Mark KPE Count",
          "John KPE Count"
         ],
         "yaxis": "y"
        },
        {
         "alignmentgroup": "True",
         "hovertemplate": "variable=tombs<br>value=%{x}<br>index=%{y}<extra></extra>",
         "legendgroup": "tombs",
         "marker": {
          "color": "#636efa",
          "pattern": {
           "shape": ""
          }
         },
         "name": "tombs",
         "offsetgroup": "tombs",
         "orientation": "h",
         "showlegend": true,
         "textposition": "auto",
         "type": "bar",
         "x": [
          1,
          null,
          1,
          null
         ],
         "xaxis": "x",
         "y": [
          "Matthew KPE Count",
          "Luke KPE Count",
          "Mark KPE Count",
          "John KPE Count"
         ],
         "yaxis": "y"
        },
        {
         "alignmentgroup": "True",
         "hovertemplate": "variable=shepherds<br>value=%{x}<br>index=%{y}<extra></extra>",
         "legendgroup": "shepherds",
         "marker": {
          "color": "#EF553B",
          "pattern": {
           "shape": ""
          }
         },
         "name": "shepherds",
         "offsetgroup": "shepherds",
         "orientation": "h",
         "showlegend": true,
         "textposition": "auto",
         "type": "bar",
         "x": [
          1,
          1,
          null,
          null
         ],
         "xaxis": "x",
         "y": [
          "Matthew KPE Count",
          "Luke KPE Count",
          "Mark KPE Count",
          "John KPE Count"
         ],
         "yaxis": "y"
        },
        {
         "alignmentgroup": "True",
         "hovertemplate": "variable=many tax collectors<br>value=%{x}<br>index=%{y}<extra></extra>",
         "legendgroup": "many tax collectors",
         "marker": {
          "color": "#00cc96",
          "pattern": {
           "shape": ""
          }
         },
         "name": "many tax collectors",
         "offsetgroup": "many tax collectors",
         "orientation": "h",
         "showlegend": true,
         "textposition": "auto",
         "type": "bar",
         "x": [
          1,
          null,
          1,
          null
         ],
         "xaxis": "x",
         "y": [
          "Matthew KPE Count",
          "Luke KPE Count",
          "Mark KPE Count",
          "John KPE Count"
         ],
         "yaxis": "y"
        },
        {
         "alignmentgroup": "True",
         "hovertemplate": "variable=two blind men<br>value=%{x}<br>index=%{y}<extra></extra>",
         "legendgroup": "two blind men",
         "marker": {
          "color": "#ab63fa",
          "pattern": {
           "shape": ""
          }
         },
         "name": "two blind men",
         "offsetgroup": "two blind men",
         "orientation": "h",
         "showlegend": true,
         "textposition": "auto",
         "type": "bar",
         "x": [
          1,
          null,
          null,
          null
         ],
         "xaxis": "x",
         "y": [
          "Matthew KPE Count",
          "Luke KPE Count",
          "Mark KPE Count",
          "John KPE Count"
         ],
         "yaxis": "y"
        },
        {
         "alignmentgroup": "True",
         "hovertemplate": "variable=tax office<br>value=%{x}<br>index=%{y}<extra></extra>",
         "legendgroup": "tax office",
         "marker": {
          "color": "#FFA15A",
          "pattern": {
           "shape": ""
          }
         },
         "name": "tax office",
         "offsetgroup": "tax office",
         "orientation": "h",
         "showlegend": true,
         "textposition": "auto",
         "type": "bar",
         "x": [
          1,
          null,
          null,
          null
         ],
         "xaxis": "x",
         "y": [
          "Matthew KPE Count",
          "Luke KPE Count",
          "Mark KPE Count",
          "John KPE Count"
         ],
         "yaxis": "y"
        },
        {
         "alignmentgroup": "True",
         "hovertemplate": "variable=new cloth<br>value=%{x}<br>index=%{y}<extra></extra>",
         "legendgroup": "new cloth",
         "marker": {
          "color": "#19d3f3",
          "pattern": {
           "shape": ""
          }
         },
         "name": "new cloth",
         "offsetgroup": "new cloth",
         "orientation": "h",
         "showlegend": true,
         "textposition": "auto",
         "type": "bar",
         "x": [
          1,
          null,
          1,
          null
         ],
         "xaxis": "x",
         "y": [
          "Matthew KPE Count",
          "Luke KPE Count",
          "Mark KPE Count",
          "John KPE Count"
         ],
         "yaxis": "y"
        },
        {
         "alignmentgroup": "True",
         "hovertemplate": "variable=twelve years<br>value=%{x}<br>index=%{y}<extra></extra>",
         "legendgroup": "twelve years",
         "marker": {
          "color": "#FF6692",
          "pattern": {
           "shape": ""
          }
         },
         "name": "twelve years",
         "offsetgroup": "twelve years",
         "orientation": "h",
         "showlegend": true,
         "textposition": "auto",
         "type": "bar",
         "x": [
          1,
          null,
          1,
          null
         ],
         "xaxis": "x",
         "y": [
          "Matthew KPE Count",
          "Luke KPE Count",
          "Mark KPE Count",
          "John KPE Count"
         ],
         "yaxis": "y"
        },
        {
         "alignmentgroup": "True",
         "hovertemplate": "variable=new wine<br>value=%{x}<br>index=%{y}<extra></extra>",
         "legendgroup": "new wine",
         "marker": {
          "color": "#B6E880",
          "pattern": {
           "shape": ""
          }
         },
         "name": "new wine",
         "offsetgroup": "new wine",
         "orientation": "h",
         "showlegend": true,
         "textposition": "auto",
         "type": "bar",
         "x": [
          1,
          1,
          1,
          null
         ],
         "xaxis": "x",
         "y": [
          "Matthew KPE Count",
          "Luke KPE Count",
          "Mark KPE Count",
          "John KPE Count"
         ],
         "yaxis": "y"
        },
        {
         "alignmentgroup": "True",
         "hovertemplate": "variable=old wineskins<br>value=%{x}<br>index=%{y}<extra></extra>",
         "legendgroup": "old wineskins",
         "marker": {
          "color": "#FF97FF",
          "pattern": {
           "shape": ""
          }
         },
         "name": "old wineskins",
         "offsetgroup": "old wineskins",
         "orientation": "h",
         "showlegend": true,
         "textposition": "auto",
         "type": "bar",
         "x": [
          1,
          1,
          1,
          null
         ],
         "xaxis": "x",
         "y": [
          "Matthew KPE Count",
          "Luke KPE Count",
          "Mark KPE Count",
          "John KPE Count"
         ],
         "yaxis": "y"
        },
        {
         "alignmentgroup": "True",
         "hovertemplate": "variable=entire land<br>value=%{x}<br>index=%{y}<extra></extra>",
         "legendgroup": "entire land",
         "marker": {
          "color": "#FECB52",
          "pattern": {
           "shape": ""
          }
         },
         "name": "entire land",
         "offsetgroup": "entire land",
         "orientation": "h",
         "showlegend": true,
         "textposition": "auto",
         "type": "bar",
         "x": [
          1,
          1,
          null,
          null
         ],
         "xaxis": "x",
         "y": [
          "Matthew KPE Count",
          "Luke KPE Count",
          "Mark KPE Count",
          "John KPE Count"
         ],
         "yaxis": "y"
        },
        {
         "alignmentgroup": "True",
         "hovertemplate": "variable=tumultuous crowd<br>value=%{x}<br>index=%{y}<extra></extra>",
         "legendgroup": "tumultuous crowd",
         "marker": {
          "color": "#636efa",
          "pattern": {
           "shape": ""
          }
         },
         "name": "tumultuous crowd",
         "offsetgroup": "tumultuous crowd",
         "orientation": "h",
         "showlegend": true,
         "textposition": "auto",
         "type": "bar",
         "x": [
          1,
          null,
          null,
          null
         ],
         "xaxis": "x",
         "y": [
          "Matthew KPE Count",
          "Luke KPE Count",
          "Mark KPE Count",
          "John KPE Count"
         ],
         "yaxis": "y"
        },
        {
         "alignmentgroup": "True",
         "hovertemplate": "variable=old garment<br>value=%{x}<br>index=%{y}<extra></extra>",
         "legendgroup": "old garment",
         "marker": {
          "color": "#EF553B",
          "pattern": {
           "shape": ""
          }
         },
         "name": "old garment",
         "offsetgroup": "old garment",
         "orientation": "h",
         "showlegend": true,
         "textposition": "auto",
         "type": "bar",
         "x": [
          1,
          1,
          1,
          null
         ],
         "xaxis": "x",
         "y": [
          "Matthew KPE Count",
          "Luke KPE Count",
          "Mark KPE Count",
          "John KPE Count"
         ],
         "yaxis": "y"
        },
        {
         "alignmentgroup": "True",
         "hovertemplate": "variable=mute man<br>value=%{x}<br>index=%{y}<extra></extra>",
         "legendgroup": "mute man",
         "marker": {
          "color": "#00cc96",
          "pattern": {
           "shape": ""
          }
         },
         "name": "mute man",
         "offsetgroup": "mute man",
         "orientation": "h",
         "showlegend": true,
         "textposition": "auto",
         "type": "bar",
         "x": [
          1,
          1,
          null,
          null
         ],
         "xaxis": "x",
         "y": [
          "Matthew KPE Count",
          "Luke KPE Count",
          "Mark KPE Count",
          "John KPE Count"
         ],
         "yaxis": "y"
        },
        {
         "alignmentgroup": "True",
         "hovertemplate": "variable=paralytic<br>value=%{x}<br>index=%{y}<extra></extra>",
         "legendgroup": "paralytic",
         "marker": {
          "color": "#ab63fa",
          "pattern": {
           "shape": ""
          }
         },
         "name": "paralytic",
         "offsetgroup": "paralytic",
         "orientation": "h",
         "showlegend": true,
         "textposition": "auto",
         "type": "bar",
         "x": [
          1,
          1,
          1,
          null
         ],
         "xaxis": "x",
         "y": [
          "Matthew KPE Count",
          "Luke KPE Count",
          "Mark KPE Count",
          "John KPE Count"
         ],
         "yaxis": "y"
        },
        {
         "alignmentgroup": "True",
         "hovertemplate": "variable=bed<br>value=%{x}<br>index=%{y}<extra></extra>",
         "legendgroup": "bed",
         "marker": {
          "color": "#FFA15A",
          "pattern": {
           "shape": ""
          }
         },
         "name": "bed",
         "offsetgroup": "bed",
         "orientation": "h",
         "showlegend": true,
         "textposition": "auto",
         "type": "bar",
         "x": [
          1,
          2,
          1,
          1
         ],
         "xaxis": "x",
         "y": [
          "Matthew KPE Count",
          "Luke KPE Count",
          "Mark KPE Count",
          "John KPE Count"
         ],
         "yaxis": "y"
        },
        {
         "alignmentgroup": "True",
         "hovertemplate": "variable=Matthew<br>value=%{x}<br>index=%{y}<extra></extra>",
         "legendgroup": "Matthew",
         "marker": {
          "color": "#19d3f3",
          "pattern": {
           "shape": ""
          }
         },
         "name": "Matthew",
         "offsetgroup": "Matthew",
         "orientation": "h",
         "showlegend": true,
         "textposition": "auto",
         "type": "bar",
         "x": [
          1,
          1,
          1,
          null
         ],
         "xaxis": "x",
         "y": [
          "Matthew KPE Count",
          "Luke KPE Count",
          "Mark KPE Count",
          "John KPE Count"
         ],
         "yaxis": "y"
        },
        {
         "alignmentgroup": "True",
         "hovertemplate": "variable=physician<br>value=%{x}<br>index=%{y}<extra></extra>",
         "legendgroup": "physician",
         "marker": {
          "color": "#FF6692",
          "pattern": {
           "shape": ""
          }
         },
         "name": "physician",
         "offsetgroup": "physician",
         "orientation": "h",
         "showlegend": true,
         "textposition": "auto",
         "type": "bar",
         "x": [
          1,
          null,
          null,
          null
         ],
         "xaxis": "x",
         "y": [
          "Matthew KPE Count",
          "Luke KPE Count",
          "Mark KPE Count",
          "John KPE Count"
         ],
         "yaxis": "y"
        },
        {
         "alignmentgroup": "True",
         "hovertemplate": "variable=patch<br>value=%{x}<br>index=%{y}<extra></extra>",
         "legendgroup": "patch",
         "marker": {
          "color": "#B6E880",
          "pattern": {
           "shape": ""
          }
         },
         "name": "patch",
         "offsetgroup": "patch",
         "orientation": "h",
         "showlegend": true,
         "textposition": "auto",
         "type": "bar",
         "x": [
          1,
          1,
          1,
          null
         ],
         "xaxis": "x",
         "y": [
          "Matthew KPE Count",
          "Luke KPE Count",
          "Mark KPE Count",
          "John KPE Count"
         ],
         "yaxis": "y"
        },
        {
         "alignmentgroup": "True",
         "hovertemplate": "variable=fullness<br>value=%{x}<br>index=%{y}<extra></extra>",
         "legendgroup": "fullness",
         "marker": {
          "color": "#FF97FF",
          "pattern": {
           "shape": ""
          }
         },
         "name": "fullness",
         "offsetgroup": "fullness",
         "orientation": "h",
         "showlegend": true,
         "textposition": "auto",
         "type": "bar",
         "x": [
          1,
          1,
          null,
          2
         ],
         "xaxis": "x",
         "y": [
          "Matthew KPE Count",
          "Luke KPE Count",
          "Mark KPE Count",
          "John KPE Count"
         ],
         "yaxis": "y"
        },
        {
         "alignmentgroup": "True",
         "hovertemplate": "variable=tear<br>value=%{x}<br>index=%{y}<extra></extra>",
         "legendgroup": "tear",
         "marker": {
          "color": "#FECB52",
          "pattern": {
           "shape": ""
          }
         },
         "name": "tear",
         "offsetgroup": "tear",
         "orientation": "h",
         "showlegend": true,
         "textposition": "auto",
         "type": "bar",
         "x": [
          1,
          null,
          1,
          null
         ],
         "xaxis": "x",
         "y": [
          "Matthew KPE Count",
          "Luke KPE Count",
          "Mark KPE Count",
          "John KPE Count"
         ],
         "yaxis": "y"
        },
        {
         "alignmentgroup": "True",
         "hovertemplate": "variable=flow<br>value=%{x}<br>index=%{y}<extra></extra>",
         "legendgroup": "flow",
         "marker": {
          "color": "#636efa",
          "pattern": {
           "shape": ""
          }
         },
         "name": "flow",
         "offsetgroup": "flow",
         "orientation": "h",
         "showlegend": true,
         "textposition": "auto",
         "type": "bar",
         "x": [
          1,
          null,
          1,
          null
         ],
         "xaxis": "x",
         "y": [
          "Matthew KPE Count",
          "Luke KPE Count",
          "Mark KPE Count",
          "John KPE Count"
         ],
         "yaxis": "y"
        },
        {
         "alignmentgroup": "True",
         "hovertemplate": "variable=musicians<br>value=%{x}<br>index=%{y}<extra></extra>",
         "legendgroup": "musicians",
         "marker": {
          "color": "#EF553B",
          "pattern": {
           "shape": ""
          }
         },
         "name": "musicians",
         "offsetgroup": "musicians",
         "orientation": "h",
         "showlegend": true,
         "textposition": "auto",
         "type": "bar",
         "x": [
          1,
          null,
          null,
          null
         ],
         "xaxis": "x",
         "y": [
          "Matthew KPE Count",
          "Luke KPE Count",
          "Mark KPE Count",
          "John KPE Count"
         ],
         "yaxis": "y"
        },
        {
         "alignmentgroup": "True",
         "hovertemplate": "variable=illness<br>value=%{x}<br>index=%{y}<extra></extra>",
         "legendgroup": "illness",
         "marker": {
          "color": "#00cc96",
          "pattern": {
           "shape": ""
          }
         },
         "name": "illness",
         "offsetgroup": "illness",
         "orientation": "h",
         "showlegend": true,
         "textposition": "auto",
         "type": "bar",
         "x": [
          1,
          1,
          null,
          null
         ],
         "xaxis": "x",
         "y": [
          "Matthew KPE Count",
          "Luke KPE Count",
          "Mark KPE Count",
          "John KPE Count"
         ],
         "yaxis": "y"
        },
        {
         "alignmentgroup": "True",
         "hovertemplate": "variable=laborers<br>value=%{x}<br>index=%{y}<extra></extra>",
         "legendgroup": "laborers",
         "marker": {
          "color": "#ab63fa",
          "pattern": {
           "shape": ""
          }
         },
         "name": "laborers",
         "offsetgroup": "laborers",
         "orientation": "h",
         "showlegend": true,
         "textposition": "auto",
         "type": "bar",
         "x": [
          1,
          null,
          null,
          null
         ],
         "xaxis": "x",
         "y": [
          "Matthew KPE Count",
          "Luke KPE Count",
          "Mark KPE Count",
          "John KPE Count"
         ],
         "yaxis": "y"
        },
        {
         "alignmentgroup": "True",
         "hovertemplate": "variable=blind see<br>value=%{x}<br>index=%{y}<extra></extra>",
         "legendgroup": "blind see",
         "marker": {
          "color": "#FFA15A",
          "pattern": {
           "shape": ""
          }
         },
         "name": "blind see",
         "offsetgroup": "blind see",
         "orientation": "h",
         "showlegend": true,
         "textposition": "auto",
         "type": "bar",
         "x": [
          1,
          1,
          null,
          null
         ],
         "xaxis": "x",
         "y": [
          "Matthew KPE Count",
          "Luke KPE Count",
          "Mark KPE Count",
          "John KPE Count"
         ],
         "yaxis": "y"
        },
        {
         "alignmentgroup": "True",
         "hovertemplate": "variable=lame walk<br>value=%{x}<br>index=%{y}<extra></extra>",
         "legendgroup": "lame walk",
         "marker": {
          "color": "#19d3f3",
          "pattern": {
           "shape": ""
          }
         },
         "name": "lame walk",
         "offsetgroup": "lame walk",
         "orientation": "h",
         "showlegend": true,
         "textposition": "auto",
         "type": "bar",
         "x": [
          1,
          1,
          null,
          null
         ],
         "xaxis": "x",
         "y": [
          "Matthew KPE Count",
          "Luke KPE Count",
          "Mark KPE Count",
          "John KPE Count"
         ],
         "yaxis": "y"
        },
        {
         "alignmentgroup": "True",
         "hovertemplate": "variable=soft garments<br>value=%{x}<br>index=%{y}<extra></extra>",
         "legendgroup": "soft garments",
         "marker": {
          "color": "#FF6692",
          "pattern": {
           "shape": ""
          }
         },
         "name": "soft garments",
         "offsetgroup": "soft garments",
         "orientation": "h",
         "showlegend": true,
         "textposition": "auto",
         "type": "bar",
         "x": [
          1,
          1,
          null,
          null
         ],
         "xaxis": "x",
         "y": [
          "Matthew KPE Count",
          "Luke KPE Count",
          "Mark KPE Count",
          "John KPE Count"
         ],
         "yaxis": "y"
        },
        {
         "alignmentgroup": "True",
         "hovertemplate": "variable=lepers<br>value=%{x}<br>index=%{y}<extra></extra>",
         "legendgroup": "lepers",
         "marker": {
          "color": "#B6E880",
          "pattern": {
           "shape": ""
          }
         },
         "name": "lepers",
         "offsetgroup": "lepers",
         "orientation": "h",
         "showlegend": true,
         "textposition": "auto",
         "type": "bar",
         "x": [
          1,
          1,
          null,
          null
         ],
         "xaxis": "x",
         "y": [
          "Matthew KPE Count",
          "Luke KPE Count",
          "Mark KPE Count",
          "John KPE Count"
         ],
         "yaxis": "y"
        },
        {
         "alignmentgroup": "True",
         "hovertemplate": "variable=deaf<br>value=%{x}<br>index=%{y}<extra></extra>",
         "legendgroup": "deaf",
         "marker": {
          "color": "#FF97FF",
          "pattern": {
           "shape": ""
          }
         },
         "name": "deaf",
         "offsetgroup": "deaf",
         "orientation": "h",
         "showlegend": true,
         "textposition": "auto",
         "type": "bar",
         "x": [
          1,
          1,
          1,
          null
         ],
         "xaxis": "x",
         "y": [
          "Matthew KPE Count",
          "Luke KPE Count",
          "Mark KPE Count",
          "John KPE Count"
         ],
         "yaxis": "y"
        },
        {
         "alignmentgroup": "True",
         "hovertemplate": "variable=offense<br>value=%{x}<br>index=%{y}<extra></extra>",
         "legendgroup": "offense",
         "marker": {
          "color": "#FECB52",
          "pattern": {
           "shape": ""
          }
         },
         "name": "offense",
         "offsetgroup": "offense",
         "orientation": "h",
         "showlegend": true,
         "textposition": "auto",
         "type": "bar",
         "x": [
          1,
          1,
          null,
          null
         ],
         "xaxis": "x",
         "y": [
          "Matthew KPE Count",
          "Luke KPE Count",
          "Mark KPE Count",
          "John KPE Count"
         ],
         "yaxis": "y"
        },
        {
         "alignmentgroup": "True",
         "hovertemplate": "variable=violence<br>value=%{x}<br>index=%{y}<extra></extra>",
         "legendgroup": "violence",
         "marker": {
          "color": "#636efa",
          "pattern": {
           "shape": ""
          }
         },
         "name": "violence",
         "offsetgroup": "violence",
         "orientation": "h",
         "showlegend": true,
         "textposition": "auto",
         "type": "bar",
         "x": [
          1,
          1,
          null,
          null
         ],
         "xaxis": "x",
         "y": [
          "Matthew KPE Count",
          "Luke KPE Count",
          "Mark KPE Count",
          "John KPE Count"
         ],
         "yaxis": "y"
        },
        {
         "alignmentgroup": "True",
         "hovertemplate": "variable=companions<br>value=%{x}<br>index=%{y}<extra></extra>",
         "legendgroup": "companions",
         "marker": {
          "color": "#EF553B",
          "pattern": {
           "shape": ""
          }
         },
         "name": "companions",
         "offsetgroup": "companions",
         "orientation": "h",
         "showlegend": true,
         "textposition": "auto",
         "type": "bar",
         "x": [
          1,
          null,
          null,
          null
         ],
         "xaxis": "x",
         "y": [
          "Matthew KPE Count",
          "Luke KPE Count",
          "Mark KPE Count",
          "John KPE Count"
         ],
         "yaxis": "y"
        },
        {
         "alignmentgroup": "True",
         "hovertemplate": "variable=music<br>value=%{x}<br>index=%{y}<extra></extra>",
         "legendgroup": "music",
         "marker": {
          "color": "#00cc96",
          "pattern": {
           "shape": ""
          }
         },
         "name": "music",
         "offsetgroup": "music",
         "orientation": "h",
         "showlegend": true,
         "textposition": "auto",
         "type": "bar",
         "x": [
          1,
          1,
          null,
          null
         ],
         "xaxis": "x",
         "y": [
          "Matthew KPE Count",
          "Luke KPE Count",
          "Mark KPE Count",
          "John KPE Count"
         ],
         "yaxis": "y"
        },
        {
         "alignmentgroup": "True",
         "hovertemplate": "variable=The<br>value=%{x}<br>index=%{y}<extra></extra>",
         "legendgroup": "The",
         "marker": {
          "color": "#ab63fa",
          "pattern": {
           "shape": ""
          }
         },
         "name": "The",
         "offsetgroup": "The",
         "orientation": "h",
         "showlegend": true,
         "textposition": "auto",
         "type": "bar",
         "x": [
          1,
          1,
          1,
          null
         ],
         "xaxis": "x",
         "y": [
          "Matthew KPE Count",
          "Luke KPE Count",
          "Mark KPE Count",
          "John KPE Count"
         ],
         "yaxis": "y"
        },
        {
         "alignmentgroup": "True",
         "hovertemplate": "variable=friend<br>value=%{x}<br>index=%{y}<extra></extra>",
         "legendgroup": "friend",
         "marker": {
          "color": "#FFA15A",
          "pattern": {
           "shape": ""
          }
         },
         "name": "friend",
         "offsetgroup": "friend",
         "orientation": "h",
         "showlegend": true,
         "textposition": "auto",
         "type": "bar",
         "x": [
          1,
          1,
          null,
          3
         ],
         "xaxis": "x",
         "y": [
          "Matthew KPE Count",
          "Luke KPE Count",
          "Mark KPE Count",
          "John KPE Count"
         ],
         "yaxis": "y"
        },
        {
         "alignmentgroup": "True",
         "hovertemplate": "variable=Chorazin<br>value=%{x}<br>index=%{y}<extra></extra>",
         "legendgroup": "Chorazin",
         "marker": {
          "color": "#19d3f3",
          "pattern": {
           "shape": ""
          }
         },
         "name": "Chorazin",
         "offsetgroup": "Chorazin",
         "orientation": "h",
         "showlegend": true,
         "textposition": "auto",
         "type": "bar",
         "x": [
          1,
          null,
          null,
          null
         ],
         "xaxis": "x",
         "y": [
          "Matthew KPE Count",
          "Luke KPE Count",
          "Mark KPE Count",
          "John KPE Count"
         ],
         "yaxis": "y"
        },
        {
         "alignmentgroup": "True",
         "hovertemplate": "variable=Bethsaida<br>value=%{x}<br>index=%{y}<extra></extra>",
         "legendgroup": "Bethsaida",
         "marker": {
          "color": "#FF6692",
          "pattern": {
           "shape": ""
          }
         },
         "name": "Bethsaida",
         "offsetgroup": "Bethsaida",
         "orientation": "h",
         "showlegend": true,
         "textposition": "auto",
         "type": "bar",
         "x": [
          1,
          1,
          1,
          2
         ],
         "xaxis": "x",
         "y": [
          "Matthew KPE Count",
          "Luke KPE Count",
          "Mark KPE Count",
          "John KPE Count"
         ],
         "yaxis": "y"
        },
        {
         "alignmentgroup": "True",
         "hovertemplate": "variable=haircloth<br>value=%{x}<br>index=%{y}<extra></extra>",
         "legendgroup": "haircloth",
         "marker": {
          "color": "#B6E880",
          "pattern": {
           "shape": ""
          }
         },
         "name": "haircloth",
         "offsetgroup": "haircloth",
         "orientation": "h",
         "showlegend": true,
         "textposition": "auto",
         "type": "bar",
         "x": [
          1,
          null,
          null,
          null
         ],
         "xaxis": "x",
         "y": [
          "Matthew KPE Count",
          "Luke KPE Count",
          "Mark KPE Count",
          "John KPE Count"
         ],
         "yaxis": "y"
        },
        {
         "alignmentgroup": "True",
         "hovertemplate": "variable=ashes<br>value=%{x}<br>index=%{y}<extra></extra>",
         "legendgroup": "ashes",
         "marker": {
          "color": "#FF97FF",
          "pattern": {
           "shape": ""
          }
         },
         "name": "ashes",
         "offsetgroup": "ashes",
         "orientation": "h",
         "showlegend": true,
         "textposition": "auto",
         "type": "bar",
         "x": [
          1,
          null,
          null,
          null
         ],
         "xaxis": "x",
         "y": [
          "Matthew KPE Count",
          "Luke KPE Count",
          "Mark KPE Count",
          "John KPE Count"
         ],
         "yaxis": "y"
        },
        {
         "alignmentgroup": "True",
         "hovertemplate": "variable=Sodom<br>value=%{x}<br>index=%{y}<extra></extra>",
         "legendgroup": "Sodom",
         "marker": {
          "color": "#FECB52",
          "pattern": {
           "shape": ""
          }
         },
         "name": "Sodom",
         "offsetgroup": "Sodom",
         "orientation": "h",
         "showlegend": true,
         "textposition": "auto",
         "type": "bar",
         "x": [
          1,
          1,
          null,
          null
         ],
         "xaxis": "x",
         "y": [
          "Matthew KPE Count",
          "Luke KPE Count",
          "Mark KPE Count",
          "John KPE Count"
         ],
         "yaxis": "y"
        },
        {
         "alignmentgroup": "True",
         "hovertemplate": "variable=little<br>value=%{x}<br>index=%{y}<extra></extra>",
         "legendgroup": "little",
         "marker": {
          "color": "#636efa",
          "pattern": {
           "shape": ""
          }
         },
         "name": "little",
         "offsetgroup": "little",
         "orientation": "h",
         "showlegend": true,
         "textposition": "auto",
         "type": "bar",
         "x": [
          1,
          1,
          2,
          null
         ],
         "xaxis": "x",
         "y": [
          "Matthew KPE Count",
          "Luke KPE Count",
          "Mark KPE Count",
          "John KPE Count"
         ],
         "yaxis": "y"
        },
        {
         "alignmentgroup": "True",
         "hovertemplate": "variable=souls<br>value=%{x}<br>index=%{y}<extra></extra>",
         "legendgroup": "souls",
         "marker": {
          "color": "#EF553B",
          "pattern": {
           "shape": ""
          }
         },
         "name": "souls",
         "offsetgroup": "souls",
         "orientation": "h",
         "showlegend": true,
         "textposition": "auto",
         "type": "bar",
         "x": [
          1,
          1,
          null,
          null
         ],
         "xaxis": "x",
         "y": [
          "Matthew KPE Count",
          "Luke KPE Count",
          "Mark KPE Count",
          "John KPE Count"
         ],
         "yaxis": "y"
        },
        {
         "alignmentgroup": "True",
         "hovertemplate": "variable=burden<br>value=%{x}<br>index=%{y}<extra></extra>",
         "legendgroup": "burden",
         "marker": {
          "color": "#00cc96",
          "pattern": {
           "shape": ""
          }
         },
         "name": "burden",
         "offsetgroup": "burden",
         "orientation": "h",
         "showlegend": true,
         "textposition": "auto",
         "type": "bar",
         "x": [
          1,
          null,
          null,
          null
         ],
         "xaxis": "x",
         "y": [
          "Matthew KPE Count",
          "Luke KPE Count",
          "Mark KPE Count",
          "John KPE Count"
         ],
         "yaxis": "y"
        },
        {
         "alignmentgroup": "True",
         "hovertemplate": "variable=other one<br>value=%{x}<br>index=%{y}<extra></extra>",
         "legendgroup": "other one",
         "marker": {
          "color": "#ab63fa",
          "pattern": {
           "shape": ""
          }
         },
         "name": "other one",
         "offsetgroup": "other one",
         "orientation": "h",
         "showlegend": true,
         "textposition": "auto",
         "type": "bar",
         "x": [
          1,
          null,
          null,
          null
         ],
         "xaxis": "x",
         "y": [
          "Matthew KPE Count",
          "Luke KPE Count",
          "Mark KPE Count",
          "John KPE Count"
         ],
         "yaxis": "y"
        },
        {
         "alignmentgroup": "True",
         "hovertemplate": "variable=smoking wick<br>value=%{x}<br>index=%{y}<extra></extra>",
         "legendgroup": "smoking wick",
         "marker": {
          "color": "#FFA15A",
          "pattern": {
           "shape": ""
          }
         },
         "name": "smoking wick",
         "offsetgroup": "smoking wick",
         "orientation": "h",
         "showlegend": true,
         "textposition": "auto",
         "type": "bar",
         "x": [
          1,
          null,
          null,
          null
         ],
         "xaxis": "x",
         "y": [
          "Matthew KPE Count",
          "Luke KPE Count",
          "Mark KPE Count",
          "John KPE Count"
         ],
         "yaxis": "y"
        },
        {
         "alignmentgroup": "True",
         "hovertemplate": "variable=three nights<br>value=%{x}<br>index=%{y}<extra></extra>",
         "legendgroup": "three nights",
         "marker": {
          "color": "#19d3f3",
          "pattern": {
           "shape": ""
          }
         },
         "name": "three nights",
         "offsetgroup": "three nights",
         "orientation": "h",
         "showlegend": true,
         "textposition": "auto",
         "type": "bar",
         "x": [
          1,
          null,
          null,
          null
         ],
         "xaxis": "x",
         "y": [
          "Matthew KPE Count",
          "Luke KPE Count",
          "Mark KPE Count",
          "John KPE Count"
         ],
         "yaxis": "y"
        },
        {
         "alignmentgroup": "True",
         "hovertemplate": "variable=The Queen<br>value=%{x}<br>index=%{y}<extra></extra>",
         "legendgroup": "The Queen",
         "marker": {
          "color": "#FF6692",
          "pattern": {
           "shape": ""
          }
         },
         "name": "The Queen",
         "offsetgroup": "The Queen",
         "orientation": "h",
         "showlegend": true,
         "textposition": "auto",
         "type": "bar",
         "x": [
          1,
          null,
          null,
          null
         ],
         "xaxis": "x",
         "y": [
          "Matthew KPE Count",
          "Luke KPE Count",
          "Mark KPE Count",
          "John KPE Count"
         ],
         "yaxis": "y"
        },
        {
         "alignmentgroup": "True",
         "hovertemplate": "variable=dry places<br>value=%{x}<br>index=%{y}<extra></extra>",
         "legendgroup": "dry places",
         "marker": {
          "color": "#B6E880",
          "pattern": {
           "shape": ""
          }
         },
         "name": "dry places",
         "offsetgroup": "dry places",
         "orientation": "h",
         "showlegend": true,
         "textposition": "auto",
         "type": "bar",
         "x": [
          1,
          null,
          null,
          null
         ],
         "xaxis": "x",
         "y": [
          "Matthew KPE Count",
          "Luke KPE Count",
          "Mark KPE Count",
          "John KPE Count"
         ],
         "yaxis": "y"
        },
        {
         "alignmentgroup": "True",
         "hovertemplate": "variable=good storehouse<br>value=%{x}<br>index=%{y}<extra></extra>",
         "legendgroup": "good storehouse",
         "marker": {
          "color": "#FF97FF",
          "pattern": {
           "shape": ""
          }
         },
         "name": "good storehouse",
         "offsetgroup": "good storehouse",
         "orientation": "h",
         "showlegend": true,
         "textposition": "auto",
         "type": "bar",
         "x": [
          1,
          null,
          null,
          null
         ],
         "xaxis": "x",
         "y": [
          "Matthew KPE Count",
          "Luke KPE Count",
          "Mark KPE Count",
          "John KPE Count"
         ],
         "yaxis": "y"
        },
        {
         "alignmentgroup": "True",
         "hovertemplate": "variable=evil things<br>value=%{x}<br>index=%{y}<extra></extra>",
         "legendgroup": "evil things",
         "marker": {
          "color": "#FECB52",
          "pattern": {
           "shape": ""
          }
         },
         "name": "evil things",
         "offsetgroup": "evil things",
         "orientation": "h",
         "showlegend": true,
         "textposition": "auto",
         "type": "bar",
         "x": [
          1,
          null,
          null,
          null
         ],
         "xaxis": "x",
         "y": [
          "Matthew KPE Count",
          "Luke KPE Count",
          "Mark KPE Count",
          "John KPE Count"
         ],
         "yaxis": "y"
        },
        {
         "alignmentgroup": "True",
         "hovertemplate": "variable=evil storehouse<br>value=%{x}<br>index=%{y}<extra></extra>",
         "legendgroup": "evil storehouse",
         "marker": {
          "color": "#636efa",
          "pattern": {
           "shape": ""
          }
         },
         "name": "evil storehouse",
         "offsetgroup": "evil storehouse",
         "orientation": "h",
         "showlegend": true,
         "textposition": "auto",
         "type": "bar",
         "x": [
          1,
          null,
          null,
          null
         ],
         "xaxis": "x",
         "y": [
          "Matthew KPE Count",
          "Luke KPE Count",
          "Mark KPE Count",
          "John KPE Count"
         ],
         "yaxis": "y"
        },
        {
         "alignmentgroup": "True",
         "hovertemplate": "variable=ripe grain<br>value=%{x}<br>index=%{y}<extra></extra>",
         "legendgroup": "ripe grain",
         "marker": {
          "color": "#EF553B",
          "pattern": {
           "shape": ""
          }
         },
         "name": "ripe grain",
         "offsetgroup": "ripe grain",
         "orientation": "h",
         "showlegend": true,
         "textposition": "auto",
         "type": "bar",
         "x": [
          1,
          null,
          1,
          null
         ],
         "xaxis": "x",
         "y": [
          "Matthew KPE Count",
          "Luke KPE Count",
          "Mark KPE Count",
          "John KPE Count"
         ],
         "yaxis": "y"
        },
        {
         "alignmentgroup": "True",
         "hovertemplate": "variable=one sheep<br>value=%{x}<br>index=%{y}<extra></extra>",
         "legendgroup": "one sheep",
         "marker": {
          "color": "#00cc96",
          "pattern": {
           "shape": ""
          }
         },
         "name": "one sheep",
         "offsetgroup": "one sheep",
         "orientation": "h",
         "showlegend": true,
         "textposition": "auto",
         "type": "bar",
         "x": [
          1,
          null,
          null,
          null
         ],
         "xaxis": "x",
         "y": [
          "Matthew KPE Count",
          "Luke KPE Count",
          "Mark KPE Count",
          "John KPE Count"
         ],
         "yaxis": "y"
        },
        {
         "alignmentgroup": "True",
         "hovertemplate": "variable=future age<br>value=%{x}<br>index=%{y}<extra></extra>",
         "legendgroup": "future age",
         "marker": {
          "color": "#ab63fa",
          "pattern": {
           "shape": ""
          }
         },
         "name": "future age",
         "offsetgroup": "future age",
         "orientation": "h",
         "showlegend": true,
         "textposition": "auto",
         "type": "bar",
         "x": [
          1,
          null,
          null,
          null
         ],
         "xaxis": "x",
         "y": [
          "Matthew KPE Count",
          "Luke KPE Count",
          "Mark KPE Count",
          "John KPE Count"
         ],
         "yaxis": "y"
        },
        {
         "alignmentgroup": "True",
         "hovertemplate": "variable=idle word<br>value=%{x}<br>index=%{y}<extra></extra>",
         "legendgroup": "idle word",
         "marker": {
          "color": "#FFA15A",
          "pattern": {
           "shape": ""
          }
         },
         "name": "idle word",
         "offsetgroup": "idle word",
         "orientation": "h",
         "showlegend": true,
         "textposition": "auto",
         "type": "bar",
         "x": [
          1,
          null,
          null,
          null
         ],
         "xaxis": "x",
         "y": [
          "Matthew KPE Count",
          "Luke KPE Count",
          "Mark KPE Count",
          "John KPE Count"
         ],
         "yaxis": "y"
        },
        {
         "alignmentgroup": "True",
         "hovertemplate": "variable=unclean spirit<br>value=%{x}<br>index=%{y}<extra></extra>",
         "legendgroup": "unclean spirit",
         "marker": {
          "color": "#19d3f3",
          "pattern": {
           "shape": ""
          }
         },
         "name": "unclean spirit",
         "offsetgroup": "unclean spirit",
         "orientation": "h",
         "showlegend": true,
         "textposition": "auto",
         "type": "bar",
         "x": [
          1,
          2,
          3,
          null
         ],
         "xaxis": "x",
         "y": [
          "Matthew KPE Count",
          "Luke KPE Count",
          "Mark KPE Count",
          "John KPE Count"
         ],
         "yaxis": "y"
        },
        {
         "alignmentgroup": "True",
         "hovertemplate": "variable=strong man<br>value=%{x}<br>index=%{y}<extra></extra>",
         "legendgroup": "strong man",
         "marker": {
          "color": "#FF6692",
          "pattern": {
           "shape": ""
          }
         },
         "name": "strong man",
         "offsetgroup": "strong man",
         "orientation": "h",
         "showlegend": true,
         "textposition": "auto",
         "type": "bar",
         "x": [
          1,
          null,
          1,
          null
         ],
         "xaxis": "x",
         "y": [
          "Matthew KPE Count",
          "Luke KPE Count",
          "Mark KPE Count",
          "John KPE Count"
         ],
         "yaxis": "y"
        },
        {
         "alignmentgroup": "True",
         "hovertemplate": "variable=good man<br>value=%{x}<br>index=%{y}<extra></extra>",
         "legendgroup": "good man",
         "marker": {
          "color": "#B6E880",
          "pattern": {
           "shape": ""
          }
         },
         "name": "good man",
         "offsetgroup": "good man",
         "orientation": "h",
         "showlegend": true,
         "textposition": "auto",
         "type": "bar",
         "x": [
          1,
          null,
          null,
          null
         ],
         "xaxis": "x",
         "y": [
          "Matthew KPE Count",
          "Luke KPE Count",
          "Mark KPE Count",
          "John KPE Count"
         ],
         "yaxis": "y"
        },
        {
         "alignmentgroup": "True",
         "hovertemplate": "variable=evil man<br>value=%{x}<br>index=%{y}<extra></extra>",
         "legendgroup": "evil man",
         "marker": {
          "color": "#FF97FF",
          "pattern": {
           "shape": ""
          }
         },
         "name": "evil man",
         "offsetgroup": "evil man",
         "orientation": "h",
         "showlegend": true,
         "textposition": "auto",
         "type": "bar",
         "x": [
          1,
          null,
          null,
          null
         ],
         "xaxis": "x",
         "y": [
          "Matthew KPE Count",
          "Luke KPE Count",
          "Mark KPE Count",
          "John KPE Count"
         ],
         "yaxis": "y"
        },
        {
         "alignmentgroup": "True",
         "hovertemplate": "variable=Presence<br>value=%{x}<br>index=%{y}<extra></extra>",
         "legendgroup": "Presence",
         "marker": {
          "color": "#FECB52",
          "pattern": {
           "shape": ""
          }
         },
         "name": "Presence",
         "offsetgroup": "Presence",
         "orientation": "h",
         "showlegend": true,
         "textposition": "auto",
         "type": "bar",
         "x": [
          1,
          1,
          1,
          null
         ],
         "xaxis": "x",
         "y": [
          "Matthew KPE Count",
          "Luke KPE Count",
          "Mark KPE Count",
          "John KPE Count"
         ],
         "yaxis": "y"
        },
        {
         "alignmentgroup": "True",
         "hovertemplate": "variable=guilt<br>value=%{x}<br>index=%{y}<extra></extra>",
         "legendgroup": "guilt",
         "marker": {
          "color": "#636efa",
          "pattern": {
           "shape": ""
          }
         },
         "name": "guilt",
         "offsetgroup": "guilt",
         "orientation": "h",
         "showlegend": true,
         "textposition": "auto",
         "type": "bar",
         "x": [
          1,
          null,
          null,
          null
         ],
         "xaxis": "x",
         "y": [
          "Matthew KPE Count",
          "Luke KPE Count",
          "Mark KPE Count",
          "John KPE Count"
         ],
         "yaxis": "y"
        },
        {
         "alignmentgroup": "True",
         "hovertemplate": "variable=withered<br>value=%{x}<br>index=%{y}<extra></extra>",
         "legendgroup": "withered",
         "marker": {
          "color": "#EF553B",
          "pattern": {
           "shape": ""
          }
         },
         "name": "withered",
         "offsetgroup": "withered",
         "orientation": "h",
         "showlegend": true,
         "textposition": "auto",
         "type": "bar",
         "x": [
          1,
          null,
          1,
          null
         ],
         "xaxis": "x",
         "y": [
          "Matthew KPE Count",
          "Luke KPE Count",
          "Mark KPE Count",
          "John KPE Count"
         ],
         "yaxis": "y"
        },
        {
         "alignmentgroup": "True",
         "hovertemplate": "variable=health<br>value=%{x}<br>index=%{y}<extra></extra>",
         "legendgroup": "health",
         "marker": {
          "color": "#00cc96",
          "pattern": {
           "shape": ""
          }
         },
         "name": "health",
         "offsetgroup": "health",
         "orientation": "h",
         "showlegend": true,
         "textposition": "auto",
         "type": "bar",
         "x": [
          1,
          1,
          1,
          1
         ],
         "xaxis": "x",
         "y": [
          "Matthew KPE Count",
          "Luke KPE Count",
          "Mark KPE Count",
          "John KPE Count"
         ],
         "yaxis": "y"
        },
        {
         "alignmentgroup": "True",
         "hovertemplate": "variable=beloved<br>value=%{x}<br>index=%{y}<extra></extra>",
         "legendgroup": "beloved",
         "marker": {
          "color": "#ab63fa",
          "pattern": {
           "shape": ""
          }
         },
         "name": "beloved",
         "offsetgroup": "beloved",
         "orientation": "h",
         "showlegend": true,
         "textposition": "auto",
         "type": "bar",
         "x": [
          1,
          null,
          null,
          null
         ],
         "xaxis": "x",
         "y": [
          "Matthew KPE Count",
          "Luke KPE Count",
          "Mark KPE Count",
          "John KPE Count"
         ],
         "yaxis": "y"
        },
        {
         "alignmentgroup": "True",
         "hovertemplate": "variable=victory<br>value=%{x}<br>index=%{y}<extra></extra>",
         "legendgroup": "victory",
         "marker": {
          "color": "#FFA15A",
          "pattern": {
           "shape": ""
          }
         },
         "name": "victory",
         "offsetgroup": "victory",
         "orientation": "h",
         "showlegend": true,
         "textposition": "auto",
         "type": "bar",
         "x": [
          1,
          null,
          null,
          null
         ],
         "xaxis": "x",
         "y": [
          "Matthew KPE Count",
          "Luke KPE Count",
          "Mark KPE Count",
          "John KPE Count"
         ],
         "yaxis": "y"
        },
        {
         "alignmentgroup": "True",
         "hovertemplate": "variable=Beelzebub<br>value=%{x}<br>index=%{y}<extra></extra>",
         "legendgroup": "Beelzebub",
         "marker": {
          "color": "#19d3f3",
          "pattern": {
           "shape": ""
          }
         },
         "name": "Beelzebub",
         "offsetgroup": "Beelzebub",
         "orientation": "h",
         "showlegend": true,
         "textposition": "auto",
         "type": "bar",
         "x": [
          1,
          1,
          1,
          null
         ],
         "xaxis": "x",
         "y": [
          "Matthew KPE Count",
          "Luke KPE Count",
          "Mark KPE Count",
          "John KPE Count"
         ],
         "yaxis": "y"
        },
        {
         "alignmentgroup": "True",
         "hovertemplate": "variable=judges<br>value=%{x}<br>index=%{y}<extra></extra>",
         "legendgroup": "judges",
         "marker": {
          "color": "#FF6692",
          "pattern": {
           "shape": ""
          }
         },
         "name": "judges",
         "offsetgroup": "judges",
         "orientation": "h",
         "showlegend": true,
         "textposition": "auto",
         "type": "bar",
         "x": [
          1,
          1,
          null,
          null
         ],
         "xaxis": "x",
         "y": [
          "Matthew KPE Count",
          "Luke KPE Count",
          "Mark KPE Count",
          "John KPE Count"
         ],
         "yaxis": "y"
        },
        {
         "alignmentgroup": "True",
         "hovertemplate": "variable=belongings<br>value=%{x}<br>index=%{y}<extra></extra>",
         "legendgroup": "belongings",
         "marker": {
          "color": "#B6E880",
          "pattern": {
           "shape": ""
          }
         },
         "name": "belongings",
         "offsetgroup": "belongings",
         "orientation": "h",
         "showlegend": true,
         "textposition": "auto",
         "type": "bar",
         "x": [
          1,
          null,
          null,
          null
         ],
         "xaxis": "x",
         "y": [
          "Matthew KPE Count",
          "Luke KPE Count",
          "Mark KPE Count",
          "John KPE Count"
         ],
         "yaxis": "y"
        },
        {
         "alignmentgroup": "True",
         "hovertemplate": "variable=scatters<br>value=%{x}<br>index=%{y}<extra></extra>",
         "legendgroup": "scatters",
         "marker": {
          "color": "#FF97FF",
          "pattern": {
           "shape": ""
          }
         },
         "name": "scatters",
         "offsetgroup": "scatters",
         "orientation": "h",
         "showlegend": true,
         "textposition": "auto",
         "type": "bar",
         "x": [
          1,
          1,
          null,
          null
         ],
         "xaxis": "x",
         "y": [
          "Matthew KPE Count",
          "Luke KPE Count",
          "Mark KPE Count",
          "John KPE Count"
         ],
         "yaxis": "y"
        },
        {
         "alignmentgroup": "True",
         "hovertemplate": "variable=blasphemy<br>value=%{x}<br>index=%{y}<extra></extra>",
         "legendgroup": "blasphemy",
         "marker": {
          "color": "#FECB52",
          "pattern": {
           "shape": ""
          }
         },
         "name": "blasphemy",
         "offsetgroup": "blasphemy",
         "orientation": "h",
         "showlegend": true,
         "textposition": "auto",
         "type": "bar",
         "x": [
          1,
          null,
          1,
          null
         ],
         "xaxis": "x",
         "y": [
          "Matthew KPE Count",
          "Luke KPE Count",
          "Mark KPE Count",
          "John KPE Count"
         ],
         "yaxis": "y"
        },
        {
         "alignmentgroup": "True",
         "hovertemplate": "variable=belly<br>value=%{x}<br>index=%{y}<extra></extra>",
         "legendgroup": "belly",
         "marker": {
          "color": "#636efa",
          "pattern": {
           "shape": ""
          }
         },
         "name": "belly",
         "offsetgroup": "belly",
         "orientation": "h",
         "showlegend": true,
         "textposition": "auto",
         "type": "bar",
         "x": [
          1,
          1,
          null,
          null
         ],
         "xaxis": "x",
         "y": [
          "Matthew KPE Count",
          "Luke KPE Count",
          "Mark KPE Count",
          "John KPE Count"
         ],
         "yaxis": "y"
        },
        {
         "alignmentgroup": "True",
         "hovertemplate": "variable=whale<br>value=%{x}<br>index=%{y}<extra></extra>",
         "legendgroup": "whale",
         "marker": {
          "color": "#EF553B",
          "pattern": {
           "shape": ""
          }
         },
         "name": "whale",
         "offsetgroup": "whale",
         "orientation": "h",
         "showlegend": true,
         "textposition": "auto",
         "type": "bar",
         "x": [
          1,
          null,
          null,
          null
         ],
         "xaxis": "x",
         "y": [
          "Matthew KPE Count",
          "Luke KPE Count",
          "Mark KPE Count",
          "John KPE Count"
         ],
         "yaxis": "y"
        },
        {
         "alignmentgroup": "True",
         "hovertemplate": "variable=Nineveh<br>value=%{x}<br>index=%{y}<extra></extra>",
         "legendgroup": "Nineveh",
         "marker": {
          "color": "#00cc96",
          "pattern": {
           "shape": ""
          }
         },
         "name": "Nineveh",
         "offsetgroup": "Nineveh",
         "orientation": "h",
         "showlegend": true,
         "textposition": "auto",
         "type": "bar",
         "x": [
          1,
          1,
          null,
          null
         ],
         "xaxis": "x",
         "y": [
          "Matthew KPE Count",
          "Luke KPE Count",
          "Mark KPE Count",
          "John KPE Count"
         ],
         "yaxis": "y"
        },
        {
         "alignmentgroup": "True",
         "hovertemplate": "variable=preaching<br>value=%{x}<br>index=%{y}<extra></extra>",
         "legendgroup": "preaching",
         "marker": {
          "color": "#ab63fa",
          "pattern": {
           "shape": ""
          }
         },
         "name": "preaching",
         "offsetgroup": "preaching",
         "orientation": "h",
         "showlegend": true,
         "textposition": "auto",
         "type": "bar",
         "x": [
          1,
          1,
          null,
          null
         ],
         "xaxis": "x",
         "y": [
          "Matthew KPE Count",
          "Luke KPE Count",
          "Mark KPE Count",
          "John KPE Count"
         ],
         "yaxis": "y"
        },
        {
         "alignmentgroup": "True",
         "hovertemplate": "variable=South<br>value=%{x}<br>index=%{y}<extra></extra>",
         "legendgroup": "South",
         "marker": {
          "color": "#FFA15A",
          "pattern": {
           "shape": ""
          }
         },
         "name": "South",
         "offsetgroup": "South",
         "orientation": "h",
         "showlegend": true,
         "textposition": "auto",
         "type": "bar",
         "x": [
          1,
          2,
          null,
          null
         ],
         "xaxis": "x",
         "y": [
          "Matthew KPE Count",
          "Luke KPE Count",
          "Mark KPE Count",
          "John KPE Count"
         ],
         "yaxis": "y"
        },
        {
         "alignmentgroup": "True",
         "hovertemplate": "variable=ends<br>value=%{x}<br>index=%{y}<extra></extra>",
         "legendgroup": "ends",
         "marker": {
          "color": "#19d3f3",
          "pattern": {
           "shape": ""
          }
         },
         "name": "ends",
         "offsetgroup": "ends",
         "orientation": "h",
         "showlegend": true,
         "textposition": "auto",
         "type": "bar",
         "x": [
          1,
          1,
          null,
          null
         ],
         "xaxis": "x",
         "y": [
          "Matthew KPE Count",
          "Luke KPE Count",
          "Mark KPE Count",
          "John KPE Count"
         ],
         "yaxis": "y"
        },
        {
         "alignmentgroup": "True",
         "hovertemplate": "variable=one hundred fold<br>value=%{x}<br>index=%{y}<extra></extra>",
         "legendgroup": "one hundred fold",
         "marker": {
          "color": "#FF6692",
          "pattern": {
           "shape": ""
          }
         },
         "name": "one hundred fold",
         "offsetgroup": "one hundred fold",
         "orientation": "h",
         "showlegend": true,
         "textposition": "auto",
         "type": "bar",
         "x": [
          1,
          null,
          null,
          null
         ],
         "xaxis": "x",
         "y": [
          "Matthew KPE Count",
          "Luke KPE Count",
          "Mark KPE Count",
          "John KPE Count"
         ],
         "yaxis": "y"
        },
        {
         "alignmentgroup": "True",
         "hovertemplate": "variable=a hundred fold<br>value=%{x}<br>index=%{y}<extra></extra>",
         "legendgroup": "a hundred fold",
         "marker": {
          "color": "#B6E880",
          "pattern": {
           "shape": ""
          }
         },
         "name": "a hundred fold",
         "offsetgroup": "a hundred fold",
         "orientation": "h",
         "showlegend": true,
         "textposition": "auto",
         "type": "bar",
         "x": [
          1,
          null,
          null,
          null
         ],
         "xaxis": "x",
         "y": [
          "Matthew KPE Count",
          "Luke KPE Count",
          "Mark KPE Count",
          "John KPE Count"
         ],
         "yaxis": "y"
        },
        {
         "alignmentgroup": "True",
         "hovertemplate": "variable=fine wheat flour<br>value=%{x}<br>index=%{y}<extra></extra>",
         "legendgroup": "fine wheat flour",
         "marker": {
          "color": "#FF97FF",
          "pattern": {
           "shape": ""
          }
         },
         "name": "fine wheat flour",
         "offsetgroup": "fine wheat flour",
         "orientation": "h",
         "showlegend": true,
         "textposition": "auto",
         "type": "bar",
         "x": [
          1,
          1,
          null,
          null
         ],
         "xaxis": "x",
         "y": [
          "Matthew KPE Count",
          "Luke KPE Count",
          "Mark KPE Count",
          "John KPE Count"
         ],
         "yaxis": "y"
        },
        {
         "alignmentgroup": "True",
         "hovertemplate": "variable=sixty fold<br>value=%{x}<br>index=%{y}<extra></extra>",
         "legendgroup": "sixty fold",
         "marker": {
          "color": "#FECB52",
          "pattern": {
           "shape": ""
          }
         },
         "name": "sixty fold",
         "offsetgroup": "sixty fold",
         "orientation": "h",
         "showlegend": true,
         "textposition": "auto",
         "type": "bar",
         "x": [
          1,
          null,
          null,
          null
         ],
         "xaxis": "x",
         "y": [
          "Matthew KPE Count",
          "Luke KPE Count",
          "Mark KPE Count",
          "John KPE Count"
         ],
         "yaxis": "y"
        },
        {
         "alignmentgroup": "True",
         "hovertemplate": "variable=thirty fold<br>value=%{x}<br>index=%{y}<extra></extra>",
         "legendgroup": "thirty fold",
         "marker": {
          "color": "#636efa",
          "pattern": {
           "shape": ""
          }
         },
         "name": "thirty fold",
         "offsetgroup": "thirty fold",
         "orientation": "h",
         "showlegend": true,
         "textposition": "auto",
         "type": "bar",
         "x": [
          1,
          null,
          null,
          null
         ],
         "xaxis": "x",
         "y": [
          "Matthew KPE Count",
          "Luke KPE Count",
          "Mark KPE Count",
          "John KPE Count"
         ],
         "yaxis": "y"
        },
        {
         "alignmentgroup": "True",
         "hovertemplate": "variable=entire multitude<br>value=%{x}<br>index=%{y}<extra></extra>",
         "legendgroup": "entire multitude",
         "marker": {
          "color": "#EF553B",
          "pattern": {
           "shape": ""
          }
         },
         "name": "entire multitude",
         "offsetgroup": "entire multitude",
         "orientation": "h",
         "showlegend": true,
         "textposition": "auto",
         "type": "bar",
         "x": [
          1,
          4,
          1,
          null
         ],
         "xaxis": "x",
         "y": [
          "Matthew KPE Count",
          "Luke KPE Count",
          "Mark KPE Count",
          "John KPE Count"
         ],
         "yaxis": "y"
        },
        {
         "alignmentgroup": "True",
         "hovertemplate": "variable=rocky place<br>value=%{x}<br>index=%{y}<extra></extra>",
         "legendgroup": "rocky place",
         "marker": {
          "color": "#00cc96",
          "pattern": {
           "shape": ""
          }
         },
         "name": "rocky place",
         "offsetgroup": "rocky place",
         "orientation": "h",
         "showlegend": true,
         "textposition": "auto",
         "type": "bar",
         "x": [
          1,
          null,
          null,
          null
         ],
         "xaxis": "x",
         "y": [
          "Matthew KPE Count",
          "Luke KPE Count",
          "Mark KPE Count",
          "John KPE Count"
         ],
         "yaxis": "y"
        },
        {
         "alignmentgroup": "True",
         "hovertemplate": "variable=three measures<br>value=%{x}<br>index=%{y}<extra></extra>",
         "legendgroup": "three measures",
         "marker": {
          "color": "#ab63fa",
          "pattern": {
           "shape": ""
          }
         },
         "name": "three measures",
         "offsetgroup": "three measures",
         "orientation": "h",
         "showlegend": true,
         "textposition": "auto",
         "type": "bar",
         "x": [
          1,
          1,
          null,
          1
         ],
         "xaxis": "x",
         "y": [
          "Matthew KPE Count",
          "Luke KPE Count",
          "Mark KPE Count",
          "John KPE Count"
         ],
         "yaxis": "y"
        },
        {
         "alignmentgroup": "True",
         "hovertemplate": "variable=good soil<br>value=%{x}<br>index=%{y}<extra></extra>",
         "legendgroup": "good soil",
         "marker": {
          "color": "#FFA15A",
          "pattern": {
           "shape": ""
          }
         },
         "name": "good soil",
         "offsetgroup": "good soil",
         "orientation": "h",
         "showlegend": true,
         "textposition": "auto",
         "type": "bar",
         "x": [
          1,
          1,
          1,
          null
         ],
         "xaxis": "x",
         "y": [
          "Matthew KPE Count",
          "Luke KPE Count",
          "Mark KPE Count",
          "John KPE Count"
         ],
         "yaxis": "y"
        },
        {
         "alignmentgroup": "True",
         "hovertemplate": "variable=good seeds<br>value=%{x}<br>index=%{y}<extra></extra>",
         "legendgroup": "good seeds",
         "marker": {
          "color": "#19d3f3",
          "pattern": {
           "shape": ""
          }
         },
         "name": "good seeds",
         "offsetgroup": "good seeds",
         "orientation": "h",
         "showlegend": true,
         "textposition": "auto",
         "type": "bar",
         "x": [
          1,
          null,
          null,
          null
         ],
         "xaxis": "x",
         "y": [
          "Matthew KPE Count",
          "Luke KPE Count",
          "Mark KPE Count",
          "John KPE Count"
         ],
         "yaxis": "y"
        },
        {
         "alignmentgroup": "True",
         "hovertemplate": "variable=shore<br>value=%{x}<br>index=%{y}<extra></extra>",
         "legendgroup": "shore",
         "marker": {
          "color": "#FF6692",
          "pattern": {
           "shape": ""
          }
         },
         "name": "shore",
         "offsetgroup": "shore",
         "orientation": "h",
         "showlegend": true,
         "textposition": "auto",
         "type": "bar",
         "x": [
          1,
          null,
          1,
          1
         ],
         "xaxis": "x",
         "y": [
          "Matthew KPE Count",
          "Luke KPE Count",
          "Mark KPE Count",
          "John KPE Count"
         ],
         "yaxis": "y"
        },
        {
         "alignmentgroup": "True",
         "hovertemplate": "variable=sower<br>value=%{x}<br>index=%{y}<extra></extra>",
         "legendgroup": "sower",
         "marker": {
          "color": "#B6E880",
          "pattern": {
           "shape": ""
          }
         },
         "name": "sower",
         "offsetgroup": "sower",
         "orientation": "h",
         "showlegend": true,
         "textposition": "auto",
         "type": "bar",
         "x": [
          1,
          1,
          1,
          null
         ],
         "xaxis": "x",
         "y": [
          "Matthew KPE Count",
          "Luke KPE Count",
          "Mark KPE Count",
          "John KPE Count"
         ],
         "yaxis": "y"
        },
        {
         "alignmentgroup": "True",
         "hovertemplate": "variable=road<br>value=%{x}<br>index=%{y}<extra></extra>",
         "legendgroup": "road",
         "marker": {
          "color": "#FF97FF",
          "pattern": {
           "shape": ""
          }
         },
         "name": "road",
         "offsetgroup": "road",
         "orientation": "h",
         "showlegend": true,
         "textposition": "auto",
         "type": "bar",
         "x": [
          1,
          null,
          null,
          null
         ],
         "xaxis": "x",
         "y": [
          "Matthew KPE Count",
          "Luke KPE Count",
          "Mark KPE Count",
          "John KPE Count"
         ],
         "yaxis": "y"
        },
        {
         "alignmentgroup": "True",
         "hovertemplate": "variable=much<br>value=%{x}<br>index=%{y}<extra></extra>",
         "legendgroup": "much",
         "marker": {
          "color": "#FECB52",
          "pattern": {
           "shape": ""
          }
         },
         "name": "much",
         "offsetgroup": "much",
         "orientation": "h",
         "showlegend": true,
         "textposition": "auto",
         "type": "bar",
         "x": [
          1,
          null,
          null,
          null
         ],
         "xaxis": "x",
         "y": [
          "Matthew KPE Count",
          "Luke KPE Count",
          "Mark KPE Count",
          "John KPE Count"
         ],
         "yaxis": "y"
        },
        {
         "alignmentgroup": "True",
         "hovertemplate": "variable=depth<br>value=%{x}<br>index=%{y}<extra></extra>",
         "legendgroup": "depth",
         "marker": {
          "color": "#636efa",
          "pattern": {
           "shape": ""
          }
         },
         "name": "depth",
         "offsetgroup": "depth",
         "orientation": "h",
         "showlegend": true,
         "textposition": "auto",
         "type": "bar",
         "x": [
          1,
          null,
          1,
          null
         ],
         "xaxis": "x",
         "y": [
          "Matthew KPE Count",
          "Luke KPE Count",
          "Mark KPE Count",
          "John KPE Count"
         ],
         "yaxis": "y"
        },
        {
         "alignmentgroup": "True",
         "hovertemplate": "variable=roots<br>value=%{x}<br>index=%{y}<extra></extra>",
         "legendgroup": "roots",
         "marker": {
          "color": "#EF553B",
          "pattern": {
           "shape": ""
          }
         },
         "name": "roots",
         "offsetgroup": "roots",
         "orientation": "h",
         "showlegend": true,
         "textposition": "auto",
         "type": "bar",
         "x": [
          1,
          1,
          1,
          null
         ],
         "xaxis": "x",
         "y": [
          "Matthew KPE Count",
          "Luke KPE Count",
          "Mark KPE Count",
          "John KPE Count"
         ],
         "yaxis": "y"
        },
        {
         "alignmentgroup": "True",
         "hovertemplate": "variable=mysteries<br>value=%{x}<br>index=%{y}<extra></extra>",
         "legendgroup": "mysteries",
         "marker": {
          "color": "#00cc96",
          "pattern": {
           "shape": ""
          }
         },
         "name": "mysteries",
         "offsetgroup": "mysteries",
         "orientation": "h",
         "showlegend": true,
         "textposition": "auto",
         "type": "bar",
         "x": [
          1,
          null,
          null,
          null
         ],
         "xaxis": "x",
         "y": [
          "Matthew KPE Count",
          "Luke KPE Count",
          "Mark KPE Count",
          "John KPE Count"
         ],
         "yaxis": "y"
        },
        {
         "alignmentgroup": "True",
         "hovertemplate": "variable=prophecy<br>value=%{x}<br>index=%{y}<extra></extra>",
         "legendgroup": "prophecy",
         "marker": {
          "color": "#ab63fa",
          "pattern": {
           "shape": ""
          }
         },
         "name": "prophecy",
         "offsetgroup": "prophecy",
         "orientation": "h",
         "showlegend": true,
         "textposition": "auto",
         "type": "bar",
         "x": [
          1,
          null,
          null,
          null
         ],
         "xaxis": "x",
         "y": [
          "Matthew KPE Count",
          "Luke KPE Count",
          "Mark KPE Count",
          "John KPE Count"
         ],
         "yaxis": "y"
        },
        {
         "alignmentgroup": "True",
         "hovertemplate": "variable=side<br>value=%{x}<br>index=%{y}<extra></extra>",
         "legendgroup": "side",
         "marker": {
          "color": "#FFA15A",
          "pattern": {
           "shape": ""
          }
         },
         "name": "side",
         "offsetgroup": "side",
         "orientation": "h",
         "showlegend": true,
         "textposition": "auto",
         "type": "bar",
         "x": [
          1,
          1,
          null,
          1
         ],
         "xaxis": "x",
         "y": [
          "Matthew KPE Count",
          "Luke KPE Count",
          "Mark KPE Count",
          "John KPE Count"
         ],
         "yaxis": "y"
        },
        {
         "alignmentgroup": "True",
         "hovertemplate": "variable=tribulation<br>value=%{x}<br>index=%{y}<extra></extra>",
         "legendgroup": "tribulation",
         "marker": {
          "color": "#19d3f3",
          "pattern": {
           "shape": ""
          }
         },
         "name": "tribulation",
         "offsetgroup": "tribulation",
         "orientation": "h",
         "showlegend": true,
         "textposition": "auto",
         "type": "bar",
         "x": [
          1,
          null,
          null,
          null
         ],
         "xaxis": "x",
         "y": [
          "Matthew KPE Count",
          "Luke KPE Count",
          "Mark KPE Count",
          "John KPE Count"
         ],
         "yaxis": "y"
        },
        {
         "alignmentgroup": "True",
         "hovertemplate": "variable=cares<br>value=%{x}<br>index=%{y}<extra></extra>",
         "legendgroup": "cares",
         "marker": {
          "color": "#FF6692",
          "pattern": {
           "shape": ""
          }
         },
         "name": "cares",
         "offsetgroup": "cares",
         "orientation": "h",
         "showlegend": true,
         "textposition": "auto",
         "type": "bar",
         "x": [
          1,
          1,
          null,
          null
         ],
         "xaxis": "x",
         "y": [
          "Matthew KPE Count",
          "Luke KPE Count",
          "Mark KPE Count",
          "John KPE Count"
         ],
         "yaxis": "y"
        },
        {
         "alignmentgroup": "True",
         "hovertemplate": "variable=falseness<br>value=%{x}<br>index=%{y}<extra></extra>",
         "legendgroup": "falseness",
         "marker": {
          "color": "#B6E880",
          "pattern": {
           "shape": ""
          }
         },
         "name": "falseness",
         "offsetgroup": "falseness",
         "orientation": "h",
         "showlegend": true,
         "textposition": "auto",
         "type": "bar",
         "x": [
          1,
          null,
          null,
          null
         ],
         "xaxis": "x",
         "y": [
          "Matthew KPE Count",
          "Luke KPE Count",
          "Mark KPE Count",
          "John KPE Count"
         ],
         "yaxis": "y"
        },
        {
         "alignmentgroup": "True",
         "hovertemplate": "variable=riches<br>value=%{x}<br>index=%{y}<extra></extra>",
         "legendgroup": "riches",
         "marker": {
          "color": "#FF97FF",
          "pattern": {
           "shape": ""
          }
         },
         "name": "riches",
         "offsetgroup": "riches",
         "orientation": "h",
         "showlegend": true,
         "textposition": "auto",
         "type": "bar",
         "x": [
          1,
          1,
          1,
          null
         ],
         "xaxis": "x",
         "y": [
          "Matthew KPE Count",
          "Luke KPE Count",
          "Mark KPE Count",
          "John KPE Count"
         ],
         "yaxis": "y"
        },
        {
         "alignmentgroup": "True",
         "hovertemplate": "variable=weeds<br>value=%{x}<br>index=%{y}<extra></extra>",
         "legendgroup": "weeds",
         "marker": {
          "color": "#FECB52",
          "pattern": {
           "shape": ""
          }
         },
         "name": "weeds",
         "offsetgroup": "weeds",
         "orientation": "h",
         "showlegend": true,
         "textposition": "auto",
         "type": "bar",
         "x": [
          1,
          null,
          null,
          null
         ],
         "xaxis": "x",
         "y": [
          "Matthew KPE Count",
          "Luke KPE Count",
          "Mark KPE Count",
          "John KPE Count"
         ],
         "yaxis": "y"
        },
        {
         "alignmentgroup": "True",
         "hovertemplate": "variable=plants<br>value=%{x}<br>index=%{y}<extra></extra>",
         "legendgroup": "plants",
         "marker": {
          "color": "#636efa",
          "pattern": {
           "shape": ""
          }
         },
         "name": "plants",
         "offsetgroup": "plants",
         "orientation": "h",
         "showlegend": true,
         "textposition": "auto",
         "type": "bar",
         "x": [
          1,
          null,
          null,
          null
         ],
         "xaxis": "x",
         "y": [
          "Matthew KPE Count",
          "Luke KPE Count",
          "Mark KPE Count",
          "John KPE Count"
         ],
         "yaxis": "y"
        },
        {
         "alignmentgroup": "True",
         "hovertemplate": "variable=reapers<br>value=%{x}<br>index=%{y}<extra></extra>",
         "legendgroup": "reapers",
         "marker": {
          "color": "#EF553B",
          "pattern": {
           "shape": ""
          }
         },
         "name": "reapers",
         "offsetgroup": "reapers",
         "orientation": "h",
         "showlegend": true,
         "textposition": "auto",
         "type": "bar",
         "x": [
          1,
          null,
          null,
          null
         ],
         "xaxis": "x",
         "y": [
          "Matthew KPE Count",
          "Luke KPE Count",
          "Mark KPE Count",
          "John KPE Count"
         ],
         "yaxis": "y"
        },
        {
         "alignmentgroup": "True",
         "hovertemplate": "variable=bundles<br>value=%{x}<br>index=%{y}<extra></extra>",
         "legendgroup": "bundles",
         "marker": {
          "color": "#00cc96",
          "pattern": {
           "shape": ""
          }
         },
         "name": "bundles",
         "offsetgroup": "bundles",
         "orientation": "h",
         "showlegend": true,
         "textposition": "auto",
         "type": "bar",
         "x": [
          1,
          null,
          null,
          null
         ],
         "xaxis": "x",
         "y": [
          "Matthew KPE Count",
          "Luke KPE Count",
          "Mark KPE Count",
          "John KPE Count"
         ],
         "yaxis": "y"
        },
        {
         "alignmentgroup": "True",
         "hovertemplate": "variable=tree<br>value=%{x}<br>index=%{y}<extra></extra>",
         "legendgroup": "tree",
         "marker": {
          "color": "#ab63fa",
          "pattern": {
           "shape": ""
          }
         },
         "name": "tree",
         "offsetgroup": "tree",
         "orientation": "h",
         "showlegend": true,
         "textposition": "auto",
         "type": "bar",
         "x": [
          1,
          null,
          null,
          null
         ],
         "xaxis": "x",
         "y": [
          "Matthew KPE Count",
          "Luke KPE Count",
          "Mark KPE Count",
          "John KPE Count"
         ],
         "yaxis": "y"
        },
        {
         "alignmentgroup": "True",
         "hovertemplate": "variable=Ange<br>value=%{x}<br>index=%{y}<extra></extra>",
         "legendgroup": "Ange",
         "marker": {
          "color": "#FFA15A",
          "pattern": {
           "shape": ""
          }
         },
         "name": "Ange",
         "offsetgroup": "Ange",
         "orientation": "h",
         "showlegend": true,
         "textposition": "auto",
         "type": "bar",
         "x": [
          1,
          null,
          null,
          null
         ],
         "xaxis": "x",
         "y": [
          "Matthew KPE Count",
          "Luke KPE Count",
          "Mark KPE Count",
          "John KPE Count"
         ],
         "yaxis": "y"
        },
        {
         "alignmentgroup": "True",
         "hovertemplate": "variable=two fish<br>value=%{x}<br>index=%{y}<extra></extra>",
         "legendgroup": "two fish",
         "marker": {
          "color": "#19d3f3",
          "pattern": {
           "shape": ""
          }
         },
         "name": "two fish",
         "offsetgroup": "two fish",
         "orientation": "h",
         "showlegend": true,
         "textposition": "auto",
         "type": "bar",
         "x": [
          1,
          1,
          1,
          1
         ],
         "xaxis": "x",
         "y": [
          "Matthew KPE Count",
          "Luke KPE Count",
          "Mark KPE Count",
          "John KPE Count"
         ],
         "yaxis": "y"
        },
        {
         "alignmentgroup": "True",
         "hovertemplate": "variable=twelve baskets<br>value=%{x}<br>index=%{y}<extra></extra>",
         "legendgroup": "twelve baskets",
         "marker": {
          "color": "#FF6692",
          "pattern": {
           "shape": ""
          }
         },
         "name": "twelve baskets",
         "offsetgroup": "twelve baskets",
         "orientation": "h",
         "showlegend": true,
         "textposition": "auto",
         "type": "bar",
         "x": [
          1,
          1,
          null,
          1
         ],
         "xaxis": "x",
         "y": [
          "Matthew KPE Count",
          "Luke KPE Count",
          "Mark KPE Count",
          "John KPE Count"
         ],
         "yaxis": "y"
        },
        {
         "alignmentgroup": "True",
         "hovertemplate": "variable=fourth watch<br>value=%{x}<br>index=%{y}<extra></extra>",
         "legendgroup": "fourth watch",
         "marker": {
          "color": "#B6E880",
          "pattern": {
           "shape": ""
          }
         },
         "name": "fourth watch",
         "offsetgroup": "fourth watch",
         "orientation": "h",
         "showlegend": true,
         "textposition": "auto",
         "type": "bar",
         "x": [
          1,
          null,
          null,
          null
         ],
         "xaxis": "x",
         "y": [
          "Matthew KPE Count",
          "Luke KPE Count",
          "Mark KPE Count",
          "John KPE Count"
         ],
         "yaxis": "y"
        },
        {
         "alignmentgroup": "True",
         "hovertemplate": "variable=For Herod<br>value=%{x}<br>index=%{y}<extra></extra>",
         "legendgroup": "For Herod",
         "marker": {
          "color": "#FF97FF",
          "pattern": {
           "shape": ""
          }
         },
         "name": "For Herod",
         "offsetgroup": "For Herod",
         "orientation": "h",
         "showlegend": true,
         "textposition": "auto",
         "type": "bar",
         "x": [
          1,
          1,
          1,
          null
         ],
         "xaxis": "x",
         "y": [
          "Matthew KPE Count",
          "Luke KPE Count",
          "Mark KPE Count",
          "John KPE Count"
         ],
         "yaxis": "y"
        },
        {
         "alignmentgroup": "True",
         "hovertemplate": "variable=Tetrarch<br>value=%{x}<br>index=%{y}<extra></extra>",
         "legendgroup": "Tetrarch",
         "marker": {
          "color": "#FECB52",
          "pattern": {
           "shape": ""
          }
         },
         "name": "Tetrarch",
         "offsetgroup": "Tetrarch",
         "orientation": "h",
         "showlegend": true,
         "textposition": "auto",
         "type": "bar",
         "x": [
          1,
          null,
          null,
          null
         ],
         "xaxis": "x",
         "y": [
          "Matthew KPE Count",
          "Luke KPE Count",
          "Mark KPE Count",
          "John KPE Count"
         ],
         "yaxis": "y"
        },
        {
         "alignmentgroup": "True",
         "hovertemplate": "variable=work<br>value=%{x}<br>index=%{y}<extra></extra>",
         "legendgroup": "work",
         "marker": {
          "color": "#636efa",
          "pattern": {
           "shape": ""
          }
         },
         "name": "work",
         "offsetgroup": "work",
         "orientation": "h",
         "showlegend": true,
         "textposition": "auto",
         "type": "bar",
         "x": [
          1,
          null,
          2,
          2
         ],
         "xaxis": "x",
         "y": [
          "Matthew KPE Count",
          "Luke KPE Count",
          "Mark KPE Count",
          "John KPE Count"
         ],
         "yaxis": "y"
        },
        {
         "alignmentgroup": "True",
         "hovertemplate": "variable=Herodias<br>value=%{x}<br>index=%{y}<extra></extra>",
         "legendgroup": "Herodias",
         "marker": {
          "color": "#EF553B",
          "pattern": {
           "shape": ""
          }
         },
         "name": "Herodias",
         "offsetgroup": "Herodias",
         "orientation": "h",
         "showlegend": true,
         "textposition": "auto",
         "type": "bar",
         "x": [
          1,
          1,
          null,
          null
         ],
         "xaxis": "x",
         "y": [
          "Matthew KPE Count",
          "Luke KPE Count",
          "Mark KPE Count",
          "John KPE Count"
         ],
         "yaxis": "y"
        },
        {
         "alignmentgroup": "True",
         "hovertemplate": "variable=birthday<br>value=%{x}<br>index=%{y}<extra></extra>",
         "legendgroup": "birthday",
         "marker": {
          "color": "#00cc96",
          "pattern": {
           "shape": ""
          }
         },
         "name": "birthday",
         "offsetgroup": "birthday",
         "orientation": "h",
         "showlegend": true,
         "textposition": "auto",
         "type": "bar",
         "x": [
          1,
          null,
          1,
          null
         ],
         "xaxis": "x",
         "y": [
          "Matthew KPE Count",
          "Luke KPE Count",
          "Mark KPE Count",
          "John KPE Count"
         ],
         "yaxis": "y"
        },
        {
         "alignmentgroup": "True",
         "hovertemplate": "variable=oath<br>value=%{x}<br>index=%{y}<extra></extra>",
         "legendgroup": "oath",
         "marker": {
          "color": "#ab63fa",
          "pattern": {
           "shape": ""
          }
         },
         "name": "oath",
         "offsetgroup": "oath",
         "orientation": "h",
         "showlegend": true,
         "textposition": "auto",
         "type": "bar",
         "x": [
          1,
          null,
          1,
          null
         ],
         "xaxis": "x",
         "y": [
          "Matthew KPE Count",
          "Luke KPE Count",
          "Mark KPE Count",
          "John KPE Count"
         ],
         "yaxis": "y"
        },
        {
         "alignmentgroup": "True",
         "hovertemplate": "variable=platter<br>value=%{x}<br>index=%{y}<extra></extra>",
         "legendgroup": "platter",
         "marker": {
          "color": "#FFA15A",
          "pattern": {
           "shape": ""
          }
         },
         "name": "platter",
         "offsetgroup": "platter",
         "orientation": "h",
         "showlegend": true,
         "textposition": "auto",
         "type": "bar",
         "x": [
          1,
          null,
          1,
          null
         ],
         "xaxis": "x",
         "y": [
          "Matthew KPE Count",
          "Luke KPE Count",
          "Mark KPE Count",
          "John KPE Count"
         ],
         "yaxis": "y"
        },
        {
         "alignmentgroup": "True",
         "hovertemplate": "variable=sick<br>value=%{x}<br>index=%{y}<extra></extra>",
         "legendgroup": "sick",
         "marker": {
          "color": "#19d3f3",
          "pattern": {
           "shape": ""
          }
         },
         "name": "sick",
         "offsetgroup": "sick",
         "orientation": "h",
         "showlegend": true,
         "textposition": "auto",
         "type": "bar",
         "x": [
          1,
          null,
          null,
          null
         ],
         "xaxis": "x",
         "y": [
          "Matthew KPE Count",
          "Luke KPE Count",
          "Mark KPE Count",
          "John KPE Count"
         ],
         "yaxis": "y"
        },
        {
         "alignmentgroup": "True",
         "hovertemplate": "variable=remnants<br>value=%{x}<br>index=%{y}<extra></extra>",
         "legendgroup": "remnants",
         "marker": {
          "color": "#FF6692",
          "pattern": {
           "shape": ""
          }
         },
         "name": "remnants",
         "offsetgroup": "remnants",
         "orientation": "h",
         "showlegend": true,
         "textposition": "auto",
         "type": "bar",
         "x": [
          1,
          null,
          null,
          null
         ],
         "xaxis": "x",
         "y": [
          "Matthew KPE Count",
          "Luke KPE Count",
          "Mark KPE Count",
          "John KPE Count"
         ],
         "yaxis": "y"
        },
        {
         "alignmentgroup": "True",
         "hovertemplate": "variable=number<br>value=%{x}<br>index=%{y}<extra></extra>",
         "legendgroup": "number",
         "marker": {
          "color": "#B6E880",
          "pattern": {
           "shape": ""
          }
         },
         "name": "number",
         "offsetgroup": "number",
         "orientation": "h",
         "showlegend": true,
         "textposition": "auto",
         "type": "bar",
         "x": [
          1,
          null,
          null,
          1
         ],
         "xaxis": "x",
         "y": [
          "Matthew KPE Count",
          "Luke KPE Count",
          "Mark KPE Count",
          "John KPE Count"
         ],
         "yaxis": "y"
        },
        {
         "alignmentgroup": "True",
         "hovertemplate": "variable=apparition<br>value=%{x}<br>index=%{y}<extra></extra>",
         "legendgroup": "apparition",
         "marker": {
          "color": "#FF97FF",
          "pattern": {
           "shape": ""
          }
         },
         "name": "apparition",
         "offsetgroup": "apparition",
         "orientation": "h",
         "showlegend": true,
         "textposition": "auto",
         "type": "bar",
         "x": [
          1,
          null,
          null,
          null
         ],
         "xaxis": "x",
         "y": [
          "Matthew KPE Count",
          "Luke KPE Count",
          "Mark KPE Count",
          "John KPE Count"
         ],
         "yaxis": "y"
        },
        {
         "alignmentgroup": "True",
         "hovertemplate": "variable=Genesaret<br>value=%{x}<br>index=%{y}<extra></extra>",
         "legendgroup": "Genesaret",
         "marker": {
          "color": "#FECB52",
          "pattern": {
           "shape": ""
          }
         },
         "name": "Genesaret",
         "offsetgroup": "Genesaret",
         "orientation": "h",
         "showlegend": true,
         "textposition": "auto",
         "type": "bar",
         "x": [
          1,
          1,
          null,
          null
         ],
         "xaxis": "x",
         "y": [
          "Matthew KPE Count",
          "Luke KPE Count",
          "Mark KPE Count",
          "John KPE Count"
         ],
         "yaxis": "y"
        },
        {
         "alignmentgroup": "True",
         "hovertemplate": "variable=seven full baskets<br>value=%{x}<br>index=%{y}<extra></extra>",
         "legendgroup": "seven full baskets",
         "marker": {
          "color": "#636efa",
          "pattern": {
           "shape": ""
          }
         },
         "name": "seven full baskets",
         "offsetgroup": "seven full baskets",
         "orientation": "h",
         "showlegend": true,
         "textposition": "auto",
         "type": "bar",
         "x": [
          1,
          null,
          null,
          null
         ],
         "xaxis": "x",
         "y": [
          "Matthew KPE Count",
          "Luke KPE Count",
          "Mark KPE Count",
          "John KPE Count"
         ],
         "yaxis": "y"
        },
        {
         "alignmentgroup": "True",
         "hovertemplate": "variable=evil thoughts<br>value=%{x}<br>index=%{y}<extra></extra>",
         "legendgroup": "evil thoughts",
         "marker": {
          "color": "#EF553B",
          "pattern": {
           "shape": ""
          }
         },
         "name": "evil thoughts",
         "offsetgroup": "evil thoughts",
         "orientation": "h",
         "showlegend": true,
         "textposition": "auto",
         "type": "bar",
         "x": [
          1,
          null,
          1,
          null
         ],
         "xaxis": "x",
         "y": [
          "Matthew KPE Count",
          "Luke KPE Count",
          "Mark KPE Count",
          "John KPE Count"
         ],
         "yaxis": "y"
        },
        {
         "alignmentgroup": "True",
         "hovertemplate": "variable=false testimonies<br>value=%{x}<br>index=%{y}<extra></extra>",
         "legendgroup": "false testimonies",
         "marker": {
          "color": "#00cc96",
          "pattern": {
           "shape": ""
          }
         },
         "name": "false testimonies",
         "offsetgroup": "false testimonies",
         "orientation": "h",
         "showlegend": true,
         "textposition": "auto",
         "type": "bar",
         "x": [
          1,
          null,
          null,
          null
         ],
         "xaxis": "x",
         "y": [
          "Matthew KPE Count",
          "Luke KPE Count",
          "Mark KPE Count",
          "John KPE Count"
         ],
         "yaxis": "y"
        },
        {
         "alignmentgroup": "True",
         "hovertemplate": "variable=many others<br>value=%{x}<br>index=%{y}<extra></extra>",
         "legendgroup": "many others",
         "marker": {
          "color": "#ab63fa",
          "pattern": {
           "shape": ""
          }
         },
         "name": "many others",
         "offsetgroup": "many others",
         "orientation": "h",
         "showlegend": true,
         "textposition": "auto",
         "type": "bar",
         "x": [
          1,
          null,
          1,
          null
         ],
         "xaxis": "x",
         "y": [
          "Matthew KPE Count",
          "Luke KPE Count",
          "Mark KPE Count",
          "John KPE Count"
         ],
         "yaxis": "y"
        },
        {
         "alignmentgroup": "True",
         "hovertemplate": "variable=many loaves<br>value=%{x}<br>index=%{y}<extra></extra>",
         "legendgroup": "many loaves",
         "marker": {
          "color": "#FFA15A",
          "pattern": {
           "shape": ""
          }
         },
         "name": "many loaves",
         "offsetgroup": "many loaves",
         "orientation": "h",
         "showlegend": true,
         "textposition": "auto",
         "type": "bar",
         "x": [
          1,
          null,
          1,
          null
         ],
         "xaxis": "x",
         "y": [
          "Matthew KPE Count",
          "Luke KPE Count",
          "Mark KPE Count",
          "John KPE Count"
         ],
         "yaxis": "y"
        },
        {
         "alignmentgroup": "True",
         "hovertemplate": "variable=coastal region<br>value=%{x}<br>index=%{y}<extra></extra>",
         "legendgroup": "coastal region",
         "marker": {
          "color": "#19d3f3",
          "pattern": {
           "shape": ""
          }
         },
         "name": "coastal region",
         "offsetgroup": "coastal region",
         "orientation": "h",
         "showlegend": true,
         "textposition": "auto",
         "type": "bar",
         "x": [
          1,
          null,
          null,
          null
         ],
         "xaxis": "x",
         "y": [
          "Matthew KPE Count",
          "Luke KPE Count",
          "Mark KPE Count",
          "John KPE Count"
         ],
         "yaxis": "y"
        },
        {
         "alignmentgroup": "True",
         "hovertemplate": "variable=young dogs<br>value=%{x}<br>index=%{y}<extra></extra>",
         "legendgroup": "young dogs",
         "marker": {
          "color": "#FF6692",
          "pattern": {
           "shape": ""
          }
         },
         "name": "young dogs",
         "offsetgroup": "young dogs",
         "orientation": "h",
         "showlegend": true,
         "textposition": "auto",
         "type": "bar",
         "x": [
          1,
          null,
          1,
          null
         ],
         "xaxis": "x",
         "y": [
          "Matthew KPE Count",
          "Luke KPE Count",
          "Mark KPE Count",
          "John KPE Count"
         ],
         "yaxis": "y"
        },
        {
         "alignmentgroup": "True",
         "hovertemplate": "variable=little fish<br>value=%{x}<br>index=%{y}<extra></extra>",
         "legendgroup": "little fish",
         "marker": {
          "color": "#B6E880",
          "pattern": {
           "shape": ""
          }
         },
         "name": "little fish",
         "offsetgroup": "little fish",
         "orientation": "h",
         "showlegend": true,
         "textposition": "auto",
         "type": "bar",
         "x": [
          1,
          null,
          null,
          null
         ],
         "xaxis": "x",
         "y": [
          "Matthew KPE Count",
          "Luke KPE Count",
          "Mark KPE Count",
          "John KPE Count"
         ],
         "yaxis": "y"
        },
        {
         "alignmentgroup": "True",
         "hovertemplate": "variable=enough bread<br>value=%{x}<br>index=%{y}<extra></extra>",
         "legendgroup": "enough bread",
         "marker": {
          "color": "#FF97FF",
          "pattern": {
           "shape": ""
          }
         },
         "name": "enough bread",
         "offsetgroup": "enough bread",
         "orientation": "h",
         "showlegend": true,
         "textposition": "auto",
         "type": "bar",
         "x": [
          1,
          null,
          1,
          null
         ],
         "xaxis": "x",
         "y": [
          "Matthew KPE Count",
          "Luke KPE Count",
          "Mark KPE Count",
          "John KPE Count"
         ],
         "yaxis": "y"
        },
        {
         "alignmentgroup": "True",
         "hovertemplate": "variable=tradition<br>value=%{x}<br>index=%{y}<extra></extra>",
         "legendgroup": "tradition",
         "marker": {
          "color": "#FECB52",
          "pattern": {
           "shape": ""
          }
         },
         "name": "tradition",
         "offsetgroup": "tradition",
         "orientation": "h",
         "showlegend": true,
         "textposition": "auto",
         "type": "bar",
         "x": [
          1,
          null,
          1,
          null
         ],
         "xaxis": "x",
         "y": [
          "Matthew KPE Count",
          "Luke KPE Count",
          "Mark KPE Count",
          "John KPE Count"
         ],
         "yaxis": "y"
        },
        {
         "alignmentgroup": "True",
         "hovertemplate": "variable=commandment<br>value=%{x}<br>index=%{y}<extra></extra>",
         "legendgroup": "commandment",
         "marker": {
          "color": "#636efa",
          "pattern": {
           "shape": ""
          }
         },
         "name": "commandment",
         "offsetgroup": "commandment",
         "orientation": "h",
         "showlegend": true,
         "textposition": "auto",
         "type": "bar",
         "x": [
          1,
          1,
          null,
          null
         ],
         "xaxis": "x",
         "y": [
          "Matthew KPE Count",
          "Luke KPE Count",
          "Mark KPE Count",
          "John KPE Count"
         ],
         "yaxis": "y"
        },
        {
         "alignmentgroup": "True",
         "hovertemplate": "variable=Hypocrites<br>value=%{x}<br>index=%{y}<extra></extra>",
         "legendgroup": "Hypocrites",
         "marker": {
          "color": "#EF553B",
          "pattern": {
           "shape": ""
          }
         },
         "name": "Hypocrites",
         "offsetgroup": "Hypocrites",
         "orientation": "h",
         "showlegend": true,
         "textposition": "auto",
         "type": "bar",
         "x": [
          1,
          null,
          null,
          null
         ],
         "xaxis": "x",
         "y": [
          "Matthew KPE Count",
          "Luke KPE Count",
          "Mark KPE Count",
          "John KPE Count"
         ],
         "yaxis": "y"
        },
        {
         "alignmentgroup": "True",
         "hovertemplate": "variable=lips<br>value=%{x}<br>index=%{y}<extra></extra>",
         "legendgroup": "lips",
         "marker": {
          "color": "#00cc96",
          "pattern": {
           "shape": ""
          }
         },
         "name": "lips",
         "offsetgroup": "lips",
         "orientation": "h",
         "showlegend": true,
         "textposition": "auto",
         "type": "bar",
         "x": [
          1,
          null,
          1,
          null
         ],
         "xaxis": "x",
         "y": [
          "Matthew KPE Count",
          "Luke KPE Count",
          "Mark KPE Count",
          "John KPE Count"
         ],
         "yaxis": "y"
        },
        {
         "alignmentgroup": "True",
         "hovertemplate": "variable=vain<br>value=%{x}<br>index=%{y}<extra></extra>",
         "legendgroup": "vain",
         "marker": {
          "color": "#ab63fa",
          "pattern": {
           "shape": ""
          }
         },
         "name": "vain",
         "offsetgroup": "vain",
         "orientation": "h",
         "showlegend": true,
         "textposition": "auto",
         "type": "bar",
         "x": [
          1,
          null,
          1,
          null
         ],
         "xaxis": "x",
         "y": [
          "Matthew KPE Count",
          "Luke KPE Count",
          "Mark KPE Count",
          "John KPE Count"
         ],
         "yaxis": "y"
        },
        {
         "alignmentgroup": "True",
         "hovertemplate": "variable=doctrines<br>value=%{x}<br>index=%{y}<extra></extra>",
         "legendgroup": "doctrines",
         "marker": {
          "color": "#FFA15A",
          "pattern": {
           "shape": ""
          }
         },
         "name": "doctrines",
         "offsetgroup": "doctrines",
         "orientation": "h",
         "showlegend": true,
         "textposition": "auto",
         "type": "bar",
         "x": [
          1,
          null,
          1,
          null
         ],
         "xaxis": "x",
         "y": [
          "Matthew KPE Count",
          "Luke KPE Count",
          "Mark KPE Count",
          "John KPE Count"
         ],
         "yaxis": "y"
        },
        {
         "alignmentgroup": "True",
         "hovertemplate": "variable=plant<br>value=%{x}<br>index=%{y}<extra></extra>",
         "legendgroup": "plant",
         "marker": {
          "color": "#19d3f3",
          "pattern": {
           "shape": ""
          }
         },
         "name": "plant",
         "offsetgroup": "plant",
         "orientation": "h",
         "showlegend": true,
         "textposition": "auto",
         "type": "bar",
         "x": [
          1,
          null,
          1,
          null
         ],
         "xaxis": "x",
         "y": [
          "Matthew KPE Count",
          "Luke KPE Count",
          "Mark KPE Count",
          "John KPE Count"
         ],
         "yaxis": "y"
        },
        {
         "alignmentgroup": "True",
         "hovertemplate": "variable=understanding<br>value=%{x}<br>index=%{y}<extra></extra>",
         "legendgroup": "understanding",
         "marker": {
          "color": "#FF6692",
          "pattern": {
           "shape": ""
          }
         },
         "name": "understanding",
         "offsetgroup": "understanding",
         "orientation": "h",
         "showlegend": true,
         "textposition": "auto",
         "type": "bar",
         "x": [
          1,
          null,
          1,
          null
         ],
         "xaxis": "x",
         "y": [
          "Matthew KPE Count",
          "Luke KPE Count",
          "Mark KPE Count",
          "John KPE Count"
         ],
         "yaxis": "y"
        },
        {
         "alignmentgroup": "True",
         "hovertemplate": "variable=everything<br>value=%{x}<br>index=%{y}<extra></extra>",
         "legendgroup": "everything",
         "marker": {
          "color": "#B6E880",
          "pattern": {
           "shape": ""
          }
         },
         "name": "everything",
         "offsetgroup": "everything",
         "orientation": "h",
         "showlegend": true,
         "textposition": "auto",
         "type": "bar",
         "x": [
          1,
          6,
          6,
          4
         ],
         "xaxis": "x",
         "y": [
          "Matthew KPE Count",
          "Luke KPE Count",
          "Mark KPE Count",
          "John KPE Count"
         ],
         "yaxis": "y"
        },
        {
         "alignmentgroup": "True",
         "hovertemplate": "variable=gut<br>value=%{x}<br>index=%{y}<extra></extra>",
         "legendgroup": "gut",
         "marker": {
          "color": "#FF97FF",
          "pattern": {
           "shape": ""
          }
         },
         "name": "gut",
         "offsetgroup": "gut",
         "orientation": "h",
         "showlegend": true,
         "textposition": "auto",
         "type": "bar",
         "x": [
          1,
          null,
          1,
          null
         ],
         "xaxis": "x",
         "y": [
          "Matthew KPE Count",
          "Luke KPE Count",
          "Mark KPE Count",
          "John KPE Count"
         ],
         "yaxis": "y"
        },
        {
         "alignmentgroup": "True",
         "hovertemplate": "variable=sewer<br>value=%{x}<br>index=%{y}<extra></extra>",
         "legendgroup": "sewer",
         "marker": {
          "color": "#FECB52",
          "pattern": {
           "shape": ""
          }
         },
         "name": "sewer",
         "offsetgroup": "sewer",
         "orientation": "h",
         "showlegend": true,
         "textposition": "auto",
         "type": "bar",
         "x": [
          1,
          null,
          1,
          null
         ],
         "xaxis": "x",
         "y": [
          "Matthew KPE Count",
          "Luke KPE Count",
          "Mark KPE Count",
          "John KPE Count"
         ],
         "yaxis": "y"
        },
        {
         "alignmentgroup": "True",
         "hovertemplate": "variable=murders<br>value=%{x}<br>index=%{y}<extra></extra>",
         "legendgroup": "murders",
         "marker": {
          "color": "#636efa",
          "pattern": {
           "shape": ""
          }
         },
         "name": "murders",
         "offsetgroup": "murders",
         "orientation": "h",
         "showlegend": true,
         "textposition": "auto",
         "type": "bar",
         "x": [
          1,
          null,
          1,
          null
         ],
         "xaxis": "x",
         "y": [
          "Matthew KPE Count",
          "Luke KPE Count",
          "Mark KPE Count",
          "John KPE Count"
         ],
         "yaxis": "y"
        },
        {
         "alignmentgroup": "True",
         "hovertemplate": "variable=adulteries<br>value=%{x}<br>index=%{y}<extra></extra>",
         "legendgroup": "adulteries",
         "marker": {
          "color": "#EF553B",
          "pattern": {
           "shape": ""
          }
         },
         "name": "adulteries",
         "offsetgroup": "adulteries",
         "orientation": "h",
         "showlegend": true,
         "textposition": "auto",
         "type": "bar",
         "x": [
          1,
          null,
          1,
          null
         ],
         "xaxis": "x",
         "y": [
          "Matthew KPE Count",
          "Luke KPE Count",
          "Mark KPE Count",
          "John KPE Count"
         ],
         "yaxis": "y"
        },
        {
         "alignmentgroup": "True",
         "hovertemplate": "variable=fornications<br>value=%{x}<br>index=%{y}<extra></extra>",
         "legendgroup": "fornications",
         "marker": {
          "color": "#00cc96",
          "pattern": {
           "shape": ""
          }
         },
         "name": "fornications",
         "offsetgroup": "fornications",
         "orientation": "h",
         "showlegend": true,
         "textposition": "auto",
         "type": "bar",
         "x": [
          1,
          null,
          1,
          null
         ],
         "xaxis": "x",
         "y": [
          "Matthew KPE Count",
          "Luke KPE Count",
          "Mark KPE Count",
          "John KPE Count"
         ],
         "yaxis": "y"
        },
        {
         "alignmentgroup": "True",
         "hovertemplate": "variable=thefts<br>value=%{x}<br>index=%{y}<extra></extra>",
         "legendgroup": "thefts",
         "marker": {
          "color": "#ab63fa",
          "pattern": {
           "shape": ""
          }
         },
         "name": "thefts",
         "offsetgroup": "thefts",
         "orientation": "h",
         "showlegend": true,
         "textposition": "auto",
         "type": "bar",
         "x": [
          1,
          null,
          1,
          null
         ],
         "xaxis": "x",
         "y": [
          "Matthew KPE Count",
          "Luke KPE Count",
          "Mark KPE Count",
          "John KPE Count"
         ],
         "yaxis": "y"
        },
        {
         "alignmentgroup": "True",
         "hovertemplate": "variable=blasphemies<br>value=%{x}<br>index=%{y}<extra></extra>",
         "legendgroup": "blasphemies",
         "marker": {
          "color": "#FFA15A",
          "pattern": {
           "shape": ""
          }
         },
         "name": "blasphemies",
         "offsetgroup": "blasphemies",
         "orientation": "h",
         "showlegend": true,
         "textposition": "auto",
         "type": "bar",
         "x": [
          1,
          1,
          1,
          null
         ],
         "xaxis": "x",
         "y": [
          "Matthew KPE Count",
          "Luke KPE Count",
          "Mark KPE Count",
          "John KPE Count"
         ],
         "yaxis": "y"
        },
        {
         "alignmentgroup": "True",
         "hovertemplate": "variable=washing<br>value=%{x}<br>index=%{y}<extra></extra>",
         "legendgroup": "washing",
         "marker": {
          "color": "#19d3f3",
          "pattern": {
           "shape": ""
          }
         },
         "name": "washing",
         "offsetgroup": "washing",
         "orientation": "h",
         "showlegend": true,
         "textposition": "auto",
         "type": "bar",
         "x": [
          1,
          null,
          null,
          null
         ],
         "xaxis": "x",
         "y": [
          "Matthew KPE Count",
          "Luke KPE Count",
          "Mark KPE Count",
          "John KPE Count"
         ],
         "yaxis": "y"
        },
        {
         "alignmentgroup": "True",
         "hovertemplate": "variable=areas<br>value=%{x}<br>index=%{y}<extra></extra>",
         "legendgroup": "areas",
         "marker": {
          "color": "#FF6692",
          "pattern": {
           "shape": ""
          }
         },
         "name": "areas",
         "offsetgroup": "areas",
         "orientation": "h",
         "showlegend": true,
         "textposition": "auto",
         "type": "bar",
         "x": [
          1,
          null,
          null,
          null
         ],
         "xaxis": "x",
         "y": [
          "Matthew KPE Count",
          "Luke KPE Count",
          "Mark KPE Count",
          "John KPE Count"
         ],
         "yaxis": "y"
        },
        {
         "alignmentgroup": "True",
         "hovertemplate": "variable=Canaan<br>value=%{x}<br>index=%{y}<extra></extra>",
         "legendgroup": "Canaan",
         "marker": {
          "color": "#B6E880",
          "pattern": {
           "shape": ""
          }
         },
         "name": "Canaan",
         "offsetgroup": "Canaan",
         "orientation": "h",
         "showlegend": true,
         "textposition": "auto",
         "type": "bar",
         "x": [
          1,
          null,
          null,
          null
         ],
         "xaxis": "x",
         "y": [
          "Matthew KPE Count",
          "Luke KPE Count",
          "Mark KPE Count",
          "John KPE Count"
         ],
         "yaxis": "y"
        },
        {
         "alignmentgroup": "True",
         "hovertemplate": "variable=crumbs<br>value=%{x}<br>index=%{y}<extra></extra>",
         "legendgroup": "crumbs",
         "marker": {
          "color": "#FF97FF",
          "pattern": {
           "shape": ""
          }
         },
         "name": "crumbs",
         "offsetgroup": "crumbs",
         "orientation": "h",
         "showlegend": true,
         "textposition": "auto",
         "type": "bar",
         "x": [
          1,
          1,
          1,
          null
         ],
         "xaxis": "x",
         "y": [
          "Matthew KPE Count",
          "Luke KPE Count",
          "Mark KPE Count",
          "John KPE Count"
         ],
         "yaxis": "y"
        },
        {
         "alignmentgroup": "True",
         "hovertemplate": "variable=masters<br>value=%{x}<br>index=%{y}<extra></extra>",
         "legendgroup": "masters",
         "marker": {
          "color": "#FECB52",
          "pattern": {
           "shape": ""
          }
         },
         "name": "masters",
         "offsetgroup": "masters",
         "orientation": "h",
         "showlegend": true,
         "textposition": "auto",
         "type": "bar",
         "x": [
          1,
          null,
          null,
          null
         ],
         "xaxis": "x",
         "y": [
          "Matthew KPE Count",
          "Luke KPE Count",
          "Mark KPE Count",
          "John KPE Count"
         ],
         "yaxis": "y"
        },
        {
         "alignmentgroup": "True",
         "hovertemplate": "variable=mute<br>value=%{x}<br>index=%{y}<extra></extra>",
         "legendgroup": "mute",
         "marker": {
          "color": "#636efa",
          "pattern": {
           "shape": ""
          }
         },
         "name": "mute",
         "offsetgroup": "mute",
         "orientation": "h",
         "showlegend": true,
         "textposition": "auto",
         "type": "bar",
         "x": [
          1,
          null,
          1,
          null
         ],
         "xaxis": "x",
         "y": [
          "Matthew KPE Count",
          "Luke KPE Count",
          "Mark KPE Count",
          "John KPE Count"
         ],
         "yaxis": "y"
        },
        {
         "alignmentgroup": "True",
         "hovertemplate": "variable=ground<br>value=%{x}<br>index=%{y}<extra></extra>",
         "legendgroup": "ground",
         "marker": {
          "color": "#EF553B",
          "pattern": {
           "shape": ""
          }
         },
         "name": "ground",
         "offsetgroup": "ground",
         "orientation": "h",
         "showlegend": true,
         "textposition": "auto",
         "type": "bar",
         "x": [
          1,
          3,
          3,
          3
         ],
         "xaxis": "x",
         "y": [
          "Matthew KPE Count",
          "Luke KPE Count",
          "Mark KPE Count",
          "John KPE Count"
         ],
         "yaxis": "y"
        },
        {
         "alignmentgroup": "True",
         "hovertemplate": "variable=Magadan<br>value=%{x}<br>index=%{y}<extra></extra>",
         "legendgroup": "Magadan",
         "marker": {
          "color": "#00cc96",
          "pattern": {
           "shape": ""
          }
         },
         "name": "Magadan",
         "offsetgroup": "Magadan",
         "orientation": "h",
         "showlegend": true,
         "textposition": "auto",
         "type": "bar",
         "x": [
          1,
          null,
          null,
          null
         ],
         "xaxis": "x",
         "y": [
          "Matthew KPE Count",
          "Luke KPE Count",
          "Mark KPE Count",
          "John KPE Count"
         ],
         "yaxis": "y"
        },
        {
         "alignmentgroup": "True",
         "hovertemplate": "variable=many containers<br>value=%{x}<br>index=%{y}<extra></extra>",
         "legendgroup": "many containers",
         "marker": {
          "color": "#ab63fa",
          "pattern": {
           "shape": ""
          }
         },
         "name": "many containers",
         "offsetgroup": "many containers",
         "orientation": "h",
         "showlegend": true,
         "textposition": "auto",
         "type": "bar",
         "x": [
          1,
          null,
          null,
          null
         ],
         "xaxis": "x",
         "y": [
          "Matthew KPE Count",
          "Luke KPE Count",
          "Mark KPE Count",
          "John KPE Count"
         ],
         "yaxis": "y"
        },
        {
         "alignmentgroup": "True",
         "hovertemplate": "variable=many baskets<br>value=%{x}<br>index=%{y}<extra></extra>",
         "legendgroup": "many baskets",
         "marker": {
          "color": "#FFA15A",
          "pattern": {
           "shape": ""
          }
         },
         "name": "many baskets",
         "offsetgroup": "many baskets",
         "orientation": "h",
         "showlegend": true,
         "textposition": "auto",
         "type": "bar",
         "x": [
          1,
          null,
          1,
          null
         ],
         "xaxis": "x",
         "y": [
          "Matthew KPE Count",
          "Luke KPE Count",
          "Mark KPE Count",
          "John KPE Count"
         ],
         "yaxis": "y"
        },
        {
         "alignmentgroup": "True",
         "hovertemplate": "variable=Caesarea Philippi<br>value=%{x}<br>index=%{y}<extra></extra>",
         "legendgroup": "Caesarea Philippi",
         "marker": {
          "color": "#19d3f3",
          "pattern": {
           "shape": ""
          }
         },
         "name": "Caesarea Philippi",
         "offsetgroup": "Caesarea Philippi",
         "orientation": "h",
         "showlegend": true,
         "textposition": "auto",
         "type": "bar",
         "x": [
          1,
          null,
          1,
          null
         ],
         "xaxis": "x",
         "y": [
          "Matthew KPE Count",
          "Luke KPE Count",
          "Mark KPE Count",
          "John KPE Count"
         ],
         "yaxis": "y"
        },
        {
         "alignmentgroup": "True",
         "hovertemplate": "variable=living God<br>value=%{x}<br>index=%{y}<extra></extra>",
         "legendgroup": "living God",
         "marker": {
          "color": "#FF6692",
          "pattern": {
           "shape": ""
          }
         },
         "name": "living God",
         "offsetgroup": "living God",
         "orientation": "h",
         "showlegend": true,
         "textposition": "auto",
         "type": "bar",
         "x": [
          1,
          null,
          null,
          1
         ],
         "xaxis": "x",
         "y": [
          "Matthew KPE Count",
          "Luke KPE Count",
          "Mark KPE Count",
          "John KPE Count"
         ],
         "yaxis": "y"
        },
        {
         "alignmentgroup": "True",
         "hovertemplate": "variable=Simon Peter<br>value=%{x}<br>index=%{y}<extra></extra>",
         "legendgroup": "Simon Peter",
         "marker": {
          "color": "#B6E880",
          "pattern": {
           "shape": ""
          }
         },
         "name": "Simon Peter",
         "offsetgroup": "Simon Peter",
         "orientation": "h",
         "showlegend": true,
         "textposition": "auto",
         "type": "bar",
         "x": [
          1,
          2,
          null,
          5
         ],
         "xaxis": "x",
         "y": [
          "Matthew KPE Count",
          "Luke KPE Count",
          "Mark KPE Count",
          "John KPE Count"
         ],
         "yaxis": "y"
        },
        {
         "alignmentgroup": "True",
         "hovertemplate": "variable=sky<br>value=%{x}<br>index=%{y}<extra></extra>",
         "legendgroup": "sky",
         "marker": {
          "color": "#FF97FF",
          "pattern": {
           "shape": ""
          }
         },
         "name": "sky",
         "offsetgroup": "sky",
         "orientation": "h",
         "showlegend": true,
         "textposition": "auto",
         "type": "bar",
         "x": [
          1,
          null,
          null,
          null
         ],
         "xaxis": "x",
         "y": [
          "Matthew KPE Count",
          "Luke KPE Count",
          "Mark KPE Count",
          "John KPE Count"
         ],
         "yaxis": "y"
        },
        {
         "alignmentgroup": "True",
         "hovertemplate": "variable=storm<br>value=%{x}<br>index=%{y}<extra></extra>",
         "legendgroup": "storm",
         "marker": {
          "color": "#FECB52",
          "pattern": {
           "shape": ""
          }
         },
         "name": "storm",
         "offsetgroup": "storm",
         "orientation": "h",
         "showlegend": true,
         "textposition": "auto",
         "type": "bar",
         "x": [
          1,
          null,
          null,
          null
         ],
         "xaxis": "x",
         "y": [
          "Matthew KPE Count",
          "Luke KPE Count",
          "Mark KPE Count",
          "John KPE Count"
         ],
         "yaxis": "y"
        },
        {
         "alignmentgroup": "True",
         "hovertemplate": "variable=times<br>value=%{x}<br>index=%{y}<extra></extra>",
         "legendgroup": "times",
         "marker": {
          "color": "#636efa",
          "pattern": {
           "shape": ""
          }
         },
         "name": "times",
         "offsetgroup": "times",
         "orientation": "h",
         "showlegend": true,
         "textposition": "auto",
         "type": "bar",
         "x": [
          1,
          null,
          null,
          1
         ],
         "xaxis": "x",
         "y": [
          "Matthew KPE Count",
          "Luke KPE Count",
          "Mark KPE Count",
          "John KPE Count"
         ],
         "yaxis": "y"
        },
        {
         "alignmentgroup": "True",
         "hovertemplate": "variable=Jeremiah<br>value=%{x}<br>index=%{y}<extra></extra>",
         "legendgroup": "Jeremiah",
         "marker": {
          "color": "#EF553B",
          "pattern": {
           "shape": ""
          }
         },
         "name": "Jeremiah",
         "offsetgroup": "Jeremiah",
         "orientation": "h",
         "showlegend": true,
         "textposition": "auto",
         "type": "bar",
         "x": [
          1,
          null,
          null,
          null
         ],
         "xaxis": "x",
         "y": [
          "Matthew KPE Count",
          "Luke KPE Count",
          "Mark KPE Count",
          "John KPE Count"
         ],
         "yaxis": "y"
        },
        {
         "alignmentgroup": "True",
         "hovertemplate": "variable=gates<br>value=%{x}<br>index=%{y}<extra></extra>",
         "legendgroup": "gates",
         "marker": {
          "color": "#00cc96",
          "pattern": {
           "shape": ""
          }
         },
         "name": "gates",
         "offsetgroup": "gates",
         "orientation": "h",
         "showlegend": true,
         "textposition": "auto",
         "type": "bar",
         "x": [
          1,
          null,
          null,
          null
         ],
         "xaxis": "x",
         "y": [
          "Matthew KPE Count",
          "Luke KPE Count",
          "Mark KPE Count",
          "John KPE Count"
         ],
         "yaxis": "y"
        },
        {
         "alignmentgroup": "True",
         "hovertemplate": "variable=keys<br>value=%{x}<br>index=%{y}<extra></extra>",
         "legendgroup": "keys",
         "marker": {
          "color": "#ab63fa",
          "pattern": {
           "shape": ""
          }
         },
         "name": "keys",
         "offsetgroup": "keys",
         "orientation": "h",
         "showlegend": true,
         "textposition": "auto",
         "type": "bar",
         "x": [
          1,
          null,
          null,
          null
         ],
         "xaxis": "x",
         "y": [
          "Matthew KPE Count",
          "Luke KPE Count",
          "Mark KPE Count",
          "John KPE Count"
         ],
         "yaxis": "y"
        },
        {
         "alignmentgroup": "True",
         "hovertemplate": "variable=damage<br>value=%{x}<br>index=%{y}<extra></extra>",
         "legendgroup": "damage",
         "marker": {
          "color": "#FFA15A",
          "pattern": {
           "shape": ""
          }
         },
         "name": "damage",
         "offsetgroup": "damage",
         "orientation": "h",
         "showlegend": true,
         "textposition": "auto",
         "type": "bar",
         "x": [
          1,
          null,
          null,
          null
         ],
         "xaxis": "x",
         "y": [
          "Matthew KPE Count",
          "Luke KPE Count",
          "Mark KPE Count",
          "John KPE Count"
         ],
         "yaxis": "y"
        },
        {
         "alignmentgroup": "True",
         "hovertemplate": "variable=exchange<br>value=%{x}<br>index=%{y}<extra></extra>",
         "legendgroup": "exchange",
         "marker": {
          "color": "#19d3f3",
          "pattern": {
           "shape": ""
          }
         },
         "name": "exchange",
         "offsetgroup": "exchange",
         "orientation": "h",
         "showlegend": true,
         "textposition": "auto",
         "type": "bar",
         "x": [
          1,
          null,
          1,
          null
         ],
         "xaxis": "x",
         "y": [
          "Matthew KPE Count",
          "Luke KPE Count",
          "Mark KPE Count",
          "John KPE Count"
         ],
         "yaxis": "y"
        },
        {
         "alignmentgroup": "True",
         "hovertemplate": "variable=reign<br>value=%{x}<br>index=%{y}<extra></extra>",
         "legendgroup": "reign",
         "marker": {
          "color": "#FF6692",
          "pattern": {
           "shape": ""
          }
         },
         "name": "reign",
         "offsetgroup": "reign",
         "orientation": "h",
         "showlegend": true,
         "textposition": "auto",
         "type": "bar",
         "x": [
          1,
          1,
          null,
          null
         ],
         "xaxis": "x",
         "y": [
          "Matthew KPE Count",
          "Luke KPE Count",
          "Mark KPE Count",
          "John KPE Count"
         ],
         "yaxis": "y"
        },
        {
         "alignmentgroup": "True",
         "hovertemplate": "variable=six days<br>value=%{x}<br>index=%{y}<extra></extra>",
         "legendgroup": "six days",
         "marker": {
          "color": "#B6E880",
          "pattern": {
           "shape": ""
          }
         },
         "name": "six days",
         "offsetgroup": "six days",
         "orientation": "h",
         "showlegend": true,
         "textposition": "auto",
         "type": "bar",
         "x": [
          1,
          1,
          1,
          null
         ],
         "xaxis": "x",
         "y": [
          "Matthew KPE Count",
          "Luke KPE Count",
          "Mark KPE Count",
          "John KPE Count"
         ],
         "yaxis": "y"
        },
        {
         "alignmentgroup": "True",
         "hovertemplate": "variable=three tabernacles<br>value=%{x}<br>index=%{y}<extra></extra>",
         "legendgroup": "three tabernacles",
         "marker": {
          "color": "#FF97FF",
          "pattern": {
           "shape": ""
          }
         },
         "name": "three tabernacles",
         "offsetgroup": "three tabernacles",
         "orientation": "h",
         "showlegend": true,
         "textposition": "auto",
         "type": "bar",
         "x": [
          1,
          1,
          1,
          null
         ],
         "xaxis": "x",
         "y": [
          "Matthew KPE Count",
          "Luke KPE Count",
          "Mark KPE Count",
          "John KPE Count"
         ],
         "yaxis": "y"
        },
        {
         "alignmentgroup": "True",
         "hovertemplate": "variable=perverse generation<br>value=%{x}<br>index=%{y}<extra></extra>",
         "legendgroup": "perverse generation",
         "marker": {
          "color": "#FECB52",
          "pattern": {
           "shape": ""
          }
         },
         "name": "perverse generation",
         "offsetgroup": "perverse generation",
         "orientation": "h",
         "showlegend": true,
         "textposition": "auto",
         "type": "bar",
         "x": [
          1,
          null,
          null,
          null
         ],
         "xaxis": "x",
         "y": [
          "Matthew KPE Count",
          "Luke KPE Count",
          "Mark KPE Count",
          "John KPE Count"
         ],
         "yaxis": "y"
        },
        {
         "alignmentgroup": "True",
         "hovertemplate": "variable=first fish<br>value=%{x}<br>index=%{y}<extra></extra>",
         "legendgroup": "first fish",
         "marker": {
          "color": "#636efa",
          "pattern": {
           "shape": ""
          }
         },
         "name": "first fish",
         "offsetgroup": "first fish",
         "orientation": "h",
         "showlegend": true,
         "textposition": "auto",
         "type": "bar",
         "x": [
          1,
          null,
          null,
          null
         ],
         "xaxis": "x",
         "y": [
          "Matthew KPE Count",
          "Luke KPE Count",
          "Mark KPE Count",
          "John KPE Count"
         ],
         "yaxis": "y"
        },
        {
         "alignmentgroup": "True",
         "hovertemplate": "variable=half shekel<br>value=%{x}<br>index=%{y}<extra></extra>",
         "legendgroup": "half shekel",
         "marker": {
          "color": "#EF553B",
          "pattern": {
           "shape": ""
          }
         },
         "name": "half shekel",
         "offsetgroup": "half shekel",
         "orientation": "h",
         "showlegend": true,
         "textposition": "auto",
         "type": "bar",
         "x": [
          1,
          null,
          null,
          null
         ],
         "xaxis": "x",
         "y": [
          "Matthew KPE Count",
          "Luke KPE Count",
          "Mark KPE Count",
          "John KPE Count"
         ],
         "yaxis": "y"
        },
        {
         "alignmentgroup": "True",
         "hovertemplate": "variable=shining cloud<br>value=%{x}<br>index=%{y}<extra></extra>",
         "legendgroup": "shining cloud",
         "marker": {
          "color": "#00cc96",
          "pattern": {
           "shape": ""
          }
         },
         "name": "shining cloud",
         "offsetgroup": "shining cloud",
         "orientation": "h",
         "showlegend": true,
         "textposition": "auto",
         "type": "bar",
         "x": [
          1,
          null,
          null,
          null
         ],
         "xaxis": "x",
         "y": [
          "Matthew KPE Count",
          "Luke KPE Count",
          "Mark KPE Count",
          "John KPE Count"
         ],
         "yaxis": "y"
        },
        {
         "alignmentgroup": "True",
         "hovertemplate": "variable=lofty mountain<br>value=%{x}<br>index=%{y}<extra></extra>",
         "legendgroup": "lofty mountain",
         "marker": {
          "color": "#ab63fa",
          "pattern": {
           "shape": ""
          }
         },
         "name": "lofty mountain",
         "offsetgroup": "lofty mountain",
         "orientation": "h",
         "showlegend": true,
         "textposition": "auto",
         "type": "bar",
         "x": [
          1,
          null,
          1,
          null
         ],
         "xaxis": "x",
         "y": [
          "Matthew KPE Count",
          "Luke KPE Count",
          "Mark KPE Count",
          "John KPE Count"
         ],
         "yaxis": "y"
        },
        {
         "alignmentgroup": "True",
         "hovertemplate": "variable=multitude<br>value=%{x}<br>index=%{y}<extra></extra>",
         "legendgroup": "multitude",
         "marker": {
          "color": "#FFA15A",
          "pattern": {
           "shape": ""
          }
         },
         "name": "multitude",
         "offsetgroup": "multitude",
         "orientation": "h",
         "showlegend": true,
         "textposition": "auto",
         "type": "bar",
         "x": [
          1,
          3,
          1,
          2
         ],
         "xaxis": "x",
         "y": [
          "Matthew KPE Count",
          "Luke KPE Count",
          "Mark KPE Count",
          "John KPE Count"
         ],
         "yaxis": "y"
        },
        {
         "alignmentgroup": "True",
         "hovertemplate": "variable=knees<br>value=%{x}<br>index=%{y}<extra></extra>",
         "legendgroup": "knees",
         "marker": {
          "color": "#19d3f3",
          "pattern": {
           "shape": ""
          }
         },
         "name": "knees",
         "offsetgroup": "knees",
         "orientation": "h",
         "showlegend": true,
         "textposition": "auto",
         "type": "bar",
         "x": [
          1,
          1,
          null,
          null
         ],
         "xaxis": "x",
         "y": [
          "Matthew KPE Count",
          "Luke KPE Count",
          "Mark KPE Count",
          "John KPE Count"
         ],
         "yaxis": "y"
        },
        {
         "alignmentgroup": "True",
         "hovertemplate": "variable=epileptic<br>value=%{x}<br>index=%{y}<extra></extra>",
         "legendgroup": "epileptic",
         "marker": {
          "color": "#FF6692",
          "pattern": {
           "shape": ""
          }
         },
         "name": "epileptic",
         "offsetgroup": "epileptic",
         "orientation": "h",
         "showlegend": true,
         "textposition": "auto",
         "type": "bar",
         "x": [
          1,
          null,
          null,
          null
         ],
         "xaxis": "x",
         "y": [
          "Matthew KPE Count",
          "Luke KPE Count",
          "Mark KPE Count",
          "John KPE Count"
         ],
         "yaxis": "y"
        },
        {
         "alignmentgroup": "True",
         "hovertemplate": "variable=harm<br>value=%{x}<br>index=%{y}<extra></extra>",
         "legendgroup": "harm",
         "marker": {
          "color": "#B6E880",
          "pattern": {
           "shape": ""
          }
         },
         "name": "harm",
         "offsetgroup": "harm",
         "orientation": "h",
         "showlegend": true,
         "textposition": "auto",
         "type": "bar",
         "x": [
          1,
          1,
          1,
          null
         ],
         "xaxis": "x",
         "y": [
          "Matthew KPE Count",
          "Luke KPE Count",
          "Mark KPE Count",
          "John KPE Count"
         ],
         "yaxis": "y"
        },
        {
         "alignmentgroup": "True",
         "hovertemplate": "variable=unbelieving<br>value=%{x}<br>index=%{y}<extra></extra>",
         "legendgroup": "unbelieving",
         "marker": {
          "color": "#FF97FF",
          "pattern": {
           "shape": ""
          }
         },
         "name": "unbelieving",
         "offsetgroup": "unbelieving",
         "orientation": "h",
         "showlegend": true,
         "textposition": "auto",
         "type": "bar",
         "x": [
          1,
          null,
          null,
          null
         ],
         "xaxis": "x",
         "y": [
          "Matthew KPE Count",
          "Luke KPE Count",
          "Mark KPE Count",
          "John KPE Count"
         ],
         "yaxis": "y"
        },
        {
         "alignmentgroup": "True",
         "hovertemplate": "variable=unbelief<br>value=%{x}<br>index=%{y}<extra></extra>",
         "legendgroup": "unbelief",
         "marker": {
          "color": "#FECB52",
          "pattern": {
           "shape": ""
          }
         },
         "name": "unbelief",
         "offsetgroup": "unbelief",
         "orientation": "h",
         "showlegend": true,
         "textposition": "auto",
         "type": "bar",
         "x": [
          1,
          null,
          2,
          null
         ],
         "xaxis": "x",
         "y": [
          "Matthew KPE Count",
          "Luke KPE Count",
          "Mark KPE Count",
          "John KPE Count"
         ],
         "yaxis": "y"
        },
        {
         "alignmentgroup": "True",
         "hovertemplate": "variable=tribute<br>value=%{x}<br>index=%{y}<extra></extra>",
         "legendgroup": "tribute",
         "marker": {
          "color": "#636efa",
          "pattern": {
           "shape": ""
          }
         },
         "name": "tribute",
         "offsetgroup": "tribute",
         "orientation": "h",
         "showlegend": true,
         "textposition": "auto",
         "type": "bar",
         "x": [
          1,
          1,
          1,
          null
         ],
         "xaxis": "x",
         "y": [
          "Matthew KPE Count",
          "Luke KPE Count",
          "Mark KPE Count",
          "John KPE Count"
         ],
         "yaxis": "y"
        },
        {
         "alignmentgroup": "True",
         "hovertemplate": "variable=foreigners<br>value=%{x}<br>index=%{y}<extra></extra>",
         "legendgroup": "foreigners",
         "marker": {
          "color": "#EF553B",
          "pattern": {
           "shape": ""
          }
         },
         "name": "foreigners",
         "offsetgroup": "foreigners",
         "orientation": "h",
         "showlegend": true,
         "textposition": "auto",
         "type": "bar",
         "x": [
          1,
          null,
          null,
          null
         ],
         "xaxis": "x",
         "y": [
          "Matthew KPE Count",
          "Luke KPE Count",
          "Mark KPE Count",
          "John KPE Count"
         ],
         "yaxis": "y"
        },
        {
         "alignmentgroup": "True",
         "hovertemplate": "variable=hook<br>value=%{x}<br>index=%{y}<extra></extra>",
         "legendgroup": "hook",
         "marker": {
          "color": "#00cc96",
          "pattern": {
           "shape": ""
          }
         },
         "name": "hook",
         "offsetgroup": "hook",
         "orientation": "h",
         "showlegend": true,
         "textposition": "auto",
         "type": "bar",
         "x": [
          1,
          null,
          null,
          null
         ],
         "xaxis": "x",
         "y": [
          "Matthew KPE Count",
          "Luke KPE Count",
          "Mark KPE Count",
          "John KPE Count"
         ],
         "yaxis": "y"
        },
        {
         "alignmentgroup": "True",
         "hovertemplate": "variable=ten thousand talents<br>value=%{x}<br>index=%{y}<extra></extra>",
         "legendgroup": "ten thousand talents",
         "marker": {
          "color": "#ab63fa",
          "pattern": {
           "shape": ""
          }
         },
         "name": "ten thousand talents",
         "offsetgroup": "ten thousand talents",
         "orientation": "h",
         "showlegend": true,
         "textposition": "auto",
         "type": "bar",
         "x": [
          1,
          null,
          null,
          null
         ],
         "xaxis": "x",
         "y": [
          "Matthew KPE Count",
          "Luke KPE Count",
          "Mark KPE Count",
          "John KPE Count"
         ],
         "yaxis": "y"
        },
        {
         "alignmentgroup": "True",
         "hovertemplate": "variable=one hundred sheep<br>value=%{x}<br>index=%{y}<extra></extra>",
         "legendgroup": "one hundred sheep",
         "marker": {
          "color": "#FFA15A",
          "pattern": {
           "shape": ""
          }
         },
         "name": "one hundred sheep",
         "offsetgroup": "one hundred sheep",
         "orientation": "h",
         "showlegend": true,
         "textposition": "auto",
         "type": "bar",
         "x": [
          1,
          1,
          null,
          null
         ],
         "xaxis": "x",
         "y": [
          "Matthew KPE Count",
          "Luke KPE Count",
          "Mark KPE Count",
          "John KPE Count"
         ],
         "yaxis": "y"
        },
        {
         "alignmentgroup": "True",
         "hovertemplate": "variable=one hundred denarius<br>value=%{x}<br>index=%{y}<extra></extra>",
         "legendgroup": "one hundred denarius",
         "marker": {
          "color": "#19d3f3",
          "pattern": {
           "shape": ""
          }
         },
         "name": "one hundred denarius",
         "offsetgroup": "one hundred denarius",
         "orientation": "h",
         "showlegend": true,
         "textposition": "auto",
         "type": "bar",
         "x": [
          1,
          null,
          null,
          null
         ],
         "xaxis": "x",
         "y": [
          "Matthew KPE Count",
          "Luke KPE Count",
          "Mark KPE Count",
          "John KPE Count"
         ],
         "yaxis": "y"
        },
        {
         "alignmentgroup": "True",
         "hovertemplate": "variable=great millstone<br>value=%{x}<br>index=%{y}<extra></extra>",
         "legendgroup": "great millstone",
         "marker": {
          "color": "#FF6692",
          "pattern": {
           "shape": ""
          }
         },
         "name": "great millstone",
         "offsetgroup": "great millstone",
         "orientation": "h",
         "showlegend": true,
         "textposition": "auto",
         "type": "bar",
         "x": [
          1,
          null,
          1,
          null
         ],
         "xaxis": "x",
         "y": [
          "Matthew KPE Count",
          "Luke KPE Count",
          "Mark KPE Count",
          "John KPE Count"
         ],
         "yaxis": "y"
        },
        {
         "alignmentgroup": "True",
         "hovertemplate": "variable=three witnesses<br>value=%{x}<br>index=%{y}<extra></extra>",
         "legendgroup": "three witnesses",
         "marker": {
          "color": "#B6E880",
          "pattern": {
           "shape": ""
          }
         },
         "name": "three witnesses",
         "offsetgroup": "three witnesses",
         "orientation": "h",
         "showlegend": true,
         "textposition": "auto",
         "type": "bar",
         "x": [
          1,
          null,
          null,
          null
         ],
         "xaxis": "x",
         "y": [
          "Matthew KPE Count",
          "Luke KPE Count",
          "Mark KPE Count",
          "John KPE Count"
         ],
         "yaxis": "y"
        },
        {
         "alignmentgroup": "True",
         "hovertemplate": "variable=tax collector<br>value=%{x}<br>index=%{y}<extra></extra>",
         "legendgroup": "tax collector",
         "marker": {
          "color": "#FF97FF",
          "pattern": {
           "shape": ""
          }
         },
         "name": "tax collector",
         "offsetgroup": "tax collector",
         "orientation": "h",
         "showlegend": true,
         "textposition": "auto",
         "type": "bar",
         "x": [
          1,
          2,
          null,
          null
         ],
         "xaxis": "x",
         "y": [
          "Matthew KPE Count",
          "Luke KPE Count",
          "Mark KPE Count",
          "John KPE Count"
         ],
         "yaxis": "y"
        },
        {
         "alignmentgroup": "True",
         "hovertemplate": "variable=two hands<br>value=%{x}<br>index=%{y}<extra></extra>",
         "legendgroup": "two hands",
         "marker": {
          "color": "#FECB52",
          "pattern": {
           "shape": ""
          }
         },
         "name": "two hands",
         "offsetgroup": "two hands",
         "orientation": "h",
         "showlegend": true,
         "textposition": "auto",
         "type": "bar",
         "x": [
          1,
          null,
          null,
          null
         ],
         "xaxis": "x",
         "y": [
          "Matthew KPE Count",
          "Luke KPE Count",
          "Mark KPE Count",
          "John KPE Count"
         ],
         "yaxis": "y"
        },
        {
         "alignmentgroup": "True",
         "hovertemplate": "variable=two feet<br>value=%{x}<br>index=%{y}<extra></extra>",
         "legendgroup": "two feet",
         "marker": {
          "color": "#636efa",
          "pattern": {
           "shape": ""
          }
         },
         "name": "two feet",
         "offsetgroup": "two feet",
         "orientation": "h",
         "showlegend": true,
         "textposition": "auto",
         "type": "bar",
         "x": [
          1,
          null,
          null,
          null
         ],
         "xaxis": "x",
         "y": [
          "Matthew KPE Count",
          "Luke KPE Count",
          "Mark KPE Count",
          "John KPE Count"
         ],
         "yaxis": "y"
        },
        {
         "alignmentgroup": "True",
         "hovertemplate": "variable=two eyes<br>value=%{x}<br>index=%{y}<extra></extra>",
         "legendgroup": "two eyes",
         "marker": {
          "color": "#EF553B",
          "pattern": {
           "shape": ""
          }
         },
         "name": "two eyes",
         "offsetgroup": "two eyes",
         "orientation": "h",
         "showlegend": true,
         "textposition": "auto",
         "type": "bar",
         "x": [
          1,
          null,
          null,
          null
         ],
         "xaxis": "x",
         "y": [
          "Matthew KPE Count",
          "Luke KPE Count",
          "Mark KPE Count",
          "John KPE Count"
         ],
         "yaxis": "y"
        },
        {
         "alignmentgroup": "True",
         "hovertemplate": "variable=little child<br>value=%{x}<br>index=%{y}<extra></extra>",
         "legendgroup": "little child",
         "marker": {
          "color": "#00cc96",
          "pattern": {
           "shape": ""
          }
         },
         "name": "little child",
         "offsetgroup": "little child",
         "orientation": "h",
         "showlegend": true,
         "textposition": "auto",
         "type": "bar",
         "x": [
          1,
          null,
          null,
          null
         ],
         "xaxis": "x",
         "y": [
          "Matthew KPE Count",
          "Luke KPE Count",
          "Mark KPE Count",
          "John KPE Count"
         ],
         "yaxis": "y"
        },
        {
         "alignmentgroup": "True",
         "hovertemplate": "variable=little ones<br>value=%{x}<br>index=%{y}<extra></extra>",
         "legendgroup": "little ones",
         "marker": {
          "color": "#ab63fa",
          "pattern": {
           "shape": ""
          }
         },
         "name": "little ones",
         "offsetgroup": "little ones",
         "orientation": "h",
         "showlegend": true,
         "textposition": "auto",
         "type": "bar",
         "x": [
          1,
          null,
          null,
          null
         ],
         "xaxis": "x",
         "y": [
          "Matthew KPE Count",
          "Luke KPE Count",
          "Mark KPE Count",
          "John KPE Count"
         ],
         "yaxis": "y"
        },
        {
         "alignmentgroup": "True",
         "hovertemplate": "variable=fellow servants<br>value=%{x}<br>index=%{y}<extra></extra>",
         "legendgroup": "fellow servants",
         "marker": {
          "color": "#FFA15A",
          "pattern": {
           "shape": ""
          }
         },
         "name": "fellow servants",
         "offsetgroup": "fellow servants",
         "orientation": "h",
         "showlegend": true,
         "textposition": "auto",
         "type": "bar",
         "x": [
          1,
          null,
          null,
          null
         ],
         "xaxis": "x",
         "y": [
          "Matthew KPE Count",
          "Luke KPE Count",
          "Mark KPE Count",
          "John KPE Count"
         ],
         "yaxis": "y"
        },
        {
         "alignmentgroup": "True",
         "hovertemplate": "variable=one eye<br>value=%{x}<br>index=%{y}<extra></extra>",
         "legendgroup": "one eye",
         "marker": {
          "color": "#19d3f3",
          "pattern": {
           "shape": ""
          }
         },
         "name": "one eye",
         "offsetgroup": "one eye",
         "orientation": "h",
         "showlegend": true,
         "textposition": "auto",
         "type": "bar",
         "x": [
          1,
          null,
          null,
          null
         ],
         "xaxis": "x",
         "y": [
          "Matthew KPE Count",
          "Luke KPE Count",
          "Mark KPE Count",
          "John KPE Count"
         ],
         "yaxis": "y"
        },
        {
         "alignmentgroup": "True",
         "hovertemplate": "variable=entire debt<br>value=%{x}<br>index=%{y}<extra></extra>",
         "legendgroup": "entire debt",
         "marker": {
          "color": "#FF6692",
          "pattern": {
           "shape": ""
          }
         },
         "name": "entire debt",
         "offsetgroup": "entire debt",
         "orientation": "h",
         "showlegend": true,
         "textposition": "auto",
         "type": "bar",
         "x": [
          1,
          null,
          null,
          null
         ],
         "xaxis": "x",
         "y": [
          "Matthew KPE Count",
          "Luke KPE Count",
          "Mark KPE Count",
          "John KPE Count"
         ],
         "yaxis": "y"
        },
        {
         "alignmentgroup": "True",
         "hovertemplate": "variable=neck<br>value=%{x}<br>index=%{y}<extra></extra>",
         "legendgroup": "neck",
         "marker": {
          "color": "#B6E880",
          "pattern": {
           "shape": ""
          }
         },
         "name": "neck",
         "offsetgroup": "neck",
         "orientation": "h",
         "showlegend": true,
         "textposition": "auto",
         "type": "bar",
         "x": [
          1,
          2,
          1,
          null
         ],
         "xaxis": "x",
         "y": [
          "Matthew KPE Count",
          "Luke KPE Count",
          "Mark KPE Count",
          "John KPE Count"
         ],
         "yaxis": "y"
        },
        {
         "alignmentgroup": "True",
         "hovertemplate": "variable=depths<br>value=%{x}<br>index=%{y}<extra></extra>",
         "legendgroup": "depths",
         "marker": {
          "color": "#FF97FF",
          "pattern": {
           "shape": ""
          }
         },
         "name": "depths",
         "offsetgroup": "depths",
         "orientation": "h",
         "showlegend": true,
         "textposition": "auto",
         "type": "bar",
         "x": [
          1,
          null,
          null,
          null
         ],
         "xaxis": "x",
         "y": [
          "Matthew KPE Count",
          "Luke KPE Count",
          "Mark KPE Count",
          "John KPE Count"
         ],
         "yaxis": "y"
        },
        {
         "alignmentgroup": "True",
         "hovertemplate": "variable=Woe<br>value=%{x}<br>index=%{y}<extra></extra>",
         "legendgroup": "Woe",
         "marker": {
          "color": "#FECB52",
          "pattern": {
           "shape": ""
          }
         },
         "name": "Woe",
         "offsetgroup": "Woe",
         "orientation": "h",
         "showlegend": true,
         "textposition": "auto",
         "type": "bar",
         "x": [
          1,
          null,
          null,
          null
         ],
         "xaxis": "x",
         "y": [
          "Matthew KPE Count",
          "Luke KPE Count",
          "Mark KPE Count",
          "John KPE Count"
         ],
         "yaxis": "y"
        },
        {
         "alignmentgroup": "True",
         "hovertemplate": "variable=temptations<br>value=%{x}<br>index=%{y}<extra></extra>",
         "legendgroup": "temptations",
         "marker": {
          "color": "#636efa",
          "pattern": {
           "shape": ""
          }
         },
         "name": "temptations",
         "offsetgroup": "temptations",
         "orientation": "h",
         "showlegend": true,
         "textposition": "auto",
         "type": "bar",
         "x": [
          1,
          null,
          null,
          null
         ],
         "xaxis": "x",
         "y": [
          "Matthew KPE Count",
          "Luke KPE Count",
          "Mark KPE Count",
          "John KPE Count"
         ],
         "yaxis": "y"
        },
        {
         "alignmentgroup": "True",
         "hovertemplate": "variable=mountains<br>value=%{x}<br>index=%{y}<extra></extra>",
         "legendgroup": "mountains",
         "marker": {
          "color": "#EF553B",
          "pattern": {
           "shape": ""
          }
         },
         "name": "mountains",
         "offsetgroup": "mountains",
         "orientation": "h",
         "showlegend": true,
         "textposition": "auto",
         "type": "bar",
         "x": [
          1,
          2,
          1,
          null
         ],
         "xaxis": "x",
         "y": [
          "Matthew KPE Count",
          "Luke KPE Count",
          "Mark KPE Count",
          "John KPE Count"
         ],
         "yaxis": "y"
        },
        {
         "alignmentgroup": "True",
         "hovertemplate": "variable=pagan<br>value=%{x}<br>index=%{y}<extra></extra>",
         "legendgroup": "pagan",
         "marker": {
          "color": "#00cc96",
          "pattern": {
           "shape": ""
          }
         },
         "name": "pagan",
         "offsetgroup": "pagan",
         "orientation": "h",
         "showlegend": true,
         "textposition": "auto",
         "type": "bar",
         "x": [
          1,
          null,
          null,
          null
         ],
         "xaxis": "x",
         "y": [
          "Matthew KPE Count",
          "Luke KPE Count",
          "Mark KPE Count",
          "John KPE Count"
         ],
         "yaxis": "y"
        },
        {
         "alignmentgroup": "True",
         "hovertemplate": "variable=patience<br>value=%{x}<br>index=%{y}<extra></extra>",
         "legendgroup": "patience",
         "marker": {
          "color": "#ab63fa",
          "pattern": {
           "shape": ""
          }
         },
         "name": "patience",
         "offsetgroup": "patience",
         "orientation": "h",
         "showlegend": true,
         "textposition": "auto",
         "type": "bar",
         "x": [
          1,
          2,
          null,
          null
         ],
         "xaxis": "x",
         "y": [
          "Matthew KPE Count",
          "Luke KPE Count",
          "Mark KPE Count",
          "John KPE Count"
         ],
         "yaxis": "y"
        },
        {
         "alignmentgroup": "True",
         "hovertemplate": "variable=torturers<br>value=%{x}<br>index=%{y}<extra></extra>",
         "legendgroup": "torturers",
         "marker": {
          "color": "#FFA15A",
          "pattern": {
           "shape": ""
          }
         },
         "name": "torturers",
         "offsetgroup": "torturers",
         "orientation": "h",
         "showlegend": true,
         "textposition": "auto",
         "type": "bar",
         "x": [
          1,
          null,
          null,
          null
         ],
         "xaxis": "x",
         "y": [
          "Matthew KPE Count",
          "Luke KPE Count",
          "Mark KPE Count",
          "John KPE Count"
         ],
         "yaxis": "y"
        },
        {
         "alignmentgroup": "True",
         "hovertemplate": "variable=one flesh<br>value=%{x}<br>index=%{y}<extra></extra>",
         "legendgroup": "one flesh",
         "marker": {
          "color": "#19d3f3",
          "pattern": {
           "shape": ""
          }
         },
         "name": "one flesh",
         "offsetgroup": "one flesh",
         "orientation": "h",
         "showlegend": true,
         "textposition": "auto",
         "type": "bar",
         "x": [
          1,
          null,
          null,
          null
         ],
         "xaxis": "x",
         "y": [
          "Matthew KPE Count",
          "Luke KPE Count",
          "Mark KPE Count",
          "John KPE Count"
         ],
         "yaxis": "y"
        },
        {
         "alignmentgroup": "True",
         "hovertemplate": "variable=chaste persons<br>value=%{x}<br>index=%{y}<extra></extra>",
         "legendgroup": "chaste persons",
         "marker": {
          "color": "#FF6692",
          "pattern": {
           "shape": ""
          }
         },
         "name": "chaste persons",
         "offsetgroup": "chaste persons",
         "orientation": "h",
         "showlegend": true,
         "textposition": "auto",
         "type": "bar",
         "x": [
          1,
          null,
          null,
          null
         ],
         "xaxis": "x",
         "y": [
          "Matthew KPE Count",
          "Luke KPE Count",
          "Mark KPE Count",
          "John KPE Count"
         ],
         "yaxis": "y"
        },
        {
         "alignmentgroup": "True",
         "hovertemplate": "variable=false testimony<br>value=%{x}<br>index=%{y}<extra></extra>",
         "legendgroup": "false testimony",
         "marker": {
          "color": "#B6E880",
          "pattern": {
           "shape": ""
          }
         },
         "name": "false testimony",
         "offsetgroup": "false testimony",
         "orientation": "h",
         "showlegend": true,
         "textposition": "auto",
         "type": "bar",
         "x": [
          1,
          1,
          null,
          null
         ],
         "xaxis": "x",
         "y": [
          "Matthew KPE Count",
          "Luke KPE Count",
          "Mark KPE Count",
          "John KPE Count"
         ],
         "yaxis": "y"
        },
        {
         "alignmentgroup": "True",
         "hovertemplate": "variable=many possessions<br>value=%{x}<br>index=%{y}<extra></extra>",
         "legendgroup": "many possessions",
         "marker": {
          "color": "#FF97FF",
          "pattern": {
           "shape": ""
          }
         },
         "name": "many possessions",
         "offsetgroup": "many possessions",
         "orientation": "h",
         "showlegend": true,
         "textposition": "auto",
         "type": "bar",
         "x": [
          1,
          null,
          null,
          null
         ],
         "xaxis": "x",
         "y": [
          "Matthew KPE Count",
          "Luke KPE Count",
          "Mark KPE Count",
          "John KPE Count"
         ],
         "yaxis": "y"
        },
        {
         "alignmentgroup": "True",
         "hovertemplate": "variable=twelve seats<br>value=%{x}<br>index=%{y}<extra></extra>",
         "legendgroup": "twelve seats",
         "marker": {
          "color": "#FECB52",
          "pattern": {
           "shape": ""
          }
         },
         "name": "twelve seats",
         "offsetgroup": "twelve seats",
         "orientation": "h",
         "showlegend": true,
         "textposition": "auto",
         "type": "bar",
         "x": [
          1,
          null,
          null,
          null
         ],
         "xaxis": "x",
         "y": [
          "Matthew KPE Count",
          "Luke KPE Count",
          "Mark KPE Count",
          "John KPE Count"
         ],
         "yaxis": "y"
        },
        {
         "alignmentgroup": "True",
         "hovertemplate": "variable=twelve tribes<br>value=%{x}<br>index=%{y}<extra></extra>",
         "legendgroup": "twelve tribes",
         "marker": {
          "color": "#636efa",
          "pattern": {
           "shape": ""
          }
         },
         "name": "twelve tribes",
         "offsetgroup": "twelve tribes",
         "orientation": "h",
         "showlegend": true,
         "textposition": "auto",
         "type": "bar",
         "x": [
          1,
          1,
          null,
          null
         ],
         "xaxis": "x",
         "y": [
          "Matthew KPE Count",
          "Luke KPE Count",
          "Mark KPE Count",
          "John KPE Count"
         ],
         "yaxis": "y"
        },
        {
         "alignmentgroup": "True",
         "hovertemplate": "variable=little children<br>value=%{x}<br>index=%{y}<extra></extra>",
         "legendgroup": "little children",
         "marker": {
          "color": "#EF553B",
          "pattern": {
           "shape": ""
          }
         },
         "name": "little children",
         "offsetgroup": "little children",
         "orientation": "h",
         "showlegend": true,
         "textposition": "auto",
         "type": "bar",
         "x": [
          1,
          1,
          null,
          null
         ],
         "xaxis": "x",
         "y": [
          "Matthew KPE Count",
          "Luke KPE Count",
          "Mark KPE Count",
          "John KPE Count"
         ],
         "yaxis": "y"
        },
        {
         "alignmentgroup": "True",
         "hovertemplate": "variable=eternal life<br>value=%{x}<br>index=%{y}<extra></extra>",
         "legendgroup": "eternal life",
         "marker": {
          "color": "#00cc96",
          "pattern": {
           "shape": ""
          }
         },
         "name": "eternal life",
         "offsetgroup": "eternal life",
         "orientation": "h",
         "showlegend": true,
         "textposition": "auto",
         "type": "bar",
         "x": [
          1,
          1,
          null,
          6
         ],
         "xaxis": "x",
         "y": [
          "Matthew KPE Count",
          "Luke KPE Count",
          "Mark KPE Count",
          "John KPE Count"
         ],
         "yaxis": "y"
        },
        {
         "alignmentgroup": "True",
         "hovertemplate": "variable=young man<br>value=%{x}<br>index=%{y}<extra></extra>",
         "legendgroup": "young man",
         "marker": {
          "color": "#ab63fa",
          "pattern": {
           "shape": ""
          }
         },
         "name": "young man",
         "offsetgroup": "young man",
         "orientation": "h",
         "showlegend": true,
         "textposition": "auto",
         "type": "bar",
         "x": [
          1,
          null,
          1,
          null
         ],
         "xaxis": "x",
         "y": [
          "Matthew KPE Count",
          "Luke KPE Count",
          "Mark KPE Count",
          "John KPE Count"
         ],
         "yaxis": "y"
        },
        {
         "alignmentgroup": "True",
         "hovertemplate": "variable=borders<br>value=%{x}<br>index=%{y}<extra></extra>",
         "legendgroup": "borders",
         "marker": {
          "color": "#FFA15A",
          "pattern": {
           "shape": ""
          }
         },
         "name": "borders",
         "offsetgroup": "borders",
         "orientation": "h",
         "showlegend": true,
         "textposition": "auto",
         "type": "bar",
         "x": [
          1,
          null,
          2,
          null
         ],
         "xaxis": "x",
         "y": [
          "Matthew KPE Count",
          "Luke KPE Count",
          "Mark KPE Count",
          "John KPE Count"
         ],
         "yaxis": "y"
        },
        {
         "alignmentgroup": "True",
         "hovertemplate": "variable=cause<br>value=%{x}<br>index=%{y}<extra></extra>",
         "legendgroup": "cause",
         "marker": {
          "color": "#19d3f3",
          "pattern": {
           "shape": ""
          }
         },
         "name": "cause",
         "offsetgroup": "cause",
         "orientation": "h",
         "showlegend": true,
         "textposition": "auto",
         "type": "bar",
         "x": [
          1,
          null,
          null,
          1
         ],
         "xaxis": "x",
         "y": [
          "Matthew KPE Count",
          "Luke KPE Count",
          "Mark KPE Count",
          "John KPE Count"
         ],
         "yaxis": "y"
        },
        {
         "alignmentgroup": "True",
         "hovertemplate": "variable=two<br>value=%{x}<br>index=%{y}<extra></extra>",
         "legendgroup": "two",
         "marker": {
          "color": "#FF6692",
          "pattern": {
           "shape": ""
          }
         },
         "name": "two",
         "offsetgroup": "two",
         "orientation": "h",
         "showlegend": true,
         "textposition": "auto",
         "type": "bar",
         "x": [
          1,
          null,
          null,
          1
         ],
         "xaxis": "x",
         "y": [
          "Matthew KPE Count",
          "Luke KPE Count",
          "Mark KPE Count",
          "John KPE Count"
         ],
         "yaxis": "y"
        },
        {
         "alignmentgroup": "True",
         "hovertemplate": "variable=wives<br>value=%{x}<br>index=%{y}<extra></extra>",
         "legendgroup": "wives",
         "marker": {
          "color": "#B6E880",
          "pattern": {
           "shape": ""
          }
         },
         "name": "wives",
         "offsetgroup": "wives",
         "orientation": "h",
         "showlegend": true,
         "textposition": "auto",
         "type": "bar",
         "x": [
          1,
          1,
          null,
          null
         ],
         "xaxis": "x",
         "y": [
          "Matthew KPE Count",
          "Luke KPE Count",
          "Mark KPE Count",
          "John KPE Count"
         ],
         "yaxis": "y"
        },
        {
         "alignmentgroup": "True",
         "hovertemplate": "variable=hardness<br>value=%{x}<br>index=%{y}<extra></extra>",
         "legendgroup": "hardness",
         "marker": {
          "color": "#FF97FF",
          "pattern": {
           "shape": ""
          }
         },
         "name": "hardness",
         "offsetgroup": "hardness",
         "orientation": "h",
         "showlegend": true,
         "textposition": "auto",
         "type": "bar",
         "x": [
          1,
          null,
          1,
          null
         ],
         "xaxis": "x",
         "y": [
          "Matthew KPE Count",
          "Luke KPE Count",
          "Mark KPE Count",
          "John KPE Count"
         ],
         "yaxis": "y"
        },
        {
         "alignmentgroup": "True",
         "hovertemplate": "variable=childhood<br>value=%{x}<br>index=%{y}<extra></extra>",
         "legendgroup": "childhood",
         "marker": {
          "color": "#FECB52",
          "pattern": {
           "shape": ""
          }
         },
         "name": "childhood",
         "offsetgroup": "childhood",
         "orientation": "h",
         "showlegend": true,
         "textposition": "auto",
         "type": "bar",
         "x": [
          1,
          null,
          null,
          null
         ],
         "xaxis": "x",
         "y": [
          "Matthew KPE Count",
          "Luke KPE Count",
          "Mark KPE Count",
          "John KPE Count"
         ],
         "yaxis": "y"
        },
        {
         "alignmentgroup": "True",
         "hovertemplate": "variable=treasure<br>value=%{x}<br>index=%{y}<extra></extra>",
         "legendgroup": "treasure",
         "marker": {
          "color": "#636efa",
          "pattern": {
           "shape": ""
          }
         },
         "name": "treasure",
         "offsetgroup": "treasure",
         "orientation": "h",
         "showlegend": true,
         "textposition": "auto",
         "type": "bar",
         "x": [
          1,
          2,
          null,
          null
         ],
         "xaxis": "x",
         "y": [
          "Matthew KPE Count",
          "Luke KPE Count",
          "Mark KPE Count",
          "John KPE Count"
         ],
         "yaxis": "y"
        },
        {
         "alignmentgroup": "True",
         "hovertemplate": "variable=wealthy<br>value=%{x}<br>index=%{y}<extra></extra>",
         "legendgroup": "wealthy",
         "marker": {
          "color": "#EF553B",
          "pattern": {
           "shape": ""
          }
         },
         "name": "wealthy",
         "offsetgroup": "wealthy",
         "orientation": "h",
         "showlegend": true,
         "textposition": "auto",
         "type": "bar",
         "x": [
          1,
          1,
          null,
          null
         ],
         "xaxis": "x",
         "y": [
          "Matthew KPE Count",
          "Luke KPE Count",
          "Mark KPE Count",
          "John KPE Count"
         ],
         "yaxis": "y"
        },
        {
         "alignmentgroup": "True",
         "hovertemplate": "variable=difficulty<br>value=%{x}<br>index=%{y}<extra></extra>",
         "legendgroup": "difficulty",
         "marker": {
          "color": "#00cc96",
          "pattern": {
           "shape": ""
          }
         },
         "name": "difficulty",
         "offsetgroup": "difficulty",
         "orientation": "h",
         "showlegend": true,
         "textposition": "auto",
         "type": "bar",
         "x": [
          1,
          null,
          null,
          null
         ],
         "xaxis": "x",
         "y": [
          "Matthew KPE Count",
          "Luke KPE Count",
          "Mark KPE Count",
          "John KPE Count"
         ],
         "yaxis": "y"
        },
        {
         "alignmentgroup": "True",
         "hovertemplate": "variable=needle<br>value=%{x}<br>index=%{y}<extra></extra>",
         "legendgroup": "needle",
         "marker": {
          "color": "#ab63fa",
          "pattern": {
           "shape": ""
          }
         },
         "name": "needle",
         "offsetgroup": "needle",
         "orientation": "h",
         "showlegend": true,
         "textposition": "auto",
         "type": "bar",
         "x": [
          1,
          1,
          null,
          null
         ],
         "xaxis": "x",
         "y": [
          "Matthew KPE Count",
          "Luke KPE Count",
          "Mark KPE Count",
          "John KPE Count"
         ],
         "yaxis": "y"
        },
        {
         "alignmentgroup": "True",
         "hovertemplate": "variable=sisters<br>value=%{x}<br>index=%{y}<extra></extra>",
         "legendgroup": "sisters",
         "marker": {
          "color": "#FFA15A",
          "pattern": {
           "shape": ""
          }
         },
         "name": "sisters",
         "offsetgroup": "sisters",
         "orientation": "h",
         "showlegend": true,
         "textposition": "auto",
         "type": "bar",
         "x": [
          1,
          1,
          1,
          null
         ],
         "xaxis": "x",
         "y": [
          "Matthew KPE Count",
          "Luke KPE Count",
          "Mark KPE Count",
          "John KPE Count"
         ],
         "yaxis": "y"
        },
        {
         "alignmentgroup": "True",
         "hovertemplate": "variable=money changers<br>value=%{x}<br>index=%{y}<extra></extra>",
         "legendgroup": "money changers",
         "marker": {
          "color": "#19d3f3",
          "pattern": {
           "shape": ""
          }
         },
         "name": "money changers",
         "offsetgroup": "money changers",
         "orientation": "h",
         "showlegend": true,
         "textposition": "auto",
         "type": "bar",
         "x": [
          1,
          null,
          null,
          null
         ],
         "xaxis": "x",
         "y": [
          "Matthew KPE Count",
          "Luke KPE Count",
          "Mark KPE Count",
          "John KPE Count"
         ],
         "yaxis": "y"
        },
        {
         "alignmentgroup": "True",
         "hovertemplate": "variable=one word<br>value=%{x}<br>index=%{y}<extra></extra>",
         "legendgroup": "one word",
         "marker": {
          "color": "#FF6692",
          "pattern": {
           "shape": ""
          }
         },
         "name": "one word",
         "offsetgroup": "one word",
         "orientation": "h",
         "showlegend": true,
         "textposition": "auto",
         "type": "bar",
         "x": [
          1,
          null,
          1,
          null
         ],
         "xaxis": "x",
         "y": [
          "Matthew KPE Count",
          "Luke KPE Count",
          "Mark KPE Count",
          "John KPE Count"
         ],
         "yaxis": "y"
        },
        {
         "alignmentgroup": "True",
         "hovertemplate": "variable=numerous crowd<br>value=%{x}<br>index=%{y}<extra></extra>",
         "legendgroup": "numerous crowd",
         "marker": {
          "color": "#B6E880",
          "pattern": {
           "shape": ""
          }
         },
         "name": "numerous crowd",
         "offsetgroup": "numerous crowd",
         "orientation": "h",
         "showlegend": true,
         "textposition": "auto",
         "type": "bar",
         "x": [
          1,
          1,
          null,
          null
         ],
         "xaxis": "x",
         "y": [
          "Matthew KPE Count",
          "Luke KPE Count",
          "Mark KPE Count",
          "John KPE Count"
         ],
         "yaxis": "y"
        },
        {
         "alignmentgroup": "True",
         "hovertemplate": "variable=two disciples<br>value=%{x}<br>index=%{y}<extra></extra>",
         "legendgroup": "two disciples",
         "marker": {
          "color": "#FF97FF",
          "pattern": {
           "shape": ""
          }
         },
         "name": "two disciples",
         "offsetgroup": "two disciples",
         "orientation": "h",
         "showlegend": true,
         "textposition": "auto",
         "type": "bar",
         "x": [
          1,
          null,
          null,
          1
         ],
         "xaxis": "x",
         "y": [
          "Matthew KPE Count",
          "Luke KPE Count",
          "Mark KPE Count",
          "John KPE Count"
         ],
         "yaxis": "y"
        },
        {
         "alignmentgroup": "True",
         "hovertemplate": "variable=Bethphage<br>value=%{x}<br>index=%{y}<extra></extra>",
         "legendgroup": "Bethphage",
         "marker": {
          "color": "#FECB52",
          "pattern": {
           "shape": ""
          }
         },
         "name": "Bethphage",
         "offsetgroup": "Bethphage",
         "orientation": "h",
         "showlegend": true,
         "textposition": "auto",
         "type": "bar",
         "x": [
          1,
          1,
          null,
          null
         ],
         "xaxis": "x",
         "y": [
          "Matthew KPE Count",
          "Luke KPE Count",
          "Mark KPE Count",
          "John KPE Count"
         ],
         "yaxis": "y"
        },
        {
         "alignmentgroup": "True",
         "hovertemplate": "variable=town<br>value=%{x}<br>index=%{y}<extra></extra>",
         "legendgroup": "town",
         "marker": {
          "color": "#636efa",
          "pattern": {
           "shape": ""
          }
         },
         "name": "town",
         "offsetgroup": "town",
         "orientation": "h",
         "showlegend": true,
         "textposition": "auto",
         "type": "bar",
         "x": [
          1,
          4,
          1,
          2
         ],
         "xaxis": "x",
         "y": [
          "Matthew KPE Count",
          "Luke KPE Count",
          "Mark KPE Count",
          "John KPE Count"
         ],
         "yaxis": "y"
        },
        {
         "alignmentgroup": "True",
         "hovertemplate": "variable=donkey<br>value=%{x}<br>index=%{y}<extra></extra>",
         "legendgroup": "donkey",
         "marker": {
          "color": "#EF553B",
          "pattern": {
           "shape": ""
          }
         },
         "name": "donkey",
         "offsetgroup": "donkey",
         "orientation": "h",
         "showlegend": true,
         "textposition": "auto",
         "type": "bar",
         "x": [
          1,
          3,
          null,
          null
         ],
         "xaxis": "x",
         "y": [
          "Matthew KPE Count",
          "Luke KPE Count",
          "Mark KPE Count",
          "John KPE Count"
         ],
         "yaxis": "y"
        },
        {
         "alignmentgroup": "True",
         "hovertemplate": "variable=colt<br>value=%{x}<br>index=%{y}<extra></extra>",
         "legendgroup": "colt",
         "marker": {
          "color": "#00cc96",
          "pattern": {
           "shape": ""
          }
         },
         "name": "colt",
         "offsetgroup": "colt",
         "orientation": "h",
         "showlegend": true,
         "textposition": "auto",
         "type": "bar",
         "x": [
          1,
          null,
          1,
          1
         ],
         "xaxis": "x",
         "y": [
          "Matthew KPE Count",
          "Luke KPE Count",
          "Mark KPE Count",
          "John KPE Count"
         ],
         "yaxis": "y"
        },
        {
         "alignmentgroup": "True",
         "hovertemplate": "variable=Zion<br>value=%{x}<br>index=%{y}<extra></extra>",
         "legendgroup": "Zion",
         "marker": {
          "color": "#ab63fa",
          "pattern": {
           "shape": ""
          }
         },
         "name": "Zion",
         "offsetgroup": "Zion",
         "orientation": "h",
         "showlegend": true,
         "textposition": "auto",
         "type": "bar",
         "x": [
          1,
          null,
          null,
          1
         ],
         "xaxis": "x",
         "y": [
          "Matthew KPE Count",
          "Luke KPE Count",
          "Mark KPE Count",
          "John KPE Count"
         ],
         "yaxis": "y"
        },
        {
         "alignmentgroup": "True",
         "hovertemplate": "variable=Hosanna<br>value=%{x}<br>index=%{y}<extra></extra>",
         "legendgroup": "Hosanna",
         "marker": {
          "color": "#FFA15A",
          "pattern": {
           "shape": ""
          }
         },
         "name": "Hosanna",
         "offsetgroup": "Hosanna",
         "orientation": "h",
         "showlegend": true,
         "textposition": "auto",
         "type": "bar",
         "x": [
          1,
          null,
          1,
          null
         ],
         "xaxis": "x",
         "y": [
          "Matthew KPE Count",
          "Luke KPE Count",
          "Mark KPE Count",
          "John KPE Count"
         ],
         "yaxis": "y"
        },
        {
         "alignmentgroup": "True",
         "hovertemplate": "variable=tables<br>value=%{x}<br>index=%{y}<extra></extra>",
         "legendgroup": "tables",
         "marker": {
          "color": "#19d3f3",
          "pattern": {
           "shape": ""
          }
         },
         "name": "tables",
         "offsetgroup": "tables",
         "orientation": "h",
         "showlegend": true,
         "textposition": "auto",
         "type": "bar",
         "x": [
          1,
          null,
          1,
          1
         ],
         "xaxis": "x",
         "y": [
          "Matthew KPE Count",
          "Luke KPE Count",
          "Mark KPE Count",
          "John KPE Count"
         ],
         "yaxis": "y"
        },
        {
         "alignmentgroup": "True",
         "hovertemplate": "variable=chairs<br>value=%{x}<br>index=%{y}<extra></extra>",
         "legendgroup": "chairs",
         "marker": {
          "color": "#FF6692",
          "pattern": {
           "shape": ""
          }
         },
         "name": "chairs",
         "offsetgroup": "chairs",
         "orientation": "h",
         "showlegend": true,
         "textposition": "auto",
         "type": "bar",
         "x": [
          1,
          null,
          1,
          null
         ],
         "xaxis": "x",
         "y": [
          "Matthew KPE Count",
          "Luke KPE Count",
          "Mark KPE Count",
          "John KPE Count"
         ],
         "yaxis": "y"
        },
        {
         "alignmentgroup": "True",
         "hovertemplate": "variable=doves<br>value=%{x}<br>index=%{y}<extra></extra>",
         "legendgroup": "doves",
         "marker": {
          "color": "#B6E880",
          "pattern": {
           "shape": ""
          }
         },
         "name": "doves",
         "offsetgroup": "doves",
         "orientation": "h",
         "showlegend": true,
         "textposition": "auto",
         "type": "bar",
         "x": [
          1,
          null,
          1,
          1
         ],
         "xaxis": "x",
         "y": [
          "Matthew KPE Count",
          "Luke KPE Count",
          "Mark KPE Count",
          "John KPE Count"
         ],
         "yaxis": "y"
        },
        {
         "alignmentgroup": "True",
         "hovertemplate": "variable=den<br>value=%{x}<br>index=%{y}<extra></extra>",
         "legendgroup": "den",
         "marker": {
          "color": "#FF97FF",
          "pattern": {
           "shape": ""
          }
         },
         "name": "den",
         "offsetgroup": "den",
         "orientation": "h",
         "showlegend": true,
         "textposition": "auto",
         "type": "bar",
         "x": [
          1,
          null,
          1,
          null
         ],
         "xaxis": "x",
         "y": [
          "Matthew KPE Count",
          "Luke KPE Count",
          "Mark KPE Count",
          "John KPE Count"
         ],
         "yaxis": "y"
        },
        {
         "alignmentgroup": "True",
         "hovertemplate": "variable=robbers<br>value=%{x}<br>index=%{y}<extra></extra>",
         "legendgroup": "robbers",
         "marker": {
          "color": "#FECB52",
          "pattern": {
           "shape": ""
          }
         },
         "name": "robbers",
         "offsetgroup": "robbers",
         "orientation": "h",
         "showlegend": true,
         "textposition": "auto",
         "type": "bar",
         "x": [
          1,
          2,
          1,
          null
         ],
         "xaxis": "x",
         "y": [
          "Matthew KPE Count",
          "Luke KPE Count",
          "Mark KPE Count",
          "John KPE Count"
         ],
         "yaxis": "y"
        },
        {
         "alignmentgroup": "True",
         "hovertemplate": "variable=babes<br>value=%{x}<br>index=%{y}<extra></extra>",
         "legendgroup": "babes",
         "marker": {
          "color": "#636efa",
          "pattern": {
           "shape": ""
          }
         },
         "name": "babes",
         "offsetgroup": "babes",
         "orientation": "h",
         "showlegend": true,
         "textposition": "auto",
         "type": "bar",
         "x": [
          1,
          null,
          null,
          null
         ],
         "xaxis": "x",
         "y": [
          "Matthew KPE Count",
          "Luke KPE Count",
          "Mark KPE Count",
          "John KPE Count"
         ],
         "yaxis": "y"
        },
        {
         "alignmentgroup": "True",
         "hovertemplate": "variable=infants<br>value=%{x}<br>index=%{y}<extra></extra>",
         "legendgroup": "infants",
         "marker": {
          "color": "#EF553B",
          "pattern": {
           "shape": ""
          }
         },
         "name": "infants",
         "offsetgroup": "infants",
         "orientation": "h",
         "showlegend": true,
         "textposition": "auto",
         "type": "bar",
         "x": [
          1,
          null,
          null,
          null
         ],
         "xaxis": "x",
         "y": [
          "Matthew KPE Count",
          "Luke KPE Count",
          "Mark KPE Count",
          "John KPE Count"
         ],
         "yaxis": "y"
        },
        {
         "alignmentgroup": "True",
         "hovertemplate": "variable=praise<br>value=%{x}<br>index=%{y}<extra></extra>",
         "legendgroup": "praise",
         "marker": {
          "color": "#00cc96",
          "pattern": {
           "shape": ""
          }
         },
         "name": "praise",
         "offsetgroup": "praise",
         "orientation": "h",
         "showlegend": true,
         "textposition": "auto",
         "type": "bar",
         "x": [
          1,
          1,
          null,
          null
         ],
         "xaxis": "x",
         "y": [
          "Matthew KPE Count",
          "Luke KPE Count",
          "Mark KPE Count",
          "John KPE Count"
         ],
         "yaxis": "y"
        },
        {
         "alignmentgroup": "True",
         "hovertemplate": "variable=vineyard<br>value=%{x}<br>index=%{y}<extra></extra>",
         "legendgroup": "vineyard",
         "marker": {
          "color": "#ab63fa",
          "pattern": {
           "shape": ""
          }
         },
         "name": "vineyard",
         "offsetgroup": "vineyard",
         "orientation": "h",
         "showlegend": true,
         "textposition": "auto",
         "type": "bar",
         "x": [
          1,
          1,
          1,
          null
         ],
         "xaxis": "x",
         "y": [
          "Matthew KPE Count",
          "Luke KPE Count",
          "Mark KPE Count",
          "John KPE Count"
         ],
         "yaxis": "y"
        },
        {
         "alignmentgroup": "True",
         "hovertemplate": "variable=prostitutes<br>value=%{x}<br>index=%{y}<extra></extra>",
         "legendgroup": "prostitutes",
         "marker": {
          "color": "#FFA15A",
          "pattern": {
           "shape": ""
          }
         },
         "name": "prostitutes",
         "offsetgroup": "prostitutes",
         "orientation": "h",
         "showlegend": true,
         "textposition": "auto",
         "type": "bar",
         "x": [
          1,
          null,
          null,
          null
         ],
         "xaxis": "x",
         "y": [
          "Matthew KPE Count",
          "Luke KPE Count",
          "Mark KPE Count",
          "John KPE Count"
         ],
         "yaxis": "y"
        },
        {
         "alignmentgroup": "True",
         "hovertemplate": "variable=hedge<br>value=%{x}<br>index=%{y}<extra></extra>",
         "legendgroup": "hedge",
         "marker": {
          "color": "#19d3f3",
          "pattern": {
           "shape": ""
          }
         },
         "name": "hedge",
         "offsetgroup": "hedge",
         "orientation": "h",
         "showlegend": true,
         "textposition": "auto",
         "type": "bar",
         "x": [
          1,
          null,
          1,
          null
         ],
         "xaxis": "x",
         "y": [
          "Matthew KPE Count",
          "Luke KPE Count",
          "Mark KPE Count",
          "John KPE Count"
         ],
         "yaxis": "y"
        },
        {
         "alignmentgroup": "True",
         "hovertemplate": "variable=press<br>value=%{x}<br>index=%{y}<extra></extra>",
         "legendgroup": "press",
         "marker": {
          "color": "#FF6692",
          "pattern": {
           "shape": ""
          }
         },
         "name": "press",
         "offsetgroup": "press",
         "orientation": "h",
         "showlegend": true,
         "textposition": "auto",
         "type": "bar",
         "x": [
          1,
          null,
          null,
          null
         ],
         "xaxis": "x",
         "y": [
          "Matthew KPE Count",
          "Luke KPE Count",
          "Mark KPE Count",
          "John KPE Count"
         ],
         "yaxis": "y"
        },
        {
         "alignmentgroup": "True",
         "hovertemplate": "variable=tower<br>value=%{x}<br>index=%{y}<extra></extra>",
         "legendgroup": "tower",
         "marker": {
          "color": "#B6E880",
          "pattern": {
           "shape": ""
          }
         },
         "name": "tower",
         "offsetgroup": "tower",
         "orientation": "h",
         "showlegend": true,
         "textposition": "auto",
         "type": "bar",
         "x": [
          1,
          2,
          1,
          null
         ],
         "xaxis": "x",
         "y": [
          "Matthew KPE Count",
          "Luke KPE Count",
          "Mark KPE Count",
          "John KPE Count"
         ],
         "yaxis": "y"
        },
        {
         "alignmentgroup": "True",
         "hovertemplate": "variable=farmers<br>value=%{x}<br>index=%{y}<extra></extra>",
         "legendgroup": "farmers",
         "marker": {
          "color": "#FF97FF",
          "pattern": {
           "shape": ""
          }
         },
         "name": "farmers",
         "offsetgroup": "farmers",
         "orientation": "h",
         "showlegend": true,
         "textposition": "auto",
         "type": "bar",
         "x": [
          1,
          null,
          1,
          null
         ],
         "xaxis": "x",
         "y": [
          "Matthew KPE Count",
          "Luke KPE Count",
          "Mark KPE Count",
          "John KPE Count"
         ],
         "yaxis": "y"
        },
        {
         "alignmentgroup": "True",
         "hovertemplate": "variable=country estate<br>value=%{x}<br>index=%{y}<extra></extra>",
         "legendgroup": "country estate",
         "marker": {
          "color": "#FECB52",
          "pattern": {
           "shape": ""
          }
         },
         "name": "country estate",
         "offsetgroup": "country estate",
         "orientation": "h",
         "showlegend": true,
         "textposition": "auto",
         "type": "bar",
         "x": [
          1,
          null,
          1,
          null
         ],
         "xaxis": "x",
         "y": [
          "Matthew KPE Count",
          "Luke KPE Count",
          "Mark KPE Count",
          "John KPE Count"
         ],
         "yaxis": "y"
        },
        {
         "alignmentgroup": "True",
         "hovertemplate": "variable=seven brothers<br>value=%{x}<br>index=%{y}<extra></extra>",
         "legendgroup": "seven brothers",
         "marker": {
          "color": "#636efa",
          "pattern": {
           "shape": ""
          }
         },
         "name": "seven brothers",
         "offsetgroup": "seven brothers",
         "orientation": "h",
         "showlegend": true,
         "textposition": "auto",
         "type": "bar",
         "x": [
          1,
          null,
          1,
          null
         ],
         "xaxis": "x",
         "y": [
          "Matthew KPE Count",
          "Luke KPE Count",
          "Mark KPE Count",
          "John KPE Count"
         ],
         "yaxis": "y"
        },
        {
         "alignmentgroup": "True",
         "hovertemplate": "variable=great commandment<br>value=%{x}<br>index=%{y}<extra></extra>",
         "legendgroup": "great commandment",
         "marker": {
          "color": "#EF553B",
          "pattern": {
           "shape": ""
          }
         },
         "name": "great commandment",
         "offsetgroup": "great commandment",
         "orientation": "h",
         "showlegend": true,
         "textposition": "auto",
         "type": "bar",
         "x": [
          1,
          null,
          null,
          null
         ],
         "xaxis": "x",
         "y": [
          "Matthew KPE Count",
          "Luke KPE Count",
          "Mark KPE Count",
          "John KPE Count"
         ],
         "yaxis": "y"
        },
        {
         "alignmentgroup": "True",
         "hovertemplate": "variable=first commandment<br>value=%{x}<br>index=%{y}<extra></extra>",
         "legendgroup": "first commandment",
         "marker": {
          "color": "#00cc96",
          "pattern": {
           "shape": ""
          }
         },
         "name": "first commandment",
         "offsetgroup": "first commandment",
         "orientation": "h",
         "showlegend": true,
         "textposition": "auto",
         "type": "bar",
         "x": [
          1,
          null,
          1,
          null
         ],
         "xaxis": "x",
         "y": [
          "Matthew KPE Count",
          "Luke KPE Count",
          "Mark KPE Count",
          "John KPE Count"
         ],
         "yaxis": "y"
        },
        {
         "alignmentgroup": "True",
         "hovertemplate": "variable=two commandments<br>value=%{x}<br>index=%{y}<extra></extra>",
         "legendgroup": "two commandments",
         "marker": {
          "color": "#ab63fa",
          "pattern": {
           "shape": ""
          }
         },
         "name": "two commandments",
         "offsetgroup": "two commandments",
         "orientation": "h",
         "showlegend": true,
         "textposition": "auto",
         "type": "bar",
         "x": [
          1,
          null,
          null,
          null
         ],
         "xaxis": "x",
         "y": [
          "Matthew KPE Count",
          "Luke KPE Count",
          "Mark KPE Count",
          "John KPE Count"
         ],
         "yaxis": "y"
        },
        {
         "alignmentgroup": "True",
         "hovertemplate": "variable=entire law<br>value=%{x}<br>index=%{y}<extra></extra>",
         "legendgroup": "entire law",
         "marker": {
          "color": "#FFA15A",
          "pattern": {
           "shape": ""
          }
         },
         "name": "entire law",
         "offsetgroup": "entire law",
         "orientation": "h",
         "showlegend": true,
         "textposition": "auto",
         "type": "bar",
         "x": [
          1,
          null,
          null,
          null
         ],
         "xaxis": "x",
         "y": [
          "Matthew KPE Count",
          "Luke KPE Count",
          "Mark KPE Count",
          "John KPE Count"
         ],
         "yaxis": "y"
        },
        {
         "alignmentgroup": "True",
         "hovertemplate": "variable=The Lord<br>value=%{x}<br>index=%{y}<extra></extra>",
         "legendgroup": "The Lord",
         "marker": {
          "color": "#19d3f3",
          "pattern": {
           "shape": ""
          }
         },
         "name": "The Lord",
         "offsetgroup": "The Lord",
         "orientation": "h",
         "showlegend": true,
         "textposition": "auto",
         "type": "bar",
         "x": [
          1,
          1,
          1,
          null
         ],
         "xaxis": "x",
         "y": [
          "Matthew KPE Count",
          "Luke KPE Count",
          "Mark KPE Count",
          "John KPE Count"
         ],
         "yaxis": "y"
        },
        {
         "alignmentgroup": "True",
         "hovertemplate": "variable=wedding garment<br>value=%{x}<br>index=%{y}<extra></extra>",
         "legendgroup": "wedding garment",
         "marker": {
          "color": "#FF6692",
          "pattern": {
           "shape": ""
          }
         },
         "name": "wedding garment",
         "offsetgroup": "wedding garment",
         "orientation": "h",
         "showlegend": true,
         "textposition": "auto",
         "type": "bar",
         "x": [
          1,
          null,
          null,
          null
         ],
         "xaxis": "x",
         "y": [
          "Matthew KPE Count",
          "Luke KPE Count",
          "Mark KPE Count",
          "John KPE Count"
         ],
         "yaxis": "y"
        },
        {
         "alignmentgroup": "True",
         "hovertemplate": "variable=bulls<br>value=%{x}<br>index=%{y}<extra></extra>",
         "legendgroup": "bulls",
         "marker": {
          "color": "#B6E880",
          "pattern": {
           "shape": ""
          }
         },
         "name": "bulls",
         "offsetgroup": "bulls",
         "orientation": "h",
         "showlegend": true,
         "textposition": "auto",
         "type": "bar",
         "x": [
          1,
          null,
          null,
          null
         ],
         "xaxis": "x",
         "y": [
          "Matthew KPE Count",
          "Luke KPE Count",
          "Mark KPE Count",
          "John KPE Count"
         ],
         "yaxis": "y"
        },
        {
         "alignmentgroup": "True",
         "hovertemplate": "variable=fatlings<br>value=%{x}<br>index=%{y}<extra></extra>",
         "legendgroup": "fatlings",
         "marker": {
          "color": "#FF97FF",
          "pattern": {
           "shape": ""
          }
         },
         "name": "fatlings",
         "offsetgroup": "fatlings",
         "orientation": "h",
         "showlegend": true,
         "textposition": "auto",
         "type": "bar",
         "x": [
          1,
          null,
          null,
          null
         ],
         "xaxis": "x",
         "y": [
          "Matthew KPE Count",
          "Luke KPE Count",
          "Mark KPE Count",
          "John KPE Count"
         ],
         "yaxis": "y"
        },
        {
         "alignmentgroup": "True",
         "hovertemplate": "variable=business<br>value=%{x}<br>index=%{y}<extra></extra>",
         "legendgroup": "business",
         "marker": {
          "color": "#FECB52",
          "pattern": {
           "shape": ""
          }
         },
         "name": "business",
         "offsetgroup": "business",
         "orientation": "h",
         "showlegend": true,
         "textposition": "auto",
         "type": "bar",
         "x": [
          1,
          1,
          null,
          null
         ],
         "xaxis": "x",
         "y": [
          "Matthew KPE Count",
          "Luke KPE Count",
          "Mark KPE Count",
          "John KPE Count"
         ],
         "yaxis": "y"
        },
        {
         "alignmentgroup": "True",
         "hovertemplate": "variable=contempt<br>value=%{x}<br>index=%{y}<extra></extra>",
         "legendgroup": "contempt",
         "marker": {
          "color": "#636efa",
          "pattern": {
           "shape": ""
          }
         },
         "name": "contempt",
         "offsetgroup": "contempt",
         "orientation": "h",
         "showlegend": true,
         "textposition": "auto",
         "type": "bar",
         "x": [
          1,
          null,
          1,
          null
         ],
         "xaxis": "x",
         "y": [
          "Matthew KPE Count",
          "Luke KPE Count",
          "Mark KPE Count",
          "John KPE Count"
         ],
         "yaxis": "y"
        },
        {
         "alignmentgroup": "True",
         "hovertemplate": "variable=armies<br>value=%{x}<br>index=%{y}<extra></extra>",
         "legendgroup": "armies",
         "marker": {
          "color": "#EF553B",
          "pattern": {
           "shape": ""
          }
         },
         "name": "armies",
         "offsetgroup": "armies",
         "orientation": "h",
         "showlegend": true,
         "textposition": "auto",
         "type": "bar",
         "x": [
          1,
          null,
          null,
          null
         ],
         "xaxis": "x",
         "y": [
          "Matthew KPE Count",
          "Luke KPE Count",
          "Mark KPE Count",
          "John KPE Count"
         ],
         "yaxis": "y"
        },
        {
         "alignmentgroup": "True",
         "hovertemplate": "variable=murderers<br>value=%{x}<br>index=%{y}<extra></extra>",
         "legendgroup": "murderers",
         "marker": {
          "color": "#00cc96",
          "pattern": {
           "shape": ""
          }
         },
         "name": "murderers",
         "offsetgroup": "murderers",
         "orientation": "h",
         "showlegend": true,
         "textposition": "auto",
         "type": "bar",
         "x": [
          1,
          null,
          null,
          null
         ],
         "xaxis": "x",
         "y": [
          "Matthew KPE Count",
          "Luke KPE Count",
          "Mark KPE Count",
          "John KPE Count"
         ],
         "yaxis": "y"
        },
        {
         "alignmentgroup": "True",
         "hovertemplate": "variable=ways<br>value=%{x}<br>index=%{y}<extra></extra>",
         "legendgroup": "ways",
         "marker": {
          "color": "#ab63fa",
          "pattern": {
           "shape": ""
          }
         },
         "name": "ways",
         "offsetgroup": "ways",
         "orientation": "h",
         "showlegend": true,
         "textposition": "auto",
         "type": "bar",
         "x": [
          1,
          null,
          null,
          null
         ],
         "xaxis": "x",
         "y": [
          "Matthew KPE Count",
          "Luke KPE Count",
          "Mark KPE Count",
          "John KPE Count"
         ],
         "yaxis": "y"
        },
        {
         "alignmentgroup": "True",
         "hovertemplate": "variable=guests<br>value=%{x}<br>index=%{y}<extra></extra>",
         "legendgroup": "guests",
         "marker": {
          "color": "#FFA15A",
          "pattern": {
           "shape": ""
          }
         },
         "name": "guests",
         "offsetgroup": "guests",
         "orientation": "h",
         "showlegend": true,
         "textposition": "auto",
         "type": "bar",
         "x": [
          1,
          null,
          null,
          null
         ],
         "xaxis": "x",
         "y": [
          "Matthew KPE Count",
          "Luke KPE Count",
          "Mark KPE Count",
          "John KPE Count"
         ],
         "yaxis": "y"
        },
        {
         "alignmentgroup": "True",
         "hovertemplate": "variable=ministers<br>value=%{x}<br>index=%{y}<extra></extra>",
         "legendgroup": "ministers",
         "marker": {
          "color": "#19d3f3",
          "pattern": {
           "shape": ""
          }
         },
         "name": "ministers",
         "offsetgroup": "ministers",
         "orientation": "h",
         "showlegend": true,
         "textposition": "auto",
         "type": "bar",
         "x": [
          1,
          1,
          null,
          1
         ],
         "xaxis": "x",
         "y": [
          "Matthew KPE Count",
          "Luke KPE Count",
          "Mark KPE Count",
          "John KPE Count"
         ],
         "yaxis": "y"
        },
        {
         "alignmentgroup": "True",
         "hovertemplate": "variable=weeping<br>value=%{x}<br>index=%{y}<extra></extra>",
         "legendgroup": "weeping",
         "marker": {
          "color": "#FF6692",
          "pattern": {
           "shape": ""
          }
         },
         "name": "weeping",
         "offsetgroup": "weeping",
         "orientation": "h",
         "showlegend": true,
         "textposition": "auto",
         "type": "bar",
         "x": [
          1,
          null,
          null,
          1
         ],
         "xaxis": "x",
         "y": [
          "Matthew KPE Count",
          "Luke KPE Count",
          "Mark KPE Count",
          "John KPE Count"
         ],
         "yaxis": "y"
        },
        {
         "alignmentgroup": "True",
         "hovertemplate": "variable=gnashing<br>value=%{x}<br>index=%{y}<extra></extra>",
         "legendgroup": "gnashing",
         "marker": {
          "color": "#B6E880",
          "pattern": {
           "shape": ""
          }
         },
         "name": "gnashing",
         "offsetgroup": "gnashing",
         "orientation": "h",
         "showlegend": true,
         "textposition": "auto",
         "type": "bar",
         "x": [
          1,
          1,
          null,
          null
         ],
         "xaxis": "x",
         "y": [
          "Matthew KPE Count",
          "Luke KPE Count",
          "Mark KPE Count",
          "John KPE Count"
         ],
         "yaxis": "y"
        },
        {
         "alignmentgroup": "True",
         "hovertemplate": "variable=speech<br>value=%{x}<br>index=%{y}<extra></extra>",
         "legendgroup": "speech",
         "marker": {
          "color": "#FF97FF",
          "pattern": {
           "shape": ""
          }
         },
         "name": "speech",
         "offsetgroup": "speech",
         "orientation": "h",
         "showlegend": true,
         "textposition": "auto",
         "type": "bar",
         "x": [
          1,
          null,
          null,
          2
         ],
         "xaxis": "x",
         "y": [
          "Matthew KPE Count",
          "Luke KPE Count",
          "Mark KPE Count",
          "John KPE Count"
         ],
         "yaxis": "y"
        },
        {
         "alignmentgroup": "True",
         "hovertemplate": "variable=Herodians<br>value=%{x}<br>index=%{y}<extra></extra>",
         "legendgroup": "Herodians",
         "marker": {
          "color": "#FECB52",
          "pattern": {
           "shape": ""
          }
         },
         "name": "Herodians",
         "offsetgroup": "Herodians",
         "orientation": "h",
         "showlegend": true,
         "textposition": "auto",
         "type": "bar",
         "x": [
          1,
          null,
          2,
          null
         ],
         "xaxis": "x",
         "y": [
          "Matthew KPE Count",
          "Luke KPE Count",
          "Mark KPE Count",
          "John KPE Count"
         ],
         "yaxis": "y"
        },
        {
         "alignmentgroup": "True",
         "hovertemplate": "variable=truth<br>value=%{x}<br>index=%{y}<extra></extra>",
         "legendgroup": "truth",
         "marker": {
          "color": "#636efa",
          "pattern": {
           "shape": ""
          }
         },
         "name": "truth",
         "offsetgroup": "truth",
         "orientation": "h",
         "showlegend": true,
         "textposition": "auto",
         "type": "bar",
         "x": [
          1,
          5,
          2,
          10
         ],
         "xaxis": "x",
         "y": [
          "Matthew KPE Count",
          "Luke KPE Count",
          "Mark KPE Count",
          "John KPE Count"
         ],
         "yaxis": "y"
        },
        {
         "alignmentgroup": "True",
         "hovertemplate": "variable=influence<br>value=%{x}<br>index=%{y}<extra></extra>",
         "legendgroup": "influence",
         "marker": {
          "color": "#EF553B",
          "pattern": {
           "shape": ""
          }
         },
         "name": "influence",
         "offsetgroup": "influence",
         "orientation": "h",
         "showlegend": true,
         "textposition": "auto",
         "type": "bar",
         "x": [
          1,
          null,
          null,
          null
         ],
         "xaxis": "x",
         "y": [
          "Matthew KPE Count",
          "Luke KPE Count",
          "Mark KPE Count",
          "John KPE Count"
         ],
         "yaxis": "y"
        },
        {
         "alignmentgroup": "True",
         "hovertemplate": "variable=reputation<br>value=%{x}<br>index=%{y}<extra></extra>",
         "legendgroup": "reputation",
         "marker": {
          "color": "#00cc96",
          "pattern": {
           "shape": ""
          }
         },
         "name": "reputation",
         "offsetgroup": "reputation",
         "orientation": "h",
         "showlegend": true,
         "textposition": "auto",
         "type": "bar",
         "x": [
          1,
          null,
          null,
          null
         ],
         "xaxis": "x",
         "y": [
          "Matthew KPE Count",
          "Luke KPE Count",
          "Mark KPE Count",
          "John KPE Count"
         ],
         "yaxis": "y"
        },
        {
         "alignmentgroup": "True",
         "hovertemplate": "variable=Caesar<br>value=%{x}<br>index=%{y}<extra></extra>",
         "legendgroup": "Caesar",
         "marker": {
          "color": "#ab63fa",
          "pattern": {
           "shape": ""
          }
         },
         "name": "Caesar",
         "offsetgroup": "Caesar",
         "orientation": "h",
         "showlegend": true,
         "textposition": "auto",
         "type": "bar",
         "x": [
          1,
          1,
          1,
          1
         ],
         "xaxis": "x",
         "y": [
          "Matthew KPE Count",
          "Luke KPE Count",
          "Mark KPE Count",
          "John KPE Count"
         ],
         "yaxis": "y"
        },
        {
         "alignmentgroup": "True",
         "hovertemplate": "variable=coin<br>value=%{x}<br>index=%{y}<extra></extra>",
         "legendgroup": "coin",
         "marker": {
          "color": "#FFA15A",
          "pattern": {
           "shape": ""
          }
         },
         "name": "coin",
         "offsetgroup": "coin",
         "orientation": "h",
         "showlegend": true,
         "textposition": "auto",
         "type": "bar",
         "x": [
          1,
          null,
          null,
          null
         ],
         "xaxis": "x",
         "y": [
          "Matthew KPE Count",
          "Luke KPE Count",
          "Mark KPE Count",
          "John KPE Count"
         ],
         "yaxis": "y"
        },
        {
         "alignmentgroup": "True",
         "hovertemplate": "variable=denarius<br>value=%{x}<br>index=%{y}<extra></extra>",
         "legendgroup": "denarius",
         "marker": {
          "color": "#19d3f3",
          "pattern": {
           "shape": ""
          }
         },
         "name": "denarius",
         "offsetgroup": "denarius",
         "orientation": "h",
         "showlegend": true,
         "textposition": "auto",
         "type": "bar",
         "x": [
          1,
          null,
          1,
          null
         ],
         "xaxis": "x",
         "y": [
          "Matthew KPE Count",
          "Luke KPE Count",
          "Mark KPE Count",
          "John KPE Count"
         ],
         "yaxis": "y"
        },
        {
         "alignmentgroup": "True",
         "hovertemplate": "variable=image<br>value=%{x}<br>index=%{y}<extra></extra>",
         "legendgroup": "image",
         "marker": {
          "color": "#FF6692",
          "pattern": {
           "shape": ""
          }
         },
         "name": "image",
         "offsetgroup": "image",
         "orientation": "h",
         "showlegend": true,
         "textposition": "auto",
         "type": "bar",
         "x": [
          1,
          null,
          1,
          null
         ],
         "xaxis": "x",
         "y": [
          "Matthew KPE Count",
          "Luke KPE Count",
          "Mark KPE Count",
          "John KPE Count"
         ],
         "yaxis": "y"
        },
        {
         "alignmentgroup": "True",
         "hovertemplate": "variable=inscription<br>value=%{x}<br>index=%{y}<extra></extra>",
         "legendgroup": "inscription",
         "marker": {
          "color": "#B6E880",
          "pattern": {
           "shape": ""
          }
         },
         "name": "inscription",
         "offsetgroup": "inscription",
         "orientation": "h",
         "showlegend": true,
         "textposition": "auto",
         "type": "bar",
         "x": [
          1,
          1,
          1,
          null
         ],
         "xaxis": "x",
         "y": [
          "Matthew KPE Count",
          "Luke KPE Count",
          "Mark KPE Count",
          "John KPE Count"
         ],
         "yaxis": "y"
        },
        {
         "alignmentgroup": "True",
         "hovertemplate": "variable=offspring<br>value=%{x}<br>index=%{y}<extra></extra>",
         "legendgroup": "offspring",
         "marker": {
          "color": "#FF97FF",
          "pattern": {
           "shape": ""
          }
         },
         "name": "offspring",
         "offsetgroup": "offspring",
         "orientation": "h",
         "showlegend": true,
         "textposition": "auto",
         "type": "bar",
         "x": [
          1,
          null,
          1,
          2
         ],
         "xaxis": "x",
         "y": [
          "Matthew KPE Count",
          "Luke KPE Count",
          "Mark KPE Count",
          "John KPE Count"
         ],
         "yaxis": "y"
        },
        {
         "alignmentgroup": "True",
         "hovertemplate": "variable=Scriptures<br>value=%{x}<br>index=%{y}<extra></extra>",
         "legendgroup": "Scriptures",
         "marker": {
          "color": "#FECB52",
          "pattern": {
           "shape": ""
          }
         },
         "name": "Scriptures",
         "offsetgroup": "Scriptures",
         "orientation": "h",
         "showlegend": true,
         "textposition": "auto",
         "type": "bar",
         "x": [
          1,
          1,
          null,
          2
         ],
         "xaxis": "x",
         "y": [
          "Matthew KPE Count",
          "Luke KPE Count",
          "Mark KPE Count",
          "John KPE Count"
         ],
         "yaxis": "y"
        },
        {
         "alignmentgroup": "True",
         "hovertemplate": "variable=marriage<br>value=%{x}<br>index=%{y}<extra></extra>",
         "legendgroup": "marriage",
         "marker": {
          "color": "#636efa",
          "pattern": {
           "shape": ""
          }
         },
         "name": "marriage",
         "offsetgroup": "marriage",
         "orientation": "h",
         "showlegend": true,
         "textposition": "auto",
         "type": "bar",
         "x": [
          1,
          1,
          1,
          null
         ],
         "xaxis": "x",
         "y": [
          "Matthew KPE Count",
          "Luke KPE Count",
          "Mark KPE Count",
          "John KPE Count"
         ],
         "yaxis": "y"
        },
        {
         "alignmentgroup": "True",
         "hovertemplate": "variable=living<br>value=%{x}<br>index=%{y}<extra></extra>",
         "legendgroup": "living",
         "marker": {
          "color": "#EF553B",
          "pattern": {
           "shape": ""
          }
         },
         "name": "living",
         "offsetgroup": "living",
         "orientation": "h",
         "showlegend": true,
         "textposition": "auto",
         "type": "bar",
         "x": [
          1,
          1,
          1,
          null
         ],
         "xaxis": "x",
         "y": [
          "Matthew KPE Count",
          "Luke KPE Count",
          "Mark KPE Count",
          "John KPE Count"
         ],
         "yaxis": "y"
        },
        {
         "alignmentgroup": "True",
         "hovertemplate": "variable=doctor<br>value=%{x}<br>index=%{y}<extra></extra>",
         "legendgroup": "doctor",
         "marker": {
          "color": "#00cc96",
          "pattern": {
           "shape": ""
          }
         },
         "name": "doctor",
         "offsetgroup": "doctor",
         "orientation": "h",
         "showlegend": true,
         "textposition": "auto",
         "type": "bar",
         "x": [
          1,
          null,
          1,
          null
         ],
         "xaxis": "x",
         "y": [
          "Matthew KPE Count",
          "Luke KPE Count",
          "Mark KPE Count",
          "John KPE Count"
         ],
         "yaxis": "y"
        },
        {
         "alignmentgroup": "True",
         "hovertemplate": "variable=mind<br>value=%{x}<br>index=%{y}<extra></extra>",
         "legendgroup": "mind",
         "marker": {
          "color": "#ab63fa",
          "pattern": {
           "shape": ""
          }
         },
         "name": "mind",
         "offsetgroup": "mind",
         "orientation": "h",
         "showlegend": true,
         "textposition": "auto",
         "type": "bar",
         "x": [
          1,
          null,
          1,
          null
         ],
         "xaxis": "x",
         "y": [
          "Matthew KPE Count",
          "Luke KPE Count",
          "Mark KPE Count",
          "John KPE Count"
         ],
         "yaxis": "y"
        },
        {
         "alignmentgroup": "True",
         "hovertemplate": "variable=greatest<br>value=%{x}<br>index=%{y}<extra></extra>",
         "legendgroup": "greatest",
         "marker": {
          "color": "#FFA15A",
          "pattern": {
           "shape": ""
          }
         },
         "name": "greatest",
         "offsetgroup": "greatest",
         "orientation": "h",
         "showlegend": true,
         "textposition": "auto",
         "type": "bar",
         "x": [
          1,
          null,
          null,
          null
         ],
         "xaxis": "x",
         "y": [
          "Matthew KPE Count",
          "Luke KPE Count",
          "Mark KPE Count",
          "John KPE Count"
         ],
         "yaxis": "y"
        },
        {
         "alignmentgroup": "True",
         "hovertemplate": "variable=enemies<br>value=%{x}<br>index=%{y}<extra></extra>",
         "legendgroup": "enemies",
         "marker": {
          "color": "#19d3f3",
          "pattern": {
           "shape": ""
          }
         },
         "name": "enemies",
         "offsetgroup": "enemies",
         "orientation": "h",
         "showlegend": true,
         "textposition": "auto",
         "type": "bar",
         "x": [
          1,
          3,
          1,
          null
         ],
         "xaxis": "x",
         "y": [
          "Matthew KPE Count",
          "Luke KPE Count",
          "Mark KPE Count",
          "John KPE Count"
         ],
         "yaxis": "y"
        },
        {
         "alignmentgroup": "True",
         "hovertemplate": "variable=unbearable burdens<br>value=%{x}<br>index=%{y}<extra></extra>",
         "legendgroup": "unbearable burdens",
         "marker": {
          "color": "#FF6692",
          "pattern": {
           "shape": ""
          }
         },
         "name": "unbearable burdens",
         "offsetgroup": "unbearable burdens",
         "orientation": "h",
         "showlegend": true,
         "textposition": "auto",
         "type": "bar",
         "x": [
          1,
          null,
          null,
          null
         ],
         "xaxis": "x",
         "y": [
          "Matthew KPE Count",
          "Luke KPE Count",
          "Mark KPE Count",
          "John KPE Count"
         ],
         "yaxis": "y"
        },
        {
         "alignmentgroup": "True",
         "hovertemplate": "variable=first places<br>value=%{x}<br>index=%{y}<extra></extra>",
         "legendgroup": "first places",
         "marker": {
          "color": "#B6E880",
          "pattern": {
           "shape": ""
          }
         },
         "name": "first places",
         "offsetgroup": "first places",
         "orientation": "h",
         "showlegend": true,
         "textposition": "auto",
         "type": "bar",
         "x": [
          1,
          null,
          null,
          null
         ],
         "xaxis": "x",
         "y": [
          "Matthew KPE Count",
          "Luke KPE Count",
          "Mark KPE Count",
          "John KPE Count"
         ],
         "yaxis": "y"
        },
        {
         "alignmentgroup": "True",
         "hovertemplate": "variable=first chairs<br>value=%{x}<br>index=%{y}<extra></extra>",
         "legendgroup": "first chairs",
         "marker": {
          "color": "#FF97FF",
          "pattern": {
           "shape": ""
          }
         },
         "name": "first chairs",
         "offsetgroup": "first chairs",
         "orientation": "h",
         "showlegend": true,
         "textposition": "auto",
         "type": "bar",
         "x": [
          1,
          null,
          null,
          null
         ],
         "xaxis": "x",
         "y": [
          "Matthew KPE Count",
          "Luke KPE Count",
          "Mark KPE Count",
          "John KPE Count"
         ],
         "yaxis": "y"
        },
        {
         "alignmentgroup": "True",
         "hovertemplate": "variable=long prayers<br>value=%{x}<br>index=%{y}<extra></extra>",
         "legendgroup": "long prayers",
         "marker": {
          "color": "#FECB52",
          "pattern": {
           "shape": ""
          }
         },
         "name": "long prayers",
         "offsetgroup": "long prayers",
         "orientation": "h",
         "showlegend": true,
         "textposition": "auto",
         "type": "bar",
         "x": [
          1,
          null,
          null,
          null
         ],
         "xaxis": "x",
         "y": [
          "Matthew KPE Count",
          "Luke KPE Count",
          "Mark KPE Count",
          "John KPE Count"
         ],
         "yaxis": "y"
        },
        {
         "alignmentgroup": "True",
         "hovertemplate": "variable=one convert<br>value=%{x}<br>index=%{y}<extra></extra>",
         "legendgroup": "one convert",
         "marker": {
          "color": "#636efa",
          "pattern": {
           "shape": ""
          }
         },
         "name": "one convert",
         "offsetgroup": "one convert",
         "orientation": "h",
         "showlegend": true,
         "textposition": "auto",
         "type": "bar",
         "x": [
          1,
          null,
          null,
          null
         ],
         "xaxis": "x",
         "y": [
          "Matthew KPE Count",
          "Luke KPE Count",
          "Mark KPE Count",
          "John KPE Count"
         ],
         "yaxis": "y"
        },
        {
         "alignmentgroup": "True",
         "hovertemplate": "variable=blind guides<br>value=%{x}<br>index=%{y}<extra></extra>",
         "legendgroup": "blind guides",
         "marker": {
          "color": "#EF553B",
          "pattern": {
           "shape": ""
          }
         },
         "name": "blind guides",
         "offsetgroup": "blind guides",
         "orientation": "h",
         "showlegend": true,
         "textposition": "auto",
         "type": "bar",
         "x": [
          1,
          null,
          null,
          null
         ],
         "xaxis": "x",
         "y": [
          "Matthew KPE Count",
          "Luke KPE Count",
          "Mark KPE Count",
          "John KPE Count"
         ],
         "yaxis": "y"
        },
        {
         "alignmentgroup": "True",
         "hovertemplate": "variable=whitewashed sepulchers<br>value=%{x}<br>index=%{y}<extra></extra>",
         "legendgroup": "whitewashed sepulchers",
         "marker": {
          "color": "#00cc96",
          "pattern": {
           "shape": ""
          }
         },
         "name": "whitewashed sepulchers",
         "offsetgroup": "whitewashed sepulchers",
         "orientation": "h",
         "showlegend": true,
         "textposition": "auto",
         "type": "bar",
         "x": [
          1,
          null,
          null,
          null
         ],
         "xaxis": "x",
         "y": [
          "Matthew KPE Count",
          "Luke KPE Count",
          "Mark KPE Count",
          "John KPE Count"
         ],
         "yaxis": "y"
        },
        {
         "alignmentgroup": "True",
         "hovertemplate": "variable=greater judgment<br>value=%{x}<br>index=%{y}<extra></extra>",
         "legendgroup": "greater judgment",
         "marker": {
          "color": "#ab63fa",
          "pattern": {
           "shape": ""
          }
         },
         "name": "greater judgment",
         "offsetgroup": "greater judgment",
         "orientation": "h",
         "showlegend": true,
         "textposition": "auto",
         "type": "bar",
         "x": [
          1,
          null,
          null,
          null
         ],
         "xaxis": "x",
         "y": [
          "Matthew KPE Count",
          "Luke KPE Count",
          "Mark KPE Count",
          "John KPE Count"
         ],
         "yaxis": "y"
        },
        {
         "alignmentgroup": "True",
         "hovertemplate": "variable=weightier things<br>value=%{x}<br>index=%{y}<extra></extra>",
         "legendgroup": "weightier things",
         "marker": {
          "color": "#FFA15A",
          "pattern": {
           "shape": ""
          }
         },
         "name": "weightier things",
         "offsetgroup": "weightier things",
         "orientation": "h",
         "showlegend": true,
         "textposition": "auto",
         "type": "bar",
         "x": [
          1,
          null,
          null,
          null
         ],
         "xaxis": "x",
         "y": [
          "Matthew KPE Count",
          "Luke KPE Count",
          "Mark KPE Count",
          "John KPE Count"
         ],
         "yaxis": "y"
        },
        {
         "alignmentgroup": "True",
         "hovertemplate": "variable=heavy<br>value=%{x}<br>index=%{y}<extra></extra>",
         "legendgroup": "heavy",
         "marker": {
          "color": "#19d3f3",
          "pattern": {
           "shape": ""
          }
         },
         "name": "heavy",
         "offsetgroup": "heavy",
         "orientation": "h",
         "showlegend": true,
         "textposition": "auto",
         "type": "bar",
         "x": [
          1,
          null,
          null,
          null
         ],
         "xaxis": "x",
         "y": [
          "Matthew KPE Count",
          "Luke KPE Count",
          "Mark KPE Count",
          "John KPE Count"
         ],
         "yaxis": "y"
        },
        {
         "alignmentgroup": "True",
         "hovertemplate": "variable=shoulders<br>value=%{x}<br>index=%{y}<extra></extra>",
         "legendgroup": "shoulders",
         "marker": {
          "color": "#FF6692",
          "pattern": {
           "shape": ""
          }
         },
         "name": "shoulders",
         "offsetgroup": "shoulders",
         "orientation": "h",
         "showlegend": true,
         "textposition": "auto",
         "type": "bar",
         "x": [
          1,
          1,
          null,
          null
         ],
         "xaxis": "x",
         "y": [
          "Matthew KPE Count",
          "Luke KPE Count",
          "Mark KPE Count",
          "John KPE Count"
         ],
         "yaxis": "y"
        },
        {
         "alignmentgroup": "True",
         "hovertemplate": "variable=finger<br>value=%{x}<br>index=%{y}<extra></extra>",
         "legendgroup": "finger",
         "marker": {
          "color": "#B6E880",
          "pattern": {
           "shape": ""
          }
         },
         "name": "finger",
         "offsetgroup": "finger",
         "orientation": "h",
         "showlegend": true,
         "textposition": "auto",
         "type": "bar",
         "x": [
          1,
          2,
          null,
          1
         ],
         "xaxis": "x",
         "y": [
          "Matthew KPE Count",
          "Luke KPE Count",
          "Mark KPE Count",
          "John KPE Count"
         ],
         "yaxis": "y"
        },
        {
         "alignmentgroup": "True",
         "hovertemplate": "variable=phylacteries<br>value=%{x}<br>index=%{y}<extra></extra>",
         "legendgroup": "phylacteries",
         "marker": {
          "color": "#FF97FF",
          "pattern": {
           "shape": ""
          }
         },
         "name": "phylacteries",
         "offsetgroup": "phylacteries",
         "orientation": "h",
         "showlegend": true,
         "textposition": "auto",
         "type": "bar",
         "x": [
          1,
          null,
          null,
          null
         ],
         "xaxis": "x",
         "y": [
          "Matthew KPE Count",
          "Luke KPE Count",
          "Mark KPE Count",
          "John KPE Count"
         ],
         "yaxis": "y"
        },
        {
         "alignmentgroup": "True",
         "hovertemplate": "variable=hems<br>value=%{x}<br>index=%{y}<extra></extra>",
         "legendgroup": "hems",
         "marker": {
          "color": "#FECB52",
          "pattern": {
           "shape": ""
          }
         },
         "name": "hems",
         "offsetgroup": "hems",
         "orientation": "h",
         "showlegend": true,
         "textposition": "auto",
         "type": "bar",
         "x": [
          1,
          null,
          null,
          null
         ],
         "xaxis": "x",
         "y": [
          "Matthew KPE Count",
          "Luke KPE Count",
          "Mark KPE Count",
          "John KPE Count"
         ],
         "yaxis": "y"
        },
        {
         "alignmentgroup": "True",
         "hovertemplate": "variable=feasts<br>value=%{x}<br>index=%{y}<extra></extra>",
         "legendgroup": "feasts",
         "marker": {
          "color": "#636efa",
          "pattern": {
           "shape": ""
          }
         },
         "name": "feasts",
         "offsetgroup": "feasts",
         "orientation": "h",
         "showlegend": true,
         "textposition": "auto",
         "type": "bar",
         "x": [
          1,
          null,
          null,
          null
         ],
         "xaxis": "x",
         "y": [
          "Matthew KPE Count",
          "Luke KPE Count",
          "Mark KPE Count",
          "John KPE Count"
         ],
         "yaxis": "y"
        },
        {
         "alignmentgroup": "True",
         "hovertemplate": "variable=greetings<br>value=%{x}<br>index=%{y}<extra></extra>",
         "legendgroup": "greetings",
         "marker": {
          "color": "#EF553B",
          "pattern": {
           "shape": ""
          }
         },
         "name": "greetings",
         "offsetgroup": "greetings",
         "orientation": "h",
         "showlegend": true,
         "textposition": "auto",
         "type": "bar",
         "x": [
          1,
          null,
          null,
          null
         ],
         "xaxis": "x",
         "y": [
          "Matthew KPE Count",
          "Luke KPE Count",
          "Mark KPE Count",
          "John KPE Count"
         ],
         "yaxis": "y"
        },
        {
         "alignmentgroup": "True",
         "hovertemplate": "variable=minister<br>value=%{x}<br>index=%{y}<extra></extra>",
         "legendgroup": "minister",
         "marker": {
          "color": "#00cc96",
          "pattern": {
           "shape": ""
          }
         },
         "name": "minister",
         "offsetgroup": "minister",
         "orientation": "h",
         "showlegend": true,
         "textposition": "auto",
         "type": "bar",
         "x": [
          1,
          1,
          1,
          1
         ],
         "xaxis": "x",
         "y": [
          "Matthew KPE Count",
          "Luke KPE Count",
          "Mark KPE Count",
          "John KPE Count"
         ],
         "yaxis": "y"
        },
        {
         "alignmentgroup": "True",
         "hovertemplate": "variable=widows<br>value=%{x}<br>index=%{y}<extra></extra>",
         "legendgroup": "widows",
         "marker": {
          "color": "#ab63fa",
          "pattern": {
           "shape": ""
          }
         },
         "name": "widows",
         "offsetgroup": "widows",
         "orientation": "h",
         "showlegend": true,
         "textposition": "auto",
         "type": "bar",
         "x": [
          1,
          null,
          null,
          null
         ],
         "xaxis": "x",
         "y": [
          "Matthew KPE Count",
          "Luke KPE Count",
          "Mark KPE Count",
          "John KPE Count"
         ],
         "yaxis": "y"
        },
        {
         "alignmentgroup": "True",
         "hovertemplate": "variable=tithes<br>value=%{x}<br>index=%{y}<extra></extra>",
         "legendgroup": "tithes",
         "marker": {
          "color": "#FFA15A",
          "pattern": {
           "shape": ""
          }
         },
         "name": "tithes",
         "offsetgroup": "tithes",
         "orientation": "h",
         "showlegend": true,
         "textposition": "auto",
         "type": "bar",
         "x": [
          1,
          1,
          null,
          null
         ],
         "xaxis": "x",
         "y": [
          "Matthew KPE Count",
          "Luke KPE Count",
          "Mark KPE Count",
          "John KPE Count"
         ],
         "yaxis": "y"
        },
        {
         "alignmentgroup": "True",
         "hovertemplate": "variable=mint<br>value=%{x}<br>index=%{y}<extra></extra>",
         "legendgroup": "mint",
         "marker": {
          "color": "#19d3f3",
          "pattern": {
           "shape": ""
          }
         },
         "name": "mint",
         "offsetgroup": "mint",
         "orientation": "h",
         "showlegend": true,
         "textposition": "auto",
         "type": "bar",
         "x": [
          1,
          null,
          null,
          null
         ],
         "xaxis": "x",
         "y": [
          "Matthew KPE Count",
          "Luke KPE Count",
          "Mark KPE Count",
          "John KPE Count"
         ],
         "yaxis": "y"
        },
        {
         "alignmentgroup": "True",
         "hovertemplate": "variable=dill<br>value=%{x}<br>index=%{y}<extra></extra>",
         "legendgroup": "dill",
         "marker": {
          "color": "#FF6692",
          "pattern": {
           "shape": ""
          }
         },
         "name": "dill",
         "offsetgroup": "dill",
         "orientation": "h",
         "showlegend": true,
         "textposition": "auto",
         "type": "bar",
         "x": [
          1,
          null,
          null,
          null
         ],
         "xaxis": "x",
         "y": [
          "Matthew KPE Count",
          "Luke KPE Count",
          "Mark KPE Count",
          "John KPE Count"
         ],
         "yaxis": "y"
        },
        {
         "alignmentgroup": "True",
         "hovertemplate": "variable=cumin<br>value=%{x}<br>index=%{y}<extra></extra>",
         "legendgroup": "cumin",
         "marker": {
          "color": "#B6E880",
          "pattern": {
           "shape": ""
          }
         },
         "name": "cumin",
         "offsetgroup": "cumin",
         "orientation": "h",
         "showlegend": true,
         "textposition": "auto",
         "type": "bar",
         "x": [
          1,
          null,
          null,
          null
         ],
         "xaxis": "x",
         "y": [
          "Matthew KPE Count",
          "Luke KPE Count",
          "Mark KPE Count",
          "John KPE Count"
         ],
         "yaxis": "y"
        },
        {
         "alignmentgroup": "True",
         "hovertemplate": "variable=gnat<br>value=%{x}<br>index=%{y}<extra></extra>",
         "legendgroup": "gnat",
         "marker": {
          "color": "#FF97FF",
          "pattern": {
           "shape": ""
          }
         },
         "name": "gnat",
         "offsetgroup": "gnat",
         "orientation": "h",
         "showlegend": true,
         "textposition": "auto",
         "type": "bar",
         "x": [
          1,
          null,
          null,
          null
         ],
         "xaxis": "x",
         "y": [
          "Matthew KPE Count",
          "Luke KPE Count",
          "Mark KPE Count",
          "John KPE Count"
         ],
         "yaxis": "y"
        },
        {
         "alignmentgroup": "True",
         "hovertemplate": "variable=cup<br>value=%{x}<br>index=%{y}<extra></extra>",
         "legendgroup": "cup",
         "marker": {
          "color": "#FECB52",
          "pattern": {
           "shape": ""
          }
         },
         "name": "cup",
         "offsetgroup": "cup",
         "orientation": "h",
         "showlegend": true,
         "textposition": "auto",
         "type": "bar",
         "x": [
          1,
          1,
          1,
          null
         ],
         "xaxis": "x",
         "y": [
          "Matthew KPE Count",
          "Luke KPE Count",
          "Mark KPE Count",
          "John KPE Count"
         ],
         "yaxis": "y"
        },
        {
         "alignmentgroup": "True",
         "hovertemplate": "variable=inside<br>value=%{x}<br>index=%{y}<extra></extra>",
         "legendgroup": "inside",
         "marker": {
          "color": "#636efa",
          "pattern": {
           "shape": ""
          }
         },
         "name": "inside",
         "offsetgroup": "inside",
         "orientation": "h",
         "showlegend": true,
         "textposition": "auto",
         "type": "bar",
         "x": [
          1,
          null,
          null,
          null
         ],
         "xaxis": "x",
         "y": [
          "Matthew KPE Count",
          "Luke KPE Count",
          "Mark KPE Count",
          "John KPE Count"
         ],
         "yaxis": "y"
        },
        {
         "alignmentgroup": "True",
         "hovertemplate": "variable=avarice<br>value=%{x}<br>index=%{y}<extra></extra>",
         "legendgroup": "avarice",
         "marker": {
          "color": "#EF553B",
          "pattern": {
           "shape": ""
          }
         },
         "name": "avarice",
         "offsetgroup": "avarice",
         "orientation": "h",
         "showlegend": true,
         "textposition": "auto",
         "type": "bar",
         "x": [
          1,
          1,
          1,
          null
         ],
         "xaxis": "x",
         "y": [
          "Matthew KPE Count",
          "Luke KPE Count",
          "Mark KPE Count",
          "John KPE Count"
         ],
         "yaxis": "y"
        },
        {
         "alignmentgroup": "True",
         "hovertemplate": "variable=impurity<br>value=%{x}<br>index=%{y}<extra></extra>",
         "legendgroup": "impurity",
         "marker": {
          "color": "#00cc96",
          "pattern": {
           "shape": ""
          }
         },
         "name": "impurity",
         "offsetgroup": "impurity",
         "orientation": "h",
         "showlegend": true,
         "textposition": "auto",
         "type": "bar",
         "x": [
          1,
          null,
          null,
          null
         ],
         "xaxis": "x",
         "y": [
          "Matthew KPE Count",
          "Luke KPE Count",
          "Mark KPE Count",
          "John KPE Count"
         ],
         "yaxis": "y"
        },
        {
         "alignmentgroup": "True",
         "hovertemplate": "variable=bones<br>value=%{x}<br>index=%{y}<extra></extra>",
         "legendgroup": "bones",
         "marker": {
          "color": "#ab63fa",
          "pattern": {
           "shape": ""
          }
         },
         "name": "bones",
         "offsetgroup": "bones",
         "orientation": "h",
         "showlegend": true,
         "textposition": "auto",
         "type": "bar",
         "x": [
          1,
          1,
          null,
          null
         ],
         "xaxis": "x",
         "y": [
          "Matthew KPE Count",
          "Luke KPE Count",
          "Mark KPE Count",
          "John KPE Count"
         ],
         "yaxis": "y"
        },
        {
         "alignmentgroup": "True",
         "hovertemplate": "variable=filth<br>value=%{x}<br>index=%{y}<extra></extra>",
         "legendgroup": "filth",
         "marker": {
          "color": "#FFA15A",
          "pattern": {
           "shape": ""
          }
         },
         "name": "filth",
         "offsetgroup": "filth",
         "orientation": "h",
         "showlegend": true,
         "textposition": "auto",
         "type": "bar",
         "x": [
          1,
          null,
          null,
          null
         ],
         "xaxis": "x",
         "y": [
          "Matthew KPE Count",
          "Luke KPE Count",
          "Mark KPE Count",
          "John KPE Count"
         ],
         "yaxis": "y"
        },
        {
         "alignmentgroup": "True",
         "hovertemplate": "variable=hypocrisy<br>value=%{x}<br>index=%{y}<extra></extra>",
         "legendgroup": "hypocrisy",
         "marker": {
          "color": "#19d3f3",
          "pattern": {
           "shape": ""
          }
         },
         "name": "hypocrisy",
         "offsetgroup": "hypocrisy",
         "orientation": "h",
         "showlegend": true,
         "textposition": "auto",
         "type": "bar",
         "x": [
          1,
          null,
          null,
          null
         ],
         "xaxis": "x",
         "y": [
          "Matthew KPE Count",
          "Luke KPE Count",
          "Mark KPE Count",
          "John KPE Count"
         ],
         "yaxis": "y"
        },
        {
         "alignmentgroup": "True",
         "hovertemplate": "variable=monuments<br>value=%{x}<br>index=%{y}<extra></extra>",
         "legendgroup": "monuments",
         "marker": {
          "color": "#FF6692",
          "pattern": {
           "shape": ""
          }
         },
         "name": "monuments",
         "offsetgroup": "monuments",
         "orientation": "h",
         "showlegend": true,
         "textposition": "auto",
         "type": "bar",
         "x": [
          1,
          null,
          null,
          null
         ],
         "xaxis": "x",
         "y": [
          "Matthew KPE Count",
          "Luke KPE Count",
          "Mark KPE Count",
          "John KPE Count"
         ],
         "yaxis": "y"
        },
        {
         "alignmentgroup": "True",
         "hovertemplate": "variable=witnesses<br>value=%{x}<br>index=%{y}<extra></extra>",
         "legendgroup": "witnesses",
         "marker": {
          "color": "#B6E880",
          "pattern": {
           "shape": ""
          }
         },
         "name": "witnesses",
         "offsetgroup": "witnesses",
         "orientation": "h",
         "showlegend": true,
         "textposition": "auto",
         "type": "bar",
         "x": [
          1,
          null,
          null,
          null
         ],
         "xaxis": "x",
         "y": [
          "Matthew KPE Count",
          "Luke KPE Count",
          "Mark KPE Count",
          "John KPE Count"
         ],
         "yaxis": "y"
        },
        {
         "alignmentgroup": "True",
         "hovertemplate": "variable=serpents<br>value=%{x}<br>index=%{y}<extra></extra>",
         "legendgroup": "serpents",
         "marker": {
          "color": "#FF97FF",
          "pattern": {
           "shape": ""
          }
         },
         "name": "serpents",
         "offsetgroup": "serpents",
         "orientation": "h",
         "showlegend": true,
         "textposition": "auto",
         "type": "bar",
         "x": [
          1,
          null,
          1,
          null
         ],
         "xaxis": "x",
         "y": [
          "Matthew KPE Count",
          "Luke KPE Count",
          "Mark KPE Count",
          "John KPE Count"
         ],
         "yaxis": "y"
        },
        {
         "alignmentgroup": "True",
         "hovertemplate": "variable=wisemen<br>value=%{x}<br>index=%{y}<extra></extra>",
         "legendgroup": "wisemen",
         "marker": {
          "color": "#FECB52",
          "pattern": {
           "shape": ""
          }
         },
         "name": "wisemen",
         "offsetgroup": "wisemen",
         "orientation": "h",
         "showlegend": true,
         "textposition": "auto",
         "type": "bar",
         "x": [
          1,
          null,
          null,
          null
         ],
         "xaxis": "x",
         "y": [
          "Matthew KPE Count",
          "Luke KPE Count",
          "Mark KPE Count",
          "John KPE Count"
         ],
         "yaxis": "y"
        },
        {
         "alignmentgroup": "True",
         "hovertemplate": "variable=just<br>value=%{x}<br>index=%{y}<extra></extra>",
         "legendgroup": "just",
         "marker": {
          "color": "#636efa",
          "pattern": {
           "shape": ""
          }
         },
         "name": "just",
         "offsetgroup": "just",
         "orientation": "h",
         "showlegend": true,
         "textposition": "auto",
         "type": "bar",
         "x": [
          1,
          null,
          1,
          null
         ],
         "xaxis": "x",
         "y": [
          "Matthew KPE Count",
          "Luke KPE Count",
          "Mark KPE Count",
          "John KPE Count"
         ],
         "yaxis": "y"
        },
        {
         "alignmentgroup": "True",
         "hovertemplate": "variable=Abel<br>value=%{x}<br>index=%{y}<extra></extra>",
         "legendgroup": "Abel",
         "marker": {
          "color": "#EF553B",
          "pattern": {
           "shape": ""
          }
         },
         "name": "Abel",
         "offsetgroup": "Abel",
         "orientation": "h",
         "showlegend": true,
         "textposition": "auto",
         "type": "bar",
         "x": [
          1,
          null,
          null,
          null
         ],
         "xaxis": "x",
         "y": [
          "Matthew KPE Count",
          "Luke KPE Count",
          "Mark KPE Count",
          "John KPE Count"
         ],
         "yaxis": "y"
        },
        {
         "alignmentgroup": "True",
         "hovertemplate": "variable=Zechariah<br>value=%{x}<br>index=%{y}<extra></extra>",
         "legendgroup": "Zechariah",
         "marker": {
          "color": "#00cc96",
          "pattern": {
           "shape": ""
          }
         },
         "name": "Zechariah",
         "offsetgroup": "Zechariah",
         "orientation": "h",
         "showlegend": true,
         "textposition": "auto",
         "type": "bar",
         "x": [
          1,
          2,
          null,
          null
         ],
         "xaxis": "x",
         "y": [
          "Matthew KPE Count",
          "Luke KPE Count",
          "Mark KPE Count",
          "John KPE Count"
         ],
         "yaxis": "y"
        },
        {
         "alignmentgroup": "True",
         "hovertemplate": "variable=Barachiah<br>value=%{x}<br>index=%{y}<extra></extra>",
         "legendgroup": "Barachiah",
         "marker": {
          "color": "#ab63fa",
          "pattern": {
           "shape": ""
          }
         },
         "name": "Barachiah",
         "offsetgroup": "Barachiah",
         "orientation": "h",
         "showlegend": true,
         "textposition": "auto",
         "type": "bar",
         "x": [
          1,
          null,
          null,
          null
         ],
         "xaxis": "x",
         "y": [
          "Matthew KPE Count",
          "Luke KPE Count",
          "Mark KPE Count",
          "John KPE Count"
         ],
         "yaxis": "y"
        },
        {
         "alignmentgroup": "True",
         "hovertemplate": "variable=hen<br>value=%{x}<br>index=%{y}<extra></extra>",
         "legendgroup": "hen",
         "marker": {
          "color": "#FFA15A",
          "pattern": {
           "shape": ""
          }
         },
         "name": "hen",
         "offsetgroup": "hen",
         "orientation": "h",
         "showlegend": true,
         "textposition": "auto",
         "type": "bar",
         "x": [
          1,
          null,
          null,
          null
         ],
         "xaxis": "x",
         "y": [
          "Matthew KPE Count",
          "Luke KPE Count",
          "Mark KPE Count",
          "John KPE Count"
         ],
         "yaxis": "y"
        },
        {
         "alignmentgroup": "True",
         "hovertemplate": "variable=wings<br>value=%{x}<br>index=%{y}<extra></extra>",
         "legendgroup": "wings",
         "marker": {
          "color": "#19d3f3",
          "pattern": {
           "shape": ""
          }
         },
         "name": "wings",
         "offsetgroup": "wings",
         "orientation": "h",
         "showlegend": true,
         "textposition": "auto",
         "type": "bar",
         "x": [
          1,
          1,
          null,
          null
         ],
         "xaxis": "x",
         "y": [
          "Matthew KPE Count",
          "Luke KPE Count",
          "Mark KPE Count",
          "John KPE Count"
         ],
         "yaxis": "y"
        },
        {
         "alignmentgroup": "True",
         "hovertemplate": "variable=many false prophets<br>value=%{x}<br>index=%{y}<extra></extra>",
         "legendgroup": "many false prophets",
         "marker": {
          "color": "#FF6692",
          "pattern": {
           "shape": ""
          }
         },
         "name": "many false prophets",
         "offsetgroup": "many false prophets",
         "orientation": "h",
         "showlegend": true,
         "textposition": "auto",
         "type": "bar",
         "x": [
          1,
          null,
          null,
          null
         ],
         "xaxis": "x",
         "y": [
          "Matthew KPE Count",
          "Luke KPE Count",
          "Mark KPE Count",
          "John KPE Count"
         ],
         "yaxis": "y"
        },
        {
         "alignmentgroup": "True",
         "hovertemplate": "variable=false Christs<br>value=%{x}<br>index=%{y}<extra></extra>",
         "legendgroup": "false Christs",
         "marker": {
          "color": "#B6E880",
          "pattern": {
           "shape": ""
          }
         },
         "name": "false Christs",
         "offsetgroup": "false Christs",
         "orientation": "h",
         "showlegend": true,
         "textposition": "auto",
         "type": "bar",
         "x": [
          1,
          null,
          1,
          null
         ],
         "xaxis": "x",
         "y": [
          "Matthew KPE Count",
          "Luke KPE Count",
          "Mark KPE Count",
          "John KPE Count"
         ],
         "yaxis": "y"
        },
        {
         "alignmentgroup": "True",
         "hovertemplate": "variable=prophet Daniel<br>value=%{x}<br>index=%{y}<extra></extra>",
         "legendgroup": "prophet Daniel",
         "marker": {
          "color": "#FF97FF",
          "pattern": {
           "shape": ""
          }
         },
         "name": "prophet Daniel",
         "offsetgroup": "prophet Daniel",
         "orientation": "h",
         "showlegend": true,
         "textposition": "auto",
         "type": "bar",
         "x": [
          1,
          null,
          null,
          null
         ],
         "xaxis": "x",
         "y": [
          "Matthew KPE Count",
          "Luke KPE Count",
          "Mark KPE Count",
          "John KPE Count"
         ],
         "yaxis": "y"
        },
        {
         "alignmentgroup": "True",
         "hovertemplate": "variable=holy place<br>value=%{x}<br>index=%{y}<extra></extra>",
         "legendgroup": "holy place",
         "marker": {
          "color": "#FECB52",
          "pattern": {
           "shape": ""
          }
         },
         "name": "holy place",
         "offsetgroup": "holy place",
         "orientation": "h",
         "showlegend": true,
         "textposition": "auto",
         "type": "bar",
         "x": [
          1,
          null,
          null,
          null
         ],
         "xaxis": "x",
         "y": [
          "Matthew KPE Count",
          "Luke KPE Count",
          "Mark KPE Count",
          "John KPE Count"
         ],
         "yaxis": "y"
        },
        {
         "alignmentgroup": "True",
         "hovertemplate": "variable=great signs<br>value=%{x}<br>index=%{y}<extra></extra>",
         "legendgroup": "great signs",
         "marker": {
          "color": "#636efa",
          "pattern": {
           "shape": ""
          }
         },
         "name": "great signs",
         "offsetgroup": "great signs",
         "orientation": "h",
         "showlegend": true,
         "textposition": "auto",
         "type": "bar",
         "x": [
          1,
          1,
          null,
          1
         ],
         "xaxis": "x",
         "y": [
          "Matthew KPE Count",
          "Luke KPE Count",
          "Mark KPE Count",
          "John KPE Count"
         ],
         "yaxis": "y"
        },
        {
         "alignmentgroup": "True",
         "hovertemplate": "variable=inner rooms<br>value=%{x}<br>index=%{y}<extra></extra>",
         "legendgroup": "inner rooms",
         "marker": {
          "color": "#EF553B",
          "pattern": {
           "shape": ""
          }
         },
         "name": "inner rooms",
         "offsetgroup": "inner rooms",
         "orientation": "h",
         "showlegend": true,
         "textposition": "auto",
         "type": "bar",
         "x": [
          1,
          null,
          null,
          null
         ],
         "xaxis": "x",
         "y": [
          "Matthew KPE Count",
          "Luke KPE Count",
          "Mark KPE Count",
          "John KPE Count"
         ],
         "yaxis": "y"
        },
        {
         "alignmentgroup": "True",
         "hovertemplate": "variable=great power<br>value=%{x}<br>index=%{y}<extra></extra>",
         "legendgroup": "great power",
         "marker": {
          "color": "#00cc96",
          "pattern": {
           "shape": ""
          }
         },
         "name": "great power",
         "offsetgroup": "great power",
         "orientation": "h",
         "showlegend": true,
         "textposition": "auto",
         "type": "bar",
         "x": [
          1,
          1,
          1,
          null
         ],
         "xaxis": "x",
         "y": [
          "Matthew KPE Count",
          "Luke KPE Count",
          "Mark KPE Count",
          "John KPE Count"
         ],
         "yaxis": "y"
        },
        {
         "alignmentgroup": "True",
         "hovertemplate": "variable=great voice<br>value=%{x}<br>index=%{y}<extra></extra>",
         "legendgroup": "great voice",
         "marker": {
          "color": "#ab63fa",
          "pattern": {
           "shape": ""
          }
         },
         "name": "great voice",
         "offsetgroup": "great voice",
         "orientation": "h",
         "showlegend": true,
         "textposition": "auto",
         "type": "bar",
         "x": [
          1,
          null,
          null,
          null
         ],
         "xaxis": "x",
         "y": [
          "Matthew KPE Count",
          "Luke KPE Count",
          "Mark KPE Count",
          "John KPE Count"
         ],
         "yaxis": "y"
        },
        {
         "alignmentgroup": "True",
         "hovertemplate": "variable=four winds<br>value=%{x}<br>index=%{y}<extra></extra>",
         "legendgroup": "four winds",
         "marker": {
          "color": "#FFA15A",
          "pattern": {
           "shape": ""
          }
         },
         "name": "four winds",
         "offsetgroup": "four winds",
         "orientation": "h",
         "showlegend": true,
         "textposition": "auto",
         "type": "bar",
         "x": [
          1,
          null,
          1,
          null
         ],
         "xaxis": "x",
         "y": [
          "Matthew KPE Count",
          "Luke KPE Count",
          "Mark KPE Count",
          "John KPE Count"
         ],
         "yaxis": "y"
        },
        {
         "alignmentgroup": "True",
         "hovertemplate": "variable=furthest limits<br>value=%{x}<br>index=%{y}<extra></extra>",
         "legendgroup": "furthest limits",
         "marker": {
          "color": "#19d3f3",
          "pattern": {
           "shape": ""
          }
         },
         "name": "furthest limits",
         "offsetgroup": "furthest limits",
         "orientation": "h",
         "showlegend": true,
         "textposition": "auto",
         "type": "bar",
         "x": [
          1,
          null,
          null,
          null
         ],
         "xaxis": "x",
         "y": [
          "Matthew KPE Count",
          "Luke KPE Count",
          "Mark KPE Count",
          "John KPE Count"
         ],
         "yaxis": "y"
        },
        {
         "alignmentgroup": "True",
         "hovertemplate": "variable=two men<br>value=%{x}<br>index=%{y}<extra></extra>",
         "legendgroup": "two men",
         "marker": {
          "color": "#FF6692",
          "pattern": {
           "shape": ""
          }
         },
         "name": "two men",
         "offsetgroup": "two men",
         "orientation": "h",
         "showlegend": true,
         "textposition": "auto",
         "type": "bar",
         "x": [
          1,
          2,
          null,
          1
         ],
         "xaxis": "x",
         "y": [
          "Matthew KPE Count",
          "Luke KPE Count",
          "Mark KPE Count",
          "John KPE Count"
         ],
         "yaxis": "y"
        },
        {
         "alignmentgroup": "True",
         "hovertemplate": "variable=Two women<br>value=%{x}<br>index=%{y}<extra></extra>",
         "legendgroup": "Two women",
         "marker": {
          "color": "#B6E880",
          "pattern": {
           "shape": ""
          }
         },
         "name": "Two women",
         "offsetgroup": "Two women",
         "orientation": "h",
         "showlegend": true,
         "textposition": "auto",
         "type": "bar",
         "x": [
          1,
          null,
          null,
          null
         ],
         "xaxis": "x",
         "y": [
          "Matthew KPE Count",
          "Luke KPE Count",
          "Mark KPE Count",
          "John KPE Count"
         ],
         "yaxis": "y"
        },
        {
         "alignmentgroup": "True",
         "hovertemplate": "variable=entire world<br>value=%{x}<br>index=%{y}<extra></extra>",
         "legendgroup": "entire world",
         "marker": {
          "color": "#FF97FF",
          "pattern": {
           "shape": ""
          }
         },
         "name": "entire world",
         "offsetgroup": "entire world",
         "orientation": "h",
         "showlegend": true,
         "textposition": "auto",
         "type": "bar",
         "x": [
          1,
          null,
          1,
          1
         ],
         "xaxis": "x",
         "y": [
          "Matthew KPE Count",
          "Luke KPE Count",
          "Mark KPE Count",
          "John KPE Count"
         ],
         "yaxis": "y"
        },
        {
         "alignmentgroup": "True",
         "hovertemplate": "variable=great tribulation<br>value=%{x}<br>index=%{y}<extra></extra>",
         "legendgroup": "great tribulation",
         "marker": {
          "color": "#FECB52",
          "pattern": {
           "shape": ""
          }
         },
         "name": "great tribulation",
         "offsetgroup": "great tribulation",
         "orientation": "h",
         "showlegend": true,
         "textposition": "auto",
         "type": "bar",
         "x": [
          1,
          null,
          null,
          null
         ],
         "xaxis": "x",
         "y": [
          "Matthew KPE Count",
          "Luke KPE Count",
          "Mark KPE Count",
          "John KPE Count"
         ],
         "yaxis": "y"
        },
        {
         "alignmentgroup": "True",
         "hovertemplate": "variable=buildings<br>value=%{x}<br>index=%{y}<extra></extra>",
         "legendgroup": "buildings",
         "marker": {
          "color": "#636efa",
          "pattern": {
           "shape": ""
          }
         },
         "name": "buildings",
         "offsetgroup": "buildings",
         "orientation": "h",
         "showlegend": true,
         "textposition": "auto",
         "type": "bar",
         "x": [
          1,
          null,
          null,
          null
         ],
         "xaxis": "x",
         "y": [
          "Matthew KPE Count",
          "Luke KPE Count",
          "Mark KPE Count",
          "John KPE Count"
         ],
         "yaxis": "y"
        },
        {
         "alignmentgroup": "True",
         "hovertemplate": "variable=advent<br>value=%{x}<br>index=%{y}<extra></extra>",
         "legendgroup": "advent",
         "marker": {
          "color": "#EF553B",
          "pattern": {
           "shape": ""
          }
         },
         "name": "advent",
         "offsetgroup": "advent",
         "orientation": "h",
         "showlegend": true,
         "textposition": "auto",
         "type": "bar",
         "x": [
          1,
          null,
          1,
          null
         ],
         "xaxis": "x",
         "y": [
          "Matthew KPE Count",
          "Luke KPE Count",
          "Mark KPE Count",
          "John KPE Count"
         ],
         "yaxis": "y"
        },
        {
         "alignmentgroup": "True",
         "hovertemplate": "variable=battles<br>value=%{x}<br>index=%{y}<extra></extra>",
         "legendgroup": "battles",
         "marker": {
          "color": "#00cc96",
          "pattern": {
           "shape": ""
          }
         },
         "name": "battles",
         "offsetgroup": "battles",
         "orientation": "h",
         "showlegend": true,
         "textposition": "auto",
         "type": "bar",
         "x": [
          1,
          1,
          null,
          null
         ],
         "xaxis": "x",
         "y": [
          "Matthew KPE Count",
          "Luke KPE Count",
          "Mark KPE Count",
          "John KPE Count"
         ],
         "yaxis": "y"
        },
        {
         "alignmentgroup": "True",
         "hovertemplate": "variable=rumors<br>value=%{x}<br>index=%{y}<extra></extra>",
         "legendgroup": "rumors",
         "marker": {
          "color": "#ab63fa",
          "pattern": {
           "shape": ""
          }
         },
         "name": "rumors",
         "offsetgroup": "rumors",
         "orientation": "h",
         "showlegend": true,
         "textposition": "auto",
         "type": "bar",
         "x": [
          1,
          null,
          1,
          null
         ],
         "xaxis": "x",
         "y": [
          "Matthew KPE Count",
          "Luke KPE Count",
          "Mark KPE Count",
          "John KPE Count"
         ],
         "yaxis": "y"
        },
        {
         "alignmentgroup": "True",
         "hovertemplate": "variable=care<br>value=%{x}<br>index=%{y}<extra></extra>",
         "legendgroup": "care",
         "marker": {
          "color": "#FFA15A",
          "pattern": {
           "shape": ""
          }
         },
         "name": "care",
         "offsetgroup": "care",
         "orientation": "h",
         "showlegend": true,
         "textposition": "auto",
         "type": "bar",
         "x": [
          1,
          2,
          null,
          null
         ],
         "xaxis": "x",
         "y": [
          "Matthew KPE Count",
          "Luke KPE Count",
          "Mark KPE Count",
          "John KPE Count"
         ],
         "yaxis": "y"
        },
        {
         "alignmentgroup": "True",
         "hovertemplate": "variable=end<br>value=%{x}<br>index=%{y}<extra></extra>",
         "legendgroup": "end",
         "marker": {
          "color": "#19d3f3",
          "pattern": {
           "shape": ""
          }
         },
         "name": "end",
         "offsetgroup": "end",
         "orientation": "h",
         "showlegend": true,
         "textposition": "auto",
         "type": "bar",
         "x": [
          1,
          5,
          3,
          1
         ],
         "xaxis": "x",
         "y": [
          "Matthew KPE Count",
          "Luke KPE Count",
          "Mark KPE Count",
          "John KPE Count"
         ],
         "yaxis": "y"
        },
        {
         "alignmentgroup": "True",
         "hovertemplate": "variable=nation<br>value=%{x}<br>index=%{y}<extra></extra>",
         "legendgroup": "nation",
         "marker": {
          "color": "#FF6692",
          "pattern": {
           "shape": ""
          }
         },
         "name": "nation",
         "offsetgroup": "nation",
         "orientation": "h",
         "showlegend": true,
         "textposition": "auto",
         "type": "bar",
         "x": [
          1,
          1,
          1,
          1
         ],
         "xaxis": "x",
         "y": [
          "Matthew KPE Count",
          "Luke KPE Count",
          "Mark KPE Count",
          "John KPE Count"
         ],
         "yaxis": "y"
        },
        {
         "alignmentgroup": "True",
         "hovertemplate": "variable=pestilences<br>value=%{x}<br>index=%{y}<extra></extra>",
         "legendgroup": "pestilences",
         "marker": {
          "color": "#B6E880",
          "pattern": {
           "shape": ""
          }
         },
         "name": "pestilences",
         "offsetgroup": "pestilences",
         "orientation": "h",
         "showlegend": true,
         "textposition": "auto",
         "type": "bar",
         "x": [
          1,
          1,
          null,
          null
         ],
         "xaxis": "x",
         "y": [
          "Matthew KPE Count",
          "Luke KPE Count",
          "Mark KPE Count",
          "John KPE Count"
         ],
         "yaxis": "y"
        },
        {
         "alignmentgroup": "True",
         "hovertemplate": "variable=famines<br>value=%{x}<br>index=%{y}<extra></extra>",
         "legendgroup": "famines",
         "marker": {
          "color": "#FF97FF",
          "pattern": {
           "shape": ""
          }
         },
         "name": "famines",
         "offsetgroup": "famines",
         "orientation": "h",
         "showlegend": true,
         "textposition": "auto",
         "type": "bar",
         "x": [
          1,
          1,
          1,
          null
         ],
         "xaxis": "x",
         "y": [
          "Matthew KPE Count",
          "Luke KPE Count",
          "Mark KPE Count",
          "John KPE Count"
         ],
         "yaxis": "y"
        },
        {
         "alignmentgroup": "True",
         "hovertemplate": "variable=earthquakes<br>value=%{x}<br>index=%{y}<extra></extra>",
         "legendgroup": "earthquakes",
         "marker": {
          "color": "#FECB52",
          "pattern": {
           "shape": ""
          }
         },
         "name": "earthquakes",
         "offsetgroup": "earthquakes",
         "orientation": "h",
         "showlegend": true,
         "textposition": "auto",
         "type": "bar",
         "x": [
          1,
          null,
          1,
          null
         ],
         "xaxis": "x",
         "y": [
          "Matthew KPE Count",
          "Luke KPE Count",
          "Mark KPE Count",
          "John KPE Count"
         ],
         "yaxis": "y"
        },
        {
         "alignmentgroup": "True",
         "hovertemplate": "variable=places<br>value=%{x}<br>index=%{y}<extra></extra>",
         "legendgroup": "places",
         "marker": {
          "color": "#636efa",
          "pattern": {
           "shape": ""
          }
         },
         "name": "places",
         "offsetgroup": "places",
         "orientation": "h",
         "showlegend": true,
         "textposition": "auto",
         "type": "bar",
         "x": [
          1,
          null,
          null,
          null
         ],
         "xaxis": "x",
         "y": [
          "Matthew KPE Count",
          "Luke KPE Count",
          "Mark KPE Count",
          "John KPE Count"
         ],
         "yaxis": "y"
        },
        {
         "alignmentgroup": "True",
         "hovertemplate": "variable=sorrows<br>value=%{x}<br>index=%{y}<extra></extra>",
         "legendgroup": "sorrows",
         "marker": {
          "color": "#EF553B",
          "pattern": {
           "shape": ""
          }
         },
         "name": "sorrows",
         "offsetgroup": "sorrows",
         "orientation": "h",
         "showlegend": true,
         "textposition": "auto",
         "type": "bar",
         "x": [
          1,
          null,
          1,
          null
         ],
         "xaxis": "x",
         "y": [
          "Matthew KPE Count",
          "Luke KPE Count",
          "Mark KPE Count",
          "John KPE Count"
         ],
         "yaxis": "y"
        },
        {
         "alignmentgroup": "True",
         "hovertemplate": "variable=charity<br>value=%{x}<br>index=%{y}<extra></extra>",
         "legendgroup": "charity",
         "marker": {
          "color": "#00cc96",
          "pattern": {
           "shape": ""
          }
         },
         "name": "charity",
         "offsetgroup": "charity",
         "orientation": "h",
         "showlegend": true,
         "textposition": "auto",
         "type": "bar",
         "x": [
          1,
          null,
          null,
          null
         ],
         "xaxis": "x",
         "y": [
          "Matthew KPE Count",
          "Luke KPE Count",
          "Mark KPE Count",
          "John KPE Count"
         ],
         "yaxis": "y"
        },
        {
         "alignmentgroup": "True",
         "hovertemplate": "variable=desolation<br>value=%{x}<br>index=%{y}<extra></extra>",
         "legendgroup": "desolation",
         "marker": {
          "color": "#ab63fa",
          "pattern": {
           "shape": ""
          }
         },
         "name": "desolation",
         "offsetgroup": "desolation",
         "orientation": "h",
         "showlegend": true,
         "textposition": "auto",
         "type": "bar",
         "x": [
          1,
          1,
          1,
          null
         ],
         "xaxis": "x",
         "y": [
          "Matthew KPE Count",
          "Luke KPE Count",
          "Mark KPE Count",
          "John KPE Count"
         ],
         "yaxis": "y"
        },
        {
         "alignmentgroup": "True",
         "hovertemplate": "variable=flight<br>value=%{x}<br>index=%{y}<extra></extra>",
         "legendgroup": "flight",
         "marker": {
          "color": "#FFA15A",
          "pattern": {
           "shape": ""
          }
         },
         "name": "flight",
         "offsetgroup": "flight",
         "orientation": "h",
         "showlegend": true,
         "textposition": "auto",
         "type": "bar",
         "x": [
          1,
          null,
          null,
          null
         ],
         "xaxis": "x",
         "y": [
          "Matthew KPE Count",
          "Luke KPE Count",
          "Mark KPE Count",
          "John KPE Count"
         ],
         "yaxis": "y"
        },
        {
         "alignmentgroup": "True",
         "hovertemplate": "variable=winter<br>value=%{x}<br>index=%{y}<extra></extra>",
         "legendgroup": "winter",
         "marker": {
          "color": "#19d3f3",
          "pattern": {
           "shape": ""
          }
         },
         "name": "winter",
         "offsetgroup": "winter",
         "orientation": "h",
         "showlegend": true,
         "textposition": "auto",
         "type": "bar",
         "x": [
          1,
          null,
          1,
          null
         ],
         "xaxis": "x",
         "y": [
          "Matthew KPE Count",
          "Luke KPE Count",
          "Mark KPE Count",
          "John KPE Count"
         ],
         "yaxis": "y"
        },
        {
         "alignmentgroup": "True",
         "hovertemplate": "variable=present<br>value=%{x}<br>index=%{y}<extra></extra>",
         "legendgroup": "present",
         "marker": {
          "color": "#FF6692",
          "pattern": {
           "shape": ""
          }
         },
         "name": "present",
         "offsetgroup": "present",
         "orientation": "h",
         "showlegend": true,
         "textposition": "auto",
         "type": "bar",
         "x": [
          1,
          null,
          null,
          null
         ],
         "xaxis": "x",
         "y": [
          "Matthew KPE Count",
          "Luke KPE Count",
          "Mark KPE Count",
          "John KPE Count"
         ],
         "yaxis": "y"
        },
        {
         "alignmentgroup": "True",
         "hovertemplate": "variable=elect<br>value=%{x}<br>index=%{y}<extra></extra>",
         "legendgroup": "elect",
         "marker": {
          "color": "#B6E880",
          "pattern": {
           "shape": ""
          }
         },
         "name": "elect",
         "offsetgroup": "elect",
         "orientation": "h",
         "showlegend": true,
         "textposition": "auto",
         "type": "bar",
         "x": [
          1,
          2,
          1,
          null
         ],
         "xaxis": "x",
         "y": [
          "Matthew KPE Count",
          "Luke KPE Count",
          "Mark KPE Count",
          "John KPE Count"
         ],
         "yaxis": "y"
        },
        {
         "alignmentgroup": "True",
         "hovertemplate": "variable=wonders<br>value=%{x}<br>index=%{y}<extra></extra>",
         "legendgroup": "wonders",
         "marker": {
          "color": "#FF97FF",
          "pattern": {
           "shape": ""
          }
         },
         "name": "wonders",
         "offsetgroup": "wonders",
         "orientation": "h",
         "showlegend": true,
         "textposition": "auto",
         "type": "bar",
         "x": [
          1,
          null,
          1,
          null
         ],
         "xaxis": "x",
         "y": [
          "Matthew KPE Count",
          "Luke KPE Count",
          "Mark KPE Count",
          "John KPE Count"
         ],
         "yaxis": "y"
        },
        {
         "alignmentgroup": "True",
         "hovertemplate": "variable=error<br>value=%{x}<br>index=%{y}<extra></extra>",
         "legendgroup": "error",
         "marker": {
          "color": "#FECB52",
          "pattern": {
           "shape": ""
          }
         },
         "name": "error",
         "offsetgroup": "error",
         "orientation": "h",
         "showlegend": true,
         "textposition": "auto",
         "type": "bar",
         "x": [
          1,
          null,
          null,
          null
         ],
         "xaxis": "x",
         "y": [
          "Matthew KPE Count",
          "Luke KPE Count",
          "Mark KPE Count",
          "John KPE Count"
         ],
         "yaxis": "y"
        },
        {
         "alignmentgroup": "True",
         "hovertemplate": "variable=lightning<br>value=%{x}<br>index=%{y}<extra></extra>",
         "legendgroup": "lightning",
         "marker": {
          "color": "#636efa",
          "pattern": {
           "shape": ""
          }
         },
         "name": "lightning",
         "offsetgroup": "lightning",
         "orientation": "h",
         "showlegend": true,
         "textposition": "auto",
         "type": "bar",
         "x": [
          1,
          null,
          null,
          null
         ],
         "xaxis": "x",
         "y": [
          "Matthew KPE Count",
          "Luke KPE Count",
          "Mark KPE Count",
          "John KPE Count"
         ],
         "yaxis": "y"
        },
        {
         "alignmentgroup": "True",
         "hovertemplate": "variable=eagles<br>value=%{x}<br>index=%{y}<extra></extra>",
         "legendgroup": "eagles",
         "marker": {
          "color": "#EF553B",
          "pattern": {
           "shape": ""
          }
         },
         "name": "eagles",
         "offsetgroup": "eagles",
         "orientation": "h",
         "showlegend": true,
         "textposition": "auto",
         "type": "bar",
         "x": [
          1,
          1,
          null,
          null
         ],
         "xaxis": "x",
         "y": [
          "Matthew KPE Count",
          "Luke KPE Count",
          "Mark KPE Count",
          "John KPE Count"
         ],
         "yaxis": "y"
        },
        {
         "alignmentgroup": "True",
         "hovertemplate": "variable=moon<br>value=%{x}<br>index=%{y}<extra></extra>",
         "legendgroup": "moon",
         "marker": {
          "color": "#00cc96",
          "pattern": {
           "shape": ""
          }
         },
         "name": "moon",
         "offsetgroup": "moon",
         "orientation": "h",
         "showlegend": true,
         "textposition": "auto",
         "type": "bar",
         "x": [
          1,
          1,
          1,
          null
         ],
         "xaxis": "x",
         "y": [
          "Matthew KPE Count",
          "Luke KPE Count",
          "Mark KPE Count",
          "John KPE Count"
         ],
         "yaxis": "y"
        },
        {
         "alignmentgroup": "True",
         "hovertemplate": "variable=stars<br>value=%{x}<br>index=%{y}<extra></extra>",
         "legendgroup": "stars",
         "marker": {
          "color": "#ab63fa",
          "pattern": {
           "shape": ""
          }
         },
         "name": "stars",
         "offsetgroup": "stars",
         "orientation": "h",
         "showlegend": true,
         "textposition": "auto",
         "type": "bar",
         "x": [
          1,
          1,
          1,
          null
         ],
         "xaxis": "x",
         "y": [
          "Matthew KPE Count",
          "Luke KPE Count",
          "Mark KPE Count",
          "John KPE Count"
         ],
         "yaxis": "y"
        },
        {
         "alignmentgroup": "True",
         "hovertemplate": "variable=powers<br>value=%{x}<br>index=%{y}<extra></extra>",
         "legendgroup": "powers",
         "marker": {
          "color": "#FFA15A",
          "pattern": {
           "shape": ""
          }
         },
         "name": "powers",
         "offsetgroup": "powers",
         "orientation": "h",
         "showlegend": true,
         "textposition": "auto",
         "type": "bar",
         "x": [
          1,
          1,
          1,
          null
         ],
         "xaxis": "x",
         "y": [
          "Matthew KPE Count",
          "Luke KPE Count",
          "Mark KPE Count",
          "John KPE Count"
         ],
         "yaxis": "y"
        },
        {
         "alignmentgroup": "True",
         "hovertemplate": "variable=tribes<br>value=%{x}<br>index=%{y}<extra></extra>",
         "legendgroup": "tribes",
         "marker": {
          "color": "#19d3f3",
          "pattern": {
           "shape": ""
          }
         },
         "name": "tribes",
         "offsetgroup": "tribes",
         "orientation": "h",
         "showlegend": true,
         "textposition": "auto",
         "type": "bar",
         "x": [
          1,
          null,
          null,
          null
         ],
         "xaxis": "x",
         "y": [
          "Matthew KPE Count",
          "Luke KPE Count",
          "Mark KPE Count",
          "John KPE Count"
         ],
         "yaxis": "y"
        },
        {
         "alignmentgroup": "True",
         "hovertemplate": "variable=clouds<br>value=%{x}<br>index=%{y}<extra></extra>",
         "legendgroup": "clouds",
         "marker": {
          "color": "#FF6692",
          "pattern": {
           "shape": ""
          }
         },
         "name": "clouds",
         "offsetgroup": "clouds",
         "orientation": "h",
         "showlegend": true,
         "textposition": "auto",
         "type": "bar",
         "x": [
          1,
          null,
          1,
          null
         ],
         "xaxis": "x",
         "y": [
          "Matthew KPE Count",
          "Luke KPE Count",
          "Mark KPE Count",
          "John KPE Count"
         ],
         "yaxis": "y"
        },
        {
         "alignmentgroup": "True",
         "hovertemplate": "variable=heights<br>value=%{x}<br>index=%{y}<extra></extra>",
         "legendgroup": "heights",
         "marker": {
          "color": "#B6E880",
          "pattern": {
           "shape": ""
          }
         },
         "name": "heights",
         "offsetgroup": "heights",
         "orientation": "h",
         "showlegend": true,
         "textposition": "auto",
         "type": "bar",
         "x": [
          1,
          null,
          null,
          null
         ],
         "xaxis": "x",
         "y": [
          "Matthew KPE Count",
          "Luke KPE Count",
          "Mark KPE Count",
          "John KPE Count"
         ],
         "yaxis": "y"
        },
        {
         "alignmentgroup": "True",
         "hovertemplate": "variable=branch<br>value=%{x}<br>index=%{y}<extra></extra>",
         "legendgroup": "branch",
         "marker": {
          "color": "#FF97FF",
          "pattern": {
           "shape": ""
          }
         },
         "name": "branch",
         "offsetgroup": "branch",
         "orientation": "h",
         "showlegend": true,
         "textposition": "auto",
         "type": "bar",
         "x": [
          1,
          null,
          1,
          1
         ],
         "xaxis": "x",
         "y": [
          "Matthew KPE Count",
          "Luke KPE Count",
          "Mark KPE Count",
          "John KPE Count"
         ],
         "yaxis": "y"
        },
        {
         "alignmentgroup": "True",
         "hovertemplate": "variable=summer<br>value=%{x}<br>index=%{y}<extra></extra>",
         "legendgroup": "summer",
         "marker": {
          "color": "#FECB52",
          "pattern": {
           "shape": ""
          }
         },
         "name": "summer",
         "offsetgroup": "summer",
         "orientation": "h",
         "showlegend": true,
         "textposition": "auto",
         "type": "bar",
         "x": [
          1,
          1,
          1,
          null
         ],
         "xaxis": "x",
         "y": [
          "Matthew KPE Count",
          "Luke KPE Count",
          "Mark KPE Count",
          "John KPE Count"
         ],
         "yaxis": "y"
        },
        {
         "alignmentgroup": "True",
         "hovertemplate": "variable=threshold<br>value=%{x}<br>index=%{y}<extra></extra>",
         "legendgroup": "threshold",
         "marker": {
          "color": "#636efa",
          "pattern": {
           "shape": ""
          }
         },
         "name": "threshold",
         "offsetgroup": "threshold",
         "orientation": "h",
         "showlegend": true,
         "textposition": "auto",
         "type": "bar",
         "x": [
          1,
          null,
          null,
          null
         ],
         "xaxis": "x",
         "y": [
          "Matthew KPE Count",
          "Luke KPE Count",
          "Mark KPE Count",
          "John KPE Count"
         ],
         "yaxis": "y"
        },
        {
         "alignmentgroup": "True",
         "hovertemplate": "variable=Noah<br>value=%{x}<br>index=%{y}<extra></extra>",
         "legendgroup": "Noah",
         "marker": {
          "color": "#EF553B",
          "pattern": {
           "shape": ""
          }
         },
         "name": "Noah",
         "offsetgroup": "Noah",
         "orientation": "h",
         "showlegend": true,
         "textposition": "auto",
         "type": "bar",
         "x": [
          1,
          2,
          null,
          null
         ],
         "xaxis": "x",
         "y": [
          "Matthew KPE Count",
          "Luke KPE Count",
          "Mark KPE Count",
          "John KPE Count"
         ],
         "yaxis": "y"
        },
        {
         "alignmentgroup": "True",
         "hovertemplate": "variable=flood<br>value=%{x}<br>index=%{y}<extra></extra>",
         "legendgroup": "flood",
         "marker": {
          "color": "#00cc96",
          "pattern": {
           "shape": ""
          }
         },
         "name": "flood",
         "offsetgroup": "flood",
         "orientation": "h",
         "showlegend": true,
         "textposition": "auto",
         "type": "bar",
         "x": [
          1,
          1,
          null,
          null
         ],
         "xaxis": "x",
         "y": [
          "Matthew KPE Count",
          "Luke KPE Count",
          "Mark KPE Count",
          "John KPE Count"
         ],
         "yaxis": "y"
        },
        {
         "alignmentgroup": "True",
         "hovertemplate": "variable=ark<br>value=%{x}<br>index=%{y}<extra></extra>",
         "legendgroup": "ark",
         "marker": {
          "color": "#ab63fa",
          "pattern": {
           "shape": ""
          }
         },
         "name": "ark",
         "offsetgroup": "ark",
         "orientation": "h",
         "showlegend": true,
         "textposition": "auto",
         "type": "bar",
         "x": [
          1,
          1,
          null,
          null
         ],
         "xaxis": "x",
         "y": [
          "Matthew KPE Count",
          "Luke KPE Count",
          "Mark KPE Count",
          "John KPE Count"
         ],
         "yaxis": "y"
        },
        {
         "alignmentgroup": "True",
         "hovertemplate": "variable=thief<br>value=%{x}<br>index=%{y}<extra></extra>",
         "legendgroup": "thief",
         "marker": {
          "color": "#FFA15A",
          "pattern": {
           "shape": ""
          }
         },
         "name": "thief",
         "offsetgroup": "thief",
         "orientation": "h",
         "showlegend": true,
         "textposition": "auto",
         "type": "bar",
         "x": [
          1,
          1,
          null,
          1
         ],
         "xaxis": "x",
         "y": [
          "Matthew KPE Count",
          "Luke KPE Count",
          "Mark KPE Count",
          "John KPE Count"
         ],
         "yaxis": "y"
        },
        {
         "alignmentgroup": "True",
         "hovertemplate": "variable=faithful<br>value=%{x}<br>index=%{y}<extra></extra>",
         "legendgroup": "faithful",
         "marker": {
          "color": "#19d3f3",
          "pattern": {
           "shape": ""
          }
         },
         "name": "faithful",
         "offsetgroup": "faithful",
         "orientation": "h",
         "showlegend": true,
         "textposition": "auto",
         "type": "bar",
         "x": [
          1,
          null,
          null,
          null
         ],
         "xaxis": "x",
         "y": [
          "Matthew KPE Count",
          "Luke KPE Count",
          "Mark KPE Count",
          "John KPE Count"
         ],
         "yaxis": "y"
        },
        {
         "alignmentgroup": "True",
         "hovertemplate": "variable=prude<br>value=%{x}<br>index=%{y}<extra></extra>",
         "legendgroup": "prude",
         "marker": {
          "color": "#FF6692",
          "pattern": {
           "shape": ""
          }
         },
         "name": "prude",
         "offsetgroup": "prude",
         "orientation": "h",
         "showlegend": true,
         "textposition": "auto",
         "type": "bar",
         "x": [
          1,
          null,
          null,
          null
         ],
         "xaxis": "x",
         "y": [
          "Matthew KPE Count",
          "Luke KPE Count",
          "Mark KPE Count",
          "John KPE Count"
         ],
         "yaxis": "y"
        },
        {
         "alignmentgroup": "True",
         "hovertemplate": "variable=very end<br>value=%{x}<br>index=%{y}<extra></extra>",
         "legendgroup": "very end",
         "marker": {
          "color": "#B6E880",
          "pattern": {
           "shape": ""
          }
         },
         "name": "very end",
         "offsetgroup": "very end",
         "orientation": "h",
         "showlegend": true,
         "textposition": "auto",
         "type": "bar",
         "x": [
          1,
          null,
          1,
          null
         ],
         "xaxis": "x",
         "y": [
          "Matthew KPE Count",
          "Luke KPE Count",
          "Mark KPE Count",
          "John KPE Count"
         ],
         "yaxis": "y"
        },
        {
         "alignmentgroup": "True",
         "hovertemplate": "variable=long journey<br>value=%{x}<br>index=%{y}<extra></extra>",
         "legendgroup": "long journey",
         "marker": {
          "color": "#FF97FF",
          "pattern": {
           "shape": ""
          }
         },
         "name": "long journey",
         "offsetgroup": "long journey",
         "orientation": "h",
         "showlegend": true,
         "textposition": "auto",
         "type": "bar",
         "x": [
          1,
          1,
          1,
          null
         ],
         "xaxis": "x",
         "y": [
          "Matthew KPE Count",
          "Luke KPE Count",
          "Mark KPE Count",
          "John KPE Count"
         ],
         "yaxis": "y"
        },
        {
         "alignmentgroup": "True",
         "hovertemplate": "variable=five talents<br>value=%{x}<br>index=%{y}<extra></extra>",
         "legendgroup": "five talents",
         "marker": {
          "color": "#FECB52",
          "pattern": {
           "shape": ""
          }
         },
         "name": "five talents",
         "offsetgroup": "five talents",
         "orientation": "h",
         "showlegend": true,
         "textposition": "auto",
         "type": "bar",
         "x": [
          1,
          null,
          null,
          null
         ],
         "xaxis": "x",
         "y": [
          "Matthew KPE Count",
          "Luke KPE Count",
          "Mark KPE Count",
          "John KPE Count"
         ],
         "yaxis": "y"
        },
        {
         "alignmentgroup": "True",
         "hovertemplate": "variable=long time<br>value=%{x}<br>index=%{y}<extra></extra>",
         "legendgroup": "long time",
         "marker": {
          "color": "#636efa",
          "pattern": {
           "shape": ""
          }
         },
         "name": "long time",
         "offsetgroup": "long time",
         "orientation": "h",
         "showlegend": true,
         "textposition": "auto",
         "type": "bar",
         "x": [
          1,
          3,
          null,
          1
         ],
         "xaxis": "x",
         "y": [
          "Matthew KPE Count",
          "Luke KPE Count",
          "Mark KPE Count",
          "John KPE Count"
         ],
         "yaxis": "y"
        },
        {
         "alignmentgroup": "True",
         "hovertemplate": "variable=faithful servant<br>value=%{x}<br>index=%{y}<extra></extra>",
         "legendgroup": "faithful servant",
         "marker": {
          "color": "#EF553B",
          "pattern": {
           "shape": ""
          }
         },
         "name": "faithful servant",
         "offsetgroup": "faithful servant",
         "orientation": "h",
         "showlegend": true,
         "textposition": "auto",
         "type": "bar",
         "x": [
          1,
          null,
          null,
          null
         ],
         "xaxis": "x",
         "y": [
          "Matthew KPE Count",
          "Luke KPE Count",
          "Mark KPE Count",
          "John KPE Count"
         ],
         "yaxis": "y"
        },
        {
         "alignmentgroup": "True",
         "hovertemplate": "variable=two talents<br>value=%{x}<br>index=%{y}<extra></extra>",
         "legendgroup": "two talents",
         "marker": {
          "color": "#00cc96",
          "pattern": {
           "shape": ""
          }
         },
         "name": "two talents",
         "offsetgroup": "two talents",
         "orientation": "h",
         "showlegend": true,
         "textposition": "auto",
         "type": "bar",
         "x": [
          1,
          null,
          null,
          null
         ],
         "xaxis": "x",
         "y": [
          "Matthew KPE Count",
          "Luke KPE Count",
          "Mark KPE Count",
          "John KPE Count"
         ],
         "yaxis": "y"
        },
        {
         "alignmentgroup": "True",
         "hovertemplate": "variable=lazy servant<br>value=%{x}<br>index=%{y}<extra></extra>",
         "legendgroup": "lazy servant",
         "marker": {
          "color": "#ab63fa",
          "pattern": {
           "shape": ""
          }
         },
         "name": "lazy servant",
         "offsetgroup": "lazy servant",
         "orientation": "h",
         "showlegend": true,
         "textposition": "auto",
         "type": "bar",
         "x": [
          1,
          null,
          null,
          null
         ],
         "xaxis": "x",
         "y": [
          "Matthew KPE Count",
          "Luke KPE Count",
          "Mark KPE Count",
          "John KPE Count"
         ],
         "yaxis": "y"
        },
        {
         "alignmentgroup": "True",
         "hovertemplate": "variable=ten talents<br>value=%{x}<br>index=%{y}<extra></extra>",
         "legendgroup": "ten talents",
         "marker": {
          "color": "#FFA15A",
          "pattern": {
           "shape": ""
          }
         },
         "name": "ten talents",
         "offsetgroup": "ten talents",
         "orientation": "h",
         "showlegend": true,
         "textposition": "auto",
         "type": "bar",
         "x": [
          1,
          null,
          null,
          null
         ],
         "xaxis": "x",
         "y": [
          "Matthew KPE Count",
          "Luke KPE Count",
          "Mark KPE Count",
          "John KPE Count"
         ],
         "yaxis": "y"
        },
        {
         "alignmentgroup": "True",
         "hovertemplate": "variable=useless servant<br>value=%{x}<br>index=%{y}<extra></extra>",
         "legendgroup": "useless servant",
         "marker": {
          "color": "#19d3f3",
          "pattern": {
           "shape": ""
          }
         },
         "name": "useless servant",
         "offsetgroup": "useless servant",
         "orientation": "h",
         "showlegend": true,
         "textposition": "auto",
         "type": "bar",
         "x": [
          1,
          null,
          null,
          null
         ],
         "xaxis": "x",
         "y": [
          "Matthew KPE Count",
          "Luke KPE Count",
          "Mark KPE Count",
          "John KPE Count"
         ],
         "yaxis": "y"
        },
        {
         "alignmentgroup": "True",
         "hovertemplate": "variable=ten virgins<br>value=%{x}<br>index=%{y}<extra></extra>",
         "legendgroup": "ten virgins",
         "marker": {
          "color": "#FF6692",
          "pattern": {
           "shape": ""
          }
         },
         "name": "ten virgins",
         "offsetgroup": "ten virgins",
         "orientation": "h",
         "showlegend": true,
         "textposition": "auto",
         "type": "bar",
         "x": [
          1,
          null,
          null,
          null
         ],
         "xaxis": "x",
         "y": [
          "Matthew KPE Count",
          "Luke KPE Count",
          "Mark KPE Count",
          "John KPE Count"
         ],
         "yaxis": "y"
        },
        {
         "alignmentgroup": "True",
         "hovertemplate": "variable=remaining virgins<br>value=%{x}<br>index=%{y}<extra></extra>",
         "legendgroup": "remaining virgins",
         "marker": {
          "color": "#B6E880",
          "pattern": {
           "shape": ""
          }
         },
         "name": "remaining virgins",
         "offsetgroup": "remaining virgins",
         "orientation": "h",
         "showlegend": true,
         "textposition": "auto",
         "type": "bar",
         "x": [
          1,
          null,
          null,
          null
         ],
         "xaxis": "x",
         "y": [
          "Matthew KPE Count",
          "Luke KPE Count",
          "Mark KPE Count",
          "John KPE Count"
         ],
         "yaxis": "y"
        },
        {
         "alignmentgroup": "True",
         "hovertemplate": "variable=five foolish<br>value=%{x}<br>index=%{y}<extra></extra>",
         "legendgroup": "five foolish",
         "marker": {
          "color": "#FF97FF",
          "pattern": {
           "shape": ""
          }
         },
         "name": "five foolish",
         "offsetgroup": "five foolish",
         "orientation": "h",
         "showlegend": true,
         "textposition": "auto",
         "type": "bar",
         "x": [
          1,
          null,
          null,
          null
         ],
         "xaxis": "x",
         "y": [
          "Matthew KPE Count",
          "Luke KPE Count",
          "Mark KPE Count",
          "John KPE Count"
         ],
         "yaxis": "y"
        },
        {
         "alignmentgroup": "True",
         "hovertemplate": "variable=hard man<br>value=%{x}<br>index=%{y}<extra></extra>",
         "legendgroup": "hard man",
         "marker": {
          "color": "#FECB52",
          "pattern": {
           "shape": ""
          }
         },
         "name": "hard man",
         "offsetgroup": "hard man",
         "orientation": "h",
         "showlegend": true,
         "textposition": "auto",
         "type": "bar",
         "x": [
          1,
          null,
          null,
          null
         ],
         "xaxis": "x",
         "y": [
          "Matthew KPE Count",
          "Luke KPE Count",
          "Mark KPE Count",
          "John KPE Count"
         ],
         "yaxis": "y"
        },
        {
         "alignmentgroup": "True",
         "hovertemplate": "variable=one talent<br>value=%{x}<br>index=%{y}<extra></extra>",
         "legendgroup": "one talent",
         "marker": {
          "color": "#636efa",
          "pattern": {
           "shape": ""
          }
         },
         "name": "one talent",
         "offsetgroup": "one talent",
         "orientation": "h",
         "showlegend": true,
         "textposition": "auto",
         "type": "bar",
         "x": [
          1,
          null,
          null,
          null
         ],
         "xaxis": "x",
         "y": [
          "Matthew KPE Count",
          "Luke KPE Count",
          "Mark KPE Count",
          "John KPE Count"
         ],
         "yaxis": "y"
        },
        {
         "alignmentgroup": "True",
         "hovertemplate": "variable=lamps<br>value=%{x}<br>index=%{y}<extra></extra>",
         "legendgroup": "lamps",
         "marker": {
          "color": "#EF553B",
          "pattern": {
           "shape": ""
          }
         },
         "name": "lamps",
         "offsetgroup": "lamps",
         "orientation": "h",
         "showlegend": true,
         "textposition": "auto",
         "type": "bar",
         "x": [
          1,
          1,
          null,
          null
         ],
         "xaxis": "x",
         "y": [
          "Matthew KPE Count",
          "Luke KPE Count",
          "Mark KPE Count",
          "John KPE Count"
         ],
         "yaxis": "y"
        },
        {
         "alignmentgroup": "True",
         "hovertemplate": "variable=bride<br>value=%{x}<br>index=%{y}<extra></extra>",
         "legendgroup": "bride",
         "marker": {
          "color": "#00cc96",
          "pattern": {
           "shape": ""
          }
         },
         "name": "bride",
         "offsetgroup": "bride",
         "orientation": "h",
         "showlegend": true,
         "textposition": "auto",
         "type": "bar",
         "x": [
          1,
          null,
          null,
          1
         ],
         "xaxis": "x",
         "y": [
          "Matthew KPE Count",
          "Luke KPE Count",
          "Mark KPE Count",
          "John KPE Count"
         ],
         "yaxis": "y"
        },
        {
         "alignmentgroup": "True",
         "hovertemplate": "variable=oil<br>value=%{x}<br>index=%{y}<extra></extra>",
         "legendgroup": "oil",
         "marker": {
          "color": "#ab63fa",
          "pattern": {
           "shape": ""
          }
         },
         "name": "oil",
         "offsetgroup": "oil",
         "orientation": "h",
         "showlegend": true,
         "textposition": "auto",
         "type": "bar",
         "x": [
          1,
          1,
          1,
          null
         ],
         "xaxis": "x",
         "y": [
          "Matthew KPE Count",
          "Luke KPE Count",
          "Mark KPE Count",
          "John KPE Count"
         ],
         "yaxis": "y"
        },
        {
         "alignmentgroup": "True",
         "hovertemplate": "variable=containers<br>value=%{x}<br>index=%{y}<extra></extra>",
         "legendgroup": "containers",
         "marker": {
          "color": "#FFA15A",
          "pattern": {
           "shape": ""
          }
         },
         "name": "containers",
         "offsetgroup": "containers",
         "orientation": "h",
         "showlegend": true,
         "textposition": "auto",
         "type": "bar",
         "x": [
          1,
          null,
          null,
          null
         ],
         "xaxis": "x",
         "y": [
          "Matthew KPE Count",
          "Luke KPE Count",
          "Mark KPE Count",
          "John KPE Count"
         ],
         "yaxis": "y"
        },
        {
         "alignmentgroup": "True",
         "hovertemplate": "variable=middle<br>value=%{x}<br>index=%{y}<extra></extra>",
         "legendgroup": "middle",
         "marker": {
          "color": "#19d3f3",
          "pattern": {
           "shape": ""
          }
         },
         "name": "middle",
         "offsetgroup": "middle",
         "orientation": "h",
         "showlegend": true,
         "textposition": "auto",
         "type": "bar",
         "x": [
          1,
          3,
          2,
          2
         ],
         "xaxis": "x",
         "y": [
          "Matthew KPE Count",
          "Luke KPE Count",
          "Mark KPE Count",
          "John KPE Count"
         ],
         "yaxis": "y"
        },
        {
         "alignmentgroup": "True",
         "hovertemplate": "variable=cry<br>value=%{x}<br>index=%{y}<extra></extra>",
         "legendgroup": "cry",
         "marker": {
          "color": "#FF6692",
          "pattern": {
           "shape": ""
          }
         },
         "name": "cry",
         "offsetgroup": "cry",
         "orientation": "h",
         "showlegend": true,
         "textposition": "auto",
         "type": "bar",
         "x": [
          1,
          null,
          null,
          null
         ],
         "xaxis": "x",
         "y": [
          "Matthew KPE Count",
          "Luke KPE Count",
          "Mark KPE Count",
          "John KPE Count"
         ],
         "yaxis": "y"
        },
        {
         "alignmentgroup": "True",
         "hovertemplate": "variable=wedding<br>value=%{x}<br>index=%{y}<extra></extra>",
         "legendgroup": "wedding",
         "marker": {
          "color": "#B6E880",
          "pattern": {
           "shape": ""
          }
         },
         "name": "wedding",
         "offsetgroup": "wedding",
         "orientation": "h",
         "showlegend": true,
         "textposition": "auto",
         "type": "bar",
         "x": [
          1,
          2,
          1,
          1
         ],
         "xaxis": "x",
         "y": [
          "Matthew KPE Count",
          "Luke KPE Count",
          "Mark KPE Count",
          "John KPE Count"
         ],
         "yaxis": "y"
        },
        {
         "alignmentgroup": "True",
         "hovertemplate": "variable=goods<br>value=%{x}<br>index=%{y}<extra></extra>",
         "legendgroup": "goods",
         "marker": {
          "color": "#FF97FF",
          "pattern": {
           "shape": ""
          }
         },
         "name": "goods",
         "offsetgroup": "goods",
         "orientation": "h",
         "showlegend": true,
         "textposition": "auto",
         "type": "bar",
         "x": [
          1,
          3,
          1,
          null
         ],
         "xaxis": "x",
         "y": [
          "Matthew KPE Count",
          "Luke KPE Count",
          "Mark KPE Count",
          "John KPE Count"
         ],
         "yaxis": "y"
        },
        {
         "alignmentgroup": "True",
         "hovertemplate": "variable=ability<br>value=%{x}<br>index=%{y}<extra></extra>",
         "legendgroup": "ability",
         "marker": {
          "color": "#FECB52",
          "pattern": {
           "shape": ""
          }
         },
         "name": "ability",
         "offsetgroup": "ability",
         "orientation": "h",
         "showlegend": true,
         "textposition": "auto",
         "type": "bar",
         "x": [
          1,
          null,
          null,
          null
         ],
         "xaxis": "x",
         "y": [
          "Matthew KPE Count",
          "Luke KPE Count",
          "Mark KPE Count",
          "John KPE Count"
         ],
         "yaxis": "y"
        },
        {
         "alignmentgroup": "True",
         "hovertemplate": "variable=accounts<br>value=%{x}<br>index=%{y}<extra></extra>",
         "legendgroup": "accounts",
         "marker": {
          "color": "#636efa",
          "pattern": {
           "shape": ""
          }
         },
         "name": "accounts",
         "offsetgroup": "accounts",
         "orientation": "h",
         "showlegend": true,
         "textposition": "auto",
         "type": "bar",
         "x": [
          1,
          null,
          null,
          null
         ],
         "xaxis": "x",
         "y": [
          "Matthew KPE Count",
          "Luke KPE Count",
          "Mark KPE Count",
          "John KPE Count"
         ],
         "yaxis": "y"
        },
        {
         "alignmentgroup": "True",
         "hovertemplate": "variable=gladness<br>value=%{x}<br>index=%{y}<extra></extra>",
         "legendgroup": "gladness",
         "marker": {
          "color": "#EF553B",
          "pattern": {
           "shape": ""
          }
         },
         "name": "gladness",
         "offsetgroup": "gladness",
         "orientation": "h",
         "showlegend": true,
         "textposition": "auto",
         "type": "bar",
         "x": [
          1,
          null,
          1,
          null
         ],
         "xaxis": "x",
         "y": [
          "Matthew KPE Count",
          "Luke KPE Count",
          "Mark KPE Count",
          "John KPE Count"
         ],
         "yaxis": "y"
        },
        {
         "alignmentgroup": "True",
         "hovertemplate": "variable=bankers<br>value=%{x}<br>index=%{y}<extra></extra>",
         "legendgroup": "bankers",
         "marker": {
          "color": "#00cc96",
          "pattern": {
           "shape": ""
          }
         },
         "name": "bankers",
         "offsetgroup": "bankers",
         "orientation": "h",
         "showlegend": true,
         "textposition": "auto",
         "type": "bar",
         "x": [
          1,
          null,
          null,
          null
         ],
         "xaxis": "x",
         "y": [
          "Matthew KPE Count",
          "Luke KPE Count",
          "Mark KPE Count",
          "John KPE Count"
         ],
         "yaxis": "y"
        },
        {
         "alignmentgroup": "True",
         "hovertemplate": "variable=arrival<br>value=%{x}<br>index=%{y}<extra></extra>",
         "legendgroup": "arrival",
         "marker": {
          "color": "#ab63fa",
          "pattern": {
           "shape": ""
          }
         },
         "name": "arrival",
         "offsetgroup": "arrival",
         "orientation": "h",
         "showlegend": true,
         "textposition": "auto",
         "type": "bar",
         "x": [
          1,
          null,
          null,
          null
         ],
         "xaxis": "x",
         "y": [
          "Matthew KPE Count",
          "Luke KPE Count",
          "Mark KPE Count",
          "John KPE Count"
         ],
         "yaxis": "y"
        },
        {
         "alignmentgroup": "True",
         "hovertemplate": "variable=interest<br>value=%{x}<br>index=%{y}<extra></extra>",
         "legendgroup": "interest",
         "marker": {
          "color": "#FFA15A",
          "pattern": {
           "shape": ""
          }
         },
         "name": "interest",
         "offsetgroup": "interest",
         "orientation": "h",
         "showlegend": true,
         "textposition": "auto",
         "type": "bar",
         "x": [
          1,
          1,
          null,
          null
         ],
         "xaxis": "x",
         "y": [
          "Matthew KPE Count",
          "Luke KPE Count",
          "Mark KPE Count",
          "John KPE Count"
         ],
         "yaxis": "y"
        },
        {
         "alignmentgroup": "True",
         "hovertemplate": "variable=seat<br>value=%{x}<br>index=%{y}<extra></extra>",
         "legendgroup": "seat",
         "marker": {
          "color": "#19d3f3",
          "pattern": {
           "shape": ""
          }
         },
         "name": "seat",
         "offsetgroup": "seat",
         "orientation": "h",
         "showlegend": true,
         "textposition": "auto",
         "type": "bar",
         "x": [
          1,
          null,
          null,
          1
         ],
         "xaxis": "x",
         "y": [
          "Matthew KPE Count",
          "Luke KPE Count",
          "Mark KPE Count",
          "John KPE Count"
         ],
         "yaxis": "y"
        },
        {
         "alignmentgroup": "True",
         "hovertemplate": "variable=goats<br>value=%{x}<br>index=%{y}<extra></extra>",
         "legendgroup": "goats",
         "marker": {
          "color": "#FF6692",
          "pattern": {
           "shape": ""
          }
         },
         "name": "goats",
         "offsetgroup": "goats",
         "orientation": "h",
         "showlegend": true,
         "textposition": "auto",
         "type": "bar",
         "x": [
          1,
          null,
          null,
          null
         ],
         "xaxis": "x",
         "y": [
          "Matthew KPE Count",
          "Luke KPE Count",
          "Mark KPE Count",
          "John KPE Count"
         ],
         "yaxis": "y"
        },
        {
         "alignmentgroup": "True",
         "hovertemplate": "variable=right<br>value=%{x}<br>index=%{y}<extra></extra>",
         "legendgroup": "right",
         "marker": {
          "color": "#B6E880",
          "pattern": {
           "shape": ""
          }
         },
         "name": "right",
         "offsetgroup": "right",
         "orientation": "h",
         "showlegend": true,
         "textposition": "auto",
         "type": "bar",
         "x": [
          1,
          2,
          1,
          null
         ],
         "xaxis": "x",
         "y": [
          "Matthew KPE Count",
          "Luke KPE Count",
          "Mark KPE Count",
          "John KPE Count"
         ],
         "yaxis": "y"
        },
        {
         "alignmentgroup": "True",
         "hovertemplate": "variable=stranger<br>value=%{x}<br>index=%{y}<extra></extra>",
         "legendgroup": "stranger",
         "marker": {
          "color": "#FF97FF",
          "pattern": {
           "shape": ""
          }
         },
         "name": "stranger",
         "offsetgroup": "stranger",
         "orientation": "h",
         "showlegend": true,
         "textposition": "auto",
         "type": "bar",
         "x": [
          1,
          null,
          null,
          null
         ],
         "xaxis": "x",
         "y": [
          "Matthew KPE Count",
          "Luke KPE Count",
          "Mark KPE Count",
          "John KPE Count"
         ],
         "yaxis": "y"
        },
        {
         "alignmentgroup": "True",
         "hovertemplate": "variable=two days<br>value=%{x}<br>index=%{y}<extra></extra>",
         "legendgroup": "two days",
         "marker": {
          "color": "#FECB52",
          "pattern": {
           "shape": ""
          }
         },
         "name": "two days",
         "offsetgroup": "two days",
         "orientation": "h",
         "showlegend": true,
         "textposition": "auto",
         "type": "bar",
         "x": [
          1,
          null,
          null,
          2
         ],
         "xaxis": "x",
         "y": [
          "Matthew KPE Count",
          "Luke KPE Count",
          "Mark KPE Count",
          "John KPE Count"
         ],
         "yaxis": "y"
        },
        {
         "alignmentgroup": "True",
         "hovertemplate": "variable=high priest<br>value=%{x}<br>index=%{y}<extra></extra>",
         "legendgroup": "high priest",
         "marker": {
          "color": "#636efa",
          "pattern": {
           "shape": ""
          }
         },
         "name": "high priest",
         "offsetgroup": "high priest",
         "orientation": "h",
         "showlegend": true,
         "textposition": "auto",
         "type": "bar",
         "x": [
          1,
          null,
          1,
          null
         ],
         "xaxis": "x",
         "y": [
          "Matthew KPE Count",
          "Luke KPE Count",
          "Mark KPE Count",
          "John KPE Count"
         ],
         "yaxis": "y"
        },
        {
         "alignmentgroup": "True",
         "hovertemplate": "variable=alabaster box<br>value=%{x}<br>index=%{y}<extra></extra>",
         "legendgroup": "alabaster box",
         "marker": {
          "color": "#EF553B",
          "pattern": {
           "shape": ""
          }
         },
         "name": "alabaster box",
         "offsetgroup": "alabaster box",
         "orientation": "h",
         "showlegend": true,
         "textposition": "auto",
         "type": "bar",
         "x": [
          1,
          null,
          null,
          null
         ],
         "xaxis": "x",
         "y": [
          "Matthew KPE Count",
          "Luke KPE Count",
          "Mark KPE Count",
          "John KPE Count"
         ],
         "yaxis": "y"
        },
        {
         "alignmentgroup": "True",
         "hovertemplate": "variable=great deal<br>value=%{x}<br>index=%{y}<extra></extra>",
         "legendgroup": "great deal",
         "marker": {
          "color": "#00cc96",
          "pattern": {
           "shape": ""
          }
         },
         "name": "great deal",
         "offsetgroup": "great deal",
         "orientation": "h",
         "showlegend": true,
         "textposition": "auto",
         "type": "bar",
         "x": [
          1,
          null,
          null,
          null
         ],
         "xaxis": "x",
         "y": [
          "Matthew KPE Count",
          "Luke KPE Count",
          "Mark KPE Count",
          "John KPE Count"
         ],
         "yaxis": "y"
        },
        {
         "alignmentgroup": "True",
         "hovertemplate": "variable=good deed<br>value=%{x}<br>index=%{y}<extra></extra>",
         "legendgroup": "good deed",
         "marker": {
          "color": "#ab63fa",
          "pattern": {
           "shape": ""
          }
         },
         "name": "good deed",
         "offsetgroup": "good deed",
         "orientation": "h",
         "showlegend": true,
         "textposition": "auto",
         "type": "bar",
         "x": [
          1,
          null,
          1,
          null
         ],
         "xaxis": "x",
         "y": [
          "Matthew KPE Count",
          "Luke KPE Count",
          "Mark KPE Count",
          "John KPE Count"
         ],
         "yaxis": "y"
        },
        {
         "alignmentgroup": "True",
         "hovertemplate": "variable=new covenant<br>value=%{x}<br>index=%{y}<extra></extra>",
         "legendgroup": "new covenant",
         "marker": {
          "color": "#FFA15A",
          "pattern": {
           "shape": ""
          }
         },
         "name": "new covenant",
         "offsetgroup": "new covenant",
         "orientation": "h",
         "showlegend": true,
         "textposition": "auto",
         "type": "bar",
         "x": [
          1,
          1,
          1,
          null
         ],
         "xaxis": "x",
         "y": [
          "Matthew KPE Count",
          "Luke KPE Count",
          "Mark KPE Count",
          "John KPE Count"
         ],
         "yaxis": "y"
        },
        {
         "alignmentgroup": "True",
         "hovertemplate": "variable=rooster crows<br>value=%{x}<br>index=%{y}<extra></extra>",
         "legendgroup": "rooster crows",
         "marker": {
          "color": "#19d3f3",
          "pattern": {
           "shape": ""
          }
         },
         "name": "rooster crows",
         "offsetgroup": "rooster crows",
         "orientation": "h",
         "showlegend": true,
         "textposition": "auto",
         "type": "bar",
         "x": [
          1,
          null,
          null,
          null
         ],
         "xaxis": "x",
         "y": [
          "Matthew KPE Count",
          "Luke KPE Count",
          "Mark KPE Count",
          "John KPE Count"
         ],
         "yaxis": "y"
        },
        {
         "alignmentgroup": "True",
         "hovertemplate": "variable=feast day<br>value=%{x}<br>index=%{y}<extra></extra>",
         "legendgroup": "feast day",
         "marker": {
          "color": "#FF6692",
          "pattern": {
           "shape": ""
          }
         },
         "name": "feast day",
         "offsetgroup": "feast day",
         "orientation": "h",
         "showlegend": true,
         "textposition": "auto",
         "type": "bar",
         "x": [
          1,
          2,
          2,
          6
         ],
         "xaxis": "x",
         "y": [
          "Matthew KPE Count",
          "Luke KPE Count",
          "Mark KPE Count",
          "John KPE Count"
         ],
         "yaxis": "y"
        },
        {
         "alignmentgroup": "True",
         "hovertemplate": "variable=first day<br>value=%{x}<br>index=%{y}<extra></extra>",
         "legendgroup": "first day",
         "marker": {
          "color": "#B6E880",
          "pattern": {
           "shape": ""
          }
         },
         "name": "first day",
         "offsetgroup": "first day",
         "orientation": "h",
         "showlegend": true,
         "textposition": "auto",
         "type": "bar",
         "x": [
          1,
          null,
          1,
          null
         ],
         "xaxis": "x",
         "y": [
          "Matthew KPE Count",
          "Luke KPE Count",
          "Mark KPE Count",
          "John KPE Count"
         ],
         "yaxis": "y"
        },
        {
         "alignmentgroup": "True",
         "hovertemplate": "variable=precious ointment<br>value=%{x}<br>index=%{y}<extra></extra>",
         "legendgroup": "precious ointment",
         "marker": {
          "color": "#FF97FF",
          "pattern": {
           "shape": ""
          }
         },
         "name": "precious ointment",
         "offsetgroup": "precious ointment",
         "orientation": "h",
         "showlegend": true,
         "textposition": "auto",
         "type": "bar",
         "x": [
          1,
          null,
          null,
          null
         ],
         "xaxis": "x",
         "y": [
          "Matthew KPE Count",
          "Luke KPE Count",
          "Mark KPE Count",
          "John KPE Count"
         ],
         "yaxis": "y"
        },
        {
         "alignmentgroup": "True",
         "hovertemplate": "variable=Unleavened Bread<br>value=%{x}<br>index=%{y}<extra></extra>",
         "legendgroup": "Unleavened Bread",
         "marker": {
          "color": "#FECB52",
          "pattern": {
           "shape": ""
          }
         },
         "name": "Unleavened Bread",
         "offsetgroup": "Unleavened Bread",
         "orientation": "h",
         "showlegend": true,
         "textposition": "auto",
         "type": "bar",
         "x": [
          1,
          1,
          1,
          null
         ],
         "xaxis": "x",
         "y": [
          "Matthew KPE Count",
          "Luke KPE Count",
          "Mark KPE Count",
          "John KPE Count"
         ],
         "yaxis": "y"
        },
        {
         "alignmentgroup": "True",
         "hovertemplate": "variable=third time<br>value=%{x}<br>index=%{y}<extra></extra>",
         "legendgroup": "third time",
         "marker": {
          "color": "#636efa",
          "pattern": {
           "shape": ""
          }
         },
         "name": "third time",
         "offsetgroup": "third time",
         "orientation": "h",
         "showlegend": true,
         "textposition": "auto",
         "type": "bar",
         "x": [
          1,
          null,
          1,
          1
         ],
         "xaxis": "x",
         "y": [
          "Matthew KPE Count",
          "Luke KPE Count",
          "Mark KPE Count",
          "John KPE Count"
         ],
         "yaxis": "y"
        },
        {
         "alignmentgroup": "True",
         "hovertemplate": "variable=same words<br>value=%{x}<br>index=%{y}<extra></extra>",
         "legendgroup": "same words",
         "marker": {
          "color": "#EF553B",
          "pattern": {
           "shape": ""
          }
         },
         "name": "same words",
         "offsetgroup": "same words",
         "orientation": "h",
         "showlegend": true,
         "textposition": "auto",
         "type": "bar",
         "x": [
          1,
          null,
          1,
          null
         ],
         "xaxis": "x",
         "y": [
          "Matthew KPE Count",
          "Luke KPE Count",
          "Mark KPE Count",
          "John KPE Count"
         ],
         "yaxis": "y"
        },
        {
         "alignmentgroup": "True",
         "hovertemplate": "variable=one hour<br>value=%{x}<br>index=%{y}<extra></extra>",
         "legendgroup": "one hour",
         "marker": {
          "color": "#00cc96",
          "pattern": {
           "shape": ""
          }
         },
         "name": "one hour",
         "offsetgroup": "one hour",
         "orientation": "h",
         "showlegend": true,
         "textposition": "auto",
         "type": "bar",
         "x": [
          1,
          null,
          1,
          null
         ],
         "xaxis": "x",
         "y": [
          "Matthew KPE Count",
          "Luke KPE Count",
          "Mark KPE Count",
          "John KPE Count"
         ],
         "yaxis": "y"
        },
        {
         "alignmentgroup": "True",
         "hovertemplate": "variable=Passover<br>value=%{x}<br>index=%{y}<extra></extra>",
         "legendgroup": "Passover",
         "marker": {
          "color": "#ab63fa",
          "pattern": {
           "shape": ""
          }
         },
         "name": "Passover",
         "offsetgroup": "Passover",
         "orientation": "h",
         "showlegend": true,
         "textposition": "auto",
         "type": "bar",
         "x": [
          1,
          2,
          1,
          6
         ],
         "xaxis": "x",
         "y": [
          "Matthew KPE Count",
          "Luke KPE Count",
          "Mark KPE Count",
          "John KPE Count"
         ],
         "yaxis": "y"
        },
        {
         "alignmentgroup": "True",
         "hovertemplate": "variable=court<br>value=%{x}<br>index=%{y}<extra></extra>",
         "legendgroup": "court",
         "marker": {
          "color": "#FFA15A",
          "pattern": {
           "shape": ""
          }
         },
         "name": "court",
         "offsetgroup": "court",
         "orientation": "h",
         "showlegend": true,
         "textposition": "auto",
         "type": "bar",
         "x": [
          1,
          null,
          1,
          1
         ],
         "xaxis": "x",
         "y": [
          "Matthew KPE Count",
          "Luke KPE Count",
          "Mark KPE Count",
          "John KPE Count"
         ],
         "yaxis": "y"
        },
        {
         "alignmentgroup": "True",
         "hovertemplate": "variable=deceitfulness<br>value=%{x}<br>index=%{y}<extra></extra>",
         "legendgroup": "deceitfulness",
         "marker": {
          "color": "#19d3f3",
          "pattern": {
           "shape": ""
          }
         },
         "name": "deceitfulness",
         "offsetgroup": "deceitfulness",
         "orientation": "h",
         "showlegend": true,
         "textposition": "auto",
         "type": "bar",
         "x": [
          1,
          null,
          1,
          null
         ],
         "xaxis": "x",
         "y": [
          "Matthew KPE Count",
          "Luke KPE Count",
          "Mark KPE Count",
          "John KPE Count"
         ],
         "yaxis": "y"
        },
        {
         "alignmentgroup": "True",
         "hovertemplate": "variable=tumult<br>value=%{x}<br>index=%{y}<extra></extra>",
         "legendgroup": "tumult",
         "marker": {
          "color": "#FF6692",
          "pattern": {
           "shape": ""
          }
         },
         "name": "tumult",
         "offsetgroup": "tumult",
         "orientation": "h",
         "showlegend": true,
         "textposition": "auto",
         "type": "bar",
         "x": [
          1,
          null,
          2,
          null
         ],
         "xaxis": "x",
         "y": [
          "Matthew KPE Count",
          "Luke KPE Count",
          "Mark KPE Count",
          "John KPE Count"
         ],
         "yaxis": "y"
        },
        {
         "alignmentgroup": "True",
         "hovertemplate": "variable=purpose<br>value=%{x}<br>index=%{y}<extra></extra>",
         "legendgroup": "purpose",
         "marker": {
          "color": "#B6E880",
          "pattern": {
           "shape": ""
          }
         },
         "name": "purpose",
         "offsetgroup": "purpose",
         "orientation": "h",
         "showlegend": true,
         "textposition": "auto",
         "type": "bar",
         "x": [
          1,
          null,
          null,
          null
         ],
         "xaxis": "x",
         "y": [
          "Matthew KPE Count",
          "Luke KPE Count",
          "Mark KPE Count",
          "John KPE Count"
         ],
         "yaxis": "y"
        },
        {
         "alignmentgroup": "True",
         "hovertemplate": "variable=waste<br>value=%{x}<br>index=%{y}<extra></extra>",
         "legendgroup": "waste",
         "marker": {
          "color": "#FF97FF",
          "pattern": {
           "shape": ""
          }
         },
         "name": "waste",
         "offsetgroup": "waste",
         "orientation": "h",
         "showlegend": true,
         "textposition": "auto",
         "type": "bar",
         "x": [
          1,
          null,
          1,
          null
         ],
         "xaxis": "x",
         "y": [
          "Matthew KPE Count",
          "Luke KPE Count",
          "Mark KPE Count",
          "John KPE Count"
         ],
         "yaxis": "y"
        },
        {
         "alignmentgroup": "True",
         "hovertemplate": "variable=burial<br>value=%{x}<br>index=%{y}<extra></extra>",
         "legendgroup": "burial",
         "marker": {
          "color": "#FECB52",
          "pattern": {
           "shape": ""
          }
         },
         "name": "burial",
         "offsetgroup": "burial",
         "orientation": "h",
         "showlegend": true,
         "textposition": "auto",
         "type": "bar",
         "x": [
          1,
          null,
          1,
          1
         ],
         "xaxis": "x",
         "y": [
          "Matthew KPE Count",
          "Luke KPE Count",
          "Mark KPE Count",
          "John KPE Count"
         ],
         "yaxis": "y"
        },
        {
         "alignmentgroup": "True",
         "hovertemplate": "variable=memory<br>value=%{x}<br>index=%{y}<extra></extra>",
         "legendgroup": "memory",
         "marker": {
          "color": "#636efa",
          "pattern": {
           "shape": ""
          }
         },
         "name": "memory",
         "offsetgroup": "memory",
         "orientation": "h",
         "showlegend": true,
         "textposition": "auto",
         "type": "bar",
         "x": [
          1,
          null,
          1,
          null
         ],
         "xaxis": "x",
         "y": [
          "Matthew KPE Count",
          "Luke KPE Count",
          "Mark KPE Count",
          "John KPE Count"
         ],
         "yaxis": "y"
        },
        {
         "alignmentgroup": "True",
         "hovertemplate": "variable=opportunity<br>value=%{x}<br>index=%{y}<extra></extra>",
         "legendgroup": "opportunity",
         "marker": {
          "color": "#EF553B",
          "pattern": {
           "shape": ""
          }
         },
         "name": "opportunity",
         "offsetgroup": "opportunity",
         "orientation": "h",
         "showlegend": true,
         "textposition": "auto",
         "type": "bar",
         "x": [
          1,
          2,
          null,
          null
         ],
         "xaxis": "x",
         "y": [
          "Matthew KPE Count",
          "Luke KPE Count",
          "Mark KPE Count",
          "John KPE Count"
         ],
         "yaxis": "y"
        },
        {
         "alignmentgroup": "True",
         "hovertemplate": "variable=chalice<br>value=%{x}<br>index=%{y}<extra></extra>",
         "legendgroup": "chalice",
         "marker": {
          "color": "#00cc96",
          "pattern": {
           "shape": ""
          }
         },
         "name": "chalice",
         "offsetgroup": "chalice",
         "orientation": "h",
         "showlegend": true,
         "textposition": "auto",
         "type": "bar",
         "x": [
          1,
          1,
          1,
          1
         ],
         "xaxis": "x",
         "y": [
          "Matthew KPE Count",
          "Luke KPE Count",
          "Mark KPE Count",
          "John KPE Count"
         ],
         "yaxis": "y"
        },
        {
         "alignmentgroup": "True",
         "hovertemplate": "variable=remission<br>value=%{x}<br>index=%{y}<extra></extra>",
         "legendgroup": "remission",
         "marker": {
          "color": "#ab63fa",
          "pattern": {
           "shape": ""
          }
         },
         "name": "remission",
         "offsetgroup": "remission",
         "orientation": "h",
         "showlegend": true,
         "textposition": "auto",
         "type": "bar",
         "x": [
          1,
          1,
          1,
          null
         ],
         "xaxis": "x",
         "y": [
          "Matthew KPE Count",
          "Luke KPE Count",
          "Mark KPE Count",
          "John KPE Count"
         ],
         "yaxis": "y"
        },
        {
         "alignmentgroup": "True",
         "hovertemplate": "variable=vine<br>value=%{x}<br>index=%{y}<extra></extra>",
         "legendgroup": "vine",
         "marker": {
          "color": "#FFA15A",
          "pattern": {
           "shape": ""
          }
         },
         "name": "vine",
         "offsetgroup": "vine",
         "orientation": "h",
         "showlegend": true,
         "textposition": "auto",
         "type": "bar",
         "x": [
          1,
          1,
          1,
          null
         ],
         "xaxis": "x",
         "y": [
          "Matthew KPE Count",
          "Luke KPE Count",
          "Mark KPE Count",
          "John KPE Count"
         ],
         "yaxis": "y"
        },
        {
         "alignmentgroup": "True",
         "hovertemplate": "variable=hymn<br>value=%{x}<br>index=%{y}<extra></extra>",
         "legendgroup": "hymn",
         "marker": {
          "color": "#19d3f3",
          "pattern": {
           "shape": ""
          }
         },
         "name": "hymn",
         "offsetgroup": "hymn",
         "orientation": "h",
         "showlegend": true,
         "textposition": "auto",
         "type": "bar",
         "x": [
          1,
          null,
          1,
          null
         ],
         "xaxis": "x",
         "y": [
          "Matthew KPE Count",
          "Luke KPE Count",
          "Mark KPE Count",
          "John KPE Count"
         ],
         "yaxis": "y"
        },
        {
         "alignmentgroup": "True",
         "hovertemplate": "variable=flock<br>value=%{x}<br>index=%{y}<extra></extra>",
         "legendgroup": "flock",
         "marker": {
          "color": "#FF6692",
          "pattern": {
           "shape": ""
          }
         },
         "name": "flock",
         "offsetgroup": "flock",
         "orientation": "h",
         "showlegend": true,
         "textposition": "auto",
         "type": "bar",
         "x": [
          1,
          1,
          null,
          null
         ],
         "xaxis": "x",
         "y": [
          "Matthew KPE Count",
          "Luke KPE Count",
          "Mark KPE Count",
          "John KPE Count"
         ],
         "yaxis": "y"
        },
        {
         "alignmentgroup": "True",
         "hovertemplate": "variable=garden<br>value=%{x}<br>index=%{y}<extra></extra>",
         "legendgroup": "garden",
         "marker": {
          "color": "#B6E880",
          "pattern": {
           "shape": ""
          }
         },
         "name": "garden",
         "offsetgroup": "garden",
         "orientation": "h",
         "showlegend": true,
         "textposition": "auto",
         "type": "bar",
         "x": [
          1,
          1,
          null,
          1
         ],
         "xaxis": "x",
         "y": [
          "Matthew KPE Count",
          "Luke KPE Count",
          "Mark KPE Count",
          "John KPE Count"
         ],
         "yaxis": "y"
        },
        {
         "alignmentgroup": "True",
         "hovertemplate": "variable=notorious prisoner<br>value=%{x}<br>index=%{y}<extra></extra>",
         "legendgroup": "notorious prisoner",
         "marker": {
          "color": "#FF97FF",
          "pattern": {
           "shape": ""
          }
         },
         "name": "notorious prisoner",
         "offsetgroup": "notorious prisoner",
         "orientation": "h",
         "showlegend": true,
         "textposition": "auto",
         "type": "bar",
         "x": [
          1,
          null,
          null,
          null
         ],
         "xaxis": "x",
         "y": [
          "Matthew KPE Count",
          "Luke KPE Count",
          "Mark KPE Count",
          "John KPE Count"
         ],
         "yaxis": "y"
        },
        {
         "alignmentgroup": "True",
         "hovertemplate": "variable=greater tumult<br>value=%{x}<br>index=%{y}<extra></extra>",
         "legendgroup": "greater tumult",
         "marker": {
          "color": "#FECB52",
          "pattern": {
           "shape": ""
          }
         },
         "name": "greater tumult",
         "offsetgroup": "greater tumult",
         "orientation": "h",
         "showlegend": true,
         "textposition": "auto",
         "type": "bar",
         "x": [
          1,
          null,
          null,
          null
         ],
         "xaxis": "x",
         "y": [
          "Matthew KPE Count",
          "Luke KPE Count",
          "Mark KPE Count",
          "John KPE Count"
         ],
         "yaxis": "y"
        },
        {
         "alignmentgroup": "True",
         "hovertemplate": "variable=entire cohort<br>value=%{x}<br>index=%{y}<extra></extra>",
         "legendgroup": "entire cohort",
         "marker": {
          "color": "#636efa",
          "pattern": {
           "shape": ""
          }
         },
         "name": "entire cohort",
         "offsetgroup": "entire cohort",
         "orientation": "h",
         "showlegend": true,
         "textposition": "auto",
         "type": "bar",
         "x": [
          1,
          null,
          1,
          null
         ],
         "xaxis": "x",
         "y": [
          "Matthew KPE Count",
          "Luke KPE Count",
          "Mark KPE Count",
          "John KPE Count"
         ],
         "yaxis": "y"
        },
        {
         "alignmentgroup": "True",
         "hovertemplate": "variable=solemn day<br>value=%{x}<br>index=%{y}<extra></extra>",
         "legendgroup": "solemn day",
         "marker": {
          "color": "#EF553B",
          "pattern": {
           "shape": ""
          }
         },
         "name": "solemn day",
         "offsetgroup": "solemn day",
         "orientation": "h",
         "showlegend": true,
         "textposition": "auto",
         "type": "bar",
         "x": [
          1,
          null,
          null,
          null
         ],
         "xaxis": "x",
         "y": [
          "Matthew KPE Count",
          "Luke KPE Count",
          "Mark KPE Count",
          "John KPE Count"
         ],
         "yaxis": "y"
        },
        {
         "alignmentgroup": "True",
         "hovertemplate": "variable=one prisoner<br>value=%{x}<br>index=%{y}<extra></extra>",
         "legendgroup": "one prisoner",
         "marker": {
          "color": "#00cc96",
          "pattern": {
           "shape": ""
          }
         },
         "name": "one prisoner",
         "offsetgroup": "one prisoner",
         "orientation": "h",
         "showlegend": true,
         "textposition": "auto",
         "type": "bar",
         "x": [
          1,
          null,
          null,
          null
         ],
         "xaxis": "x",
         "y": [
          "Matthew KPE Count",
          "Luke KPE Count",
          "Mark KPE Count",
          "John KPE Count"
         ],
         "yaxis": "y"
        },
        {
         "alignmentgroup": "True",
         "hovertemplate": "variable=scarlet cloak<br>value=%{x}<br>index=%{y}<extra></extra>",
         "legendgroup": "scarlet cloak",
         "marker": {
          "color": "#ab63fa",
          "pattern": {
           "shape": ""
          }
         },
         "name": "scarlet cloak",
         "offsetgroup": "scarlet cloak",
         "orientation": "h",
         "showlegend": true,
         "textposition": "auto",
         "type": "bar",
         "x": [
          1,
          null,
          null,
          null
         ],
         "xaxis": "x",
         "y": [
          "Matthew KPE Count",
          "Luke KPE Count",
          "Mark KPE Count",
          "John KPE Count"
         ],
         "yaxis": "y"
        },
        {
         "alignmentgroup": "True",
         "hovertemplate": "variable=two robbers<br>value=%{x}<br>index=%{y}<extra></extra>",
         "legendgroup": "two robbers",
         "marker": {
          "color": "#FFA15A",
          "pattern": {
           "shape": ""
          }
         },
         "name": "two robbers",
         "offsetgroup": "two robbers",
         "orientation": "h",
         "showlegend": true,
         "textposition": "auto",
         "type": "bar",
         "x": [
          1,
          null,
          1,
          null
         ],
         "xaxis": "x",
         "y": [
          "Matthew KPE Count",
          "Luke KPE Count",
          "Mark KPE Count",
          "John KPE Count"
         ],
         "yaxis": "y"
        },
        {
         "alignmentgroup": "True",
         "hovertemplate": "variable=temple offerings<br>value=%{x}<br>index=%{y}<extra></extra>",
         "legendgroup": "temple offerings",
         "marker": {
          "color": "#19d3f3",
          "pattern": {
           "shape": ""
          }
         },
         "name": "temple offerings",
         "offsetgroup": "temple offerings",
         "orientation": "h",
         "showlegend": true,
         "textposition": "auto",
         "type": "bar",
         "x": [
          1,
          null,
          null,
          null
         ],
         "xaxis": "x",
         "y": [
          "Matthew KPE Count",
          "Luke KPE Count",
          "Mark KPE Count",
          "John KPE Count"
         ],
         "yaxis": "y"
        },
        {
         "alignmentgroup": "True",
         "hovertemplate": "variable=burying place<br>value=%{x}<br>index=%{y}<extra></extra>",
         "legendgroup": "burying place",
         "marker": {
          "color": "#FF6692",
          "pattern": {
           "shape": ""
          }
         },
         "name": "burying place",
         "offsetgroup": "burying place",
         "orientation": "h",
         "showlegend": true,
         "textposition": "auto",
         "type": "bar",
         "x": [
          1,
          null,
          null,
          null
         ],
         "xaxis": "x",
         "y": [
          "Matthew KPE Count",
          "Luke KPE Count",
          "Mark KPE Count",
          "John KPE Count"
         ],
         "yaxis": "y"
        },
        {
         "alignmentgroup": "True",
         "hovertemplate": "variable=Pontius Pilate<br>value=%{x}<br>index=%{y}<extra></extra>",
         "legendgroup": "Pontius Pilate",
         "marker": {
          "color": "#B6E880",
          "pattern": {
           "shape": ""
          }
         },
         "name": "Pontius Pilate",
         "offsetgroup": "Pontius Pilate",
         "orientation": "h",
         "showlegend": true,
         "textposition": "auto",
         "type": "bar",
         "x": [
          1,
          1,
          null,
          null
         ],
         "xaxis": "x",
         "y": [
          "Matthew KPE Count",
          "Luke KPE Count",
          "Mark KPE Count",
          "John KPE Count"
         ],
         "yaxis": "y"
        },
        {
         "alignmentgroup": "True",
         "hovertemplate": "variable=entire people<br>value=%{x}<br>index=%{y}<extra></extra>",
         "legendgroup": "entire people",
         "marker": {
          "color": "#FF97FF",
          "pattern": {
           "shape": ""
          }
         },
         "name": "entire people",
         "offsetgroup": "entire people",
         "orientation": "h",
         "showlegend": true,
         "textposition": "auto",
         "type": "bar",
         "x": [
          1,
          null,
          null,
          null
         ],
         "xaxis": "x",
         "y": [
          "Matthew KPE Count",
          "Luke KPE Count",
          "Mark KPE Count",
          "John KPE Count"
         ],
         "yaxis": "y"
        },
        {
         "alignmentgroup": "True",
         "hovertemplate": "variable=conduct<br>value=%{x}<br>index=%{y}<extra></extra>",
         "legendgroup": "conduct",
         "marker": {
          "color": "#FECB52",
          "pattern": {
           "shape": ""
          }
         },
         "name": "conduct",
         "offsetgroup": "conduct",
         "orientation": "h",
         "showlegend": true,
         "textposition": "auto",
         "type": "bar",
         "x": [
          1,
          null,
          null,
          null
         ],
         "xaxis": "x",
         "y": [
          "Matthew KPE Count",
          "Luke KPE Count",
          "Mark KPE Count",
          "John KPE Count"
         ],
         "yaxis": "y"
        },
        {
         "alignmentgroup": "True",
         "hovertemplate": "variable=snare<br>value=%{x}<br>index=%{y}<extra></extra>",
         "legendgroup": "snare",
         "marker": {
          "color": "#636efa",
          "pattern": {
           "shape": ""
          }
         },
         "name": "snare",
         "offsetgroup": "snare",
         "orientation": "h",
         "showlegend": true,
         "textposition": "auto",
         "type": "bar",
         "x": [
          1,
          1,
          null,
          null
         ],
         "xaxis": "x",
         "y": [
          "Matthew KPE Count",
          "Luke KPE Count",
          "Mark KPE Count",
          "John KPE Count"
         ],
         "yaxis": "y"
        },
        {
         "alignmentgroup": "True",
         "hovertemplate": "variable=price<br>value=%{x}<br>index=%{y}<extra></extra>",
         "legendgroup": "price",
         "marker": {
          "color": "#EF553B",
          "pattern": {
           "shape": ""
          }
         },
         "name": "price",
         "offsetgroup": "price",
         "orientation": "h",
         "showlegend": true,
         "textposition": "auto",
         "type": "bar",
         "x": [
          1,
          null,
          null,
          null
         ],
         "xaxis": "x",
         "y": [
          "Matthew KPE Count",
          "Luke KPE Count",
          "Mark KPE Count",
          "John KPE Count"
         ],
         "yaxis": "y"
        },
        {
         "alignmentgroup": "True",
         "hovertemplate": "variable=potter<br>value=%{x}<br>index=%{y}<extra></extra>",
         "legendgroup": "potter",
         "marker": {
          "color": "#00cc96",
          "pattern": {
           "shape": ""
          }
         },
         "name": "potter",
         "offsetgroup": "potter",
         "orientation": "h",
         "showlegend": true,
         "textposition": "auto",
         "type": "bar",
         "x": [
          1,
          null,
          null,
          null
         ],
         "xaxis": "x",
         "y": [
          "Matthew KPE Count",
          "Luke KPE Count",
          "Mark KPE Count",
          "John KPE Count"
         ],
         "yaxis": "y"
        },
        {
         "alignmentgroup": "True",
         "hovertemplate": "variable=sojourners<br>value=%{x}<br>index=%{y}<extra></extra>",
         "legendgroup": "sojourners",
         "marker": {
          "color": "#ab63fa",
          "pattern": {
           "shape": ""
          }
         },
         "name": "sojourners",
         "offsetgroup": "sojourners",
         "orientation": "h",
         "showlegend": true,
         "textposition": "auto",
         "type": "bar",
         "x": [
          1,
          null,
          null,
          null
         ],
         "xaxis": "x",
         "y": [
          "Matthew KPE Count",
          "Luke KPE Count",
          "Mark KPE Count",
          "John KPE Count"
         ],
         "yaxis": "y"
        },
        {
         "alignmentgroup": "True",
         "hovertemplate": "variable=Barabbas<br>value=%{x}<br>index=%{y}<extra></extra>",
         "legendgroup": "Barabbas",
         "marker": {
          "color": "#FFA15A",
          "pattern": {
           "shape": ""
          }
         },
         "name": "Barabbas",
         "offsetgroup": "Barabbas",
         "orientation": "h",
         "showlegend": true,
         "textposition": "auto",
         "type": "bar",
         "x": [
          1,
          1,
          1,
          null
         ],
         "xaxis": "x",
         "y": [
          "Matthew KPE Count",
          "Luke KPE Count",
          "Mark KPE Count",
          "John KPE Count"
         ],
         "yaxis": "y"
        },
        {
         "alignmentgroup": "True",
         "hovertemplate": "variable=envy<br>value=%{x}<br>index=%{y}<extra></extra>",
         "legendgroup": "envy",
         "marker": {
          "color": "#19d3f3",
          "pattern": {
           "shape": ""
          }
         },
         "name": "envy",
         "offsetgroup": "envy",
         "orientation": "h",
         "showlegend": true,
         "textposition": "auto",
         "type": "bar",
         "x": [
          1,
          null,
          1,
          null
         ],
         "xaxis": "x",
         "y": [
          "Matthew KPE Count",
          "Luke KPE Count",
          "Mark KPE Count",
          "John KPE Count"
         ],
         "yaxis": "y"
        },
        {
         "alignmentgroup": "True",
         "hovertemplate": "variable=tribunal<br>value=%{x}<br>index=%{y}<extra></extra>",
         "legendgroup": "tribunal",
         "marker": {
          "color": "#FF6692",
          "pattern": {
           "shape": ""
          }
         },
         "name": "tribunal",
         "offsetgroup": "tribunal",
         "orientation": "h",
         "showlegend": true,
         "textposition": "auto",
         "type": "bar",
         "x": [
          1,
          null,
          null,
          null
         ],
         "xaxis": "x",
         "y": [
          "Matthew KPE Count",
          "Luke KPE Count",
          "Mark KPE Count",
          "John KPE Count"
         ],
         "yaxis": "y"
        },
        {
         "alignmentgroup": "True",
         "hovertemplate": "variable=praetorium<br>value=%{x}<br>index=%{y}<extra></extra>",
         "legendgroup": "praetorium",
         "marker": {
          "color": "#B6E880",
          "pattern": {
           "shape": ""
          }
         },
         "name": "praetorium",
         "offsetgroup": "praetorium",
         "orientation": "h",
         "showlegend": true,
         "textposition": "auto",
         "type": "bar",
         "x": [
          1,
          null,
          1,
          2
         ],
         "xaxis": "x",
         "y": [
          "Matthew KPE Count",
          "Luke KPE Count",
          "Mark KPE Count",
          "John KPE Count"
         ],
         "yaxis": "y"
        },
        {
         "alignmentgroup": "True",
         "hovertemplate": "variable=crown<br>value=%{x}<br>index=%{y}<extra></extra>",
         "legendgroup": "crown",
         "marker": {
          "color": "#FF97FF",
          "pattern": {
           "shape": ""
          }
         },
         "name": "crown",
         "offsetgroup": "crown",
         "orientation": "h",
         "showlegend": true,
         "textposition": "auto",
         "type": "bar",
         "x": [
          1,
          null,
          1,
          1
         ],
         "xaxis": "x",
         "y": [
          "Matthew KPE Count",
          "Luke KPE Count",
          "Mark KPE Count",
          "John KPE Count"
         ],
         "yaxis": "y"
        },
        {
         "alignmentgroup": "True",
         "hovertemplate": "variable=Cyrene<br>value=%{x}<br>index=%{y}<extra></extra>",
         "legendgroup": "Cyrene",
         "marker": {
          "color": "#FECB52",
          "pattern": {
           "shape": ""
          }
         },
         "name": "Cyrene",
         "offsetgroup": "Cyrene",
         "orientation": "h",
         "showlegend": true,
         "textposition": "auto",
         "type": "bar",
         "x": [
          1,
          1,
          null,
          null
         ],
         "xaxis": "x",
         "y": [
          "Matthew KPE Count",
          "Luke KPE Count",
          "Mark KPE Count",
          "John KPE Count"
         ],
         "yaxis": "y"
        },
        {
         "alignmentgroup": "True",
         "hovertemplate": "variable=Calvary<br>value=%{x}<br>index=%{y}<extra></extra>",
         "legendgroup": "Calvary",
         "marker": {
          "color": "#636efa",
          "pattern": {
           "shape": ""
          }
         },
         "name": "Calvary",
         "offsetgroup": "Calvary",
         "orientation": "h",
         "showlegend": true,
         "textposition": "auto",
         "type": "bar",
         "x": [
          1,
          null,
          1,
          null
         ],
         "xaxis": "x",
         "y": [
          "Matthew KPE Count",
          "Luke KPE Count",
          "Mark KPE Count",
          "John KPE Count"
         ],
         "yaxis": "y"
        },
        {
         "alignmentgroup": "True",
         "hovertemplate": "variable=gall<br>value=%{x}<br>index=%{y}<extra></extra>",
         "legendgroup": "gall",
         "marker": {
          "color": "#EF553B",
          "pattern": {
           "shape": ""
          }
         },
         "name": "gall",
         "offsetgroup": "gall",
         "orientation": "h",
         "showlegend": true,
         "textposition": "auto",
         "type": "bar",
         "x": [
          1,
          null,
          null,
          null
         ],
         "xaxis": "x",
         "y": [
          "Matthew KPE Count",
          "Luke KPE Count",
          "Mark KPE Count",
          "John KPE Count"
         ],
         "yaxis": "y"
        },
        {
         "alignmentgroup": "True",
         "hovertemplate": "variable=lots<br>value=%{x}<br>index=%{y}<extra></extra>",
         "legendgroup": "lots",
         "marker": {
          "color": "#00cc96",
          "pattern": {
           "shape": ""
          }
         },
         "name": "lots",
         "offsetgroup": "lots",
         "orientation": "h",
         "showlegend": true,
         "textposition": "auto",
         "type": "bar",
         "x": [
          1,
          1,
          1,
          1
         ],
         "xaxis": "x",
         "y": [
          "Matthew KPE Count",
          "Luke KPE Count",
          "Mark KPE Count",
          "John KPE Count"
         ],
         "yaxis": "y"
        },
        {
         "alignmentgroup": "True",
         "hovertemplate": "variable=accusation<br>value=%{x}<br>index=%{y}<extra></extra>",
         "legendgroup": "accusation",
         "marker": {
          "color": "#ab63fa",
          "pattern": {
           "shape": ""
          }
         },
         "name": "accusation",
         "offsetgroup": "accusation",
         "orientation": "h",
         "showlegend": true,
         "textposition": "auto",
         "type": "bar",
         "x": [
          1,
          1,
          null,
          1
         ],
         "xaxis": "x",
         "y": [
          "Matthew KPE Count",
          "Luke KPE Count",
          "Mark KPE Count",
          "John KPE Count"
         ],
         "yaxis": "y"
        },
        {
         "alignmentgroup": "True",
         "hovertemplate": "variable=THE<br>value=%{x}<br>index=%{y}<extra></extra>",
         "legendgroup": "THE",
         "marker": {
          "color": "#FFA15A",
          "pattern": {
           "shape": ""
          }
         },
         "name": "THE",
         "offsetgroup": "THE",
         "orientation": "h",
         "showlegend": true,
         "textposition": "auto",
         "type": "bar",
         "x": [
          1,
          null,
          null,
          null
         ],
         "xaxis": "x",
         "y": [
          "Matthew KPE Count",
          "Luke KPE Count",
          "Mark KPE Count",
          "John KPE Count"
         ],
         "yaxis": "y"
        },
        {
         "alignmentgroup": "True",
         "hovertemplate": "variable=self<br>value=%{x}<br>index=%{y}<extra></extra>",
         "legendgroup": "self",
         "marker": {
          "color": "#19d3f3",
          "pattern": {
           "shape": ""
          }
         },
         "name": "self",
         "offsetgroup": "self",
         "orientation": "h",
         "showlegend": true,
         "textposition": "auto",
         "type": "bar",
         "x": [
          1,
          null,
          1,
          1
         ],
         "xaxis": "x",
         "y": [
          "Matthew KPE Count",
          "Luke KPE Count",
          "Mark KPE Count",
          "John KPE Count"
         ],
         "yaxis": "y"
        },
        {
         "alignmentgroup": "True",
         "hovertemplate": "variable=Mary Magdalene<br>value=%{x}<br>index=%{y}<extra></extra>",
         "legendgroup": "Mary Magdalene",
         "marker": {
          "color": "#FF6692",
          "pattern": {
           "shape": ""
          }
         },
         "name": "Mary Magdalene",
         "offsetgroup": "Mary Magdalene",
         "orientation": "h",
         "showlegend": true,
         "textposition": "auto",
         "type": "bar",
         "x": [
          1,
          1,
          2,
          1
         ],
         "xaxis": "x",
         "y": [
          "Matthew KPE Count",
          "Luke KPE Count",
          "Mark KPE Count",
          "John KPE Count"
         ],
         "yaxis": "y"
        },
        {
         "alignmentgroup": "True",
         "hovertemplate": "variable=other Mary<br>value=%{x}<br>index=%{y}<extra></extra>",
         "legendgroup": "other Mary",
         "marker": {
          "color": "#B6E880",
          "pattern": {
           "shape": ""
          }
         },
         "name": "other Mary",
         "offsetgroup": "other Mary",
         "orientation": "h",
         "showlegend": true,
         "textposition": "auto",
         "type": "bar",
         "x": [
          1,
          null,
          null,
          null
         ],
         "xaxis": "x",
         "y": [
          "Matthew KPE Count",
          "Luke KPE Count",
          "Mark KPE Count",
          "John KPE Count"
         ],
         "yaxis": "y"
        },
        {
         "alignmentgroup": "True",
         "hovertemplate": "variable=great earthquake<br>value=%{x}<br>index=%{y}<extra></extra>",
         "legendgroup": "great earthquake",
         "marker": {
          "color": "#FF97FF",
          "pattern": {
           "shape": ""
          }
         },
         "name": "great earthquake",
         "offsetgroup": "great earthquake",
         "orientation": "h",
         "showlegend": true,
         "textposition": "auto",
         "type": "bar",
         "x": [
          1,
          null,
          null,
          null
         ],
         "xaxis": "x",
         "y": [
          "Matthew KPE Count",
          "Luke KPE Count",
          "Mark KPE Count",
          "John KPE Count"
         ],
         "yaxis": "y"
        },
        {
         "alignmentgroup": "True",
         "hovertemplate": "variable=dead men<br>value=%{x}<br>index=%{y}<extra></extra>",
         "legendgroup": "dead men",
         "marker": {
          "color": "#FECB52",
          "pattern": {
           "shape": ""
          }
         },
         "name": "dead men",
         "offsetgroup": "dead men",
         "orientation": "h",
         "showlegend": true,
         "textposition": "auto",
         "type": "bar",
         "x": [
          1,
          null,
          null,
          null
         ],
         "xaxis": "x",
         "y": [
          "Matthew KPE Count",
          "Luke KPE Count",
          "Mark KPE Count",
          "John KPE Count"
         ],
         "yaxis": "y"
        },
        {
         "alignmentgroup": "True",
         "hovertemplate": "variable=abundant sum<br>value=%{x}<br>index=%{y}<extra></extra>",
         "legendgroup": "abundant sum",
         "marker": {
          "color": "#636efa",
          "pattern": {
           "shape": ""
          }
         },
         "name": "abundant sum",
         "offsetgroup": "abundant sum",
         "orientation": "h",
         "showlegend": true,
         "textposition": "auto",
         "type": "bar",
         "x": [
          1,
          null,
          null,
          null
         ],
         "xaxis": "x",
         "y": [
          "Matthew KPE Count",
          "Luke KPE Count",
          "Mark KPE Count",
          "John KPE Count"
         ],
         "yaxis": "y"
        },
        {
         "alignmentgroup": "True",
         "hovertemplate": "variable=first Sabbath<br>value=%{x}<br>index=%{y}<extra></extra>",
         "legendgroup": "first Sabbath",
         "marker": {
          "color": "#EF553B",
          "pattern": {
           "shape": ""
          }
         },
         "name": "first Sabbath",
         "offsetgroup": "first Sabbath",
         "orientation": "h",
         "showlegend": true,
         "textposition": "auto",
         "type": "bar",
         "x": [
          1,
          1,
          1,
          null
         ],
         "xaxis": "x",
         "y": [
          "Matthew KPE Count",
          "Luke KPE Count",
          "Mark KPE Count",
          "John KPE Count"
         ],
         "yaxis": "y"
        },
        {
         "alignmentgroup": "True",
         "hovertemplate": "variable=eleven disciples<br>value=%{x}<br>index=%{y}<extra></extra>",
         "legendgroup": "eleven disciples",
         "marker": {
          "color": "#00cc96",
          "pattern": {
           "shape": ""
          }
         },
         "name": "eleven disciples",
         "offsetgroup": "eleven disciples",
         "orientation": "h",
         "showlegend": true,
         "textposition": "auto",
         "type": "bar",
         "x": [
          1,
          null,
          null,
          null
         ],
         "xaxis": "x",
         "y": [
          "Matthew KPE Count",
          "Luke KPE Count",
          "Mark KPE Count",
          "John KPE Count"
         ],
         "yaxis": "y"
        },
        {
         "alignmentgroup": "True",
         "hovertemplate": "variable=sepulcher<br>value=%{x}<br>index=%{y}<extra></extra>",
         "legendgroup": "sepulcher",
         "marker": {
          "color": "#ab63fa",
          "pattern": {
           "shape": ""
          }
         },
         "name": "sepulcher",
         "offsetgroup": "sepulcher",
         "orientation": "h",
         "showlegend": true,
         "textposition": "auto",
         "type": "bar",
         "x": [
          1,
          null,
          1,
          null
         ],
         "xaxis": "x",
         "y": [
          "Matthew KPE Count",
          "Luke KPE Count",
          "Mark KPE Count",
          "John KPE Count"
         ],
         "yaxis": "y"
        },
        {
         "alignmentgroup": "True",
         "hovertemplate": "variable=guards<br>value=%{x}<br>index=%{y}<extra></extra>",
         "legendgroup": "guards",
         "marker": {
          "color": "#FFA15A",
          "pattern": {
           "shape": ""
          }
         },
         "name": "guards",
         "offsetgroup": "guards",
         "orientation": "h",
         "showlegend": true,
         "textposition": "auto",
         "type": "bar",
         "x": [
          1,
          null,
          null,
          null
         ],
         "xaxis": "x",
         "y": [
          "Matthew KPE Count",
          "Luke KPE Count",
          "Mark KPE Count",
          "John KPE Count"
         ],
         "yaxis": "y"
        },
        {
         "alignmentgroup": "True",
         "hovertemplate": "variable=tomb<br>value=%{x}<br>index=%{y}<extra></extra>",
         "legendgroup": "tomb",
         "marker": {
          "color": "#19d3f3",
          "pattern": {
           "shape": ""
          }
         },
         "name": "tomb",
         "offsetgroup": "tomb",
         "orientation": "h",
         "showlegend": true,
         "textposition": "auto",
         "type": "bar",
         "x": [
          1,
          1,
          3,
          2
         ],
         "xaxis": "x",
         "y": [
          "Matthew KPE Count",
          "Luke KPE Count",
          "Mark KPE Count",
          "John KPE Count"
         ],
         "yaxis": "y"
        }
       ],
       "layout": {
        "barmode": "relative",
        "legend": {
         "title": {
          "text": "variable"
         },
         "tracegroupgap": 0
        },
        "margin": {
         "t": 60
        },
        "template": {
         "data": {
          "bar": [
           {
            "error_x": {
             "color": "#2a3f5f"
            },
            "error_y": {
             "color": "#2a3f5f"
            },
            "marker": {
             "line": {
              "color": "#E5ECF6",
              "width": 0.5
             },
             "pattern": {
              "fillmode": "overlay",
              "size": 10,
              "solidity": 0.2
             }
            },
            "type": "bar"
           }
          ],
          "barpolar": [
           {
            "marker": {
             "line": {
              "color": "#E5ECF6",
              "width": 0.5
             },
             "pattern": {
              "fillmode": "overlay",
              "size": 10,
              "solidity": 0.2
             }
            },
            "type": "barpolar"
           }
          ],
          "carpet": [
           {
            "aaxis": {
             "endlinecolor": "#2a3f5f",
             "gridcolor": "white",
             "linecolor": "white",
             "minorgridcolor": "white",
             "startlinecolor": "#2a3f5f"
            },
            "baxis": {
             "endlinecolor": "#2a3f5f",
             "gridcolor": "white",
             "linecolor": "white",
             "minorgridcolor": "white",
             "startlinecolor": "#2a3f5f"
            },
            "type": "carpet"
           }
          ],
          "choropleth": [
           {
            "colorbar": {
             "outlinewidth": 0,
             "ticks": ""
            },
            "type": "choropleth"
           }
          ],
          "contour": [
           {
            "colorbar": {
             "outlinewidth": 0,
             "ticks": ""
            },
            "colorscale": [
             [
              0,
              "#0d0887"
             ],
             [
              0.1111111111111111,
              "#46039f"
             ],
             [
              0.2222222222222222,
              "#7201a8"
             ],
             [
              0.3333333333333333,
              "#9c179e"
             ],
             [
              0.4444444444444444,
              "#bd3786"
             ],
             [
              0.5555555555555556,
              "#d8576b"
             ],
             [
              0.6666666666666666,
              "#ed7953"
             ],
             [
              0.7777777777777778,
              "#fb9f3a"
             ],
             [
              0.8888888888888888,
              "#fdca26"
             ],
             [
              1,
              "#f0f921"
             ]
            ],
            "type": "contour"
           }
          ],
          "contourcarpet": [
           {
            "colorbar": {
             "outlinewidth": 0,
             "ticks": ""
            },
            "type": "contourcarpet"
           }
          ],
          "heatmap": [
           {
            "colorbar": {
             "outlinewidth": 0,
             "ticks": ""
            },
            "colorscale": [
             [
              0,
              "#0d0887"
             ],
             [
              0.1111111111111111,
              "#46039f"
             ],
             [
              0.2222222222222222,
              "#7201a8"
             ],
             [
              0.3333333333333333,
              "#9c179e"
             ],
             [
              0.4444444444444444,
              "#bd3786"
             ],
             [
              0.5555555555555556,
              "#d8576b"
             ],
             [
              0.6666666666666666,
              "#ed7953"
             ],
             [
              0.7777777777777778,
              "#fb9f3a"
             ],
             [
              0.8888888888888888,
              "#fdca26"
             ],
             [
              1,
              "#f0f921"
             ]
            ],
            "type": "heatmap"
           }
          ],
          "heatmapgl": [
           {
            "colorbar": {
             "outlinewidth": 0,
             "ticks": ""
            },
            "colorscale": [
             [
              0,
              "#0d0887"
             ],
             [
              0.1111111111111111,
              "#46039f"
             ],
             [
              0.2222222222222222,
              "#7201a8"
             ],
             [
              0.3333333333333333,
              "#9c179e"
             ],
             [
              0.4444444444444444,
              "#bd3786"
             ],
             [
              0.5555555555555556,
              "#d8576b"
             ],
             [
              0.6666666666666666,
              "#ed7953"
             ],
             [
              0.7777777777777778,
              "#fb9f3a"
             ],
             [
              0.8888888888888888,
              "#fdca26"
             ],
             [
              1,
              "#f0f921"
             ]
            ],
            "type": "heatmapgl"
           }
          ],
          "histogram": [
           {
            "marker": {
             "pattern": {
              "fillmode": "overlay",
              "size": 10,
              "solidity": 0.2
             }
            },
            "type": "histogram"
           }
          ],
          "histogram2d": [
           {
            "colorbar": {
             "outlinewidth": 0,
             "ticks": ""
            },
            "colorscale": [
             [
              0,
              "#0d0887"
             ],
             [
              0.1111111111111111,
              "#46039f"
             ],
             [
              0.2222222222222222,
              "#7201a8"
             ],
             [
              0.3333333333333333,
              "#9c179e"
             ],
             [
              0.4444444444444444,
              "#bd3786"
             ],
             [
              0.5555555555555556,
              "#d8576b"
             ],
             [
              0.6666666666666666,
              "#ed7953"
             ],
             [
              0.7777777777777778,
              "#fb9f3a"
             ],
             [
              0.8888888888888888,
              "#fdca26"
             ],
             [
              1,
              "#f0f921"
             ]
            ],
            "type": "histogram2d"
           }
          ],
          "histogram2dcontour": [
           {
            "colorbar": {
             "outlinewidth": 0,
             "ticks": ""
            },
            "colorscale": [
             [
              0,
              "#0d0887"
             ],
             [
              0.1111111111111111,
              "#46039f"
             ],
             [
              0.2222222222222222,
              "#7201a8"
             ],
             [
              0.3333333333333333,
              "#9c179e"
             ],
             [
              0.4444444444444444,
              "#bd3786"
             ],
             [
              0.5555555555555556,
              "#d8576b"
             ],
             [
              0.6666666666666666,
              "#ed7953"
             ],
             [
              0.7777777777777778,
              "#fb9f3a"
             ],
             [
              0.8888888888888888,
              "#fdca26"
             ],
             [
              1,
              "#f0f921"
             ]
            ],
            "type": "histogram2dcontour"
           }
          ],
          "mesh3d": [
           {
            "colorbar": {
             "outlinewidth": 0,
             "ticks": ""
            },
            "type": "mesh3d"
           }
          ],
          "parcoords": [
           {
            "line": {
             "colorbar": {
              "outlinewidth": 0,
              "ticks": ""
             }
            },
            "type": "parcoords"
           }
          ],
          "pie": [
           {
            "automargin": true,
            "type": "pie"
           }
          ],
          "scatter": [
           {
            "fillpattern": {
             "fillmode": "overlay",
             "size": 10,
             "solidity": 0.2
            },
            "type": "scatter"
           }
          ],
          "scatter3d": [
           {
            "line": {
             "colorbar": {
              "outlinewidth": 0,
              "ticks": ""
             }
            },
            "marker": {
             "colorbar": {
              "outlinewidth": 0,
              "ticks": ""
             }
            },
            "type": "scatter3d"
           }
          ],
          "scattercarpet": [
           {
            "marker": {
             "colorbar": {
              "outlinewidth": 0,
              "ticks": ""
             }
            },
            "type": "scattercarpet"
           }
          ],
          "scattergeo": [
           {
            "marker": {
             "colorbar": {
              "outlinewidth": 0,
              "ticks": ""
             }
            },
            "type": "scattergeo"
           }
          ],
          "scattergl": [
           {
            "marker": {
             "colorbar": {
              "outlinewidth": 0,
              "ticks": ""
             }
            },
            "type": "scattergl"
           }
          ],
          "scattermapbox": [
           {
            "marker": {
             "colorbar": {
              "outlinewidth": 0,
              "ticks": ""
             }
            },
            "type": "scattermapbox"
           }
          ],
          "scatterpolar": [
           {
            "marker": {
             "colorbar": {
              "outlinewidth": 0,
              "ticks": ""
             }
            },
            "type": "scatterpolar"
           }
          ],
          "scatterpolargl": [
           {
            "marker": {
             "colorbar": {
              "outlinewidth": 0,
              "ticks": ""
             }
            },
            "type": "scatterpolargl"
           }
          ],
          "scatterternary": [
           {
            "marker": {
             "colorbar": {
              "outlinewidth": 0,
              "ticks": ""
             }
            },
            "type": "scatterternary"
           }
          ],
          "surface": [
           {
            "colorbar": {
             "outlinewidth": 0,
             "ticks": ""
            },
            "colorscale": [
             [
              0,
              "#0d0887"
             ],
             [
              0.1111111111111111,
              "#46039f"
             ],
             [
              0.2222222222222222,
              "#7201a8"
             ],
             [
              0.3333333333333333,
              "#9c179e"
             ],
             [
              0.4444444444444444,
              "#bd3786"
             ],
             [
              0.5555555555555556,
              "#d8576b"
             ],
             [
              0.6666666666666666,
              "#ed7953"
             ],
             [
              0.7777777777777778,
              "#fb9f3a"
             ],
             [
              0.8888888888888888,
              "#fdca26"
             ],
             [
              1,
              "#f0f921"
             ]
            ],
            "type": "surface"
           }
          ],
          "table": [
           {
            "cells": {
             "fill": {
              "color": "#EBF0F8"
             },
             "line": {
              "color": "white"
             }
            },
            "header": {
             "fill": {
              "color": "#C8D4E3"
             },
             "line": {
              "color": "white"
             }
            },
            "type": "table"
           }
          ]
         },
         "layout": {
          "annotationdefaults": {
           "arrowcolor": "#2a3f5f",
           "arrowhead": 0,
           "arrowwidth": 1
          },
          "autotypenumbers": "strict",
          "coloraxis": {
           "colorbar": {
            "outlinewidth": 0,
            "ticks": ""
           }
          },
          "colorscale": {
           "diverging": [
            [
             0,
             "#8e0152"
            ],
            [
             0.1,
             "#c51b7d"
            ],
            [
             0.2,
             "#de77ae"
            ],
            [
             0.3,
             "#f1b6da"
            ],
            [
             0.4,
             "#fde0ef"
            ],
            [
             0.5,
             "#f7f7f7"
            ],
            [
             0.6,
             "#e6f5d0"
            ],
            [
             0.7,
             "#b8e186"
            ],
            [
             0.8,
             "#7fbc41"
            ],
            [
             0.9,
             "#4d9221"
            ],
            [
             1,
             "#276419"
            ]
           ],
           "sequential": [
            [
             0,
             "#0d0887"
            ],
            [
             0.1111111111111111,
             "#46039f"
            ],
            [
             0.2222222222222222,
             "#7201a8"
            ],
            [
             0.3333333333333333,
             "#9c179e"
            ],
            [
             0.4444444444444444,
             "#bd3786"
            ],
            [
             0.5555555555555556,
             "#d8576b"
            ],
            [
             0.6666666666666666,
             "#ed7953"
            ],
            [
             0.7777777777777778,
             "#fb9f3a"
            ],
            [
             0.8888888888888888,
             "#fdca26"
            ],
            [
             1,
             "#f0f921"
            ]
           ],
           "sequentialminus": [
            [
             0,
             "#0d0887"
            ],
            [
             0.1111111111111111,
             "#46039f"
            ],
            [
             0.2222222222222222,
             "#7201a8"
            ],
            [
             0.3333333333333333,
             "#9c179e"
            ],
            [
             0.4444444444444444,
             "#bd3786"
            ],
            [
             0.5555555555555556,
             "#d8576b"
            ],
            [
             0.6666666666666666,
             "#ed7953"
            ],
            [
             0.7777777777777778,
             "#fb9f3a"
            ],
            [
             0.8888888888888888,
             "#fdca26"
            ],
            [
             1,
             "#f0f921"
            ]
           ]
          },
          "colorway": [
           "#636efa",
           "#EF553B",
           "#00cc96",
           "#ab63fa",
           "#FFA15A",
           "#19d3f3",
           "#FF6692",
           "#B6E880",
           "#FF97FF",
           "#FECB52"
          ],
          "font": {
           "color": "#2a3f5f"
          },
          "geo": {
           "bgcolor": "white",
           "lakecolor": "white",
           "landcolor": "#E5ECF6",
           "showlakes": true,
           "showland": true,
           "subunitcolor": "white"
          },
          "hoverlabel": {
           "align": "left"
          },
          "hovermode": "closest",
          "mapbox": {
           "style": "light"
          },
          "paper_bgcolor": "white",
          "plot_bgcolor": "#E5ECF6",
          "polar": {
           "angularaxis": {
            "gridcolor": "white",
            "linecolor": "white",
            "ticks": ""
           },
           "bgcolor": "#E5ECF6",
           "radialaxis": {
            "gridcolor": "white",
            "linecolor": "white",
            "ticks": ""
           }
          },
          "scene": {
           "xaxis": {
            "backgroundcolor": "#E5ECF6",
            "gridcolor": "white",
            "gridwidth": 2,
            "linecolor": "white",
            "showbackground": true,
            "ticks": "",
            "zerolinecolor": "white"
           },
           "yaxis": {
            "backgroundcolor": "#E5ECF6",
            "gridcolor": "white",
            "gridwidth": 2,
            "linecolor": "white",
            "showbackground": true,
            "ticks": "",
            "zerolinecolor": "white"
           },
           "zaxis": {
            "backgroundcolor": "#E5ECF6",
            "gridcolor": "white",
            "gridwidth": 2,
            "linecolor": "white",
            "showbackground": true,
            "ticks": "",
            "zerolinecolor": "white"
           }
          },
          "shapedefaults": {
           "line": {
            "color": "#2a3f5f"
           }
          },
          "ternary": {
           "aaxis": {
            "gridcolor": "white",
            "linecolor": "white",
            "ticks": ""
           },
           "baxis": {
            "gridcolor": "white",
            "linecolor": "white",
            "ticks": ""
           },
           "bgcolor": "#E5ECF6",
           "caxis": {
            "gridcolor": "white",
            "linecolor": "white",
            "ticks": ""
           }
          },
          "title": {
           "x": 0.05
          },
          "xaxis": {
           "automargin": true,
           "gridcolor": "white",
           "linecolor": "white",
           "ticks": "",
           "title": {
            "standoff": 15
           },
           "zerolinecolor": "white",
           "zerolinewidth": 2
          },
          "yaxis": {
           "automargin": true,
           "gridcolor": "white",
           "linecolor": "white",
           "ticks": "",
           "title": {
            "standoff": 15
           },
           "zerolinecolor": "white",
           "zerolinewidth": 2
          }
         }
        },
        "xaxis": {
         "anchor": "y",
         "domain": [
          0,
          1
         ],
         "title": {
          "text": "value"
         }
        },
        "yaxis": {
         "anchor": "x",
         "domain": [
          0,
          1
         ],
         "title": {
          "text": "index"
         }
        }
       }
      }
     },
     "metadata": {},
     "output_type": "display_data"
    }
   ],
   "source": [
    "import plotly.express as px\n",
    "df = kpe_totals_df\n",
    "fig = px.bar(df, orientation='h')\n",
    "fig.show()"
   ]
  }
 ],
 "metadata": {
  "kernelspec": {
   "display_name": ".vev",
   "language": "python",
   "name": "python3"
  },
  "language_info": {
   "codemirror_mode": {
    "name": "ipython",
    "version": 3
   },
   "file_extension": ".py",
   "mimetype": "text/x-python",
   "name": "python",
   "nbconvert_exporter": "python",
   "pygments_lexer": "ipython3",
   "version": "3.9.13"
  }
 },
 "nbformat": 4,
 "nbformat_minor": 2
}
