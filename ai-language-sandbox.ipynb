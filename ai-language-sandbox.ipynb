{
 "cells": [
  {
   "cell_type": "code",
   "execution_count": 2,
   "metadata": {},
   "outputs": [
    {
     "name": "stdout",
     "output_type": "stream",
     "text": [
      "Endpoint is: https://ai-language-api.cognitiveservices.azure.com/, using key: f96efa13c3794cb4b0acf1bd782f0604\n"
     ]
    }
   ],
   "source": [
    "import json\n",
    "\n",
    "# Load in the API endpoint with keys from the JSON file. \n",
    "\n",
    "path = \"confidential\\\\\"\n",
    "file = \"keys.json\"\n",
    "\n",
    "# Opening JSON file containing Psalms\n",
    "f = open(path + file, encoding='utf-8')\n",
    " \n",
    "# returns JSON object as \n",
    "# a dictionary\n",
    "keys_file = json.load(f)\n",
    " \n",
    "\n",
    "# Closing file\n",
    "f.close()\n",
    "\n",
    "# Define the keys and endpoint. \n",
    "key = keys_file['key1']\n",
    "endpoint = keys_file['endpoint']\n",
    "\n",
    "print(f\"Endpoint is: {endpoint}, using key: {key}\")"
   ]
  },
  {
   "cell_type": "code",
   "execution_count": 3,
   "metadata": {},
   "outputs": [],
   "source": [
    "# This code is pasted from the MS Azure Walkthrough: \n",
    "# https://learn.microsoft.com/en-us/azure/ai-services/language-service/key-phrase-extraction/quickstart?pivots=programming-language-python\n",
    "\n",
    "# Here is the MS documentation for this libary: https://learn.microsoft.com/en-us/python/api/overview/azure/ai-textanalytics-readme?view=azure-python\n",
    "# And even more detailed here: https://learn.microsoft.com/en-us/python/api/azure-ai-textanalytics/azure.ai.textanalytics?view=azure-python\n",
    "from azure.ai.textanalytics import TextAnalyticsClient\n",
    "from azure.core.credentials import AzureKeyCredential\n",
    "\n",
    "# Authenticate the client using your key and endpoint \n",
    "def authenticate_client():\n",
    "    ta_credential = AzureKeyCredential(key)\n",
    "    text_analytics_client = TextAnalyticsClient(\n",
    "            endpoint=endpoint, \n",
    "            credential=ta_credential)\n",
    "    return text_analytics_client\n",
    "\n",
    "client = authenticate_client()\n"
   ]
  },
  {
   "cell_type": "code",
   "execution_count": 4,
   "metadata": {},
   "outputs": [
    {
     "name": "stdout",
     "output_type": "stream",
     "text": [
      "\tKey Phrases:\n",
      "\t\t modern medical office\n",
      "\t\t Dr. Smith\n",
      "\t\t great staff\n"
     ]
    },
    {
     "data": {
      "text/plain": [
       "[ExtractKeyPhrasesResult(id=0, key_phrases=['modern medical office', 'Dr. Smith', 'great staff'], warnings=[], statistics=TextDocumentStatistics(character_count=68, transaction_count=1), is_error=False),\n",
       " ExtractKeyPhrasesResult(id=1, key_phrases=['die'], warnings=[], statistics=TextDocumentStatistics(character_count=16, transaction_count=1), is_error=False),\n",
       " ExtractKeyPhrasesResult(id=2, key_phrases=['duty', 'consequences', 'God'], warnings=[], statistics=TextDocumentStatistics(character_count=37, transaction_count=1), is_error=False)]"
      ]
     },
     "execution_count": 4,
     "metadata": {},
     "output_type": "execute_result"
    }
   ],
   "source": [
    "# This code is pasted from the MS Azure Walkthrough: \n",
    "# https://learn.microsoft.com/en-us/azure/ai-services/language-service/key-phrase-extraction/quickstart?pivots=programming-language-python\n",
    "\n",
    "def key_phrase_extraction_example(client):\n",
    "\n",
    "    try:\n",
    "        documents = \"Dr. Smith has a very modern medical office, and she has great staff.\"\n",
    "\n",
    "        response_whole = client.extract_key_phrases(documents = documents ,show_stats=True)\n",
    "        response=response_whole[0]\n",
    "\n",
    "        if not response.is_error:\n",
    "            print(\"\\tKey Phrases:\")\n",
    "            for phrase in response.key_phrases:\n",
    "                print(\"\\t\\t\", phrase)\n",
    "            return response_whole\n",
    "        else:\n",
    "            print(response.id, response.error)\n",
    "\n",
    "    except Exception as err:\n",
    "        print(\"Encountered exception. {}\".format(err))\n",
    "        \n",
    "# The ExtractKeyPhrases object is described at this webpage: https://learn.microsoft.com/en-us/python/api/azure-ai-textanalytics/azure.ai.textanalytics.extractkeyphrasesresult?view=azure-python\n",
    "# It has the following attributes:\n",
    "# id:Unique, non-empty document identifier that matches the document id that was passed in with the request. If not specified in the request, an id is assigned for the document.\n",
    "# is_error: True or False. Boolean check for error item when iterating over list of results. Always False for an instance of a ExtractKeyPhrasesResult.\n",
    "# statistics: If show_stats=True was specified in the request this field will contain information about the document payload.\n",
    "\n",
    "key_phrase_extraction_example(client)"
   ]
  }
 ],
 "metadata": {
  "kernelspec": {
   "display_name": ".vev",
   "language": "python",
   "name": "python3"
  },
  "language_info": {
   "codemirror_mode": {
    "name": "ipython",
    "version": 3
   },
   "file_extension": ".py",
   "mimetype": "text/x-python",
   "name": "python",
   "nbconvert_exporter": "python",
   "pygments_lexer": "ipython3",
   "version": "3.9.13"
  }
 },
 "nbformat": 4,
 "nbformat_minor": 2
}
