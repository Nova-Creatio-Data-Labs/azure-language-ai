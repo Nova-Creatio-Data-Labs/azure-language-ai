{
 "cells": [
  {
   "cell_type": "code",
   "execution_count": null,
   "metadata": {},
   "outputs": [],
   "source": []
  },
  {
   "cell_type": "markdown",
   "metadata": {},
   "source": [
    "## Reading in Catholic Bible from JSON format\n",
    "\n",
    "The JSON version I downloaded from this Git: https://bitbucket.org/sbruno/cpdv-json-encoder/src/master/\n",
    "This webpage contains other versions: https://hackathon.bible/data/"
   ]
  },
  {
   "cell_type": "code",
   "execution_count": 20,
   "metadata": {},
   "outputs": [],
   "source": [
    "import pandas as pd\n",
    "import json\n",
    "\n",
    "datapath = \"datasets\\CPDV-JSON\\\\\"\n",
    "psalms_filename = \"OT-21_Psalms.json\"\n",
    "proverbs_filename = \"OT-22_Proverbs.json\"\n",
    "matthew_filename = \"NT-01_Matthew.json\"\n",
    "mark_filename = \"NT-02_Mark.json\"\n",
    "luke_filename = \"NT-03_Luke.json\"\n",
    "john_filename = \"NT-04_John.json\"\n"
   ]
  },
  {
   "cell_type": "code",
   "execution_count": 19,
   "metadata": {},
   "outputs": [
    {
     "name": "stdout",
     "output_type": "stream",
     "text": [
      "{'1': 'The parables of Solomon, son of David, king of Israel', '2': 'in order to know wisdom and discipline', '3': 'to understand words of prudence, and to accept the instruction of doctrine, justice and judgment, and equity', '4': 'so as to give discernment to little ones, knowledge and understanding to adolescents', '5': 'By listening, the wise shall become wiser and the intelligent shall possess governments', '6': 'He shall turn his soul to a parable and to its interpretation, to the words of the wise and their enigmas', '7': 'The fear of the Lord is the beginning of wisdom. The foolish despise wisdom as well as doctrine', '8': 'Listen, my son, to the discipline of your father, and forsake not the law of your mother', '9': 'so that grace may be added to your head and a collar to your neck', '10': 'My son, if sinners should entice you, do not consent to them', '11': 'If they should say: “Come with us. We will lie in wait for blood. We will lay traps against the innocent, without cause', '12': 'Let us swallow him alive, like Hell, and whole, like one descending into the pit', '13': 'We will discover every precious substance. We will fill our houses with spoils', '14': 'Cast your lot with us. One purse will be for us all.', '15': 'My son, do not walk with them. Preclude your feet from their paths', '16': 'For their feet rush to evil, and they hurry to shed blood', '17': 'But a net is thrown in vain before the eyes of those who have wings', '18': 'Likewise, they lie in ambush against their own blood, and they undertake deceits against their own souls', '19': 'Thus, the ways of all those who are greedy seize the souls of those who possess', '20': 'Wisdom forewarns far and wide; she bestows her voice in the streets', '21': 'She cries out at the head of crowds; at the entrance of the gates of the city, she offers her words, saying', '22': '“Little ones, how long will you choose to be childish, and how long will the foolish desire what is harmful to themselves, and how long will the imprudent hate knowledge', '23': 'Be converted by my correction. Lo, I will offer my spirit to you, and I will reveal my words to you', '24': 'For I called, and you refused. I extended my hand, and there was no one who watched', '25': 'You have despised all my counsels, and you have neglected my rebukes', '26': 'Similarly, I will ridicule you at your demise, and I will mock you, when that which you feared shall overcome you', '27': 'When sudden calamity rushes upon you, and your demise advances like a tempest, when tribulation and anguish overcome you', '28': 'then they will call to me, and I will not heed, they will arise in the morning, and not find me', '29': 'For they held hatred for discipline, and they would not accept the fear of the Lord', '30': 'they would not consent to my counsel, but they detracted from all of my corrections', '31': 'Therefore, they shall eat the fruit of their way, and they shall have their fill of their own counsels', '32': 'The loathing of the little ones shall destroy them, and the prosperity of the foolish shall perish them', '33': 'But whoever will listen to me shall rest without terror, and shall have full enjoyment of abundance, without fear of evils.'}\n"
     ]
    }
   ],
   "source": [
    "# Opening JSON file containing Psalms\n",
    "f = open(datapath + proverbs_filename, encoding='utf-8')\n",
    " \n",
    "# returns JSON object as \n",
    "# a dictionary\n",
    "psalms_data = json.load(f)\n",
    " \n",
    "\n",
    "# Closing file\n",
    "f.close()\n",
    "\n",
    "print(psalms_data['1'])"
   ]
  },
  {
   "cell_type": "code",
   "execution_count": 21,
   "metadata": {},
   "outputs": [
    {
     "name": "stdout",
     "output_type": "stream",
     "text": [
      "{'1': 'In the beginning was the Word, and the Word was with God, and God was the Word', '2': 'He was with God in the beginning', '3': 'All things were made through Him, and nothing that was made was made without Him', '4': 'Life was in Him, and Life was the light of men', '5': 'And the light shines in the darkness, and the darkness did not comprehend it', '6': 'There was a man sent by God, whose name was John', '7': 'He arrived as a witness to offer testimony about the Light, so that all would believe through him', '8': 'He was not the Light, but he was to offer testimony about the Light', '9': 'The true Light, which illuminates every man, was coming into this world', '10': 'He was in the world, and the world was made through him, and the world did not recognize him', '11': 'He went to his own, and his own did not accept him', '12': 'Yet whoever did accept him, those who believed in his name, he gave them the power to become the sons of God', '13': 'These are born, not of blood, nor of the will of flesh, nor of the will of man, but of God', '14': 'And the Word became flesh, and he lived among us, and we saw his glory, glory like that of an only-begotten son from the Father, full of grace and truth', '15': 'John offers testimony about him, and he cries out, saying: “This is the one about whom I said: ‘He who is to come after me, has been placed ahead of me, because he existed before me.’ ', '16': 'And from his fullness, we all have received, even grace for grace', '17': 'For the law was given though Moses, but grace and truth came through Jesus Christ', '18': 'No one ever saw God; the only-begotten Son, who is in the bosom of the Father, he himself has described him', '19': 'And this is the testimony of John, when the Jews sent priests and Levites from Jerusalem to him, so that they might ask him, “Who are you?', '20': 'And he confessed it and did not deny it; and what he confessed was: “I am not the Christ.', '21': 'And they questioned him: “Then what are you? Are you Elijah?” And he said, “I am not.” “Are you the Prophet?” And he answered, “No.', '22': 'Therefore, they said to him: “Who are you, so that we may give an answer to those who sent us? What do you say about yourself?', '23': 'He said, “I am a voice crying out in the desert, ‘Make straight the way of the Lord,’ just as the prophet Isaiah said.', '24': 'And some of those who had been sent were from among the Pharisees', '25': 'And they questioned him and said to him, “Then why do you baptize, if you are not the Christ, and not Elijah, and not the Prophet?', '26': 'John answered them by saying: “I baptize with water. But in your midst stands one, whom you do not know', '27': 'The same is he who is to come after me, who has been placed ahead of me, the laces of whose shoes I am not worthy to loosen.', '28': 'These things happened in Bethania, across the Jordan, where John was baptizing', '29': 'On the next day, John saw Jesus coming toward him, and so he said: “Behold, the Lamb of God. Behold, he who takes away the sin of the world', '30': 'This is the one about whom I said, ‘After me arrives a man, who has been placed ahead of me, because he existed before me.', '31': 'And I did not know him. Yet it is for this reason that I come baptizing with water: so that he may be made manifest in Israel.', '32': 'And John offered testimony, saying: “For I saw the Spirit descending from heaven like a dove; and he remained upon him', '33': 'And I did not know him. But he who sent me to baptize with water said to me: ‘He over whom you will see the Spirit descending and remaining upon him, this is the one who baptizes with the Holy Spirit.', '34': 'And I saw, and I gave testimony: that this one is the Son of God.', '35': 'The next day again, John was standing with two of his disciples', '36': 'And catching sight of Jesus walking, he said, “Behold, the Lamb of God.', '37': 'And two disciples were listening to him speaking. And they followed Jesus', '38': 'Then Jesus, turning around and seeing them following him, said to them, “What are you seeking?” And they said to him, “Rabbi (which means in translation, Teacher), where do you live?', '39': 'He said to them, “Come and see.” They went and saw where he was staying, and they stayed with him that day. Now it was about the tenth hour', '40': 'And Andrew, the brother of Simon Peter, was one of the two who had heard about him from John and had followed him', '41': 'First, he found his brother Simon, and he said to him, “We have found the Messiah,” (which is translated as the Christ)', '42': 'And he led him to Jesus. And Jesus, gazing at him, said: “You are Simon, son of Jonah. You shall be called Cephas,” (which is translated as Peter)', '43': 'On the next day, he wanted to go into Galilee, and he found Philip. And Jesus said to him, “Follow me.', '44': 'Now Philip was from Bethsaida, the city of Andrew and Peter', '45': 'Philip found Nathanael, and he said to him, “We have found the one about whom Moses wrote in the Law and the Prophets: Jesus, the son of Joseph, from Nazareth.', '46': 'And Nathanael said to him, “Can anything good be from Nazareth?” Philip said to him, “Come and see.', '47': 'Jesus saw Nathanael coming toward him, and he said about him, “Behold, an Israelite in whom truly there is no deceit.', '48': 'Nathanael said to him, “From where do you know me?” Jesus responded and said to him, “Before Philip called you, when you were under the fig tree, I saw you.', '49': 'Nathanael answered him and said: “Rabbi, you are the Son of God. You are the King of Israel.', '50': 'Jesus responded and said to him: “Because I told you that I saw you under the fig tree, you believe. Greater things than these, you will see.', '51': 'And he said to him, “Amen, amen, I say to you, you will see heaven opened, and the Angels of God ascending and descending over the Son of man.'}\n"
     ]
    }
   ],
   "source": [
    "# Opening JSON file containing John\n",
    "f = open(datapath + john_filename, encoding='utf-8')\n",
    " \n",
    "# returns JSON object as \n",
    "# a dictionary\n",
    "john_data = json.load(f)\n",
    " \n",
    "\n",
    "# Closing file\n",
    "f.close()\n",
    "\n",
    "print(john_data['1'])"
   ]
  }
 ],
 "metadata": {
  "kernelspec": {
   "display_name": ".vev",
   "language": "python",
   "name": "python3"
  },
  "language_info": {
   "codemirror_mode": {
    "name": "ipython",
    "version": 3
   },
   "file_extension": ".py",
   "mimetype": "text/x-python",
   "name": "python",
   "nbconvert_exporter": "python",
   "pygments_lexer": "ipython3",
   "version": "3.9.13"
  }
 },
 "nbformat": 4,
 "nbformat_minor": 2
}
